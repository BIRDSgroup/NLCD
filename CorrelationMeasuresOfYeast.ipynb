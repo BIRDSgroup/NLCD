{
 "cells": [
  {
   "cell_type": "code",
   "execution_count": 9,
   "id": "b4c95a13",
   "metadata": {},
   "outputs": [],
   "source": [
    "#loading yeast groundtruth 0 data\n",
    "yeast=open(\"../yeast_full_data/yeast_residual_data_full_62k_gt1.txt\",\"r\")\n",
    "\n",
    "\n",
    "\n",
    "#yeast data read \n",
    "L=[]\n",
    "A=[]\n",
    "B=[]\n",
    "for i in range(0,62296):\n",
    "    line=yeast.readline()\n",
    "    #line=line[1:-2] #remove double quotes \n",
    "    #param = [j for j in line.split()]\n",
    "    #print(param)\n",
    "    #chrname.append(param[1])\n",
    "    #g1.append(param[2])\n",
    "    #g2.append(param[3])\n",
    "    line=yeast.readline()\n",
    "    l = [j for j in line.split()]\n",
    "    L.append([int(i) for i in l])\n",
    "    line=yeast.readline()\n",
    "    a = [j for j in line.split()]\n",
    "    A.append([float(i) for i in a])\n",
    "    line=yeast.readline()\n",
    "    b = [j for j in line.split()]\n",
    "    B.append([float(i) for i in b])\n",
    "dataset_0 = [i for i in zip(L,A,B)]\n"
   ]
  },
  {
   "cell_type": "code",
   "execution_count": 18,
   "id": "9d7af620",
   "metadata": {},
   "outputs": [],
   "source": [
    "\n",
    "from tensorflow_probability import distributions as tfd\n",
    "import tensorflow as tf\n",
    "from tensorflow.keras.layers import Input, Dense, Activation, Concatenate\n",
    "\n",
    "from sklearn.linear_model import LinearRegression\n",
    "from sklearn.model_selection import train_test_split\n",
    "from sklearn.preprocessing import MinMaxScaler\n",
    "from sklearn.datasets import load_boston\n",
    "from sklearn.linear_model import LinearRegression\n",
    "import matplotlib.pyplot as plt\n",
    "import seaborn as sns\n",
    "import random\n",
    "import numpy as np\n",
    "import statsmodels.api as sm\n",
    "import pickle\n",
    "import wandb\n",
    "from sklearn.feature_selection import mutual_info_regression\n",
    "from scipy import stats\n",
    "import pandas as pd "
   ]
  },
  {
   "cell_type": "code",
   "execution_count": 5,
   "id": "5eb968d6",
   "metadata": {},
   "outputs": [
    {
     "name": "stderr",
     "output_type": "stream",
     "text": [
      "R[write to console]: Error in loadNamespace(name) : there is no package called ‘nlcor’\n",
      "Calls: <Anonymous> ... loadNamespace -> withRestarts -> withOneRestart -> doWithOneRestart\n",
      "\n"
     ]
    },
    {
     "ename": "RRuntimeError",
     "evalue": "Error in loadNamespace(name) : there is no package called ‘nlcor’\nCalls: <Anonymous> ... loadNamespace -> withRestarts -> withOneRestart -> doWithOneRestart\n",
     "output_type": "error",
     "traceback": [
      "\u001b[0;31m---------------------------------------------------------------------------\u001b[0m",
      "\u001b[0;31mRRuntimeError\u001b[0m                             Traceback (most recent call last)",
      "Input \u001b[0;32mIn [5]\u001b[0m, in \u001b[0;36m<cell line: 3>\u001b[0;34m()\u001b[0m\n\u001b[1;32m      1\u001b[0m \u001b[38;5;28;01mfrom\u001b[39;00m \u001b[38;5;21;01mrpy2\u001b[39;00m\u001b[38;5;21;01m.\u001b[39;00m\u001b[38;5;21;01mrobjects\u001b[39;00m\u001b[38;5;21;01m.\u001b[39;00m\u001b[38;5;21;01mpackages\u001b[39;00m \u001b[38;5;28;01mimport\u001b[39;00m importr\n\u001b[1;32m      2\u001b[0m \u001b[38;5;28;01mimport\u001b[39;00m \u001b[38;5;21;01mrpy2\u001b[39;00m\u001b[38;5;21;01m.\u001b[39;00m\u001b[38;5;21;01mrobjects\u001b[39;00m\u001b[38;5;21;01m.\u001b[39;00m\u001b[38;5;21;01mpackages\u001b[39;00m \u001b[38;5;28;01mas\u001b[39;00m \u001b[38;5;21;01mrpackages\u001b[39;00m\n\u001b[0;32m----> 3\u001b[0m nlcor\u001b[38;5;241m=\u001b[39m\u001b[43mimportr\u001b[49m\u001b[43m(\u001b[49m\u001b[38;5;124;43m'\u001b[39;49m\u001b[38;5;124;43mnlcor\u001b[39;49m\u001b[38;5;124;43m'\u001b[39;49m\u001b[43m)\u001b[49m\n\u001b[1;32m      4\u001b[0m \u001b[38;5;28;01mimport\u001b[39;00m \u001b[38;5;21;01mrpy2\u001b[39;00m\u001b[38;5;21;01m.\u001b[39;00m\u001b[38;5;21;01mrobjects\u001b[39;00m\u001b[38;5;21;01m.\u001b[39;00m\u001b[38;5;21;01mnumpy2ri\u001b[39;00m\n\u001b[1;32m      5\u001b[0m rpy2\u001b[38;5;241m.\u001b[39mrobjects\u001b[38;5;241m.\u001b[39mnumpy2ri\u001b[38;5;241m.\u001b[39mactivate()\n",
      "File \u001b[0;32m~/anaconda3/lib/python3.9/site-packages/rpy2/robjects/packages.py:477\u001b[0m, in \u001b[0;36mimportr\u001b[0;34m(name, lib_loc, robject_translations, signature_translation, suppress_messages, on_conflict, symbol_r2python, symbol_resolve, data)\u001b[0m\n\u001b[1;32m    474\u001b[0m     \u001b[38;5;28;01mraise\u001b[39;00m LibraryError(\u001b[38;5;124m\"\u001b[39m\u001b[38;5;124mThe R package \u001b[39m\u001b[38;5;132;01m%s\u001b[39;00m\u001b[38;5;124m could not be imported\u001b[39m\u001b[38;5;124m\"\u001b[39m \u001b[38;5;241m%\u001b[39m name)\n\u001b[1;32m    475\u001b[0m \u001b[38;5;28;01mif\u001b[39;00m _package_has_namespace(rname,\n\u001b[1;32m    476\u001b[0m                           _system_file(package\u001b[38;5;241m=\u001b[39mrname)):\n\u001b[0;32m--> 477\u001b[0m     env \u001b[38;5;241m=\u001b[39m \u001b[43m_get_namespace\u001b[49m\u001b[43m(\u001b[49m\u001b[43mrname\u001b[49m\u001b[43m)\u001b[49m\n\u001b[1;32m    478\u001b[0m     version \u001b[38;5;241m=\u001b[39m _get_namespace_version(rname)[\u001b[38;5;241m0\u001b[39m]\n\u001b[1;32m    479\u001b[0m     exported_names \u001b[38;5;241m=\u001b[39m \u001b[38;5;28mset\u001b[39m(_get_namespace_exports(rname))\n",
      "File \u001b[0;32m~/anaconda3/lib/python3.9/site-packages/rpy2/rinterface_lib/conversion.py:28\u001b[0m, in \u001b[0;36m_cdata_res_to_rinterface.<locals>._\u001b[0;34m(*args, **kwargs)\u001b[0m\n\u001b[1;32m     27\u001b[0m \u001b[38;5;28;01mdef\u001b[39;00m \u001b[38;5;21m_\u001b[39m(\u001b[38;5;241m*\u001b[39margs, \u001b[38;5;241m*\u001b[39m\u001b[38;5;241m*\u001b[39mkwargs):\n\u001b[0;32m---> 28\u001b[0m     cdata \u001b[38;5;241m=\u001b[39m \u001b[43mfunction\u001b[49m\u001b[43m(\u001b[49m\u001b[38;5;241;43m*\u001b[39;49m\u001b[43margs\u001b[49m\u001b[43m,\u001b[49m\u001b[43m \u001b[49m\u001b[38;5;241;43m*\u001b[39;49m\u001b[38;5;241;43m*\u001b[39;49m\u001b[43mkwargs\u001b[49m\u001b[43m)\u001b[49m\n\u001b[1;32m     29\u001b[0m     \u001b[38;5;66;03m# TODO: test cdata is of the expected CType\u001b[39;00m\n\u001b[1;32m     30\u001b[0m     \u001b[38;5;28;01mreturn\u001b[39;00m _cdata_to_rinterface(cdata)\n",
      "File \u001b[0;32m~/anaconda3/lib/python3.9/site-packages/rpy2/rinterface.py:785\u001b[0m, in \u001b[0;36mSexpClosure.__call__\u001b[0;34m(self, *args, **kwargs)\u001b[0m\n\u001b[1;32m    779\u001b[0m     res \u001b[38;5;241m=\u001b[39m rmemory\u001b[38;5;241m.\u001b[39mprotect(\n\u001b[1;32m    780\u001b[0m         openrlib\u001b[38;5;241m.\u001b[39mrlib\u001b[38;5;241m.\u001b[39mR_tryEval(\n\u001b[1;32m    781\u001b[0m             call_r,\n\u001b[1;32m    782\u001b[0m             embedded\u001b[38;5;241m.\u001b[39mglobalenv\u001b[38;5;241m.\u001b[39m__sexp__\u001b[38;5;241m.\u001b[39m_cdata,\n\u001b[1;32m    783\u001b[0m             error_occured))\n\u001b[1;32m    784\u001b[0m     \u001b[38;5;28;01mif\u001b[39;00m error_occured[\u001b[38;5;241m0\u001b[39m]:\n\u001b[0;32m--> 785\u001b[0m         \u001b[38;5;28;01mraise\u001b[39;00m embedded\u001b[38;5;241m.\u001b[39mRRuntimeError(_rinterface\u001b[38;5;241m.\u001b[39m_geterrmessage())\n\u001b[1;32m    786\u001b[0m \u001b[38;5;28;01mreturn\u001b[39;00m res\n",
      "\u001b[0;31mRRuntimeError\u001b[0m: Error in loadNamespace(name) : there is no package called ‘nlcor’\nCalls: <Anonymous> ... loadNamespace -> withRestarts -> withOneRestart -> doWithOneRestart\n"
     ]
    }
   ],
   "source": [
    "from rpy2.robjects.packages import importr\n",
    "import rpy2.robjects.packages as rpackages\n",
    "nlcor=importr('nlcor')\n",
    "import rpy2.robjects.numpy2ri\n",
    "rpy2.robjects.numpy2ri.activate()"
   ]
  },
  {
   "cell_type": "code",
   "execution_count": 44,
   "id": "eea075a9",
   "metadata": {},
   "outputs": [],
   "source": [
    "    df = pd.DataFrame(columns = ['Dataset', 'pearson','spearman','Mututal_info','nlcor'])"
   ]
  },
  {
   "cell_type": "code",
   "execution_count": 48,
   "id": "ef5c7d4d",
   "metadata": {},
   "outputs": [
    {
     "name": "stdout",
     "output_type": "stream",
     "text": [
      "0.021745296144672466 0.16964876666436685 0.17147485863821504\n",
      "0.010304239716339758 -0.13554836491672462 -0.11976821693575485\n",
      "0 -0.06400082029058604 -0.06677299098785569\n",
      "0.015201856132591729 -0.20337320189340685 -0.20448573507789206\n",
      "0.08311806790451293 0.29932015384199817 0.3316705345960123\n",
      "0.0507694507615124 -0.2812016173368267 -0.2845256344469278\n",
      "0.05355113535303424 0.016529605574511795 0.036054369913869934\n",
      "0.023220620581633877 -0.16470918117949493 -0.17338795871223836\n",
      "0.004441219545626041 0.005407529030567577 0.0018370302656916615\n",
      "0 0.05183200720190311 0.06593735785677517\n"
     ]
    }
   ],
   "source": [
    "for i in range(len(dataset_0[0:10])):\n",
    "    A = np.array(dataset_0[i][1])\n",
    "    B = np.array(dataset_0[i][2])\n",
    "    loss_mutual=mutual_info_regression(A.reshape(-1,1),B)[0]\n",
    "    loss_spear=stats.spearmanr(A,B)[0]\n",
    "    loss_pear=stats.pearsonr(A,B)[0]\n",
    "    #print(loss_mutual,loss_spear,loss_pear)\n",
    "    loss_nlcor=np.array(nlcor.nlcor(A,B)[0])[0]\n",
    "    df.loc[i] = [i]+ [loss_pear]+[loss_spear]+[loss_mutual]+[loss_nlcor]\n",
    "    "
   ]
  },
  {
   "cell_type": "code",
   "execution_count": 52,
   "id": "466523f2",
   "metadata": {},
   "outputs": [],
   "source": [
    "df.to_csv(\"Gt1_full_corr.csv\")"
   ]
  }
 ],
 "metadata": {
  "kernelspec": {
   "display_name": "Python 3 (ipykernel)",
   "language": "python",
   "name": "python3"
  },
  "language_info": {
   "codemirror_mode": {
    "name": "ipython",
    "version": 3
   },
   "file_extension": ".py",
   "mimetype": "text/x-python",
   "name": "python",
   "nbconvert_exporter": "python",
   "pygments_lexer": "ipython3",
   "version": "3.9.7"
  }
 },
 "nbformat": 4,
 "nbformat_minor": 5
}
