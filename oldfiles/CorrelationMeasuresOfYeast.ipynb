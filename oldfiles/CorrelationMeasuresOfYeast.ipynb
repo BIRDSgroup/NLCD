{
 "cells": [
  {
   "cell_type": "code",
   "execution_count": null,
   "id": "b4c95a13",
   "metadata": {},
   "outputs": [],
   "source": [
    "#loading yeast groundtruth 0 data\n",
    "yeast=open(\"../yeast_full_data/yeast_residual_data_full_62k_gt1.txt\",\"r\")\n",
    "\n",
    "\n",
    "\n",
    "#yeast data read \n",
    "L=[]\n",
    "A=[]\n",
    "B=[]\n",
    "for i in range(0,62296):\n",
    "    line=yeast.readline()\n",
    "    #line=line[1:-2] #remove double quotes \n",
    "    #param = [j for j in line.split()]\n",
    "    #print(param)\n",
    "    #chrname.append(param[1])\n",
    "    #g1.append(param[2])\n",
    "    #g2.append(param[3])\n",
    "    line=yeast.readline()\n",
    "    l = [j for j in line.split()]\n",
    "    L.append([int(i) for i in l])\n",
    "    line=yeast.readline()\n",
    "    a = [j for j in line.split()]\n",
    "    A.append([float(i) for i in a])\n",
    "    line=yeast.readline()\n",
    "    b = [j for j in line.split()]\n",
    "    B.append([float(i) for i in b])\n",
    "dataset_0 = [i for i in zip(L,A,B)]\n"
   ]
  },
  {
   "cell_type": "code",
   "execution_count": null,
   "id": "6c860b22",
   "metadata": {},
   "outputs": [],
   "source": [
    "!pip install pyreadr"
   ]
  },
  {
   "cell_type": "code",
   "execution_count": null,
   "id": "5541fa4e",
   "metadata": {},
   "outputs": [],
   "source": [
    "from rpy import *"
   ]
  },
  {
   "cell_type": "code",
   "execution_count": null,
   "id": "12e35735",
   "metadata": {},
   "outputs": [],
   "source": [
    "import rpy2.robjects as robjects\n",
    "df=robjects.r['load'](\"Indep10k.RData\")"
   ]
  },
  {
   "cell_type": "code",
   "execution_count": null,
   "id": "e84b7cc6",
   "metadata": {},
   "outputs": [],
   "source": [
    "result = pyreadr.read_r('Indep10k.rds')\n"
   ]
  },
  {
   "cell_type": "code",
   "execution_count": null,
   "id": "0bbb60be",
   "metadata": {},
   "outputs": [],
   "source": [
    "result.keys()"
   ]
  },
  {
   "cell_type": "code",
   "execution_count": null,
   "id": "784c0509",
   "metadata": {},
   "outputs": [],
   "source": [
    "import rpy2.robjects as robjects\n",
    "from rpy2.robjects import pandas2ri\n",
    "pandas2ri.activate()\n",
    "\n",
    "readRDS = robjects.r['readRDS']\n",
    "df = readRDS('Indep10k.rds')"
   ]
  },
  {
   "cell_type": "code",
   "execution_count": null,
   "id": "994deb4d",
   "metadata": {},
   "outputs": [],
   "source": [
    "df=pandas2ri.ri2py(df)"
   ]
  },
  {
   "cell_type": "code",
   "execution_count": null,
   "id": "5604098b",
   "metadata": {},
   "outputs": [],
   "source": [
    "robjects.r['df']['0']"
   ]
  },
  {
   "cell_type": "code",
   "execution_count": null,
   "id": "3756347e",
   "metadata": {},
   "outputs": [],
   "source": [
    "rpy2.load(\"Indep10k.RData\")"
   ]
  },
  {
   "cell_type": "code",
   "execution_count": null,
   "id": "cced6a24",
   "metadata": {},
   "outputs": [],
   "source": [
    "result = pyreadr.read_r('./Indep10k.RData')"
   ]
  },
  {
   "cell_type": "code",
   "execution_count": null,
   "id": "3440a8cf",
   "metadata": {},
   "outputs": [],
   "source": [
    "print(result.keys())\n"
   ]
  },
  {
   "cell_type": "code",
   "execution_count": null,
   "id": "e3ee5d9b",
   "metadata": {},
   "outputs": [],
   "source": [
    "result[]"
   ]
  },
  {
   "cell_type": "code",
   "execution_count": null,
   "id": "900102e7",
   "metadata": {},
   "outputs": [],
   "source": [
    "import random\n",
    "import pickle\n",
    "#indices=random.sample(range(0,62296), 10000)"
   ]
  },
  {
   "cell_type": "code",
   "execution_count": null,
   "id": "3bb8b0e9",
   "metadata": {},
   "outputs": [],
   "source": [
    "#indices=random.sample(range(0,209157), 10000)"
   ]
  },
  {
   "cell_type": "code",
   "execution_count": null,
   "id": "23cb2718",
   "metadata": {},
   "outputs": [],
   "source": [
    "open_file = open(\"indicesUsedIndependent.pkl\", \"wb\")\n",
    "pickle.dump(indices, open_file)\n",
    "#open_file.close()"
   ]
  },
  {
   "cell_type": "code",
   "execution_count": null,
   "id": "3464db29",
   "metadata": {},
   "outputs": [],
   "source": [
    "read_file = open(\"indicesUsedIndependent.pkl\", \"rb\")\n",
    "a=pickle.load(read_file)\n",
    "read_file.close()"
   ]
  },
  {
   "cell_type": "code",
   "execution_count": null,
   "id": "9d7af620",
   "metadata": {},
   "outputs": [],
   "source": [
    "\n",
    "from tensorflow_probability import distributions as tfd\n",
    "import tensorflow as tf\n",
    "from tensorflow.keras.layers import Input, Dense, Activation, Concatenate\n",
    "\n",
    "from sklearn.linear_model import LinearRegression\n",
    "from sklearn.model_selection import train_test_split\n",
    "from sklearn.preprocessing import MinMaxScaler\n",
    "from sklearn.datasets import load_boston\n",
    "from sklearn.linear_model import LinearRegression\n",
    "import matplotlib.pyplot as plt\n",
    "import seaborn as sns\n",
    "import random\n",
    "import numpy as np\n",
    "import statsmodels.api as sm\n",
    "import pickle\n",
    "import wandb\n",
    "from sklearn.feature_selection import mutual_info_regression\n",
    "from scipy import stats\n",
    "import pandas as pd "
   ]
  },
  {
   "cell_type": "code",
   "execution_count": null,
   "id": "5eb968d6",
   "metadata": {},
   "outputs": [],
   "source": [
    "from rpy2.robjects.packages import importr\n",
    "import rpy2.robjects.packages as rpackages\n",
    "nlcor=importr('nlcor')\n",
    "import rpy2.robjects.numpy2ri\n",
    "rpy2.robjects.numpy2ri.activate()"
   ]
  },
  {
   "cell_type": "code",
   "execution_count": null,
   "id": "eea075a9",
   "metadata": {},
   "outputs": [],
   "source": [
    "    df = pd.DataFrame(columns = ['Dataset', 'pearson','spearman','Mututal_info','nlcor'])"
   ]
  },
  {
   "cell_type": "code",
   "execution_count": null,
   "id": "ef5c7d4d",
   "metadata": {},
   "outputs": [],
   "source": [
    "for i in range(len(dataset_0[0:10])):\n",
    "    A = np.array(dataset_0[i][1])\n",
    "    B = np.array(dataset_0[i][2])\n",
    "    loss_mutual=mutual_info_regression(A.reshape(-1,1),B)[0]\n",
    "    loss_spear=stats.spearmanr(A,B)[0]\n",
    "    loss_pear=stats.pearsonr(A,B)[0]\n",
    "    #print(loss_mutual,loss_spear,loss_pear)\n",
    "    loss_nlcor=np.array(nlcor.nlcor(A,B)[0])[0]\n",
    "    df.loc[i] = [i]+ [loss_pear]+[loss_spear]+[loss_mutual]+[loss_nlcor]\n",
    "    "
   ]
  },
  {
   "cell_type": "code",
   "execution_count": null,
   "id": "466523f2",
   "metadata": {},
   "outputs": [],
   "source": [
    "df.to_csv(\"Gt1_full_corr.csv\")"
   ]
  }
 ],
 "metadata": {
  "kernelspec": {
   "display_name": "Python 3 (ipykernel)",
   "language": "python",
   "name": "python3"
  },
  "language_info": {
   "codemirror_mode": {
    "name": "ipython",
    "version": 3
   },
   "file_extension": ".py",
   "mimetype": "text/x-python",
   "name": "python",
   "nbconvert_exporter": "python",
   "pygments_lexer": "ipython3",
   "version": "3.9.7"
  }
 },
 "nbformat": 4,
 "nbformat_minor": 5
}
