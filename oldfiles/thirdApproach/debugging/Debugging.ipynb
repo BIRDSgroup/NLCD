{
 "cells": [
  {
   "cell_type": "code",
   "execution_count": 9,
   "id": "317f4ba4",
   "metadata": {},
   "outputs": [],
   "source": [
    "import numpy as np\n",
    "from matplotlib import pyplot as plt"
   ]
  },
  {
   "cell_type": "code",
   "execution_count": 26,
   "id": "b73cb280",
   "metadata": {},
   "outputs": [],
   "source": [
    "L=np.random.binomial(1,0.5,1000)"
   ]
  },
  {
   "cell_type": "code",
   "execution_count": 30,
   "id": "399705f1",
   "metadata": {},
   "outputs": [
    {
     "data": {
      "text/plain": [
       "array([0, 1, 1, 1, 1, 1, 1, 0, 1, 0, 0, 1, 0, 0, 0, 1, 0, 0, 1, 0, 0, 1,\n",
       "       1, 1, 1, 1, 1, 1, 0, 1, 0, 1, 0, 0, 0, 1, 0, 1, 1, 0, 1, 0, 1, 0,\n",
       "       0, 1, 0, 0, 0, 0, 0, 0, 0, 0, 0, 1, 0, 0, 0, 0, 1, 0, 1, 0, 0, 0,\n",
       "       0, 1, 0, 1, 0, 0, 1, 0, 1, 0, 1, 1, 1, 1, 1, 0, 1, 0, 0, 1, 0, 1,\n",
       "       0, 1, 0, 1, 0, 0, 0, 0, 1, 1, 0, 1, 1, 0, 0, 1, 1, 0, 0, 1, 1, 1,\n",
       "       1, 1, 0, 1, 0, 0, 0, 1, 1, 0, 1, 0, 1, 1, 0, 0, 1, 0, 0, 0, 1, 0,\n",
       "       0, 0, 1, 0, 1, 1, 1, 1, 1, 0, 1, 0, 1, 0, 1, 0, 0, 1, 0, 0, 0, 0,\n",
       "       0, 1, 0, 1, 1, 1, 1, 1, 1, 1, 1, 1, 0, 0, 0, 1, 0, 1, 0, 1, 0, 1,\n",
       "       1, 0, 0, 0, 0, 0, 1, 1, 1, 0, 0, 0, 1, 1, 1, 1, 0, 0, 1, 0, 0, 0,\n",
       "       0, 0, 1, 1, 1, 0, 0, 1, 1, 1, 0, 1, 1, 1, 0, 0, 1, 1, 0, 1, 1, 1,\n",
       "       1, 0, 0, 0, 0, 0, 1, 1, 0, 0, 0, 0, 0, 0, 1, 1, 0, 1, 1, 0, 1, 1,\n",
       "       0, 1, 1, 1, 0, 1, 1, 1, 0, 1, 0, 1, 1, 0, 0, 0, 0, 0, 0, 1, 0, 1,\n",
       "       1, 0, 0, 0, 0, 0, 1, 1, 0, 1, 1, 1, 1, 1, 0, 0, 0, 0, 1, 1, 0, 0,\n",
       "       1, 1, 1, 1, 0, 0, 1, 1, 0, 1, 1, 0, 1, 0, 1, 0, 0, 1, 1, 1, 1, 0,\n",
       "       0, 1, 0, 1, 1, 1, 1, 0, 1, 0, 1, 1, 1, 0, 0, 0, 1, 1, 1, 1, 1, 0,\n",
       "       1, 1, 0, 1, 1, 0, 1, 0, 0, 1, 0, 0, 0, 0, 1, 0, 0, 1, 0, 0, 1, 0,\n",
       "       0, 1, 0, 1, 1, 0, 1, 0, 1, 1, 1, 1, 0, 0, 0, 1, 1, 0, 0, 0, 0, 0,\n",
       "       0, 1, 0, 1, 0, 0, 1, 0, 1, 0, 1, 0, 0, 1, 1, 1, 1, 0, 1, 0, 0, 0,\n",
       "       0, 0, 0, 1, 0, 1, 0, 1, 1, 0, 1, 0, 1, 1, 1, 0, 0, 0, 1, 1, 1, 1,\n",
       "       0, 1, 1, 1, 0, 0, 1, 1, 1, 0, 0, 0, 0, 1, 1, 1, 1, 0, 0, 1, 1, 1,\n",
       "       1, 1, 0, 0, 1, 1, 0, 0, 0, 0, 0, 0, 1, 1, 1, 0, 0, 0, 1, 0, 0, 1,\n",
       "       1, 0, 1, 0, 1, 0, 0, 0, 0, 1, 1, 0, 0, 1, 1, 1, 1, 0, 1, 0, 1, 0,\n",
       "       0, 1, 0, 1, 1, 1, 0, 0, 0, 0, 1, 1, 1, 1, 0, 1, 0, 1, 0, 1, 1, 0,\n",
       "       1, 0, 1, 0, 1, 0, 1, 1, 0, 1, 0, 0, 0, 0, 0, 1, 1, 1, 1, 1, 1, 1,\n",
       "       0, 1, 1, 0, 1, 0, 1, 0, 1, 0, 0, 0, 1, 0, 0, 1, 0, 1, 0, 0, 0, 0,\n",
       "       1, 1, 0, 1, 1, 1, 0, 0, 0, 1, 0, 0, 1, 1, 0, 1, 0, 1, 1, 1, 1, 1,\n",
       "       1, 0, 0, 0, 1, 0, 0, 0, 0, 0, 0, 0, 1, 1, 0, 0, 1, 1, 0, 1, 0, 0,\n",
       "       0, 0, 1, 1, 0, 0, 1, 1, 0, 1, 1, 1, 0, 0, 1, 0, 1, 1, 0, 0, 1, 0,\n",
       "       0, 0, 1, 1, 0, 1, 0, 1, 1, 1, 1, 0, 1, 0, 1, 0, 1, 0, 0, 0, 1, 1,\n",
       "       1, 1, 0, 1, 1, 0, 0, 0, 0, 0, 0, 1, 1, 0, 1, 0, 1, 1, 0, 0, 1, 1,\n",
       "       0, 0, 1, 0, 0, 0, 1, 0, 0, 0, 1, 1, 1, 1, 1, 1, 1, 0, 1, 0, 0, 0,\n",
       "       1, 1, 1, 1, 1, 1, 0, 1, 1, 1, 1, 0, 1, 1, 0, 0, 0, 0, 1, 0, 0, 0,\n",
       "       0, 0, 0, 0, 1, 0, 1, 1, 0, 1, 1, 1, 0, 0, 0, 1, 1, 1, 1, 0, 0, 1,\n",
       "       1, 1, 1, 1, 1, 1, 1, 1, 1, 0, 1, 0, 0, 0, 1, 0, 1, 0, 0, 1, 0, 1,\n",
       "       0, 1, 0, 1, 0, 0, 0, 1, 0, 1, 1, 0, 0, 0, 1, 1, 1, 1, 0, 0, 1, 1,\n",
       "       1, 1, 1, 1, 0, 0, 0, 0, 1, 0, 0, 0, 0, 0, 0, 1, 1, 0, 0, 0, 1, 1,\n",
       "       0, 0, 0, 0, 0, 0, 0, 0, 1, 0, 1, 1, 0, 0, 1, 0, 1, 0, 0, 0, 1, 0,\n",
       "       0, 0, 1, 0, 0, 0, 0, 1, 0, 1, 1, 1, 0, 1, 1, 1, 1, 1, 1, 1, 1, 0,\n",
       "       1, 0, 1, 1, 0, 0, 0, 0, 0, 0, 0, 0, 1, 1, 1, 1, 1, 0, 1, 0, 0, 0,\n",
       "       1, 1, 1, 1, 0, 0, 0, 1, 0, 1, 0, 1, 0, 0, 0, 0, 0, 0, 0, 0, 1, 1,\n",
       "       0, 1, 0, 0, 1, 0, 0, 1, 1, 0, 0, 0, 1, 1, 0, 1, 0, 1, 0, 1, 0, 1,\n",
       "       1, 0, 1, 1, 0, 1, 1, 1, 0, 1, 1, 1, 1, 1, 1, 0, 1, 1, 1, 1, 0, 1,\n",
       "       0, 1, 0, 1, 0, 1, 0, 0, 1, 0, 0, 0, 1, 1, 1, 0, 1, 1, 1, 0, 0, 0,\n",
       "       1, 1, 1, 1, 1, 0, 1, 0, 0, 0, 1, 1, 1, 0, 0, 0, 0, 0, 0, 0, 0, 0,\n",
       "       1, 1, 0, 0, 0, 1, 1, 0, 1, 1, 0, 0, 1, 1, 0, 1, 0, 1, 0, 0, 1, 0,\n",
       "       1, 1, 0, 1, 0, 1, 1, 0, 0, 1])"
      ]
     },
     "execution_count": 30,
     "metadata": {},
     "output_type": "execute_result"
    }
   ],
   "source": [
    "L"
   ]
  },
  {
   "cell_type": "code",
   "execution_count": 4,
   "id": "c7b6a5df",
   "metadata": {},
   "outputs": [],
   "source": [
    "eps1=np.random.standard_normal(1000)"
   ]
  },
  {
   "cell_type": "code",
   "execution_count": 27,
   "id": "53c33def",
   "metadata": {},
   "outputs": [],
   "source": [
    "A=0.4*L+eps1"
   ]
  },
  {
   "cell_type": "code",
   "execution_count": 31,
   "id": "6a624a67",
   "metadata": {},
   "outputs": [
    {
     "data": {
      "text/plain": [
       "array([ 1.54515381e-01,  1.54203919e+00,  5.71982222e-01,  7.90719156e-01,\n",
       "        1.66366381e+00,  3.70667623e-01,  3.39965991e-02, -1.30853050e-01,\n",
       "        1.28729928e+00,  2.00675358e+00,  9.87657894e-01,  7.73078368e-01,\n",
       "        6.52147872e-01,  1.07823318e+00, -8.50479101e-01, -3.16676052e-02,\n",
       "       -3.42315821e-01, -5.20655632e-01, -8.49957504e-01,  6.00559723e-01,\n",
       "       -6.52378706e-01,  4.28007252e-01,  1.26070578e+00,  1.53169948e-01,\n",
       "        4.58517726e-01,  1.06607335e+00, -1.55147456e-01,  2.30002112e-01,\n",
       "       -5.42689519e-01, -6.25843712e-01,  1.04404091e+00, -8.84479051e-01,\n",
       "       -1.50594908e+00, -5.78162963e-01,  3.18001917e-01,  9.15850265e-01,\n",
       "       -5.92571423e-01,  1.49298264e+00, -1.23579647e+00,  8.82911106e-01,\n",
       "       -9.25722061e-01,  5.71814238e-01,  1.83841878e+00, -2.91914544e-01,\n",
       "       -1.95269780e-01,  8.11465239e-01,  8.75507775e-01, -5.77088325e-01,\n",
       "       -1.49320254e+00,  9.13141090e-01,  1.06661529e+00,  9.33668789e-01,\n",
       "        9.75258589e-01,  4.71401920e-01, -1.54822632e-01,  9.91444567e-01,\n",
       "       -2.77376514e-01, -1.49368213e+00, -3.02334477e-01,  3.65372980e-03,\n",
       "        1.24932884e+00, -1.71238706e-01,  1.53346590e+00, -6.87765323e-01,\n",
       "       -1.32803032e+00, -2.70708800e-01,  9.78780089e-01,  7.61399039e-01,\n",
       "        5.91487970e-01,  2.19331508e-01, -6.79210710e-01, -2.14351510e+00,\n",
       "        7.49285320e-01, -5.65493344e-01, -2.44576328e-01, -1.18368498e+00,\n",
       "        2.04747920e+00,  2.85815866e-01, -3.13663939e-01,  2.07505099e+00,\n",
       "       -4.92977817e-02, -2.73549743e-02,  1.21657663e+00,  8.22855590e-01,\n",
       "       -1.20737057e+00,  1.87038127e-01, -1.25125888e+00,  1.05353110e-01,\n",
       "        2.43733680e+00, -7.42750234e-01, -2.92912236e-01,  4.08657859e-01,\n",
       "        9.42136290e-01, -1.13313579e+00,  8.37978919e-01, -1.92416567e-01,\n",
       "        4.16729344e-01,  1.17422747e-01,  1.25483872e+00,  1.14219769e+00,\n",
       "        3.24677105e-01,  6.12076588e-03,  1.57093625e+00, -7.68177174e-01,\n",
       "        1.28669386e+00,  4.58044337e-02,  7.72114805e-01, -2.71627070e-01,\n",
       "        1.57252040e+00, -7.27194190e-01,  8.59133673e-01, -6.61980690e-01,\n",
       "        7.81037228e-01,  1.68264698e+00, -1.48118040e+00, -2.66778896e-01,\n",
       "        7.42210284e-01, -7.39980428e-01,  1.81514630e-01,  1.93779422e+00,\n",
       "        3.93976824e+00,  7.35675724e-01,  1.36349613e+00,  1.28863279e+00,\n",
       "        7.64037767e-01,  3.07063747e-02, -3.51666758e-01,  6.86692203e-01,\n",
       "        1.57706356e+00,  1.64619307e+00,  6.07585790e-01,  1.17167540e+00,\n",
       "        1.65675073e-01,  6.49228039e-01, -2.21005892e-01, -1.10619052e+00,\n",
       "        9.10804679e-01, -1.63563384e+00,  1.10737493e+00,  3.99857439e-01,\n",
       "        6.00329398e-01,  1.13287363e-01,  7.26723009e-01, -1.54805093e+00,\n",
       "       -6.49100223e-02,  4.07089695e-01, -5.78537778e-01, -7.17788624e-02,\n",
       "        1.49964311e+00, -8.49220436e-01,  1.08332253e+00, -2.23673136e-01,\n",
       "       -1.84772844e+00, -4.95691381e-01,  1.33099328e+00,  4.42927434e-01,\n",
       "        5.39370350e-01,  1.54577031e+00,  3.85045441e-01,  1.66574268e+00,\n",
       "       -4.91827024e-01, -8.77865651e-01,  4.11339174e-01,  1.31725435e+00,\n",
       "        5.54929263e-01,  9.82475610e-01, -1.75826367e+00, -8.69870748e-01,\n",
       "       -6.10422070e-01, -1.30160869e+00, -3.67032305e-01,  7.17010585e-01,\n",
       "        5.98326430e-01, -1.65323765e+00, -3.05873761e-01, -1.96582993e+00,\n",
       "       -7.07891926e-01, -6.19327079e-01, -4.81156200e-01, -3.79461929e-01,\n",
       "        9.71447339e-01, -4.31158934e-01,  1.79119321e+00,  1.41946509e+00,\n",
       "        6.51570692e-01,  1.07003163e+00, -5.77391645e-01, -1.34975250e+00,\n",
       "        8.07213592e-01,  1.01906016e+00,  2.95322366e+00, -1.11432016e+00,\n",
       "       -7.96753829e-01,  9.99616188e-01, -1.68762611e+00, -1.43337145e+00,\n",
       "       -3.20588770e-01,  5.29818361e-01,  2.55274963e+00,  7.91215554e-01,\n",
       "       -2.38273537e-01, -6.45345266e-01,  1.23163855e+00,  1.89917657e+00,\n",
       "        2.29939221e-01, -5.71340224e-02, -7.28443419e-01,  1.99302749e+00,\n",
       "       -1.53796064e+00, -4.68746326e-01,  1.11716322e+00,  1.67914386e+00,\n",
       "        1.49423874e-01, -1.05957857e+00,  1.72610669e+00,  1.30140590e+00,\n",
       "       -1.16695641e+00, -8.49755975e-01, -4.56345245e-01,  9.63665078e-01,\n",
       "        2.45686081e+00, -1.16179854e+00, -6.07558838e-01,  3.07017351e-01,\n",
       "       -1.54517422e-01, -2.39322733e-01,  6.73438160e-01,  1.38703702e+00,\n",
       "        7.54378813e-01, -7.68917650e-01,  8.66790096e-01,  2.43258463e+00,\n",
       "        1.58344975e+00, -3.43330994e-01,  2.64632606e-01,  2.20421851e+00,\n",
       "       -6.75648038e-01,  1.15827577e+00, -2.36856248e-01,  4.39434074e-01,\n",
       "        2.57884315e-01, -3.43427628e-02,  8.02075666e-02, -8.45421865e-01,\n",
       "       -1.13272539e+00, -1.11738810e+00, -6.02336153e-01,  5.13377908e-01,\n",
       "       -3.69959059e-01, -1.08189151e+00,  4.13136240e-01,  1.37657021e+00,\n",
       "        8.17248568e-01,  1.06453488e-02,  1.06017099e+00,  9.55179292e-02,\n",
       "       -2.25144731e+00,  1.78346376e+00,  1.12523576e+00,  6.68376663e-01,\n",
       "       -3.45332810e-01,  1.72163018e+00, -4.90901475e-01,  9.22337999e-01,\n",
       "        4.17004468e-01,  5.94348800e-01,  1.15978972e+00,  9.70739327e-01,\n",
       "        7.50788259e-01,  8.40216511e-01, -3.40197117e-01,  5.88195801e-01,\n",
       "        1.19192767e+00, -6.79529658e-02,  2.61067552e-01,  4.95838727e-01,\n",
       "        4.94924321e-01,  8.23817334e-02, -9.35149031e-01, -1.39030127e+00,\n",
       "       -2.41985757e-01, -1.41502015e+00, -2.58877011e-01,  8.74880157e-03,\n",
       "        7.25430254e-01,  3.33005480e-01, -1.92745720e-01,  1.39274634e+00,\n",
       "        8.54351917e-01,  4.45101905e-01,  1.74860489e-01, -7.66874875e-01,\n",
       "        3.17110881e+00,  2.97603975e+00,  5.43288993e-01, -1.19533715e+00,\n",
       "        1.43118477e+00, -9.74717525e-01,  8.49538541e-01, -8.12154652e-01,\n",
       "        5.51209832e-01, -1.28795430e+00, -1.70464490e+00, -6.39587658e-01,\n",
       "        2.81073824e-01,  5.45535343e-01,  7.29654309e-01,  1.63442549e-01,\n",
       "       -3.18223810e-02, -1.97589064e+00,  6.71850348e-01,  1.86527104e+00,\n",
       "        2.07918519e+00, -2.64186564e-01, -1.31531967e-01, -2.85304784e-01,\n",
       "       -3.95779369e-01, -1.10635372e+00, -1.14101575e+00,  1.49366904e-01,\n",
       "        2.30087567e-01,  1.26474158e+00,  1.13260080e+00,  2.68008906e-01,\n",
       "        1.19782669e+00,  3.80072751e-01,  1.61948252e-01,  1.02516841e+00,\n",
       "       -1.42863202e+00,  3.05496646e-01,  1.28369540e+00,  9.43878678e-01,\n",
       "       -6.91698757e-01,  7.96744637e-01,  9.17405053e-01, -1.02190720e+00,\n",
       "        1.17599591e+00,  1.36734946e+00,  5.82278489e-01,  1.22145274e+00,\n",
       "        4.31958207e-01, -2.74286242e-01, -2.06516014e-01,  9.44284516e-01,\n",
       "        1.35807554e+00, -1.79793075e+00, -1.06927481e+00,  3.21335026e-02,\n",
       "       -6.38023857e-01,  1.16080740e+00,  2.45183394e+00,  5.31795356e-01,\n",
       "        2.94244290e-02,  3.45962120e-01, -1.32453169e+00,  1.74605129e+00,\n",
       "        4.69535130e-01, -1.78194203e-01,  1.62709417e+00,  1.24417847e+00,\n",
       "        3.50491439e-01,  1.20650942e+00,  2.86377880e-02, -1.49382634e+00,\n",
       "       -1.94176583e-02,  2.61888213e-01, -7.66384021e-01,  9.03177918e-01,\n",
       "       -4.27713666e-01,  1.24259651e+00,  1.21769159e-01,  5.35479920e-01,\n",
       "       -1.37788351e+00,  1.28603709e+00, -6.77789497e-01,  2.30889067e-01,\n",
       "        1.43139650e-01,  1.10012638e+00,  3.35381591e-01,  1.23321721e+00,\n",
       "        1.77569430e-01, -9.84545492e-01, -4.57554522e-01, -9.94893155e-01,\n",
       "       -7.39973928e-01,  5.91478442e-01, -3.64474586e-02,  2.37252839e-01,\n",
       "        3.50861251e-01, -1.59217105e+00, -8.87319979e-02, -4.28041059e-01,\n",
       "        1.12056571e+00,  1.24686920e+00,  9.12795595e-01,  1.35074399e-02,\n",
       "       -2.00015688e+00, -5.00440212e-01,  6.31826044e-01,  5.86324187e-01,\n",
       "        5.09783685e-01,  1.59043490e+00, -6.19788788e-01,  1.91892420e+00,\n",
       "        7.57356474e-01,  1.13340006e+00, -2.95414158e-01,  4.21428021e-01,\n",
       "       -1.34933781e+00, -2.71588534e-01,  1.64388742e+00, -2.44103249e-01,\n",
       "        3.41084700e-01, -5.10962640e-02, -6.39835334e-01,  1.33051130e+00,\n",
       "        2.07118253e+00, -5.52728355e-01,  1.66523427e-01, -4.76883134e-01,\n",
       "       -5.13006323e-01,  1.02549860e+00, -2.45105140e-01, -5.89033142e-01,\n",
       "        1.97418926e+00, -8.70615160e-01,  1.42106077e+00,  1.06872391e+00,\n",
       "       -7.74880796e-01, -2.67346460e+00,  2.81784648e-01, -2.48818704e+00,\n",
       "        7.90093296e-01,  1.78784412e+00,  1.35465316e+00,  1.57425640e+00,\n",
       "       -2.30153768e+00,  1.95215307e+00, -1.03165896e+00,  9.00244391e-01,\n",
       "       -2.14304999e-01,  1.82768077e+00, -4.62759879e-01, -6.96529455e-01,\n",
       "        1.51188529e+00, -1.54131761e+00, -6.39165543e-01,  1.22287979e+00,\n",
       "       -9.97173014e-01, -6.59012194e-01,  1.04230714e+00, -1.87539496e+00,\n",
       "       -3.91967700e-01, -4.44302190e-03, -1.75354953e-02, -8.41556363e-02,\n",
       "       -8.09158531e-01, -5.65234684e-01,  9.91412426e-01,  2.65735911e-01,\n",
       "        9.08355269e-01, -1.08363212e-01, -3.60584699e-01,  6.66960861e-01,\n",
       "       -4.99958301e-01, -1.59994836e+00, -4.31446212e-01, -9.45611444e-01,\n",
       "        1.28059803e+00,  2.12957796e+00,  3.22223193e-01,  2.28994167e+00,\n",
       "       -1.12754208e+00,  1.33745415e+00,  1.25697157e-01,  1.49126003e+00,\n",
       "        1.48265788e+00,  3.76306142e-01, -1.18459427e+00, -2.31377393e+00,\n",
       "        4.87423366e-01, -7.84180251e-01,  8.88833867e-02, -6.31808056e-01,\n",
       "       -1.86468574e+00,  6.84370242e-01,  2.62927742e-01,  2.88721824e-01,\n",
       "        1.17202321e+00,  1.17210578e+00, -6.21925446e-01,  2.33908483e+00,\n",
       "        7.27103729e-01,  8.97809706e-01,  8.75591756e-01, -2.30642654e-01,\n",
       "       -1.05911728e+00, -4.83117041e-01,  2.20243646e-03, -8.37050120e-02,\n",
       "       -5.15588016e-01, -1.93959116e-01,  1.15683769e+00, -3.46843774e+00,\n",
       "        6.64375023e-03,  1.59132294e+00, -4.66457828e-01,  8.93254969e-01,\n",
       "       -3.59202041e-01, -7.98192574e-01, -7.54196441e-01,  3.48838671e-02,\n",
       "        8.44076812e-01, -1.49283743e-02, -1.13734040e+00, -3.65484743e-01,\n",
       "       -2.26515506e+00, -6.87460829e-01, -6.10992154e-01, -1.12054836e+00,\n",
       "       -2.20641642e+00,  7.55366710e-01,  4.58906258e-01,  1.01392454e+00,\n",
       "        2.99848546e-02,  8.78772246e-01,  5.23483898e-01,  2.53320519e+00,\n",
       "       -1.96550558e-01, -8.10902052e-01, -3.76817690e-02, -3.49745204e-01,\n",
       "        2.69474129e+00,  5.77098289e-02, -2.54817054e-02,  7.47476433e-02,\n",
       "        1.40331642e+00,  1.57232153e+00,  1.55019054e-01,  2.98345034e-02,\n",
       "        1.35890315e+00, -1.10705598e+00,  1.10125963e+00,  9.35749590e-01,\n",
       "       -1.45862441e+00,  2.55224606e-01,  1.13011471e+00,  1.07970064e+00,\n",
       "        9.24787585e-01,  2.00867984e+00, -5.83886120e-01, -2.77969805e-02,\n",
       "       -6.77471099e-01,  1.60544244e+00,  7.73196478e-01, -3.66897969e-02,\n",
       "        7.82461782e-01,  5.01300834e-01, -4.61800654e-01, -1.83807174e-01,\n",
       "        2.27815666e+00, -7.05002456e-01, -2.97082386e-01, -1.84829631e+00,\n",
       "       -9.84395682e-02,  4.86616483e-01,  3.56981590e-01, -6.28862796e-01,\n",
       "        1.31776538e+00,  1.05257463e+00,  2.20118021e+00,  1.52692709e+00,\n",
       "        1.10709323e+00, -1.30225259e+00, -2.73633850e+00,  1.88485520e-01,\n",
       "       -9.02488851e-02,  4.29321996e-01,  2.51311542e-01, -3.13394472e-01,\n",
       "        6.06519352e-01,  9.60619635e-01, -9.75772293e-02, -3.03690429e-01,\n",
       "        7.98578397e-01,  1.17743799e+00, -2.02283821e+00, -1.00290568e+00,\n",
       "        8.40641448e-01, -7.49134246e-01, -1.95920142e-01,  1.11268450e+00,\n",
       "       -2.71599975e-01,  4.89343470e-02, -1.47709504e-01,  5.01828202e-02,\n",
       "        2.22683896e+00, -9.55386131e-01, -6.83259312e-01,  9.28816618e-01,\n",
       "        4.25417324e-01,  5.92894410e-01, -9.16567434e-01,  5.83588753e-01,\n",
       "        2.14842284e+00, -6.73604987e-01,  1.00856420e+00,  2.66235755e-01,\n",
       "       -9.08898601e-01,  1.46777549e+00, -1.20999698e-02,  2.25501093e-01,\n",
       "        8.90521607e-01,  1.74027205e-01,  3.04156452e-02,  4.64573112e-01,\n",
       "        1.77662220e-01, -3.08217203e+00, -1.36416187e+00,  5.98689754e-01,\n",
       "       -4.56386065e-01,  8.11655321e-02, -2.30990832e-02, -1.03941031e-01,\n",
       "        5.47794057e-02, -7.26489585e-01, -1.80074627e+00, -5.32507404e-01,\n",
       "        1.65783130e+00,  8.96536223e-01,  8.52266858e-01, -1.47904784e-01,\n",
       "        1.64120482e+00, -3.20332306e-01, -3.20027971e-02, -1.16255577e+00,\n",
       "        6.44118138e-01,  5.61306935e-01, -1.52975152e-01,  3.68748662e-01,\n",
       "        1.96382048e+00,  7.38479956e-03, -9.69919288e-01,  1.22327696e-01,\n",
       "        6.74255895e-01,  4.98176660e-01, -1.26939668e+00,  2.29539406e-03,\n",
       "       -1.09376052e+00,  1.07122369e+00,  1.70102263e+00,  3.60497473e-01,\n",
       "        1.74179637e+00,  1.22920926e-01,  9.05755565e-01,  4.76368207e-01,\n",
       "        2.50462304e-01,  2.20189113e-01,  4.67344863e-01,  8.78049953e-02,\n",
       "        2.75773048e-01,  1.39517243e+00, -2.01963799e-01,  1.51280402e+00,\n",
       "        2.58591702e-01, -4.70652726e-01, -1.74597529e-01, -7.75108919e-02,\n",
       "       -1.65373374e+00, -5.74079775e-01,  5.54469686e-01, -1.41221602e+00,\n",
       "        2.73203498e-01, -1.03860527e+00,  1.21714947e+00,  8.79526696e-01,\n",
       "        1.33159423e+00,  3.49893208e-01, -4.93956288e-01,  1.63285768e+00,\n",
       "        7.42620071e-03, -7.33843881e-01,  1.00022243e+00,  8.27340689e-01,\n",
       "       -7.43871761e-01,  2.19881255e-01,  9.84093632e-01,  8.28730865e-01,\n",
       "        2.55349494e+00,  8.19999589e-01, -3.58134057e-01,  9.61591374e-01,\n",
       "       -1.85590128e+00,  1.08762960e+00,  1.67161256e+00,  3.06116840e-01,\n",
       "        9.93948294e-01, -1.29969776e+00,  6.85156852e-01,  2.08592887e-01,\n",
       "        1.24090912e+00, -1.35760859e+00,  1.89135712e+00, -1.64516812e+00,\n",
       "       -1.15927139e-01,  5.52461369e-01, -1.47064320e+00,  1.74657613e+00,\n",
       "        1.24240652e+00, -4.69688332e-01, -1.31110645e+00, -1.84240917e+00,\n",
       "        8.79664341e-01, -1.33464038e+00,  2.90114519e-02,  1.29972236e+00,\n",
       "       -1.11810725e+00,  2.36019062e+00,  1.52304884e+00,  8.21665767e-01,\n",
       "       -1.15485799e-01,  2.11220484e-01,  1.95385780e+00, -2.87460413e-01,\n",
       "       -5.38281870e-01,  7.71687858e-01, -3.01553272e+00,  4.19166591e-01,\n",
       "       -1.08550334e+00,  6.95353034e-01, -7.16003485e-01,  1.23853294e-01,\n",
       "        2.10072599e-01, -6.41569741e-01,  4.09372448e-01,  9.65699180e-01,\n",
       "        4.85228021e-01,  2.05718688e-01, -1.01562724e+00, -1.77781275e+00,\n",
       "       -6.87295427e-01,  3.80057378e-01, -6.97545263e-01,  6.62779142e-01,\n",
       "       -8.29552538e-01,  1.31191665e+00,  2.27622716e+00,  1.27330199e-01,\n",
       "       -1.45954292e+00, -7.13497519e-01, -9.42199586e-01,  5.71114169e-01,\n",
       "        6.49415085e-02, -1.46099305e+00,  8.86330824e-01,  5.76707525e-01,\n",
       "        1.82531340e-01, -1.60566690e+00,  1.86565390e+00,  4.54621157e-01,\n",
       "       -1.99980352e+00,  1.89213675e+00,  2.55963084e+00,  1.82836600e+00,\n",
       "       -2.24561909e-01,  1.40438890e+00, -2.19829836e-01,  1.42319771e-01,\n",
       "        1.81612709e+00,  8.15062542e-01,  4.56760701e-01, -1.27121829e+00,\n",
       "       -1.57487422e+00,  7.93710309e-01, -2.87842857e+00, -6.53048535e-01,\n",
       "        1.40822664e+00, -1.09480378e+00,  1.69847970e+00,  7.02744320e-02,\n",
       "        1.29172534e+00, -3.53375768e-01,  3.18517716e-01, -6.57002432e-01,\n",
       "        4.21785086e-01,  6.76078552e-01, -9.10557455e-01, -4.24476899e-01,\n",
       "        5.99692609e-01, -1.31532870e+00,  1.85863421e+00,  2.22218320e+00,\n",
       "        1.20319082e+00,  5.93929695e-01,  7.77451431e-01, -1.20742362e-01,\n",
       "       -1.46094499e-01,  3.27031069e-02,  4.95828537e-01, -2.63339131e-01,\n",
       "        2.69831293e-01,  4.25409548e-01, -1.04595123e+00, -1.25683912e-01,\n",
       "       -4.99376050e-01, -9.80955430e-01,  9.21197504e-03, -3.38168080e-01,\n",
       "        1.98520122e-01,  6.80265976e-01, -2.05608969e+00,  1.81044852e+00,\n",
       "        2.44147089e+00, -2.96586637e-01,  2.57400063e-01,  1.81995925e+00,\n",
       "        3.33300297e-01, -1.43314497e+00, -1.11192597e+00, -2.87525454e-01,\n",
       "       -1.29243391e+00, -1.16497792e-01,  2.10426124e+00, -6.39367830e-01,\n",
       "        1.90993813e+00,  2.34175120e+00, -6.14122658e-02,  1.63040177e+00,\n",
       "        9.50100408e-01,  2.06333922e-01,  2.12396057e+00,  2.70169373e+00,\n",
       "        2.22578774e+00,  7.48185693e-01, -8.12131520e-02,  1.43565359e+00,\n",
       "       -1.45086770e-01, -1.43817490e+00, -2.42737622e+00,  1.62216365e+00,\n",
       "        6.09071238e-01, -2.79761055e-01,  1.36492709e-02,  7.36906865e-01,\n",
       "        7.08319816e-01, -4.12941197e-01, -1.17124288e+00, -6.02269830e-01,\n",
       "        2.15885474e-01,  1.67279003e+00, -8.10207304e-01,  5.05952432e-01,\n",
       "        1.40609738e+00, -7.88379554e-01,  4.45111872e-01, -1.69172872e-01,\n",
       "       -1.82046119e-02,  7.14150366e-01, -6.63469546e-01, -2.79594182e-01,\n",
       "        1.15265913e+00,  5.97252877e-01, -6.02230066e-01,  5.19621514e-01,\n",
       "        2.59776720e+00,  9.86553203e-01,  9.86454686e-01,  3.04714762e+00,\n",
       "        1.66852900e-01,  9.78988395e-01,  1.26539308e-01, -9.42230025e-03,\n",
       "       -9.25494526e-01,  1.10537026e-01,  6.99668088e-01, -7.70120675e-01,\n",
       "       -2.05211456e-01,  1.22627947e+00, -6.08129806e-01, -1.31380928e+00,\n",
       "       -4.90353744e-01,  9.62770311e-01,  1.57320766e-01,  6.12070769e-01,\n",
       "        1.97295946e-01,  1.74131480e+00, -2.11622586e+00,  1.91169924e+00,\n",
       "        5.38679699e-01, -1.58049617e+00, -1.07723736e+00, -1.22064355e+00,\n",
       "       -8.55336896e-02,  2.14251401e-01,  2.98017635e-02, -1.96374198e-01,\n",
       "       -4.85427659e-01, -4.55181562e-01, -2.43517915e-01,  5.73244407e-01,\n",
       "       -2.49466840e-01,  2.42983235e+00,  1.81264331e+00, -3.07108232e-01,\n",
       "        8.02941693e-01, -8.53397198e-01,  1.50420233e+00,  1.41040032e+00,\n",
       "       -1.41689344e-01,  1.77640605e+00, -1.57077676e+00, -2.14158831e-01,\n",
       "        5.79765434e-01,  8.71655657e-01, -2.45046993e-01,  7.95706515e-01,\n",
       "       -4.50467597e-01, -2.67419648e-01,  6.49388104e-01, -3.48414769e-01,\n",
       "        7.22181808e-02, -2.69360264e-01,  1.16714949e+00, -9.47370371e-01,\n",
       "        5.05476037e-01, -4.22742782e-01, -8.17822018e-02, -1.74199413e-01,\n",
       "        5.68058767e-01,  9.12703006e-01,  5.86317361e-01, -5.74255510e-01,\n",
       "       -1.37321260e-01,  3.69222626e-01, -7.94614086e-01,  1.42032323e+00,\n",
       "        1.68476713e+00, -9.10360515e-02, -9.81302045e-01,  3.59596197e-02,\n",
       "        6.85047649e-01, -1.13366932e+00,  7.84051916e-01, -2.14568471e-01,\n",
       "       -1.63130566e+00, -1.40712470e+00, -1.12828614e-01,  6.39273155e-01,\n",
       "        3.52264034e-02,  7.72691505e-01,  4.89510458e-02, -6.70886848e-01,\n",
       "        1.98885681e+00,  8.29317689e-01, -3.69248519e-01, -1.09248406e+00,\n",
       "        9.67594924e-01, -7.10705558e-01, -1.15291409e+00,  4.17449341e-01,\n",
       "        1.40897039e+00, -2.00697186e-01,  1.52103212e+00,  6.73623571e-01,\n",
       "        2.45104534e-01, -1.16611447e+00,  1.65020298e-01, -8.96985778e-02,\n",
       "        1.04218122e+00, -1.61645288e+00,  1.01631923e+00, -6.32502791e-01,\n",
       "        1.96655747e+00, -4.68969496e-01,  1.27768331e+00,  1.37132083e+00,\n",
       "       -4.99724514e-01,  2.88479206e-01, -3.59666959e-01, -1.07037114e+00,\n",
       "        7.21120637e-01,  1.01048566e+00, -9.03595410e-01, -1.87750320e-01,\n",
       "        9.14339034e-01,  5.13062516e-01,  8.46122171e-01,  3.55568861e-02,\n",
       "       -1.62057451e+00,  1.54119930e+00, -7.20150280e-01, -1.45780201e+00,\n",
       "       -7.26203694e-01, -7.73759620e-01,  3.33378899e+00, -9.70898879e-01,\n",
       "        9.85885233e-01,  3.00424043e-01, -1.31470521e+00, -8.59792614e-01])"
      ]
     },
     "execution_count": 31,
     "metadata": {},
     "output_type": "execute_result"
    }
   ],
   "source": [
    "A"
   ]
  },
  {
   "cell_type": "code",
   "execution_count": 38,
   "id": "7d003509",
   "metadata": {},
   "outputs": [
    {
     "data": {
      "text/plain": [
       "<matplotlib.collections.PathCollection at 0x7fe0a9ca8eb0>"
      ]
     },
     "execution_count": 38,
     "metadata": {},
     "output_type": "execute_result"
    },
    {
     "data": {
      "image/png": "[encoded data removed]",
      "text/plain": [
       "<Figure size 432x288 with 1 Axes>"
      ]
     },
     "metadata": {
      "needs_background": "light"
     },
     "output_type": "display_data"
    }
   ],
   "source": [
    "plt.scatter(L,A)"
   ]
  },
  {
   "cell_type": "code",
   "execution_count": 34,
   "id": "188c21ef",
   "metadata": {},
   "outputs": [],
   "source": [
    "eps2=np.random.standard_normal(1000)"
   ]
  },
  {
   "cell_type": "code",
   "execution_count": 35,
   "id": "a125b567",
   "metadata": {},
   "outputs": [],
   "source": [
    "B=0.7*A+eps2"
   ]
  },
  {
   "cell_type": "code",
   "execution_count": 37,
   "id": "34a80128",
   "metadata": {},
   "outputs": [
    {
     "data": {
      "text/plain": [
       "<matplotlib.collections.PathCollection at 0x7fe0a9d343d0>"
      ]
     },
     "execution_count": 37,
     "metadata": {},
     "output_type": "execute_result"
    },
    {
     "data": {
      "image/png": "[encoded data removed]",
      "text/plain": [
       "<Figure size 432x288 with 1 Axes>"
      ]
     },
     "metadata": {
      "needs_background": "light"
     },
     "output_type": "display_data"
    }
   ],
   "source": [
    "plt.scatter(A,B)"
   ]
  },
  {
   "cell_type": "code",
   "execution_count": null,
   "id": "20fb37f2",
   "metadata": {},
   "outputs": [],
   "source": []
  }
 ],
 "metadata": {
  "kernelspec": {
   "display_name": "Python 3 (ipykernel)",
   "language": "python",
   "name": "python3"
  },
  "language_info": {
   "codemirror_mode": {
    "name": "ipython",
    "version": 3
   },
   "file_extension": ".py",
   "mimetype": "text/x-python",
   "name": "python",
   "nbconvert_exporter": "python",
   "pygments_lexer": "ipython3",
   "version": "3.9.7"
  }
 },
 "nbformat": 4,
 "nbformat_minor": 5
}
