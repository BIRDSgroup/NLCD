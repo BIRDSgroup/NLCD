{
 "cells": [
  {
   "cell_type": "code",
   "execution_count": 1,
   "id": "ec20d420",
   "metadata": {},
   "outputs": [],
   "source": [
    "import pandas as pd\n",
    "from matplotlib import pyplot  as plt\n",
    "import numpy as np"
   ]
  },
  {
   "cell_type": "code",
   "execution_count": 2,
   "id": "a97d9ef5",
   "metadata": {},
   "outputs": [],
   "source": [
    "a=pd.read_csv(\"CITandourMix.csv\")"
   ]
  },
  {
   "cell_type": "code",
   "execution_count": 3,
   "id": "c525980b",
   "metadata": {},
   "outputs": [
    {
     "data": {
      "text/html": [
       "<div>\n",
       "<style scoped>\n",
       "    .dataframe tbody tr th:only-of-type {\n",
       "        vertical-align: middle;\n",
       "    }\n",
       "\n",
       "    .dataframe tbody tr th {\n",
       "        vertical-align: top;\n",
       "    }\n",
       "\n",
       "    .dataframe thead th {\n",
       "        text-align: right;\n",
       "    }\n",
       "</style>\n",
       "<table border=\"1\" class=\"dataframe\">\n",
       "  <thead>\n",
       "    <tr style=\"text-align: right;\">\n",
       "      <th></th>\n",
       "      <th>p_cit</th>\n",
       "      <th>p_TL</th>\n",
       "      <th>p_TG</th>\n",
       "      <th>p_GL</th>\n",
       "      <th>p_Lind</th>\n",
       "      <th>GroundTruth</th>\n",
       "      <th>GroundTruth.1</th>\n",
       "      <th>p_L-&gt;A</th>\n",
       "      <th>p_L-&gt;B</th>\n",
       "      <th>diff(B|A,B|A,L)</th>\n",
       "      <th>pour</th>\n",
       "    </tr>\n",
       "  </thead>\n",
       "  <tbody>\n",
       "    <tr>\n",
       "      <th>0</th>\n",
       "      <td>0.765758</td>\n",
       "      <td>0.202505</td>\n",
       "      <td>3.244879e-04</td>\n",
       "      <td>0.765758</td>\n",
       "      <td>6.346087e-02</td>\n",
       "      <td>1</td>\n",
       "      <td>1</td>\n",
       "      <td>0.0</td>\n",
       "      <td>0.0</td>\n",
       "      <td>0.00</td>\n",
       "      <td>0.00</td>\n",
       "    </tr>\n",
       "    <tr>\n",
       "      <th>1</th>\n",
       "      <td>0.896573</td>\n",
       "      <td>0.896573</td>\n",
       "      <td>4.287469e-06</td>\n",
       "      <td>0.454990</td>\n",
       "      <td>2.788981e-11</td>\n",
       "      <td>1</td>\n",
       "      <td>1</td>\n",
       "      <td>0.0</td>\n",
       "      <td>0.0</td>\n",
       "      <td>0.21</td>\n",
       "      <td>0.21</td>\n",
       "    </tr>\n",
       "    <tr>\n",
       "      <th>2</th>\n",
       "      <td>0.783165</td>\n",
       "      <td>0.698874</td>\n",
       "      <td>1.024230e-26</td>\n",
       "      <td>0.011926</td>\n",
       "      <td>7.831650e-01</td>\n",
       "      <td>1</td>\n",
       "      <td>1</td>\n",
       "      <td>0.0</td>\n",
       "      <td>0.0</td>\n",
       "      <td>0.00</td>\n",
       "      <td>0.00</td>\n",
       "    </tr>\n",
       "    <tr>\n",
       "      <th>3</th>\n",
       "      <td>0.162479</td>\n",
       "      <td>0.107597</td>\n",
       "      <td>1.336805e-38</td>\n",
       "      <td>0.162479</td>\n",
       "      <td>2.266339e-14</td>\n",
       "      <td>1</td>\n",
       "      <td>1</td>\n",
       "      <td>0.0</td>\n",
       "      <td>0.0</td>\n",
       "      <td>0.00</td>\n",
       "      <td>0.00</td>\n",
       "    </tr>\n",
       "    <tr>\n",
       "      <th>4</th>\n",
       "      <td>0.999999</td>\n",
       "      <td>0.870694</td>\n",
       "      <td>7.946690e-40</td>\n",
       "      <td>0.176670</td>\n",
       "      <td>9.999990e-01</td>\n",
       "      <td>1</td>\n",
       "      <td>1</td>\n",
       "      <td>0.0</td>\n",
       "      <td>0.0</td>\n",
       "      <td>0.00</td>\n",
       "      <td>0.00</td>\n",
       "    </tr>\n",
       "  </tbody>\n",
       "</table>\n",
       "</div>"
      ],
      "text/plain": [
       "      p_cit      p_TL          p_TG      p_GL        p_Lind  GroundTruth  \\\n",
       "0  0.765758  0.202505  3.244879e-04  0.765758  6.346087e-02            1   \n",
       "1  0.896573  0.896573  4.287469e-06  0.454990  2.788981e-11            1   \n",
       "2  0.783165  0.698874  1.024230e-26  0.011926  7.831650e-01            1   \n",
       "3  0.162479  0.107597  1.336805e-38  0.162479  2.266339e-14            1   \n",
       "4  0.999999  0.870694  7.946690e-40  0.176670  9.999990e-01            1   \n",
       "\n",
       "   GroundTruth.1  p_L->A  p_L->B  diff(B|A,B|A,L)  pour  \n",
       "0              1     0.0     0.0             0.00  0.00  \n",
       "1              1     0.0     0.0             0.21  0.21  \n",
       "2              1     0.0     0.0             0.00  0.00  \n",
       "3              1     0.0     0.0             0.00  0.00  \n",
       "4              1     0.0     0.0             0.00  0.00  "
      ]
     },
     "execution_count": 3,
     "metadata": {},
     "output_type": "execute_result"
    }
   ],
   "source": [
    "a.head()"
   ]
  },
  {
   "cell_type": "code",
   "execution_count": 4,
   "id": "adbead7e",
   "metadata": {},
   "outputs": [],
   "source": [
    "categories=np.array(a[\"GroundTruth\"])\n",
    "colormap=np.array(['y','b'])\n"
   ]
  },
  {
   "cell_type": "code",
   "execution_count": 5,
   "id": "b164aefa",
   "metadata": {},
   "outputs": [],
   "source": [
    "Gnd1=a.loc[a[\"GroundTruth\"]==1,]"
   ]
  },
  {
   "cell_type": "code",
   "execution_count": 6,
   "id": "1f32b242",
   "metadata": {},
   "outputs": [],
   "source": [
    "Gnd0=a.loc[a[\"GroundTruth\"]==0,]"
   ]
  },
  {
   "cell_type": "code",
   "execution_count": 8,
   "id": "f3519aed",
   "metadata": {},
   "outputs": [
    {
     "data": {
      "text/plain": [
       "<matplotlib.legend.Legend at 0x7f2fdac16d30>"
      ]
     },
     "execution_count": 8,
     "metadata": {},
     "output_type": "execute_result"
    },
    {
     "data": {
      "image/png": "[encoded data removed]",
      "text/plain": [
       "<Figure size 432x288 with 1 Axes>"
      ]
     },
     "metadata": {
      "needs_background": "light"
     },
     "output_type": "display_data"
    }
   ],
   "source": [
    "plt.scatter(Gnd0[\"p_cit\"],Gnd0[\"pour\"],label=\"Yeast gndtruth 0\",alpha=0.5)\n",
    "plt.scatter(Gnd1[\"p_cit\"],Gnd1[\"pour\"],label=\"Yeast gndtruth 1\",alpha=0.5)\n",
    "plt.title(\"p values compare\")\n",
    "plt.xlabel(\"CIT\")\n",
    "plt.ylabel(\"NLMR\")\n",
    "plt.legend()"
   ]
  },
  {
   "cell_type": "code",
   "execution_count": 20,
   "id": "e0a5ef7d",
   "metadata": {},
   "outputs": [
    {
     "data": {
      "text/plain": [
       "<matplotlib.collections.PathCollection at 0x7fa2c903f130>"
      ]
     },
     "execution_count": 20,
     "metadata": {},
     "output_type": "execute_result"
    },
    {
     "data": {
      "image/png": "[encoded data removed]",
      "text/plain": [
       "<Figure size 432x288 with 1 Axes>"
      ]
     },
     "metadata": {
      "needs_background": "light"
     },
     "output_type": "display_data"
    }
   ],
   "source": [
    "plt.scatter(Gnd0[\"p_cit\"],Gnd0[\"pour\"])"
   ]
  }
 ],
 "metadata": {
  "kernelspec": {
   "display_name": "Python 3 (ipykernel)",
   "language": "python",
   "name": "python3"
  },
  "language_info": {
   "codemirror_mode": {
    "name": "ipython",
    "version": 3
   },
   "file_extension": ".py",
   "mimetype": "text/x-python",
   "name": "python",
   "nbconvert_exporter": "python",
   "pygments_lexer": "ipython3",
   "version": "3.9.7"
  }
 },
 "nbformat": 4,
 "nbformat_minor": 5
}
