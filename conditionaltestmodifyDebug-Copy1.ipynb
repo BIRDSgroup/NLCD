{
 "cells": [
  {
   "cell_type": "code",
   "execution_count": 139,
   "metadata": {
    "colab": {
     "base_uri": "https://localhost:8080/"
    },
    "id": "qd6CiVe-jyEn",
    "outputId": "b4187c26-21ff-4edc-e194-db58fd55f233"
   },
   "outputs": [],
   "source": [
    "#loading the libraries\n",
    "from tensorflow_probability import distributions as tfd\n",
    "import tensorflow as tf\n",
    "from tensorflow.keras.layers import Input, Dense, Activation, Concatenate\n",
    "\n",
    "from sklearn.linear_model import LinearRegression\n",
    "from sklearn.model_selection import train_test_split\n",
    "from sklearn.preprocessing import MinMaxScaler\n",
    "from sklearn.datasets import load_boston\n",
    "from sklearn.linear_model import LinearRegression\n",
    "import matplotlib.pyplot as plt\n",
    "import seaborn as sns\n",
    "import random\n",
    "import numpy as np\n",
    "import statsmodels.api as sm\n",
    "import pickle\n",
    "from sklearn.feature_selection import mutual_info_regression\n",
    "from scipy import stats\n",
    "import rpy2\n",
    "from scipy.stats import spearmanr,pearsonr\n",
    "from CCIT import CCIT\n"
   ]
  },
  {
   "cell_type": "code",
   "execution_count": 142,
   "metadata": {
    "id": "OxvAXLLFnl7d"
   },
   "outputs": [],
   "source": [
    "#defining the class MDN\n",
    "class MDN_module(tf.keras.Model):\n",
    "#changed from 15 to 20\n",
    "    def __init__(self, neurons=15, components = 1):\n",
    "        super(MDN_module, self).__init__(name=\"MDN_module\")\n",
    "        self.neurons = neurons\n",
    "        self.components = components\n",
    "\n",
    "        #chaging activation to relu from linear, changin relu to sigmoid \n",
    "        for i in range(1,3):\n",
    "          s=\"self\"+\".h\"+str(i)+\"= Dense(neurons, activation=\\\"relu\\\", name=\"+\"'h\"+str(i)+\"')\"\n",
    "          exec(s)\n",
    "        self.alphas = Dense(components, activation=\"softmax\", name=\"alphas\")\n",
    "        self.mus = Dense(components, activation=\"linear\",name=\"mus\") \n",
    "        self.sigmas = Dense(components, activation=\"nnelu\",name=\"sigmas\") #activation changed from linear to default\n",
    "        self.pvec = Concatenate(name=\"pvec\")\n",
    "        \n",
    "    def call(self, inputs):\n",
    "        x=self.h1(inputs)\n",
    "        #x=self.inputA(inputs)\n",
    "        x=self.h2(x)\n",
    "        alpha_v = self.alphas(x)\n",
    "        mu_v = self.mus(x)\n",
    "        sigma_v = self.sigmas(x)\n",
    "        \n",
    "        return self.pvec([alpha_v,mu_v, sigma_v])"
   ]
  },
  {
   "cell_type": "code",
   "execution_count": 143,
   "metadata": {
    "id": "7DSPXmR1ogiH"
   },
   "outputs": [],
   "source": [
    "no_parameters=3\n",
    "components=1\n",
    "def nnelu(input):\n",
    "    \"\"\" Computes the Non-Negative Exponential Linear Unit\n",
    "    \"\"\"\n",
    "    return tf.add(tf.constant(1, dtype=tf.float32), tf.nn.elu(input))\n",
    "\n",
    "def slice_parameter_vectors(parameter_vector):\n",
    "    \"\"\" Returns an unpacked list of paramter vectors.\n",
    "    \"\"\"\n",
    "    return [parameter_vector[:,i*components:(i+1\n",
    "    )*components] for i in range(no_parameters)]\n",
    "\n",
    "def gnll_loss(y, parameter_vector):\n",
    "    \"\"\" Computes the mean negative log-likelihood loss of y given the mixture parameters.\n",
    "    \"\"\"\n",
    "    alpha,mu,sigma = slice_parameter_vectors(parameter_vector) # Unpack parameter vectors\n",
    "    #tf.print(sigma)\n",
    "    gm = tfd.MixtureSameFamily(\n",
    "           mixture_distribution=tfd.Categorical(probs=alpha),\n",
    "           components_distribution=tfd.Normal(\n",
    "           loc=mu,       \n",
    "           scale=sigma))\n",
    "    \n",
    "    \n",
    "    \n",
    "    log_likelihood =  gm.log_prob(tf.transpose(y)) # Evaluate log-probability of y \n",
    "    return -tf.reduce_mean(log_likelihood, axis=-1) \n",
    "\n",
    "tf.keras.utils.get_custom_objects().update({'nnelu': Activation(nnelu)})\n",
    "\n",
    "def gnll_eval(y,alpha, mu, sigma):\n",
    "    \"\"\" Computes the mean negative log-likelihood loss of y given the mixture parameters.\n",
    "    \"\"\"\n",
    "    #print(alpha)\n",
    "    gm = tfd.MixtureSameFamily(\n",
    "        mixture_distribution=tfd.Categorical(probs=alpha),\n",
    "        components_distribution=tfd.Normal(\n",
    "            loc=mu,       \n",
    "            scale=sigma))\n",
    "    log_likelihood = gm.log_prob(tf.transpose(y))\n",
    "    return -tf.reduce_mean(log_likelihood, axis=-1)\n",
    "\n",
    "\n",
    "def eval_mdn_model(x_test, y_test, mdn_model):\n",
    "    \"\"\" Evaluate the model to get the loss for the given x and y \n",
    "    \"\"\"\n",
    "    y_pred = mdn_model.predict(np.reshape(x_test,newshape=(len(x_test),-1)))\n",
    "    alpha,mu,sigma = slice_parameter_vectors(y_pred)\n",
    "    mdn_nll = gnll_eval(y_test.astype(np.float32),alpha, mu, sigma).numpy()\n",
    "    return mdn_nll\n",
    "#reshapefunction\n",
    "def eval_mdn_model_mle(x_test,y_test):\n",
    "        indices_1 = [i for i, x in enumerate(x_test) if x == 1]\n",
    "        #changing x to -1\n",
    "        indices_0 = [i for i, x in enumerate(x_test) if x == -1]\n",
    "        mu_0=np.mean(y_test[indices_0])\n",
    "        mu_1=np.mean(y_test[indices_1])\n",
    "        sigma_0=np.std(y_test[indices_0])\n",
    "        sigma_1=np.std(y_test[indices_1])\n",
    "        y_mean=np.zeros((len(y_test),1))\n",
    "        y_mean[indices_1]=mu_1\n",
    "        y_mean[indices_0]=mu_0\n",
    "        y_std=np.zeros((len(y_test),1))\n",
    "        y_std[indices_1]=sigma_1\n",
    "        y_std[indices_0]=sigma_0\n",
    "        alpha=np.ones((len(y_mean),1))\n",
    "        return gnll_eval(y_test,alpha,y_mean,y_std).numpy()\n",
    "    \n",
    "def reshapevar(X):\n",
    "  \"\"\"\n",
    "  Function to reshape the vector for the input \n",
    "  \"\"\"\n",
    "  return np.reshape(X,newshape=(len(X),-1))"
   ]
  },
  {
   "cell_type": "code",
   "execution_count": 144,
   "metadata": {
    "id": "T6sJ7ffirsnB"
   },
   "outputs": [],
   "source": [
    "def compute_loss(P,Q,mle=False):\n",
    "    \"\"\" Compute the loss for the given pair\n",
    "    \"\"\"\n",
    "    if(mle==False):\n",
    "        opt = tf.optimizers.Adam(1e-2)\n",
    "        mdn_PQ = MDN_module()\n",
    "        mdn_PQ.compile(loss=gnll_loss, optimizer=opt)\n",
    "        mdn_PQ.fit(x=reshapevar(P), y=np.array(Q).T,epochs=100,  batch_size=64,verbose=0)\n",
    "        #return np.array(nlcor.nlcor(P,Q)[0])[0]\n",
    "        return eval_mdn_model(P,Q,mdn_PQ)\n",
    "    else:\n",
    "        return eval_mdn_model_mle(P,Q)\n",
    "        \n",
    "        \n",
    "        \n"
   ]
  },
  {
   "cell_type": "code",
   "execution_count": 145,
   "metadata": {},
   "outputs": [],
   "source": [
    "def compute_loss_y_pred(P,Q,mle=False):\n",
    "    \"\"\" Compute the loss for the given pair\n",
    "    \"\"\"\n",
    "    if(mle==False):\n",
    "        opt = tf.optimizers.Adam(1e-2)\n",
    "        mdn_PQ = MDN_module()\n",
    "        mdn_PQ.compile(loss=gnll_loss, optimizer=opt)\n",
    "        mdn_PQ.fit(x=reshapevar(P), y=np.array(Q).T,epochs=100,  batch_size=64,verbose=0)\n",
    "        y_pred = mdn_PQ.predict(np.reshape(P,newshape=(len(P),-1)))\n",
    "        return y_pred[:,1]\n",
    "    else:\n",
    "        indices_1 = [i for i, x in enumerate(P) if x == 1]\n",
    "        indices_0 = [i for i, x in enumerate(P) if x == -1]\n",
    "        mu_0=np.mean(Q[indices_0])\n",
    "        mu_1=np.mean(Q[indices_1])\n",
    "        #sigma_0=np.std(Q[indices_0])\n",
    "        #sigma_1=np.std(Q[indices_1])\n",
    "        y_mean=np.zeros((len(Q),1))\n",
    "        y_mean[indices_1]=mu_1\n",
    "        y_mean[indices_0]=mu_0\n",
    "        return y_mean.reshape((len(y_mean),))\n",
    "        "
   ]
  },
  {
   "cell_type": "code",
   "execution_count": 146,
   "metadata": {
    "id": "X6V8X2QFpmC7"
   },
   "outputs": [],
   "source": [
    "def shuffleBtimes(P,Q,B,mle=False):\n",
    "    \"\"\" Shuffle Q B times and compute the loss \n",
    "    \"\"\"\n",
    "    loss=[]\n",
    "    if(mle==False):\n",
    "        for i in range(0,B):\n",
    "          loss.append(compute_loss(P,np.random.permutation(Q)))\n",
    "    else:\n",
    "        for i in range(0,B):\n",
    "          loss.append(compute_loss(P,np.random.permutation(Q),True))\n",
    "    return loss\n"
   ]
  },
  {
   "cell_type": "code",
   "execution_count": 147,
   "metadata": {
    "id": "iUW3ikOHu6PO"
   },
   "outputs": [],
   "source": [
    "def LinearLABData():\n",
    "    \"\"\" Generate the linear data \n",
    "    \"\"\"\n",
    "    L = np.random.binomial(1,0.5,1000)  \n",
    "    beta0 = np.ones(1000)-0.4\n",
    "    #beta1 = 0.5\n",
    "    beta1=3\n",
    "    beta2= 0.3\n",
    "    beta3=0.8\n",
    "    #eps0 = np.random.standard_normal(1000)\n",
    "    #eps1 = np.random.standard_normal(1000)\n",
    "    eps0 = np.random.normal(0,1,1000)\n",
    "    eps1 = np.random.normal(0,1,1000)\n",
    "    A = beta0 + beta1*L + eps0\n",
    "    #B=beta2+beta3*np.sin(A)+eps1\n",
    "    B = beta2+ beta3*A + eps1 \n",
    "    plt.scatter(A,B)\n",
    "    plt.title(\"A vs B\")\n",
    "    plt.xlabel(\"A\")\n",
    "    plt.ylabel(\"B\")\n",
    "    return [L,A,B]"
   ]
  },
  {
   "cell_type": "code",
   "execution_count": 8,
   "metadata": {},
   "outputs": [
    {
     "ename": "KeyboardInterrupt",
     "evalue": "",
     "output_type": "error",
     "traceback": [
      "\u001b[0;31m---------------------------------------------------------------------------\u001b[0m",
      "\u001b[0;31mKeyboardInterrupt\u001b[0m                         Traceback (most recent call last)",
      "Input \u001b[0;32mIn [8]\u001b[0m, in \u001b[0;36m<cell line: 9>\u001b[0;34m()\u001b[0m\n\u001b[1;32m     19\u001b[0m L\u001b[38;5;241m.\u001b[39mappend([\u001b[38;5;28mint\u001b[39m(i) \u001b[38;5;28;01mfor\u001b[39;00m i \u001b[38;5;129;01min\u001b[39;00m l])\n\u001b[1;32m     20\u001b[0m line\u001b[38;5;241m=\u001b[39myeast\u001b[38;5;241m.\u001b[39mreadline()\n\u001b[0;32m---> 21\u001b[0m a \u001b[38;5;241m=\u001b[39m [j \u001b[38;5;28;01mfor\u001b[39;00m j \u001b[38;5;129;01min\u001b[39;00m line\u001b[38;5;241m.\u001b[39msplit()]\n\u001b[1;32m     22\u001b[0m A\u001b[38;5;241m.\u001b[39mappend([\u001b[38;5;28mfloat\u001b[39m(i) \u001b[38;5;28;01mfor\u001b[39;00m i \u001b[38;5;129;01min\u001b[39;00m a])\n\u001b[1;32m     23\u001b[0m line\u001b[38;5;241m=\u001b[39myeast\u001b[38;5;241m.\u001b[39mreadline()\n",
      "Input \u001b[0;32mIn [8]\u001b[0m, in \u001b[0;36m<listcomp>\u001b[0;34m(.0)\u001b[0m\n\u001b[1;32m     19\u001b[0m L\u001b[38;5;241m.\u001b[39mappend([\u001b[38;5;28mint\u001b[39m(i) \u001b[38;5;28;01mfor\u001b[39;00m i \u001b[38;5;129;01min\u001b[39;00m l])\n\u001b[1;32m     20\u001b[0m line\u001b[38;5;241m=\u001b[39myeast\u001b[38;5;241m.\u001b[39mreadline()\n\u001b[0;32m---> 21\u001b[0m a \u001b[38;5;241m=\u001b[39m [j \u001b[38;5;28;01mfor\u001b[39;00m j \u001b[38;5;129;01min\u001b[39;00m line\u001b[38;5;241m.\u001b[39msplit()]\n\u001b[1;32m     22\u001b[0m A\u001b[38;5;241m.\u001b[39mappend([\u001b[38;5;28mfloat\u001b[39m(i) \u001b[38;5;28;01mfor\u001b[39;00m i \u001b[38;5;129;01min\u001b[39;00m a])\n\u001b[1;32m     23\u001b[0m line\u001b[38;5;241m=\u001b[39myeast\u001b[38;5;241m.\u001b[39mreadline()\n",
      "\u001b[0;31mKeyboardInterrupt\u001b[0m: "
     ]
    }
   ],
   "source": [
    "yeast=open(\"../yeast_full_data/yeast_residual_data_full_62k_gt1.txt\",\"r\")\n",
    "\n",
    "\n",
    "\n",
    "#yeast data read \n",
    "L=[]\n",
    "A=[]\n",
    "B=[]\n",
    "for i in range(0,62296):\n",
    "    line=yeast.readline()\n",
    "    #line=line[1:-2] #remove double quotes \n",
    "    #param = [j for j in line.split()]\n",
    "    #print(param)\n",
    "    #chrname.append(param[1])\n",
    "    #g1.append(param[2])\n",
    "    #g2.append(param[3])\n",
    "    line=yeast.readline()\n",
    "    l = [j for j in line.split()]\n",
    "    L.append([int(i) for i in l])\n",
    "    line=yeast.readline()\n",
    "    a = [j for j in line.split()]\n",
    "    A.append([float(i) for i in a])\n",
    "    line=yeast.readline()\n",
    "    b = [j for j in line.split()]\n",
    "    B.append([float(i) for i in b])\n",
    "dataset_0 = [i for i in zip(L,A,B)]\n"
   ]
  },
  {
   "cell_type": "code",
   "execution_count": null,
   "metadata": {},
   "outputs": [],
   "source": [
    "plt.scatter(dataset_0[2732][1],dataset_0[2732][2])"
   ]
  },
  {
   "cell_type": "code",
   "execution_count": null,
   "metadata": {},
   "outputs": [],
   "source": [
    "L=np.array(dataset_0[2732][0])\n",
    "A=np.array(dataset_0[2732][1])\n",
    "B=np.array(dataset_0[2732][2])"
   ]
  },
  {
   "cell_type": "code",
   "execution_count": null,
   "metadata": {},
   "outputs": [],
   "source": []
  },
  {
   "cell_type": "code",
   "execution_count": null,
   "metadata": {},
   "outputs": [],
   "source": [
    "open(\"dataset_params.txt\", \"r\")"
   ]
  },
  {
   "cell_type": "code",
   "execution_count": null,
   "metadata": {},
   "outputs": [],
   "source": []
  },
  {
   "cell_type": "code",
   "execution_count": 148,
   "metadata": {},
   "outputs": [],
   "source": [
    "fo=open(\"/home/aravind/projects/CIT_Non_Linear/LinearDifferentvalues/testing_writingvalues_diff_variance.txt\", \"r\")\n",
    "L=[]\n",
    "A=[]\n",
    "B=[]\n",
    "#fe=open(\"dataset_params.txt\",'w')\n",
    "for i in range(0,121):\n",
    "    line=fo.readline()\n",
    "    #fe.write(line)\n",
    "    #line=line[1:-2] #remove double quotes \n",
    "    #param = [j for j in line.split()]\n",
    "    #print(param)\n",
    "    #chrname.append(param[1])\n",
    "    #g1.append(param[2])\n",
    "    #g2.append(param[3])\n",
    "    line=fo.readline()\n",
    "    l = [j for j in line.split()]\n",
    "    L.append([int(i) for i in l])\n",
    "    line=fo.readline()\n",
    "    a = [j for j in line.split()]\n",
    "    A.append([float(i) for i in a])\n",
    "    line=fo.readline()\n",
    "    b = [j for j in line.split()]\n",
    "    B.append([float(i) for i in b])\n",
    "dataset_linear = [i for i in zip(L,A,B)]\n",
    "fo.close()\n",
    "#fe.close()"
   ]
  },
  {
   "cell_type": "code",
   "execution_count": 149,
   "metadata": {},
   "outputs": [],
   "source": [
    "L=dataset_linear[3][0]\n",
    "A=dataset_linear[3][1]\n",
    "B=dataset_linear[3][2]"
   ]
  },
  {
   "cell_type": "code",
   "execution_count": 150,
   "metadata": {},
   "outputs": [
    {
     "data": {
      "text/plain": [
       "<matplotlib.collections.PathCollection at 0x7f94959a0ee0>"
      ]
     },
     "execution_count": 150,
     "metadata": {},
     "output_type": "execute_result"
    },
    {
     "data": {
      "image/png": "[encoded data removed]",
      "text/plain": [
       "<Figure size 432x288 with 1 Axes>"
      ]
     },
     "metadata": {
      "needs_background": "light"
     },
     "output_type": "display_data"
    }
   ],
   "source": [
    "plt.scatter(A,B)"
   ]
  },
  {
   "cell_type": "code",
   "execution_count": null,
   "metadata": {},
   "outputs": [],
   "source": [
    "yeast=open(\"../yeast_full_data/yeast_residual_data_full_209k_gt2.txt\",\"r\")\n",
    "L=[]\n",
    "A=[]\n",
    "B=[]\n",
    "for i in range(0,209157):\n",
    "    line=yeast.readline()\n",
    "    #line=line[1:-2] #remove double quotes \n",
    "    #param = [j for j in line.split()]\n",
    "    #print(param)\n",
    "    #chrname.append(param[1])\n",
    "    #g1.append(param[2])\n",
    "    #g2.append(param[3])\n",
    "    line=yeast.readline()\n",
    "    l = [j for j in line.split()]\n",
    "    L.append([int(i) for i in l])\n",
    "    line=yeast.readline()\n",
    "    a = [j for j in line.split()]\n",
    "    A.append([float(i) for i in a])\n",
    "    line=yeast.readline()\n",
    "    b = [j for j in line.split()]\n",
    "    B.append([float(i) for i in b])\n",
    "dataset_0 = [i for i in zip(L,A,B)]"
   ]
  },
  {
   "cell_type": "code",
   "execution_count": null,
   "metadata": {},
   "outputs": [],
   "source": [
    "read_file = open(\"indicesUsedIndependent.pkl\", \"rb\")\n",
    "indices=pickle.load(read_file)\n",
    "read_file.close()"
   ]
  },
  {
   "cell_type": "code",
   "execution_count": null,
   "metadata": {},
   "outputs": [],
   "source": [
    "dataset_yeast10k_ind=[dataset_0[q] for q in indices]"
   ]
  },
  {
   "cell_type": "code",
   "execution_count": null,
   "metadata": {},
   "outputs": [],
   "source": [
    "read_file = open(\"indicesUsedIndependent.pkl\", \"rb\")\n",
    "indices=pickle.load(read_file)\n",
    "read_file.close()"
   ]
  },
  {
   "cell_type": "code",
   "execution_count": null,
   "metadata": {},
   "outputs": [],
   "source": [
    "fo=open(\"./LinearDifferentvalues/testing_writingvalues_Indpendent.txt\", \"r\")\n",
    "L=[]\n",
    "A=[]\n",
    "B=[]\n",
    "#fe=open(\"dataset_params.txt\",'w')\n",
    "for i in range(0,100):\n",
    "    line=fo.readline()\n",
    "    #fe.write(line)\n",
    "    #line=line[1:-2] #remove double quotes \n",
    "    #param = [j for j in line.split()]\n",
    "    #print(param)\n",
    "    #chrname.append(param[1])\n",
    "    #g1.append(param[2])\n",
    "    #g2.append(param[3])\n",
    "    line=fo.readline()\n",
    "    l = [j for j in line.split()]\n",
    "    L.append([int(i) for i in l])\n",
    "    line=fo.readline()\n",
    "    a = [j for j in line.split()]\n",
    "    A.append([float(i) for i in a])\n",
    "    line=fo.readline()\n",
    "    b = [j for j in line.split()]\n",
    "    B.append([float(i) for i in b])\n",
    "dataset_linear = [i for i in zip(L,A,B)]\n",
    "fo.close()\n",
    "#fe.close()"
   ]
  },
  {
   "cell_type": "code",
   "execution_count": null,
   "metadata": {},
   "outputs": [],
   "source": [
    "import os\n",
    "os.getcwd()"
   ]
  },
  {
   "cell_type": "code",
   "execution_count": null,
   "metadata": {},
   "outputs": [],
   "source": [
    "fer=open(\"../LinearDifferentvalues/dataset_params_Linear0to1.txt\",\"r\")\n",
    "dataset_names=[]\n",
    "for i in range(0,121):\n",
    "    line=fer.readline()\n",
    "    line=\"_\".join(line.split())\n",
    "    dataset_names.append(line)\n",
    "fer.close()"
   ]
  },
  {
   "cell_type": "code",
   "execution_count": 152,
   "metadata": {},
   "outputs": [],
   "source": [
    "def calculate_pvalue(original,loss_list):\n",
    "    '''\n",
    "    calculate the p value \n",
    "    '''\n",
    "    return sum(abs(i) < abs(original) for i in loss_list)/len(loss_list)\n",
    "    \n",
    "    "
   ]
  },
  {
   "cell_type": "code",
   "execution_count": 153,
   "metadata": {},
   "outputs": [],
   "source": [
    "def compute_third_testloss(A,B):\n",
    "    opt = tf.optimizers.Adam(1e-2)\n",
    "    mdn_PQ = MDN_module()\n",
    "    mdn_PQ.compile(loss=gnll_loss, optimizer=opt)\n",
    "##changing epochs didnt make much difference\n",
    "\n",
    "#mdn_PQ.fit(x=C, y=np.array(B).T,epochs=300,  batch_size=64)\n",
    "    withoutL=mdn_PQ.fit(x=A, y=B.T,epochs=100,  batch_size=64,verbose=0)\n",
    "    y_pred = mdn_PQ.predict(A)\n",
    "    alpha,mu,sigma = slice_parameter_vectors(y_pred)\n",
    "    gm = tfd.MixtureSameFamily(\n",
    "        mixture_distribution=tfd.Categorical(probs=alpha),\n",
    "        components_distribution=tfd.Normal(\n",
    "            loc=mu,       \n",
    "            scale=sigma))\n",
    "    log_likelihood = gm.log_prob(B).numpy()\n",
    "    return -tf.reduce_mean(log_likelihood, axis=-1).numpy()"
   ]
  },
  {
   "cell_type": "code",
   "execution_count": 154,
   "metadata": {},
   "outputs": [],
   "source": [
    "def calculate_difference(L,A,B):\n",
    "    return compute_third_testloss(reshapevar(A),np.array(B))-compute_third_testloss(np.concatenate([L.reshape(-1,1),A.reshape(-1,1)],axis=1),np.array(B))\n",
    "    "
   ]
  },
  {
   "cell_type": "code",
   "execution_count": 155,
   "metadata": {},
   "outputs": [],
   "source": [
    "def stratify_B_n_times_diff(L,A,B,n):\n",
    "    loss=[]\n",
    "    indices_1 = [i for i, x in enumerate(L) if x == 1]\n",
    "    #changing x== -1 \n",
    "    indices_0 = [i for i, x in enumerate(L) if x == -1]\n",
    "    for i in range(0,n):\n",
    "        B_dist_temp=np.zeros(len(B))\n",
    "        mod_indices_1=random.sample(indices_1,len(indices_1))\n",
    "        for i in range(len(indices_1)):\n",
    "            B_dist_temp[indices_1[i]]=B[mod_indices_1[i]]\n",
    "\n",
    "        mod_indices_0=random.sample(indices_0,len(indices_0))\n",
    "        for i in range(len(indices_0)):\n",
    "            B_dist_temp[indices_0[i]]=B[mod_indices_0[i]]\n",
    "        loss.append(calculate_difference(L,A,B_dist_temp))\n",
    "    return loss"
   ]
  },
  {
   "cell_type": "code",
   "execution_count": null,
   "metadata": {},
   "outputs": [],
   "source": [
    "import math"
   ]
  },
  {
   "cell_type": "code",
   "execution_count": 29,
   "metadata": {},
   "outputs": [],
   "source": [
    "def sigmoid(x):\n",
    "  return 1 / (1 + np.exp(-x))\n"
   ]
  },
  {
   "cell_type": "code",
   "execution_count": null,
   "metadata": {},
   "outputs": [],
   "source": [
    "np.heaviside(1,0)"
   ]
  },
  {
   "cell_type": "code",
   "execution_count": null,
   "metadata": {},
   "outputs": [],
   "source": [
    "def hill(x,n):\n",
    "    return x**n / (1+x**n)"
   ]
  },
  {
   "cell_type": "code",
   "execution_count": null,
   "metadata": {},
   "outputs": [],
   "source": [
    "L = np.random.binomial(1,0.5,1000)  \n",
    "L[L==0]=-1"
   ]
  },
  {
   "cell_type": "code",
   "execution_count": null,
   "metadata": {},
   "outputs": [],
   "source": [
    "eps0 = np.random.normal(0,1,1000)\n",
    "eps1 = np.random.normal(0,1,1000)\n",
    "A = L + eps0\n",
    "B = abs(A)+eps1"
   ]
  },
  {
   "cell_type": "code",
   "execution_count": null,
   "metadata": {},
   "outputs": [],
   "source": [
    "plt.scatter(A,B)"
   ]
  },
  {
   "cell_type": "code",
   "execution_count": null,
   "metadata": {},
   "outputs": [],
   "source": [
    "min(A)"
   ]
  },
  {
   "cell_type": "code",
   "execution_count": null,
   "metadata": {},
   "outputs": [],
   "source": [
    "L=L[A<3]\n",
    "B=B[A<3]\n",
    "A=A[A<3]"
   ]
  },
  {
   "cell_type": "code",
   "execution_count": null,
   "metadata": {},
   "outputs": [],
   "source": []
  },
  {
   "cell_type": "code",
   "execution_count": null,
   "metadata": {},
   "outputs": [],
   "source": [
    "L = np.random.binomial(1,0.5,1000)  \n",
    "eps0 = np.random.normal(0,1,1000)\n",
    "eps1 = np.random.normal(0,1,1000)\n",
    "A = 10*L + eps0**2\n",
    "B = 10*L+eps1\n",
    "#A =5*L+ eps0\n",
    "#B = 5*L+eps1\n",
    "#A = L + eps0\n",
    "#B = hill(A,20)+eps1"
   ]
  },
  {
   "cell_type": "code",
   "execution_count": null,
   "metadata": {},
   "outputs": [],
   "source": [
    "L=dataset_linear[0][0]\n",
    "A=dataset_linear[0][1]\n",
    "B=dataset_linear[0][2]"
   ]
  },
  {
   "cell_type": "code",
   "execution_count": null,
   "metadata": {},
   "outputs": [],
   "source": [
    "len(L)"
   ]
  },
  {
   "cell_type": "code",
   "execution_count": null,
   "metadata": {},
   "outputs": [],
   "source": [
    "np.sin(1)*10"
   ]
  },
  {
   "cell_type": "code",
   "execution_count": null,
   "metadata": {},
   "outputs": [],
   "source": [
    "plt.scatter(A,B)\n",
    "plt.xlabel(\"A\")\n",
    "\n",
    "plt.ylabel(\"B\")"
   ]
  },
  {
   "cell_type": "code",
   "execution_count": null,
   "metadata": {},
   "outputs": [],
   "source": [
    "plt.scatter(L,A)"
   ]
  },
  {
   "cell_type": "code",
   "execution_count": null,
   "metadata": {},
   "outputs": [],
   "source": [
    "plt.scatter(L,B)"
   ]
  },
  {
   "cell_type": "code",
   "execution_count": null,
   "metadata": {},
   "outputs": [],
   "source": [
    "plt.scatter(A,B)"
   ]
  },
  {
   "cell_type": "code",
   "execution_count": 156,
   "metadata": {},
   "outputs": [],
   "source": [
    "i=44\n",
    "A=np.array(dataset_linear[i][1])\n",
    "B=np.array(dataset_linear[i][2])\n",
    "L=np.array(dataset_linear[i][0])"
   ]
  },
  {
   "cell_type": "code",
   "execution_count": 104,
   "metadata": {},
   "outputs": [],
   "source": [
    "    i=3\n",
    "   \n",
    "    shuffles=100\n",
    "    A_shuffle=np.copy(A)\n",
    "    B_shuffle=np.copy(B)\n",
    "    #print(\"Original\",B_shuffle)\n",
    "    #changed the second test from mle to using neural networks\n",
    "    loss_list_LA=shuffleBtimes(L,A_shuffle,shuffles,True)\n",
    "    loss_list_LB=shuffleBtimes(L,B_shuffle,shuffles,True)\n",
    "    loss_list_Bresidual=stratify_B_n_times_diff(L,A_shuffle,B_shuffle,shuffles) #conditional independence test\n",
    "    true_LA=compute_loss(L,A,True)\n",
    "    true_LB=compute_loss(L,B,True)\n",
    "    true_LBresidual=calculate_difference(L,A,B)\n",
    "    LA_p=calculate_pvalue(true_LA,loss_list_LA)\n",
    "    LB_p=calculate_pvalue(true_LB,loss_list_LB)\n",
    "    AB_p=calculate_pvalue(true_LBresidual,loss_list_Bresidual)\n",
    "    #f.write(str(i)+\",\"+str(LA_p)+\",\"+str(LB_p)+\",\"+str(AB_p)+\"\\n\")\n",
    "    #pickle_items=[loss_list_LA,loss_list_LB,loss_list_Bresidual,true_LA,true_LB,true_LBresidual,LA_p,LB_p,AB_p]\n",
    "    #file_name=str(dataset_names[i])+\".pkl\"\n",
    "    #open_file = open(\"./DLresultspickle/\"+file_name, \"wb\")\n",
    "    #pickle.dump(pickle_items, open_file)\n",
    "    #open_file.close()"
   ]
  },
  {
   "cell_type": "code",
   "execution_count": 108,
   "metadata": {},
   "outputs": [],
   "source": [
    " true_LBresidual=calculate_difference(L,A,B)"
   ]
  },
  {
   "cell_type": "code",
   "execution_count": 15,
   "metadata": {},
   "outputs": [],
   "source": [
    "LA_p=calculate_pvalue(true_LA,loss_list_LA)\n",
    "LB_p=calculate_pvalue(true_LB,loss_list_LB)\n",
    "AB_p=calculate_pvalue(true_LBresidual,loss_list_Bresidual)"
   ]
  },
  {
   "cell_type": "code",
   "execution_count": 95,
   "metadata": {},
   "outputs": [
    {
     "data": {
      "text/plain": [
       "0.0"
      ]
     },
     "execution_count": 95,
     "metadata": {},
     "output_type": "execute_result"
    }
   ],
   "source": [
    "AB_p"
   ]
  },
  {
   "cell_type": "code",
   "execution_count": 109,
   "metadata": {},
   "outputs": [
    {
     "data": {
      "text/plain": [
       "-0.40113497"
      ]
     },
     "execution_count": 109,
     "metadata": {},
     "output_type": "execute_result"
    }
   ],
   "source": [
    "true_LBresidual"
   ]
  },
  {
   "cell_type": "code",
   "execution_count": 106,
   "metadata": {},
   "outputs": [
    {
     "data": {
      "text/plain": [
       "[0.1034255,\n",
       " 0.21530747,\n",
       " 0.2973969,\n",
       " 0.1493783,\n",
       " 0.20811844,\n",
       " 0.19837022,\n",
       " 0.14677954,\n",
       " 0.15828586,\n",
       " 0.26463056,\n",
       " 0.21028686,\n",
       " 0.21576309,\n",
       " 0.24720073,\n",
       " 0.10089111,\n",
       " 0.38521934,\n",
       " 0.29315948,\n",
       " 0.24277973,\n",
       " 0.2861731,\n",
       " 0.1361661,\n",
       " 0.22935343,\n",
       " 0.22031498,\n",
       " 0.13785648,\n",
       " 0.26345634,\n",
       " 0.10739279,\n",
       " 0.2706716,\n",
       " -0.09165287,\n",
       " -0.013129234,\n",
       " -0.022650719,\n",
       " 0.15366268,\n",
       " 0.19499588,\n",
       " 0.17260051,\n",
       " 0.22359538,\n",
       " 0.29292727,\n",
       " 0.20893192,\n",
       " 0.2250719,\n",
       " 0.1461339,\n",
       " 0.17099476,\n",
       " 0.20526218,\n",
       " 0.13453603,\n",
       " 0.08206415,\n",
       " 0.17685318,\n",
       " 0.1968031,\n",
       " 0.2246387,\n",
       " -50.663853,\n",
       " 0.4532671,\n",
       " 0.23932672,\n",
       " 0.022576332,\n",
       " 0.080266714,\n",
       " 0.22540236,\n",
       " 0.22494268,\n",
       " 0.30157804,\n",
       " 0.13468552,\n",
       " 0.17605066,\n",
       " -14.51969,\n",
       " 0.21334195,\n",
       " 0.16230607,\n",
       " 0.21066332,\n",
       " 0.16581249,\n",
       " 0.22201538,\n",
       " 0.33798552,\n",
       " 0.09794617,\n",
       " 0.20945358,\n",
       " 0.25111055,\n",
       " 0.10890293,\n",
       " 0.21075892,\n",
       " 0.23340821,\n",
       " 0.09951162,\n",
       " 0.24993587,\n",
       " 0.19420552,\n",
       " 0.12784195,\n",
       " 0.24397397,\n",
       " 0.24710274,\n",
       " 0.3585434,\n",
       " 0.20219326,\n",
       " 0.17110968,\n",
       " 0.25668287,\n",
       " 0.17077684,\n",
       " 0.054103374,\n",
       " 0.31777096,\n",
       " 0.05252552,\n",
       " 0.1968112,\n",
       " 0.21893072,\n",
       " 0.2630558,\n",
       " 0.23719382,\n",
       " 0.40694642,\n",
       " 0.36337447,\n",
       " 0.15871215,\n",
       " 0.13982129,\n",
       " 0.28080368,\n",
       " 0.2012701,\n",
       " 0.22977662,\n",
       " 0.24279118,\n",
       " 0.30236936,\n",
       " 0.38780618,\n",
       " 0.28125167,\n",
       " 0.1661768,\n",
       " 0.24158597,\n",
       " 0.3824432,\n",
       " 0.10398388,\n",
       " 0.28356552,\n",
       " 0.2070589]"
      ]
     },
     "execution_count": 106,
     "metadata": {},
     "output_type": "execute_result"
    }
   ],
   "source": [
    "loss_list_Bresidual"
   ]
  },
  {
   "cell_type": "code",
   "execution_count": 98,
   "metadata": {},
   "outputs": [
    {
     "data": {
      "text/plain": [
       "[False,\n",
       " False,\n",
       " False,\n",
       " False,\n",
       " False,\n",
       " False,\n",
       " False,\n",
       " False,\n",
       " False,\n",
       " False,\n",
       " False,\n",
       " False,\n",
       " False,\n",
       " False,\n",
       " False,\n",
       " False,\n",
       " False,\n",
       " False,\n",
       " False,\n",
       " False,\n",
       " False,\n",
       " False,\n",
       " False,\n",
       " False,\n",
       " False,\n",
       " False,\n",
       " False,\n",
       " False,\n",
       " False,\n",
       " False,\n",
       " False,\n",
       " False,\n",
       " False,\n",
       " False,\n",
       " False,\n",
       " False,\n",
       " False,\n",
       " False,\n",
       " False,\n",
       " False,\n",
       " False,\n",
       " False,\n",
       " False,\n",
       " False,\n",
       " False,\n",
       " False,\n",
       " False,\n",
       " False,\n",
       " False,\n",
       " False,\n",
       " False,\n",
       " False,\n",
       " False,\n",
       " False,\n",
       " False,\n",
       " False,\n",
       " False,\n",
       " False,\n",
       " False,\n",
       " False,\n",
       " False,\n",
       " False,\n",
       " False,\n",
       " False,\n",
       " False,\n",
       " False,\n",
       " False,\n",
       " False,\n",
       " False,\n",
       " False,\n",
       " False,\n",
       " False,\n",
       " False,\n",
       " False,\n",
       " False,\n",
       " False,\n",
       " False,\n",
       " False,\n",
       " False,\n",
       " False,\n",
       " False,\n",
       " False,\n",
       " False,\n",
       " False,\n",
       " False,\n",
       " False,\n",
       " False,\n",
       " False,\n",
       " False,\n",
       " False,\n",
       " False,\n",
       " False,\n",
       " False,\n",
       " False,\n",
       " False,\n",
       " False,\n",
       " False,\n",
       " False,\n",
       " False,\n",
       " False]"
      ]
     },
     "execution_count": 98,
     "metadata": {},
     "output_type": "execute_result"
    }
   ],
   "source": [
    "[i < true_LBresidual for i in loss_list_Bresidual]"
   ]
  },
  {
   "cell_type": "code",
   "execution_count": 14,
   "metadata": {},
   "outputs": [
    {
     "name": "stderr",
     "output_type": "stream",
     "text": [
      "/home/aravind/anaconda3/lib/python3.9/site-packages/numpy/ma/core.py:2829: VisibleDeprecationWarning: Creating an ndarray from ragged nested sequences (which is a list-or-tuple of lists-or-tuples-or ndarrays with different lengths or shapes) is deprecated. If you meant to do this, you must specify 'dtype=object' when creating the ndarray.\n",
      "  _data = np.array(data, dtype=dtype, copy=copy,\n"
     ]
    },
    {
     "ename": "ValueError",
     "evalue": "setting an array element with a sequence.",
     "output_type": "error",
     "traceback": [
      "\u001b[0;31m---------------------------------------------------------------------------\u001b[0m",
      "\u001b[0;31mTypeError\u001b[0m                                 Traceback (most recent call last)",
      "\u001b[0;31mTypeError\u001b[0m: float() argument must be a string or a number, not 'list'",
      "\nThe above exception was the direct cause of the following exception:\n",
      "\u001b[0;31mValueError\u001b[0m                                Traceback (most recent call last)",
      "Input \u001b[0;32mIn [14]\u001b[0m, in \u001b[0;36m<cell line: 1>\u001b[0;34m()\u001b[0m\n\u001b[0;32m----> 1\u001b[0m \u001b[43mplt\u001b[49m\u001b[38;5;241;43m.\u001b[39;49m\u001b[43mscatter\u001b[49m\u001b[43m(\u001b[49m\u001b[43mA\u001b[49m\u001b[43m,\u001b[49m\u001b[43mB\u001b[49m\u001b[43m)\u001b[49m\n\u001b[1;32m      2\u001b[0m plt\u001b[38;5;241m.\u001b[39mxlabel(\u001b[38;5;124m\"\u001b[39m\u001b[38;5;124mA\u001b[39m\u001b[38;5;124m\"\u001b[39m)\n\u001b[1;32m      3\u001b[0m plt\u001b[38;5;241m.\u001b[39mylabel(\u001b[38;5;124m\"\u001b[39m\u001b[38;5;124mB\u001b[39m\u001b[38;5;124m\"\u001b[39m)\n",
      "File \u001b[0;32m~/anaconda3/lib/python3.9/site-packages/matplotlib/pyplot.py:2819\u001b[0m, in \u001b[0;36mscatter\u001b[0;34m(x, y, s, c, marker, cmap, norm, vmin, vmax, alpha, linewidths, edgecolors, plotnonfinite, data, **kwargs)\u001b[0m\n\u001b[1;32m   2814\u001b[0m \u001b[38;5;129m@_copy_docstring_and_deprecators\u001b[39m(Axes\u001b[38;5;241m.\u001b[39mscatter)\n\u001b[1;32m   2815\u001b[0m \u001b[38;5;28;01mdef\u001b[39;00m \u001b[38;5;21mscatter\u001b[39m(\n\u001b[1;32m   2816\u001b[0m         x, y, s\u001b[38;5;241m=\u001b[39m\u001b[38;5;28;01mNone\u001b[39;00m, c\u001b[38;5;241m=\u001b[39m\u001b[38;5;28;01mNone\u001b[39;00m, marker\u001b[38;5;241m=\u001b[39m\u001b[38;5;28;01mNone\u001b[39;00m, cmap\u001b[38;5;241m=\u001b[39m\u001b[38;5;28;01mNone\u001b[39;00m, norm\u001b[38;5;241m=\u001b[39m\u001b[38;5;28;01mNone\u001b[39;00m,\n\u001b[1;32m   2817\u001b[0m         vmin\u001b[38;5;241m=\u001b[39m\u001b[38;5;28;01mNone\u001b[39;00m, vmax\u001b[38;5;241m=\u001b[39m\u001b[38;5;28;01mNone\u001b[39;00m, alpha\u001b[38;5;241m=\u001b[39m\u001b[38;5;28;01mNone\u001b[39;00m, linewidths\u001b[38;5;241m=\u001b[39m\u001b[38;5;28;01mNone\u001b[39;00m, \u001b[38;5;241m*\u001b[39m,\n\u001b[1;32m   2818\u001b[0m         edgecolors\u001b[38;5;241m=\u001b[39m\u001b[38;5;28;01mNone\u001b[39;00m, plotnonfinite\u001b[38;5;241m=\u001b[39m\u001b[38;5;28;01mFalse\u001b[39;00m, data\u001b[38;5;241m=\u001b[39m\u001b[38;5;28;01mNone\u001b[39;00m, \u001b[38;5;241m*\u001b[39m\u001b[38;5;241m*\u001b[39mkwargs):\n\u001b[0;32m-> 2819\u001b[0m     __ret \u001b[38;5;241m=\u001b[39m \u001b[43mgca\u001b[49m\u001b[43m(\u001b[49m\u001b[43m)\u001b[49m\u001b[38;5;241;43m.\u001b[39;49m\u001b[43mscatter\u001b[49m\u001b[43m(\u001b[49m\n\u001b[1;32m   2820\u001b[0m \u001b[43m        \u001b[49m\u001b[43mx\u001b[49m\u001b[43m,\u001b[49m\u001b[43m \u001b[49m\u001b[43my\u001b[49m\u001b[43m,\u001b[49m\u001b[43m \u001b[49m\u001b[43ms\u001b[49m\u001b[38;5;241;43m=\u001b[39;49m\u001b[43ms\u001b[49m\u001b[43m,\u001b[49m\u001b[43m \u001b[49m\u001b[43mc\u001b[49m\u001b[38;5;241;43m=\u001b[39;49m\u001b[43mc\u001b[49m\u001b[43m,\u001b[49m\u001b[43m \u001b[49m\u001b[43mmarker\u001b[49m\u001b[38;5;241;43m=\u001b[39;49m\u001b[43mmarker\u001b[49m\u001b[43m,\u001b[49m\u001b[43m \u001b[49m\u001b[43mcmap\u001b[49m\u001b[38;5;241;43m=\u001b[39;49m\u001b[43mcmap\u001b[49m\u001b[43m,\u001b[49m\u001b[43m \u001b[49m\u001b[43mnorm\u001b[49m\u001b[38;5;241;43m=\u001b[39;49m\u001b[43mnorm\u001b[49m\u001b[43m,\u001b[49m\n\u001b[1;32m   2821\u001b[0m \u001b[43m        \u001b[49m\u001b[43mvmin\u001b[49m\u001b[38;5;241;43m=\u001b[39;49m\u001b[43mvmin\u001b[49m\u001b[43m,\u001b[49m\u001b[43m \u001b[49m\u001b[43mvmax\u001b[49m\u001b[38;5;241;43m=\u001b[39;49m\u001b[43mvmax\u001b[49m\u001b[43m,\u001b[49m\u001b[43m \u001b[49m\u001b[43malpha\u001b[49m\u001b[38;5;241;43m=\u001b[39;49m\u001b[43malpha\u001b[49m\u001b[43m,\u001b[49m\u001b[43m \u001b[49m\u001b[43mlinewidths\u001b[49m\u001b[38;5;241;43m=\u001b[39;49m\u001b[43mlinewidths\u001b[49m\u001b[43m,\u001b[49m\n\u001b[1;32m   2822\u001b[0m \u001b[43m        \u001b[49m\u001b[43medgecolors\u001b[49m\u001b[38;5;241;43m=\u001b[39;49m\u001b[43medgecolors\u001b[49m\u001b[43m,\u001b[49m\u001b[43m \u001b[49m\u001b[43mplotnonfinite\u001b[49m\u001b[38;5;241;43m=\u001b[39;49m\u001b[43mplotnonfinite\u001b[49m\u001b[43m,\u001b[49m\n\u001b[1;32m   2823\u001b[0m \u001b[43m        \u001b[49m\u001b[38;5;241;43m*\u001b[39;49m\u001b[38;5;241;43m*\u001b[39;49m\u001b[43m(\u001b[49m\u001b[43m{\u001b[49m\u001b[38;5;124;43m\"\u001b[39;49m\u001b[38;5;124;43mdata\u001b[39;49m\u001b[38;5;124;43m\"\u001b[39;49m\u001b[43m:\u001b[49m\u001b[43m \u001b[49m\u001b[43mdata\u001b[49m\u001b[43m}\u001b[49m\u001b[43m \u001b[49m\u001b[38;5;28;43;01mif\u001b[39;49;00m\u001b[43m \u001b[49m\u001b[43mdata\u001b[49m\u001b[43m \u001b[49m\u001b[38;5;129;43;01mis\u001b[39;49;00m\u001b[43m \u001b[49m\u001b[38;5;129;43;01mnot\u001b[39;49;00m\u001b[43m \u001b[49m\u001b[38;5;28;43;01mNone\u001b[39;49;00m\u001b[43m \u001b[49m\u001b[38;5;28;43;01melse\u001b[39;49;00m\u001b[43m \u001b[49m\u001b[43m{\u001b[49m\u001b[43m}\u001b[49m\u001b[43m)\u001b[49m\u001b[43m,\u001b[49m\u001b[43m \u001b[49m\u001b[38;5;241;43m*\u001b[39;49m\u001b[38;5;241;43m*\u001b[39;49m\u001b[43mkwargs\u001b[49m\u001b[43m)\u001b[49m\n\u001b[1;32m   2824\u001b[0m     sci(__ret)\n\u001b[1;32m   2825\u001b[0m     \u001b[38;5;28;01mreturn\u001b[39;00m __ret\n",
      "File \u001b[0;32m~/anaconda3/lib/python3.9/site-packages/matplotlib/__init__.py:1412\u001b[0m, in \u001b[0;36m_preprocess_data.<locals>.inner\u001b[0;34m(ax, data, *args, **kwargs)\u001b[0m\n\u001b[1;32m   1409\u001b[0m \u001b[38;5;129m@functools\u001b[39m\u001b[38;5;241m.\u001b[39mwraps(func)\n\u001b[1;32m   1410\u001b[0m \u001b[38;5;28;01mdef\u001b[39;00m \u001b[38;5;21minner\u001b[39m(ax, \u001b[38;5;241m*\u001b[39margs, data\u001b[38;5;241m=\u001b[39m\u001b[38;5;28;01mNone\u001b[39;00m, \u001b[38;5;241m*\u001b[39m\u001b[38;5;241m*\u001b[39mkwargs):\n\u001b[1;32m   1411\u001b[0m     \u001b[38;5;28;01mif\u001b[39;00m data \u001b[38;5;129;01mis\u001b[39;00m \u001b[38;5;28;01mNone\u001b[39;00m:\n\u001b[0;32m-> 1412\u001b[0m         \u001b[38;5;28;01mreturn\u001b[39;00m \u001b[43mfunc\u001b[49m\u001b[43m(\u001b[49m\u001b[43max\u001b[49m\u001b[43m,\u001b[49m\u001b[43m \u001b[49m\u001b[38;5;241;43m*\u001b[39;49m\u001b[38;5;28;43mmap\u001b[39;49m\u001b[43m(\u001b[49m\u001b[43msanitize_sequence\u001b[49m\u001b[43m,\u001b[49m\u001b[43m \u001b[49m\u001b[43margs\u001b[49m\u001b[43m)\u001b[49m\u001b[43m,\u001b[49m\u001b[43m \u001b[49m\u001b[38;5;241;43m*\u001b[39;49m\u001b[38;5;241;43m*\u001b[39;49m\u001b[43mkwargs\u001b[49m\u001b[43m)\u001b[49m\n\u001b[1;32m   1414\u001b[0m     bound \u001b[38;5;241m=\u001b[39m new_sig\u001b[38;5;241m.\u001b[39mbind(ax, \u001b[38;5;241m*\u001b[39margs, \u001b[38;5;241m*\u001b[39m\u001b[38;5;241m*\u001b[39mkwargs)\n\u001b[1;32m   1415\u001b[0m     auto_label \u001b[38;5;241m=\u001b[39m (bound\u001b[38;5;241m.\u001b[39marguments\u001b[38;5;241m.\u001b[39mget(label_namer)\n\u001b[1;32m   1416\u001b[0m                   \u001b[38;5;129;01mor\u001b[39;00m bound\u001b[38;5;241m.\u001b[39mkwargs\u001b[38;5;241m.\u001b[39mget(label_namer))\n",
      "File \u001b[0;32m~/anaconda3/lib/python3.9/site-packages/matplotlib/axes/_axes.py:4451\u001b[0m, in \u001b[0;36mAxes.scatter\u001b[0;34m(self, x, y, s, c, marker, cmap, norm, vmin, vmax, alpha, linewidths, edgecolors, plotnonfinite, **kwargs)\u001b[0m\n\u001b[1;32m   4445\u001b[0m         linewidths \u001b[38;5;241m=\u001b[39m [\n\u001b[1;32m   4446\u001b[0m             lw \u001b[38;5;28;01mif\u001b[39;00m lw \u001b[38;5;129;01mis\u001b[39;00m \u001b[38;5;129;01mnot\u001b[39;00m \u001b[38;5;28;01mNone\u001b[39;00m \u001b[38;5;28;01melse\u001b[39;00m rcParams[\u001b[38;5;124m'\u001b[39m\u001b[38;5;124mlines.linewidth\u001b[39m\u001b[38;5;124m'\u001b[39m]\n\u001b[1;32m   4447\u001b[0m             \u001b[38;5;28;01mfor\u001b[39;00m lw \u001b[38;5;129;01min\u001b[39;00m linewidths]\n\u001b[1;32m   4449\u001b[0m offsets \u001b[38;5;241m=\u001b[39m np\u001b[38;5;241m.\u001b[39mma\u001b[38;5;241m.\u001b[39mcolumn_stack([x, y])\n\u001b[0;32m-> 4451\u001b[0m collection \u001b[38;5;241m=\u001b[39m \u001b[43mmcoll\u001b[49m\u001b[38;5;241;43m.\u001b[39;49m\u001b[43mPathCollection\u001b[49m\u001b[43m(\u001b[49m\n\u001b[1;32m   4452\u001b[0m \u001b[43m        \u001b[49m\u001b[43m(\u001b[49m\u001b[43mpath\u001b[49m\u001b[43m,\u001b[49m\u001b[43m)\u001b[49m\u001b[43m,\u001b[49m\u001b[43m \u001b[49m\u001b[43mscales\u001b[49m\u001b[43m,\u001b[49m\n\u001b[1;32m   4453\u001b[0m \u001b[43m        \u001b[49m\u001b[43mfacecolors\u001b[49m\u001b[38;5;241;43m=\u001b[39;49m\u001b[43mcolors\u001b[49m\u001b[43m,\u001b[49m\n\u001b[1;32m   4454\u001b[0m \u001b[43m        \u001b[49m\u001b[43medgecolors\u001b[49m\u001b[38;5;241;43m=\u001b[39;49m\u001b[43medgecolors\u001b[49m\u001b[43m,\u001b[49m\n\u001b[1;32m   4455\u001b[0m \u001b[43m        \u001b[49m\u001b[43mlinewidths\u001b[49m\u001b[38;5;241;43m=\u001b[39;49m\u001b[43mlinewidths\u001b[49m\u001b[43m,\u001b[49m\n\u001b[1;32m   4456\u001b[0m \u001b[43m        \u001b[49m\u001b[43moffsets\u001b[49m\u001b[38;5;241;43m=\u001b[39;49m\u001b[43moffsets\u001b[49m\u001b[43m,\u001b[49m\n\u001b[1;32m   4457\u001b[0m \u001b[43m        \u001b[49m\u001b[43mtransOffset\u001b[49m\u001b[38;5;241;43m=\u001b[39;49m\u001b[43mkwargs\u001b[49m\u001b[38;5;241;43m.\u001b[39;49m\u001b[43mpop\u001b[49m\u001b[43m(\u001b[49m\u001b[38;5;124;43m'\u001b[39;49m\u001b[38;5;124;43mtransform\u001b[39;49m\u001b[38;5;124;43m'\u001b[39;49m\u001b[43m,\u001b[49m\u001b[43m \u001b[49m\u001b[38;5;28;43mself\u001b[39;49m\u001b[38;5;241;43m.\u001b[39;49m\u001b[43mtransData\u001b[49m\u001b[43m)\u001b[49m\u001b[43m,\u001b[49m\n\u001b[1;32m   4458\u001b[0m \u001b[43m        \u001b[49m\u001b[43malpha\u001b[49m\u001b[38;5;241;43m=\u001b[39;49m\u001b[43malpha\u001b[49m\n\u001b[1;32m   4459\u001b[0m \u001b[43m        \u001b[49m\u001b[43m)\u001b[49m\n\u001b[1;32m   4460\u001b[0m collection\u001b[38;5;241m.\u001b[39mset_transform(mtransforms\u001b[38;5;241m.\u001b[39mIdentityTransform())\n\u001b[1;32m   4461\u001b[0m collection\u001b[38;5;241m.\u001b[39mupdate(kwargs)\n",
      "File \u001b[0;32m~/anaconda3/lib/python3.9/site-packages/matplotlib/collections.py:1012\u001b[0m, in \u001b[0;36mPathCollection.__init__\u001b[0;34m(self, paths, sizes, **kwargs)\u001b[0m\n\u001b[1;32m    998\u001b[0m \u001b[38;5;28;01mdef\u001b[39;00m \u001b[38;5;21m__init__\u001b[39m(\u001b[38;5;28mself\u001b[39m, paths, sizes\u001b[38;5;241m=\u001b[39m\u001b[38;5;28;01mNone\u001b[39;00m, \u001b[38;5;241m*\u001b[39m\u001b[38;5;241m*\u001b[39mkwargs):\n\u001b[1;32m    999\u001b[0m     \u001b[38;5;124;03m\"\"\"\u001b[39;00m\n\u001b[1;32m   1000\u001b[0m \u001b[38;5;124;03m    Parameters\u001b[39;00m\n\u001b[1;32m   1001\u001b[0m \u001b[38;5;124;03m    ----------\u001b[39;00m\n\u001b[0;32m   (...)\u001b[0m\n\u001b[1;32m   1009\u001b[0m \u001b[38;5;124;03m        Forwarded to `.Collection`.\u001b[39;00m\n\u001b[1;32m   1010\u001b[0m \u001b[38;5;124;03m    \"\"\"\u001b[39;00m\n\u001b[0;32m-> 1012\u001b[0m     \u001b[38;5;28;43msuper\u001b[39;49m\u001b[43m(\u001b[49m\u001b[43m)\u001b[49m\u001b[38;5;241;43m.\u001b[39;49m\u001b[38;5;21;43m__init__\u001b[39;49m\u001b[43m(\u001b[49m\u001b[38;5;241;43m*\u001b[39;49m\u001b[38;5;241;43m*\u001b[39;49m\u001b[43mkwargs\u001b[49m\u001b[43m)\u001b[49m\n\u001b[1;32m   1013\u001b[0m     \u001b[38;5;28mself\u001b[39m\u001b[38;5;241m.\u001b[39mset_paths(paths)\n\u001b[1;32m   1014\u001b[0m     \u001b[38;5;28mself\u001b[39m\u001b[38;5;241m.\u001b[39mset_sizes(sizes)\n",
      "File \u001b[0;32m~/anaconda3/lib/python3.9/site-packages/matplotlib/collections.py:196\u001b[0m, in \u001b[0;36mCollection.__init__\u001b[0;34m(self, edgecolors, facecolors, linewidths, linestyles, capstyle, joinstyle, antialiaseds, offsets, transOffset, norm, cmap, pickradius, hatch, urls, zorder, **kwargs)\u001b[0m\n\u001b[1;32m    193\u001b[0m     \u001b[38;5;28mself\u001b[39m\u001b[38;5;241m.\u001b[39m_joinstyle \u001b[38;5;241m=\u001b[39m \u001b[38;5;28;01mNone\u001b[39;00m\n\u001b[1;32m    195\u001b[0m \u001b[38;5;28;01mif\u001b[39;00m offsets \u001b[38;5;129;01mis\u001b[39;00m \u001b[38;5;129;01mnot\u001b[39;00m \u001b[38;5;28;01mNone\u001b[39;00m:\n\u001b[0;32m--> 196\u001b[0m     offsets \u001b[38;5;241m=\u001b[39m \u001b[43mnp\u001b[49m\u001b[38;5;241;43m.\u001b[39;49m\u001b[43masanyarray\u001b[49m\u001b[43m(\u001b[49m\u001b[43moffsets\u001b[49m\u001b[43m,\u001b[49m\u001b[43m \u001b[49m\u001b[38;5;28;43mfloat\u001b[39;49m\u001b[43m)\u001b[49m\n\u001b[1;32m    197\u001b[0m     \u001b[38;5;66;03m# Broadcast (2,) -> (1, 2) but nothing else.\u001b[39;00m\n\u001b[1;32m    198\u001b[0m     \u001b[38;5;28;01mif\u001b[39;00m offsets\u001b[38;5;241m.\u001b[39mshape \u001b[38;5;241m==\u001b[39m (\u001b[38;5;241m2\u001b[39m,):\n",
      "\u001b[0;31mValueError\u001b[0m: setting an array element with a sequence."
     ]
    },
    {
     "data": {
      "image/png": "[encoded data removed]",
      "text/plain": [
       "<Figure size 432x288 with 1 Axes>"
      ]
     },
     "metadata": {
      "needs_background": "light"
     },
     "output_type": "display_data"
    }
   ],
   "source": [
    "plt.scatter(A,B)\n",
    "plt.xlabel(\"A\")\n",
    "plt.ylabel(\"B\")"
   ]
  },
  {
   "cell_type": "code",
   "execution_count": 127,
   "metadata": {},
   "outputs": [
    {
     "data": {
      "text/plain": [
       "<matplotlib.collections.PathCollection at 0x7f9495daebb0>"
      ]
     },
     "execution_count": 127,
     "metadata": {},
     "output_type": "execute_result"
    },
    {
     "data": {
      "image/png": "[encoded data removed]",
      "text/plain": [
       "<Figure size 432x288 with 1 Axes>"
      ]
     },
     "metadata": {
      "needs_background": "light"
     },
     "output_type": "display_data"
    }
   ],
   "source": [
    "plt.scatter(A,B)"
   ]
  },
  {
   "cell_type": "code",
   "execution_count": 107,
   "metadata": {},
   "outputs": [
    {
     "name": "stdout",
     "output_type": "stream",
     "text": [
      "0.0\n",
      "0.0\n",
      "1.0\n"
     ]
    }
   ],
   "source": [
    "#print(dataset_names[120])\n",
    "print(LA_p)\n",
    "print(LB_p)\n",
    "print(AB_p)"
   ]
  },
  {
   "cell_type": "code",
   "execution_count": 19,
   "metadata": {},
   "outputs": [
    {
     "data": {
      "text/plain": [
       "1000"
      ]
     },
     "execution_count": 19,
     "metadata": {},
     "output_type": "execute_result"
    }
   ],
   "source": [
    "len(A)"
   ]
  },
  {
   "cell_type": "code",
   "execution_count": null,
   "metadata": {
    "scrolled": true
   },
   "outputs": [],
   "source": [
    "loss_list_LB"
   ]
  },
  {
   "cell_type": "code",
   "execution_count": null,
   "metadata": {},
   "outputs": [],
   "source": [
    "true_LB"
   ]
  },
  {
   "cell_type": "code",
   "execution_count": null,
   "metadata": {},
   "outputs": [],
   "source": [
    "plt.scatter(L,B)"
   ]
  },
  {
   "cell_type": "code",
   "execution_count": 171,
   "metadata": {},
   "outputs": [],
   "source": [
    "i=120\n",
    "#A=np.array(dataset_linear[i][1])\n",
    "#B=np.array(dataset_linear[i][2])\n",
    "#L=np.array(dataset_linear[i][0])\n",
    "opt = tf.optimizers.Nadam(1e-2)\n",
    "mdn_PQ = MDN_module()\n",
    "mdn_PQ.compile(loss=gnll_loss, optimizer=opt)\n",
    "withoutL=mdn_PQ.fit(x=np.concatenate([L.reshape(-1,1),A.reshape(-1,1)],axis=1), y=B.T,epochs=100,  batch_size=64,verbose=0)\n",
    "y_pred = mdn_PQ.predict(np.concatenate([L.reshape(-1,1),A.reshape(-1,1)],axis=1))\n"
   ]
  },
  {
   "cell_type": "code",
   "execution_count": 172,
   "metadata": {},
   "outputs": [],
   "source": [
    "alpha,mu,sigma = slice_parameter_vectors(y_pred)\n",
    "gm = tfd.MixtureSameFamily(\n",
    "        mixture_distribution=tfd.Categorical(probs=alpha),\n",
    "        components_distribution=tfd.Normal(\n",
    "            loc=mu,       \n",
    "            scale=sigma))\n",
    "log_likelihood = gm.log_prob(B).numpy()\n",
    "loss= -tf.reduce_mean(log_likelihood, axis=-1).numpy()"
   ]
  },
  {
   "cell_type": "code",
   "execution_count": 173,
   "metadata": {},
   "outputs": [
    {
     "data": {
      "text/plain": [
       "2.8781264"
      ]
     },
     "execution_count": 173,
     "metadata": {},
     "output_type": "execute_result"
    }
   ],
   "source": [
    "loss"
   ]
  },
  {
   "cell_type": "code",
   "execution_count": 174,
   "metadata": {},
   "outputs": [
    {
     "data": {
      "text/plain": [
       "Text(0.5, 1.0, 'Original data with added information of L')"
      ]
     },
     "execution_count": 174,
     "metadata": {},
     "output_type": "execute_result"
    },
    {
     "data": {
      "image/png": "[encoded data removed]",
      "text/plain": [
       "<Figure size 432x288 with 1 Axes>"
      ]
     },
     "metadata": {
      "needs_background": "light"
     },
     "output_type": "display_data"
    }
   ],
   "source": [
    "plt.scatter(A,B)\n",
    "plt.scatter(A,y_pred[:,1])\n",
    "plt.xlabel(\"A\")\n",
    "plt.ylabel(\"B\")\n",
    "plt.title(\"Original data with added information of L\")"
   ]
  },
  {
   "cell_type": "code",
   "execution_count": 64,
   "metadata": {},
   "outputs": [],
   "source": [
    "L = np.random.binomial(1,0.5,1000)  \n",
    "eps0 = np.random.normal(0,0.1,1000)\n",
    "eps1 = np.random.normal(0,0.1,1000)\n",
    "A = 1*L + eps0\n",
    "#B=beta2+beta3*np.sin(A)+eps1\n",
    "B =1*A + eps1 "
   ]
  },
  {
   "cell_type": "code",
   "execution_count": 175,
   "metadata": {},
   "outputs": [],
   "source": [
    "i=39\n",
    "#A=np.array(dataset_linear[i][1])\n",
    "#B=np.array(dataset_linear[i][2])\n",
    "#L=np.array(dataset_linear[i][0])\n",
    "opt = tf.optimizers.Nadam(1e-2)\n",
    "mdn_PQ = MDN_module()\n",
    "\n",
    "mdn_PQ.compile(loss=gnll_loss, optimizer=opt)\n",
    "withoutL=mdn_PQ.fit(x=reshapevar(A), y=B.T,epochs=100,  batch_size=64,verbose=0)\n",
    "y_pred_withoutL = mdn_PQ.predict(reshapevar(A))\n"
   ]
  },
  {
   "cell_type": "code",
   "execution_count": 176,
   "metadata": {},
   "outputs": [],
   "source": [
    "alpha,mu,sigma = slice_parameter_vectors(y_pred_withoutL)\n",
    "gm = tfd.MixtureSameFamily(\n",
    "        mixture_distribution=tfd.Categorical(probs=alpha),\n",
    "        components_distribution=tfd.Normal(\n",
    "            loc=mu,       \n",
    "            scale=sigma))\n",
    "log_likelihood = gm.log_prob(B).numpy()\n",
    "loss= -tf.reduce_mean(log_likelihood, axis=-1).numpy()"
   ]
  },
  {
   "cell_type": "code",
   "execution_count": 177,
   "metadata": {},
   "outputs": [
    {
     "data": {
      "text/plain": [
       "3.517109"
      ]
     },
     "execution_count": 177,
     "metadata": {},
     "output_type": "execute_result"
    }
   ],
   "source": [
    "loss"
   ]
  },
  {
   "cell_type": "code",
   "execution_count": 178,
   "metadata": {},
   "outputs": [
    {
     "data": {
      "text/plain": [
       "Text(0.5, 1.0, 'Original data without the added information L')"
      ]
     },
     "execution_count": 178,
     "metadata": {},
     "output_type": "execute_result"
    },
    {
     "data": {
      "image/png": "[encoded data removed]",
      "text/plain": [
       "<Figure size 432x288 with 1 Axes>"
      ]
     },
     "metadata": {
      "needs_background": "light"
     },
     "output_type": "display_data"
    }
   ],
   "source": [
    "plt.scatter(A,B)\n",
    "plt.scatter(A,y_pred_withoutL[:,1])\n",
    "plt.xlabel(\"A\")\n",
    "plt.ylabel(\"B\")\n",
    "plt.title(\"Original data without the added information L\")\n"
   ]
  },
  {
   "cell_type": "code",
   "execution_count": 117,
   "metadata": {},
   "outputs": [],
   "source": [
    "indices_1 = [i for i, x in enumerate(L) if x == 1]\n",
    "#changed x=0 to x=-1\n",
    "indices_0 = [i for i, x in enumerate(L) if x == -1]\n",
    "B_dist_temp=np.zeros(len(B))\n",
    "mod_indices_1=random.sample(indices_1,len(indices_1))\n",
    "for i in range(len(indices_1)):\n",
    "    B_dist_temp[indices_1[i]]=B[mod_indices_1[i]]\n",
    "\n",
    "mod_indices_0=random.sample(indices_0,len(indices_0))\n",
    "for i in range(len(indices_0)):\n",
    "    B_dist_temp[indices_0[i]]=B[mod_indices_0[i]]"
   ]
  },
  {
   "cell_type": "code",
   "execution_count": 118,
   "metadata": {},
   "outputs": [
    {
     "data": {
      "text/plain": [
       "array([ 1.16363142e+02,  5.56306026e+00,  7.29531353e+00,  1.30750943e+00,\n",
       "        2.92144654e+00,  4.16270666e+01,  1.09038177e+02,  1.23302358e+02,\n",
       "        7.24326496e-01, -1.35779405e+00, -1.02982484e+00,  1.28467787e+02,\n",
       "        7.52428066e+00,  1.19926406e+00,  1.61357223e+02,  5.41667627e-01,\n",
       "        1.01900962e+02,  1.84004039e+02,  1.66693581e+00,  1.59868620e+02,\n",
       "        2.52802773e+02,  6.79662797e-01,  1.43006457e+01,  2.64261736e+00,\n",
       "        6.42216204e-01,  7.09271409e+01,  4.03461447e-01,  1.06480998e+02,\n",
       "        1.81214914e+02,  3.83176976e-01,  3.46671351e+02,  1.52716266e+02,\n",
       "        9.61387681e+01,  7.95548775e+00,  2.92340425e+02,  3.22307236e+00,\n",
       "        3.18472288e+00, -9.25582080e-01,  1.46218510e+00,  2.54206414e+00,\n",
       "       -8.34141567e-01,  6.36159810e+01,  4.11966282e+01, -1.62809753e+00,\n",
       "        1.41238364e+00,  3.90570196e+00,  1.78666604e+02,  3.41326778e+01,\n",
       "        1.17348492e+02,  8.37646617e-01,  1.69284669e+00,  1.03345808e+02,\n",
       "        1.38215177e+02,  1.28424873e+02,  4.59701927e+00,  1.13910810e+02,\n",
       "        3.21309224e+01,  3.73439701e+00,  3.11120725e+00,  3.73207741e-01,\n",
       "        2.04500599e+02,  1.51346579e-01,  4.53880145e+01, -1.06535905e+00,\n",
       "       -1.67441042e+00, -3.33150368e-01, -1.71855709e+00,  1.93764264e+02,\n",
       "        3.86264971e+01,  1.34571222e+02,  2.63257062e+00,  1.09068405e+02,\n",
       "        1.51231310e+02, -6.40662629e-01,  1.58810674e+02,  2.32384102e+02,\n",
       "        9.25205595e-01,  1.45014005e+02,  3.61172527e-02,  2.59005524e+00,\n",
       "        4.97325047e+00, -1.43446333e+00,  2.46011394e+00,  8.49233842e+00,\n",
       "       -2.35584556e+00, -5.21097557e-02,  6.35336181e+01,  9.18701612e+01,\n",
       "        2.25578046e+00,  2.05055895e+00,  5.85883249e-02, -1.46376171e-01,\n",
       "       -1.42446997e+00,  3.87247259e-01,  1.60354810e+02,  4.16477253e+00,\n",
       "        1.22932884e+02,  4.92956795e+00,  1.93787316e+00, -8.02945142e-02,\n",
       "        1.41381768e+02,  1.93741500e+02,  6.89637622e-01,  3.91852706e+01,\n",
       "        2.64340059e+00,  1.75854401e+02,  2.91567582e+00,  1.87380098e-02,\n",
       "        5.53079302e+00, -1.22785757e+00, -2.13543828e-01,  1.94131701e+02,\n",
       "        2.92182906e+00,  4.00891639e+00, -8.48301640e-01,  7.04566205e+01,\n",
       "        1.01316550e+02,  2.07916289e+00,  3.03322159e+00,  3.50538572e-01,\n",
       "        2.11424638e+00, -1.24617479e+00,  1.55723564e+02, -4.77299953e-01,\n",
       "       -8.03262659e-01,  9.50313954e+01,  2.13386351e+02,  2.04303831e+02,\n",
       "        5.64447367e+01,  3.46367018e+00,  2.09462665e+02,  1.67643955e+00,\n",
       "        1.18212487e+02,  3.67916548e+00,  4.12830930e+00,  3.18444337e+02,\n",
       "        1.37014611e+02,  7.27023171e+01,  9.21339848e-01,  8.15469196e-01,\n",
       "        1.30482250e-01,  2.65728534e+00,  1.63934602e+00,  8.22244977e+00,\n",
       "        1.56309817e+00,  1.44068831e+00,  7.35810349e+01,  1.35315795e+02,\n",
       "        8.22467741e-01,  2.21516943e+00,  1.13974775e+02,  2.14136419e+00,\n",
       "        9.71525537e+01, -4.23968532e-02,  1.76285570e+00,  1.11112514e+02,\n",
       "        1.85212704e+02,  1.51296134e+02, -8.28815093e-02,  1.35852586e+02,\n",
       "        7.24910142e+01,  4.42471063e+00,  3.32656605e+00,  1.29448420e+02,\n",
       "        5.48989228e+00,  1.15663927e+00,  8.41358272e+00,  3.81397563e-01,\n",
       "        1.80203730e+02, -8.53769275e-01,  1.22183744e+02,  1.61074434e+00,\n",
       "        3.47096654e+01,  1.48825377e+02, -1.60153010e+00,  4.08451046e-01,\n",
       "       -6.69346618e-01, -4.54573542e-01,  7.05950841e-01,  1.32021237e+02,\n",
       "        2.99498865e+00,  1.76333972e+02,  2.32994701e+02,  1.92145200e-01,\n",
       "        9.86049549e+01,  4.04821122e-01,  1.36184305e+02,  1.17931457e+02,\n",
       "        1.64081071e+02,  1.21626479e+02,  1.61827635e+02,  2.17477673e+02,\n",
       "        7.72734333e-01,  8.17138907e+01,  1.91112780e+02,  5.57468461e+00,\n",
       "        5.67344837e+01,  8.80195591e-01,  1.00915093e+02,  3.81888222e+00,\n",
       "        1.30210448e+02,  5.04748513e+00,  9.36262314e-01,  5.92494926e-01,\n",
       "        1.14822925e+02,  1.42345081e+00,  5.59465816e-01,  9.62096504e+01,\n",
       "        2.09690904e+02,  2.20314679e+02,  1.01418639e+02,  1.43215461e+02,\n",
       "        1.37683938e+00,  1.43539442e+02, -2.51174464e+00,  6.01588147e+01,\n",
       "        1.11072656e+00,  1.76499921e+00,  9.66667665e+01,  1.85952427e+00,\n",
       "        2.07673030e+00,  2.24854619e+00,  3.52889542e+00,  1.44004042e+02,\n",
       "        1.11005690e+02,  1.29567583e+02,  4.28258009e+00, -8.94411528e-01,\n",
       "       -1.27630119e+00,  3.33196225e+00, -4.64831744e-01,  2.34736814e+00,\n",
       "        7.89569661e+01,  1.18570771e+00, -3.52066487e-01,  2.90080645e+00,\n",
       "        1.50837322e+02,  1.48211477e+02,  1.34321969e+02,  1.89161511e+00,\n",
       "        3.31106563e-02,  6.83368108e+00,  9.83662667e-01,  8.02671524e-01,\n",
       "        1.66256555e+02,  3.26716642e+01,  1.74782812e+02,  2.47234000e+00,\n",
       "        8.33991781e+01,  1.30464443e+02,  1.84928472e+02,  1.57105135e+02,\n",
       "        2.20619280e+00,  1.82408449e+02,  1.10938164e+02,  1.36875437e+02,\n",
       "        1.71432558e+02,  7.15371920e+00,  2.15651563e+01,  5.80480397e-01,\n",
       "       -1.26475820e+00,  1.30662656e+02,  9.97036401e+01,  7.92703738e+01,\n",
       "       -3.41963370e-01,  1.97329177e+00,  1.63506097e+02,  1.27596574e+00,\n",
       "        3.59445584e+01,  2.07118297e+00,  4.68395426e+00,  1.03976745e+02,\n",
       "        6.75900067e-01,  2.01173861e+02,  1.38388813e+00,  6.66726753e+01,\n",
       "        1.24124366e+02,  7.19683326e+01,  4.81104313e-01, -1.39718094e-01,\n",
       "        2.20310484e+02,  1.42067195e+00, -8.93106095e-01, -6.44881187e-02,\n",
       "        1.35807241e+02,  1.67541756e+00,  8.63919185e+01,  1.42626723e+02,\n",
       "        1.15099964e+00,  1.42489436e+02,  6.10458034e+01,  3.00938403e+00,\n",
       "        8.59569715e+01,  1.30447154e+02,  2.77507557e+02,  8.57264911e+01,\n",
       "        1.45881437e+02,  2.12759350e+00,  5.93230798e+01,  1.01718483e-01,\n",
       "        7.72108676e-01,  2.81646471e+01,  4.27627094e+00,  1.50738427e+02,\n",
       "       -6.36256901e-01,  3.21150442e+00,  1.28489973e+01,  2.43362063e+02,\n",
       "        1.53715652e+00,  1.66816674e+02,  4.11824687e+00,  2.10946671e+02,\n",
       "        1.76406253e+02,  4.30979649e+00,  7.29519079e+00,  2.01671789e+02,\n",
       "        8.35727742e+01,  6.17071427e+01,  2.42026743e+02,  3.56798525e-01,\n",
       "        2.09881674e-02,  6.53934578e+00,  1.98907424e+02, -8.30765505e-01,\n",
       "        5.51843790e+00,  5.44888889e+01,  1.19358433e+02, -1.39924562e+00,\n",
       "       -5.36172969e-01, -9.57554416e-01,  1.97211584e+02,  3.61579032e+01,\n",
       "        1.23794861e+02,  6.00210255e+01,  8.79531125e+00,  1.88715337e+00,\n",
       "        1.07235810e+02,  2.47491943e+02,  3.77857673e-01, -2.36480492e-01,\n",
       "        1.69232107e+02,  2.15216498e-01,  7.95462949e+00,  1.21325151e+02,\n",
       "       -8.04309682e-01,  8.24310884e+01,  9.24326206e+01,  1.62014627e+02,\n",
       "        1.38260551e+02,  1.19512672e+02,  6.34892001e-01,  1.78686056e+02,\n",
       "        2.16936099e+00,  2.37367237e-01,  9.09473916e-01, -5.25970478e-02,\n",
       "        3.43037926e+02,  3.50853712e+00,  4.47265335e+00,  2.09224902e+02,\n",
       "        3.89663544e+01,  2.01881475e+00,  1.20215005e+00,  8.77713880e+01,\n",
       "        3.42133058e-01,  7.33073076e+01,  2.93521201e+00,  5.03309240e+00,\n",
       "        1.16037743e+01,  7.10181307e+01,  3.12949832e+00,  4.16336507e-02,\n",
       "       -1.55828426e+00,  1.07314980e+02,  2.03705159e+02,  8.28702486e+01,\n",
       "        8.10470943e+01,  2.86739959e+02,  1.27194598e+02,  2.88901444e+00,\n",
       "        1.50324833e+00,  1.76133103e+00, -1.02689282e+00,  2.14457508e+00,\n",
       "        2.39033675e+00,  8.36323402e+01,  3.42952007e+00,  1.65039343e+00,\n",
       "        3.51463395e+00,  1.60746278e+00,  1.58895206e+00,  4.40371312e+01,\n",
       "        6.54240058e-01,  5.77414270e+00,  1.70969135e+02, -1.64800677e+00,\n",
       "        2.20718624e+00,  5.63855487e+01,  1.70355001e+02,  1.23858284e+01,\n",
       "        2.93291230e+00,  2.98221994e+00,  1.57870744e+02, -3.85836341e-01,\n",
       "        7.01485635e-01,  2.34068204e+00,  8.52437755e-01,  4.25349396e+02,\n",
       "        2.00180206e+00,  3.15096809e+02,  1.34959472e+02,  3.94348642e-02,\n",
       "        5.84363626e+00,  1.23950608e+02,  9.82734140e+01,  7.44638975e-01,\n",
       "        1.12377656e+00,  1.47554215e+02,  2.25117659e+01,  3.94783123e+00,\n",
       "        1.33586979e+02,  2.21086739e+02,  8.78647216e-01,  2.90696939e+00,\n",
       "        1.86963503e+00,  5.09134339e+01,  8.23881154e+01,  1.45785614e+00,\n",
       "        1.20466617e+02,  2.06537232e+02,  4.60678982e+00,  1.23652524e+02,\n",
       "        7.87295601e+00,  1.28825725e+02, -1.25702550e+00, -4.73927257e-02,\n",
       "       -2.86507029e+00,  5.27305040e-01,  2.05880653e+02,  1.86575516e+02,\n",
       "       -6.39878763e-01,  1.11790218e+02,  7.00548163e+00,  2.57510559e+01,\n",
       "        1.26429942e+00,  3.89297239e+01,  1.07140198e+00, -1.94019544e-01,\n",
       "        8.69409571e+01,  9.64225917e+01,  1.14411907e-01,  1.00907368e+02,\n",
       "        5.43968154e+01,  5.94894056e+01,  2.41071687e+02,  1.46675947e+00,\n",
       "        2.14707066e+00, -1.21216415e+00,  1.05073185e+02,  3.95629218e-01,\n",
       "        3.15843086e-01,  4.61523615e+00,  7.53018962e+00,  3.55487561e-01,\n",
       "        4.88392631e+01,  5.13144352e+00,  2.35922867e+00,  3.50955536e+01,\n",
       "        8.24263180e+01,  1.02162134e+02,  4.11286600e+01,  7.78563753e-01,\n",
       "        1.02115375e+02,  1.96064781e+02,  8.04134438e-01,  8.56771116e+01,\n",
       "        2.57732012e+00,  1.21738081e+00,  1.65371793e+00,  1.10624652e-01,\n",
       "        1.55158070e-01,  3.79919496e+00, -4.41368694e-01,  1.71064876e+02,\n",
       "        1.76908179e+02,  1.69128071e+02,  9.37072287e+01,  1.52667115e+00,\n",
       "        1.02766181e+02,  1.06375853e+02, -5.06433658e-02,  1.71089216e+02,\n",
       "        1.44294510e+02,  1.18141449e+02,  1.11684454e+02,  1.05709145e+02,\n",
       "        1.08165175e+02,  9.25092977e+01,  9.85469234e+01,  4.26315351e+00,\n",
       "        1.19623088e+02, -4.17735388e-02,  2.32947733e+02,  8.60831386e+01,\n",
       "        2.57101229e+00,  1.39593834e+02,  8.52023172e+01, -9.18170851e-01,\n",
       "        1.18121355e+02,  1.07224832e+02, -8.73482403e-02,  9.65036806e-01,\n",
       "        1.84020175e+02, -6.36071122e-01, -1.93990972e+00,  1.25670570e+02,\n",
       "        1.31857308e+01,  6.23959830e+01,  2.04494961e+01,  2.80179401e+02,\n",
       "        1.51469381e+00,  4.66441319e+01,  2.23124685e+02,  6.62145251e-01,\n",
       "        7.06343023e-01,  2.93166407e-01, -3.42804120e-01,  1.01965411e+02,\n",
       "        9.14462018e-01,  4.15843814e+00,  5.23778965e+01,  5.67196836e+01,\n",
       "       -1.83423304e+00,  9.59210157e-01,  5.59547476e-01,  6.84760486e-01,\n",
       "        9.97008651e-01,  1.71749232e+02,  1.81599769e+02,  3.63420862e+01,\n",
       "        2.37933855e+00,  6.76091415e+00,  1.70982858e+02, -4.89231343e-01,\n",
       "        2.01253372e+02, -3.64908406e-01,  1.49299827e+02,  1.06707546e+02,\n",
       "        1.56721556e+02,  3.39397393e+00,  3.02913761e+01,  1.31503144e+02,\n",
       "        9.46631474e+01,  2.81627816e+02,  1.75933333e+00,  4.19036967e+00,\n",
       "        6.31040406e-01,  2.03352156e+02,  3.36867597e-01,  2.22108560e+00,\n",
       "        1.20540990e+00,  3.36538363e+02,  8.56026835e+01,  7.73304853e+01,\n",
       "        9.48428565e+01,  6.18215516e+01,  3.02437767e+00, -3.23606314e-01,\n",
       "        1.16132632e+01,  1.86142162e+00,  1.60984294e+00,  5.24237233e-01,\n",
       "        9.42319864e+01,  4.31583427e+00, -2.95286453e-01,  1.52974464e+00,\n",
       "        8.09471394e+01,  1.18116810e+00,  1.68599089e+02,  6.71657732e+01,\n",
       "        3.18541124e-01,  1.93319504e+02,  1.76930545e+02,  9.00322111e+01,\n",
       "        1.37374688e+02,  1.20779948e+00,  4.18510164e+01,  1.02651605e+02,\n",
       "        4.55752248e+01,  6.11744179e+01,  5.87666621e+01,  1.24147158e+02,\n",
       "        7.15259117e+00,  5.39576656e+00,  1.26909683e+02,  8.47296939e+01,\n",
       "        1.66657813e+02,  1.28149008e+00, -5.34146158e-01,  1.42977787e+00,\n",
       "        6.21302479e+01,  1.21391078e+02,  1.78344282e+02,  1.24502478e+02,\n",
       "        1.38157554e+00,  1.76109311e+02,  1.31447681e+02,  1.97944953e+02,\n",
       "       -7.22074506e-01,  5.03168315e-01,  1.46726901e+02, -1.09768389e+00,\n",
       "        4.09334150e+01,  1.05570904e+02,  4.98383168e+00,  1.16493249e+01,\n",
       "        1.38994714e+00,  2.13234428e+02,  1.61313740e+00,  1.50398416e+00,\n",
       "        1.39240239e+00,  1.17885977e+00,  8.65316499e-01,  1.76515976e+00,\n",
       "        2.18275106e+00, -3.04439672e-01,  1.94623216e+02,  2.06181073e+02,\n",
       "        2.18499069e+00,  7.53130899e+01,  6.83752923e-01,  1.11890540e+02,\n",
       "        3.15639844e+01,  1.55392299e+02,  6.99983994e+01,  1.51491420e+00,\n",
       "       -6.63902547e-01,  6.05559223e+01,  1.61325373e+00,  7.99576116e+01,\n",
       "        2.02136682e+02,  2.01923560e+02,  2.03536105e+02,  2.71244241e+02,\n",
       "        2.80092505e+02,  5.50651093e-01, -1.98682759e-01,  1.14479588e+02,\n",
       "        3.87032671e+00,  1.39455243e+02,  9.49920248e-01,  1.80205454e+01,\n",
       "        3.55278956e+00,  1.34866173e+02,  1.81528475e+02, -9.35170034e-01,\n",
       "        1.25023510e+02,  6.81628053e+01,  1.81975587e+00,  1.26626911e+02,\n",
       "        2.46838058e+02,  2.89381422e+00,  1.61315286e+02,  4.53512009e+01,\n",
       "        5.52967525e-01, -6.94341700e-01,  2.69362467e+00,  1.19971045e+02,\n",
       "        1.71528871e+00,  2.11164762e+02,  1.01336817e+02, -7.42685908e-01,\n",
       "        2.18744864e+00,  1.07532354e+02,  1.14546606e+02,  1.97590670e+02,\n",
       "        1.86679212e-01,  1.42821006e+02,  1.16779144e+02,  1.31751956e+02,\n",
       "        2.12420656e+02,  8.39424578e-01,  1.95565999e+00,  1.73641077e+00,\n",
       "        2.98561043e+00,  2.45673299e-01,  1.53248902e+01,  1.54462664e+02,\n",
       "        9.84288543e-01, -2.65607718e-01,  1.37242956e+02,  1.38813830e+02,\n",
       "       -3.14077508e-01,  1.06912000e+02,  2.54221887e+00, -1.65680435e+00,\n",
       "        4.87482959e-02,  6.56219470e+01,  1.66105206e+02,  4.31124573e+00,\n",
       "        8.81390650e-02,  1.06530462e+00,  2.37356562e+00,  4.48300630e+00,\n",
       "        1.71711859e+02,  3.09828459e+02,  1.73418314e+01,  1.72380223e+02,\n",
       "       -3.73254753e-01,  1.81888842e+02,  1.85806499e+00,  2.08386185e+02,\n",
       "        5.17180243e+01,  8.42385626e-01,  5.01675235e+01,  1.78747574e+02,\n",
       "        2.06708726e+00,  4.14639714e-01,  1.81521249e+02,  3.25239530e+00,\n",
       "        8.08796719e-01,  1.45106498e+02,  7.19841193e+00,  6.70240513e+01,\n",
       "        2.58600151e+01,  1.01554933e+02,  4.25378117e+00,  4.25038708e+00,\n",
       "        4.93542445e+01,  4.66620119e+01,  2.23171790e+02,  1.51484927e+02,\n",
       "        2.20862589e+02,  1.41484657e+02, -1.05717086e-01,  1.52453989e+02,\n",
       "       -9.06979159e-01, -1.12383161e+00,  1.51005303e+00,  5.00365810e+01,\n",
       "        2.19152177e+02, -7.13140586e-01,  2.04103570e+02,  1.15612938e+02,\n",
       "        1.64750490e+02,  3.19611394e-01,  6.23432317e+00,  1.09459219e+01,\n",
       "        5.56491239e+00,  1.52236148e-01,  1.45084784e+02,  7.36331267e+01,\n",
       "        1.46819374e+00,  6.17120862e+01,  1.63810949e+00,  1.12774425e+02,\n",
       "        1.25215564e+00,  1.24553150e+00, -5.71470419e-01,  2.04602340e+02,\n",
       "        8.70163946e+01,  1.13799973e+02,  4.62814981e+00,  2.07693761e+00,\n",
       "        9.75246961e+01,  8.50993962e-01,  2.15525580e+00,  6.71669912e-01,\n",
       "        9.03989690e+01,  1.33983867e+02,  2.20998315e+00,  1.37589268e+02,\n",
       "        1.38688245e+02,  1.78161604e+00,  6.31539199e-01,  4.69163986e-01,\n",
       "        1.09264829e+02,  1.26730061e+00,  2.25811520e+02,  2.05608198e+00,\n",
       "        4.64560114e+01,  1.09141540e+02,  2.96355112e+00, -5.10686173e-01,\n",
       "        4.22757751e+01,  1.41561678e+02,  1.54913476e+00,  2.28893131e+00,\n",
       "        5.65542642e-02,  3.44210347e+01,  8.14838837e+01,  7.99874053e+01,\n",
       "        1.54540096e+02,  3.52800592e+00, -8.67049530e-01, -8.85795597e-01,\n",
       "        1.57856929e+00,  9.22875585e-01,  7.67255670e+00,  3.48326686e-01,\n",
       "        1.99950906e+02,  1.96544209e+02, -1.01742353e+00,  2.72444890e+00,\n",
       "       -2.08840233e-01,  1.95206922e+02,  1.89689174e-01,  2.88663621e+02,\n",
       "        1.43534881e+02,  9.01981276e+01,  1.45851676e+02,  3.62825096e-01,\n",
       "        3.41589591e+00,  1.17274880e+02,  2.56458937e+00, -1.92779620e+00,\n",
       "        5.15300175e-01,  2.57580916e+00,  2.66260238e+00,  1.13206857e+02,\n",
       "        2.40919278e+02, -2.71251403e-01,  1.77771775e+02,  1.48632143e+02,\n",
       "        1.43754671e+02,  2.13475714e+02,  3.03951325e+02,  1.10823059e+02,\n",
       "        3.43001950e-02, -7.93207046e-01,  8.19339339e+01, -8.31754317e-01,\n",
       "        6.48440821e+01, -4.76029450e-01,  1.23177598e-02, -6.20807061e-01,\n",
       "        9.48284335e+00,  1.07725646e+02, -2.38449407e+00,  4.35233351e+01,\n",
       "        1.94803757e+00,  1.81015001e+02,  8.22992301e+01,  4.38283682e-01,\n",
       "       -1.01987926e+00,  7.98131842e+01,  8.70478216e+01,  2.11784627e+00,\n",
       "        6.94294506e-01, -2.72184202e+00,  1.33570396e+00,  1.15007936e+02,\n",
       "        3.96985098e+00,  2.11179272e+00,  5.36753784e+00,  1.11875144e+00,\n",
       "        7.60328431e+01,  9.52142799e+01,  6.26652990e+00,  1.47007663e+00,\n",
       "       -1.26807533e+00,  1.15351185e+01,  6.21833285e+01,  1.51943252e+02,\n",
       "        2.01605644e+02,  1.51234232e+02, -1.80334954e-01,  4.13699259e+01,\n",
       "        4.52722784e+00, -2.13535090e-01,  3.19344344e+01,  1.53841852e+02,\n",
       "        1.14981009e+02,  2.08264284e+02,  2.81374500e+00, -9.33861144e-01,\n",
       "        3.52904623e-01,  2.49904981e+00,  9.69956864e+01,  2.49252476e+02,\n",
       "       -1.79953952e+00,  1.46774729e+02,  1.20021433e+02,  7.33538319e-01,\n",
       "        2.46228849e+00,  1.18606072e+02,  1.27046338e+02, -5.14890505e-01,\n",
       "        8.90610221e+00,  1.00231722e+02,  2.84576252e+00,  1.09206259e+02,\n",
       "        1.28568215e+02,  1.38390344e+00,  1.11838792e+02,  1.60882764e+02,\n",
       "        1.35326219e+00,  1.99555685e+02,  1.53035890e+02,  1.69652717e+00,\n",
       "        1.11620455e+02,  2.13226709e+02,  3.15459579e+00,  1.06802656e+02,\n",
       "        9.15877368e-01, -6.10098157e-01,  1.62596510e+02,  8.80522409e+01,\n",
       "       -8.04590579e-02,  2.33039510e-01,  6.67430828e-01,  7.93199766e+00,\n",
       "        5.74881578e-02,  1.73488792e+02,  7.07351082e-01,  6.90578113e-01,\n",
       "        2.31223220e+02,  1.43579756e+02,  1.66543935e+02,  1.12703924e+00,\n",
       "       -5.42382176e-01,  1.15725360e+02,  4.01529700e+00,  3.30103114e+01,\n",
       "        3.80706415e-01,  7.71501423e-01,  1.48389580e+02,  7.02794000e+01,\n",
       "       -6.80538751e-01,  3.13763228e+00, -9.94433888e-01,  1.03862460e+02,\n",
       "        9.38080893e+01,  2.65911990e+00,  1.30712084e+02,  1.30182495e+02,\n",
       "        1.47750757e+00,  5.89156380e-01,  1.21742591e+02,  2.37214918e+02,\n",
       "        1.11848732e+02,  3.80709096e-01,  1.18653058e+02,  1.07124997e+00,\n",
       "        9.62452792e+01,  1.66077410e+00,  1.87696837e+00,  9.17794951e+01,\n",
       "        6.03912095e+00,  7.52453082e+01,  2.41193518e+00,  5.23712113e+00,\n",
       "        1.16746729e+00,  2.51472880e+00,  1.76235887e+02,  1.36648883e+02,\n",
       "        1.71406843e+02,  1.15271454e+02,  7.75054260e+00, -1.54105448e+00,\n",
       "        1.21847878e+02,  2.61987980e+02,  3.01665881e+02,  2.81760295e+00,\n",
       "       -5.73830353e-01,  1.89397543e+02,  1.52688110e+02,  1.58298731e+00,\n",
       "        7.79147952e+00,  6.79188828e+01,  1.29634112e+02,  8.88979314e+01,\n",
       "        1.77100702e+00,  1.00306653e+02,  1.53187478e+00,  1.59237886e+00,\n",
       "        1.75813075e+00,  1.10592519e+02,  4.56878672e+01,  5.42859331e+00,\n",
       "       -3.62413091e-01,  2.21307929e+02,  7.18029589e+01,  1.34474592e+02,\n",
       "        1.64411165e+02,  8.01347524e+00,  7.57970336e+01,  1.29893059e+00,\n",
       "       -2.47497143e-01,  1.34783861e+02,  7.71557954e-01,  2.76889437e+00,\n",
       "        1.75298529e+02,  1.64989416e+02,  2.06543702e+02,  5.11096473e+01,\n",
       "        1.23559278e+02,  2.23766563e+00,  6.07371805e+00,  1.24982049e+02])"
      ]
     },
     "execution_count": 118,
     "metadata": {},
     "output_type": "execute_result"
    }
   ],
   "source": [
    "B_dist_temp"
   ]
  },
  {
   "cell_type": "code",
   "execution_count": 119,
   "metadata": {},
   "outputs": [],
   "source": [
    "opt = tf.optimizers.Adam(1e-2)\n",
    "mdn_PQ = MDN_module()\n",
    "mdn_PQ.compile(loss=gnll_loss, optimizer=opt)\n",
    "withoutL=mdn_PQ.fit(x=np.concatenate([L.reshape(-1,1),A.reshape(-1,1)],axis=1), y=B_dist_temp.T,epochs=100,  batch_size=64,verbose=0)\n",
    "y_pred_permL = mdn_PQ.predict(np.concatenate([L.reshape(-1,1),A.reshape(-1,1)],axis=1))\n"
   ]
  },
  {
   "cell_type": "code",
   "execution_count": 120,
   "metadata": {},
   "outputs": [],
   "source": [
    "alpha,mu,sigma = slice_parameter_vectors(y_pred_permL)\n",
    "gm = tfd.MixtureSameFamily(\n",
    "        mixture_distribution=tfd.Categorical(probs=alpha),\n",
    "        components_distribution=tfd.Normal(\n",
    "            loc=mu,       \n",
    "            scale=sigma))\n",
    "log_likelihood = gm.log_prob(B).numpy()\n",
    "loss= -tf.reduce_mean(log_likelihood, axis=-1).numpy()"
   ]
  },
  {
   "cell_type": "code",
   "execution_count": 121,
   "metadata": {},
   "outputs": [
    {
     "data": {
      "text/plain": [
       "3.8251884"
      ]
     },
     "execution_count": 121,
     "metadata": {},
     "output_type": "execute_result"
    }
   ],
   "source": [
    "loss"
   ]
  },
  {
   "cell_type": "code",
   "execution_count": 122,
   "metadata": {},
   "outputs": [
    {
     "data": {
      "text/plain": [
       "Text(0.5, 1.0, 'Permuted data with the added information L')"
      ]
     },
     "execution_count": 122,
     "metadata": {},
     "output_type": "execute_result"
    },
    {
     "data": {
      "image/png": "[encoded data removed]",
      "text/plain": [
       "<Figure size 432x288 with 1 Axes>"
      ]
     },
     "metadata": {
      "needs_background": "light"
     },
     "output_type": "display_data"
    }
   ],
   "source": [
    "plt.scatter(A,B_dist_temp)\n",
    "plt.scatter(A,y_pred[:,1])\n",
    "plt.xlabel(\"A\")\n",
    "plt.ylabel(\"B\")\n",
    "plt.title(\"Permuted data with the added information L\")"
   ]
  },
  {
   "cell_type": "code",
   "execution_count": null,
   "metadata": {},
   "outputs": [],
   "source": [
    "plt.scatter(L,B_dist_temp)"
   ]
  },
  {
   "cell_type": "code",
   "execution_count": null,
   "metadata": {},
   "outputs": [],
   "source": [
    "y_pred[:,1]"
   ]
  },
  {
   "cell_type": "code",
   "execution_count": 123,
   "metadata": {},
   "outputs": [],
   "source": [
    "opt = tf.optimizers.Adam(1e-2)\n",
    "mdn_PQ = MDN_module()\n",
    "mdn_PQ.compile(loss=gnll_loss, optimizer=opt)\n",
    "withoutL=mdn_PQ.fit(x=reshapevar(A), y=B_dist_temp.T,epochs=100,  batch_size=64,verbose=0)\n",
    "y_pred_permwithoutL = mdn_PQ.predict(reshapevar(A))"
   ]
  },
  {
   "cell_type": "code",
   "execution_count": 124,
   "metadata": {},
   "outputs": [],
   "source": [
    "alpha,mu,sigma = slice_parameter_vectors(y_pred_permwithoutL)\n",
    "gm = tfd.MixtureSameFamily(\n",
    "        mixture_distribution=tfd.Categorical(probs=alpha),\n",
    "        components_distribution=tfd.Normal(\n",
    "            loc=mu,       \n",
    "            scale=sigma))\n",
    "log_likelihood = gm.log_prob(B).numpy()\n",
    "loss= -tf.reduce_mean(log_likelihood, axis=-1).numpy()"
   ]
  },
  {
   "cell_type": "code",
   "execution_count": 38,
   "metadata": {},
   "outputs": [
    {
     "data": {
      "text/plain": [
       "3.9796891"
      ]
     },
     "execution_count": 38,
     "metadata": {},
     "output_type": "execute_result"
    }
   ],
   "source": [
    "loss"
   ]
  },
  {
   "cell_type": "code",
   "execution_count": 125,
   "metadata": {},
   "outputs": [
    {
     "data": {
      "text/plain": [
       "Text(0.5, 1.0, 'Permuted data without the added information')"
      ]
     },
     "execution_count": 125,
     "metadata": {},
     "output_type": "execute_result"
    },
    {
     "data": {
      "image/png": "[encoded data removed]",
      "text/plain": [
       "<Figure size 432x288 with 1 Axes>"
      ]
     },
     "metadata": {
      "needs_background": "light"
     },
     "output_type": "display_data"
    }
   ],
   "source": [
    "plt.scatter(A,B_dist_temp)\n",
    "plt.scatter(A,y_pred[:,1])\n",
    "plt.xlabel(\"A\")\n",
    "plt.ylabel(\"B\")\n",
    "plt.title(\"Permuted data without the added information\")"
   ]
  },
  {
   "cell_type": "code",
   "execution_count": null,
   "metadata": {},
   "outputs": [],
   "source": [
    "L = np.random.binomial(1,0.5,1000)  \n",
    "#eps0 = np.random.standard_normal(1000)\n",
    "#eps1 = np.random.standard_normal(1000)\n",
    "eps0 = np.random.normal(-2,0.5,1000)\n",
    "eps1 = np.random.normal(-5,0.5,1000)\n",
    "A=9*L - eps0\n",
    "B=8*np.sin(A)+eps1"
   ]
  },
  {
   "cell_type": "code",
   "execution_count": null,
   "metadata": {},
   "outputs": [],
   "source": [
    "indices_1 = [i for i, x in enumerate(L) if x == 1]\n",
    "indices_0 = [i for i, x in enumerate(L) if x == 0]"
   ]
  },
  {
   "cell_type": "code",
   "execution_count": null,
   "metadata": {},
   "outputs": [],
   "source": [
    "plt.scatter(L,A)\n",
    "plt.title(\"L vs A\")\n",
    "plt.xlabel(\"L\")\n",
    "plt.ylabel(\"A\")"
   ]
  },
  {
   "cell_type": "code",
   "execution_count": null,
   "metadata": {},
   "outputs": [],
   "source": [
    "plt.scatter(L,B)\n",
    "plt.title(\"L vs B\")\n",
    "plt.xlabel(\"L\")\n",
    "plt.ylabel(\"B\")"
   ]
  },
  {
   "cell_type": "code",
   "execution_count": null,
   "metadata": {},
   "outputs": [],
   "source": [
    "plt.scatter(A[indices_1],B[indices_1],label=\"L=1\")\n",
    "plt.scatter(A[indices_0],B[indices_0],label=\"L=0\")\n",
    "plt.title(\"A vs B\")\n",
    "plt.xlabel(\"A\")\n",
    "plt.ylabel(\"B\")\n",
    "plt.legend()"
   ]
  },
  {
   "cell_type": "code",
   "execution_count": null,
   "metadata": {},
   "outputs": [],
   "source": [
    "plt.scatter(A,B)\n",
    "plt.title(\"Simulated data\")\n",
    "plt.xlabel(\"A\")\n",
    "plt.ylabel(\"B\")"
   ]
  },
  {
   "cell_type": "code",
   "execution_count": null,
   "metadata": {},
   "outputs": [],
   "source": [
    "str(pearsonr(A,B)[0])"
   ]
  },
  {
   "cell_type": "code",
   "execution_count": null,
   "metadata": {},
   "outputs": [],
   "source": [
    "f = open(\"testing_writingvalues_debugSine.txt\", \"w\")\n",
    "f.write(str(9)+\" \"+ str(8))\n",
    "f.write(\"\\n\")\n",
    "np.savetxt(f,L,newline=' ',fmt='%s')\n",
    "f.write(\"\\n\")\n",
    "np.savetxt(f,A,newline=' ',fmt='%s')\n",
    "f.write(\"\\n\")\n",
    "np.savetxt(f,B,newline=' ',fmt='%s')\n",
    "f.write(\"\\n\")\n",
    "f.close()\n"
   ]
  }
 ],
 "metadata": {
  "colab": {
   "collapsed_sections": [],
   "name": "CITNonLinear.ipynb",
   "provenance": []
  },
  "kernelspec": {
   "display_name": "Python 3 (ipykernel)",
   "language": "python",
   "name": "python3"
  },
  "language_info": {
   "codemirror_mode": {
    "name": "ipython",
    "version": 3
   },
   "file_extension": ".py",
   "mimetype": "text/x-python",
   "name": "python",
   "nbconvert_exporter": "python",
   "pygments_lexer": "ipython3",
   "version": "3.9.7"
  }
 },
 "nbformat": 4,
 "nbformat_minor": 1
}
