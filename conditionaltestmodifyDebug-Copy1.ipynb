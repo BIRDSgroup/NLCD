{
 "cells": [
  {
   "cell_type": "code",
   "execution_count": 1,
   "metadata": {
    "colab": {
     "base_uri": "https://localhost:8080/"
    },
    "id": "qd6CiVe-jyEn",
    "outputId": "b4187c26-21ff-4edc-e194-db58fd55f233"
   },
   "outputs": [
    {
     "name": "stderr",
     "output_type": "stream",
     "text": [
      "2022-08-22 09:19:54.484605: W tensorflow/stream_executor/platform/default/dso_loader.cc:64] Could not load dynamic library 'libcudart.so.11.0'; dlerror: libcudart.so.11.0: cannot open shared object file: No such file or directory\n",
      "2022-08-22 09:19:54.484623: I tensorflow/stream_executor/cuda/cudart_stub.cc:29] Ignore above cudart dlerror if you do not have a GPU set up on your machine.\n"
     ]
    }
   ],
   "source": [
    "#loading the libraries\n",
    "from tensorflow_probability import distributions as tfd\n",
    "import tensorflow as tf\n",
    "from tensorflow.keras.layers import Input, Dense, Activation, Concatenate\n",
    "\n",
    "from sklearn.linear_model import LinearRegression\n",
    "from sklearn.model_selection import train_test_split\n",
    "from sklearn.preprocessing import MinMaxScaler\n",
    "from sklearn.datasets import load_boston\n",
    "from sklearn.linear_model import LinearRegression\n",
    "import matplotlib.pyplot as plt\n",
    "import seaborn as sns\n",
    "import random\n",
    "import numpy as np\n",
    "import statsmodels.api as sm\n",
    "import pickle\n",
    "from sklearn.feature_selection import mutual_info_regression\n",
    "from scipy import stats\n",
    "import rpy2\n",
    "from scipy.stats import spearmanr,pearsonr\n",
    "from CCIT import CCIT\n"
   ]
  },
  {
   "cell_type": "code",
   "execution_count": 2,
   "metadata": {
    "id": "OxvAXLLFnl7d"
   },
   "outputs": [],
   "source": [
    "#defining the class MDN\n",
    "class MDN_module(tf.keras.Model):\n",
    "#changed from 15 to 20\n",
    "    def __init__(self, neurons=15, components = 1):\n",
    "        super(MDN_module, self).__init__(name=\"MDN_module\")\n",
    "        self.neurons = neurons\n",
    "        self.components = components\n",
    "\n",
    "        #chaging activation to relu from linear, changin relu to sigmoid \n",
    "        for i in range(1,3):\n",
    "          s=\"self\"+\".h\"+str(i)+\"= Dense(neurons, activation=\\\"relu\\\", name=\"+\"'h\"+str(i)+\"')\"\n",
    "          exec(s)\n",
    "        #self.h1=Dense(12,activation=\"relu\",name=\"h1\")\n",
    "        #self.h2=Dense(8,activation=\"relu\",name=\"h2\")\n",
    "        #self.h3=Dense(8,activation=\"relu\",name=\"h3\")\n",
    "        self.alphas = Dense(components, activation=\"softmax\", name=\"alphas\")\n",
    "        self.mus = Dense(components, activation=\"linear\",name=\"mus\") \n",
    "        self.sigmas = Dense(components, activation=\"nnelu\",name=\"sigmas\") #activation changed from linear to default\n",
    "        self.pvec = Concatenate(name=\"pvec\")\n",
    "        \n",
    "    def call(self, inputs):\n",
    "        x=self.h1(inputs)\n",
    "        #x=self.inputA(inputs)\n",
    "        x=self.h2(x)\n",
    "        #x=self.h3(x)\n",
    "        alpha_v = self.alphas(x)\n",
    "        mu_v = self.mus(x)\n",
    "        sigma_v = self.sigmas(x)\n",
    "        \n",
    "        return self.pvec([alpha_v,mu_v, sigma_v])"
   ]
  },
  {
   "cell_type": "code",
   "execution_count": 3,
   "metadata": {
    "id": "7DSPXmR1ogiH"
   },
   "outputs": [],
   "source": [
    "no_parameters=3\n",
    "components=1\n",
    "def nnelu(input):\n",
    "    \"\"\" Computes the Non-Negative Exponential Linear Unit\n",
    "    \"\"\"\n",
    "    return tf.add(tf.constant(1, dtype=tf.float32), tf.nn.elu(input))\n",
    "\n",
    "def slice_parameter_vectors(parameter_vector):\n",
    "    \"\"\" Returns an unpacked list of paramter vectors.\n",
    "    \"\"\"\n",
    "    return [parameter_vector[:,i*components:(i+1\n",
    "    )*components] for i in range(no_parameters)]\n",
    "\n",
    "def gnll_loss(y, parameter_vector):\n",
    "    \"\"\" Computes the mean negative log-likelihood loss of y given the mixture parameters.\n",
    "    \"\"\"\n",
    "    alpha,mu,sigma = slice_parameter_vectors(parameter_vector) # Unpack parameter vectors\n",
    "    #tf.print(sigma)\n",
    "    gm = tfd.MixtureSameFamily(\n",
    "           mixture_distribution=tfd.Categorical(probs=alpha),\n",
    "           components_distribution=tfd.Normal(\n",
    "           loc=mu,       \n",
    "           scale=sigma))\n",
    "    \n",
    "    \n",
    "    \n",
    "    log_likelihood =  gm.log_prob(tf.transpose(y)) # Evaluate log-probability of y \n",
    "    return -tf.reduce_mean(log_likelihood, axis=-1) \n",
    "\n",
    "tf.keras.utils.get_custom_objects().update({'nnelu': Activation(nnelu)})\n",
    "\n",
    "def gnll_eval(y,alpha, mu, sigma):\n",
    "    \"\"\" Computes the mean negative log-likelihood loss of y given the mixture parameters.\n",
    "    \"\"\"\n",
    "    #print(alpha)\n",
    "    gm = tfd.MixtureSameFamily(\n",
    "        mixture_distribution=tfd.Categorical(probs=alpha),\n",
    "        components_distribution=tfd.Normal(\n",
    "            loc=mu,       \n",
    "            scale=sigma))\n",
    "    log_likelihood = gm.log_prob(tf.transpose(y))\n",
    "    return -tf.reduce_mean(log_likelihood, axis=-1)\n",
    "\n",
    "\n",
    "def eval_mdn_model(x_test, y_test, mdn_model):\n",
    "    \"\"\" Evaluate the model to get the loss for the given x and y \n",
    "    \"\"\"\n",
    "    y_pred = mdn_model.predict(np.reshape(x_test,newshape=(len(x_test),-1)))\n",
    "    alpha,mu,sigma = slice_parameter_vectors(y_pred)\n",
    "    mdn_nll = gnll_eval(y_test.astype(np.float32),alpha, mu, sigma).numpy()\n",
    "    return mdn_nll\n",
    "#reshapefunction\n",
    "def eval_mdn_model_mle(x_test,y_test):\n",
    "        indices_1 = [i for i, x in enumerate(x_test) if x == 1]\n",
    "        #changing x to -1\n",
    "        indices_0 = [i for i, x in enumerate(x_test) if x == 0]\n",
    "        mu_0=np.mean(y_test[indices_0])\n",
    "        mu_1=np.mean(y_test[indices_1])\n",
    "        sigma_0=np.std(y_test[indices_0])\n",
    "        sigma_1=np.std(y_test[indices_1])\n",
    "        y_mean=np.zeros((len(y_test),1))\n",
    "        y_mean[indices_1]=mu_1\n",
    "        y_mean[indices_0]=mu_0\n",
    "        y_std=np.zeros((len(y_test),1))\n",
    "        y_std[indices_1]=sigma_1\n",
    "        y_std[indices_0]=sigma_0\n",
    "        alpha=np.ones((len(y_mean),1))\n",
    "        return gnll_eval(y_test,alpha,y_mean,y_std).numpy()\n",
    "    \n",
    "def reshapevar(X):\n",
    "  \"\"\"\n",
    "  Function to reshape the vector for the input \n",
    "  \"\"\"\n",
    "  return np.reshape(X,newshape=(len(X),-1))"
   ]
  },
  {
   "cell_type": "code",
   "execution_count": 4,
   "metadata": {
    "id": "T6sJ7ffirsnB"
   },
   "outputs": [],
   "source": [
    "def compute_loss(P,Q,mle=False):\n",
    "    \"\"\" Compute the loss for the given pair\n",
    "    \"\"\"\n",
    "    if(mle==False):\n",
    "        opt = tf.optimizers.Adam(1e-2)\n",
    "        mdn_PQ = MDN_module()\n",
    "        mdn_PQ.compile(loss=gnll_loss, optimizer=opt)\n",
    "        mdn_PQ.fit(x=reshapevar(P), y=np.array(Q).T,epochs=100,  batch_size=64,verbose=0)\n",
    "        #return np.array(nlcor.nlcor(P,Q)[0])[0]\n",
    "        return eval_mdn_model(P,Q,mdn_PQ)\n",
    "    else:\n",
    "        return eval_mdn_model_mle(P,Q)\n",
    "        \n",
    "        \n",
    "        \n"
   ]
  },
  {
   "cell_type": "code",
   "execution_count": 5,
   "metadata": {},
   "outputs": [],
   "source": [
    "def compute_loss_y_pred(P,Q,mle=False):\n",
    "    \"\"\" Compute the loss for the given pair\n",
    "    \"\"\"\n",
    "    if(mle==False):\n",
    "        opt = tf.optimizers.Adam(1e-2)\n",
    "        mdn_PQ = MDN_module()\n",
    "        mdn_PQ.compile(loss=gnll_loss, optimizer=opt)\n",
    "        mdn_PQ.fit(x=reshapevar(P), y=np.array(Q).T,epochs=100,  batch_size=64,verbose=0)\n",
    "        y_pred = mdn_PQ.predict(np.reshape(P,newshape=(len(P),-1)))\n",
    "        return y_pred[:,1]\n",
    "    else:\n",
    "        indices_1 = [i for i, x in enumerate(P) if x == 1]\n",
    "        indices_0 = [i for i, x in enumerate(P) if x == 0]\n",
    "        mu_0=np.mean(Q[indices_0])\n",
    "        mu_1=np.mean(Q[indices_1])\n",
    "        #sigma_0=np.std(Q[indices_0])\n",
    "        #sigma_1=np.std(Q[indices_1])\n",
    "        y_mean=np.zeros((len(Q),1))\n",
    "        y_mean[indices_1]=mu_1\n",
    "        y_mean[indices_0]=mu_0\n",
    "        return y_mean.reshape((len(y_mean),))\n",
    "        "
   ]
  },
  {
   "cell_type": "code",
   "execution_count": 6,
   "metadata": {
    "id": "X6V8X2QFpmC7"
   },
   "outputs": [],
   "source": [
    "def shuffleBtimes(P,Q,B,mle=False):\n",
    "    \"\"\" Shuffle Q B times and compute the loss \n",
    "    \"\"\"\n",
    "    loss=[]\n",
    "    if(mle==False):\n",
    "        for i in range(0,B):\n",
    "          loss.append(compute_loss(P,np.random.permutation(Q)))\n",
    "    else:\n",
    "        for i in range(0,B):\n",
    "          loss.append(compute_loss(P,np.random.permutation(Q),True))\n",
    "    return loss\n"
   ]
  },
  {
   "cell_type": "code",
   "execution_count": 7,
   "metadata": {
    "id": "iUW3ikOHu6PO"
   },
   "outputs": [],
   "source": [
    "def LinearLABData():\n",
    "    \"\"\" Generate the linear data \n",
    "    \"\"\"\n",
    "    L = np.random.binomial(1,0.5,1000)  \n",
    "    beta0 = np.ones(1000)-0.4\n",
    "    #beta1 = 0.5\n",
    "    beta1=3\n",
    "    beta2= 0.3\n",
    "    beta3=0.8\n",
    "    #eps0 = np.random.standard_normal(1000)\n",
    "    #eps1 = np.random.standard_normal(1000)\n",
    "    eps0 = np.random.normal(0,1,1000)\n",
    "    eps1 = np.random.normal(0,1,1000)\n",
    "    A = beta0 + beta1*L + eps0\n",
    "    #B=beta2+beta3*np.sin(A)+eps1\n",
    "    B = beta2+ beta3*A + eps1 \n",
    "    plt.scatter(A,B)\n",
    "    plt.title(\"A vs B\")\n",
    "    plt.xlabel(\"A\")\n",
    "    plt.ylabel(\"B\")\n",
    "    return [L,A,B]"
   ]
  },
  {
   "cell_type": "code",
   "execution_count": 8,
   "metadata": {},
   "outputs": [
    {
     "ename": "KeyboardInterrupt",
     "evalue": "",
     "output_type": "error",
     "traceback": [
      "\u001b[0;31m---------------------------------------------------------------------------\u001b[0m",
      "\u001b[0;31mKeyboardInterrupt\u001b[0m                         Traceback (most recent call last)",
      "Input \u001b[0;32mIn [8]\u001b[0m, in \u001b[0;36m<cell line: 9>\u001b[0;34m()\u001b[0m\n\u001b[1;32m     18\u001b[0m l \u001b[38;5;241m=\u001b[39m [j \u001b[38;5;28;01mfor\u001b[39;00m j \u001b[38;5;129;01min\u001b[39;00m line\u001b[38;5;241m.\u001b[39msplit()]\n\u001b[1;32m     19\u001b[0m L\u001b[38;5;241m.\u001b[39mappend([\u001b[38;5;28mint\u001b[39m(i) \u001b[38;5;28;01mfor\u001b[39;00m i \u001b[38;5;129;01min\u001b[39;00m l])\n\u001b[0;32m---> 20\u001b[0m line\u001b[38;5;241m=\u001b[39m\u001b[43myeast\u001b[49m\u001b[38;5;241;43m.\u001b[39;49m\u001b[43mreadline\u001b[49m\u001b[43m(\u001b[49m\u001b[43m)\u001b[49m\n\u001b[1;32m     21\u001b[0m a \u001b[38;5;241m=\u001b[39m [j \u001b[38;5;28;01mfor\u001b[39;00m j \u001b[38;5;129;01min\u001b[39;00m line\u001b[38;5;241m.\u001b[39msplit()]\n\u001b[1;32m     22\u001b[0m A\u001b[38;5;241m.\u001b[39mappend([\u001b[38;5;28mfloat\u001b[39m(i) \u001b[38;5;28;01mfor\u001b[39;00m i \u001b[38;5;129;01min\u001b[39;00m a])\n",
      "File \u001b[0;32m~/anaconda3/lib/python3.9/codecs.py:322\u001b[0m, in \u001b[0;36mBufferedIncrementalDecoder.decode\u001b[0;34m(self, input, final)\u001b[0m\n\u001b[1;32m    319\u001b[0m \u001b[38;5;28;01mdef\u001b[39;00m \u001b[38;5;21mdecode\u001b[39m(\u001b[38;5;28mself\u001b[39m, \u001b[38;5;28minput\u001b[39m, final\u001b[38;5;241m=\u001b[39m\u001b[38;5;28;01mFalse\u001b[39;00m):\n\u001b[1;32m    320\u001b[0m     \u001b[38;5;66;03m# decode input (taking the buffer into account)\u001b[39;00m\n\u001b[1;32m    321\u001b[0m     data \u001b[38;5;241m=\u001b[39m \u001b[38;5;28mself\u001b[39m\u001b[38;5;241m.\u001b[39mbuffer \u001b[38;5;241m+\u001b[39m \u001b[38;5;28minput\u001b[39m\n\u001b[0;32m--> 322\u001b[0m     (result, consumed) \u001b[38;5;241m=\u001b[39m \u001b[38;5;28;43mself\u001b[39;49m\u001b[38;5;241;43m.\u001b[39;49m\u001b[43m_buffer_decode\u001b[49m\u001b[43m(\u001b[49m\u001b[43mdata\u001b[49m\u001b[43m,\u001b[49m\u001b[43m \u001b[49m\u001b[38;5;28;43mself\u001b[39;49m\u001b[38;5;241;43m.\u001b[39;49m\u001b[43merrors\u001b[49m\u001b[43m,\u001b[49m\u001b[43m \u001b[49m\u001b[43mfinal\u001b[49m\u001b[43m)\u001b[49m\n\u001b[1;32m    323\u001b[0m     \u001b[38;5;66;03m# keep undecoded input until the next call\u001b[39;00m\n\u001b[1;32m    324\u001b[0m     \u001b[38;5;28mself\u001b[39m\u001b[38;5;241m.\u001b[39mbuffer \u001b[38;5;241m=\u001b[39m data[consumed:]\n",
      "\u001b[0;31mKeyboardInterrupt\u001b[0m: "
     ]
    }
   ],
   "source": [
    "yeast=open(\"../yeast_full_data/yeast_residual_data_full_62k_gt1.txt\",\"r\")\n",
    "\n",
    "\n",
    "\n",
    "#yeast data read \n",
    "L=[]\n",
    "A=[]\n",
    "B=[]\n",
    "for i in range(0,62296):\n",
    "    line=yeast.readline()\n",
    "    #line=line[1:-2] #remove double quotes \n",
    "    #param = [j for j in line.split()]\n",
    "    #print(param)\n",
    "    #chrname.append(param[1])\n",
    "    #g1.append(param[2])\n",
    "    #g2.append(param[3])\n",
    "    line=yeast.readline()\n",
    "    l = [j for j in line.split()]\n",
    "    L.append([int(i) for i in l])\n",
    "    line=yeast.readline()\n",
    "    a = [j for j in line.split()]\n",
    "    A.append([float(i) for i in a])\n",
    "    line=yeast.readline()\n",
    "    b = [j for j in line.split()]\n",
    "    B.append([float(i) for i in b])\n",
    "dataset_0 = [i for i in zip(L,A,B)]\n"
   ]
  },
  {
   "cell_type": "code",
   "execution_count": null,
   "metadata": {},
   "outputs": [],
   "source": [
    "plt.scatter(dataset_0[2732][1],dataset_0[2732][2])"
   ]
  },
  {
   "cell_type": "code",
   "execution_count": null,
   "metadata": {},
   "outputs": [],
   "source": [
    "L=np.array(dataset_0[2732][0])\n",
    "A=np.array(dataset_0[2732][1])\n",
    "B=np.array(dataset_0[2732][2])"
   ]
  },
  {
   "cell_type": "code",
   "execution_count": null,
   "metadata": {},
   "outputs": [],
   "source": []
  },
  {
   "cell_type": "code",
   "execution_count": null,
   "metadata": {},
   "outputs": [],
   "source": [
    "open(\"dataset_params.txt\", \"r\")"
   ]
  },
  {
   "cell_type": "code",
   "execution_count": null,
   "metadata": {},
   "outputs": [],
   "source": []
  },
  {
   "cell_type": "code",
   "execution_count": 276,
   "metadata": {},
   "outputs": [],
   "source": [
    "fo=open(\"/home/aravind/projects/CIT_Non_Linear/LinearDifferentvalues/testing_writingvalues_Linear0to1.txt\", \"r\")\n",
    "L=[]\n",
    "A=[]\n",
    "B=[]\n",
    "#fe=open(\"dataset_params.txt\",'w')\n",
    "for i in range(0,121):\n",
    "    line=fo.readline()\n",
    "    #fe.write(line)\n",
    "    #line=line[1:-2] #remove double quotes \n",
    "    #param = [j for j in line.split()]\n",
    "    #print(param)\n",
    "    #chrname.append(param[1])\n",
    "    #g1.append(param[2])\n",
    "    #g2.append(param[3])\n",
    "    line=fo.readline()\n",
    "    l = [j for j in line.split()]\n",
    "    L.append([int(i) for i in l])\n",
    "    line=fo.readline()\n",
    "    a = [j for j in line.split()]\n",
    "    A.append([float(i) for i in a])\n",
    "    line=fo.readline()\n",
    "    b = [j for j in line.split()]\n",
    "    B.append([float(i) for i in b])\n",
    "dataset_linear = [i for i in zip(L,A,B)]\n",
    "fo.close()\n",
    "#fe.close()"
   ]
  },
  {
   "cell_type": "code",
   "execution_count": 279,
   "metadata": {},
   "outputs": [],
   "source": [
    "L=dataset_linear[84][0]\n",
    "A=dataset_linear[84][1]\n",
    "B=dataset_linear[84][2]"
   ]
  },
  {
   "cell_type": "code",
   "execution_count": 280,
   "metadata": {},
   "outputs": [
    {
     "data": {
      "text/plain": [
       "<matplotlib.collections.PathCollection at 0x7f6113f43250>"
      ]
     },
     "execution_count": 280,
     "metadata": {},
     "output_type": "execute_result"
    },
    {
     "data": {
      "image/png": "[encoded data removed]",
      "text/plain": [
       "<Figure size 432x288 with 1 Axes>"
      ]
     },
     "metadata": {
      "needs_background": "light"
     },
     "output_type": "display_data"
    }
   ],
   "source": [
    "plt.scatter(A,B)"
   ]
  },
  {
   "cell_type": "code",
   "execution_count": 227,
   "metadata": {},
   "outputs": [
    {
     "data": {
      "text/plain": [
       "121"
      ]
     },
     "execution_count": 227,
     "metadata": {},
     "output_type": "execute_result"
    }
   ],
   "source": [
    "len(dataset_names)"
   ]
  },
  {
   "cell_type": "code",
   "execution_count": null,
   "metadata": {},
   "outputs": [],
   "source": [
    "yeast=open(\"../yeast_full_data/yeast_residual_data_full_209k_gt2.txt\",\"r\")\n",
    "L=[]\n",
    "A=[]\n",
    "B=[]\n",
    "for i in range(0,209157):\n",
    "    line=yeast.readline()\n",
    "    #line=line[1:-2] #remove double quotes \n",
    "    #param = [j for j in line.split()]\n",
    "    #print(param)\n",
    "    #chrname.append(param[1])\n",
    "    #g1.append(param[2])\n",
    "    #g2.append(param[3])\n",
    "    line=yeast.readline()\n",
    "    l = [j for j in line.split()]\n",
    "    L.append([int(i) for i in l])\n",
    "    line=yeast.readline()\n",
    "    a = [j for j in line.split()]\n",
    "    A.append([float(i) for i in a])\n",
    "    line=yeast.readline()\n",
    "    b = [j for j in line.split()]\n",
    "    B.append([float(i) for i in b])\n",
    "dataset_0 = [i for i in zip(L,A,B)]"
   ]
  },
  {
   "cell_type": "code",
   "execution_count": null,
   "metadata": {},
   "outputs": [],
   "source": [
    "read_file = open(\"indicesUsedIndependent.pkl\", \"rb\")\n",
    "indices=pickle.load(read_file)\n",
    "read_file.close()"
   ]
  },
  {
   "cell_type": "code",
   "execution_count": null,
   "metadata": {},
   "outputs": [],
   "source": [
    "dataset_yeast10k_ind=[dataset_0[q] for q in indices]"
   ]
  },
  {
   "cell_type": "code",
   "execution_count": null,
   "metadata": {},
   "outputs": [],
   "source": [
    "read_file = open(\"indicesUsedIndependent.pkl\", \"rb\")\n",
    "indices=pickle.load(read_file)\n",
    "read_file.close()"
   ]
  },
  {
   "cell_type": "code",
   "execution_count": 241,
   "metadata": {},
   "outputs": [],
   "source": [
    "fo=open(\"./LinearDifferentvalues/testing_writingvalues_ind.txt\", \"r\")\n",
    "L=[]\n",
    "A=[]\n",
    "B=[]\n",
    "#fe=open(\"dataset_params.txt\",'w')\n",
    "for i in range(0,144):\n",
    "    line=fo.readline()\n",
    "    #fe.write(line)\n",
    "    #line=line[1:-2] #remove double quotes \n",
    "    #param = [j for j in line.split()]\n",
    "    #print(param)\n",
    "    #chrname.append(param[1])\n",
    "    #g1.append(param[2])\n",
    "    #g2.append(param[3])\n",
    "    line=fo.readline()\n",
    "    l = [j for j in line.split()]\n",
    "    L.append([int(i) for i in l])\n",
    "    line=fo.readline()\n",
    "    a = [j for j in line.split()]\n",
    "    A.append([float(i) for i in a])\n",
    "    line=fo.readline()\n",
    "    b = [j for j in line.split()]\n",
    "    B.append([float(i) for i in b])\n",
    "dataset_linear = [i for i in zip(L,A,B)]\n",
    "fo.close()\n",
    "#fe.close()"
   ]
  },
  {
   "cell_type": "code",
   "execution_count": 243,
   "metadata": {},
   "outputs": [
    {
     "ename": "IndexError",
     "evalue": "list index out of range",
     "output_type": "error",
     "traceback": [
      "\u001b[0;31m---------------------------------------------------------------------------\u001b[0m",
      "\u001b[0;31mIndexError\u001b[0m                                Traceback (most recent call last)",
      "Input \u001b[0;32mIn [243]\u001b[0m, in \u001b[0;36m<cell line: 1>\u001b[0;34m()\u001b[0m\n\u001b[0;32m----> 1\u001b[0m \u001b[43mdataset_linear\u001b[49m\u001b[43m[\u001b[49m\u001b[38;5;241;43m144\u001b[39;49m\u001b[43m]\u001b[49m\n",
      "\u001b[0;31mIndexError\u001b[0m: list index out of range"
     ]
    }
   ],
   "source": []
  },
  {
   "cell_type": "code",
   "execution_count": null,
   "metadata": {},
   "outputs": [],
   "source": [
    "import os\n",
    "os.getcwd()"
   ]
  },
  {
   "cell_type": "code",
   "execution_count": 269,
   "metadata": {},
   "outputs": [],
   "source": [
    "fer=open(\"LinearDifferentvalues/dataset_params_ind.txt\",\"r\")\n",
    "dataset_names=[]\n",
    "for i in range(0,144):\n",
    "    line=fer.readline()\n",
    "    line=\"_\".join(line.split())\n",
    "    dataset_names.append(line)\n",
    "fer.close()"
   ]
  },
  {
   "cell_type": "code",
   "execution_count": 16,
   "metadata": {},
   "outputs": [],
   "source": [
    "def calculate_pvalue(original,loss_list):\n",
    "    '''\n",
    "    calculate the p value \n",
    "    '''\n",
    "    return sum(abs(i) < abs(original) for i in loss_list)/len(loss_list)\n",
    "    \n",
    "    "
   ]
  },
  {
   "cell_type": "code",
   "execution_count": 17,
   "metadata": {},
   "outputs": [],
   "source": [
    "def compute_third_testloss(A,B):\n",
    "    opt = tf.optimizers.Adam(1e-2)\n",
    "    mdn_PQ = MDN_module()\n",
    "    mdn_PQ.compile(loss=gnll_loss, optimizer=opt)\n",
    "##changing epochs didnt make much difference\n",
    "\n",
    "#mdn_PQ.fit(x=C, y=np.array(B).T,epochs=300,  batch_size=64)\n",
    "    withoutL=mdn_PQ.fit(x=A, y=B.T,epochs=100,  batch_size=64,verbose=0)\n",
    "    y_pred = mdn_PQ.predict(A)\n",
    "    alpha,mu,sigma = slice_parameter_vectors(y_pred)\n",
    "    gm = tfd.MixtureSameFamily(\n",
    "        mixture_distribution=tfd.Categorical(probs=alpha),\n",
    "        components_distribution=tfd.Normal(\n",
    "            loc=mu,       \n",
    "            scale=sigma))\n",
    "    log_likelihood = gm.log_prob(B).numpy()\n",
    "    return -tf.reduce_mean(log_likelihood, axis=-1).numpy()"
   ]
  },
  {
   "cell_type": "code",
   "execution_count": 14,
   "metadata": {},
   "outputs": [],
   "source": [
    "def calculate_difference(L,A,B):\n",
    "    return compute_third_testloss(reshapevar(A),np.array(B))-compute_third_testloss(np.concatenate([L.reshape(-1,1),A.reshape(-1,1)],axis=1),np.array(B))\n",
    "    "
   ]
  },
  {
   "cell_type": "code",
   "execution_count": 15,
   "metadata": {},
   "outputs": [],
   "source": [
    "def stratify_B_n_times_diff(L,A,B,n):\n",
    "    loss=[]\n",
    "    indices_1 = [i for i, x in enumerate(L) if x == 1]\n",
    "    #changing x== -1 \n",
    "    indices_0 = [i for i, x in enumerate(L) if x == 0]\n",
    "    for i in range(0,n):\n",
    "        B_dist_temp=np.zeros(len(B))\n",
    "        mod_indices_1=random.sample(indices_1,len(indices_1))\n",
    "        for i in range(len(indices_1)):\n",
    "            B_dist_temp[indices_1[i]]=B[mod_indices_1[i]]\n",
    "\n",
    "        mod_indices_0=random.sample(indices_0,len(indices_0))\n",
    "        for i in range(len(indices_0)):\n",
    "            B_dist_temp[indices_0[i]]=B[mod_indices_0[i]]\n",
    "        loss.append(calculate_difference(L,A,B_dist_temp))\n",
    "    return loss"
   ]
  },
  {
   "cell_type": "code",
   "execution_count": 141,
   "metadata": {},
   "outputs": [],
   "source": [
    "def stratify_B_ntimes_permuteL(L,A,B,n, B_perm=False):\n",
    "    loss=[]\n",
    "    if(B_perm==True):\n",
    "        indices_1 = [i for i, x in enumerate(L) if x == 1]\n",
    "        #changing x== -1 \n",
    "        indices_0 = [i for i, x in enumerate(L) if x == 0]\n",
    "        B_dist_temp=np.zeros(len(B))\n",
    "        mod_indices_1=random.sample(indices_1,len(indices_1))\n",
    "        for i in range(len(indices_1)):\n",
    "            B_dist_temp[indices_1[i]]=B[mod_indices_1[i]]\n",
    "\n",
    "        mod_indices_0=random.sample(indices_0,len(indices_0))\n",
    "        for i in range(len(indices_0)):\n",
    "            B_dist_temp[indices_0[i]]=B[mod_indices_0[i]]\n",
    "        opt = tf.optimizers.Nadam(1e-3)\n",
    "        mdn_PQ = MDN_module()\n",
    "        mdn_PQ.compile(loss=gnll_loss, optimizer=opt)\n",
    "        withoutL=mdn_PQ.fit(x=np.concatenate([L.reshape(-1,1),A.reshape(-1,1)],axis=1), y=B_dist_temp.T,epochs=100,  batch_size=32,verbose=0)\n",
    "        y_pred = mdn_PQ.predict(np.concatenate([L.reshape(-1,1),A.reshape(-1,1)],axis=1))\n",
    "        alpha,mu,sigma = slice_parameter_vectors(y_pred)\n",
    "        gm = tfd.MixtureSameFamily(\n",
    "                mixture_distribution=tfd.Categorical(probs=alpha),\n",
    "                components_distribution=tfd.Normal(\n",
    "                    loc=mu,       \n",
    "                    scale=sigma))\n",
    "        log_likelihood = gm.log_prob(B_dist_temp).numpy()\n",
    "        loss_original= -tf.reduce_mean(log_likelihood, axis=-1).numpy()\n",
    "        for j in range(n):\n",
    "            L_shuffle=np.random.permutation(L)\n",
    "            y_pred = mdn_PQ.predict(np.concatenate([L_shuffle.reshape(-1,1),A.reshape(-1,1)],axis=1))\n",
    "            alpha,mu,sigma = slice_parameter_vectors(y_pred)\n",
    "            gm = tfd.MixtureSameFamily(\n",
    "                    mixture_distribution=tfd.Categorical(probs=alpha),\n",
    "                    components_distribution=tfd.Normal(\n",
    "                        loc=mu,       \n",
    "                        scale=sigma))\n",
    "            log_likelihood = gm.log_prob(B_dist_temp).numpy()\n",
    "            loss_shuffle= -tf.reduce_mean(log_likelihood, axis=-1).numpy()\n",
    "            loss.append(loss_shuffle-loss_original)\n",
    "    else:\n",
    "        opt = tf.optimizers.Nadam(1e-3)\n",
    "        mdn_PQ = MDN_module()\n",
    "        mdn_PQ.compile(loss=gnll_loss, optimizer=opt)\n",
    "        withoutL=mdn_PQ.fit(x=np.concatenate([L.reshape(-1,1),A.reshape(-1,1)],axis=1), y=B.T,epochs=100,  batch_size=32,verbose=0)\n",
    "        y_pred = mdn_PQ.predict(np.concatenate([L.reshape(-1,1),A.reshape(-1,1)],axis=1))\n",
    "        alpha,mu,sigma = slice_parameter_vectors(y_pred)\n",
    "        gm = tfd.MixtureSameFamily(\n",
    "                mixture_distribution=tfd.Categorical(probs=alpha),\n",
    "                components_distribution=tfd.Normal(\n",
    "                    loc=mu,       \n",
    "                    scale=sigma))\n",
    "        log_likelihood = gm.log_prob(B).numpy()\n",
    "        loss_original= -tf.reduce_mean(log_likelihood, axis=-1).numpy()\n",
    "        for j in range(n):\n",
    "            L_shuffle=np.random.permutation(L)\n",
    "            y_pred = mdn_PQ.predict(np.concatenate([L_shuffle.reshape(-1,1),A.reshape(-1,1)],axis=1))\n",
    "            alpha,mu,sigma = slice_parameter_vectors(y_pred)\n",
    "            gm = tfd.MixtureSameFamily(\n",
    "                    mixture_distribution=tfd.Categorical(probs=alpha),\n",
    "                    components_distribution=tfd.Normal(\n",
    "                        loc=mu,       \n",
    "                        scale=sigma))\n",
    "            log_likelihood = gm.log_prob(B).numpy()\n",
    "            loss_shuffle= -tf.reduce_mean(log_likelihood, axis=-1).numpy()\n",
    "            loss.append(loss_shuffle-loss_original)\n",
    "            \n",
    "        \n",
    "    \n",
    "    return loss"
   ]
  },
  {
   "cell_type": "code",
   "execution_count": null,
   "metadata": {},
   "outputs": [],
   "source": [
    "def trueconditional(L,A,B):\n",
    "    "
   ]
  },
  {
   "cell_type": "code",
   "execution_count": null,
   "metadata": {},
   "outputs": [],
   "source": [
    "import math"
   ]
  },
  {
   "cell_type": "code",
   "execution_count": 29,
   "metadata": {},
   "outputs": [],
   "source": [
    "def sigmoid(x):\n",
    "  return 1 / (1 + np.exp(-x))\n"
   ]
  },
  {
   "cell_type": "code",
   "execution_count": null,
   "metadata": {},
   "outputs": [],
   "source": [
    "np.heaviside(1,0)"
   ]
  },
  {
   "cell_type": "code",
   "execution_count": null,
   "metadata": {},
   "outputs": [],
   "source": [
    "def hill(x,n):\n",
    "    return x**n / (1+x**n)"
   ]
  },
  {
   "cell_type": "code",
   "execution_count": null,
   "metadata": {},
   "outputs": [],
   "source": [
    "L = np.random.binomial(1,0.5,1000)  \n",
    "L[L==0]=-1"
   ]
  },
  {
   "cell_type": "code",
   "execution_count": null,
   "metadata": {},
   "outputs": [],
   "source": [
    "eps0 = np.random.normal(0,1,1000)\n",
    "eps1 = np.random.normal(0,1,1000)\n",
    "A = L + eps0\n",
    "B = abs(A)+eps1"
   ]
  },
  {
   "cell_type": "code",
   "execution_count": null,
   "metadata": {},
   "outputs": [],
   "source": [
    "plt.scatter(A,B)"
   ]
  },
  {
   "cell_type": "code",
   "execution_count": null,
   "metadata": {},
   "outputs": [],
   "source": [
    "min(A)"
   ]
  },
  {
   "cell_type": "code",
   "execution_count": null,
   "metadata": {},
   "outputs": [],
   "source": [
    "L=L[A<3]\n",
    "B=B[A<3]\n",
    "A=A[A<3]"
   ]
  },
  {
   "cell_type": "code",
   "execution_count": null,
   "metadata": {},
   "outputs": [],
   "source": []
  },
  {
   "cell_type": "code",
   "execution_count": null,
   "metadata": {},
   "outputs": [],
   "source": [
    "L = np.random.binomial(1,0.5,1000)  \n",
    "eps0 = np.random.normal(0,1,1000)\n",
    "eps1 = np.random.normal(0,1,1000)\n",
    "A = 10*L + eps0**2\n",
    "B = 10*L+eps1\n",
    "#A =5*L+ eps0\n",
    "#B = 5*L+eps1\n",
    "#A = L + eps0\n",
    "#B = hill(A,20)+eps1"
   ]
  },
  {
   "cell_type": "code",
   "execution_count": 245,
   "metadata": {},
   "outputs": [],
   "source": [
    "L=dataset_linear[0][0]\n",
    "A=dataset_linear[0][1]\n",
    "B=dataset_linear[0][2]"
   ]
  },
  {
   "cell_type": "code",
   "execution_count": null,
   "metadata": {},
   "outputs": [],
   "source": [
    "len(L)"
   ]
  },
  {
   "cell_type": "code",
   "execution_count": null,
   "metadata": {},
   "outputs": [],
   "source": [
    "np.sin(1)*10"
   ]
  },
  {
   "cell_type": "code",
   "execution_count": null,
   "metadata": {},
   "outputs": [],
   "source": [
    "plt.scatter(A,B)\n",
    "plt.xlabel(\"A\")\n",
    "\n",
    "plt.ylabel(\"B\")"
   ]
  },
  {
   "cell_type": "code",
   "execution_count": null,
   "metadata": {},
   "outputs": [],
   "source": [
    "plt.scatter(L,A)"
   ]
  },
  {
   "cell_type": "code",
   "execution_count": null,
   "metadata": {},
   "outputs": [],
   "source": [
    "plt.scatter(L,B)"
   ]
  },
  {
   "cell_type": "code",
   "execution_count": 250,
   "metadata": {},
   "outputs": [
    {
     "data": {
      "text/plain": [
       "<matplotlib.collections.PathCollection at 0x7f618aaed550>"
      ]
     },
     "execution_count": 250,
     "metadata": {},
     "output_type": "execute_result"
    },
    {
     "data": {
      "image/png": "[encoded data removed]",
      "text/plain": [
       "<Figure size 432x288 with 1 Axes>"
      ]
     },
     "metadata": {
      "needs_background": "light"
     },
     "output_type": "display_data"
    }
   ],
   "source": [
    "plt.scatter(A,B)\n"
   ]
  },
  {
   "cell_type": "code",
   "execution_count": 162,
   "metadata": {},
   "outputs": [
    {
     "data": {
      "text/plain": [
       "121"
      ]
     },
     "execution_count": 162,
     "metadata": {},
     "output_type": "execute_result"
    }
   ],
   "source": [
    "len(dataset_linear)"
   ]
  },
  {
   "cell_type": "code",
   "execution_count": 342,
   "metadata": {},
   "outputs": [],
   "source": [
    "i=84\n",
    "A=np.array(dataset_linear[i][1])\n",
    "B=np.array(dataset_linear[i][2])\n",
    "L=np.array(dataset_linear[i][0])"
   ]
  },
  {
   "cell_type": "code",
   "execution_count": 247,
   "metadata": {},
   "outputs": [],
   "source": [
    "\n",
    "count=0"
   ]
  },
  {
   "cell_type": "code",
   "execution_count": 248,
   "metadata": {},
   "outputs": [],
   "source": [
    "f=open(\"PermuteNewLinear0to1indp.txt\",\"a\")"
   ]
  },
  {
   "cell_type": "code",
   "execution_count": 345,
   "metadata": {},
   "outputs": [
    {
     "ename": "ValueError",
     "evalue": "I/O operation on closed file.",
     "output_type": "error",
     "traceback": [
      "\u001b[0;31m---------------------------------------------------------------------------\u001b[0m",
      "\u001b[0;31mValueError\u001b[0m                                Traceback (most recent call last)",
      "Input \u001b[0;32mIn [345]\u001b[0m, in \u001b[0;36m<cell line: 25>\u001b[0;34m()\u001b[0m\n\u001b[1;32m     23\u001b[0m LB_p\u001b[38;5;241m=\u001b[39mcalculate_pvalue(true_LB,loss_list_LB)\n\u001b[1;32m     24\u001b[0m AB_p\u001b[38;5;241m=\u001b[39mcalculate_pvalue(true_LBresidual,loss_list_Bresidual)\n\u001b[0;32m---> 25\u001b[0m \u001b[43mf\u001b[49m\u001b[38;5;241;43m.\u001b[39;49m\u001b[43mwrite\u001b[49m\u001b[43m(\u001b[49m\u001b[38;5;28;43mstr\u001b[39;49m\u001b[43m(\u001b[49m\u001b[43mi\u001b[49m\u001b[43m)\u001b[49m\u001b[38;5;241;43m+\u001b[39;49m\u001b[38;5;124;43m\"\u001b[39;49m\u001b[38;5;124;43m,\u001b[39;49m\u001b[38;5;124;43m\"\u001b[39;49m\u001b[38;5;241;43m+\u001b[39;49m\u001b[38;5;28;43mstr\u001b[39;49m\u001b[43m(\u001b[49m\u001b[43mLA_p\u001b[49m\u001b[43m)\u001b[49m\u001b[38;5;241;43m+\u001b[39;49m\u001b[38;5;124;43m\"\u001b[39;49m\u001b[38;5;124;43m,\u001b[39;49m\u001b[38;5;124;43m\"\u001b[39;49m\u001b[38;5;241;43m+\u001b[39;49m\u001b[38;5;28;43mstr\u001b[39;49m\u001b[43m(\u001b[49m\u001b[43mLB_p\u001b[49m\u001b[43m)\u001b[49m\u001b[38;5;241;43m+\u001b[39;49m\u001b[38;5;124;43m\"\u001b[39;49m\u001b[38;5;124;43m,\u001b[39;49m\u001b[38;5;124;43m\"\u001b[39;49m\u001b[38;5;241;43m+\u001b[39;49m\u001b[38;5;28;43mstr\u001b[39;49m\u001b[43m(\u001b[49m\u001b[43mAB_p\u001b[49m\u001b[43m)\u001b[49m\u001b[38;5;241;43m+\u001b[39;49m\u001b[38;5;124;43m\"\u001b[39;49m\u001b[38;5;130;43;01m\\n\u001b[39;49;00m\u001b[38;5;124;43m\"\u001b[39;49m\u001b[43m)\u001b[49m\n",
      "\u001b[0;31mValueError\u001b[0m: I/O operation on closed file."
     ]
    }
   ],
   "source": [
    "#for i in range(0,144):\n",
    "A=np.array(dataset_linear[i][1])\n",
    "B=np.array(dataset_linear[i][2])\n",
    "L=np.array(dataset_linear[i][0])\n",
    "shuffles=100\n",
    "A_shuffle=np.copy(A)\n",
    "B_shuffle=np.copy(B)\n",
    "#print(\"Original\",B_shufflep\n",
    "#changed the second test from mle to using neural networks\n",
    "loss_list_LA=shuffleBtimes(L,A_shuffle,shuffles,True)\n",
    "loss_list_LB=shuffleBtimes(L,B_shuffle,shuffles,True)\n",
    "#loss_list_Bresidual=stratify_B_n_times_diff(L,A_shuffle,B_shuffle,shuffles) #conditional independence test\n",
    "\n",
    "true_LA=compute_loss(L,A,True)\n",
    "true_LB=compute_loss(L,B,True)\n",
    "loss_list_Bresidual,true_LBresidual= calculateLshuffle(L,A,B,shuffles)\n",
    "#true_LBresidual=stratify_B_ntimes_permuteL(L,A,B,shuffles)\n",
    "#true_LBresidual=calculate_difference(L,A,B)\n",
    "#true_LBresidual=trueconditional(L,A,B)\n",
    "#loss_list_Bresidual=stratify_B_ntimes_permuteL(L,A_shuffle,B_shuffle,shuffles)\n",
    "#loss_list_Bresidual=stratify_B_ntimes_permuteL(L,A,B,shuffles,True)\n",
    "LA_p=calculate_pvalue(true_LA,loss_list_LA)\n",
    "LB_p=calculate_pvalue(true_LB,loss_list_LB)\n",
    "AB_p=calculate_pvalue(true_LBresidual,loss_list_Bresidual)\n",
    "f.write(str(i)+\",\"+str(LA_p)+\",\"+str(LB_p)+\",\"+str(AB_p)+\"\\n\")\n",
    "#AB_p=calculate_pvalue(true_LBresidual,loss_list_Bresidual)\n",
    "#mean_true=np.mean(true_LBresidual)\n",
    "#mean_shuffle=np.mean(loss_list_Bresidual)\n",
    "#std_true=np.std(true_LBresidual)\n",
    "#std_shuffle=np.std(loss_list_Bresidual)\n",
    "#f.write(str(i)+\",\"+str(LA_p)+\",\"+str(LB_p)+\",\"+str(mean_true)+\",\"+str(mean_shuffle)+\",\"+str(std_true)+\",\"+str(std_shuffle)+\"\\n\")\n",
    "#pickle_items=[loss_list_LA,loss_list_LB,loss_list_Bresidual,true_LA,true_LB,true_LBresidual,LA_p,LB_p,AB_p]\n",
    "#file_name=str(dataset_names[i])+\".pkl\"\n",
    "#open_file = open(\"./DLresultspickle/\"+file_name, \"wb\")\n",
    "#pickle.dump(pickle_items, open_file)\n",
    "#open_file.close()\n",
    "\n",
    "#if(mean_shuffle>mean_true):\n",
    "    #print(i)\n",
    "    #count+=1\n"
   ]
  },
  {
   "cell_type": "code",
   "execution_count": 251,
   "metadata": {},
   "outputs": [
    {
     "name": "stdout",
     "output_type": "stream",
     "text": [
      "71\n"
     ]
    }
   ],
   "source": [
    "print(count)"
   ]
  },
  {
   "cell_type": "code",
   "execution_count": 252,
   "metadata": {},
   "outputs": [],
   "source": [
    "f.close()"
   ]
  },
  {
   "cell_type": "code",
   "execution_count": 176,
   "metadata": {},
   "outputs": [],
   "source": [
    "#true_LBresidual"
   ]
  },
  {
   "cell_type": "code",
   "execution_count": 160,
   "metadata": {},
   "outputs": [
    {
     "name": "stdout",
     "output_type": "stream",
     "text": [
      "mean 0.0055420073\n",
      "std 0.002270245\n"
     ]
    }
   ],
   "source": [
    "print(\"mean\",np.mean(true_LBresidual))\n",
    "print(\"std\",np.std(true_LBresidual))"
   ]
  },
  {
   "cell_type": "code",
   "execution_count": 253,
   "metadata": {},
   "outputs": [],
   "source": [
    "import pandas as pd"
   ]
  },
  {
   "cell_type": "code",
   "execution_count": 254,
   "metadata": {},
   "outputs": [],
   "source": [
    "presults= pd.read_csv(\"PermuteNewLinear0to1indp.txt\",header=None)"
   ]
  },
  {
   "cell_type": "code",
   "execution_count": 255,
   "metadata": {},
   "outputs": [],
   "source": [
    "presults=presults.set_index([0])"
   ]
  },
  {
   "cell_type": "code",
   "execution_count": 256,
   "metadata": {},
   "outputs": [
    {
     "data": {
      "text/html": [
       "<div>\n",
       "<style scoped>\n",
       "    .dataframe tbody tr th:only-of-type {\n",
       "        vertical-align: middle;\n",
       "    }\n",
       "\n",
       "    .dataframe tbody tr th {\n",
       "        vertical-align: top;\n",
       "    }\n",
       "\n",
       "    .dataframe thead th {\n",
       "        text-align: right;\n",
       "    }\n",
       "</style>\n",
       "<table border=\"1\" class=\"dataframe\">\n",
       "  <thead>\n",
       "    <tr style=\"text-align: right;\">\n",
       "      <th></th>\n",
       "      <th>1</th>\n",
       "      <th>2</th>\n",
       "      <th>3</th>\n",
       "      <th>4</th>\n",
       "      <th>5</th>\n",
       "      <th>6</th>\n",
       "    </tr>\n",
       "    <tr>\n",
       "      <th>0</th>\n",
       "      <th></th>\n",
       "      <th></th>\n",
       "      <th></th>\n",
       "      <th></th>\n",
       "      <th></th>\n",
       "      <th></th>\n",
       "    </tr>\n",
       "  </thead>\n",
       "  <tbody>\n",
       "    <tr>\n",
       "      <th>0</th>\n",
       "      <td>0.29</td>\n",
       "      <td>0.33</td>\n",
       "      <td>0.010593</td>\n",
       "      <td>0.006457</td>\n",
       "      <td>0.002943</td>\n",
       "      <td>0.002235</td>\n",
       "    </tr>\n",
       "    <tr>\n",
       "      <th>1</th>\n",
       "      <td>0.32</td>\n",
       "      <td>0.26</td>\n",
       "      <td>0.010282</td>\n",
       "      <td>0.017881</td>\n",
       "      <td>0.003161</td>\n",
       "      <td>0.004447</td>\n",
       "    </tr>\n",
       "    <tr>\n",
       "      <th>2</th>\n",
       "      <td>0.19</td>\n",
       "      <td>0.00</td>\n",
       "      <td>0.013366</td>\n",
       "      <td>0.019570</td>\n",
       "      <td>0.003318</td>\n",
       "      <td>0.004757</td>\n",
       "    </tr>\n",
       "    <tr>\n",
       "      <th>3</th>\n",
       "      <td>0.12</td>\n",
       "      <td>0.00</td>\n",
       "      <td>0.023861</td>\n",
       "      <td>0.027188</td>\n",
       "      <td>0.005340</td>\n",
       "      <td>0.004979</td>\n",
       "    </tr>\n",
       "    <tr>\n",
       "      <th>4</th>\n",
       "      <td>0.68</td>\n",
       "      <td>0.00</td>\n",
       "      <td>0.042456</td>\n",
       "      <td>0.044135</td>\n",
       "      <td>0.006336</td>\n",
       "      <td>0.007317</td>\n",
       "    </tr>\n",
       "    <tr>\n",
       "      <th>...</th>\n",
       "      <td>...</td>\n",
       "      <td>...</td>\n",
       "      <td>...</td>\n",
       "      <td>...</td>\n",
       "      <td>...</td>\n",
       "      <td>...</td>\n",
       "    </tr>\n",
       "    <tr>\n",
       "      <th>139</th>\n",
       "      <td>0.00</td>\n",
       "      <td>0.00</td>\n",
       "      <td>0.173610</td>\n",
       "      <td>0.126557</td>\n",
       "      <td>0.017148</td>\n",
       "      <td>0.012015</td>\n",
       "    </tr>\n",
       "    <tr>\n",
       "      <th>140</th>\n",
       "      <td>0.00</td>\n",
       "      <td>0.00</td>\n",
       "      <td>0.090114</td>\n",
       "      <td>0.087877</td>\n",
       "      <td>0.009337</td>\n",
       "      <td>0.009054</td>\n",
       "    </tr>\n",
       "    <tr>\n",
       "      <th>141</th>\n",
       "      <td>0.00</td>\n",
       "      <td>0.00</td>\n",
       "      <td>0.304128</td>\n",
       "      <td>0.369769</td>\n",
       "      <td>0.019070</td>\n",
       "      <td>0.027713</td>\n",
       "    </tr>\n",
       "    <tr>\n",
       "      <th>142</th>\n",
       "      <td>0.00</td>\n",
       "      <td>0.00</td>\n",
       "      <td>0.543465</td>\n",
       "      <td>0.152095</td>\n",
       "      <td>0.038569</td>\n",
       "      <td>0.014028</td>\n",
       "    </tr>\n",
       "    <tr>\n",
       "      <th>143</th>\n",
       "      <td>0.00</td>\n",
       "      <td>0.00</td>\n",
       "      <td>2.505283</td>\n",
       "      <td>2.200767</td>\n",
       "      <td>0.095988</td>\n",
       "      <td>0.074143</td>\n",
       "    </tr>\n",
       "  </tbody>\n",
       "</table>\n",
       "<p>144 rows × 6 columns</p>\n",
       "</div>"
      ],
      "text/plain": [
       "        1     2         3         4         5         6\n",
       "0                                                      \n",
       "0    0.29  0.33  0.010593  0.006457  0.002943  0.002235\n",
       "1    0.32  0.26  0.010282  0.017881  0.003161  0.004447\n",
       "2    0.19  0.00  0.013366  0.019570  0.003318  0.004757\n",
       "3    0.12  0.00  0.023861  0.027188  0.005340  0.004979\n",
       "4    0.68  0.00  0.042456  0.044135  0.006336  0.007317\n",
       "..    ...   ...       ...       ...       ...       ...\n",
       "139  0.00  0.00  0.173610  0.126557  0.017148  0.012015\n",
       "140  0.00  0.00  0.090114  0.087877  0.009337  0.009054\n",
       "141  0.00  0.00  0.304128  0.369769  0.019070  0.027713\n",
       "142  0.00  0.00  0.543465  0.152095  0.038569  0.014028\n",
       "143  0.00  0.00  2.505283  2.200767  0.095988  0.074143\n",
       "\n",
       "[144 rows x 6 columns]"
      ]
     },
     "execution_count": 256,
     "metadata": {},
     "output_type": "execute_result"
    }
   ],
   "source": [
    "presults"
   ]
  },
  {
   "cell_type": "code",
   "execution_count": 213,
   "metadata": {},
   "outputs": [
    {
     "data": {
      "text/plain": [
       "0.78"
      ]
     },
     "execution_count": 213,
     "metadata": {},
     "output_type": "execute_result"
    }
   ],
   "source": [
    "presults.iloc[0][1]"
   ]
  },
  {
   "cell_type": "code",
   "execution_count": 257,
   "metadata": {},
   "outputs": [],
   "source": [
    "presults['results']=presults.apply (lambda row: 'causal' if (row[1] <0.05 and row[2]<0.05 and row[3]<row[4])  else ' ', axis=1)"
   ]
  },
  {
   "cell_type": "code",
   "execution_count": 258,
   "metadata": {},
   "outputs": [
    {
     "data": {
      "text/html": [
       "<div>\n",
       "<style scoped>\n",
       "    .dataframe tbody tr th:only-of-type {\n",
       "        vertical-align: middle;\n",
       "    }\n",
       "\n",
       "    .dataframe tbody tr th {\n",
       "        vertical-align: top;\n",
       "    }\n",
       "\n",
       "    .dataframe thead th {\n",
       "        text-align: right;\n",
       "    }\n",
       "</style>\n",
       "<table border=\"1\" class=\"dataframe\">\n",
       "  <thead>\n",
       "    <tr style=\"text-align: right;\">\n",
       "      <th></th>\n",
       "      <th>1</th>\n",
       "      <th>2</th>\n",
       "      <th>3</th>\n",
       "      <th>4</th>\n",
       "      <th>5</th>\n",
       "      <th>6</th>\n",
       "      <th>results</th>\n",
       "    </tr>\n",
       "    <tr>\n",
       "      <th>0</th>\n",
       "      <th></th>\n",
       "      <th></th>\n",
       "      <th></th>\n",
       "      <th></th>\n",
       "      <th></th>\n",
       "      <th></th>\n",
       "      <th></th>\n",
       "    </tr>\n",
       "  </thead>\n",
       "  <tbody>\n",
       "    <tr>\n",
       "      <th>0</th>\n",
       "      <td>0.29</td>\n",
       "      <td>0.33</td>\n",
       "      <td>0.010593</td>\n",
       "      <td>0.006457</td>\n",
       "      <td>0.002943</td>\n",
       "      <td>0.002235</td>\n",
       "      <td></td>\n",
       "    </tr>\n",
       "    <tr>\n",
       "      <th>1</th>\n",
       "      <td>0.32</td>\n",
       "      <td>0.26</td>\n",
       "      <td>0.010282</td>\n",
       "      <td>0.017881</td>\n",
       "      <td>0.003161</td>\n",
       "      <td>0.004447</td>\n",
       "      <td></td>\n",
       "    </tr>\n",
       "    <tr>\n",
       "      <th>2</th>\n",
       "      <td>0.19</td>\n",
       "      <td>0.00</td>\n",
       "      <td>0.013366</td>\n",
       "      <td>0.019570</td>\n",
       "      <td>0.003318</td>\n",
       "      <td>0.004757</td>\n",
       "      <td></td>\n",
       "    </tr>\n",
       "    <tr>\n",
       "      <th>3</th>\n",
       "      <td>0.12</td>\n",
       "      <td>0.00</td>\n",
       "      <td>0.023861</td>\n",
       "      <td>0.027188</td>\n",
       "      <td>0.005340</td>\n",
       "      <td>0.004979</td>\n",
       "      <td></td>\n",
       "    </tr>\n",
       "    <tr>\n",
       "      <th>4</th>\n",
       "      <td>0.68</td>\n",
       "      <td>0.00</td>\n",
       "      <td>0.042456</td>\n",
       "      <td>0.044135</td>\n",
       "      <td>0.006336</td>\n",
       "      <td>0.007317</td>\n",
       "      <td></td>\n",
       "    </tr>\n",
       "    <tr>\n",
       "      <th>...</th>\n",
       "      <td>...</td>\n",
       "      <td>...</td>\n",
       "      <td>...</td>\n",
       "      <td>...</td>\n",
       "      <td>...</td>\n",
       "      <td>...</td>\n",
       "      <td>...</td>\n",
       "    </tr>\n",
       "    <tr>\n",
       "      <th>139</th>\n",
       "      <td>0.00</td>\n",
       "      <td>0.00</td>\n",
       "      <td>0.173610</td>\n",
       "      <td>0.126557</td>\n",
       "      <td>0.017148</td>\n",
       "      <td>0.012015</td>\n",
       "      <td></td>\n",
       "    </tr>\n",
       "    <tr>\n",
       "      <th>140</th>\n",
       "      <td>0.00</td>\n",
       "      <td>0.00</td>\n",
       "      <td>0.090114</td>\n",
       "      <td>0.087877</td>\n",
       "      <td>0.009337</td>\n",
       "      <td>0.009054</td>\n",
       "      <td></td>\n",
       "    </tr>\n",
       "    <tr>\n",
       "      <th>141</th>\n",
       "      <td>0.00</td>\n",
       "      <td>0.00</td>\n",
       "      <td>0.304128</td>\n",
       "      <td>0.369769</td>\n",
       "      <td>0.019070</td>\n",
       "      <td>0.027713</td>\n",
       "      <td>causal</td>\n",
       "    </tr>\n",
       "    <tr>\n",
       "      <th>142</th>\n",
       "      <td>0.00</td>\n",
       "      <td>0.00</td>\n",
       "      <td>0.543465</td>\n",
       "      <td>0.152095</td>\n",
       "      <td>0.038569</td>\n",
       "      <td>0.014028</td>\n",
       "      <td></td>\n",
       "    </tr>\n",
       "    <tr>\n",
       "      <th>143</th>\n",
       "      <td>0.00</td>\n",
       "      <td>0.00</td>\n",
       "      <td>2.505283</td>\n",
       "      <td>2.200767</td>\n",
       "      <td>0.095988</td>\n",
       "      <td>0.074143</td>\n",
       "      <td></td>\n",
       "    </tr>\n",
       "  </tbody>\n",
       "</table>\n",
       "<p>144 rows × 7 columns</p>\n",
       "</div>"
      ],
      "text/plain": [
       "        1     2         3         4         5         6 results\n",
       "0                                                              \n",
       "0    0.29  0.33  0.010593  0.006457  0.002943  0.002235        \n",
       "1    0.32  0.26  0.010282  0.017881  0.003161  0.004447        \n",
       "2    0.19  0.00  0.013366  0.019570  0.003318  0.004757        \n",
       "3    0.12  0.00  0.023861  0.027188  0.005340  0.004979        \n",
       "4    0.68  0.00  0.042456  0.044135  0.006336  0.007317        \n",
       "..    ...   ...       ...       ...       ...       ...     ...\n",
       "139  0.00  0.00  0.173610  0.126557  0.017148  0.012015        \n",
       "140  0.00  0.00  0.090114  0.087877  0.009337  0.009054        \n",
       "141  0.00  0.00  0.304128  0.369769  0.019070  0.027713  causal\n",
       "142  0.00  0.00  0.543465  0.152095  0.038569  0.014028        \n",
       "143  0.00  0.00  2.505283  2.200767  0.095988  0.074143        \n",
       "\n",
       "[144 rows x 7 columns]"
      ]
     },
     "execution_count": 258,
     "metadata": {},
     "output_type": "execute_result"
    }
   ],
   "source": [
    "presults"
   ]
  },
  {
   "cell_type": "code",
   "execution_count": 264,
   "metadata": {},
   "outputs": [
    {
     "data": {
      "text/plain": [
       "49"
      ]
     },
     "execution_count": 264,
     "metadata": {},
     "output_type": "execute_result"
    }
   ],
   "source": [
    "sum(presults['results']==\"causal\")"
   ]
  },
  {
   "cell_type": "code",
   "execution_count": 236,
   "metadata": {},
   "outputs": [],
   "source": [
    "presults.columns=['p_L->A', 'p_L->B', 'mean_true','mean_shuffle','std_true','std_shuffle','final_call']"
   ]
  },
  {
   "cell_type": "code",
   "execution_count": 260,
   "metadata": {},
   "outputs": [],
   "source": [
    "citresults= pd.read_csv(\"LinearDifferentvalues/CIT_testing/results_cit_ind.csv\")"
   ]
  },
  {
   "cell_type": "code",
   "execution_count": 265,
   "metadata": {},
   "outputs": [
    {
     "data": {
      "text/html": [
       "<div>\n",
       "<style scoped>\n",
       "    .dataframe tbody tr th:only-of-type {\n",
       "        vertical-align: middle;\n",
       "    }\n",
       "\n",
       "    .dataframe tbody tr th {\n",
       "        vertical-align: top;\n",
       "    }\n",
       "\n",
       "    .dataframe thead th {\n",
       "        text-align: right;\n",
       "    }\n",
       "</style>\n",
       "<table border=\"1\" class=\"dataframe\">\n",
       "  <thead>\n",
       "    <tr style=\"text-align: right;\">\n",
       "      <th></th>\n",
       "      <th>p_cit</th>\n",
       "      <th>p_TL</th>\n",
       "      <th>p_TG</th>\n",
       "      <th>p_GL</th>\n",
       "      <th>p_Lind</th>\n",
       "      <th>p_res</th>\n",
       "    </tr>\n",
       "  </thead>\n",
       "  <tbody>\n",
       "    <tr>\n",
       "      <th>0</th>\n",
       "      <td>0.888602</td>\n",
       "      <td>2.376205e-01</td>\n",
       "      <td>0.123425</td>\n",
       "      <td>1.578694e-01</td>\n",
       "      <td>0.888602</td>\n",
       "      <td></td>\n",
       "    </tr>\n",
       "    <tr>\n",
       "      <th>1</th>\n",
       "      <td>0.975658</td>\n",
       "      <td>1.675535e-01</td>\n",
       "      <td>0.975658</td>\n",
       "      <td>3.525273e-01</td>\n",
       "      <td>0.554671</td>\n",
       "      <td></td>\n",
       "    </tr>\n",
       "    <tr>\n",
       "      <th>2</th>\n",
       "      <td>0.757469</td>\n",
       "      <td>2.987484e-03</td>\n",
       "      <td>0.536714</td>\n",
       "      <td>6.181744e-02</td>\n",
       "      <td>0.757469</td>\n",
       "      <td></td>\n",
       "    </tr>\n",
       "    <tr>\n",
       "      <th>3</th>\n",
       "      <td>0.545883</td>\n",
       "      <td>2.802686e-06</td>\n",
       "      <td>0.016400</td>\n",
       "      <td>5.458832e-01</td>\n",
       "      <td>0.121506</td>\n",
       "      <td></td>\n",
       "    </tr>\n",
       "    <tr>\n",
       "      <th>4</th>\n",
       "      <td>0.565338</td>\n",
       "      <td>8.986188e-10</td>\n",
       "      <td>0.263186</td>\n",
       "      <td>5.653381e-01</td>\n",
       "      <td>0.232280</td>\n",
       "      <td></td>\n",
       "    </tr>\n",
       "    <tr>\n",
       "      <th>...</th>\n",
       "      <td>...</td>\n",
       "      <td>...</td>\n",
       "      <td>...</td>\n",
       "      <td>...</td>\n",
       "      <td>...</td>\n",
       "      <td>...</td>\n",
       "    </tr>\n",
       "    <tr>\n",
       "      <th>139</th>\n",
       "      <td>0.693343</td>\n",
       "      <td>1.113714e-29</td>\n",
       "      <td>0.581055</td>\n",
       "      <td>6.015304e-232</td>\n",
       "      <td>0.693343</td>\n",
       "      <td></td>\n",
       "    </tr>\n",
       "    <tr>\n",
       "      <th>140</th>\n",
       "      <td>0.788440</td>\n",
       "      <td>1.390011e-31</td>\n",
       "      <td>0.788440</td>\n",
       "      <td>6.374398e-221</td>\n",
       "      <td>0.601401</td>\n",
       "      <td></td>\n",
       "    </tr>\n",
       "    <tr>\n",
       "      <th>141</th>\n",
       "      <td>0.734262</td>\n",
       "      <td>3.525310e-53</td>\n",
       "      <td>0.418877</td>\n",
       "      <td>1.747853e-227</td>\n",
       "      <td>0.734262</td>\n",
       "      <td></td>\n",
       "    </tr>\n",
       "    <tr>\n",
       "      <th>142</th>\n",
       "      <td>0.951677</td>\n",
       "      <td>9.990723e-51</td>\n",
       "      <td>0.051987</td>\n",
       "      <td>5.086993e-241</td>\n",
       "      <td>0.951677</td>\n",
       "      <td></td>\n",
       "    </tr>\n",
       "    <tr>\n",
       "      <th>143</th>\n",
       "      <td>0.963901</td>\n",
       "      <td>2.315531e-273</td>\n",
       "      <td>0.963901</td>\n",
       "      <td>1.681839e-111</td>\n",
       "      <td>0.504130</td>\n",
       "      <td></td>\n",
       "    </tr>\n",
       "  </tbody>\n",
       "</table>\n",
       "<p>144 rows × 6 columns</p>\n",
       "</div>"
      ],
      "text/plain": [
       "        p_cit           p_TL      p_TG           p_GL    p_Lind p_res\n",
       "0    0.888602   2.376205e-01  0.123425   1.578694e-01  0.888602      \n",
       "1    0.975658   1.675535e-01  0.975658   3.525273e-01  0.554671      \n",
       "2    0.757469   2.987484e-03  0.536714   6.181744e-02  0.757469      \n",
       "3    0.545883   2.802686e-06  0.016400   5.458832e-01  0.121506      \n",
       "4    0.565338   8.986188e-10  0.263186   5.653381e-01  0.232280      \n",
       "..        ...            ...       ...            ...       ...   ...\n",
       "139  0.693343   1.113714e-29  0.581055  6.015304e-232  0.693343      \n",
       "140  0.788440   1.390011e-31  0.788440  6.374398e-221  0.601401      \n",
       "141  0.734262   3.525310e-53  0.418877  1.747853e-227  0.734262      \n",
       "142  0.951677   9.990723e-51  0.051987  5.086993e-241  0.951677      \n",
       "143  0.963901  2.315531e-273  0.963901  1.681839e-111  0.504130      \n",
       "\n",
       "[144 rows x 6 columns]"
      ]
     },
     "execution_count": 265,
     "metadata": {},
     "output_type": "execute_result"
    }
   ],
   "source": [
    "citresults"
   ]
  },
  {
   "cell_type": "code",
   "execution_count": 266,
   "metadata": {},
   "outputs": [
    {
     "data": {
      "text/plain": [
       "1"
      ]
     },
     "execution_count": 266,
     "metadata": {},
     "output_type": "execute_result"
    }
   ],
   "source": [
    "sum(citresults['p_res']==\"causal\")"
   ]
  },
  {
   "cell_type": "code",
   "execution_count": 270,
   "metadata": {},
   "outputs": [],
   "source": [
    "citDl=pd.concat([citresults,presults],axis=1)"
   ]
  },
  {
   "cell_type": "code",
   "execution_count": 271,
   "metadata": {},
   "outputs": [
    {
     "data": {
      "text/html": [
       "<div>\n",
       "<style scoped>\n",
       "    .dataframe tbody tr th:only-of-type {\n",
       "        vertical-align: middle;\n",
       "    }\n",
       "\n",
       "    .dataframe tbody tr th {\n",
       "        vertical-align: top;\n",
       "    }\n",
       "\n",
       "    .dataframe thead th {\n",
       "        text-align: right;\n",
       "    }\n",
       "</style>\n",
       "<table border=\"1\" class=\"dataframe\">\n",
       "  <thead>\n",
       "    <tr style=\"text-align: right;\">\n",
       "      <th></th>\n",
       "      <th>p_cit</th>\n",
       "      <th>p_TL</th>\n",
       "      <th>p_TG</th>\n",
       "      <th>p_GL</th>\n",
       "      <th>p_Lind</th>\n",
       "      <th>p_res</th>\n",
       "      <th>1</th>\n",
       "      <th>2</th>\n",
       "      <th>3</th>\n",
       "      <th>4</th>\n",
       "      <th>5</th>\n",
       "      <th>6</th>\n",
       "      <th>results</th>\n",
       "    </tr>\n",
       "  </thead>\n",
       "  <tbody>\n",
       "    <tr>\n",
       "      <th>0</th>\n",
       "      <td>0.888602</td>\n",
       "      <td>2.376205e-01</td>\n",
       "      <td>0.123425</td>\n",
       "      <td>1.578694e-01</td>\n",
       "      <td>0.888602</td>\n",
       "      <td></td>\n",
       "      <td>0.29</td>\n",
       "      <td>0.33</td>\n",
       "      <td>0.010593</td>\n",
       "      <td>0.006457</td>\n",
       "      <td>0.002943</td>\n",
       "      <td>0.002235</td>\n",
       "      <td></td>\n",
       "    </tr>\n",
       "    <tr>\n",
       "      <th>1</th>\n",
       "      <td>0.975658</td>\n",
       "      <td>1.675535e-01</td>\n",
       "      <td>0.975658</td>\n",
       "      <td>3.525273e-01</td>\n",
       "      <td>0.554671</td>\n",
       "      <td></td>\n",
       "      <td>0.32</td>\n",
       "      <td>0.26</td>\n",
       "      <td>0.010282</td>\n",
       "      <td>0.017881</td>\n",
       "      <td>0.003161</td>\n",
       "      <td>0.004447</td>\n",
       "      <td></td>\n",
       "    </tr>\n",
       "    <tr>\n",
       "      <th>2</th>\n",
       "      <td>0.757469</td>\n",
       "      <td>2.987484e-03</td>\n",
       "      <td>0.536714</td>\n",
       "      <td>6.181744e-02</td>\n",
       "      <td>0.757469</td>\n",
       "      <td></td>\n",
       "      <td>0.19</td>\n",
       "      <td>0.00</td>\n",
       "      <td>0.013366</td>\n",
       "      <td>0.019570</td>\n",
       "      <td>0.003318</td>\n",
       "      <td>0.004757</td>\n",
       "      <td></td>\n",
       "    </tr>\n",
       "    <tr>\n",
       "      <th>3</th>\n",
       "      <td>0.545883</td>\n",
       "      <td>2.802686e-06</td>\n",
       "      <td>0.016400</td>\n",
       "      <td>5.458832e-01</td>\n",
       "      <td>0.121506</td>\n",
       "      <td></td>\n",
       "      <td>0.12</td>\n",
       "      <td>0.00</td>\n",
       "      <td>0.023861</td>\n",
       "      <td>0.027188</td>\n",
       "      <td>0.005340</td>\n",
       "      <td>0.004979</td>\n",
       "      <td></td>\n",
       "    </tr>\n",
       "    <tr>\n",
       "      <th>4</th>\n",
       "      <td>0.565338</td>\n",
       "      <td>8.986188e-10</td>\n",
       "      <td>0.263186</td>\n",
       "      <td>5.653381e-01</td>\n",
       "      <td>0.232280</td>\n",
       "      <td></td>\n",
       "      <td>0.68</td>\n",
       "      <td>0.00</td>\n",
       "      <td>0.042456</td>\n",
       "      <td>0.044135</td>\n",
       "      <td>0.006336</td>\n",
       "      <td>0.007317</td>\n",
       "      <td></td>\n",
       "    </tr>\n",
       "    <tr>\n",
       "      <th>...</th>\n",
       "      <td>...</td>\n",
       "      <td>...</td>\n",
       "      <td>...</td>\n",
       "      <td>...</td>\n",
       "      <td>...</td>\n",
       "      <td>...</td>\n",
       "      <td>...</td>\n",
       "      <td>...</td>\n",
       "      <td>...</td>\n",
       "      <td>...</td>\n",
       "      <td>...</td>\n",
       "      <td>...</td>\n",
       "      <td>...</td>\n",
       "    </tr>\n",
       "    <tr>\n",
       "      <th>139</th>\n",
       "      <td>0.693343</td>\n",
       "      <td>1.113714e-29</td>\n",
       "      <td>0.581055</td>\n",
       "      <td>6.015304e-232</td>\n",
       "      <td>0.693343</td>\n",
       "      <td></td>\n",
       "      <td>0.00</td>\n",
       "      <td>0.00</td>\n",
       "      <td>0.173610</td>\n",
       "      <td>0.126557</td>\n",
       "      <td>0.017148</td>\n",
       "      <td>0.012015</td>\n",
       "      <td></td>\n",
       "    </tr>\n",
       "    <tr>\n",
       "      <th>140</th>\n",
       "      <td>0.788440</td>\n",
       "      <td>1.390011e-31</td>\n",
       "      <td>0.788440</td>\n",
       "      <td>6.374398e-221</td>\n",
       "      <td>0.601401</td>\n",
       "      <td></td>\n",
       "      <td>0.00</td>\n",
       "      <td>0.00</td>\n",
       "      <td>0.090114</td>\n",
       "      <td>0.087877</td>\n",
       "      <td>0.009337</td>\n",
       "      <td>0.009054</td>\n",
       "      <td></td>\n",
       "    </tr>\n",
       "    <tr>\n",
       "      <th>141</th>\n",
       "      <td>0.734262</td>\n",
       "      <td>3.525310e-53</td>\n",
       "      <td>0.418877</td>\n",
       "      <td>1.747853e-227</td>\n",
       "      <td>0.734262</td>\n",
       "      <td></td>\n",
       "      <td>0.00</td>\n",
       "      <td>0.00</td>\n",
       "      <td>0.304128</td>\n",
       "      <td>0.369769</td>\n",
       "      <td>0.019070</td>\n",
       "      <td>0.027713</td>\n",
       "      <td>causal</td>\n",
       "    </tr>\n",
       "    <tr>\n",
       "      <th>142</th>\n",
       "      <td>0.951677</td>\n",
       "      <td>9.990723e-51</td>\n",
       "      <td>0.051987</td>\n",
       "      <td>5.086993e-241</td>\n",
       "      <td>0.951677</td>\n",
       "      <td></td>\n",
       "      <td>0.00</td>\n",
       "      <td>0.00</td>\n",
       "      <td>0.543465</td>\n",
       "      <td>0.152095</td>\n",
       "      <td>0.038569</td>\n",
       "      <td>0.014028</td>\n",
       "      <td></td>\n",
       "    </tr>\n",
       "    <tr>\n",
       "      <th>143</th>\n",
       "      <td>0.963901</td>\n",
       "      <td>2.315531e-273</td>\n",
       "      <td>0.963901</td>\n",
       "      <td>1.681839e-111</td>\n",
       "      <td>0.504130</td>\n",
       "      <td></td>\n",
       "      <td>0.00</td>\n",
       "      <td>0.00</td>\n",
       "      <td>2.505283</td>\n",
       "      <td>2.200767</td>\n",
       "      <td>0.095988</td>\n",
       "      <td>0.074143</td>\n",
       "      <td></td>\n",
       "    </tr>\n",
       "  </tbody>\n",
       "</table>\n",
       "<p>144 rows × 13 columns</p>\n",
       "</div>"
      ],
      "text/plain": [
       "        p_cit           p_TL      p_TG           p_GL    p_Lind p_res     1  \\\n",
       "0    0.888602   2.376205e-01  0.123425   1.578694e-01  0.888602        0.29   \n",
       "1    0.975658   1.675535e-01  0.975658   3.525273e-01  0.554671        0.32   \n",
       "2    0.757469   2.987484e-03  0.536714   6.181744e-02  0.757469        0.19   \n",
       "3    0.545883   2.802686e-06  0.016400   5.458832e-01  0.121506        0.12   \n",
       "4    0.565338   8.986188e-10  0.263186   5.653381e-01  0.232280        0.68   \n",
       "..        ...            ...       ...            ...       ...   ...   ...   \n",
       "139  0.693343   1.113714e-29  0.581055  6.015304e-232  0.693343        0.00   \n",
       "140  0.788440   1.390011e-31  0.788440  6.374398e-221  0.601401        0.00   \n",
       "141  0.734262   3.525310e-53  0.418877  1.747853e-227  0.734262        0.00   \n",
       "142  0.951677   9.990723e-51  0.051987  5.086993e-241  0.951677        0.00   \n",
       "143  0.963901  2.315531e-273  0.963901  1.681839e-111  0.504130        0.00   \n",
       "\n",
       "        2         3         4         5         6 results  \n",
       "0    0.33  0.010593  0.006457  0.002943  0.002235          \n",
       "1    0.26  0.010282  0.017881  0.003161  0.004447          \n",
       "2    0.00  0.013366  0.019570  0.003318  0.004757          \n",
       "3    0.00  0.023861  0.027188  0.005340  0.004979          \n",
       "4    0.00  0.042456  0.044135  0.006336  0.007317          \n",
       "..    ...       ...       ...       ...       ...     ...  \n",
       "139  0.00  0.173610  0.126557  0.017148  0.012015          \n",
       "140  0.00  0.090114  0.087877  0.009337  0.009054          \n",
       "141  0.00  0.304128  0.369769  0.019070  0.027713  causal  \n",
       "142  0.00  0.543465  0.152095  0.038569  0.014028          \n",
       "143  0.00  2.505283  2.200767  0.095988  0.074143          \n",
       "\n",
       "[144 rows x 13 columns]"
      ]
     },
     "execution_count": 271,
     "metadata": {},
     "output_type": "execute_result"
    }
   ],
   "source": [
    "citDl"
   ]
  },
  {
   "cell_type": "code",
   "execution_count": 272,
   "metadata": {},
   "outputs": [],
   "source": [
    "citDl.insert(0,'parameters',dataset_names)"
   ]
  },
  {
   "cell_type": "code",
   "execution_count": 273,
   "metadata": {},
   "outputs": [],
   "source": [
    "citDl.to_csv(\"CompareResultswithCITLinearNewPermutemethodIndp.csv\",index=False)"
   ]
  },
  {
   "cell_type": "code",
   "execution_count": 161,
   "metadata": {},
   "outputs": [
    {
     "name": "stdout",
     "output_type": "stream",
     "text": [
      "mean 0.046874482\n",
      "std 0.006536718\n"
     ]
    }
   ],
   "source": [
    "print(\"mean\",np.mean(loss_list_Bresidual))\n",
    "print(\"std\",np.std(loss_list_Bresidual))"
   ]
  },
  {
   "cell_type": "code",
   "execution_count": 158,
   "metadata": {},
   "outputs": [
    {
     "data": {
      "text/plain": [
       "0.0"
      ]
     },
     "execution_count": 158,
     "metadata": {},
     "output_type": "execute_result"
    }
   ],
   "source": [
    "LB_p"
   ]
  },
  {
   "cell_type": "code",
   "execution_count": 108,
   "metadata": {},
   "outputs": [],
   "source": [
    " true_LBresidual=calculate_difference(L,A,B)"
   ]
  },
  {
   "cell_type": "code",
   "execution_count": 15,
   "metadata": {},
   "outputs": [],
   "source": [
    "LA_p=calculate_pvalue(true_LA,loss_list_LA)\n",
    "LB_p=calculate_pvalue(true_LB,loss_list_LB)\n",
    "AB_p=calculate_pvalue(true_LBresidual,loss_list_Bresidual)"
   ]
  },
  {
   "cell_type": "code",
   "execution_count": 95,
   "metadata": {},
   "outputs": [
    {
     "data": {
      "text/plain": [
       "0.0"
      ]
     },
     "execution_count": 95,
     "metadata": {},
     "output_type": "execute_result"
    }
   ],
   "source": [
    "AB_p"
   ]
  },
  {
   "cell_type": "code",
   "execution_count": 109,
   "metadata": {},
   "outputs": [
    {
     "data": {
      "text/plain": [
       "-0.40113497"
      ]
     },
     "execution_count": 109,
     "metadata": {},
     "output_type": "execute_result"
    }
   ],
   "source": [
    "true_LBresidual"
   ]
  },
  {
   "cell_type": "code",
   "execution_count": 139,
   "metadata": {},
   "outputs": [],
   "source": [
    "#loss_list_Bresidual"
   ]
  },
  {
   "cell_type": "code",
   "execution_count": 138,
   "metadata": {},
   "outputs": [],
   "source": [
    "#[i < true_LBresidual for i in loss_list_Bresidual]"
   ]
  },
  {
   "cell_type": "code",
   "execution_count": 246,
   "metadata": {},
   "outputs": [
    {
     "data": {
      "text/plain": [
       "Text(0, 0.5, 'B')"
      ]
     },
     "execution_count": 246,
     "metadata": {},
     "output_type": "execute_result"
    },
    {
     "data": {
      "image/png": "[encoded data removed]",
      "text/plain": [
       "<Figure size 432x288 with 1 Axes>"
      ]
     },
     "metadata": {
      "needs_background": "light"
     },
     "output_type": "display_data"
    }
   ],
   "source": [
    "plt.scatter(A,B)\n",
    "plt.xlabel(\"A\")\n",
    "plt.ylabel(\"B\")"
   ]
  },
  {
   "cell_type": "code",
   "execution_count": 127,
   "metadata": {},
   "outputs": [
    {
     "data": {
      "text/plain": [
       "<matplotlib.collections.PathCollection at 0x7f9495daebb0>"
      ]
     },
     "execution_count": 127,
     "metadata": {},
     "output_type": "execute_result"
    },
    {
     "data": {
      "image/png": "[encoded data removed]",
      "text/plain": [
       "<Figure size 432x288 with 1 Axes>"
      ]
     },
     "metadata": {
      "needs_background": "light"
     },
     "output_type": "display_data"
    }
   ],
   "source": [
    "plt.scatter(A,B)"
   ]
  },
  {
   "cell_type": "code",
   "execution_count": 346,
   "metadata": {},
   "outputs": [
    {
     "name": "stdout",
     "output_type": "stream",
     "text": [
      "0.0\n",
      "0.0\n",
      "0.32\n"
     ]
    }
   ],
   "source": [
    "#print(dataset_names[120])\n",
    "print(LA_p)\n",
    "print(LB_p)\n",
    "print(AB_p)"
   ]
  },
  {
   "cell_type": "code",
   "execution_count": 19,
   "metadata": {},
   "outputs": [
    {
     "data": {
      "text/plain": [
       "1000"
      ]
     },
     "execution_count": 19,
     "metadata": {},
     "output_type": "execute_result"
    }
   ],
   "source": [
    "len(A)"
   ]
  },
  {
   "cell_type": "code",
   "execution_count": null,
   "metadata": {
    "scrolled": true
   },
   "outputs": [],
   "source": [
    "loss_list_LB"
   ]
  },
  {
   "cell_type": "code",
   "execution_count": null,
   "metadata": {},
   "outputs": [],
   "source": [
    "true_LB"
   ]
  },
  {
   "cell_type": "code",
   "execution_count": 83,
   "metadata": {},
   "outputs": [
    {
     "data": {
      "text/plain": [
       "<matplotlib.collections.PathCollection at 0x7f618bae7970>"
      ]
     },
     "execution_count": 83,
     "metadata": {},
     "output_type": "execute_result"
    },
    {
     "data": {
      "image/png": "[encoded data removed]",
      "text/plain": [
       "<Figure size 432x288 with 1 Axes>"
      ]
     },
     "metadata": {
      "needs_background": "light"
     },
     "output_type": "display_data"
    }
   ],
   "source": [
    "plt.scatter(A,B)"
   ]
  },
  {
   "cell_type": "code",
   "execution_count": 653,
   "metadata": {},
   "outputs": [],
   "source": [
    "loss_list=[]"
   ]
  },
  {
   "cell_type": "code",
   "execution_count": 347,
   "metadata": {},
   "outputs": [],
   "source": [
    "#function to calculate the original LA->B and then shuffle L and calculate the loss, we are retraining the model \n",
    "#at every shuffle here\n",
    "def calculateLshuffle(L,A,B,shuffle):\n",
    "    loss_list=[]\n",
    "    opt = tf.optimizers.SGD(1e-3)\n",
    "    mdn_PQ = MDN_module()\n",
    "    mdn_PQ.compile(loss=gnll_loss, optimizer=opt)\n",
    "    withoutL=mdn_PQ.fit(x=np.concatenate([L.reshape(-1,1),A.reshape(-1,1)],axis=1), y=B.T,epochs=100,  batch_size=32,verbose=0)\n",
    "    y_pred = mdn_PQ.predict(np.concatenate([L.reshape(-1,1),A.reshape(-1,1)],axis=1))\n",
    "    alpha,mu,sigma = slice_parameter_vectors(y_pred)\n",
    "    gm = tfd.MixtureSameFamily(\n",
    "    mixture_distribution=tfd.Categorical(probs=alpha),\n",
    "    components_distribution=tfd.Normal(\n",
    "    loc=mu,       \n",
    "    scale=sigma))\n",
    "    log_likelihood = gm.log_prob(B).numpy()\n",
    "    orig_loss= -tf.reduce_mean(log_likelihood, axis=-1).numpy()\n",
    "    for i in range(shuffle):\n",
    "        L_shuffle=np.random.permutation(L)\n",
    "        opt = tf.optimizers.SGD(1e-3)\n",
    "        mdn_PQ = MDN_module()\n",
    "        mdn_PQ.compile(loss=gnll_loss, optimizer=opt)\n",
    "        withoutL=mdn_PQ.fit(x=np.concatenate([L_shuffle.reshape(-1,1),A.reshape(-1,1)],axis=1), y=B.T,epochs=100,  batch_size=32,verbose=0)\n",
    "        y_pred = mdn_PQ.predict(np.concatenate([L_shuffle.reshape(-1,1),A.reshape(-1,1)],axis=1))\n",
    "        alpha,mu,sigma = slice_parameter_vectors(y_pred)\n",
    "        gm = tfd.MixtureSameFamily(\n",
    "        mixture_distribution=tfd.Categorical(probs=alpha),\n",
    "        components_distribution=tfd.Normal(\n",
    "        loc=mu,       \n",
    "        scale=sigma))\n",
    "        log_likelihood = gm.log_prob(B).numpy()\n",
    "        loss= -tf.reduce_mean(log_likelihood, axis=-1).numpy()\n",
    "        loss_list.append(loss)\n",
    "    \n",
    "    return loss_list,loss\n",
    "\n",
    "    "
   ]
  },
  {
   "cell_type": "code",
   "execution_count": 286,
   "metadata": {},
   "outputs": [],
   "source": [
    "L_shuffle=np.random.permutation(L)"
   ]
  },
  {
   "cell_type": "code",
   "execution_count": 407,
   "metadata": {},
   "outputs": [],
   "source": [
    "i=120\n",
    "#A=np.array(dataset_linear[i][1])\n",
    "#B=np.array(dataset_linear[i][2])\n",
    "#L=np.array(dataset_linear[i][0])\n",
    "opt = tf.optimizers.SGD(1e-3)\n",
    "mdn_PQ = MDN_module()\n",
    "mdn_PQ.compile(loss=gnll_loss, optimizer=opt)\n",
    "withoutL=mdn_PQ.fit(x=np.concatenate([L.reshape(-1,1),A.reshape(-1,1)],axis=1), y=B.T,epochs=200,  batch_size=32,verbose=0)\n",
    "y_pred = mdn_PQ.predict(np.concatenate([L.reshape(-1,1),A.reshape(-1,1)],axis=1))\n"
   ]
  },
  {
   "cell_type": "code",
   "execution_count": null,
   "metadata": {},
   "outputs": [],
   "source": [
    "opt = tf.optimizers.SGD(1e-3)\n",
    "mdn_PQ = MDN_module()\n",
    "mdn_PQ.compile(loss=gnll_loss, optimizer=opt)\n",
    "withoutL=mdn_PQ.fit(x=np.concatenate([L.reshape(-1,1),A.reshape(-1,1)],axis=1), y=B.T,epochs=200,  batch_size=32,verbose=0)\n",
    "y_pred = mdn_PQ.predict(np.concatenate([L.reshape(-1,1),A.reshape(-1,1)],axis=1))"
   ]
  },
  {
   "cell_type": "code",
   "execution_count": 339,
   "metadata": {},
   "outputs": [
    {
     "data": {
      "text/plain": [
       "<matplotlib.collections.PathCollection at 0x7f618805a2b0>"
      ]
     },
     "execution_count": 339,
     "metadata": {},
     "output_type": "execute_result"
    },
    {
     "data": {
      "image/png": "[encoded data removed]",
      "text/plain": [
       "<Figure size 432x288 with 1 Axes>"
      ]
     },
     "metadata": {
      "needs_background": "light"
     },
     "output_type": "display_data"
    }
   ],
   "source": [
    "plt.scatter(A,B)\n",
    "plt.scatter(A,y_pred[:,1])"
   ]
  },
  {
   "cell_type": "code",
   "execution_count": 414,
   "metadata": {},
   "outputs": [],
   "source": [
    "a=mdn_PQ.layers[2].get_weights()"
   ]
  },
  {
   "cell_type": "code",
   "execution_count": 416,
   "metadata": {},
   "outputs": [],
   "source": [
    "opt = tf.optimizers.SGD(1e-3)\n",
    "mdn_PR = MDN_module()\n",
    "mdn_PR.compile(loss=gnll_loss, optimizer=opt)\n",
    "withoutL=mdn_PR.fit(x=np.concatenate([L.reshape(-1,1),A.reshape(-1,1)],axis=1), y=B.T,epochs=1,  batch_size=32,verbose=0)\n",
    "y_pred = mdn_PR.predict(np.concatenate([L.reshape(-1,1),A.reshape(-1,1)],axis=1))\n"
   ]
  },
  {
   "cell_type": "code",
   "execution_count": 417,
   "metadata": {},
   "outputs": [],
   "source": [
    "mdn_PR.layers[2].set_weights(a)  "
   ]
  },
  {
   "cell_type": "code",
   "execution_count": 410,
   "metadata": {},
   "outputs": [],
   "source": [
    "mdn_PR = MDN_module()\n",
    "mdn_PR.compile(loss=gnll_loss, optimizer=opt)"
   ]
  },
  {
   "cell_type": "code",
   "execution_count": 411,
   "metadata": {},
   "outputs": [
    {
     "data": {
      "text/plain": [
       "[]"
      ]
     },
     "execution_count": 411,
     "metadata": {},
     "output_type": "execute_result"
    }
   ],
   "source": [
    "mdn_PR.layers[0].get_weights()"
   ]
  },
  {
   "cell_type": "code",
   "execution_count": null,
   "metadata": {},
   "outputs": [],
   "source": [
    "opt = tf.optimizers.SGD(1e-3)\n",
    "mdn_PQ = MDN_module()\n",
    "mdn_PQ.compile(loss=gnll_loss, optimizer=opt)\n",
    "withoutL=mdn_PQ.fit(x=np.concatenate([L_shuffle.reshape(-1,1),A.reshape(-1,1)],axis=1), y=B.T,epochs=300,  batch_size=32,verbose=0)\n",
    "y_pred = mdn_PQ.predict(np.concatenate([L_shuffle.reshape(-1,1),A.reshape(-1,1)],axis=1))"
   ]
  },
  {
   "cell_type": "code",
   "execution_count": 405,
   "metadata": {},
   "outputs": [],
   "source": [
    "alpha,mu,sigma = slice_parameter_vectors(y_pred)\n",
    "gm = tfd.MixtureSameFamily(\n",
    "        mixture_distribution=tfd.Categorical(probs=alpha),\n",
    "        components_distribution=tfd.Normal(\n",
    "            loc=mu,       \n",
    "            scale=sigma))\n",
    "log_likelihood = gm.log_prob(B).numpy()\n",
    "loss= -tf.reduce_mean(log_likelihood, axis=-1).numpy()"
   ]
  },
  {
   "cell_type": "code",
   "execution_count": 406,
   "metadata": {},
   "outputs": [
    {
     "data": {
      "text/plain": [
       "1.4185739"
      ]
     },
     "execution_count": 406,
     "metadata": {},
     "output_type": "execute_result"
    }
   ],
   "source": [
    "loss"
   ]
  },
  {
   "cell_type": "code",
   "execution_count": 397,
   "metadata": {},
   "outputs": [],
   "source": [
    "#shuffling L\n",
    "L_shuffle=np.random.permutation(L)"
   ]
  },
  {
   "cell_type": "code",
   "execution_count": 398,
   "metadata": {},
   "outputs": [],
   "source": [
    "opt = tf.optimizers.SGD(1e-3)\n",
    "mdn_PQ = MDN_module()\n",
    "mdn_PQ.compile(loss=gnll_loss, optimizer=opt)\n",
    "withoutL=mdn_PQ.fit(x=np.concatenate([L_shuffle.reshape(-1,1),A.reshape(-1,1)],axis=1), y=B.T,epochs=300,  batch_size=32,verbose=0)\n",
    "y_pred = mdn_PQ.predict(np.concatenate([L_shuffle.reshape(-1,1),A.reshape(-1,1)],axis=1))"
   ]
  },
  {
   "cell_type": "code",
   "execution_count": 399,
   "metadata": {},
   "outputs": [],
   "source": [
    "#without training further , shuffle the L and see the loss \n",
    "y_pred = mdn_PQ.predict(np.concatenate([L_shuffle.reshape(-1,1),A.reshape(-1,1)],axis=1))\n",
    "alpha,mu,sigma = slice_parameter_vectors(y_pred)\n",
    "gm = tfd.MixtureSameFamily(\n",
    "        mixture_distribution=tfd.Categorical(probs=alpha),\n",
    "        components_distribution=tfd.Normal(\n",
    "            loc=mu,       \n",
    "            scale=sigma))\n",
    "log_likelihood = gm.log_prob(B).numpy()\n",
    "loss_shuffle= -tf.reduce_mean(log_likelihood, axis=-1).numpy()"
   ]
  },
  {
   "cell_type": "code",
   "execution_count": 400,
   "metadata": {},
   "outputs": [
    {
     "data": {
      "text/plain": [
       "1.4311963"
      ]
     },
     "execution_count": 400,
     "metadata": {},
     "output_type": "execute_result"
    }
   ],
   "source": [
    "loss_shuffle"
   ]
  },
  {
   "cell_type": "code",
   "execution_count": 92,
   "metadata": {},
   "outputs": [
    {
     "data": {
      "text/plain": [
       "0.021154284"
      ]
     },
     "execution_count": 92,
     "metadata": {},
     "output_type": "execute_result"
    }
   ],
   "source": [
    "loss_shuffle-loss"
   ]
  },
  {
   "cell_type": "code",
   "execution_count": 673,
   "metadata": {},
   "outputs": [],
   "source": [
    "loss_list.append(loss)"
   ]
  },
  {
   "cell_type": "code",
   "execution_count": 674,
   "metadata": {},
   "outputs": [
    {
     "data": {
      "text/plain": [
       "[1.4465802, 1.6396699, 2.3458784, 1.464259, 1.7626014]"
      ]
     },
     "execution_count": 674,
     "metadata": {},
     "output_type": "execute_result"
    }
   ],
   "source": [
    "loss_list"
   ]
  },
  {
   "cell_type": "code",
   "execution_count": 652,
   "metadata": {},
   "outputs": [
    {
     "data": {
      "text/plain": [
       "2.6901934"
      ]
     },
     "execution_count": 652,
     "metadata": {},
     "output_type": "execute_result"
    }
   ],
   "source": [
    "loss"
   ]
  },
  {
   "cell_type": "code",
   "execution_count": 676,
   "metadata": {},
   "outputs": [
    {
     "data": {
      "text/plain": [
       "1.7317978"
      ]
     },
     "execution_count": 676,
     "metadata": {},
     "output_type": "execute_result"
    }
   ],
   "source": [
    "np.average(loss_list)"
   ]
  },
  {
   "cell_type": "code",
   "execution_count": 640,
   "metadata": {},
   "outputs": [
    {
     "data": {
      "text/plain": [
       "Text(0.5, 1.0, 'Original data with added information of L')"
      ]
     },
     "execution_count": 640,
     "metadata": {},
     "output_type": "execute_result"
    },
    {
     "data": {
      "image/png": "[encoded data removed]",
      "text/plain": [
       "<Figure size 432x288 with 1 Axes>"
      ]
     },
     "metadata": {
      "needs_background": "light"
     },
     "output_type": "display_data"
    }
   ],
   "source": [
    "plt.scatter(A,B)\n",
    "plt.scatter(A,y_pred[:,1])\n",
    "plt.xlabel(\"A\")\n",
    "plt.ylabel(\"B\")\n",
    "plt.title(\"Original data with added information of L\")"
   ]
  },
  {
   "cell_type": "code",
   "execution_count": 64,
   "metadata": {},
   "outputs": [],
   "source": [
    "L = np.random.binomial(1,0.5,1000)  \n",
    "eps0 = np.random.normal(0,0.1,1000)\n",
    "eps1 = np.random.normal(0,0.1,1000)\n",
    "A = 1*L + eps0\n",
    "#B=beta2+beta3*np.sin(A)+eps1\n",
    "B =1*A + eps1 "
   ]
  },
  {
   "cell_type": "code",
   "execution_count": 422,
   "metadata": {},
   "outputs": [
    {
     "data": {
      "text/plain": [
       "1000"
      ]
     },
     "execution_count": 422,
     "metadata": {},
     "output_type": "execute_result"
    }
   ],
   "source": [
    "len(A)"
   ]
  },
  {
   "cell_type": "code",
   "execution_count": 677,
   "metadata": {},
   "outputs": [],
   "source": [
    "loss_list_temp=[]"
   ]
  },
  {
   "cell_type": "code",
   "execution_count": 371,
   "metadata": {},
   "outputs": [],
   "source": [
    "i=39\n",
    "#A=np.array(dataset_linear[i][1])\n",
    "#B=np.array(dataset_linear[i][2])\n",
    "#L=np.array(dataset_linear[i][0])\n",
    "opt = tf.optimizers.SGD(1e-3)\n",
    "mdn_PQ = MDN_module()\n",
    "\n",
    "mdn_PQ.compile(loss=gnll_loss, optimizer=opt)\n",
    "withoutL=mdn_PQ.fit(x=reshapevar(A), y=B.T,epochs=200,batch_size=32,verbose=0)\n",
    "y_pred_withoutL = mdn_PQ.predict(reshapevar(A))\n"
   ]
  },
  {
   "cell_type": "code",
   "execution_count": 425,
   "metadata": {},
   "outputs": [
    {
     "data": {
      "text/plain": [
       "[array([[-0.02163124],\n",
       "        [-0.39724353],\n",
       "        [-0.3218584 ],\n",
       "        [-0.25963864],\n",
       "        [ 0.56658536],\n",
       "        [ 0.29784387],\n",
       "        [ 0.04119974],\n",
       "        [-0.13564497],\n",
       "        [-0.24786893],\n",
       "        [ 0.00920302],\n",
       "        [-0.01483601],\n",
       "        [-0.12357274],\n",
       "        [-0.5269737 ],\n",
       "        [ 0.3659069 ],\n",
       "        [-0.6105546 ]], dtype=float32),\n",
       " array([0.], dtype=float32)]"
      ]
     },
     "execution_count": 425,
     "metadata": {},
     "output_type": "execute_result"
    }
   ],
   "source": [
    "mdn_PQ.layers[2].get_weights()"
   ]
  },
  {
   "cell_type": "code",
   "execution_count": 372,
   "metadata": {},
   "outputs": [],
   "source": [
    "alpha,mu,sigma = slice_parameter_vectors(y_pred_withoutL)\n",
    "gm = tfd.MixtureSameFamily(\n",
    "        mixture_distribution=tfd.Categorical(probs=alpha),\n",
    "        components_distribution=tfd.Normal(\n",
    "            loc=mu,       \n",
    "            scale=sigma))\n",
    "log_likelihood = gm.log_prob(B).numpy()\n",
    "loss= -tf.reduce_mean(log_likelihood, axis=-1).numpy()"
   ]
  },
  {
   "cell_type": "code",
   "execution_count": 373,
   "metadata": {},
   "outputs": [
    {
     "data": {
      "text/plain": [
       "1.4210978"
      ]
     },
     "execution_count": 373,
     "metadata": {},
     "output_type": "execute_result"
    }
   ],
   "source": [
    "loss"
   ]
  },
  {
   "cell_type": "code",
   "execution_count": 701,
   "metadata": {},
   "outputs": [],
   "source": [
    "loss_list_temp.append(loss)"
   ]
  },
  {
   "cell_type": "code",
   "execution_count": 702,
   "metadata": {},
   "outputs": [
    {
     "data": {
      "text/plain": [
       "[1.4800247, 1.6861252, 3.7701688, 1.5741543, 1.5206839]"
      ]
     },
     "execution_count": 702,
     "metadata": {},
     "output_type": "execute_result"
    }
   ],
   "source": [
    "loss_list_temp"
   ]
  },
  {
   "cell_type": "code",
   "execution_count": 703,
   "metadata": {},
   "outputs": [
    {
     "data": {
      "text/plain": [
       "2.0062313"
      ]
     },
     "execution_count": 703,
     "metadata": {},
     "output_type": "execute_result"
    }
   ],
   "source": [
    "np.average(loss_list_temp)"
   ]
  },
  {
   "cell_type": "code",
   "execution_count": 632,
   "metadata": {},
   "outputs": [
    {
     "data": {
      "text/plain": [
       "Text(0.5, 1.0, 'Original data without the added information L')"
      ]
     },
     "execution_count": 632,
     "metadata": {},
     "output_type": "execute_result"
    },
    {
     "data": {
      "image/png": "[encoded data removed]",
      "text/plain": [
       "<Figure size 432x288 with 1 Axes>"
      ]
     },
     "metadata": {
      "needs_background": "light"
     },
     "output_type": "display_data"
    }
   ],
   "source": [
    "plt.scatter(A,B)\n",
    "plt.scatter(A,y_pred_withoutL[:,1])\n",
    "plt.xlabel(\"A\")\n",
    "plt.ylabel(\"B\")\n",
    "plt.title(\"Original data without the added information L\")\n"
   ]
  },
  {
   "cell_type": "code",
   "execution_count": 93,
   "metadata": {},
   "outputs": [],
   "source": [
    "indices_1 = [i for i, x in enumerate(L) if x == 1]\n",
    "#changed x=0 to x=-1\n",
    "indices_0 = [i for i, x in enumerate(L) if x == 0]\n",
    "B_dist_temp=np.zeros(len(B))\n",
    "mod_indices_1=random.sample(indices_1,len(indices_1))\n",
    "for i in range(len(indices_1)):\n",
    "    B_dist_temp[indices_1[i]]=B[mod_indices_1[i]]\n",
    "\n",
    "mod_indices_0=random.sample(indices_0,len(indices_0))\n",
    "for i in range(len(indices_0)):\n",
    "    B_dist_temp[indices_0[i]]=B[mod_indices_0[i]]"
   ]
  },
  {
   "cell_type": "code",
   "execution_count": 94,
   "metadata": {},
   "outputs": [
    {
     "data": {
      "text/plain": [
       "array([-5.13234975e-01, -7.37097131e-01,  4.62707283e-02,  1.42566620e+00,\n",
       "        1.89136450e+00, -1.56220677e+00, -1.32671738e+00, -8.04390702e-01,\n",
       "        1.38214912e+00,  2.80759028e-01,  1.58006267e+00, -2.39061574e-01,\n",
       "        1.01636754e-01,  1.12028522e+00,  8.16960156e-01,  3.16973560e-01,\n",
       "        1.85078831e+00, -3.04449669e-01,  4.93109711e-01, -1.27928489e+00,\n",
       "       -4.85793657e-01,  1.15884797e+00, -5.21339189e-01,  5.15972905e-01,\n",
       "        9.42435079e-01,  2.95879036e-01, -9.72378727e-01, -6.81481149e-01,\n",
       "        1.38723559e-02, -2.24347484e+00, -4.16342434e-01,  1.20513723e+00,\n",
       "        4.08133482e-01, -1.10476072e+00,  1.35358128e+00,  4.02983371e-01,\n",
       "       -1.31382769e+00, -4.76770803e-01, -8.66882176e-01, -8.98322616e-01,\n",
       "       -2.02790785e+00,  1.21212694e-02,  9.11098363e-02, -6.65114820e-01,\n",
       "        4.20181703e-01, -1.44545114e+00,  6.94201030e-01, -1.57366347e+00,\n",
       "        5.79661668e-01,  6.19398097e-01,  1.18558296e+00,  1.56253319e+00,\n",
       "       -1.80871876e+00,  5.31495186e-01,  3.38387296e-01,  2.77752381e-01,\n",
       "        1.17871484e+00,  1.21799861e+00,  1.40427502e+00, -9.46767463e-01,\n",
       "        5.43170267e-01,  1.61474007e-01, -1.50549104e+00,  6.13156533e-01,\n",
       "       -2.23921190e-01, -5.21800072e-01,  3.57893728e-01, -3.19060263e-01,\n",
       "       -4.22744175e-01,  1.41604948e-01,  1.32082096e+00, -3.25370374e+00,\n",
       "        6.63387798e-01, -4.83971893e-01, -8.46617718e-01, -7.87977910e-02,\n",
       "       -5.15186504e-01, -1.15194634e-01,  8.54982742e-01, -2.85626767e-01,\n",
       "        1.70176606e+00,  2.08052438e+00, -1.92753939e+00,  3.22121545e-01,\n",
       "        2.00095685e-01,  2.14388039e-01,  9.68798397e-01, -4.49959909e-01,\n",
       "       -6.95161716e-01,  1.05849178e+00, -8.78799284e-01, -1.00844920e+00,\n",
       "        9.48010851e-01,  1.18621922e+00,  1.96639925e+00,  6.76219547e-01,\n",
       "        1.76694056e+00,  4.52827408e-01,  4.85350193e-01, -6.30118320e-01,\n",
       "        4.81406854e-01, -2.30378997e-01, -2.89981405e-01, -9.48840043e-01,\n",
       "        8.12258149e-01, -7.96794059e-01, -6.33871485e-01,  3.47107312e-01,\n",
       "        5.55155771e-01, -8.31116626e-01, -9.76334514e-02,  1.27184388e+00,\n",
       "        5.78802372e-01, -1.58005428e+00,  5.04167144e-01, -9.07646279e-01,\n",
       "       -1.12124620e+00,  1.71050250e-01,  5.44313011e-01,  9.19731458e-01,\n",
       "        8.95698153e-01,  2.61810259e-01, -4.63705586e-01,  9.88739763e-01,\n",
       "        2.43602662e-01, -1.02812758e+00,  6.52624347e-02, -1.53385498e-02,\n",
       "        2.05795526e-01,  1.72765968e+00,  1.87756176e+00, -5.94328544e-01,\n",
       "       -1.12644615e+00, -4.25891905e-01, -6.90692805e-02, -5.05691701e-01,\n",
       "       -1.03025729e+00,  9.62739476e-01,  5.77775066e-01, -1.45296842e-01,\n",
       "       -2.15068847e+00,  5.58679505e-01,  2.79250765e-01,  3.08261631e-01,\n",
       "       -5.62986288e-01,  4.41849399e-01,  1.27935336e+00,  9.39390156e-01,\n",
       "       -2.04093927e-01,  1.74675916e-01,  1.67600571e+00,  1.66977434e+00,\n",
       "       -5.96235068e-01,  4.32287413e-01,  4.40251854e-02, -3.75817702e-01,\n",
       "       -1.41374387e+00, -4.86124920e-01,  1.13399989e+00, -4.20341479e-01,\n",
       "       -1.02041283e+00, -6.85359243e-01, -6.05116745e-01, -7.96719725e-01,\n",
       "        1.05934876e+00, -4.58175811e-02,  2.02051510e+00,  1.20003755e+00,\n",
       "        6.72856377e-01, -3.07957539e-01, -1.16946385e+00,  2.43593106e-01,\n",
       "       -7.30576957e-01, -3.09261651e-01, -7.22167373e-01,  2.82714880e-01,\n",
       "       -1.08762529e+00,  7.31100252e-01,  8.19500307e-01, -1.15541931e-01,\n",
       "       -1.89928039e+00,  9.67588683e-02, -4.45940119e-01, -1.51790588e+00,\n",
       "        1.81570065e-01,  1.86511312e-02, -1.29495305e+00,  9.30116694e-01,\n",
       "       -7.99376733e-01,  1.12159834e+00, -8.89566570e-01, -1.50209718e+00,\n",
       "        7.19239221e-01,  1.46515562e+00,  3.03716314e-01, -4.29304737e-01,\n",
       "        5.71492010e-01, -3.38165013e-01,  1.67554068e+00,  4.65764918e-02,\n",
       "        7.26592664e-01, -9.24807499e-01,  5.21565551e-01,  2.93225012e+00,\n",
       "        1.73064755e+00,  4.43447812e-01,  1.77399989e+00,  3.45426403e+00,\n",
       "       -7.35807816e-01, -2.27976466e-01, -9.65242530e-02,  5.54820553e-01,\n",
       "        1.08055756e+00,  5.48598450e-01, -5.74958747e-01, -5.69768396e-01,\n",
       "       -1.41539119e+00, -5.67996879e-01, -4.55278767e-01, -1.16290257e+00,\n",
       "        7.38052017e-01, -1.13578887e+00, -1.50036913e-01, -1.74463267e+00,\n",
       "        5.35954869e-01, -2.38478507e-01, -9.14929901e-01,  8.79356340e-01,\n",
       "       -5.09472559e-01,  2.34942748e-01, -9.44444912e-01,  8.53077824e-01,\n",
       "       -9.03447479e-01, -2.25902017e-01,  1.19099426e+00, -8.07055936e-01,\n",
       "        2.03254612e-01, -2.58947104e-01,  1.71627191e+00, -9.80653702e-01,\n",
       "       -2.81724088e-01,  1.03509942e-01,  1.94219617e+00,  2.49487418e-01,\n",
       "       -1.16404149e+00,  1.62718594e+00,  4.06205407e-01,  1.17880121e+00,\n",
       "        3.58602814e-01, -8.98226259e-01, -1.48865019e-01, -2.73739016e-01,\n",
       "        5.44710333e-01, -1.89273219e-01, -1.75759430e+00,  2.50710356e-01,\n",
       "       -1.96975250e+00,  6.35884215e-01,  3.10398499e-01, -8.18103974e-01,\n",
       "        1.18845614e+00, -2.44532509e+00,  1.60614019e+00,  3.77402108e-01,\n",
       "       -2.18119326e+00, -7.88697433e-01, -5.20467258e-01, -4.70351493e-02,\n",
       "       -1.16791784e+00, -1.18514950e+00, -1.19623438e+00,  3.59804596e-01,\n",
       "        1.70473238e-01,  8.93854430e-01,  1.63837430e+00, -1.11625762e+00,\n",
       "       -7.22370232e-01, -8.79155538e-01,  7.26526545e-01, -1.30434644e+00,\n",
       "        3.66302238e-01,  1.06378876e-01, -6.76141504e-02, -3.30515225e-01,\n",
       "       -1.15932599e+00, -2.51931889e-01, -3.91712211e-01, -5.36145111e-01,\n",
       "        1.60306681e-01,  1.17076332e+00, -1.65245687e-01, -3.66478928e-01,\n",
       "        5.73340493e-01,  3.26974405e-01,  2.45101924e+00,  1.16499024e+00,\n",
       "        8.29932890e-01,  6.94966593e-01,  7.58226255e-01, -7.12368576e-01,\n",
       "       -5.71182099e-01, -1.41415493e+00, -3.00389696e+00,  1.02129212e+00,\n",
       "        3.90906273e-01, -1.06391806e+00,  1.74524138e-01, -1.84217173e+00,\n",
       "        3.87236398e-01, -6.95895050e-01, -1.04504362e+00,  8.94016695e-01,\n",
       "       -1.22864333e+00,  8.33212445e-01, -1.69147818e+00, -2.06666877e-01,\n",
       "       -2.99500766e-01, -6.37095161e-01, -1.25694766e+00,  5.21405590e-01,\n",
       "       -7.24120431e-01,  2.87887699e-01, -4.86265440e-01,  6.89614174e-01,\n",
       "       -6.97313740e-01, -2.08100298e+00, -1.42483275e-01, -4.55529595e-01,\n",
       "       -1.10607231e+00,  1.25463600e+00,  3.36313294e-01,  1.21429310e+00,\n",
       "        2.47601447e-01,  1.11336561e+00, -1.29986598e+00, -1.23175029e+00,\n",
       "       -2.11708102e+00, -1.53835267e+00,  2.29427356e-01, -3.71687642e-01,\n",
       "        1.12812114e+00,  1.99380566e-01, -1.23829084e+00,  1.10700986e+00,\n",
       "       -6.02910681e-01,  1.57562095e+00, -1.84534447e+00,  3.05700385e-01,\n",
       "       -1.21914405e-01, -1.77593127e-01, -1.27268165e+00, -4.49672467e-01,\n",
       "       -4.40615761e-01, -2.78096793e-01,  1.73664867e-01, -2.52412284e+00,\n",
       "        1.63817397e+00, -5.34914559e-02, -1.87030355e-01, -1.71453773e-01,\n",
       "       -8.33964677e-01, -2.98746013e-01, -3.43400979e+00,  6.34503884e-02,\n",
       "       -2.69594114e-01, -2.30288414e-01, -8.82609718e-01,  1.43350689e-01,\n",
       "       -7.52623273e-01,  1.21732726e+00, -7.13914450e-01, -8.26015098e-02,\n",
       "        9.07084425e-01,  3.35573420e-01,  5.02417312e-01,  1.73696255e-01,\n",
       "        1.14807364e+00,  4.14127713e-01, -7.84536699e-01,  8.22047201e-02,\n",
       "       -1.69141456e-01,  1.05878246e+00, -1.02903425e+00, -1.20632543e-01,\n",
       "        1.14632214e+00,  7.83906313e-03,  4.25027173e-01,  5.47977598e-01,\n",
       "        2.18723648e+00,  1.77095217e+00,  6.00267569e-02,  8.31676626e-01,\n",
       "       -5.53948881e-01, -4.30935127e-01, -3.49953652e-01, -1.93447152e+00,\n",
       "       -4.32450151e-01, -2.85955841e-01, -7.17780293e-01, -1.80937123e+00,\n",
       "       -5.42253207e-01,  1.50221763e+00,  3.43406010e-01, -9.01755383e-01,\n",
       "        1.00860947e-01, -1.34041403e-01,  1.63107812e+00,  1.09553986e+00,\n",
       "        1.54651303e+00, -4.15863756e-01,  6.43896616e-02,  3.95962698e-01,\n",
       "        1.55968577e+00,  1.02063116e+00, -5.93529418e-01, -3.91987730e-01,\n",
       "        7.35362365e-01, -2.76695452e-01,  2.15207320e+00, -6.76376298e-01,\n",
       "        1.69924840e+00,  3.25742582e-01, -9.65407403e-01,  1.08538596e+00,\n",
       "       -1.50322554e-01, -2.16105249e+00,  5.41373743e-01,  1.21926343e+00,\n",
       "        1.14176281e+00,  5.80537806e-01,  3.03085735e-01, -8.46480739e-01,\n",
       "       -4.92896932e-01, -1.38530992e+00, -8.54899656e-01, -1.32681891e+00,\n",
       "        4.17020083e-01,  4.50761510e-01,  3.68821860e-01,  7.39976411e-01,\n",
       "        1.08697495e+00,  7.08081744e-01,  9.53131059e-01,  5.68987380e-01,\n",
       "       -3.56547220e-01, -9.17042751e-01,  8.82067954e-01, -7.11279727e-01,\n",
       "        1.38079244e-02, -4.60392053e-02,  1.46206591e+00, -1.01292537e+00,\n",
       "        7.66672687e-01,  1.96780990e-01,  5.89487450e-01, -3.02441417e-01,\n",
       "        3.44633663e-01, -1.97750360e-01, -7.83863248e-02, -5.39614312e-01,\n",
       "       -8.04258032e-01,  1.26745887e+00,  1.04755952e+00, -4.58589519e-01,\n",
       "        1.64903361e+00, -8.04564406e-01,  1.07319990e-01,  1.08605799e+00,\n",
       "        2.79936554e-01, -1.19962018e+00, -1.14601494e+00,  4.64742879e-01,\n",
       "        9.01390698e-01, -3.43357769e-01,  4.68548530e-02, -4.82010954e-01,\n",
       "        1.26537871e+00, -5.54491208e-02,  2.84798249e-01, -1.03735207e-01,\n",
       "        1.49996711e+00,  1.07665768e+00,  3.51850732e-01,  6.14509200e-02,\n",
       "       -1.14504492e+00, -4.23957544e-01,  1.29128197e+00, -5.19018670e-02,\n",
       "        9.91796141e-01,  1.44245071e-01, -7.52895117e-01,  1.28953599e+00,\n",
       "       -3.86622540e-03,  4.05347303e-01, -4.81719237e-01, -8.88818476e-01,\n",
       "        4.66060167e-01, -9.37156071e-01, -2.01124406e+00,  1.62258846e+00,\n",
       "       -9.67359532e-02, -1.86595053e+00, -3.80678472e-01,  1.10959105e+00,\n",
       "       -6.35713553e-01,  9.48168682e-01,  1.07988951e+00,  1.11521234e-01,\n",
       "       -7.29613041e-02,  1.81558202e+00,  1.74990745e-01,  7.47277691e-01,\n",
       "        4.48753285e-01,  2.06856399e-01, -1.60661595e+00,  5.08093273e-01,\n",
       "       -1.79121266e-02, -1.25280275e-01, -3.63240181e-01, -8.06325661e-01,\n",
       "       -1.58200163e+00, -6.18952530e-01, -2.87458340e-01,  1.72007416e+00,\n",
       "       -2.29194510e+00, -1.73933155e+00, -2.06675615e+00,  1.93354096e+00,\n",
       "        6.98306635e-01,  7.47019536e-01,  1.04611333e+00,  1.68646877e-01,\n",
       "        1.02359829e+00, -1.02396379e+00,  1.64679992e+00,  1.00621388e+00,\n",
       "        5.62535982e-01, -1.35157198e+00, -5.76022338e-01,  1.56759385e+00,\n",
       "        5.34893705e-01, -1.16909215e+00, -1.21847959e+00,  3.78714806e-02,\n",
       "        3.85557493e-01,  1.33668035e+00,  6.76326682e-02, -5.94808791e-01,\n",
       "       -2.37460038e-01, -7.66669585e-02,  9.75516724e-01,  7.42392591e-01,\n",
       "       -3.10804595e-01,  1.57095032e+00,  4.60317219e-01, -2.16310235e+00,\n",
       "       -3.60325851e-01, -1.06891388e+00, -1.40887210e+00,  2.80251722e-02,\n",
       "        4.48386062e-01,  7.15875589e-01,  4.42744597e-01, -1.49849855e-01,\n",
       "        2.37248653e-01,  2.84552266e-01, -2.35379364e-02,  8.10418378e-01,\n",
       "        2.12081177e+00,  4.16240297e-01, -4.24658752e-02, -1.85286700e-01,\n",
       "        1.70622014e+00,  9.30308882e-01, -1.44016662e-02, -1.16504098e+00,\n",
       "        6.08156549e-01,  3.55035749e-01, -2.19635976e-01, -1.93749466e-01,\n",
       "       -1.47238107e+00, -1.09409948e+00, -1.19578994e+00, -1.30727391e+00,\n",
       "       -2.68691944e+00,  5.44606160e-01, -5.23652965e-01,  2.55806517e-01,\n",
       "        1.00066059e+00, -3.09384430e-01, -1.86271091e+00,  1.58251846e+00,\n",
       "       -7.59274268e-01, -1.22552301e+00, -6.44781370e-01, -7.22705850e-01,\n",
       "        7.31536581e-01,  1.24580308e+00,  9.98329966e-01,  2.77388767e+00,\n",
       "        4.97362976e-02,  2.60144259e+00, -1.51948911e+00, -2.34755045e-02,\n",
       "        2.85766033e-01, -6.27328631e-01,  7.60897097e-01,  1.35569775e+00,\n",
       "        1.05942071e+00, -7.28087263e-01,  6.54101991e-01, -2.03165304e-01,\n",
       "        1.69960789e+00,  5.59481192e-01,  8.08188743e-01, -1.78893475e-01,\n",
       "       -1.16480332e+00, -8.07937151e-01,  6.31871402e-01, -8.06223157e-01,\n",
       "       -1.07640925e+00, -1.37636944e+00, -1.72177522e-01, -1.61761235e+00,\n",
       "        1.70601301e-01,  7.67763846e-01,  2.07820839e+00,  1.01497110e+00,\n",
       "       -3.36642359e-02, -1.05017613e+00,  1.10720249e+00, -7.19208556e-01,\n",
       "       -1.04160269e+00, -6.37783542e-01,  1.14987836e+00, -1.56536764e+00,\n",
       "        1.04621387e+00,  7.34626870e-01,  7.62580612e-01,  1.66234249e+00,\n",
       "        2.13195621e+00,  1.02902497e-01, -4.89473706e-01, -2.05830908e+00,\n",
       "       -9.42322728e-01, -5.59615946e-01, -6.62329717e-01,  1.95818491e+00,\n",
       "       -7.12901027e-01,  7.73671044e-01,  8.17661125e-01, -1.33115534e-01,\n",
       "       -1.14282469e+00,  1.24635534e+00,  9.16053588e-01,  1.12636920e+00,\n",
       "        2.60744488e-01, -7.49539457e-01,  4.04208421e-01, -7.16056746e-01,\n",
       "       -4.72082607e-01,  1.36314955e+00,  6.08061843e-01, -3.76861624e-01,\n",
       "        5.98068836e-01, -6.22152358e-01,  9.90465973e-01,  9.54375300e-01,\n",
       "       -1.98600155e+00,  6.47968185e-01,  2.18353625e+00,  2.55170755e-01,\n",
       "       -5.19128570e-01, -3.74273533e-01, -3.08321880e-02, -1.78121491e+00,\n",
       "       -9.39140820e-01, -4.73134682e-01, -8.44006313e-01,  5.82201391e-02,\n",
       "        1.06649323e+00, -5.54147064e-01, -6.71201785e-02, -1.11662825e+00,\n",
       "       -1.86767659e+00, -1.78278401e-01,  3.78733290e-01, -1.22009763e-02,\n",
       "        1.70623111e+00,  1.34080828e+00, -1.02621084e+00, -7.19414354e-01,\n",
       "        1.33440596e+00, -4.18754467e-01, -5.78681253e-01,  1.07608600e-01,\n",
       "       -6.93837441e-01, -7.81195791e-01, -8.38094526e-01, -4.54643584e-01,\n",
       "        5.87016126e-02,  4.50781684e-01, -2.44787157e-01, -2.55816413e-01,\n",
       "        4.33703297e-01,  4.10121705e-01,  2.09901565e+00,  5.17216344e-01,\n",
       "       -9.45518003e-01,  2.17830753e+00, -1.53297906e-01, -8.39305286e-01,\n",
       "        1.75580974e-01,  1.62813931e+00, -2.39810865e-01, -4.32033974e-01,\n",
       "       -1.66904239e-01, -1.37788863e+00, -3.90165562e-01,  3.18653307e-01,\n",
       "       -5.42906823e-01, -8.18155146e-01, -1.07865995e-01, -1.30932533e-01,\n",
       "       -1.25986801e+00, -7.04034454e-01, -1.13278013e-01, -1.02306433e+00,\n",
       "       -2.03418121e+00,  8.75605042e-01, -1.24585710e+00, -1.96311983e+00,\n",
       "       -1.15177849e+00, -1.29044620e+00, -2.30269827e+00,  4.30169543e-02,\n",
       "        6.48920998e-02,  1.08647220e+00, -1.56857821e+00,  4.11601944e-01,\n",
       "        4.61434168e-01,  1.35461107e-01,  1.72471310e+00, -3.11004191e-01,\n",
       "        2.55385370e+00, -1.26080607e+00,  6.60734849e-01, -7.84769418e-01,\n",
       "        1.60939157e+00, -2.77103998e-01, -2.10385479e-01,  7.62157979e-01,\n",
       "        7.81496376e-01, -1.69698445e+00,  4.52881883e-01, -2.95405129e+00,\n",
       "       -4.13860851e-01, -2.47859373e+00,  1.14103402e+00,  5.94066965e-01,\n",
       "        4.22449693e-01, -4.42744931e-01, -2.77770878e-01, -1.04225281e+00,\n",
       "       -2.71738116e-01, -2.50375217e+00, -1.09197617e+00,  5.17553357e-01,\n",
       "       -9.76530090e-01, -1.57025833e+00,  1.69169374e-01, -1.54121881e+00,\n",
       "       -1.22953253e+00,  1.52642319e-02,  9.05088371e-01,  2.58617216e-01,\n",
       "       -2.71389408e-01,  1.88935393e+00, -2.08875537e+00,  1.31510592e+00,\n",
       "       -8.84896432e-01,  9.53626878e-01, -2.68463069e-01,  4.64251536e-01,\n",
       "        3.33812783e-01, -3.75666957e-01, -6.39984610e-01, -2.21696411e-01,\n",
       "        3.43169735e-01, -1.81179437e+00, -1.89452740e+00, -1.47933499e+00,\n",
       "        2.97084953e-01,  7.66279154e-01, -6.06896057e-01,  3.46730766e-01,\n",
       "        6.45675848e-01,  9.14116411e-01, -2.38852986e-01, -1.06448246e+00,\n",
       "       -4.07677740e-01, -1.76005925e-01, -1.34909599e+00,  1.30633500e+00,\n",
       "        5.72888817e-01, -2.88166698e-01,  6.10309056e-02, -1.08810790e+00,\n",
       "       -6.64269365e-01,  8.06052142e-01, -1.59860975e-01,  1.16640764e+00,\n",
       "        4.25026066e-01, -1.39199770e+00, -7.50232086e-01, -1.19719984e+00,\n",
       "       -2.56014731e-01, -1.45056169e+00, -6.72407141e-01,  1.65465734e+00,\n",
       "       -1.02635432e+00, -9.36145176e-01, -7.71994169e-01, -1.55300847e+00,\n",
       "        1.60660658e+00, -9.36425738e-01, -4.38586098e-01,  1.79078769e+00,\n",
       "        5.53437137e-01,  1.39152598e+00, -4.69193825e-01, -2.84424749e-01,\n",
       "        2.19081002e+00, -1.23852673e+00,  2.79769394e+00, -1.34981762e+00,\n",
       "        1.39340135e-02, -6.51977524e-01,  1.30335419e+00,  1.13340833e+00,\n",
       "        2.10181928e-01, -3.63749748e-02,  1.01887327e+00, -3.81990076e-01,\n",
       "        1.82912859e-01, -1.30182099e+00, -1.11524213e+00, -1.07405185e+00,\n",
       "        9.36563150e-01,  4.52776646e-01,  4.94076526e-01, -1.98950818e+00,\n",
       "        5.32324931e-01, -3.83414076e-01, -1.22160837e+00,  9.14155389e-01,\n",
       "        1.40339836e-01, -1.90354696e-01,  5.90970749e-03, -1.69495630e+00,\n",
       "        7.34055116e-01, -1.69237795e-01,  8.94748001e-01, -1.01924707e-01,\n",
       "       -1.67267949e+00,  8.26749331e-01, -8.11870851e-01, -4.20421766e-03,\n",
       "        6.21329402e-01,  6.17858623e-01, -7.13812799e-01, -9.37098860e-01,\n",
       "       -8.70547905e-01,  5.09771600e-01, -6.93251429e-01,  1.23418161e-01,\n",
       "        1.39988682e+00,  1.15375938e+00, -1.70423199e-01, -3.94306699e+00,\n",
       "       -3.67578748e-02,  4.46253443e-02,  1.34023415e-01, -8.32255090e-01,\n",
       "       -7.47578554e-01, -7.57276951e-01, -1.61389761e+00, -1.80979211e+00,\n",
       "       -1.57375432e+00, -1.28598666e+00,  1.43525761e+00, -1.21575638e+00,\n",
       "       -9.12949595e-02, -1.95299541e+00, -4.22911562e-01,  4.87609082e-02,\n",
       "       -5.89828385e-01,  2.08322890e-01, -5.96736159e-01,  7.32868334e-01,\n",
       "       -1.23723564e+00,  2.15716478e+00, -1.70865691e+00,  4.23879156e-01,\n",
       "       -1.81756656e-01,  5.61599298e-01, -1.21623627e+00, -8.92861076e-01,\n",
       "       -3.71550243e-01, -8.15469337e-02,  1.05185232e+00,  1.24233786e+00,\n",
       "        4.74285696e-01, -9.58145105e-02,  1.40171100e+00, -1.11458290e+00,\n",
       "       -3.03711575e-01, -1.95739187e+00,  6.63869737e-01,  8.90409362e-01,\n",
       "        1.77685660e+00,  1.03823610e+00, -1.92942850e+00, -8.70707610e-01,\n",
       "       -1.06984999e+00, -1.20893436e+00,  1.35192099e-01,  8.57027761e-01,\n",
       "        1.75319860e-02, -1.92688566e-01, -2.25043059e+00,  9.02355157e-01,\n",
       "        1.35688230e+00,  1.92276980e+00, -5.71942040e-01,  1.71439609e+00,\n",
       "       -5.16732794e-01,  8.93397583e-01,  1.65003300e+00,  8.58992134e-01,\n",
       "       -4.27065953e-01,  5.17738315e-01,  7.85764476e-01, -7.71700890e-01,\n",
       "       -4.59843490e-01, -1.62929349e-01,  8.85678534e-02, -1.38722733e-01,\n",
       "        1.75971598e-01, -2.27646631e+00, -1.81352152e+00,  3.45838595e-01,\n",
       "        8.17848622e-03,  1.40626195e+00, -1.52402136e-01,  7.22961139e-01,\n",
       "       -2.15504843e+00,  1.04788013e+00, -5.91719588e-01,  4.29455761e-01,\n",
       "        4.64430649e-01,  2.05351344e-01,  5.55411639e-01,  6.44688862e-01,\n",
       "       -1.81380159e+00,  1.88420369e+00, -1.02397997e+00, -8.08016870e-01,\n",
       "       -4.94121922e-01,  2.95335706e-02,  2.77030201e-01,  1.14943387e+00,\n",
       "       -4.22666625e-01, -8.04621020e-02, -5.41114198e-01, -2.88658396e-01,\n",
       "       -2.23499629e-01, -4.95289240e-01, -1.61621031e+00,  2.07459745e+00,\n",
       "       -3.14008804e-01, -6.02537229e-01,  2.59063895e-01, -1.01203117e+00,\n",
       "       -6.17673688e-01,  9.67792128e-01,  4.37946360e-01, -5.92320977e-02,\n",
       "        2.48258677e-01,  6.04763982e-01, -1.05969790e+00,  5.89050928e-01,\n",
       "        4.15961941e-01, -2.86401879e-01,  5.85510999e-01,  5.86267344e-01,\n",
       "        1.97449432e-01,  4.03622724e-01, -5.79424214e-01,  2.06379956e-01])"
      ]
     },
     "execution_count": 94,
     "metadata": {},
     "output_type": "execute_result"
    }
   ],
   "source": [
    "B_dist_temp"
   ]
  },
  {
   "cell_type": "code",
   "execution_count": 96,
   "metadata": {},
   "outputs": [],
   "source": [
    "opt = tf.optimizers.Nadam(1e-3)\n",
    "mdn_PQ = MDN_module()\n",
    "mdn_PQ.compile(loss=gnll_loss, optimizer=opt)\n",
    "withoutL=mdn_PQ.fit(x=np.concatenate([L.reshape(-1,1),A.reshape(-1,1)],axis=1), y=B_dist_temp.T,epochs=200,  batch_size=32,verbose=0)\n",
    "y_pred_permL = mdn_PQ.predict(np.concatenate([L.reshape(-1,1),A.reshape(-1,1)],axis=1))\n"
   ]
  },
  {
   "cell_type": "code",
   "execution_count": 38,
   "metadata": {},
   "outputs": [
    {
     "data": {
      "text/plain": [
       "[array([[ 0.35107043, -0.2778048 ,  0.45216545, -0.21506318, -0.25856617,\n",
       "          0.21543454, -0.3420504 ,  0.6167281 , -0.16649646,  0.11847921,\n",
       "          0.25845903,  0.41260982,  0.44734475, -0.03990937,  0.3319085 ],\n",
       "        [ 0.23257351,  0.03083565,  0.55770504, -0.62368864, -0.25534385,\n",
       "          0.50950235,  0.26258284,  0.01347695,  0.504305  , -0.31579137,\n",
       "          0.00659111,  0.14038509,  0.4436975 , -0.34832567,  0.25167894]],\n",
       "       dtype=float32),\n",
       " array([-0.01717891, -0.07744368,  0.14616115,  0.12111072, -0.09678373,\n",
       "        -0.03346783,  0.02213036,  0.09878901, -0.06129839, -0.05929307,\n",
       "        -0.01467919, -0.06514503,  0.07802954, -0.12430618, -0.04050766],\n",
       "       dtype=float32)]"
      ]
     },
     "execution_count": 38,
     "metadata": {},
     "output_type": "execute_result"
    }
   ],
   "source": [
    "mdn_PQ.layers[0].get_weights()"
   ]
  },
  {
   "cell_type": "code",
   "execution_count": 97,
   "metadata": {},
   "outputs": [],
   "source": [
    "alpha,mu,sigma = slice_parameter_vectors(y_pred_permL)\n",
    "gm = tfd.MixtureSameFamily(\n",
    "        mixture_distribution=tfd.Categorical(probs=alpha),\n",
    "        components_distribution=tfd.Normal(\n",
    "            loc=mu,       \n",
    "            scale=sigma))\n",
    "log_likelihood = gm.log_prob(B_dist_temp).numpy()\n",
    "loss_perm= -tf.reduce_mean(log_likelihood, axis=-1).numpy()"
   ]
  },
  {
   "cell_type": "code",
   "execution_count": 98,
   "metadata": {},
   "outputs": [
    {
     "data": {
      "text/plain": [
       "1.4299976"
      ]
     },
     "execution_count": 98,
     "metadata": {},
     "output_type": "execute_result"
    }
   ],
   "source": [
    "loss_perm"
   ]
  },
  {
   "cell_type": "code",
   "execution_count": 134,
   "metadata": {},
   "outputs": [],
   "source": [
    "L_shuffle=np.random.permutation(L)"
   ]
  },
  {
   "cell_type": "code",
   "execution_count": 135,
   "metadata": {},
   "outputs": [],
   "source": [
    "y_pred_permL = mdn_PQ.predict(np.concatenate([L_shuffle.reshape(-1,1),A.reshape(-1,1)],axis=1))\n",
    "alpha,mu,sigma = slice_parameter_vectors(y_pred_permL)\n",
    "gm = tfd.MixtureSameFamily(\n",
    "        mixture_distribution=tfd.Categorical(probs=alpha),\n",
    "        components_distribution=tfd.Normal(\n",
    "            loc=mu,       \n",
    "            scale=sigma))\n",
    "log_likelihood = gm.log_prob(B_dist_temp).numpy()\n",
    "loss_perm_shuffle= -tf.reduce_mean(log_likelihood, axis=-1).numpy()"
   ]
  },
  {
   "cell_type": "code",
   "execution_count": 136,
   "metadata": {},
   "outputs": [
    {
     "data": {
      "text/plain": [
       "1.4409829"
      ]
     },
     "execution_count": 136,
     "metadata": {},
     "output_type": "execute_result"
    }
   ],
   "source": [
    "loss_perm_shuffle"
   ]
  },
  {
   "cell_type": "code",
   "execution_count": 137,
   "metadata": {},
   "outputs": [
    {
     "data": {
      "text/plain": [
       "0.010985374"
      ]
     },
     "execution_count": 137,
     "metadata": {},
     "output_type": "execute_result"
    }
   ],
   "source": [
    "loss_perm_shuffle-loss_perm"
   ]
  },
  {
   "cell_type": "code",
   "execution_count": 226,
   "metadata": {},
   "outputs": [
    {
     "data": {
      "text/plain": [
       "Text(0.5, 1.0, 'Permuted data with the added information L')"
      ]
     },
     "execution_count": 226,
     "metadata": {},
     "output_type": "execute_result"
    },
    {
     "data": {
      "image/png": "[encoded data removed]",
      "text/plain": [
       "<Figure size 432x288 with 1 Axes>"
      ]
     },
     "metadata": {
      "needs_background": "light"
     },
     "output_type": "display_data"
    }
   ],
   "source": [
    "plt.scatter(A,B_dist_temp)\n",
    "plt.scatter(A,y_pred[:,1])\n",
    "plt.xlabel(\"A\")\n",
    "plt.ylabel(\"B\")\n",
    "plt.title(\"Permuted data with the added information L\")"
   ]
  },
  {
   "cell_type": "code",
   "execution_count": null,
   "metadata": {},
   "outputs": [],
   "source": [
    "plt.scatter(L,B_dist_temp)"
   ]
  },
  {
   "cell_type": "code",
   "execution_count": null,
   "metadata": {},
   "outputs": [],
   "source": [
    "y_pred[:,1]"
   ]
  },
  {
   "cell_type": "code",
   "execution_count": 57,
   "metadata": {},
   "outputs": [],
   "source": [
    "opt = tf.optimizers.Nadam(1e-3)\n",
    "mdn_PQ = MDN_module()\n",
    "mdn_PQ.compile(loss=gnll_loss, optimizer=opt)\n",
    "withoutL=mdn_PQ.fit(x=reshapevar(A), y=B_dist_temp.T,epochs=100,  batch_size=32,verbose=0)\n",
    "y_pred_permwithoutL = mdn_PQ.predict(reshapevar(A))"
   ]
  },
  {
   "cell_type": "code",
   "execution_count": 89,
   "metadata": {},
   "outputs": [
    {
     "data": {
      "text/plain": [
       "[array([[ 0.02184762],\n",
       "        [ 0.34048617],\n",
       "        [-0.5926892 ],\n",
       "        [-0.53632855],\n",
       "        [-0.33772627],\n",
       "        [-0.20901696],\n",
       "        [ 0.03389714],\n",
       "        [ 0.54519737],\n",
       "        [-0.21056986],\n",
       "        [-0.63693786],\n",
       "        [-0.46571752],\n",
       "        [-0.18137042],\n",
       "        [ 0.7315042 ],\n",
       "        [-0.37944126],\n",
       "        [-0.21867684]], dtype=float32),\n",
       " array([0.10030894], dtype=float32)]"
      ]
     },
     "execution_count": 89,
     "metadata": {},
     "output_type": "execute_result"
    }
   ],
   "source": [
    "mdn_PQ.layers[3].get_weights()"
   ]
  },
  {
   "cell_type": "code",
   "execution_count": 59,
   "metadata": {},
   "outputs": [],
   "source": [
    "alpha,mu,sigma = slice_parameter_vectors(y_pred_permwithoutL)\n",
    "gm = tfd.MixtureSameFamily(\n",
    "        mixture_distribution=tfd.Categorical(probs=alpha),\n",
    "    \n",
    "        components_distribution=tfd.Normal(\n",
    "            loc=mu,       \n",
    "            scale=sigma))\n",
    "log_likelihood = gm.log_prob(B).numpy()\n",
    "loss= -tf.reduce_mean(log_likelihood, axis=-1).numpy()"
   ]
  },
  {
   "cell_type": "code",
   "execution_count": 60,
   "metadata": {},
   "outputs": [
    {
     "data": {
      "text/plain": [
       "1.65668"
      ]
     },
     "execution_count": 60,
     "metadata": {},
     "output_type": "execute_result"
    }
   ],
   "source": [
    "loss\n"
   ]
  },
  {
   "cell_type": "code",
   "execution_count": 230,
   "metadata": {},
   "outputs": [
    {
     "data": {
      "text/plain": [
       "Text(0.5, 1.0, 'Permuted data without the added information')"
      ]
     },
     "execution_count": 230,
     "metadata": {},
     "output_type": "execute_result"
    },
    {
     "data": {
      "image/png": "[encoded data removed]",
      "text/plain": [
       "<Figure size 432x288 with 1 Axes>"
      ]
     },
     "metadata": {
      "needs_background": "light"
     },
     "output_type": "display_data"
    }
   ],
   "source": [
    "plt.scatter(A,B_dist_temp)\n",
    "plt.scatter(A,y_pred[:,1])\n",
    "plt.xlabel(\"A\")\n",
    "plt.ylabel(\"B\")\n",
    "plt.title(\"Permuted data without the added information\")"
   ]
  },
  {
   "cell_type": "code",
   "execution_count": null,
   "metadata": {},
   "outputs": [],
   "source": [
    "L = np.random.binomial(1,0.5,1000)  \n",
    "#eps0 = np.random.standard_normal(1000)\n",
    "#eps1 = np.random.standard_normal(1000)\n",
    "eps0 = np.random.normal(-2,0.5,1000)\n",
    "eps1 = np.random.normal(-5,0.5,1000)\n",
    "A=9*L - eps0\n",
    "B=8*np.sin(A)+eps1"
   ]
  },
  {
   "cell_type": "code",
   "execution_count": null,
   "metadata": {},
   "outputs": [],
   "source": [
    "indices_1 = [i for i, x in enumerate(L) if x == 1]\n",
    "indices_0 = [i for i, x in enumerate(L) if x == 0]"
   ]
  },
  {
   "cell_type": "code",
   "execution_count": null,
   "metadata": {},
   "outputs": [],
   "source": [
    "plt.scatter(L,A)\n",
    "plt.title(\"L vs A\")\n",
    "plt.xlabel(\"L\")\n",
    "plt.ylabel(\"A\")"
   ]
  },
  {
   "cell_type": "code",
   "execution_count": null,
   "metadata": {},
   "outputs": [],
   "source": [
    "plt.scatter(L,B)\n",
    "plt.title(\"L vs B\")\n",
    "plt.xlabel(\"L\")\n",
    "plt.ylabel(\"B\")"
   ]
  },
  {
   "cell_type": "code",
   "execution_count": null,
   "metadata": {},
   "outputs": [],
   "source": [
    "plt.scatter(A[indices_1],B[indices_1],label=\"L=1\")\n",
    "plt.scatter(A[indices_0],B[indices_0],label=\"L=0\")\n",
    "plt.title(\"A vs B\")\n",
    "plt.xlabel(\"A\")\n",
    "plt.ylabel(\"B\")\n",
    "plt.legend()"
   ]
  },
  {
   "cell_type": "code",
   "execution_count": null,
   "metadata": {},
   "outputs": [],
   "source": [
    "plt.scatter(A,B)\n",
    "plt.title(\"Simulated data\")\n",
    "plt.xlabel(\"A\")\n",
    "plt.ylabel(\"B\")"
   ]
  },
  {
   "cell_type": "code",
   "execution_count": null,
   "metadata": {},
   "outputs": [],
   "source": [
    "str(pearsonr(A,B)[0])"
   ]
  },
  {
   "cell_type": "code",
   "execution_count": null,
   "metadata": {},
   "outputs": [],
   "source": [
    "f = open(\"testing_writingvalues_debugSine.txt\", \"w\")\n",
    "f.write(str(9)+\" \"+ str(8))\n",
    "f.write(\"\\n\")\n",
    "np.savetxt(f,L,newline=' ',fmt='%s')\n",
    "f.write(\"\\n\")\n",
    "np.savetxt(f,A,newline=' ',fmt='%s')\n",
    "f.write(\"\\n\")\n",
    "np.savetxt(f,B,newline=' ',fmt='%s')\n",
    "f.write(\"\\n\")\n",
    "f.close()\n"
   ]
  }
 ],
 "metadata": {
  "colab": {
   "collapsed_sections": [],
   "name": "CITNonLinear.ipynb",
   "provenance": []
  },
  "kernelspec": {
   "display_name": "Python 3 (ipykernel)",
   "language": "python",
   "name": "python3"
  },
  "language_info": {
   "codemirror_mode": {
    "name": "ipython",
    "version": 3
   },
   "file_extension": ".py",
   "mimetype": "text/x-python",
   "name": "python",
   "nbconvert_exporter": "python",
   "pygments_lexer": "ipython3",
   "version": "3.9.7"
  }
 },
 "nbformat": 4,
 "nbformat_minor": 1
}
