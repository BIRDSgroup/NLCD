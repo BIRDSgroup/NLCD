{
 "cells": [
  {
   "cell_type": "code",
   "execution_count": 1,
   "metadata": {},
   "outputs": [],
   "source": [
    "yeast=open(\"yeast_residual_data_full_1000_gt_2.txt\",\"r\")\n",
    "\n",
    "\n",
    "\n",
    "#yeast data read \n",
    "L=[]\n",
    "A=[]\n",
    "B=[]\n",
    "for i in range(0,1000):\n",
    "  line=yeast.readline()\n",
    "  #line=line[1:-2] #remove double quotes \n",
    "  #param = [j for j in line.split()]\n",
    "  #print(param)\n",
    "  #chrname.append(param[1])\n",
    "  #g1.append(param[2])\n",
    "  #g2.append(param[3])\n",
    "  line=yeast.readline()\n",
    "  l = [j for j in line.split()]\n",
    "  L.append([int(i) for i in l])\n",
    "  line=yeast.readline()\n",
    "  a = [j for j in line.split()]\n",
    "  A.append([float(i) for i in a])\n",
    "  line=yeast.readline()\n",
    "  b = [j for j in line.split()]\n",
    "  B.append([float(i) for i in b])\n",
    "dataset_0 = [i for i in zip(L,A,B)]\n"
   ]
  },
  {
   "cell_type": "code",
   "execution_count": 2,
   "metadata": {},
   "outputs": [],
   "source": [
    "#yeast data\n",
    "yeast=open(\"yeast_residual_data_full_1000_gt_1.txt\",\"r\")\n",
    "\n",
    "\n",
    "\n",
    "#yeast data read \n",
    "L=[]\n",
    "A=[]\n",
    "B=[]\n",
    "for i in range(0,1000):\n",
    "  line=yeast.readline()\n",
    "  #line=line[1:-2] #remove double quotes \n",
    "  #param = [j for j in line.split()]\n",
    "  #print(param)\n",
    "  #chrname.append(param[1])\n",
    "  #g1.append(param[2])\n",
    "  #g2.append(param[3])\n",
    "  line=yeast.readline()\n",
    "  l = [j for j in line.split()]\n",
    "  L.append([int(i) for i in l])\n",
    "  line=yeast.readline()\n",
    "  a = [j for j in line.split()]\n",
    "  A.append([float(i) for i in a])\n",
    "  line=yeast.readline()\n",
    "  b = [j for j in line.split()]\n",
    "  B.append([float(i) for i in b])\n",
    "dataset_1 = [i for i in zip(L,A,B)]\n",
    "\n",
    "#reshapefunction\n",
    "\n"
   ]
  },
  {
   "cell_type": "code",
   "execution_count": 63,
   "metadata": {
    "colab": {
     "base_uri": "https://localhost:8080/"
    },
    "id": "qd6CiVe-jyEn",
    "outputId": "b4187c26-21ff-4edc-e194-db58fd55f233"
   },
   "outputs": [],
   "source": [
    "\n",
    "from tensorflow_probability import distributions as tfd\n",
    "import tensorflow as tf\n",
    "from tensorflow.keras.layers import Input, Dense, Activation, Concatenate\n",
    "\n",
    "from sklearn.linear_model import LinearRegression\n",
    "from sklearn.model_selection import train_test_split\n",
    "from sklearn.preprocessing import MinMaxScaler\n",
    "from sklearn.datasets import load_boston\n",
    "from sklearn.linear_model import LinearRegression\n",
    "import matplotlib.pyplot as plt\n",
    "import seaborn as sns\n",
    "import random\n",
    "import numpy as np\n",
    "import statsmodels.api as sm\n",
    "import pickle\n",
    "from sklearn.feature_selection import mutual_info_regression\n",
    "from scipy import stats\n",
    "import rpy2"
   ]
  },
  {
   "cell_type": "code",
   "execution_count": 74,
   "metadata": {},
   "outputs": [],
   "source": [
    "from rpy2.robjects.packages import importr\n",
    "import rpy2.robjects.packages as rpackages\n",
    "utils = importr('utils')\n",
    "from rpy2.robjects.vectors import StrVector\n",
    "utils.chooseCRANmirror(ind=1)\n",
    "\n",
    "# Install packages\n",
    "nlcor=importr('nlcor')\n",
    "import rpy2.robjects.numpy2ri\n",
    "rpy2.robjects.numpy2ri.activate()\n"
   ]
  },
  {
   "cell_type": "code",
   "execution_count": null,
   "metadata": {},
   "outputs": [],
   "source": []
  },
  {
   "cell_type": "code",
   "execution_count": 4,
   "metadata": {
    "id": "OxvAXLLFnl7d"
   },
   "outputs": [],
   "source": [
    "class MDN_module(tf.keras.Model):\n",
    "\n",
    "    def __init__(self, neurons=15, components = 1):\n",
    "        super(MDN_module, self).__init__(name=\"MDN_module\")\n",
    "        self.neurons = neurons\n",
    "        self.components = components\n",
    "\n",
    "        #chaging activation to relu from linear, changin relu to sigmoid \n",
    "        for i in range(1,3):\n",
    "          s=\"self\"+\".h\"+str(i)+\"= Dense(neurons, activation=\\\"relu\\\", name=\"+\"'h\"+str(i)+\"')\"\n",
    "          exec(s)\n",
    "        self.alphas = Dense(components, activation=\"softmax\", name=\"alphas\")\n",
    "        self.mus = Dense(components, activation=\"linear\",name=\"mus\") \n",
    "        self.sigmas = Dense(components, activation=\"nnelu\",name=\"sigmas\") #activation changed from linear to default\n",
    "        self.pvec = Concatenate(name=\"pvec\")\n",
    "        \n",
    "    def call(self, inputs):\n",
    "        x=self.h1(inputs)\n",
    "        #x=self.inputA(inputs)\n",
    "        x=self.h2(x)\n",
    "        alpha_v = self.alphas(x)\n",
    "        mu_v = self.mus(x)\n",
    "        sigma_v = self.sigmas(x)\n",
    "        \n",
    "        return self.pvec([alpha_v,mu_v, sigma_v])"
   ]
  },
  {
   "cell_type": "code",
   "execution_count": 5,
   "metadata": {
    "id": "7DSPXmR1ogiH"
   },
   "outputs": [],
   "source": [
    "no_parameters=3\n",
    "components=1\n",
    "\n",
    "def nnelu(input):\n",
    "    \"\"\" Computes the Non-Negative Exponential Linear Unit\n",
    "    \"\"\"\n",
    "    return tf.add(tf.constant(1, dtype=tf.float32), tf.nn.elu(input))\n",
    "\n",
    "def slice_parameter_vectors(parameter_vector):\n",
    "    \"\"\" Returns an unpacked list of paramter vectors.\n",
    "    \"\"\"\n",
    "    return [parameter_vector[:,i*components:(i+1\n",
    "    )*components] for i in range(no_parameters)]\n",
    "\n",
    "def gnll_loss(y, parameter_vector):\n",
    "    \"\"\" Computes the mean negative log-likelihood loss of y given the mixture parameters.\n",
    "    \"\"\"\n",
    "    alpha,mu,sigma = slice_parameter_vectors(parameter_vector) # Unpack parameter vectors\n",
    "    #tf.print(sigma)\n",
    "    gm = tfd.MixtureSameFamily(\n",
    "           mixture_distribution=tfd.Categorical(probs=alpha),\n",
    "           components_distribution=tfd.Normal(\n",
    "           loc=mu,       \n",
    "           scale=sigma))\n",
    "    \n",
    "    \n",
    "    \n",
    "    log_likelihood =  gm.log_prob(tf.transpose(y)) # Evaluate log-probability of y \n",
    "    return -tf.reduce_mean(log_likelihood, axis=-1) \n",
    "\n",
    "tf.keras.utils.get_custom_objects().update({'nnelu': Activation(nnelu)})\n",
    "\n",
    "def gnll_eval(y,alpha, mu, sigma):\n",
    "    \"\"\" Computes the mean negative log-likelihood loss of y given the mixture parameters.\n",
    "    \"\"\"\n",
    "    gm = tfd.MixtureSameFamily(\n",
    "        mixture_distribution=tfd.Categorical(probs=alpha),\n",
    "        components_distribution=tfd.Normal(\n",
    "            loc=mu,       \n",
    "            scale=sigma))\n",
    "    log_likelihood = gm.log_prob(tf.transpose(y))\n",
    "    return -tf.reduce_mean(log_likelihood, axis=-1)\n",
    "\n",
    "\n",
    "def eval_mdn_model(x_test, y_test, mdn_model):\n",
    "    y_pred = mdn_model.predict(np.reshape(x_test,newshape=(len(x_test),-1)))\n",
    "    alpha,mu,sigma = slice_parameter_vectors(y_pred)\n",
    "    mdn_nll = gnll_eval(y_test.astype(np.float32),alpha, mu, sigma).numpy()\n",
    "    return mdn_nll\n",
    "#reshapefunction\n",
    "def reshapevar(X):\n",
    "  return np.reshape(X,newshape=(len(X),-1))"
   ]
  },
  {
   "cell_type": "code",
   "execution_count": 6,
   "metadata": {
    "id": "T6sJ7ffirsnB"
   },
   "outputs": [],
   "source": [
    "def compute_loss(P,Q):\n",
    "  opt = tf.optimizers.Adam(1e-2)\n",
    "  mdn_PQ = MDN_module()\n",
    "  mdn_PQ.compile(loss=gnll_loss, optimizer=opt)\n",
    "  mdn_PQ.fit(x=reshapevar(P), y=np.array(Q).T,epochs=100,  batch_size=64,verbose=0)\n",
    "  return eval_mdn_model(P,Q,mdn_PQ)\n"
   ]
  },
  {
   "cell_type": "code",
   "execution_count": 43,
   "metadata": {
    "id": "X6V8X2QFpmC7"
   },
   "outputs": [],
   "source": [
    "def shuffleBtimes(P,Q,B):\n",
    "  loss=[]\n",
    "  for i in range(0,B):\n",
    "      loss.append(compute_loss(P,np.random.permutation(Q)))\n",
    "  return loss\n"
   ]
  },
  {
   "cell_type": "code",
   "execution_count": 8,
   "metadata": {
    "id": "iUW3ikOHu6PO"
   },
   "outputs": [],
   "source": [
    "def LinearLABData():\n",
    "  L = np.random.binomial(1,0.5,1000)  \n",
    "  beta0 = np.ones(1000)-0.4\n",
    "  #beta1 = 0.5\n",
    "  beta1=3\n",
    "  beta2= 0.3\n",
    "  beta3=0.8\n",
    "  eps0 = np.random.standard_normal(1000)\n",
    "  eps1 = np.random.standard_normal(1000)\n",
    "  A = beta0 + beta1*L + eps0\n",
    "  B = beta2+ beta3*A+ eps1 \n",
    "  plt.scatter(A,B)\n",
    "  plt.title(\"A vs B\")\n",
    "  plt.xlabel(\"A\")\n",
    "  plt.ylabel(\"B\")\n",
    "  return [L,A,B]"
   ]
  },
  {
   "cell_type": "code",
   "execution_count": 9,
   "metadata": {
    "id": "OOIw2i80ugk6"
   },
   "outputs": [],
   "source": [
    "def residual(P,Q):\n",
    "  model=sm.OLS(Q,P).fit()\n",
    "  return model.resid\n",
    "  "
   ]
  },
  {
   "cell_type": "code",
   "execution_count": 24,
   "metadata": {},
   "outputs": [],
   "source": [
    "yeast_name=\"\"\n",
    "def yeast_data(i,ind):\n",
    "    global yeast_name\n",
    "    yeast_name=\"yeast_\"+str(i)+\"_\"+str(ind)\n",
    "    ds = eval(\"dataset_\"+str(i)+\"[\"+str(ind)+\"]\")\n",
    "    L_dist = np.array(ds[0]) #np.array(ds[0])\n",
    "    A_dist = np.array(ds[1])\n",
    "    B_dist = np.array(ds[2])\n",
    "    plt.scatter(A_dist,B_dist)\n",
    "    plt.title(\"A vs B\")\n",
    "    plt.xlabel(\"A\")\n",
    "    plt.ylabel(\"B\")\n",
    "    return [L_dist,A_dist,B_dist]"
   ]
  },
  {
   "cell_type": "code",
   "execution_count": 32,
   "metadata": {},
   "outputs": [],
   "source": [
    "def calculate_pvalue(original,loss_list):\n",
    "    return sum(i < original for i in loss_list)/len(loss_list)\n",
    "    "
   ]
  },
  {
   "cell_type": "code",
   "execution_count": 52,
   "metadata": {
    "colab": {
     "base_uri": "https://localhost:8080/",
     "height": 295
    },
    "id": "8NWufrxKokcX",
    "outputId": "b8f25bde-64db-4b27-86fb-05f7a5cf39cc"
   },
   "outputs": [
    {
     "data": {
      "image/png": "[encoded data removed]",
      "text/plain": [
       "<Figure size 432x288 with 1 Axes>"
      ]
     },
     "metadata": {
      "needs_background": "light"
     },
     "output_type": "display_data"
    }
   ],
   "source": [
    "random.seed(24)\n",
    "shuffles=10\n",
    "L,A,B=LinearLABData()\n",
    "#L,A,B=yeast_data(1,444)\n"
   ]
  },
  {
   "cell_type": "code",
   "execution_count": 84,
   "metadata": {},
   "outputs": [
    {
     "data": {
      "text/html": [
       "\n",
       "        <span>FloatVector with 1 elements.</span>\n",
       "        <table>\n",
       "        <tbody>\n",
       "          <tr>\n",
       "          \n",
       "            <td>\n",
       "            0.826137\n",
       "            </td>\n",
       "          \n",
       "          </tr>\n",
       "        </tbody>\n",
       "        </table>\n",
       "        "
      ],
      "text/plain": [
       "R object with classes: ('numeric',) mapped to:\n",
       "[0.826137]"
      ]
     },
     "execution_count": 84,
     "metadata": {},
     "output_type": "execute_result"
    }
   ],
   "source": [
    "a=nlcor.nlcor(L,A)[0]\n",
    "a"
   ]
  },
  {
   "cell_type": "code",
   "execution_count": 89,
   "metadata": {},
   "outputs": [],
   "source": [
    "a=np.array(a)"
   ]
  },
  {
   "cell_type": "code",
   "execution_count": 91,
   "metadata": {},
   "outputs": [
    {
     "data": {
      "text/plain": [
       "0.826137120995865"
      ]
     },
     "execution_count": 91,
     "metadata": {},
     "output_type": "execute_result"
    }
   ],
   "source": [
    "a[0]"
   ]
  },
  {
   "cell_type": "code",
   "execution_count": 61,
   "metadata": {},
   "outputs": [
    {
     "data": {
      "text/plain": [
       "0.826137120995865"
      ]
     },
     "execution_count": 61,
     "metadata": {},
     "output_type": "execute_result"
    }
   ],
   "source": [
    "loss_LA=mutual_info_regression(L.reshape(-1,1),A)\n",
    "loss_LB=mutual_info_regression(L.reshape(-1,1),B)\n",
    "loss_LA[0]\n",
    "stats.spearmanr(L,A)[0]\n",
    "stats.pearsonr(L,A)[0]\n"
   ]
  },
  {
   "cell_type": "code",
   "execution_count": null,
   "metadata": {},
   "outputs": [],
   "source": [
    "B_resid=residual(A,B)\n",
    "A_shuffle=np.copy(A)\n",
    "B_shuffle=np.copy(B)\n",
    "B_resid_shuffle=np.copy(B_resid)\n",
    "loss_list_LA=shuffleBtimes(L,A_shuffle,shuffles)\n",
    "loss_list_LB=shuffleBtimes(L,B_shuffle,shuffles)\n",
    "#loss_list_LindB_A=shuffleBtimes(L,B_resid_shuffle,shuffles) #conditional independence test\n",
    "true_LA=compute_loss(L,A)\n",
    "true_LB=compute_loss(L,B)\n",
    "print(true_LB)\n",
    "print(loss_list_LB)\n",
    "print(calculate_pvalue(true_LA,loss_list_LA))\n",
    "print(calculate_pvalue(true_LB,loss_list_LB))\n",
    "#true_LindB_A=compute_loss(L,B_resid)\n"
   ]
  },
  {
   "cell_type": "code",
   "execution_count": 27,
   "metadata": {},
   "outputs": [
    {
     "data": {
      "text/plain": [
       "'yeast_1_444'"
      ]
     },
     "execution_count": 27,
     "metadata": {},
     "output_type": "execute_result"
    }
   ],
   "source": [
    "yeast_name"
   ]
  },
  {
   "cell_type": "code",
   "execution_count": 109,
   "metadata": {
    "colab": {
     "base_uri": "https://localhost:8080/"
    },
    "id": "4zfCEe9r8DcW",
    "outputId": "d98f4675-d52a-4717-adf3-c2aabbb436ba"
   },
   "outputs": [],
   "source": [
    "pickle_items=[loss_list_LA,loss_list_LB,loss_list_LindB_A,true_LA,true_LB,true_LindB_A]\n",
    "file_name=str(shuffles)+\"shuffles\"+yeast_name+\".pkl\"\n",
    "open_file = open(file_name, \"wb\")\n",
    "pickle.dump(pickle_items, open_file)\n",
    "open_file.close()\n"
   ]
  },
  {
   "cell_type": "code",
   "execution_count": 37,
   "metadata": {
    "colab": {
     "base_uri": "https://localhost:8080/"
    },
    "id": "1SaPyLVQ8QT7",
    "outputId": "921fe364-62d6-4c2d-a6be-0c9e8e60a74c"
   },
   "outputs": [],
   "source": [
    "file_name=\"100shufflesyeast_1_444.pkl\"\n",
    "open_file = open(file_name, \"rb\")\n",
    "\n",
    "loaded_list = pickle.load(open_file)\n",
    "\n",
    "open_file.close()"
   ]
  },
  {
   "cell_type": "code",
   "execution_count": 41,
   "metadata": {},
   "outputs": [],
   "source": [
    "loss_list_LA,loss_list_LB,loss_list_LindB_A,true_LA,true_LB,true_LindB_A=loaded_list"
   ]
  },
  {
   "cell_type": "code",
   "execution_count": 45,
   "metadata": {},
   "outputs": [
    {
     "data": {
      "image/png": "[encoded data removed]",
      "text/plain": [
       "<Figure size 1080x504 with 3 Axes>"
      ]
     },
     "metadata": {
      "needs_background": "light"
     },
     "output_type": "display_data"
    }
   ],
   "source": [
    "basket=20\n",
    "fig, axs = plt.subplots(1, 3,figsize =(15, 7),tight_layout = True)\n",
    "axs[0].hist(loss_list_LA,bins=basket,range=[min(min(loss_list_LA),true_LA),max(max(loss_list_LA),true_LA)])\n",
    "axs[0].set_title(\"Loss LA\")\n",
    "axs[0].axvline(true_LA,linestyle='dashed',color='red')\n",
    "axs[1].hist(loss_list_LB,bins=basket,range=[min(min(loss_list_LA),true_LA),max(max(loss_list_LB),true_LB)])\n",
    "axs[1].set_title(\"Loss LB\")\n",
    "axs[1].axvline(true_LB,linestyle='dashed',color='red')\n",
    "axs[2].hist(loss_list_LindB_A,bins=basket)#,range=[min(min(loss_list_LA),true_LA),max(max(loss_list_LindB_A),true_LindB_A)])\n",
    "axs[2].set_title(\"Loss LindB_A\")\n",
    "axs[2].axvline(true_LindB_A,linestyle='dashed',color='red')\n",
    "plt.show()"
   ]
  },
  {
   "cell_type": "code",
   "execution_count": 36,
   "metadata": {},
   "outputs": [
    {
     "data": {
      "text/plain": [
       "-0.068573"
      ]
     },
     "execution_count": 36,
     "metadata": {},
     "output_type": "execute_result"
    }
   ],
   "source": [
    "true_LA\n"
   ]
  }
 ],
 "metadata": {
  "colab": {
   "collapsed_sections": [],
   "name": "CITNonLinear.ipynb",
   "provenance": []
  },
  "kernelspec": {
   "display_name": "Python 3 (ipykernel)",
   "language": "python",
   "name": "python3"
  },
  "language_info": {
   "codemirror_mode": {
    "name": "ipython",
    "version": 3
   },
   "file_extension": ".py",
   "mimetype": "text/x-python",
   "name": "python",
   "nbconvert_exporter": "python",
   "pygments_lexer": "ipython3",
   "version": "3.9.7"
  }
 },
 "nbformat": 4,
 "nbformat_minor": 1
}
