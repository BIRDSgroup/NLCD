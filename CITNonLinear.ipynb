{
 "cells": [
  {
   "cell_type": "code",
   "execution_count": 31,
   "metadata": {},
   "outputs": [],
   "source": [
    "#loading yeast groundtruth 0 data\n",
    "yeast=open(\"yeast_residual_data_full_1000_gt_2.txt\",\"r\")\n",
    "\n",
    "\n",
    "\n",
    "#yeast data read \n",
    "L=[]\n",
    "A=[]\n",
    "B=[]\n",
    "for i in range(0,1000):\n",
    "  line=yeast.readline()\n",
    "  #line=line[1:-2] #remove double quotes \n",
    "  #param = [j for j in line.split()]\n",
    "  #print(param)\n",
    "  #chrname.append(param[1])\n",
    "  #g1.append(param[2])\n",
    "  #g2.append(param[3])\n",
    "  line=yeast.readline()\n",
    "  l = [j for j in line.split()]\n",
    "  L.append([int(i) for i in l])\n",
    "  line=yeast.readline()\n",
    "  a = [j for j in line.split()]\n",
    "  A.append([float(i) for i in a])\n",
    "  line=yeast.readline()\n",
    "  b = [j for j in line.split()]\n",
    "  B.append([float(i) for i in b])\n",
    "dataset_0 = [i for i in zip(L,A,B)]\n"
   ]
  },
  {
   "cell_type": "code",
   "execution_count": 32,
   "metadata": {},
   "outputs": [],
   "source": [
    "#loading yeast groundtruth 1 data\n",
    "yeast=open(\"yeast_residual_data_full_1000_gt_1.txt\",\"r\")\n",
    "\n",
    "\n",
    "\n",
    "#yeast data read \n",
    "L=[]\n",
    "A=[]\n",
    "B=[]\n",
    "for i in range(0,1000):\n",
    "  line=yeast.readline()\n",
    "  #line=line[1:-2] #remove double quotes \n",
    "  #param = [j for j in line.split()]\n",
    "  #print(param)\n",
    "  #chrname.append(param[1])\n",
    "  #g1.append(param[2])\n",
    "  #g2.append(param[3])\n",
    "  line=yeast.readline()\n",
    "  l = [j for j in line.split()]\n",
    "  L.append([int(i) for i in l])\n",
    "  line=yeast.readline()\n",
    "  a = [j for j in line.split()]\n",
    "  A.append([float(i) for i in a])\n",
    "  line=yeast.readline()\n",
    "  b = [j for j in line.split()]\n",
    "  B.append([float(i) for i in b])\n",
    "dataset_1 = [i for i in zip(L,A,B)]\n",
    "\n",
    "#reshapefunction\n",
    "\n"
   ]
  },
  {
   "cell_type": "code",
   "execution_count": 33,
   "metadata": {
    "colab": {
     "base_uri": "https://localhost:8080/"
    },
    "id": "qd6CiVe-jyEn",
    "outputId": "b4187c26-21ff-4edc-e194-db58fd55f233"
   },
   "outputs": [],
   "source": [
    "#loading the libraries\n",
    "from tensorflow_probability import distributions as tfd\n",
    "import tensorflow as tf\n",
    "from tensorflow.keras.layers import Input, Dense, Activation, Concatenate\n",
    "\n",
    "from sklearn.linear_model import LinearRegression\n",
    "from sklearn.model_selection import train_test_split\n",
    "from sklearn.preprocessing import MinMaxScaler\n",
    "from sklearn.datasets import load_boston\n",
    "from sklearn.linear_model import LinearRegression\n",
    "import matplotlib.pyplot as plt\n",
    "import seaborn as sns\n",
    "import random\n",
    "import numpy as np\n",
    "import statsmodels.api as sm\n",
    "import pickle\n",
    "from sklearn.feature_selection import mutual_info_regression\n",
    "from scipy import stats\n",
    "import rpy2"
   ]
  },
  {
   "cell_type": "code",
   "execution_count": 21,
   "metadata": {},
   "outputs": [],
   "source": [
    "#loading the rpy2 pacakge to use the R package nlcor\n",
    "from rpy2.robjects.packages import importr\n",
    "import rpy2.robjects.packages as rpackages\n",
    "nlcor=importr('nlcor')\n",
    "import rpy2.robjects.numpy2ri\n",
    "rpy2.robjects.numpy2ri.activate()"
   ]
  },
  {
   "cell_type": "code",
   "execution_count": 5,
   "metadata": {
    "id": "OxvAXLLFnl7d"
   },
   "outputs": [],
   "source": [
    "#defining the class MDN\n",
    "class MDN_module(tf.keras.Model):\n",
    "\n",
    "    def __init__(self, neurons=15, components = 1):\n",
    "        super(MDN_module, self).__init__(name=\"MDN_module\")\n",
    "        self.neurons = neurons\n",
    "        self.components = components\n",
    "\n",
    "        #chaging activation to relu from linear, changin relu to sigmoid \n",
    "        for i in range(1,3):\n",
    "          s=\"self\"+\".h\"+str(i)+\"= Dense(neurons, activation=\\\"relu\\\", name=\"+\"'h\"+str(i)+\"')\"\n",
    "          exec(s)\n",
    "        self.alphas = Dense(components, activation=\"softmax\", name=\"alphas\")\n",
    "        self.mus = Dense(components, activation=\"linear\",name=\"mus\") \n",
    "        self.sigmas = Dense(components, activation=\"nnelu\",name=\"sigmas\") #activation changed from linear to default\n",
    "        self.pvec = Concatenate(name=\"pvec\")\n",
    "        \n",
    "    def call(self, inputs):\n",
    "        x=self.h1(inputs)\n",
    "        #x=self.inputA(inputs)\n",
    "        x=self.h2(x)\n",
    "        alpha_v = self.alphas(x)\n",
    "        mu_v = self.mus(x)\n",
    "        sigma_v = self.sigmas(x)\n",
    "        \n",
    "        return self.pvec([alpha_v,mu_v, sigma_v])"
   ]
  },
  {
   "cell_type": "code",
   "execution_count": 6,
   "metadata": {
    "id": "7DSPXmR1ogiH"
   },
   "outputs": [],
   "source": [
    "no_parameters=3\n",
    "components=1\n",
    "def nnelu(input):\n",
    "    \"\"\" Computes the Non-Negative Exponential Linear Unit\n",
    "    \"\"\"\n",
    "    return tf.add(tf.constant(1, dtype=tf.float32), tf.nn.elu(input))\n",
    "\n",
    "def slice_parameter_vectors(parameter_vector):\n",
    "    \"\"\" Returns an unpacked list of paramter vectors.\n",
    "    \"\"\"\n",
    "    return [parameter_vector[:,i*components:(i+1\n",
    "    )*components] for i in range(no_parameters)]\n",
    "\n",
    "def gnll_loss(y, parameter_vector):\n",
    "    \"\"\" Computes the mean negative log-likelihood loss of y given the mixture parameters.\n",
    "    \"\"\"\n",
    "    alpha,mu,sigma = slice_parameter_vectors(parameter_vector) # Unpack parameter vectors\n",
    "    #tf.print(sigma)\n",
    "    gm = tfd.MixtureSameFamily(\n",
    "           mixture_distribution=tfd.Categorical(probs=alpha),\n",
    "           components_distribution=tfd.Normal(\n",
    "           loc=mu,       \n",
    "           scale=sigma))\n",
    "    \n",
    "    \n",
    "    \n",
    "    log_likelihood =  gm.log_prob(tf.transpose(y)) # Evaluate log-probability of y \n",
    "    return -tf.reduce_mean(log_likelihood, axis=-1) \n",
    "\n",
    "tf.keras.utils.get_custom_objects().update({'nnelu': Activation(nnelu)})\n",
    "\n",
    "def gnll_eval(y,alpha, mu, sigma):\n",
    "    \"\"\" Computes the mean negative log-likelihood loss of y given the mixture parameters.\n",
    "    \"\"\"\n",
    "    gm = tfd.MixtureSameFamily(\n",
    "        mixture_distribution=tfd.Categorical(probs=alpha),\n",
    "        components_distribution=tfd.Normal(\n",
    "            loc=mu,       \n",
    "            scale=sigma))\n",
    "    log_likelihood = gm.log_prob(tf.transpose(y))\n",
    "    return -tf.reduce_mean(log_likelihood, axis=-1)\n",
    "\n",
    "\n",
    "def eval_mdn_model(x_test, y_test, mdn_model):\n",
    "    \"\"\" Evaluate the model to get the loss for the given x and y \n",
    "    \"\"\"\n",
    "    y_pred = mdn_model.predict(np.reshape(x_test,newshape=(len(x_test),-1)))\n",
    "    alpha,mu,sigma = slice_parameter_vectors(y_pred)\n",
    "    mdn_nll = gnll_eval(y_test.astype(np.float32),alpha, mu, sigma).numpy()\n",
    "    return mdn_nll\n",
    "#reshapefunction\n",
    "def reshapevar(X):\n",
    "  \"\"\"\n",
    "  Function to reshape the vector for the input \n",
    "  \"\"\"\n",
    "  return np.reshape(X,newshape=(len(X),-1))"
   ]
  },
  {
   "cell_type": "code",
   "execution_count": 7,
   "metadata": {
    "id": "T6sJ7ffirsnB"
   },
   "outputs": [],
   "source": [
    "def compute_loss(P,Q):\n",
    "  \"\"\" Compute the loss for the given pair\n",
    "  \"\"\"\n",
    "  opt = tf.optimizers.Adam(1e-2)\n",
    "  mdn_PQ = MDN_module()\n",
    "  mdn_PQ.compile(loss=gnll_loss, optimizer=opt)\n",
    "  mdn_PQ.fit(x=reshapevar(P), y=np.array(Q).T,epochs=100,  batch_size=64,verbose=0)\n",
    "  return eval_mdn_model(P,Q,mdn_PQ)\n"
   ]
  },
  {
   "cell_type": "code",
   "execution_count": 8,
   "metadata": {
    "id": "X6V8X2QFpmC7"
   },
   "outputs": [],
   "source": [
    "def shuffleBtimes(P,Q,B):\n",
    "  \"\"\" Shuffle Q B times and compute the loss \n",
    "  \"\"\"\n",
    "  loss=[]\n",
    "  for i in range(0,B):\n",
    "      loss.append(compute_loss(P,np.random.permutation(Q)))\n",
    "  return loss\n"
   ]
  },
  {
   "cell_type": "code",
   "execution_count": 57,
   "metadata": {
    "id": "iUW3ikOHu6PO"
   },
   "outputs": [],
   "source": [
    "def LinearLABData():\n",
    "  \"\"\" Generate the linear data \n",
    "  \"\"\"\n",
    "  L = np.random.binomial(1,0.5,1000)  \n",
    "  beta0 = np.ones(1000)-0.4\n",
    "  #beta1 = 0.5\n",
    "  beta1=3\n",
    "  beta2= 0.3\n",
    "  beta3=0.8\n",
    "  eps0 = np.random.standard_normal(1000)\n",
    "  eps1 = np.random.standard_normal(1000)\n",
    "  A = beta0 + beta1*L + eps0\n",
    "  B = beta2+ beta3*A + eps1 \n",
    "  plt.scatter(A,B)\n",
    "  plt.title(\"A vs B\")\n",
    "  plt.xlabel(\"A\")\n",
    "  plt.ylabel(\"B\")\n",
    "  return [L,A,B]"
   ]
  },
  {
   "cell_type": "code",
   "execution_count": 80,
   "metadata": {
    "id": "OOIw2i80ugk6"
   },
   "outputs": [],
   "source": [
    "def residual(P,Q):\n",
    "  \"\"\" Calculate the residual \n",
    "  \"\"\"\n",
    "  opt = tf.optimizers.Adam(1e-2)\n",
    "  mdn_PQ = MDN_module()\n",
    "  mdn_PQ.compile(loss=gnll_loss, optimizer=opt)\n",
    "  mdn_PQ.fit(x=reshapevar(P), y=np.array(Q).T,epochs=100,  batch_size=64,verbose=0)\n",
    "  y_pred = mdn_PQ.predict(np.reshape(P,newshape=(len(P),-1)))\n",
    "  #model=sm.OLS(Q,P).fit() return model.resid #Linear residual\n",
    "  #non linear residual\n",
    "  print(y_pred)\n",
    "  print(Q)\n",
    "  print(Q-y_pred[:,0])\n",
    "  return (Q-y_pred[:,0])\n",
    "  "
   ]
  },
  {
   "cell_type": "code",
   "execution_count": 59,
   "metadata": {},
   "outputs": [],
   "source": [
    "yeast_name=\"\"\n",
    "def yeast_data(i,ind):\n",
    "    '''\n",
    "    Function to return the trios with the gndtruth 0/1 based on i and the number based on ind \n",
    "    '''\n",
    "    global yeast_name\n",
    "    yeast_name=\"yeast_\"+str(i)+\"_\"+str(ind)\n",
    "    ds = eval(\"dataset_\"+str(i)+\"[\"+str(ind)+\"]\")\n",
    "    L_dist = np.array(ds[0]) #np.array(ds[0])\n",
    "    A_dist = np.array(ds[1])\n",
    "    B_dist = np.array(ds[2])\n",
    "    plt.scatter(A_dist,B_dist)\n",
    "    plt.title(\"A vs B\")\n",
    "    plt.xlabel(\"A\")\n",
    "    plt.ylabel(\"B\")\n",
    "    return [L_dist,A_dist,B_dist]"
   ]
  },
  {
   "cell_type": "code",
   "execution_count": 48,
   "metadata": {},
   "outputs": [],
   "source": [
    "def calculate_pvalue(original,loss_list,test):\n",
    "    '''\n",
    "    calculate the p value \n",
    "    '''\n",
    "    if(test==1 or test==2):\n",
    "        return sum(i < original for i in loss_list)/len(loss_list)\n",
    "    \n",
    "    return sum(i > original for i in loss_list)/len(loss_list)\n",
    "    "
   ]
  },
  {
   "cell_type": "code",
   "execution_count": 45,
   "metadata": {},
   "outputs": [],
   "source": [
    "def stratify_B_n_times(L,A,B,n):\n",
    "    '''\n",
    "    Stratify B wrt to L\n",
    "    '''\n",
    "    loss=[]\n",
    "    indices_1 = [i for i, x in enumerate(L) if x == 1]\n",
    "    indices_0 = [i for i, x in enumerate(L) if x == 0]\n",
    "    for i in range(0,n):\n",
    "      \n",
    "      B_dist_temp=np.zeros(len(B))\n",
    "      mod_indices_1=random.sample(indices_1,len(indices_1))\n",
    "      for i in range(len(indices_1)):\n",
    "        B_dist_temp[indices_1[i]]=B[mod_indices_1[i]]\n",
    "\n",
    "      mod_indices_0=random.sample(indices_0,len(indices_0))\n",
    "      for i in range(len(indices_0)):\n",
    "        B_dist_temp[indices_0[i]]=B[mod_indices_0[i]]\n",
    "      loss.append(compute_loss(L,residual(A,B_dist_temp)))\n",
    "\n",
    "    return loss \n",
    "\n",
    "\n"
   ]
  },
  {
   "cell_type": "code",
   "execution_count": 60,
   "metadata": {
    "colab": {
     "base_uri": "https://localhost:8080/",
     "height": 295
    },
    "id": "8NWufrxKokcX",
    "outputId": "b8f25bde-64db-4b27-86fb-05f7a5cf39cc"
   },
   "outputs": [
    {
     "data": {
      "image/png": "[encoded data removed]",
      "text/plain": [
       "<Figure size 432x288 with 1 Axes>"
      ]
     },
     "metadata": {
      "needs_background": "light"
     },
     "output_type": "display_data"
    }
   ],
   "source": [
    "random.seed(24)\n",
    "shuffles=10\n",
    "#L,A,B=LinearLABData()\n",
    "L,A,B=yeast_data(1,444)\n"
   ]
  },
  {
   "cell_type": "code",
   "execution_count": 81,
   "metadata": {},
   "outputs": [
    {
     "name": "stdout",
     "output_type": "stream",
     "text": [
      "[[ 1.          0.21549964  0.4932338 ]\n",
      " [ 1.          0.04293688  0.47826403]\n",
      " [ 1.         -0.01895968  0.44529462]\n",
      " ...\n",
      " [ 1.          0.04533006  0.4793102 ]\n",
      " [ 1.          0.31730005  0.49075752]\n",
      " [ 1.          0.09998875  0.49358726]]\n",
      "[-0.4944018  -0.48745416  0.14591189 ...  0.0318627  -0.38148647\n",
      " -0.06058811]\n",
      "[-1.4944018  -1.48745416 -0.85408811 ... -0.9681373  -1.38148647\n",
      " -1.06058811]\n",
      "[[ 1.          0.17154889  0.5081367 ]\n",
      " [ 1.          0.0154406   0.490712  ]\n",
      " [ 1.         -0.06024096  0.448761  ]\n",
      " ...\n",
      " [ 1.          0.01735686  0.4918236 ]\n",
      " [ 1.          0.26499522  0.5060144 ]\n",
      " [ 1.          0.04778766  0.504752  ]]\n",
      "[-0.4944018  -0.48745416  0.14591189 ...  0.0318627  -0.38148647\n",
      " -0.06058811]\n",
      "[-1.4944018  -1.48745416 -0.85408811 ... -0.9681373  -1.38148647\n",
      " -1.06058811]\n",
      "[[ 1.          0.16452067  0.5116096 ]\n",
      " [ 1.         -0.01135474  0.48161495]\n",
      " [ 1.         -0.09121214  0.4449469 ]\n",
      " ...\n",
      " [ 1.         -0.00792155  0.4831835 ]\n",
      " [ 1.          0.25784302  0.5156642 ]\n",
      " [ 1.          0.04943888  0.50260824]]\n",
      "[-0.4944018  -0.48745416  0.14591189 ...  0.0318627  -0.38148647\n",
      " -0.06058811]\n",
      "[-1.4944018  -1.48745416 -0.85408811 ... -0.9681373  -1.38148647\n",
      " -1.06058811]\n",
      "[[ 1.          0.20789133  0.51891553]\n",
      " [ 1.          0.05819286  0.5004587 ]\n",
      " [ 1.         -0.01856627  0.4602145 ]\n",
      " ...\n",
      " [ 1.          0.06015422  0.5015283 ]\n",
      " [ 1.          0.30067897  0.515142  ]\n",
      " [ 1.          0.09619632  0.51656747]]\n",
      "[-0.4944018  -0.48745416  0.14591189 ...  0.0318627  -0.38148647\n",
      " -0.06058811]\n",
      "[-1.4944018  -1.48745416 -0.85408811 ... -0.9681373  -1.38148647\n",
      " -1.06058811]\n",
      "[[ 1.          0.10722653  0.50460714]\n",
      " [ 1.         -0.0480638   0.48424548]\n",
      " [ 1.         -0.11620963  0.44582057]\n",
      " ...\n",
      " [ 1.         -0.04467795  0.48561323]\n",
      " [ 1.          0.20180845  0.50643635]\n",
      " [ 1.          0.01168804  0.5002294 ]]\n",
      "[-0.4944018  -0.48745416  0.14591189 ...  0.0318627  -0.38148647\n",
      " -0.06058811]\n",
      "[-1.4944018  -1.48745416 -0.85408811 ... -0.9681373  -1.38148647\n",
      " -1.06058811]\n",
      "[[ 1.          0.12351616  0.50253725]\n",
      " [ 1.         -0.03754507  0.47604477]\n",
      " [ 1.         -0.11948296  0.43101323]\n",
      " ...\n",
      " [ 1.         -0.03547039  0.47724408]\n",
      " [ 1.          0.21461333  0.49685073]\n",
      " [ 1.          0.00254633  0.49711722]]\n",
      "[-0.4944018  -0.48745416  0.14591189 ...  0.0318627  -0.38148647\n",
      " -0.06058811]\n",
      "[-1.4944018  -1.48745416 -0.85408811 ... -0.9681373  -1.38148647\n",
      " -1.06058811]\n",
      "[[ 1.          0.18790148  0.5092486 ]\n",
      " [ 1.          0.01560014  0.4909246 ]\n",
      " [ 1.         -0.06367934  0.4497162 ]\n",
      " ...\n",
      " [ 1.          0.01760752  0.4920156 ]\n",
      " [ 1.          0.28037864  0.50401014]\n",
      " [ 1.          0.05922858  0.5088028 ]]\n",
      "[-0.4944018  -0.48745416  0.14591189 ...  0.0318627  -0.38148647\n",
      " -0.06058811]\n",
      "[-1.4944018  -1.48745416 -0.85408811 ... -0.9681373  -1.38148647\n",
      " -1.06058811]\n",
      "[[ 1.          0.19926228  0.50593424]\n",
      " [ 1.          0.0078217   0.4856975 ]\n",
      " [ 1.         -0.07472198  0.4374739 ]\n",
      " ...\n",
      " [ 1.          0.00991173  0.48698515]\n",
      " [ 1.          0.3062549   0.5054546 ]\n",
      " [ 1.          0.09289838  0.5030681 ]]\n",
      "[-0.4944018  -0.48745416  0.14591189 ...  0.0318627  -0.38148647\n",
      " -0.06058811]\n",
      "[-1.4944018  -1.48745416 -0.85408811 ... -0.9681373  -1.38148647\n",
      " -1.06058811]\n",
      "[[ 1.          0.23763844  0.5109623 ]\n",
      " [ 1.          0.04171003  0.49679744]\n",
      " [ 1.         -0.03183559  0.44589818]\n",
      " ...\n",
      " [ 1.          0.04639433  0.50203806]\n",
      " [ 1.          0.32913578  0.50220233]\n",
      " [ 1.          0.10055523  0.5054063 ]]\n",
      "[-0.4944018  -0.48745416  0.14591189 ...  0.0318627  -0.38148647\n",
      " -0.06058811]\n",
      "[-1.4944018  -1.48745416 -0.85408811 ... -0.9681373  -1.38148647\n",
      " -1.06058811]\n",
      "[[ 1.          0.1603848   0.5032508 ]\n",
      " [ 1.         -0.0226099   0.4864875 ]\n",
      " [ 1.         -0.10609389  0.44889176]\n",
      " ...\n",
      " [ 1.         -0.02049605  0.48747927]\n",
      " [ 1.          0.26895782  0.5016333 ]\n",
      " [ 1.          0.01535226  0.50034946]]\n",
      "[-0.4944018  -0.48745416  0.14591189 ...  0.0318627  -0.38148647\n",
      " -0.06058811]\n",
      "[-1.4944018  -1.48745416 -0.85408811 ... -0.9681373  -1.38148647\n",
      " -1.06058811]\n",
      "[[ 1.          0.21354102  0.4986667 ]\n",
      " [ 1.          0.03911505  0.4859798 ]\n",
      " [ 1.         -0.03999919  0.45108986]\n",
      " ...\n",
      " [ 1.          0.04109341  0.48696768]\n",
      " [ 1.          0.32097927  0.49326414]\n",
      " [ 1.          0.08668759  0.49900317]]\n",
      "[-0.4944018  -0.48745416  0.14591189 ...  0.0318627  -0.38148647\n",
      " -0.06058811]\n",
      "[-1.4944018  -1.48745416 -0.85408811 ... -0.9681373  -1.38148647\n",
      " -1.06058811]\n",
      "0.0\n",
      "0.0\n",
      "0.5\n"
     ]
    }
   ],
   "source": [
    "\n",
    "A_shuffle=np.copy(A)\n",
    "B_shuffle=np.copy(B)\n",
    "loss_list_LA=shuffleBtimes(L,A_shuffle,shuffles)\n",
    "loss_list_LB=shuffleBtimes(L,B_shuffle,shuffles)\n",
    "loss_list_Bresidual=stratify_B_n_times(L,A_shuffle,B_shuffle,shuffles) #conditional independence test\n",
    "true_LA=compute_loss(L,A)\n",
    "true_LB=compute_loss(L,B)\n",
    "true_LBresidual=compute_loss(L,residual(A,B))\n",
    "print(calculate_pvalue(true_LA,loss_list_LA,1))\n",
    "print(calculate_pvalue(true_LB,loss_list_LB,2))\n",
    "print(calculate_pvalue(true_LBresidual,loss_list_Bresidual,3))\n",
    "#true_LindB_A=compute_loss(L,B_resid)\n"
   ]
  },
  {
   "cell_type": "code",
   "execution_count": 69,
   "metadata": {},
   "outputs": [
    {
     "data": {
      "text/plain": [
       "[0.74681723,\n",
       " 0.74853647,\n",
       " 0.7494433,\n",
       " 0.74988216,\n",
       " 0.74885696,\n",
       " 0.74878865,\n",
       " 0.7499578,\n",
       " 0.7490468,\n",
       " 0.7473355,\n",
       " 0.74946165]"
      ]
     },
     "execution_count": 69,
     "metadata": {},
     "output_type": "execute_result"
    }
   ],
   "source": [
    "loss_list_LB"
   ]
  },
  {
   "cell_type": "code",
   "execution_count": 27,
   "metadata": {},
   "outputs": [
    {
     "data": {
      "text/plain": [
       "'yeast_1_444'"
      ]
     },
     "execution_count": 27,
     "metadata": {},
     "output_type": "execute_result"
    }
   ],
   "source": [
    "yeast_name "
   ]
  },
  {
   "cell_type": "code",
   "execution_count": 109,
   "metadata": {
    "colab": {
     "base_uri": "https://localhost:8080/"
    },
    "id": "4zfCEe9r8DcW",
    "outputId": "d98f4675-d52a-4717-adf3-c2aabbb436ba"
   },
   "outputs": [],
   "source": [
    "pickle_items=[loss_list_LA,loss_list_LB,loss_list_LindB_A,true_LA,true_LB,true_LindB_A]\n",
    "file_name=str(shuffles)+\"shuffles\"+yeast_name+\".pkl\"\n",
    "open_file = open(file_name, \"wb\")\n",
    "pickle.dump(pickle_items, open_file)\n",
    "open_file.close()\n"
   ]
  },
  {
   "cell_type": "code",
   "execution_count": 37,
   "metadata": {
    "colab": {
     "base_uri": "https://localhost:8080/"
    },
    "id": "1SaPyLVQ8QT7",
    "outputId": "921fe364-62d6-4c2d-a6be-0c9e8e60a74c"
   },
   "outputs": [],
   "source": [
    "file_name=\"100shufflesyeast_1_444.pkl\"\n",
    "open_file = open(file_name, \"rb\")\n",
    "\n",
    "loaded_list = pickle.load(open_file)\n",
    "\n",
    "open_file.close()"
   ]
  },
  {
   "cell_type": "code",
   "execution_count": 41,
   "metadata": {},
   "outputs": [],
   "source": [
    "loss_list_LA,loss_list_LB,loss_list_LindB_A,true_LA,true_LB,true_LindB_A=loaded_list"
   ]
  },
  {
   "cell_type": "code",
   "execution_count": 82,
   "metadata": {},
   "outputs": [
    {
     "data": {
      "image/png": "[encoded data removed]",
      "text/plain": [
       "<Figure size 1080x504 with 3 Axes>"
      ]
     },
     "metadata": {
      "needs_background": "light"
     },
     "output_type": "display_data"
    }
   ],
   "source": [
    "basket=20\n",
    "fig, axs = plt.subplots(1, 3,figsize =(15, 7),tight_layout = True)\n",
    "axs[0].hist(loss_list_LA,bins=basket,range=[min(min(loss_list_LA),true_LA),max(max(loss_list_LA),true_LA)])\n",
    "axs[0].set_title(\"Loss LA\")\n",
    "axs[0].axvline(true_LA,linestyle='dashed',color='red')\n",
    "axs[1].hist(loss_list_LB,bins=basket,range=[min(min(loss_list_LA),true_LA),max(max(loss_list_LB),true_LB)])\n",
    "axs[1].set_title(\"Loss LB\")\n",
    "axs[1].axvline(true_LB,linestyle='dashed',color='red')\n",
    "axs[2].hist(loss_list_Bresidual,bins=basket)#,range=[min(min(loss_list_LA),true_LA),max(max(loss_list_LindB_A),true_LindB_A)])\n",
    "axs[2].set_title(\"Loss LindB_A\")\n",
    "axs[2].axvline(true_LBresidual,linestyle='dashed',color='red')\n",
    "plt.show()"
   ]
  },
  {
   "cell_type": "code",
   "execution_count": 36,
   "metadata": {},
   "outputs": [
    {
     "data": {
      "text/plain": [
       "-0.068573"
      ]
     },
     "execution_count": 36,
     "metadata": {},
     "output_type": "execute_result"
    }
   ],
   "source": [
    "true_LA\n"
   ]
  }
 ],
 "metadata": {
  "colab": {
   "collapsed_sections": [],
   "name": "CITNonLinear.ipynb",
   "provenance": []
  },
  "kernelspec": {
   "display_name": "Python 3 (ipykernel)",
   "language": "python",
   "name": "python3"
  },
  "language_info": {
   "codemirror_mode": {
    "name": "ipython",
    "version": 3
   },
   "file_extension": ".py",
   "mimetype": "text/x-python",
   "name": "python",
   "nbconvert_exporter": "python",
   "pygments_lexer": "ipython3",
   "version": "3.9.7"
  }
 },
 "nbformat": 4,
 "nbformat_minor": 1
}
