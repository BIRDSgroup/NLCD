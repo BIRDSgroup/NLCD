{
 "cells": [
  {
   "cell_type": "code",
   "execution_count": 559,
   "metadata": {},
   "outputs": [],
   "source": [
    "#loading yeast groundtruth 0 data\n",
    "yeast=open(\"yeast_residual_data_full_1000_gt_2.txt\",\"r\")\n",
    "\n",
    "\n",
    "\n",
    "#yeast data read \n",
    "L=[]\n",
    "A=[]\n",
    "B=[]\n",
    "for i in range(0,1000):\n",
    "    line=yeast.readline()\n",
    "    #line=line[1:-2] #remove double quotes \n",
    "    #param = [j for j in line.split()]\n",
    "    #print(param)\n",
    "    #chrname.append(param[1])\n",
    "    #g1.append(param[2])\n",
    "    #g2.append(param[3])\n",
    "    line=yeast.readline()\n",
    "    l = [j for j in line.split()]\n",
    "    L.append([int(i) for i in l])\n",
    "    line=yeast.readline()\n",
    "    a = [j for j in line.split()]\n",
    "    A.append([float(i) for i in a])\n",
    "    line=yeast.readline()\n",
    "    b = [j for j in line.split()]\n",
    "    B.append([float(i) for i in b])\n",
    "dataset_0 = [i for i in zip(L,A,B)]\n"
   ]
  },
  {
   "cell_type": "code",
   "execution_count": 560,
   "metadata": {},
   "outputs": [],
   "source": [
    "#loading yeast groundtruth 1 data\n",
    "yeast=open(\"yeast_residual_data_full_1000_gt_1.txt\",\"r\")\n",
    "\n",
    "\n",
    "\n",
    "#yeast data read \n",
    "L=[]\n",
    "A=[]\n",
    "B=[]\n",
    "for i in range(0,1000):\n",
    "    line=yeast.readline()\n",
    "    #line=line[1:-2] #remove double quotes \n",
    "    #param = [j for j in line.split()]\n",
    "    #print(param)\n",
    "    #chrname.append(param[1])\n",
    "    #g1.append(param[2])\n",
    "    #g2.append(param[3])\n",
    "    line=yeast.readline()\n",
    "    l = [j for j in line.split()]\n",
    "    L.append([int(i) for i in l])\n",
    "    line=yeast.readline()\n",
    "    a = [j for j in line.split()]\n",
    "    A.append([float(i) for i in a])\n",
    "    line=yeast.readline()\n",
    "    b = [j for j in line.split()]\n",
    "    B.append([float(i) for i in b])\n",
    "dataset_1 = [i for i in zip(L,A,B)]\n",
    "\n",
    "#reshapefunction\n",
    "\n"
   ]
  },
  {
   "cell_type": "code",
   "execution_count": 561,
   "metadata": {
    "colab": {
     "base_uri": "https://localhost:8080/"
    },
    "id": "qd6CiVe-jyEn",
    "outputId": "b4187c26-21ff-4edc-e194-db58fd55f233"
   },
   "outputs": [],
   "source": [
    "#loading the libraries\n",
    "from tensorflow_probability import distributions as tfd\n",
    "import tensorflow as tf\n",
    "from tensorflow.keras.layers import Input, Dense, Activation, Concatenate\n",
    "\n",
    "from sklearn.linear_model import LinearRegression\n",
    "from sklearn.model_selection import train_test_split\n",
    "from sklearn.preprocessing import MinMaxScaler\n",
    "from sklearn.datasets import load_boston\n",
    "from sklearn.linear_model import LinearRegression\n",
    "import matplotlib.pyplot as plt\n",
    "import seaborn as sns\n",
    "import random\n",
    "import numpy as np\n",
    "import statsmodels.api as sm\n",
    "import pickle\n",
    "from sklearn.feature_selection import mutual_info_regression\n",
    "from scipy import stats\n",
    "import rpy2"
   ]
  },
  {
   "cell_type": "code",
   "execution_count": 562,
   "metadata": {},
   "outputs": [],
   "source": [
    "#loading the rpy2 pacakge to use the R package nlcor\n",
    "from rpy2.robjects.packages import importr\n",
    "import rpy2.robjects.packages as rpackages\n",
    "nlcor=importr('nlcor')\n",
    "import rpy2.robjects.numpy2ri\n",
    "rpy2.robjects.numpy2ri.activate()"
   ]
  },
  {
   "cell_type": "code",
   "execution_count": 563,
   "metadata": {
    "id": "OxvAXLLFnl7d"
   },
   "outputs": [],
   "source": [
    "#defining the class MDN\n",
    "class MDN_module(tf.keras.Model):\n",
    "\n",
    "    def __init__(self, neurons=15, components = 1):\n",
    "        super(MDN_module, self).__init__(name=\"MDN_module\")\n",
    "        self.neurons = neurons\n",
    "        self.components = components\n",
    "\n",
    "        #chaging activation to relu from linear, changin relu to sigmoid \n",
    "        for i in range(1,3):\n",
    "          s=\"self\"+\".h\"+str(i)+\"= Dense(neurons, activation=\\\"relu\\\", name=\"+\"'h\"+str(i)+\"')\"\n",
    "          exec(s)\n",
    "        self.alphas = Dense(components, activation=\"softmax\", name=\"alphas\")\n",
    "        self.mus = Dense(components, activation=\"linear\",name=\"mus\") \n",
    "        self.sigmas = Dense(components, activation=\"nnelu\",name=\"sigmas\") #activation changed from linear to default\n",
    "        self.pvec = Concatenate(name=\"pvec\")\n",
    "        \n",
    "    def call(self, inputs):\n",
    "        x=self.h1(inputs)\n",
    "        #x=self.inputA(inputs)\n",
    "        x=self.h2(x)\n",
    "        alpha_v = self.alphas(x)\n",
    "        mu_v = self.mus(x)\n",
    "        sigma_v = self.sigmas(x)\n",
    "        \n",
    "        return self.pvec([alpha_v,mu_v, sigma_v])"
   ]
  },
  {
   "cell_type": "code",
   "execution_count": 564,
   "metadata": {
    "id": "7DSPXmR1ogiH"
   },
   "outputs": [],
   "source": [
    "no_parameters=3\n",
    "components=1\n",
    "def nnelu(input):\n",
    "    \"\"\" Computes the Non-Negative Exponential Linear Unit\n",
    "    \"\"\"\n",
    "    return tf.add(tf.constant(1, dtype=tf.float32), tf.nn.elu(input))\n",
    "\n",
    "def slice_parameter_vectors(parameter_vector):\n",
    "    \"\"\" Returns an unpacked list of paramter vectors.\n",
    "    \"\"\"\n",
    "    return [parameter_vector[:,i*components:(i+1\n",
    "    )*components] for i in range(no_parameters)]\n",
    "\n",
    "def gnll_loss(y, parameter_vector):\n",
    "    \"\"\" Computes the mean negative log-likelihood loss of y given the mixture parameters.\n",
    "    \"\"\"\n",
    "    alpha,mu,sigma = slice_parameter_vectors(parameter_vector) # Unpack parameter vectors\n",
    "    #tf.print(sigma)\n",
    "    gm = tfd.MixtureSameFamily(\n",
    "           mixture_distribution=tfd.Categorical(probs=alpha),\n",
    "           components_distribution=tfd.Normal(\n",
    "           loc=mu,       \n",
    "           scale=sigma))\n",
    "    \n",
    "    \n",
    "    \n",
    "    log_likelihood =  gm.log_prob(tf.transpose(y)) # Evaluate log-probability of y \n",
    "    return -tf.reduce_mean(log_likelihood, axis=-1) \n",
    "\n",
    "tf.keras.utils.get_custom_objects().update({'nnelu': Activation(nnelu)})\n",
    "\n",
    "def gnll_eval(y,alpha, mu, sigma):\n",
    "    \"\"\" Computes the mean negative log-likelihood loss of y given the mixture parameters.\n",
    "    \"\"\"\n",
    "    gm = tfd.MixtureSameFamily(\n",
    "        mixture_distribution=tfd.Categorical(probs=alpha),\n",
    "        components_distribution=tfd.Normal(\n",
    "            loc=mu,       \n",
    "            scale=sigma))\n",
    "    log_likelihood = gm.log_prob(tf.transpose(y))\n",
    "    return -tf.reduce_mean(log_likelihood, axis=-1)\n",
    "\n",
    "\n",
    "def eval_mdn_model(x_test, y_test, mdn_model):\n",
    "    \"\"\" Evaluate the model to get the loss for the given x and y \n",
    "    \"\"\"\n",
    "    y_pred = mdn_model.predict(np.reshape(x_test,newshape=(len(x_test),-1)))\n",
    "    alpha,mu,sigma = slice_parameter_vectors(y_pred)\n",
    "    mdn_nll = gnll_eval(y_test.astype(np.float32),alpha, mu, sigma).numpy()\n",
    "    return mdn_nll\n",
    "#reshapefunction\n",
    "def reshapevar(X):\n",
    "  \"\"\"\n",
    "  Function to reshape the vector for the input \n",
    "  \"\"\"\n",
    "  return np.reshape(X,newshape=(len(X),-1))"
   ]
  },
  {
   "cell_type": "code",
   "execution_count": 565,
   "metadata": {
    "id": "T6sJ7ffirsnB"
   },
   "outputs": [],
   "source": [
    "def compute_loss(P,Q):\n",
    "    \"\"\" Compute the loss for the given pair\n",
    "    \"\"\"\n",
    "    opt = tf.optimizers.Adam(1e-2)\n",
    "    mdn_PQ = MDN_module()\n",
    "    mdn_PQ.compile(loss=gnll_loss, optimizer=opt)\n",
    "    mdn_PQ.fit(x=reshapevar(P), y=np.array(Q).T,epochs=100,  batch_size=64,verbose=0)\n",
    "    return eval_mdn_model(P,Q,mdn_PQ)\n"
   ]
  },
  {
   "cell_type": "code",
   "execution_count": 566,
   "metadata": {
    "id": "X6V8X2QFpmC7"
   },
   "outputs": [],
   "source": [
    "def shuffleBtimes(P,Q,B):\n",
    "    \"\"\" Shuffle Q B times and compute the loss \n",
    "    \"\"\"\n",
    "    loss=[]\n",
    "    for i in range(0,B):\n",
    "      loss.append(compute_loss(P,np.random.permutation(Q)))\n",
    "    return loss\n"
   ]
  },
  {
   "cell_type": "code",
   "execution_count": 697,
   "metadata": {
    "id": "iUW3ikOHu6PO"
   },
   "outputs": [],
   "source": [
    "def LinearLABData():\n",
    "    \"\"\" Generate the linear data \n",
    "    \"\"\"\n",
    "    L = np.random.binomial(1,0.5,1000)  \n",
    "    beta0 = np.ones(1000)-0.4\n",
    "    #beta1 = 0.5\n",
    "    beta1=3\n",
    "    beta2= 0.3\n",
    "    beta3=0.8\n",
    "    eps0 = np.random.standard_normal(1000)\n",
    "    eps1 = np.random.standard_normal(1000)\n",
    "    A = beta0 + beta1*L + eps0\n",
    "    B = beta2+ beta3*A + eps1 \n",
    "    plt.scatter(A,B)\n",
    "    plt.title(\"A vs B\")\n",
    "    plt.xlabel(\"A\")\n",
    "    plt.ylabel(\"B\")\n",
    "    return [L,A,B]"
   ]
  },
  {
   "cell_type": "code",
   "execution_count": 568,
   "metadata": {
    "id": "OOIw2i80ugk6"
   },
   "outputs": [],
   "source": [
    "def residual(P,Q):\n",
    "    \"\"\" Calculate the residual \n",
    "    \"\"\"\n",
    "    #opt = tf.optimizers.Adam(1e-2)\n",
    "    #mdn_PQ = MDN_module()\n",
    "    #mdn_PQ.compile(loss=gnll_loss, optimizer=opt)\n",
    "    #changing epochs didnt make much difference\n",
    "    #mdn_PQ.fit(x=reshapevar(P), y=np.array(Q).T,epochs=100,  batch_size=64,verbose=0)\n",
    "    #y_pred = mdn_PQ.predict(np.reshape(P,newshape=(len(P),-1)))\n",
    "\n",
    "    model=sm.OLS(Q,P).fit() \n",
    "    #print(model.resid)\n",
    "    return model.resid #Linear residual\n",
    "    #non linear residual\n",
    "    # print(y_pred)\n",
    "    #print(Q)\n",
    "    #print(Q-y_pred[:,1])\n",
    "    #return (Q-y_pred[:,1])\n"
   ]
  },
  {
   "cell_type": "code",
   "execution_count": 10,
   "metadata": {},
   "outputs": [],
   "source": [
    "yeast_name=\"\"\n",
    "def yeast_data(i,ind):\n",
    "    '''\n",
    "    Function to return the trios with the gndtruth 0/1 based on i and the number based on ind \n",
    "    '''\n",
    "    global yeast_name\n",
    "    yeast_name=\"yeast_\"+str(i)+\"_\"+str(ind)\n",
    "    ds = eval(\"dataset_\"+str(i)+\"[\"+str(ind)+\"]\")\n",
    "    L_dist = np.array(ds[0]) #np.array(ds[0])\n",
    "    A_dist = np.array(ds[1])\n",
    "    B_dist = np.array(ds[2])\n",
    "    plt.scatter(A_dist,B_dist)\n",
    "    plt.title(\"A vs B\")\n",
    "    plt.xlabel(\"A\")\n",
    "    plt.ylabel(\"B\")\n",
    "    return [L_dist,A_dist,B_dist]"
   ]
  },
  {
   "cell_type": "code",
   "execution_count": 11,
   "metadata": {},
   "outputs": [],
   "source": [
    "def calculate_pvalue(original,loss_list,test):\n",
    "    '''\n",
    "    calculate the p value \n",
    "    '''\n",
    "    if(test==1 or test==2):\n",
    "        return sum(i < original for i in loss_list)/len(loss_list)\n",
    "    \n",
    "    return sum(i > original for i in loss_list)/len(loss_list)\n",
    "    "
   ]
  },
  {
   "cell_type": "code",
   "execution_count": 12,
   "metadata": {},
   "outputs": [],
   "source": [
    "def stratify_B_n_times(L,A,B,n):\n",
    "    '''\n",
    "    Stratify B wrt to L\n",
    "    '''\n",
    "    loss=[]\n",
    "    indices_1 = [i for i, x in enumerate(L) if x == 1]\n",
    "    indices_0 = [i for i, x in enumerate(L) if x == 0]\n",
    "    for i in range(0,n):\n",
    "\n",
    "        B_dist_temp=np.zeros(len(B))\n",
    "        mod_indices_1=random.sample(indices_1,len(indices_1))\n",
    "        for i in range(len(indices_1)):\n",
    "            B_dist_temp[indices_1[i]]=B[mod_indices_1[i]]\n",
    "\n",
    "        mod_indices_0=random.sample(indices_0,len(indices_0))\n",
    "        for i in range(len(indices_0)):\n",
    "            B_dist_temp[indices_0[i]]=B[mod_indices_0[i]]\n",
    "        #print(B_dist_temp)\n",
    "        loss.append(compute_loss(L,residual(A,B_dist_temp)))\n",
    "\n",
    "    return loss \n",
    "\n",
    "\n"
   ]
  },
  {
   "cell_type": "code",
   "execution_count": null,
   "metadata": {},
   "outputs": [],
   "source": [
    "random.seed(24)"
   ]
  },
  {
   "cell_type": "code",
   "execution_count": 720,
   "metadata": {
    "colab": {
     "base_uri": "https://localhost:8080/",
     "height": 295
    },
    "id": "8NWufrxKokcX",
    "outputId": "b8f25bde-64db-4b27-86fb-05f7a5cf39cc"
   },
   "outputs": [
    {
     "data": {
      "image/png": "[encoded data removed]",
      "text/plain": [
       "<Figure size 432x288 with 1 Axes>"
      ]
     },
     "metadata": {
      "needs_background": "light"
     },
     "output_type": "display_data"
    }
   ],
   "source": [
    "\n",
    "shuffles=10\n",
    "L,A,B=LinearLABData()\n",
    "#L,A,B=yeast_data(1,444)\n"
   ]
  },
  {
   "cell_type": "code",
   "execution_count": 25,
   "metadata": {},
   "outputs": [
    {
     "name": "stdout",
     "output_type": "stream",
     "text": [
      "0.0\n",
      "0.01\n",
      "1.0\n"
     ]
    }
   ],
   "source": [
    "\n",
    "A_shuffle=np.copy(A)\n",
    "B_shuffle=np.copy(B)\n",
    "#print(\"Original\",B_shuffle)\n",
    "loss_list_LA=shuffleBtimes(L,A_shuffle,shuffles)\n",
    "loss_list_LB=shuffleBtimes(L,B_shuffle,shuffles)\n",
    "loss_list_Bresidual=stratify_B_n_times(L,A_shuffle,B_shuffle,shuffles) #conditional independence test\n",
    "true_LA=compute_loss(L,A)\n",
    "true_LB=compute_loss(L,B)\n",
    "#print(\"Next\",B_shuffle)\n",
    "true_LBresidual=compute_loss(L,residual(A,B_shuffle))\n",
    "print(calculate_pvalue(true_LA,loss_list_LA,1))\n",
    "print(calculate_pvalue(true_LB,loss_list_LB,2))\n",
    "print(calculate_pvalue(true_LBresidual,loss_list_Bresidual,3))\n",
    "#true_LindB_A=compute_loss(L,B_resid)\n"
   ]
  },
  {
   "cell_type": "code",
   "execution_count": 65,
   "metadata": {},
   "outputs": [
    {
     "data": {
      "text/plain": [
       "[1.5364832,\n",
       " 1.561197,\n",
       " 1.5492481,\n",
       " 1.5398396,\n",
       " 1.518585,\n",
       " 1.5410371,\n",
       " 1.5459744,\n",
       " 1.539704,\n",
       " 1.5440611,\n",
       " 1.5692179]"
      ]
     },
     "execution_count": 65,
     "metadata": {},
     "output_type": "execute_result"
    }
   ],
   "source": [
    "loss_list_Bresidual"
   ]
  },
  {
   "cell_type": "code",
   "execution_count": 66,
   "metadata": {},
   "outputs": [
    {
     "data": {
      "text/plain": [
       "-1.0538787"
      ]
     },
     "execution_count": 66,
     "metadata": {},
     "output_type": "execute_result"
    }
   ],
   "source": [
    "true_LBresidual"
   ]
  },
  {
   "cell_type": "code",
   "execution_count": 27,
   "metadata": {},
   "outputs": [
    {
     "data": {
      "text/plain": [
       "'yeast_1_444'"
      ]
     },
     "execution_count": 27,
     "metadata": {},
     "output_type": "execute_result"
    }
   ],
   "source": [
    "yeast_name "
   ]
  },
  {
   "cell_type": "code",
   "execution_count": 109,
   "metadata": {
    "colab": {
     "base_uri": "https://localhost:8080/"
    },
    "id": "4zfCEe9r8DcW",
    "outputId": "d98f4675-d52a-4717-adf3-c2aabbb436ba"
   },
   "outputs": [],
   "source": [
    "pickle_items=[loss_list_LA,loss_list_LB,loss_list_LindB_A,true_LA,true_LB,true_LindB_A]\n",
    "file_name=str(shuffles)+\"shuffles\"+yeast_name+\".pkl\"\n",
    "open_file = open(file_name, \"wb\")\n",
    "pickle.dump(pickle_items, open_file)\n",
    "open_file.close()\n"
   ]
  },
  {
   "cell_type": "code",
   "execution_count": 37,
   "metadata": {
    "colab": {
     "base_uri": "https://localhost:8080/"
    },
    "id": "1SaPyLVQ8QT7",
    "outputId": "921fe364-62d6-4c2d-a6be-0c9e8e60a74c"
   },
   "outputs": [],
   "source": [
    "file_name=\"100shufflesyeast_1_444.pkl\"\n",
    "open_file = open(file_name, \"rb\")\n",
    "\n",
    "loaded_list = pickle.load(open_file)\n",
    "\n",
    "open_file.close()"
   ]
  },
  {
   "cell_type": "code",
   "execution_count": 41,
   "metadata": {},
   "outputs": [],
   "source": [
    "loss_list_LA,loss_list_LB,loss_list_LindB_A,true_LA,true_LB,true_LindB_A=loaded_list"
   ]
  },
  {
   "cell_type": "code",
   "execution_count": 18,
   "metadata": {},
   "outputs": [
    {
     "data": {
      "image/png": "[encoded data removed]",
      "text/plain": [
       "<Figure size 1080x504 with 3 Axes>"
      ]
     },
     "metadata": {
      "needs_background": "light"
     },
     "output_type": "display_data"
    }
   ],
   "source": [
    "basket=20\n",
    "fig, axs = plt.subplots(1, 3,figsize =(15, 7),tight_layout = True)\n",
    "axs[0].hist(loss_list_LA,bins=basket,range=[min(min(loss_list_LA),true_LA),max(max(loss_list_LA),true_LA)])\n",
    "axs[0].set_title(\"Loss LA\")\n",
    "axs[0].axvline(true_LA,linestyle='dashed',color='red')\n",
    "axs[1].hist(loss_list_LB,bins=basket,range=[min(min(loss_list_LA),true_LA),max(max(loss_list_LB),true_LB)])\n",
    "axs[1].set_title(\"Loss LB\")\n",
    "axs[1].axvline(true_LB,linestyle='dashed',color='red')\n",
    "axs[2].hist(loss_list_Bresidual,bins=basket)#,range=[min(min(loss_list_LA),true_LA),max(max(loss_list_LindB_A),true_LindB_A)])\n",
    "axs[2].set_title(\"Loss LindB_A\")\n",
    "axs[2].axvline(true_LBresidual,linestyle='dashed',color='red')\n",
    "plt.show()"
   ]
  },
  {
   "cell_type": "code",
   "execution_count": 19,
   "metadata": {},
   "outputs": [],
   "source": [
    "#not required now\n",
    "def calculate_pvalues_conditional_test(L,A,B):\n",
    "    B_residual=residual(A,B)\n",
    "    \n",
    "    return shuffleBtimes(L,B_residual,10)\n",
    "        \n",
    "        \n",
    "    "
   ]
  },
  {
   "cell_type": "code",
   "execution_count": 226,
   "metadata": {},
   "outputs": [],
   "source": [
    "#DEBUGGING"
   ]
  },
  {
   "cell_type": "code",
   "execution_count": 721,
   "metadata": {},
   "outputs": [],
   "source": [
    "A=(A-np.mean(A))/np.std(A)"
   ]
  },
  {
   "cell_type": "code",
   "execution_count": 722,
   "metadata": {},
   "outputs": [],
   "source": [
    "B=(B-np.mean(B))/np.std(B)"
   ]
  },
  {
   "cell_type": "code",
   "execution_count": 683,
   "metadata": {},
   "outputs": [
    {
     "data": {
      "text/plain": [
       "Text(0, 0.5, 'B')"
      ]
     },
     "execution_count": 683,
     "metadata": {},
     "output_type": "execute_result"
    },
    {
     "data": {
      "image/png": "[encoded data removed]",
      "text/plain": [
       "<Figure size 432x288 with 1 Axes>"
      ]
     },
     "metadata": {
      "needs_background": "light"
     },
     "output_type": "display_data"
    }
   ],
   "source": [
    "plt.scatter(A,B)\n",
    "plt.xlabel(\"A\")\n",
    "plt.ylabel(\"B\")"
   ]
  },
  {
   "cell_type": "code",
   "execution_count": 708,
   "metadata": {},
   "outputs": [
    {
     "data": {
      "text/plain": [
       "<matplotlib.collections.PathCollection at 0x7f5b5ecc1ac0>"
      ]
     },
     "execution_count": 708,
     "metadata": {},
     "output_type": "execute_result"
    },
    {
     "data": {
      "image/png": "[encoded data removed]",
      "text/plain": [
       "<Figure size 432x288 with 1 Axes>"
      ]
     },
     "metadata": {
      "needs_background": "light"
     },
     "output_type": "display_data"
    }
   ],
   "source": [
    "plt.scatter(L,residual(A,B))"
   ]
  },
  {
   "cell_type": "code",
   "execution_count": 539,
   "metadata": {},
   "outputs": [],
   "source": [
    "    opt = tf.optimizers.Adam(1e-2)\n",
    "    mdn_PQ = MDN_module()\n",
    "    \n",
    "    mdn_PQ.compile(loss=gnll_loss, optimizer=opt)\n",
    "    #changing epochs didnt make much difference\n",
    "    mdn_PQ.fit(x=reshapevar(A), y=np.array(B).T,epochs=100,  batch_size=64,verbose=0)\n",
    "    y_pred = mdn_PQ.predict(np.reshape(A,newshape=(len(A),-1)))"
   ]
  },
  {
   "cell_type": "code",
   "execution_count": 508,
   "metadata": {},
   "outputs": [
    {
     "data": {
      "text/plain": [
       "array([[ 1.        , -0.81753796,  0.17454636],\n",
       "       [ 1.        ,  0.84975815,  0.31248367],\n",
       "       [ 1.        , -0.68168616,  0.16151226],\n",
       "       ...,\n",
       "       [ 1.        ,  0.6409056 ,  0.23146218],\n",
       "       [ 1.        , -1.215146  ,  0.22053015],\n",
       "       [ 1.        ,  1.1560925 ,  0.48530424]], dtype=float32)"
      ]
     },
     "execution_count": 508,
     "metadata": {},
     "output_type": "execute_result"
    }
   ],
   "source": [
    "y_pred"
   ]
  },
  {
   "cell_type": "code",
   "execution_count": 540,
   "metadata": {},
   "outputs": [
    {
     "data": {
      "text/plain": [
       "<matplotlib.collections.PathCollection at 0x7f5b5771e5e0>"
      ]
     },
     "execution_count": 540,
     "metadata": {},
     "output_type": "execute_result"
    },
    {
     "data": {
      "image/png": "[encoded data removed]",
      "text/plain": [
       "<Figure size 432x288 with 1 Axes>"
      ]
     },
     "metadata": {
      "needs_background": "light"
     },
     "output_type": "display_data"
    }
   ],
   "source": [
    "plt.scatter(A,y_pred[:,1])\n",
    "plt.scatter(A,B)\n",
    "#plt.scatter(A,B-y_pred[:,1])"
   ]
  },
  {
   "cell_type": "code",
   "execution_count": 709,
   "metadata": {},
   "outputs": [
    {
     "data": {
      "text/plain": [
       "<matplotlib.collections.PathCollection at 0x7f5b5ec69df0>"
      ]
     },
     "execution_count": 709,
     "metadata": {},
     "output_type": "execute_result"
    },
    {
     "data": {
      "image/png": "[encoded data removed]",
      "text/plain": [
       "<Figure size 432x288 with 1 Axes>"
      ]
     },
     "metadata": {
      "needs_background": "light"
     },
     "output_type": "display_data"
    }
   ],
   "source": [
    "plt.scatter(A,B)"
   ]
  },
  {
   "cell_type": "code",
   "execution_count": 541,
   "metadata": {},
   "outputs": [],
   "source": [
    "g=(y_pred[:,1]-np.mean(y_pred[:,1]))/np.std(y_pred[:,1])"
   ]
  },
  {
   "cell_type": "code",
   "execution_count": 542,
   "metadata": {},
   "outputs": [],
   "source": [
    "e=B-g"
   ]
  },
  {
   "cell_type": "code",
   "execution_count": null,
   "metadata": {},
   "outputs": [],
   "source": []
  },
  {
   "cell_type": "code",
   "execution_count": 543,
   "metadata": {},
   "outputs": [],
   "source": [
    "f=(e-np.mean(e))/np.std(e)"
   ]
  },
  {
   "cell_type": "code",
   "execution_count": 544,
   "metadata": {},
   "outputs": [
    {
     "data": {
      "text/plain": [
       "<matplotlib.collections.PathCollection at 0x7f5b576e8490>"
      ]
     },
     "execution_count": 544,
     "metadata": {},
     "output_type": "execute_result"
    },
    {
     "data": {
      "image/png": "[encoded data removed]",
      "text/plain": [
       "<Figure size 432x288 with 1 Axes>"
      ]
     },
     "metadata": {
      "needs_background": "light"
     },
     "output_type": "display_data"
    }
   ],
   "source": [
    "plt.scatter(A,f)"
   ]
  },
  {
   "cell_type": "code",
   "execution_count": 545,
   "metadata": {},
   "outputs": [
    {
     "data": {
      "text/plain": [
       "<matplotlib.collections.PathCollection at 0x7f5b57644d00>"
      ]
     },
     "execution_count": 545,
     "metadata": {},
     "output_type": "execute_result"
    },
    {
     "data": {
      "image/png": "[encoded data removed]",
      "text/plain": [
       "<Figure size 432x288 with 1 Axes>"
      ]
     },
     "metadata": {
      "needs_background": "light"
     },
     "output_type": "display_data"
    }
   ],
   "source": [
    "plt.scatter(L,f)"
   ]
  },
  {
   "cell_type": "code",
   "execution_count": 546,
   "metadata": {},
   "outputs": [
    {
     "data": {
      "text/plain": [
       "1.3917453"
      ]
     },
     "execution_count": 546,
     "metadata": {},
     "output_type": "execute_result"
    }
   ],
   "source": [
    "compute_loss(L,f)"
   ]
  },
  {
   "cell_type": "code",
   "execution_count": 723,
   "metadata": {},
   "outputs": [
    {
     "data": {
      "text/plain": [
       "array([-6.31027548e-01,  1.04117398e+00, -1.15092817e+00,  5.18809844e-01,\n",
       "       -4.91571692e-01, -7.89234233e-01, -9.53893493e-01, -9.88380970e-01,\n",
       "       -2.51158781e-01,  8.76646390e-01,  9.12551035e-01, -6.49964987e-01,\n",
       "        5.28907553e-01, -5.19468946e-01, -5.61195914e-01,  5.46353601e-01,\n",
       "       -6.30876933e-01, -1.65866469e-01,  1.15108098e+00,  1.01766572e+00,\n",
       "        7.26309420e-01,  3.09734021e-01, -1.48833253e+00, -4.29133411e-01,\n",
       "       -6.50000004e-01, -7.01593031e-01, -1.62885584e+00,  1.32449699e+00,\n",
       "        1.73260120e-01, -1.07835162e+00,  1.39360873e-01,  1.85730125e+00,\n",
       "       -5.59015391e-01, -1.61102421e-01,  7.07313914e-01,  5.92045175e-01,\n",
       "        8.09402026e-01,  4.56142864e-01,  7.38121867e-01, -1.15332608e+00,\n",
       "       -1.01719730e+00, -1.32116871e+00, -8.26183011e-01,  1.95773448e-01,\n",
       "        7.49148753e-02, -1.10003687e+00,  8.04283878e-01,  1.99338477e-01,\n",
       "        3.19364449e-01, -8.17653431e-01, -5.66504765e-01, -5.09234207e-01,\n",
       "        9.76752657e-01, -7.15945806e-02, -9.45361844e-01, -9.54927049e-01,\n",
       "        3.50699233e-01,  1.61550114e+00, -1.30804917e-01, -1.01668032e+00,\n",
       "       -7.31435282e-01, -6.14568850e-01,  7.21981437e-01,  3.77967250e-01,\n",
       "       -1.24310727e+00, -1.52164580e+00, -1.50541009e+00,  1.67501492e-01,\n",
       "        5.39345699e-01, -1.45409878e+00, -1.24049609e+00, -1.36815237e+00,\n",
       "        3.15636001e-01,  1.63180768e+00, -2.27450367e-01,  4.67384696e-01,\n",
       "       -8.44688561e-01,  8.47154582e-01,  6.28008239e-01, -1.33887154e+00,\n",
       "        8.55949658e-01, -9.80094790e-01,  2.48489934e-01, -4.46921728e-01,\n",
       "        7.25336366e-01,  9.72056638e-01, -3.66414330e-01,  3.80368447e-01,\n",
       "        6.80335726e-01, -5.37871193e-01, -1.25267529e+00,  1.08159274e-01,\n",
       "        1.87074172e-02,  3.93636514e-01,  6.37637323e-01, -9.55879258e-01,\n",
       "        1.09737477e+00, -4.98687693e-01,  8.01139926e-01, -7.91194785e-01,\n",
       "       -3.60705008e-01,  5.34835794e-01,  5.08875852e-01, -1.30289669e+00,\n",
       "       -3.38621821e-01,  7.69068471e-01, -3.58429989e-01, -7.64212750e-01,\n",
       "       -9.90330202e-01,  1.22489291e+00,  7.45843123e-01,  9.08843965e-01,\n",
       "       -1.00306419e+00,  9.44703032e-01, -6.31802216e-01, -2.17983999e-01,\n",
       "       -1.01450074e-01,  3.55943168e-02,  2.53020739e-02, -7.08777493e-01,\n",
       "        8.20536917e-01,  5.54927975e-01, -7.01574027e-01,  2.87683525e-01,\n",
       "        3.42386681e-01, -1.16698151e+00, -7.06912357e-01, -1.15734950e+00,\n",
       "       -9.48257276e-01, -1.12708759e+00, -1.09676403e-01,  3.02170905e-01,\n",
       "        5.72158799e-01,  8.09153701e-01,  7.03151145e-01,  1.64185591e+00,\n",
       "        3.57294235e-01,  9.54564957e-02,  1.05970733e+00, -1.57616237e+00,\n",
       "       -3.22938848e-01,  1.66349349e+00, -5.62925909e-01, -1.34789194e+00,\n",
       "       -1.39224197e-01,  1.28674408e-01, -9.37987848e-01, -6.46694909e-01,\n",
       "       -9.61696680e-01,  6.55313863e-01, -7.65141949e-01,  1.19597157e+00,\n",
       "        5.27346532e-01, -5.06879956e-01,  4.58512379e-01, -3.47318678e-01,\n",
       "        1.28693707e+00,  1.83550569e-01,  9.39465867e-01,  5.76075437e-01,\n",
       "       -9.40286938e-01, -7.05970317e-01, -1.10016520e+00, -7.80854105e-01,\n",
       "        1.55875864e+00,  1.52674111e-01,  4.62986306e-01,  1.01356427e+00,\n",
       "        7.48402948e-01,  1.50047004e+00,  1.38506321e+00, -5.62469020e-01,\n",
       "        6.35483765e-01,  1.28448219e+00, -1.90802265e-01, -6.03513801e-01,\n",
       "       -1.52756835e+00, -4.05046776e-01, -9.98871329e-01, -1.11553799e+00,\n",
       "       -5.29479620e-01,  1.20017960e+00,  5.04432774e-01,  8.95412725e-01,\n",
       "        3.44160853e-01, -8.34207267e-01, -9.03455403e-01, -2.56804104e-01,\n",
       "        1.47042182e+00, -1.07445033e+00,  7.88610146e-01,  6.18002406e-01,\n",
       "        2.55749817e-01, -8.24883683e-01,  1.27128651e+00, -8.86177750e-01,\n",
       "       -5.38379606e-01, -6.67577587e-02, -7.55405869e-01,  1.62497430e-01,\n",
       "       -1.22060224e-01,  7.78546414e-01, -8.94784957e-01,  5.23704014e-01,\n",
       "       -7.38623185e-01, -6.37300697e-01,  1.33048707e-01,  5.54372893e-01,\n",
       "       -1.59374808e-01,  9.63955610e-01, -1.06312523e+00,  3.03925912e-01,\n",
       "       -1.63885037e-01, -9.78530808e-01,  1.15878705e+00, -4.44916485e-01,\n",
       "        4.83828881e-01,  5.43771087e-01,  1.45244392e+00, -8.44333154e-01,\n",
       "       -1.54664456e+00,  1.49635758e-01, -3.50260632e-01,  4.50694308e-01,\n",
       "       -5.96657604e-01,  1.28016672e-01, -6.06786886e-01,  1.51775094e-01,\n",
       "       -9.95389741e-01, -1.38944959e+00, -2.57541060e-01, -4.24847438e-01,\n",
       "        1.30218509e+00,  1.36220283e+00, -9.13585040e-01,  1.56303897e-01,\n",
       "        1.14834965e+00,  4.82208957e-01,  5.50932771e-01,  8.62579162e-01,\n",
       "       -1.80367614e+00,  3.84361366e-01,  7.29446272e-01,  1.08137960e+00,\n",
       "       -1.90132054e-01, -7.76348183e-01, -5.41926660e-01, -7.31339367e-02,\n",
       "        1.10174500e+00, -2.64154157e-01,  6.50964305e-01, -5.24663046e-01,\n",
       "       -1.05103046e+00, -9.84293273e-02,  5.77159509e-01,  2.82693343e-01,\n",
       "       -8.43257166e-01,  1.37667110e+00,  6.85129349e-01,  4.64743666e-01,\n",
       "        4.37663180e-01, -1.02155009e+00, -1.23676212e+00, -2.00261623e-01,\n",
       "       -5.26441352e-01,  6.83343774e-01, -9.69733404e-01,  6.72742575e-01,\n",
       "        4.67957880e-01, -4.31736056e-01,  1.02986890e-01, -2.99662244e-01,\n",
       "       -6.06246317e-01, -1.01464365e+00, -1.69386762e-01, -4.34682296e-01,\n",
       "       -1.13803817e+00,  3.88288188e-01,  4.66525509e-01,  1.95568509e+00,\n",
       "        8.49387363e-01, -9.08886839e-01,  7.10486580e-02,  1.19738220e+00,\n",
       "       -3.75392887e-01,  6.80365078e-01,  4.87904332e-01, -8.03619651e-01,\n",
       "       -2.09869742e-01, -4.69436890e-01,  7.08009029e-01,  4.71134276e-01,\n",
       "        1.03160585e+00,  5.81463604e-01, -1.35182324e+00,  1.40651921e-01,\n",
       "       -5.18835835e-01,  2.44282391e-01, -1.26438000e+00, -1.55271193e-01,\n",
       "       -1.36804358e+00,  7.00928270e-02, -1.03493407e+00,  5.90713931e-02,\n",
       "        8.66576007e-01,  7.98602336e-01,  3.60765960e-01, -4.28721184e-01,\n",
       "        5.83869600e-01, -1.79126028e+00, -5.51450661e-01, -8.61646021e-01,\n",
       "       -1.11918923e+00, -1.09994485e+00,  1.20097046e-01, -5.34298886e-01,\n",
       "       -1.15348139e+00, -1.11856498e+00,  1.28703703e+00,  1.67063563e-01,\n",
       "       -8.97277055e-01, -1.72323600e+00,  7.60428749e-01, -3.76207219e-01,\n",
       "        1.01733415e+00,  8.29284835e-01, -4.03831929e-01,  1.70263144e+00,\n",
       "       -3.10407767e-01, -5.64457007e-01,  7.68963604e-01,  5.70175430e-01,\n",
       "        6.97058972e-01, -9.69138779e-01, -7.68951665e-01,  6.28582709e-01,\n",
       "        1.41697360e-01, -4.59874588e-01, -1.07196897e+00, -5.42491515e-01,\n",
       "       -8.22333751e-01,  6.30942956e-01, -6.68174323e-01, -4.53592969e-01,\n",
       "        4.56678209e-01,  1.83135462e-01, -8.37586789e-01,  8.56366380e-01,\n",
       "       -3.63721254e-01, -9.97702313e-01, -4.17536934e-01,  1.79740619e-02,\n",
       "       -1.53061163e+00,  1.17868103e+00,  5.46397605e-01,  4.43158503e-01,\n",
       "        1.23629535e+00,  8.24484031e-01, -1.71801495e+00, -1.37294592e+00,\n",
       "        8.58036221e-01,  4.79323981e-01,  8.49804453e-01,  6.17604101e-01,\n",
       "       -8.18613159e-01,  1.23796786e+00,  1.48566281e+00,  1.07169950e+00,\n",
       "        5.59189931e-01,  1.17675867e+00,  1.73922477e-01, -1.31186127e+00,\n",
       "       -9.62305714e-02, -1.21241816e-01, -1.03603276e+00,  6.04586813e-01,\n",
       "        6.50283062e-02,  1.53672660e+00, -8.14651741e-01, -1.26976024e+00,\n",
       "        4.96091425e-01, -3.88446699e-02, -3.62265999e-01, -2.95459574e-01,\n",
       "        8.09119798e-01,  1.11933368e+00, -9.85592012e-01,  2.12754391e-02,\n",
       "       -4.97859795e-01,  1.02953009e+00,  5.20651341e-01, -1.13191598e+00,\n",
       "        6.36917416e-01,  3.62723872e-01,  8.67921868e-02,  4.43609729e-01,\n",
       "       -5.01232430e-01, -7.92941788e-01, -6.97230132e-01, -5.99667884e-01,\n",
       "        7.24950923e-01,  8.76599710e-01, -1.24221089e+00,  1.65488916e+00,\n",
       "       -8.57774913e-01,  9.03331980e-01, -7.41102354e-01, -3.75711036e-02,\n",
       "       -5.23201072e-01, -1.55994365e+00, -1.08517663e-01, -8.26911694e-01,\n",
       "        7.26979689e-01, -6.99544853e-02,  8.39881844e-02, -4.42932330e-02,\n",
       "       -8.27561374e-01, -2.04490465e+00, -5.26302812e-01, -1.25031563e-01,\n",
       "        1.45285520e+00,  1.51681886e+00,  8.48469916e-01, -5.68906144e-01,\n",
       "        3.17569205e-01,  9.84100000e-01,  4.91370220e-03, -6.47430454e-01,\n",
       "       -6.60211274e-01,  4.54088861e-01,  5.65410937e-01, -8.99203261e-01,\n",
       "       -6.10170934e-01,  4.06187292e-01,  2.09305074e-01, -1.39975485e+00,\n",
       "       -5.48417055e-01,  1.37624811e+00, -1.01685210e+00,  1.14268118e+00,\n",
       "        2.61381201e-01, -1.77035522e-01, -1.23521512e+00, -3.74077234e-01,\n",
       "       -8.89782474e-01,  2.97648720e-01, -9.51513757e-01,  3.40477880e-01,\n",
       "        6.24538263e-01, -1.07004199e-01,  1.49821741e+00,  1.31304971e+00,\n",
       "        4.54799800e-01,  2.11720192e+00,  4.10307857e-01, -5.36253516e-01,\n",
       "       -8.06631982e-01, -6.09339674e-01, -1.98851384e-01, -4.50158887e-01,\n",
       "       -5.49592570e-02, -6.11891480e-02,  1.05294892e+00,  8.03591941e-01,\n",
       "       -4.18303292e-01, -6.71771852e-01,  1.17118505e+00, -6.19122657e-01,\n",
       "       -1.34426293e+00, -1.55554096e+00, -1.37819786e+00, -1.54458356e+00,\n",
       "        7.25115802e-01,  7.72878744e-01,  1.57251384e+00, -7.56529521e-01,\n",
       "       -7.33758024e-01,  6.32158389e-01,  6.10019969e-01,  1.28356421e+00,\n",
       "        6.81741058e-01,  4.49115465e-01,  5.21234437e-01, -6.48991879e-01,\n",
       "        8.51588540e-01, -8.91515010e-01,  4.65597471e-01,  9.14572425e-01,\n",
       "       -9.61156105e-01,  2.08746196e-01,  6.38265243e-03, -9.26932902e-01,\n",
       "        5.57468331e-01,  8.59769495e-02,  8.16787357e-01, -1.95158004e-01,\n",
       "       -3.08513111e-02,  7.56517966e-01,  6.37563960e-01,  3.59791903e-01,\n",
       "        1.65780565e-01,  7.56404182e-01, -7.68139537e-02, -3.49663902e-01,\n",
       "        3.42116596e-02,  3.89145976e-01,  1.72436746e+00, -2.86175535e-01,\n",
       "       -6.50143580e-01, -1.47318087e+00,  4.16983733e-01, -1.07816191e+00,\n",
       "        4.43008600e-01,  1.04740021e+00,  4.91759914e-01, -9.49293174e-01,\n",
       "        7.07898341e-01, -6.02759282e-01,  4.24187920e-01, -1.89484098e-01,\n",
       "        1.45116141e+00, -1.15797672e+00,  5.17986458e-01, -5.58315323e-02,\n",
       "       -3.72946308e-01,  5.60064865e-02,  8.14436954e-01,  1.21060465e+00,\n",
       "       -1.59747643e+00,  1.20587213e+00, -7.85671505e-01,  1.38598898e-01,\n",
       "       -3.90202980e-01, -4.69887246e-01, -6.39512432e-03, -8.61077128e-01,\n",
       "        1.06534050e+00,  1.49508835e+00,  8.42242772e-02,  6.37468036e-01,\n",
       "        4.76267626e-01, -4.46979443e-01, -2.75185866e-01,  1.01513530e-01,\n",
       "       -3.45220333e-01,  5.77517191e-01, -8.42607188e-01, -5.63110934e-01,\n",
       "        8.90643494e-01, -1.48745718e+00,  5.26551020e-01, -1.19491114e+00,\n",
       "        1.49109545e+00,  1.23617834e+00,  3.87178474e-01,  1.44993906e+00,\n",
       "        1.26320966e+00,  7.83620237e-01,  7.75555352e-01,  4.13791371e-01,\n",
       "        1.22512437e+00,  5.30699388e-01,  1.52739751e-01,  7.41808748e-01,\n",
       "       -5.00500205e-01,  3.70886436e-01,  8.98527786e-01,  6.21316733e-01,\n",
       "        2.62057816e-01, -1.16571211e-01,  1.51528616e-01,  5.03994227e-01,\n",
       "        8.75458723e-01,  1.12658788e+00,  2.55398604e-02,  1.37316877e-01,\n",
       "        5.74077457e-01, -4.49694410e-01,  1.67611331e+00, -9.15494022e-01,\n",
       "        4.66736161e-01, -8.01510713e-01,  8.83861994e-01, -1.60441982e-01,\n",
       "        5.47682083e-01, -6.35903159e-01,  1.65161508e+00, -9.66976691e-01,\n",
       "       -4.60995561e-01,  3.51369125e-01,  4.30137288e-01, -1.34497775e+00,\n",
       "        9.83117341e-02,  4.52825292e-02, -5.21084887e-02,  7.62343787e-01,\n",
       "        1.75645659e+00, -5.22510152e-01, -2.83385798e-01,  9.55371977e-01,\n",
       "        4.85613439e-01,  1.09796786e+00, -3.45991787e-01, -5.39994203e-01,\n",
       "        1.06184039e+00, -1.42349785e+00,  1.14194059e+00, -8.88207566e-01,\n",
       "        8.65023457e-01, -1.19866809e+00,  5.27844387e-01, -9.88991484e-01,\n",
       "        4.06999892e-01,  2.53470144e-01, -5.99851398e-01,  3.54437163e-01,\n",
       "        1.33717198e-03, -4.35267916e-01, -2.11034485e-01, -1.61832467e+00,\n",
       "       -3.04422569e-02,  5.42016385e-01,  2.23243202e-01,  1.04176846e+00,\n",
       "       -9.85523991e-01,  9.81460562e-01, -6.52533542e-01,  3.83037234e-01,\n",
       "        4.64508420e-01,  5.69679399e-01,  9.27697873e-01,  7.89291716e-01,\n",
       "       -9.23558459e-03,  9.29761013e-01, -2.25287646e-01, -7.55838594e-01,\n",
       "        6.68673790e-01, -4.06144492e-01,  7.72955702e-01,  3.17666997e-01,\n",
       "        1.02425325e+00,  4.61920809e-01, -5.92544990e-01, -2.01853304e-01,\n",
       "       -4.67500390e-01, -1.27338029e+00, -6.20962852e-01,  6.94621827e-01,\n",
       "        1.30985079e+00, -6.95142990e-01,  2.94852025e-01, -1.02755667e-01,\n",
       "       -9.29411298e-01, -7.70085867e-01,  1.41378848e-01,  1.13234261e+00,\n",
       "        6.73424550e-01,  4.56617602e-01,  8.69751228e-01,  1.05017805e+00,\n",
       "       -8.33831068e-01, -2.15736552e-01, -5.73031688e-01, -5.72094184e-01,\n",
       "        1.15129256e+00, -2.17925891e-01,  1.55305844e+00,  2.93957473e-01,\n",
       "       -5.12187643e-01, -2.04694253e-01,  1.33985602e+00,  3.11629204e-01,\n",
       "        6.49957055e-01, -8.89553055e-01,  1.22075528e-01, -4.35282174e-01,\n",
       "       -2.08898581e-01, -4.72064184e-01,  1.08095136e+00, -6.76025048e-01,\n",
       "       -3.78866783e-01,  1.06967265e+00, -3.76947854e-01, -1.43126179e+00,\n",
       "       -7.08249518e-01, -5.51828932e-01,  8.96578975e-01, -2.05259617e-01,\n",
       "        6.97936314e-01, -9.01840131e-02,  5.16228904e-01, -2.28670427e-01,\n",
       "       -9.49018279e-01,  2.73346621e-02,  1.38189090e+00, -1.23625604e+00,\n",
       "       -7.13676135e-01,  1.28305161e+00,  2.02593514e-01,  9.62955607e-01,\n",
       "       -1.30201041e+00, -1.61929515e-01, -4.65875466e-01,  9.65055257e-01,\n",
       "       -1.12221251e+00, -3.61618535e-01, -1.16134522e+00, -1.23264348e+00,\n",
       "       -9.89530415e-01, -1.13999769e+00,  2.59692727e-01,  7.11856516e-01,\n",
       "        1.22555094e+00, -1.23884108e+00, -1.09553481e+00,  6.17887753e-01,\n",
       "       -6.41617555e-01, -7.65464701e-01, -1.34215078e+00, -1.18752938e+00,\n",
       "       -2.93989793e-02, -1.67263531e+00, -5.02162166e-01, -4.24938072e-01,\n",
       "       -6.19522816e-01, -7.79078493e-01,  8.56972224e-01, -2.00389230e-01,\n",
       "       -1.33967434e+00, -1.45731704e+00,  6.46436471e-01,  7.03157584e-01,\n",
       "        1.19918579e+00, -1.06709521e+00, -1.02628637e+00, -9.02231631e-01,\n",
       "        1.12267012e+00,  4.89584945e-01,  1.06172209e+00,  7.88750208e-01,\n",
       "        1.96936730e-01,  4.95465711e-01, -1.88921873e-01, -8.32410077e-01,\n",
       "        1.67200420e+00,  4.93974534e-01, -7.20089918e-01,  1.47057508e+00,\n",
       "       -6.95772866e-01, -8.94536936e-01, -4.23856690e-01, -2.60499915e-01,\n",
       "        7.97246025e-01,  6.82467125e-01, -1.24073018e+00, -1.03750002e-01,\n",
       "        7.85403013e-01, -6.45445355e-01,  1.61098007e+00, -6.71397837e-01,\n",
       "       -1.08835745e+00, -1.95689739e-01, -1.42010667e+00, -8.67478103e-01,\n",
       "        2.49629360e-01,  1.18297353e+00,  9.05393323e-01, -8.40786356e-01,\n",
       "       -8.26574219e-01,  2.04458419e-01,  1.93828607e-01, -3.65219612e-01,\n",
       "        3.49244953e-01,  6.53871376e-01, -1.35271148e+00, -1.74586227e+00,\n",
       "       -5.78425517e-01,  8.87397533e-01, -1.14491519e+00, -5.23398715e-01,\n",
       "       -5.61007173e-01,  6.25548153e-01, -1.65745565e+00, -6.16118389e-01,\n",
       "        8.32953995e-01,  5.64617549e-01, -8.75927480e-02, -8.05649588e-01,\n",
       "       -6.71533078e-01,  6.09109249e-01, -1.04684850e+00,  1.27105124e+00,\n",
       "        1.29522457e+00, -1.41709913e+00,  1.39312843e-01, -5.95403745e-01,\n",
       "       -3.92385616e-01, -4.91836852e-01, -1.79755637e-01, -5.42493611e-01,\n",
       "        4.56573651e-02,  6.08171876e-02,  1.06795755e+00,  1.47347073e+00,\n",
       "        8.77854418e-01, -1.11653352e+00,  8.30817011e-01,  5.95312120e-01,\n",
       "        1.32203208e+00,  5.41319860e-02, -5.33277298e-01,  5.38561577e-01,\n",
       "        7.59148766e-01,  3.77622354e-01,  5.76660141e-02, -1.59364252e+00,\n",
       "        1.22714459e+00,  2.02677790e-01,  1.48219251e+00, -1.17607514e+00,\n",
       "        5.27770182e-01, -5.18525783e-01, -6.45876684e-01,  6.76680249e-01,\n",
       "       -8.21410889e-01, -1.33675551e+00,  9.17622562e-01, -3.84710080e-01,\n",
       "       -8.78656876e-01,  9.40779966e-01,  8.16113592e-01,  1.85949533e+00,\n",
       "        9.12710371e-01,  6.67244230e-01,  5.33222469e-01,  4.03300245e-01,\n",
       "        1.50246363e+00,  4.01532985e-01, -9.28393496e-01, -6.22248791e-01,\n",
       "       -2.34733211e-01, -9.01438887e-01, -8.62897564e-01,  7.46245305e-01,\n",
       "       -4.43147281e-01, -9.34252646e-01, -1.02797281e+00,  7.31391428e-01,\n",
       "        1.55986970e+00,  1.01630750e+00, -1.17205588e+00, -4.30050941e-01,\n",
       "       -1.10697998e+00,  1.21951504e+00, -1.23806649e+00,  6.30862533e-01,\n",
       "        9.95877470e-01, -4.37739361e-01,  5.24210113e-01, -9.79234076e-01,\n",
       "       -8.95751732e-02,  8.51309890e-01,  9.35044180e-01,  6.64868378e-01,\n",
       "        5.74004745e-01, -5.62002360e-01,  1.15370420e-01, -1.02987413e+00,\n",
       "        1.22632427e+00, -4.26453585e-01,  8.92330511e-01,  5.10293622e-01,\n",
       "        2.33606559e-01, -1.20878606e+00, -8.88635776e-01,  1.25995424e+00,\n",
       "       -2.28591086e-01,  7.99084541e-01,  1.34598527e+00,  7.65578632e-01,\n",
       "        9.87048033e-01,  2.28170980e-01,  7.71752867e-01,  3.70563629e-01,\n",
       "        8.44871855e-01,  1.14061662e+00, -6.09614335e-01,  1.43179246e-02,\n",
       "       -7.37455718e-01,  9.55562517e-01, -7.79993694e-01,  4.89638123e-01,\n",
       "       -1.12652241e+00, -8.04354377e-01,  2.69559060e-01,  2.14073665e-01,\n",
       "        1.40831632e+00,  5.71141459e-01,  2.94353949e-01, -2.11996191e-01,\n",
       "        2.16790362e-01,  7.46517756e-01, -7.04704798e-01, -1.20616064e+00,\n",
       "        1.26130026e+00,  3.84590980e-01, -5.07570384e-01, -1.08554917e+00,\n",
       "        7.91143088e-01,  3.34746728e-01,  1.37976146e-01, -2.37657253e-01,\n",
       "       -5.34414762e-01, -4.35000910e-01, -8.39167147e-01,  4.31724792e-01,\n",
       "        6.71856513e-01, -8.95345628e-01, -7.69964316e-01,  8.32378340e-01,\n",
       "        9.32307903e-01,  9.45172268e-01, -3.59210322e-01,  7.54235937e-01,\n",
       "        9.64514060e-02,  3.80313017e-01, -1.77653137e-02,  8.73838870e-02,\n",
       "       -3.72014852e-01, -5.39094668e-01, -1.24411582e+00,  5.73418691e-01,\n",
       "        7.45959312e-01, -3.10603452e-01,  3.89004887e-01,  4.41678181e-01,\n",
       "        7.25099528e-01,  6.54000542e-01, -1.46210447e-01,  1.40044902e+00,\n",
       "       -1.04233067e+00,  8.11424814e-01, -7.66255130e-01, -8.10493775e-01,\n",
       "        4.13853135e-01, -5.47200626e-01,  1.18631282e+00, -3.94066003e-01,\n",
       "        1.18948130e+00,  6.38423717e-02,  9.34416895e-01,  1.40595977e+00,\n",
       "       -4.19631735e-01, -2.90304616e-01, -2.83563331e-02,  6.05050417e-01,\n",
       "       -3.19614122e-01,  1.80147115e-02,  6.43830162e-02, -6.43324772e-01,\n",
       "       -7.13814427e-01,  2.99375560e-01, -6.22731100e-01,  6.93323170e-01,\n",
       "       -7.50682717e-01, -6.58446748e-01,  6.56761696e-01, -4.35329372e-01,\n",
       "       -3.02803474e-01,  4.33179827e-01, -1.21272054e+00, -4.85239332e-01,\n",
       "       -1.03163006e+00, -6.02253006e-01, -1.61011122e-01, -1.47796072e+00,\n",
       "       -1.99613830e-01, -1.12805236e+00, -8.85957168e-01,  1.58938345e+00,\n",
       "       -9.11498895e-01, -4.66664755e-01, -1.56790059e+00, -1.11220487e+00,\n",
       "        1.34563912e+00, -7.18106422e-01,  5.86669391e-01, -1.70725611e+00,\n",
       "       -1.78925953e-01,  3.54973261e-01,  5.32035219e-01,  8.54286180e-02,\n",
       "       -1.81571203e-01, -1.00802081e+00,  1.55397969e+00, -7.21015720e-01,\n",
       "       -3.67412057e-01, -3.94369537e-01, -8.19435075e-01, -6.84252137e-01])"
      ]
     },
     "execution_count": 723,
     "metadata": {},
     "output_type": "execute_result"
    }
   ],
   "source": [
    "a=sm.OLS(B,A).fit()\n",
    "a.predict()"
   ]
  },
  {
   "cell_type": "code",
   "execution_count": 724,
   "metadata": {},
   "outputs": [],
   "source": [
    "c=(a.resid-np.mean(a.resid))/np.std(a.resid)"
   ]
  },
  {
   "cell_type": "code",
   "execution_count": 659,
   "metadata": {},
   "outputs": [
    {
     "data": {
      "text/plain": [
       "Text(0, 0.5, 'B residual')"
      ]
     },
     "execution_count": 659,
     "metadata": {},
     "output_type": "execute_result"
    },
    {
     "data": {
      "image/png": "[encoded data removed]",
      "text/plain": [
       "<Figure size 432x288 with 1 Axes>"
      ]
     },
     "metadata": {
      "needs_background": "light"
     },
     "output_type": "display_data"
    }
   ],
   "source": [
    "plt.scatter(L,c,label=\"B residual\")\n",
    "plt.legend(loc=\"upper left\")\n",
    "plt.xlabel(\"L\")\n",
    "plt.ylabel(\"B residual\")"
   ]
  },
  {
   "cell_type": "code",
   "execution_count": 727,
   "metadata": {},
   "outputs": [
    {
     "data": {
      "text/plain": [
       "1.4186797"
      ]
     },
     "execution_count": 727,
     "metadata": {},
     "output_type": "execute_result"
    }
   ],
   "source": [
    "compute_loss(L,c)"
   ]
  },
  {
   "cell_type": "code",
   "execution_count": 728,
   "metadata": {},
   "outputs": [],
   "source": [
    "indices_1 = [i for i, x in enumerate(L) if x == 1]\n",
    "indices_0 = [i for i, x in enumerate(L) if x == 0]\n",
    "B_dist_temp=np.zeros(len(B))\n",
    "mod_indices_1=random.sample(indices_1,len(indices_1))\n",
    "for i in range(len(indices_1)):\n",
    "    B_dist_temp[indices_1[i]]=B[mod_indices_1[i]]\n",
    "\n",
    "mod_indices_0=random.sample(indices_0,len(indices_0))\n",
    "for i in range(len(indices_0)):\n",
    "    B_dist_temp[indices_0[i]]=B[mod_indices_0[i]]"
   ]
  },
  {
   "cell_type": "code",
   "execution_count": 729,
   "metadata": {},
   "outputs": [],
   "source": [
    "B_dist_temp=(B_dist_temp-np.mean(B_dist_temp))/ np.std(B_dist_temp)"
   ]
  },
  {
   "cell_type": "code",
   "execution_count": 662,
   "metadata": {},
   "outputs": [],
   "source": [
    "    opt = tf.optimizers.Adam(1e-2)\n",
    "    mdn_PQ = MDN_module()\n",
    "    mdn_PQ.compile(loss=gnll_loss, optimizer=opt)\n",
    "    #changing epochs didnt make much difference\n",
    "    mdn_PQ.fit(x=reshapevar(A), y=np.array(B_dist_temp).T,epochs=100,  batch_size=64,verbose=0)\n",
    "    y_pred = mdn_PQ.predict(np.reshape(A,newshape=(len(A),-1)))"
   ]
  },
  {
   "cell_type": "code",
   "execution_count": 525,
   "metadata": {},
   "outputs": [
    {
     "data": {
      "text/plain": [
       "<matplotlib.collections.PathCollection at 0x7f5b57c008e0>"
      ]
     },
     "execution_count": 525,
     "metadata": {},
     "output_type": "execute_result"
    },
    {
     "data": {
      "image/png": "[encoded data removed]",
      "text/plain": [
       "<Figure size 432x288 with 1 Axes>"
      ]
     },
     "metadata": {
      "needs_background": "light"
     },
     "output_type": "display_data"
    }
   ],
   "source": [
    "plt.scatter(A,y_pred[:,1])\n",
    "plt.scatter(A,B_dist_temp)"
   ]
  },
  {
   "cell_type": "code",
   "execution_count": 663,
   "metadata": {},
   "outputs": [
    {
     "data": {
      "text/plain": [
       "<matplotlib.collections.PathCollection at 0x7f5b5d228850>"
      ]
     },
     "execution_count": 663,
     "metadata": {},
     "output_type": "execute_result"
    },
    {
     "data": {
      "image/png": "[encoded data removed]",
      "text/plain": [
       "<Figure size 432x288 with 1 Axes>"
      ]
     },
     "metadata": {
      "needs_background": "light"
     },
     "output_type": "display_data"
    }
   ],
   "source": [
    "plt.scatter(A,B-y_pred[:,1])"
   ]
  },
  {
   "cell_type": "code",
   "execution_count": 664,
   "metadata": {},
   "outputs": [],
   "source": [
    "i= (y_pred[:,1]-np.mean(y_pred[:,1]))/np.std(y_pred[:,1])"
   ]
  },
  {
   "cell_type": "code",
   "execution_count": 552,
   "metadata": {},
   "outputs": [],
   "source": [
    "h=B-i"
   ]
  },
  {
   "cell_type": "code",
   "execution_count": 553,
   "metadata": {},
   "outputs": [],
   "source": [
    "h=(h-np.mean(h))/np.std(h)"
   ]
  },
  {
   "cell_type": "code",
   "execution_count": 554,
   "metadata": {},
   "outputs": [
    {
     "data": {
      "text/plain": [
       "<matplotlib.collections.PathCollection at 0x7f5b57287fd0>"
      ]
     },
     "execution_count": 554,
     "metadata": {},
     "output_type": "execute_result"
    },
    {
     "data": {
      "image/png": "[encoded data removed]",
      "text/plain": [
       "<Figure size 432x288 with 1 Axes>"
      ]
     },
     "metadata": {
      "needs_background": "light"
     },
     "output_type": "display_data"
    }
   ],
   "source": [
    "plt.scatter(A,h)"
   ]
  },
  {
   "cell_type": "code",
   "execution_count": 555,
   "metadata": {},
   "outputs": [
    {
     "data": {
      "text/plain": [
       "1.3739283"
      ]
     },
     "execution_count": 555,
     "metadata": {},
     "output_type": "execute_result"
    }
   ],
   "source": [
    "compute_loss(L,h)"
   ]
  },
  {
   "cell_type": "code",
   "execution_count": 730,
   "metadata": {},
   "outputs": [
    {
     "data": {
      "text/plain": [
       "Text(0, 0.5, 'B_stratified')"
      ]
     },
     "execution_count": 730,
     "metadata": {},
     "output_type": "execute_result"
    },
    {
     "data": {
      "image/png": "[encoded data removed]",
      "text/plain": [
       "<Figure size 432x288 with 1 Axes>"
      ]
     },
     "metadata": {
      "needs_background": "light"
     },
     "output_type": "display_data"
    }
   ],
   "source": [
    "plt.scatter(A,B_dist_temp,label=\"A vs B strat\")\n",
    "b=sm.OLS(B_dist_temp,A).fit()\n",
    "#plt.scatter(A,b.predict())\n",
    "plt.scatter(A,b.resid,label=\"A vs B strat resid\")\n",
    "plt.legend(loc=\"upper left\")\n",
    "plt.xlabel(\"A\")\n",
    "plt.ylabel(\"B_stratified\")\n"
   ]
  },
  {
   "cell_type": "code",
   "execution_count": 731,
   "metadata": {},
   "outputs": [],
   "source": [
    "d=(b.resid-np.mean(b.resid))/np.std(b.resid)"
   ]
  },
  {
   "cell_type": "code",
   "execution_count": 717,
   "metadata": {},
   "outputs": [
    {
     "data": {
      "text/plain": [
       "<matplotlib.collections.PathCollection at 0x7f5b5eb181f0>"
      ]
     },
     "execution_count": 717,
     "metadata": {},
     "output_type": "execute_result"
    },
    {
     "data": {
      "image/png": "[encoded data removed]",
      "text/plain": [
       "<Figure size 432x288 with 1 Axes>"
      ]
     },
     "metadata": {
      "needs_background": "light"
     },
     "output_type": "display_data"
    }
   ],
   "source": [
    "plt.scatter(L,b.resid)"
   ]
  },
  {
   "cell_type": "code",
   "execution_count": 718,
   "metadata": {},
   "outputs": [
    {
     "data": {
      "text/plain": [
       "<matplotlib.collections.PathCollection at 0x7f5b5eaf1ac0>"
      ]
     },
     "execution_count": 718,
     "metadata": {},
     "output_type": "execute_result"
    },
    {
     "data": {
      "image/png": "[encoded data removed]",
      "text/plain": [
       "<Figure size 432x288 with 1 Axes>"
      ]
     },
     "metadata": {
      "needs_background": "light"
     },
     "output_type": "display_data"
    }
   ],
   "source": [
    "plt.scatter(L,d)"
   ]
  },
  {
   "cell_type": "code",
   "execution_count": 732,
   "metadata": {},
   "outputs": [
    {
     "data": {
      "text/plain": [
       "1.3784499"
      ]
     },
     "execution_count": 732,
     "metadata": {},
     "output_type": "execute_result"
    }
   ],
   "source": [
    "compute_loss(L,d)"
   ]
  },
  {
   "cell_type": "code",
   "execution_count": 570,
   "metadata": {},
   "outputs": [
    {
     "data": {
      "text/plain": [
       "Text(0, 0.5, 'B')"
      ]
     },
     "execution_count": 570,
     "metadata": {},
     "output_type": "execute_result"
    },
    {
     "data": {
      "image/png": "[encoded data removed]",
      "text/plain": [
       "<Figure size 432x288 with 1 Axes>"
      ]
     },
     "metadata": {
      "needs_background": "light"
     },
     "output_type": "display_data"
    }
   ],
   "source": [
    "plt.scatter(A,B)\n",
    "plt.xlabel(\"A\")\n",
    "plt.ylabel(\"B\")"
   ]
  },
  {
   "cell_type": "code",
   "execution_count": 613,
   "metadata": {},
   "outputs": [
    {
     "data": {
      "text/plain": [
       "Text(0, 0.5, 'Bresid')"
      ]
     },
     "execution_count": 613,
     "metadata": {},
     "output_type": "execute_result"
    },
    {
     "data": {
      "image/png": "[encoded data removed]",
      "text/plain": [
       "<Figure size 432x288 with 1 Axes>"
      ]
     },
     "metadata": {
      "needs_background": "light"
     },
     "output_type": "display_data"
    }
   ],
   "source": [
    "plt.scatter(A,B,label=\"B\")\n",
    "\n",
    "plt.scatter(A,a.predict(),label=\"B prediction\")\n",
    "plt.scatter(A,c,label=\"B residual norm\")\n",
    "plt.legend(loc=\"upper left\")\n",
    "plt.xlabel(\"A\")\n",
    "plt.ylabel(\"Bresid\")"
   ]
  },
  {
   "cell_type": "code",
   "execution_count": 600,
   "metadata": {},
   "outputs": [
    {
     "data": {
      "text/plain": [
       "Text(0, 0.5, 'B residual')"
      ]
     },
     "execution_count": 600,
     "metadata": {},
     "output_type": "execute_result"
    },
    {
     "data": {
      "image/png": "[encoded data removed]",
      "text/plain": [
       "<Figure size 432x288 with 1 Axes>"
      ]
     },
     "metadata": {
      "needs_background": "light"
     },
     "output_type": "display_data"
    }
   ],
   "source": [
    "plt.scatter(L,a.resid,label=\"B residual\")\n",
    "plt.legend(loc=\"upper left\")\n",
    "plt.xlabel(\"L\")\n",
    "plt.ylabel(\"B residual\")"
   ]
  },
  {
   "cell_type": "code",
   "execution_count": 620,
   "metadata": {},
   "outputs": [
    {
     "data": {
      "text/plain": [
       "1.3125007"
      ]
     },
     "execution_count": 620,
     "metadata": {},
     "output_type": "execute_result"
    }
   ],
   "source": [
    "compute_loss(L,c)"
   ]
  },
  {
   "cell_type": "code",
   "execution_count": 95,
   "metadata": {
    "scrolled": true
   },
   "outputs": [
    {
     "ename": "NameError",
     "evalue": "name 'B_residual' is not defined",
     "output_type": "error",
     "traceback": [
      "\u001b[0;31m---------------------------------------------------------------------------\u001b[0m",
      "\u001b[0;31mNameError\u001b[0m                                 Traceback (most recent call last)",
      "\u001b[0;32m/tmp/ipykernel_133756/238185447.py\u001b[0m in \u001b[0;36m<module>\u001b[0;34m\u001b[0m\n\u001b[0;32m----> 1\u001b[0;31m \u001b[0mplt\u001b[0m\u001b[0;34m.\u001b[0m\u001b[0mscatter\u001b[0m\u001b[0;34m(\u001b[0m\u001b[0mL\u001b[0m\u001b[0;34m,\u001b[0m\u001b[0mB_residual\u001b[0m\u001b[0;34m)\u001b[0m\u001b[0;34m\u001b[0m\u001b[0;34m\u001b[0m\u001b[0m\n\u001b[0m",
      "\u001b[0;31mNameError\u001b[0m: name 'B_residual' is not defined"
     ]
    }
   ],
   "source": [
    "plt.scatter(L,B_residual)"
   ]
  },
  {
   "cell_type": "code",
   "execution_count": 124,
   "metadata": {},
   "outputs": [
    {
     "data": {
      "text/plain": [
       "array([-9.61627908e-01, -1.10987128e+00,  1.23594298e+00,  9.51786163e-01,\n",
       "        1.78798696e-01, -7.08903956e-01,  9.04673428e-01,  1.67806443e+00,\n",
       "       -3.12542720e-01,  5.89729704e-01,  1.67647477e+00,  1.85233128e+00,\n",
       "       -1.28530702e+00,  1.03951114e+00,  1.02464178e+00, -1.13872893e+00,\n",
       "        1.39728568e+00, -9.30813494e-01, -1.88193544e+00,  1.51190791e+00,\n",
       "        4.27604350e-01, -2.94129654e-02, -1.64304860e+00, -1.69332798e+00,\n",
       "        3.67690390e-01,  2.16541102e+00,  9.49091833e-01, -6.55471492e-01,\n",
       "       -5.86883837e-01,  7.74895786e-02, -4.73596315e-02,  1.02526812e+00,\n",
       "       -1.86028430e+00, -7.30139335e-01,  7.56503009e-01, -1.53394551e+00,\n",
       "       -1.17904774e+00,  1.15446708e+00, -1.01122549e+00, -8.86258129e-01,\n",
       "       -5.18352333e-01, -7.64146001e-02,  1.53218411e+00, -8.53808330e-01,\n",
       "        1.16225076e+00,  8.29640982e-01,  1.41523746e+00,  1.31328698e+00,\n",
       "        1.22792991e+00,  6.65406359e-01, -5.68730640e-01,  6.67151810e-01,\n",
       "        1.07561707e+00, -1.03404046e+00, -8.14676178e-01,  1.20447647e+00,\n",
       "        3.37802164e-01,  3.31846300e-01,  2.78710917e+00, -5.83775266e-01,\n",
       "       -2.23569734e-01, -1.14235228e+00, -5.70055109e-01, -1.39615961e+00,\n",
       "       -1.10884011e+00, -1.04918948e+00,  2.64866481e-02,  1.90748680e-01,\n",
       "       -4.91539673e-01,  1.34116314e-01,  8.45328825e-01, -1.09023604e+00,\n",
       "        2.78125641e-01, -1.30864873e+00, -8.11403628e-02,  8.50640717e-01,\n",
       "        6.97331558e-01, -8.72809594e-01,  1.87905622e+00,  4.73257464e-01,\n",
       "        7.72310538e-01, -1.27050309e+00, -9.38978099e-01, -6.04345626e-01,\n",
       "        1.22319532e+00,  9.72810195e-01,  1.34674880e+00, -1.24774467e+00,\n",
       "       -1.46915039e+00,  6.83277561e-01, -1.10564269e+00, -1.07458805e+00,\n",
       "        8.65249023e-01, -3.60109729e-01,  1.34655707e+00,  1.35706976e+00,\n",
       "       -5.34890949e-01, -4.08107421e-01, -2.09387757e+00,  1.02568321e+00,\n",
       "       -5.94793151e-01, -1.56889281e+00,  1.58991960e+00,  1.03047645e+00,\n",
       "       -1.28573849e+00, -2.35463536e+00, -1.82341398e+00, -8.96210964e-01,\n",
       "        3.26169595e-01, -5.88071537e-01,  4.74573749e-01, -8.13969750e-01,\n",
       "       -2.27751476e-01, -1.28381628e+00, -5.96275981e-01, -6.84496728e-01,\n",
       "       -9.00265457e-01,  5.50706500e-01, -1.92525273e+00,  2.23094796e-01,\n",
       "       -1.53004075e+00,  1.38304250e+00,  6.77557422e-01, -2.07586356e+00,\n",
       "        1.64370737e+00, -7.39575799e-01, -3.92173790e-01, -1.11045204e-02,\n",
       "       -1.54775257e-01,  5.32729328e-01, -5.26657727e-01,  1.38821331e+00,\n",
       "       -3.34481071e-01, -1.51501454e+00, -5.04586808e-01,  3.16563264e-01,\n",
       "       -4.90226146e-01,  8.11547599e-01,  1.09792755e+00,  1.20509636e+00,\n",
       "       -7.39024000e-01,  6.50984730e-01, -9.71302379e-01,  1.13406160e+00,\n",
       "        5.83285065e-01, -1.05203821e+00,  1.15560830e+00,  1.59432472e+00,\n",
       "       -1.22534484e+00, -2.81784343e-01, -8.98973594e-01,  2.14054393e-01,\n",
       "       -5.78170652e-01, -6.31375761e-01,  5.67067532e-01, -2.30543659e+00,\n",
       "       -6.36148264e-01, -8.03069027e-01,  1.02157776e+00, -9.32198636e-01,\n",
       "       -1.11742377e+00,  1.26119385e-01,  9.66467715e-01, -9.34185612e-01,\n",
       "       -8.29648769e-01,  1.56014349e+00, -7.81378929e-02,  9.85456710e-01,\n",
       "       -4.48025631e-01, -1.00475014e+00,  2.63106712e-01, -1.84107288e+00,\n",
       "        1.13410731e+00,  5.65208749e-02, -1.25555846e-02, -2.10809399e+00,\n",
       "        9.33343075e-01,  3.19006921e-01, -7.98657087e-01,  1.56686564e+00,\n",
       "       -9.52549994e-01, -9.00689852e-01,  7.62591338e-02,  3.85437626e-01,\n",
       "       -2.19841115e-01,  1.02455748e+00,  2.04114475e+00,  8.87986909e-01,\n",
       "       -1.70870449e-01, -1.11877493e+00,  1.27798011e+00,  2.91924458e-01,\n",
       "       -1.25155634e+00,  4.83871524e-01, -1.05678767e+00,  6.63170167e-01,\n",
       "        1.48335884e+00, -5.96083085e-01,  1.02699158e+00, -1.01862074e+00,\n",
       "        1.13117883e-01,  9.06102322e-01, -1.39248882e+00, -6.87590528e-01,\n",
       "       -4.58912266e-01, -1.39462985e+00,  1.23875057e+00,  1.32862003e+00,\n",
       "        9.84155303e-01, -1.43857748e+00,  1.02711111e-01, -1.37867982e+00,\n",
       "        8.57314785e-01,  1.09305357e+00,  1.53190016e+00, -1.07926808e+00,\n",
       "       -1.53770162e-02,  1.08278765e+00, -1.10987056e+00,  8.99532424e-01,\n",
       "        4.58216653e-01,  1.48171202e+00,  5.92147881e-01,  4.84824833e-01,\n",
       "        1.33444797e+00, -8.80687349e-01, -5.41743907e-01,  1.47465335e+00,\n",
       "        1.07612231e+00, -1.66224226e+00, -4.75790438e-01,  7.77248476e-01,\n",
       "       -7.65313050e-01,  2.52444706e-02, -4.73099167e-01,  1.17014878e+00,\n",
       "        7.20150479e-02, -1.40805158e+00,  9.52530271e-01, -9.98785282e-01,\n",
       "        7.51356906e-01,  2.61238417e-01,  2.49209376e-01, -1.34230855e-01,\n",
       "        3.42504439e-01,  1.42459509e+00,  2.48069453e+00,  5.69381334e-01,\n",
       "       -1.24446306e+00, -7.45746585e-01, -6.17600916e-02, -2.25353088e-01,\n",
       "       -9.06319355e-01, -5.73748471e-01, -9.75436849e-01, -1.04802089e+00,\n",
       "        1.47939328e-01,  8.05980960e-01,  9.08468546e-01, -7.72679549e-01,\n",
       "       -8.74745293e-01,  1.20955258e+00, -1.97441484e+00,  6.99810495e-01,\n",
       "       -6.30410752e-01, -7.43912913e-01, -7.17340533e-01, -8.62085535e-01,\n",
       "       -3.50236139e-01,  9.39127183e-02, -1.54687774e+00, -8.12825884e-02,\n",
       "       -8.54440416e-01, -5.90458132e-01,  1.09596384e+00, -6.35602749e-01,\n",
       "        1.26499235e+00, -3.86516120e-01, -7.23616046e-01, -7.39772614e-01,\n",
       "        8.78283514e-01,  1.74659146e+00, -4.54984885e-02,  7.84330644e-01,\n",
       "       -1.55913063e+00,  7.71317019e-01,  2.11693900e+00,  1.43207748e+00,\n",
       "        9.15329313e-01,  4.03804991e-01,  1.53057545e+00, -9.69442598e-01,\n",
       "       -4.94177761e-01,  2.23005947e-01, -4.86266896e-01,  7.54703601e-01,\n",
       "       -2.41558956e+00,  6.29153106e-01,  8.75362099e-01,  1.24402395e+00,\n",
       "        6.33661041e-01,  2.00644854e+00, -4.60660474e-02,  1.33461430e+00,\n",
       "        6.58993154e-01, -6.95553850e-01, -1.15177022e+00, -4.45577126e-01,\n",
       "       -9.29300760e-01, -3.92389097e-01, -8.24098000e-01,  1.32760225e+00,\n",
       "        1.34304790e+00, -2.16268203e-01,  9.73656873e-01, -6.36878108e-01,\n",
       "        7.91051510e-01, -4.87642016e-01,  8.33493284e-01,  1.36997889e+00,\n",
       "        2.06800473e-01, -1.01522195e+00,  1.58452701e+00, -2.53315203e-01,\n",
       "       -2.13081157e-01, -1.28417048e+00,  6.70260056e-01, -1.30928671e+00,\n",
       "       -2.84718023e-01, -1.47707091e+00, -1.18996136e+00, -2.95758048e-01,\n",
       "        4.39599273e-01,  1.00207604e+00,  9.62260265e-01, -1.20645004e+00,\n",
       "       -8.12403466e-01,  9.61554690e-01,  1.52415259e+00,  1.11745021e+00,\n",
       "        7.43810151e-01, -9.38684392e-01,  1.13438609e+00, -9.35000755e-02,\n",
       "       -9.90020610e-01,  1.49661645e+00,  8.06532830e-01, -1.29166058e+00,\n",
       "       -4.07027722e-02,  3.98027401e-01, -2.85189264e-01, -9.39072024e-01,\n",
       "       -1.11335083e+00, -1.39245470e+00, -6.92477846e-01,  3.62090519e-01,\n",
       "        1.52292246e+00, -4.43056185e-01, -2.10431755e+00, -1.43692291e+00,\n",
       "        1.88698266e+00, -4.69463708e-01,  6.63069495e-01, -8.84880827e-01,\n",
       "        1.21432783e+00,  1.17118190e+00,  3.62547824e-01,  1.28969140e+00,\n",
       "        7.76638494e-01, -1.63724920e+00, -1.18645059e+00,  1.22956242e+00,\n",
       "        1.23738552e+00,  1.52663512e+00, -4.77419245e-01,  8.89885117e-01,\n",
       "       -5.20819576e-01, -5.99878838e-01,  1.53317270e+00,  1.01786903e+00,\n",
       "        6.04434359e-01, -5.72417021e-01, -2.12504434e-01,  7.02721167e-01,\n",
       "       -1.62304233e-01, -1.66904843e+00, -1.72764621e+00, -1.05985183e+00,\n",
       "        8.56353752e-01,  3.78395242e-01,  4.62912350e-01,  3.50859333e-01,\n",
       "       -3.55537721e-01, -9.14985815e-01, -1.24963765e+00,  1.31288101e+00,\n",
       "       -1.34159631e-01, -1.22004418e-01, -8.94246259e-01, -4.71766834e-01,\n",
       "       -1.47204896e+00, -4.26793253e-01,  1.31562928e+00,  1.98794342e+00,\n",
       "       -6.18152590e-01,  1.51213249e+00, -2.63367048e-01, -1.44238321e+00,\n",
       "        8.41390221e-02, -5.88417086e-01, -4.71974118e-01, -8.36063586e-01,\n",
       "       -1.27569198e+00, -1.69597140e+00,  1.34300619e+00,  1.66780170e+00,\n",
       "        8.41067056e-01,  8.14206928e-01, -1.02065246e+00, -1.40960906e-01,\n",
       "        1.30514906e+00,  1.14611275e+00, -1.77956844e+00, -8.19173295e-01,\n",
       "       -1.14630173e+00,  1.09004322e+00,  1.42952410e+00,  1.00588420e+00,\n",
       "       -4.07493469e-01, -1.44005979e+00, -1.92819996e+00,  1.06268049e+00,\n",
       "       -8.78926348e-01,  1.26237016e+00,  1.42256900e+00,  8.76182609e-01,\n",
       "        1.25846125e-01,  1.00771211e+00, -5.86755679e-02, -8.04723266e-01,\n",
       "       -2.32608241e-01,  1.33331331e+00,  6.95698411e-01,  1.76328139e+00,\n",
       "        7.53286499e-01, -7.70999747e-01,  1.48987067e-01, -1.10088420e+00,\n",
       "        1.40428831e+00,  4.73816808e-01, -8.71003157e-01, -1.41722289e-01,\n",
       "       -3.30789136e-02, -8.79060276e-01, -1.28954135e+00,  4.95643006e-02,\n",
       "       -5.63499609e-01,  4.27121102e-01,  1.28018457e-01,  5.81356139e-01,\n",
       "       -8.54553230e-01,  1.46838835e+00, -1.10338179e+00, -1.24255882e+00,\n",
       "       -1.19099182e+00,  7.64285489e-01, -1.94353222e+00, -3.44221643e-01,\n",
       "       -8.51412031e-01, -1.33255042e-03,  6.28029706e-01,  1.68461672e-01,\n",
       "       -1.21421324e+00, -1.19906639e+00, -1.02923507e+00, -4.22769035e-01,\n",
       "        4.60213750e-01,  6.17459608e-02,  7.00189299e-01, -1.18728467e+00,\n",
       "       -1.20750635e-01,  1.54222821e+00,  3.04125005e-01, -1.51294762e+00,\n",
       "       -5.92806684e-01, -6.33302979e-01,  1.25180074e+00, -3.51256198e-01,\n",
       "       -5.62448644e-01,  2.06528223e+00,  1.21970309e+00,  6.43235217e-01,\n",
       "        3.25411340e-01, -1.01687908e-01,  5.02371953e-01,  1.00184919e+00,\n",
       "       -1.98200944e+00, -3.09805336e-02, -9.63050357e-01,  2.02248858e-01,\n",
       "        6.58323592e-01, -1.61329041e+00,  1.10893968e+00, -3.56158182e-01,\n",
       "       -8.48772603e-01,  5.01178723e-01,  6.69348752e-01, -2.69682828e-01,\n",
       "       -5.95307147e-02, -7.90486304e-01,  6.94200878e-01,  2.28121964e+00,\n",
       "       -1.28128967e+00, -1.04721231e+00, -4.54346127e-01, -4.37714709e-01,\n",
       "        2.43107262e-01, -8.69265420e-01,  4.39141062e-01, -4.96057107e-01,\n",
       "       -2.75403037e-01,  1.25773338e+00,  1.67183403e+00,  1.32276849e-01,\n",
       "        2.68237449e-01,  1.90432570e-01, -3.12160260e-01,  1.42561532e-01,\n",
       "       -2.76253660e-01,  1.00542820e+00, -4.02446347e-01, -6.46313997e-01,\n",
       "       -1.72273075e-01,  9.89287798e-01,  6.27170108e-01, -2.75672775e-01,\n",
       "       -1.06575659e+00,  4.58485537e-01,  9.54328914e-01, -8.48887266e-01,\n",
       "       -1.10169819e-01,  7.75126364e-01,  9.56696782e-02,  1.65561624e+00,\n",
       "        1.11408739e+00,  3.36787636e-01,  1.14107275e+00,  1.39602263e+00,\n",
       "       -1.44439964e+00,  8.44354246e-01,  1.09357664e+00, -2.19428883e-02,\n",
       "        1.32810033e+00, -2.64438465e-03,  8.03265995e-01,  1.46729279e+00,\n",
       "        9.16138180e-01,  3.68383857e-01,  8.97457106e-01,  4.86074502e-01,\n",
       "        3.82855350e-01, -7.30675027e-01, -1.17769645e+00,  4.58337940e-01,\n",
       "       -1.42330008e+00, -1.61372283e+00, -2.43020319e-01,  1.20484363e+00,\n",
       "        1.66826836e+00, -8.39336971e-01, -7.59477932e-01,  6.41113151e-01,\n",
       "        8.20939580e-01, -5.98945461e-01,  8.70256957e-01,  7.73438097e-01,\n",
       "        1.53936831e+00,  2.87219867e-01, -2.99754189e-01, -8.07747300e-01,\n",
       "       -1.28646168e+00, -8.26313439e-01, -1.34677686e+00,  2.22086356e+00,\n",
       "       -6.17321924e-01,  5.22978039e-01,  2.32192920e-02, -1.13017797e+00,\n",
       "        8.67136002e-01,  3.04655805e-01, -1.09651570e+00, -1.70195806e+00,\n",
       "       -5.71981704e-01, -1.10282177e-01,  5.53143702e-01, -4.60659091e-01,\n",
       "       -1.14739633e+00,  1.02696171e+00, -7.60219003e-01,  5.93533889e-01,\n",
       "        7.26108096e-01,  8.19020785e-01,  8.20434006e-01,  3.76953752e-01,\n",
       "        1.55328562e+00,  6.53623572e-01,  5.56768473e-01,  6.84451947e-01,\n",
       "       -4.72911991e-01, -7.73559265e-01,  4.75830814e-01,  4.77491678e-01,\n",
       "        1.45342409e-01,  1.65877701e-01,  1.60515960e+00, -2.23922589e-01,\n",
       "        1.11097420e+00,  1.23383476e+00, -1.18908700e+00,  1.09809400e+00,\n",
       "        9.14353850e-01, -2.06444200e-01, -9.73021342e-01, -1.29288690e+00,\n",
       "       -1.25022276e+00, -9.78618279e-01,  6.58275784e-01, -4.20340790e-01,\n",
       "        1.43424453e+00,  8.68345979e-01,  7.37650588e-01, -3.84034739e-01,\n",
       "        1.52220807e+00, -9.39188192e-01,  1.28131619e+00,  3.02600315e-02,\n",
       "       -7.72972293e-01, -6.41664348e-01, -4.15819447e-01, -8.08163203e-01,\n",
       "        1.53654398e+00, -1.04181742e+00, -1.76805480e+00, -1.04770959e+00,\n",
       "       -1.54335470e+00, -1.90165667e+00, -1.22447246e+00,  5.10469588e-01,\n",
       "       -6.66507326e-01,  7.88360122e-01, -1.36406318e+00, -5.59540450e-01,\n",
       "       -1.03835651e+00,  1.12504778e+00, -7.43807731e-01,  6.51198004e-01,\n",
       "        1.01920539e+00, -5.05163999e-01,  9.41453324e-01,  1.72439038e+00,\n",
       "        1.35153074e+00,  6.68104048e-01, -9.59375653e-01,  5.04336502e-01,\n",
       "        8.79885751e-01, -7.85449055e-01, -1.30630268e-01, -8.08205048e-01,\n",
       "       -1.57291348e+00,  4.49965425e-01,  1.17027850e-01,  9.77222478e-01,\n",
       "        2.28809577e-01, -1.60812891e-01,  2.29181559e-01,  1.04250408e+00,\n",
       "       -1.74633005e+00, -1.90389107e+00, -1.76242517e+00, -1.29695629e+00,\n",
       "        9.81062668e-01,  1.27212917e+00, -9.21545251e-01,  8.25506743e-01,\n",
       "        1.22306088e+00, -4.48000059e-01, -4.36985954e-01, -9.71246407e-01,\n",
       "        7.27622871e-01,  1.60491823e+00,  7.25532146e-01, -4.46967480e-01,\n",
       "        5.64439824e-01, -1.06414483e-01,  4.73745280e-01, -1.23304054e+00,\n",
       "       -1.20544133e+00,  1.53908566e-01,  4.71073614e-01,  6.81708344e-02,\n",
       "        1.17168699e+00,  5.14436886e-01, -1.78971214e-01,  7.69089937e-02,\n",
       "        1.86672511e+00,  6.44324547e-01, -1.91315564e+00, -4.10562836e-01,\n",
       "        6.76174742e-01, -1.45025254e+00, -1.28373726e+00, -1.27828579e+00,\n",
       "       -9.95562723e-01,  1.66671646e-01,  4.12650459e-01,  6.06296326e-01,\n",
       "        3.67448261e-01,  1.41955217e-01, -1.16222216e+00,  8.89802164e-01,\n",
       "       -5.40359226e-01, -4.56705630e-01,  3.94051040e-01,  5.66085020e-01,\n",
       "       -4.01057582e-01, -1.29875141e-01, -1.24043819e+00, -1.70484447e+00,\n",
       "       -1.22478009e+00,  6.13926873e-01, -3.20934986e-01, -2.06332857e+00,\n",
       "       -1.24327177e+00, -6.63736282e-01, -9.86087110e-01, -7.12597372e-01,\n",
       "        8.44359812e-01,  1.37496294e+00,  5.85734059e-01,  1.27848049e+00,\n",
       "       -1.48190000e+00, -3.33780191e-01,  9.11564154e-01,  1.50040456e+00,\n",
       "        1.06357054e+00, -1.82567902e+00, -1.01559242e+00, -6.28793590e-01,\n",
       "       -4.14402774e-01,  5.42980305e-01,  6.72115282e-01, -1.64693501e+00,\n",
       "       -1.25375292e+00,  1.41982495e+00,  1.11092662e+00, -1.28560961e-01,\n",
       "        1.51464067e+00, -3.90058765e-01, -2.49627654e-01,  1.47794521e+00,\n",
       "       -1.42892826e+00,  9.46376531e-01, -9.17571280e-01,  6.41061575e-01,\n",
       "       -9.38235177e-01, -7.88038240e-01,  1.55991347e+00,  1.28310777e+00,\n",
       "       -1.98272774e+00, -1.75991124e+00, -1.46969442e+00, -1.15692225e+00,\n",
       "        7.24942107e-01, -1.50493058e+00,  7.30965215e-01, -1.18991659e+00,\n",
       "       -8.56715572e-01,  6.69458302e-02,  1.26480521e+00,  1.01301394e+00,\n",
       "       -7.71648789e-01,  9.36555365e-01, -1.74531628e+00,  1.69815053e+00,\n",
       "        1.62566471e+00,  5.71164812e-01, -7.72045900e-01, -4.70400476e-02,\n",
       "       -7.76583833e-01,  9.61540541e-01,  1.06613197e+00,  3.89100598e-01,\n",
       "        3.25216520e-01,  7.46178787e-01, -6.05698867e-01, -5.61413197e-02,\n",
       "       -1.33707651e+00,  1.18277174e+00,  6.29063788e-01,  1.22031279e+00,\n",
       "       -2.64684449e-01, -1.22274053e+00,  9.42649678e-01, -1.08707292e+00,\n",
       "        1.19084330e+00, -1.71629645e-03,  6.93814976e-01, -9.70063967e-01,\n",
       "        3.81894979e-01,  1.27672258e+00,  8.93853588e-01,  1.03662198e+00,\n",
       "       -1.39611057e-01,  9.31619883e-01, -3.17686605e-01,  1.22541584e+00,\n",
       "        1.03126413e+00,  4.82481258e-01, -1.16166479e+00,  9.40275988e-01,\n",
       "        1.24654364e+00,  3.10285738e-01, -1.10674686e+00, -1.15094870e+00,\n",
       "       -1.34367426e+00,  3.16438006e-01,  2.45262055e-01, -1.26152710e+00,\n",
       "        1.24945916e+00,  1.43430206e-01,  6.87976405e-01,  5.58200606e-01,\n",
       "       -1.57189066e+00, -3.04406732e-01,  1.13791395e+00,  1.25511476e+00,\n",
       "       -5.14248782e-01,  3.23216949e-01, -2.10922482e-01, -2.28596062e-02,\n",
       "       -1.59801562e+00,  4.02891417e-01,  5.96350692e-01,  1.30172781e+00,\n",
       "       -6.41807619e-01, -7.91770145e-01, -1.18729552e+00, -6.11872546e-01,\n",
       "       -1.29878905e+00, -9.35627263e-01,  1.23976182e+00,  9.25485405e-01,\n",
       "       -3.90977558e-01, -1.16723908e+00, -7.98148786e-01,  7.45719819e-01,\n",
       "       -1.47370427e+00, -3.03864781e-01, -7.70982730e-01, -2.66086990e-01,\n",
       "        3.70144044e-01,  2.17590913e-01, -4.96785655e-02,  2.40133489e-01,\n",
       "        7.68873564e-01, -6.53470629e-01,  1.60168769e+00, -1.45066451e-01,\n",
       "       -1.46454724e+00,  1.02992732e-01,  3.53227347e-02,  3.83372721e-03,\n",
       "       -1.59506343e-01, -1.39180305e-01, -9.31711701e-01,  7.84703048e-01,\n",
       "       -1.57761177e+00,  6.21678350e-01, -1.74155321e-01,  1.08496467e-01,\n",
       "        1.93584110e+00,  1.06706342e+00, -1.37374910e+00, -7.58654169e-01,\n",
       "       -6.94699997e-01, -5.96491205e-01, -1.21904777e+00,  9.95308236e-01,\n",
       "        1.57609767e+00, -1.50629580e+00, -8.06034772e-01,  4.47960984e-01,\n",
       "       -8.85043792e-01,  2.46511614e+00,  7.85035654e-01,  3.12282203e-01,\n",
       "       -1.10102915e-01,  1.10275899e+00, -7.49492889e-01, -6.38451097e-01,\n",
       "       -1.03779750e+00,  1.35531874e+00,  1.59927695e-01,  4.16012934e-01,\n",
       "       -2.02243064e-01, -2.14023108e-01,  7.17020119e-01,  9.77496223e-01,\n",
       "        2.10334563e-01, -7.56339785e-01, -5.08101971e-03,  3.98198150e-01,\n",
       "        2.25207994e-01,  6.95151687e-01, -1.15662488e+00, -2.41585622e+00,\n",
       "       -1.57942088e-02,  9.91003640e-01, -1.27845441e+00,  8.48538805e-01,\n",
       "        9.89299753e-01,  8.96530801e-01,  1.58784039e+00, -1.42617969e+00,\n",
       "        5.40169433e-01, -4.93277643e-01, -1.20523934e+00,  6.72760649e-01,\n",
       "        6.78734596e-02, -1.59588644e+00, -1.04915034e+00,  5.27365575e-01,\n",
       "       -1.18953552e+00, -9.32726891e-01,  6.57483333e-01,  1.28562106e+00,\n",
       "       -7.15509963e-01, -1.03594428e+00, -5.41553764e-01, -6.76100164e-01,\n",
       "        1.51194497e+00, -7.23380099e-02,  7.17748244e-01, -9.49471250e-01,\n",
       "        1.15476369e-01, -1.14735748e+00, -3.31789938e-01,  3.31630246e-01,\n",
       "       -4.56730087e-01,  1.29264324e+00, -1.27096782e+00, -7.12207469e-01,\n",
       "       -1.96412215e-01, -9.72582356e-01,  1.20480148e+00,  2.92735934e-01,\n",
       "       -1.17566034e+00,  3.05742843e-01, -9.27708167e-01,  4.82810198e-02,\n",
       "       -4.27566699e-02, -4.12439501e-02, -8.63969615e-01,  4.76504850e-01,\n",
       "        1.34864345e+00,  1.02182595e-01,  4.17409341e-01,  6.79012614e-01,\n",
       "       -4.83237830e-01,  6.58804915e-01,  5.53355182e-01, -1.04294716e+00,\n",
       "       -2.07259476e+00, -2.01831384e-01, -2.78852982e-01,  9.86334190e-01,\n",
       "        1.10317145e+00, -6.70341629e-01,  6.71802753e-02,  1.68351305e+00,\n",
       "        8.73073865e-01,  9.87353782e-01, -1.03232494e+00,  4.94294229e-01,\n",
       "       -4.16863459e-01,  9.43397945e-01,  2.42189585e+00,  1.43133318e+00,\n",
       "       -1.65275079e+00, -1.41366146e+00,  4.40692969e-01, -1.46311780e-01,\n",
       "       -4.42899454e-02, -9.85425838e-01,  8.93181071e-01, -1.21631811e+00,\n",
       "       -6.01627648e-01, -3.69387289e-02, -2.58350727e-01, -2.91089653e-01])"
      ]
     },
     "execution_count": 124,
     "metadata": {},
     "output_type": "execute_result"
    }
   ],
   "source": [
    "B_dist_temp"
   ]
  },
  {
   "cell_type": "code",
   "execution_count": 135,
   "metadata": {},
   "outputs": [
    {
     "data": {
      "text/plain": [
       "<matplotlib.collections.PathCollection at 0x7f5ac43719a0>"
      ]
     },
     "execution_count": 135,
     "metadata": {},
     "output_type": "execute_result"
    },
    {
     "data": {
      "image/png": "[encoded data removed]",
      "text/plain": [
       "<Figure size 432x288 with 1 Axes>"
      ]
     },
     "metadata": {
      "needs_background": "light"
     },
     "output_type": "display_data"
    }
   ],
   "source": [
    "plt.scatter(L,B_dist_temp)"
   ]
  },
  {
   "cell_type": "code",
   "execution_count": 603,
   "metadata": {},
   "outputs": [
    {
     "data": {
      "text/plain": [
       "Text(0, 0.5, 'B_strat residual')"
      ]
     },
     "execution_count": 603,
     "metadata": {},
     "output_type": "execute_result"
    },
    {
     "data": {
      "image/png": "[encoded data removed]",
      "text/plain": [
       "<Figure size 432x288 with 1 Axes>"
      ]
     },
     "metadata": {
      "needs_background": "light"
     },
     "output_type": "display_data"
    }
   ],
   "source": [
    "plt.scatter(L,b.resid)\n",
    "plt.xlabel(\"L\")\n",
    "plt.ylabel(\"B_strat residual\")"
   ]
  },
  {
   "cell_type": "code",
   "execution_count": 621,
   "metadata": {},
   "outputs": [
    {
     "data": {
      "text/plain": [
       "<matplotlib.collections.PathCollection at 0x7f5b7448ce20>"
      ]
     },
     "execution_count": 621,
     "metadata": {},
     "output_type": "execute_result"
    },
    {
     "data": {
      "image/png": "[encoded data removed]",
      "text/plain": [
       "<Figure size 432x288 with 1 Axes>"
      ]
     },
     "metadata": {
      "needs_background": "light"
     },
     "output_type": "display_data"
    }
   ],
   "source": [
    "plt.scatter(L,d)"
   ]
  },
  {
   "cell_type": "code",
   "execution_count": 142,
   "metadata": {},
   "outputs": [
    {
     "data": {
      "text/plain": [
       "<matplotlib.collections.PathCollection at 0x7f0731109970>"
      ]
     },
     "execution_count": 142,
     "metadata": {},
     "output_type": "execute_result"
    },
    {
     "data": {
      "image/png": "[encoded data removed]",
      "text/plain": [
       "<Figure size 432x288 with 1 Axes>"
      ]
     },
     "metadata": {
      "needs_background": "light"
     },
     "output_type": "display_data"
    }
   ],
   "source": [
    "plt.scatter(A,d)"
   ]
  },
  {
   "cell_type": "code",
   "execution_count": 604,
   "metadata": {},
   "outputs": [
    {
     "data": {
      "text/plain": [
       "1.7951493"
      ]
     },
     "execution_count": 604,
     "metadata": {},
     "output_type": "execute_result"
    }
   ],
   "source": [
    "compute_loss(L,b.resid)"
   ]
  },
  {
   "cell_type": "code",
   "execution_count": 82,
   "metadata": {},
   "outputs": [
    {
     "data": {
      "text/plain": [
       "<matplotlib.collections.PathCollection at 0x7f069adf97c0>"
      ]
     },
     "execution_count": 82,
     "metadata": {},
     "output_type": "execute_result"
    },
    {
     "data": {
      "image/png": "[encoded data removed]",
      "text/plain": [
       "<Figure size 432x288 with 1 Axes>"
      ]
     },
     "metadata": {
      "needs_background": "light"
     },
     "output_type": "display_data"
    }
   ],
   "source": [
    "plt.scatter(L,b.resid)"
   ]
  },
  {
   "cell_type": "code",
   "execution_count": 68,
   "metadata": {},
   "outputs": [
    {
     "data": {
      "text/plain": [
       "<matplotlib.collections.PathCollection at 0x7f069bba7f40>"
      ]
     },
     "execution_count": 68,
     "metadata": {},
     "output_type": "execute_result"
    },
    {
     "data": {
      "image/png": "[encoded data removed]",
      "text/plain": [
       "<Figure size 1080x504 with 2 Axes>"
      ]
     },
     "metadata": {
      "needs_background": "light"
     },
     "output_type": "display_data"
    }
   ],
   "source": [
    "\n",
    "fig, axs = plt.subplots(1, 2,figsize =(15, 7),tight_layout = True)\n",
    "axs[0].scatter(L,a.resid)\n",
    "axs[1].scatter(L,b.resid)"
   ]
  },
  {
   "cell_type": "code",
   "execution_count": 68,
   "metadata": {},
   "outputs": [
    {
     "data": {
      "text/plain": [
       "<matplotlib.collections.PathCollection at 0x7efb961afa60>"
      ]
     },
     "execution_count": 68,
     "metadata": {},
     "output_type": "execute_result"
    },
    {
     "data": {
      "image/png": "[encoded data removed]",
      "text/plain": [
       "<Figure size 432x288 with 1 Axes>"
      ]
     },
     "metadata": {
      "needs_background": "light"
     },
     "output_type": "display_data"
    }
   ],
   "source": [
    "plt.scatter(A,B)\n",
    "plt.scatter(A,B_dist_temp)"
   ]
  },
  {
   "cell_type": "code",
   "execution_count": 15,
   "metadata": {},
   "outputs": [
    {
     "name": "stdout",
     "output_type": "stream",
     "text": [
      "[-2.54210067e-01  5.42629652e-01 -5.81969778e-01  4.59890495e-01\n",
      "  1.99993533e-01 -1.03758464e+00  2.36681237e-01 -4.11425390e-01\n",
      " -3.80602961e-01  4.89073048e-01  5.07861036e-01 -5.20122483e-01\n",
      "  1.37835804e+00  9.49590006e-01  5.39468445e-01 -9.18726624e-01\n",
      " -1.59540767e-01  1.74380009e+00  7.83707277e-01 -1.04954102e+00\n",
      " -8.34245116e-01 -1.13423210e+00 -2.82287175e-01 -1.19861343e+00\n",
      "  2.67186626e-01  2.45780254e-01 -1.22017037e+00  5.66641735e-01\n",
      "  9.50850422e-01 -2.03615644e+00 -5.96837362e-01  3.25956226e-01\n",
      " -2.08223068e-01 -5.95957379e-02 -1.78095998e+00  2.25890803e+00\n",
      "  1.45119923e+00 -4.41864111e-01  8.98598331e-01  2.02511735e+00\n",
      " -8.32015348e-01 -9.50132975e-01  9.38607866e-01 -7.81604616e-01\n",
      "  3.93113321e-02  1.85973935e-02  2.42923241e-01  2.24870215e-01\n",
      " -9.66476615e-01 -1.52967211e+00 -7.10941492e-01 -6.60564770e-01\n",
      "  5.82869782e-01  5.08140089e-02  1.79171854e+00  6.28931976e-01\n",
      "  7.28517866e-01 -9.87147310e-01 -4.23925735e-01  6.03460261e-01\n",
      " -1.27473816e+00  9.19610788e-01 -5.59709830e-01  9.09036528e-01\n",
      " -3.23540684e-01  5.92163349e-01  1.74998831e+00 -6.36604387e-01\n",
      " -4.69560546e-01 -1.25812300e+00  1.69646959e+00  6.86289290e-01\n",
      " -5.89219507e-01  3.47365720e-01  1.85241241e+00  7.30065665e-01\n",
      "  6.10031968e-01 -8.93339999e-01 -3.21296748e-01 -1.35376061e+00\n",
      "  5.51503270e-01 -4.40012599e-01  3.13489751e+00 -2.18549689e+00\n",
      "  2.99023666e-01  4.97863008e-01 -6.19804887e-01 -4.34741648e-01\n",
      "  1.25162543e+00  3.14122670e-01 -8.40516600e-01  1.75698243e+00\n",
      " -3.00154939e-01  4.35675053e-01  7.29581570e-01  4.65054614e-01\n",
      "  4.24730976e-01  3.08749353e-01  2.96059929e-01  3.13908862e-01\n",
      "  5.01610935e-01  2.60856841e-01 -3.76462855e-01 -1.03402828e+00\n",
      " -9.08181504e-01  3.52740471e-01  7.08137175e-01 -1.06912243e+00\n",
      "  8.40381361e-01  1.29309632e+00 -1.77704926e-01 -3.57124555e-01\n",
      " -3.66784448e+00  6.72410549e-01 -6.22769279e-01 -3.45999359e-03\n",
      " -2.87563546e-01  1.36509733e+00 -4.43718729e-01 -7.58346977e-01\n",
      "  1.57827744e+00  3.43602977e-01 -9.45134360e-02 -8.08830642e-01\n",
      "  7.10761485e-01  1.81665386e+00  2.52623809e-01  6.92930286e-01\n",
      "  8.29146246e-01  5.21654863e-01 -1.20682169e+00  1.31047832e+00\n",
      "  1.97315552e-01  2.09881066e+00 -8.36511162e-01  1.22055163e-01\n",
      "  3.82633439e-02  1.85461853e+00  1.01676948e+00  7.89694579e-01\n",
      "  1.89668227e+00  3.77662931e-01  8.16291775e-01 -1.35758938e+00\n",
      " -2.10873248e-01  1.45250690e+00 -2.38415781e-01  2.07265878e-01\n",
      " -6.08618381e-01  4.78478463e-01  4.24902849e-01  1.01786768e-02\n",
      "  9.29526464e-01  1.78516262e+00  1.29382644e-01  1.43260169e+00\n",
      "  5.02477075e-01  1.92156971e+00  3.87671373e-01 -7.02438445e-02\n",
      "  8.17998056e-01 -5.23702846e-01 -7.15007879e-01  9.09702732e-02\n",
      "  8.29514451e-01  1.01012303e+00 -5.10135188e-01  3.68327519e-01\n",
      "  9.97301979e-01 -1.55848036e+00  1.03795056e-01 -1.46769259e+00\n",
      " -2.77745735e-01 -8.96508757e-01  1.64929626e+00  8.29659125e-01\n",
      " -6.00487736e-01 -5.17431785e-01  9.96212104e-01  5.47998158e-02\n",
      "  9.16482006e-01  1.87743234e+00  5.28456281e-01  1.95696363e+00\n",
      "  8.03155708e-01  1.76737359e+00 -1.16501888e+00  5.41582414e-01\n",
      " -8.06558708e-01 -1.99240437e+00  6.97831111e-01  1.87357186e+00\n",
      "  1.75961891e-01  1.11542126e+00  3.63575603e-01 -4.07857275e-01\n",
      "  1.22400568e+00 -1.81713793e-01  4.15994405e-02  8.23235268e-01\n",
      "  7.25579474e-01  2.12319127e-01 -1.24551605e-01  4.05243005e-03\n",
      " -1.11620163e-01  7.34333585e-01  3.79205674e-01 -1.03819062e+00\n",
      "  1.05056053e+00 -7.40735033e-01 -5.02326040e-01  9.44821142e-01\n",
      " -5.20731158e-02  3.83007270e-01  6.20483485e-01  8.53267565e-01\n",
      " -1.06246414e+00  3.32198486e-01 -2.89455688e-01  1.36721261e+00\n",
      " -6.95654094e-01  1.03025064e+00  1.70434065e-01 -1.02393989e+00\n",
      " -5.40477735e-02  1.86009068e+00  1.30060210e+00 -1.51633685e+00\n",
      "  2.97058275e+00  1.27112622e+00 -9.40009877e-01  5.83025868e-01\n",
      " -6.11130694e-01 -8.12612164e-02 -9.63431341e-01  4.49069043e-01\n",
      "  4.88997157e-01 -1.43263795e+00  1.14785823e+00  3.98022758e-01\n",
      " -1.07908743e+00 -4.33857664e-01 -1.52891501e+00 -8.85375986e-01\n",
      "  5.08292857e-01 -8.26877238e-01  3.68886496e-02  7.40757942e-01\n",
      "  5.13433828e-01  1.61907077e-01 -4.36219994e-01  3.27671958e-01\n",
      " -2.48244821e-01  3.29434717e-01 -8.14753089e-01  1.36425111e+00\n",
      " -8.22123174e-01 -2.53765754e+00  1.48195284e+00  6.51503162e-01\n",
      " -7.56531866e-01  2.83465642e+00 -3.51675730e-01  4.66332644e-01\n",
      " -4.72235091e-01 -1.71158172e+00 -7.64384695e-01  4.43522849e-01\n",
      " -1.85382035e-01  2.05665277e-01 -6.43364074e-01 -1.45032283e+00\n",
      " -5.34014130e-01 -1.45781189e+00  1.71698036e-01  3.60883667e-01\n",
      " -2.00029900e+00  6.59202968e-01  1.25213463e+00  1.46060231e+00\n",
      "  1.06408090e+00  1.02409033e+00  3.55866680e+00 -4.69213808e-01\n",
      "  4.68536676e-01  5.42486215e-01  3.24403717e-02  3.53725219e-01\n",
      " -8.82147780e-02  3.56033452e-02 -7.91856722e-01  1.42063549e+00\n",
      "  3.21277907e-01 -8.15059539e-01 -6.74363844e-01  1.86376135e+00\n",
      " -1.24316479e+00 -6.97367674e-01 -3.43325793e-02  1.40458844e+00\n",
      "  1.16237178e+00 -1.18166867e+00  1.67549125e-01  6.17044536e-01\n",
      "  3.56038112e-01 -5.94784019e-01  5.04813296e-01  1.22867022e+00\n",
      " -1.34413404e+00  1.43088089e+00  3.14403548e-01  2.02712072e+00\n",
      "  7.96365847e-01 -7.22784075e-01  9.94102897e-02  1.77722982e+00\n",
      " -1.51418186e-01  3.01635516e-01  1.61735955e+00  1.08994242e+00\n",
      "  3.54021197e-01 -6.69190612e-01 -1.83070865e+00  2.19412308e-01\n",
      "  8.27589215e-02  4.40522094e-01 -7.63115962e-01  7.39496609e-01\n",
      " -2.71933893e-01  4.15993259e-01  8.24662145e-01 -2.70313939e-01\n",
      " -2.72866795e-01  1.06942273e+00  1.07731681e+00 -7.04830489e-02\n",
      "  1.24933370e+00  1.25036367e+00 -1.41547850e+00 -3.91730556e-01\n",
      " -6.79834782e-01  1.58302143e+00  6.89745214e-01  1.14502037e+00\n",
      " -2.69639905e-01  9.04657344e-01  1.01280285e+00  1.52275593e+00\n",
      " -8.42322324e-03 -4.47931900e-01  1.51788858e-01  7.85915618e-01\n",
      "  2.96863294e-01  3.82922432e-01  1.34308368e+00  1.87952472e+00\n",
      "  3.12479752e+00 -9.54352549e-01 -6.95974073e-01 -4.48649780e-03\n",
      "  5.89371746e-01  2.90856877e-01 -5.84308973e-01  7.82551411e-01\n",
      "  5.23288938e-01 -1.19962308e+00  1.46063206e+00  1.17310046e+00\n",
      "  1.42843671e+00 -6.56874279e-01 -1.52359072e+00  1.97013209e+00\n",
      "  9.44909385e-02 -1.74047801e+00  3.59704860e-01 -1.30983137e+00\n",
      "  1.59759531e+00  5.25206331e-02 -5.23188242e-01 -1.17036986e-01\n",
      " -4.39768562e-01 -1.43293797e-01 -8.83117369e-01 -8.48502636e-01\n",
      " -8.45534283e-01 -1.93237975e-02 -4.42253585e-01 -3.82609804e-01\n",
      "  6.32540313e-01  3.95518660e-01 -4.82800194e-02 -8.81711582e-01\n",
      "  8.00663514e-01 -4.33919581e-01 -3.05684000e-01  9.15625866e-03\n",
      " -2.65479936e-01 -1.64209768e-01  1.10319766e-01  1.86314475e+00\n",
      " -6.97189562e-01 -1.63116663e-01  1.75369514e+00  1.17022993e-01\n",
      " -1.02210311e+00  1.51255752e+00  1.13881520e+00 -1.48083576e-01\n",
      " -9.71625777e-02  9.60253897e-02  4.17314883e-02  1.84873370e+00\n",
      "  2.69265617e+00 -1.61730029e-01 -6.61566027e-01  2.17516480e+00\n",
      "  2.81735615e-01  9.95214793e-01  1.15202806e+00  5.87860158e-01\n",
      " -1.08383897e-01 -6.96248174e-01 -1.60465286e+00 -4.94182029e-01\n",
      " -8.75569047e-02 -1.25123234e+00  5.23906344e-01  6.30348505e-01\n",
      " -1.52147162e+00  5.12682982e-01 -1.40239671e+00  1.20872875e-01\n",
      " -6.51125230e-01 -2.95577954e-01 -1.38953243e+00 -5.78365102e-01\n",
      "  2.78124990e-03  2.59214130e-01 -6.14675780e-01 -6.19819015e-01\n",
      " -2.46388651e+00 -1.43260088e+00 -1.22855649e-02 -1.29777113e+00\n",
      " -1.72188601e+00  3.36924484e-01  1.62548466e+00  4.12344839e-01\n",
      " -1.16269564e+00 -3.67045546e-01  1.11906918e+00 -5.86260948e-01\n",
      " -8.89939562e-02  8.42083228e-01 -2.66088023e-01  5.61680109e-01\n",
      " -1.28076328e+00  3.71900115e-01 -5.34301138e-01 -8.38540699e-01\n",
      "  3.23642088e-01 -9.05500924e-01  2.98707124e-01 -1.07877840e+00\n",
      "  9.24806459e-01 -9.42929265e-01  1.41393002e-01 -1.74700938e+00\n",
      "  5.10238930e-02  4.13053799e-01 -1.13599439e-02  1.05220281e+00\n",
      "  1.68433794e+00 -1.38377384e+00  1.36245052e+00  1.79206987e+00\n",
      "  1.33981292e+00 -2.46145585e-01 -8.76338259e-01 -4.18473922e-01\n",
      "  1.63133904e-01  5.30847025e-02  5.78734858e-01 -2.24754835e+00\n",
      " -5.95948751e-01  1.89324529e-01  2.23639121e-01 -1.46268103e+00\n",
      "  1.54100564e+00  1.57608160e-01  4.80424372e-01 -2.19198626e+00\n",
      "  1.68909027e+00  3.00925181e-01 -3.60622640e-03  1.78725224e+00\n",
      " -7.51959021e-01 -9.55150695e-01 -8.40199505e-01  4.81027027e-01\n",
      " -1.25774016e+00 -3.65562564e-01  3.59337682e-01  5.02147063e-01\n",
      "  1.66820116e+00  1.10387242e+00  1.72694443e+00  1.64303926e+00\n",
      " -3.78317306e-01  1.62457847e+00  1.40900650e-01  8.24797883e-01\n",
      "  6.53571042e-01 -1.04643698e+00 -1.90292510e-01 -5.21017200e-01\n",
      " -1.24827704e+00 -4.18625801e-01  3.87759453e-01  3.47137509e-02\n",
      "  6.14004173e-01  4.15023746e-02  1.60181826e+00  6.55719501e-01\n",
      "  8.05046562e-01 -4.22325197e-01 -5.37372175e-01  1.17205977e-01\n",
      " -5.70828370e-01  5.53529044e-01 -4.35932979e-02 -1.93631208e-01\n",
      "  5.60778792e-01 -2.34238194e+00  1.08475833e+00  3.35853970e-01\n",
      "  2.02591825e+00  1.12245638e+00  1.03560549e+00  1.66897638e+00\n",
      "  8.24840773e-01  5.03265448e-02 -5.45685273e-01 -1.41620248e+00\n",
      " -4.46094240e-01 -9.17197132e-02  1.86403172e+00 -6.26520836e-01\n",
      "  2.08810788e+00 -1.01591424e+00 -3.53300731e-01 -1.29542724e+00\n",
      " -1.05076530e+00  6.80893279e-02 -1.04957787e+00  5.18154928e-01\n",
      " -2.27877344e-01 -2.78044914e-01  4.96631804e-01  4.71355705e-01\n",
      "  1.32314512e+00  1.49599986e+00 -1.54637784e+00 -1.24052242e+00\n",
      "  5.04880005e-01  1.73665861e-01  7.52003753e-01 -7.21985462e-01\n",
      " -2.81911509e-01  1.51330498e+00  2.60360569e-01 -1.14135699e+00\n",
      "  4.41115815e-01 -1.71949366e+00 -5.47037503e-01 -5.27616388e-01\n",
      " -3.36763246e-01 -1.11718844e-01 -8.33806573e-01  8.77640465e-01\n",
      "  3.59612908e-01  2.24704477e+00 -6.20722863e-03  2.36227027e-01\n",
      "  2.99368689e-02 -3.06977076e-02  6.61807435e-01  6.34527171e-01\n",
      "  9.12214523e-01 -4.27362565e-01  1.22376521e+00  7.00293639e-01\n",
      "  1.96750606e-01 -7.20065022e-01  4.73696070e-01  2.88226592e-01\n",
      "  4.51824826e-01  1.58762820e-01  1.59860192e+00 -6.88105593e-01\n",
      " -9.25869687e-01  2.86756131e+00  7.43186041e-01  1.23006226e-01\n",
      "  1.45936215e+00  1.14366759e+00 -1.46027871e+00  5.78852358e-01\n",
      " -1.38964041e+00  1.26617805e+00 -6.03773855e-02 -2.40969985e+00\n",
      " -5.82549983e-01  9.13314105e-01  1.33129740e+00 -2.70125720e-01\n",
      " -1.99340949e-01 -1.44926368e+00 -6.64384196e-01  1.47704955e+00\n",
      " -1.80798270e+00  6.26147196e-02 -9.74075643e-01  6.48305158e-01\n",
      "  4.96075342e-01  1.98930097e-01 -4.97716789e-01  6.60670607e-01\n",
      "  1.08119821e-01 -2.18721950e+00  1.56058155e+00  1.20124244e+00\n",
      "  2.50024520e+00 -8.60167179e-02  9.76755703e-01 -5.89052393e-01\n",
      "  9.04012599e-02 -1.17255744e+00 -1.20203526e+00 -1.86786339e-01\n",
      "  1.25090690e+00 -6.61193406e-01  5.40817773e-01  1.51310846e+00\n",
      "  1.73999212e-01  2.09789663e+00  9.64078149e-02 -4.59004065e-01\n",
      " -1.28301428e+00  1.12874275e+00 -4.30037921e-01 -6.41189898e-01\n",
      "  5.73279422e-02  2.86155994e+00 -7.28353741e-01  1.70044524e+00\n",
      " -1.50960335e-01  1.59528518e+00 -1.15014383e+00  1.38716206e+00\n",
      " -1.63083403e+00 -5.58127595e-01 -1.29216559e+00 -1.36974102e-01\n",
      " -7.70603066e-01  9.49216324e-01  5.81190602e-01  9.67887969e-01\n",
      " -1.06834745e+00  1.50265118e+00  1.37519225e+00  5.35883348e-01\n",
      "  2.41112383e-01 -3.45240347e-01  4.75596317e-01 -6.18519255e-02\n",
      " -3.95373099e-02 -8.23176276e-02  3.81232960e-02  3.13267773e+00\n",
      " -7.39997568e-01  1.37143901e+00  8.98528355e-01  1.17215189e+00\n",
      " -7.48981036e-01  9.03455245e-01  1.06469413e+00  2.47725886e+00\n",
      "  1.40702413e-01  1.83913621e+00 -7.01064969e-01  1.78366975e+00\n",
      " -6.62363753e-01 -2.16396319e+00  8.85202048e-01 -1.25893625e+00\n",
      "  8.58049639e-01  8.29979806e-01  1.13354018e+00  3.69540367e-01\n",
      "  1.51936708e-01 -2.22852934e+00  1.35847221e-02  4.68254850e-01\n",
      " -1.15231985e+00 -4.71521199e-01 -8.81328453e-04  4.48802736e-01\n",
      " -7.37822054e-01 -7.08669219e-01  2.17841113e+00 -7.09188690e-02\n",
      " -1.81529413e+00  9.18117695e-01  5.67638573e-01 -1.23053289e+00\n",
      "  3.06315718e-01 -2.53702338e+00  7.32374831e-01  3.72361526e+00\n",
      "  1.14674473e+00  1.64680561e-01 -4.58105249e-01  4.43663188e-02\n",
      "  5.72915209e-01  1.89580940e+00  1.50461596e+00 -3.73415712e-02\n",
      " -2.41524866e+00  3.89620072e-01 -1.55923535e+00  1.89514645e-02\n",
      " -3.63539252e-01  1.56469968e+00 -6.53850788e-02  7.80582607e-01\n",
      " -1.06932308e+00  3.76730407e-01 -1.45857285e+00 -1.03977741e+00\n",
      "  1.85029820e+00 -7.13945879e-02 -1.12736982e+00 -1.65209733e+00\n",
      "  4.66060399e-01 -4.91157995e-01 -4.44037873e-01  8.22844730e-01\n",
      "  6.61472983e-02  5.46376870e-01 -2.46018429e-01  1.31880102e-01\n",
      "  7.78300093e-01  5.87527142e-01 -7.04748940e-02 -3.17117270e-01\n",
      "  8.50235888e-01 -6.85545984e-01 -5.70436430e-01 -3.52628833e-01\n",
      "  1.14834456e-02  8.34209373e-01 -6.15865754e-01  2.24389725e-01\n",
      " -1.07546159e+00  1.42158808e+00  5.54360630e-01 -1.70307502e+00\n",
      "  2.45231049e+00 -8.73911959e-01 -7.52163999e-01  1.04703287e+00\n",
      "  6.33388000e-01 -1.50966805e-01 -1.35535834e-01 -1.88763845e-03\n",
      " -1.39505768e+00 -1.13822484e+00  4.39660991e-01  4.82643965e-01\n",
      "  6.85773268e-01  7.25866781e-02  2.02949484e+00 -9.25228797e-01\n",
      "  1.90221325e-01 -2.25358707e-01 -4.74092342e-01 -1.20991276e+00\n",
      " -2.47991985e-02  9.42932232e-01 -4.30197912e-01 -9.73639956e-02\n",
      "  8.64983703e-01  4.78996227e-01  1.07749741e-01 -1.58521432e+00\n",
      " -7.53326279e-01  7.51594468e-01 -4.48611571e-01 -4.14012413e-01\n",
      " -9.94594162e-01  5.17755852e-02 -2.50936783e-01 -5.61698042e-01\n",
      "  1.13252913e-02  7.74993052e-01 -1.17541667e-01  5.71577568e-02\n",
      " -1.74196841e+00 -9.27053577e-01 -3.53308279e-01 -7.64415407e-01\n",
      "  7.06648234e-01 -1.99820172e+00 -8.37411686e-01  1.49876432e+00\n",
      "  1.12901570e+00  1.91170286e+00 -1.55458313e-01  1.06828064e+00\n",
      " -5.71631373e-01  2.78009276e-02 -1.64306974e+00 -9.13455837e-01\n",
      " -1.49760688e+00  1.90060674e-01 -1.00994727e+00  2.90155784e-01\n",
      "  6.10395917e-02  1.04326758e+00  7.17700144e-01  6.55840467e-01\n",
      "  1.67912659e-01  7.39541661e-01  3.60935058e-01 -1.58330451e+00\n",
      " -3.74384184e-01 -1.16883420e+00 -1.51766216e+00 -3.00261087e-02\n",
      " -1.29238774e+00 -2.10564172e+00 -9.87605793e-01  1.19072200e+00\n",
      "  2.12774686e+00 -1.63740640e+00  5.40483648e-01 -2.01389025e-01\n",
      "  1.42047582e+00  7.22751088e-02  7.38337649e-01  2.95251621e-01\n",
      " -5.99778680e-01 -7.13451183e-01  1.56831807e-01 -1.66086826e+00\n",
      " -1.98965554e+00  1.21472553e-01 -6.73799456e-01  5.76606198e-01\n",
      "  1.38808471e-01 -6.50075633e-01  9.44594226e-01 -2.22749647e-01\n",
      " -1.70467212e+00 -9.81853601e-01  6.51385063e-02  1.57252320e+00\n",
      "  1.84717094e-01 -3.47732481e-01  1.18781830e+00  1.29478990e-01\n",
      "  1.48330170e+00 -1.18059468e+00 -1.20945988e+00  7.50656443e-01\n",
      "  1.34702759e+00  2.47123641e-02 -1.66689148e+00  1.63659450e+00\n",
      " -6.31876581e-01 -9.95568403e-01 -1.23932626e+00  1.47597128e-02\n",
      " -1.75420864e+00  1.00750021e+00  2.02748803e+00 -8.58022983e-01\n",
      " -7.94420749e-02 -1.00882473e+00 -6.88753611e-01  7.54494068e-02\n",
      "  5.13611589e-01  3.32544180e-01 -7.30856146e-02 -8.83034351e-01\n",
      " -4.25588655e-01  1.35880605e+00  2.35020848e-01  3.36866906e-01\n",
      "  2.37359556e+00  1.69011425e+00  1.17598435e+00  1.02413009e+00\n",
      "  1.35633522e+00  2.75716058e-01  6.40275120e-01  2.10160174e-01\n",
      " -1.00417810e+00 -8.24621524e-01  1.20733855e-01  1.16445235e+00\n",
      "  1.31064294e+00  1.33536548e+00 -5.43452263e-01 -3.92559400e-01\n",
      "  8.22481327e-01 -5.25458035e-01  8.44796457e-01 -6.45555007e-02\n",
      " -1.32693757e+00  2.13400766e+00 -2.87225945e-01  2.80840808e-01\n",
      "  1.95542496e+00 -1.29316603e+00 -4.23277986e-01  3.76357228e-01\n",
      "  1.01393491e+00  1.55044999e+00 -5.32178096e-01  5.52822521e-01\n",
      " -7.56833690e-01  1.64391380e+00  1.89390910e+00  2.49192150e-01\n",
      "  1.46013880e+00  1.03781044e+00  1.04022679e+00  1.09364182e+00\n",
      "  3.66396208e-01  1.32597591e-01  2.49998326e-02 -1.33582156e-01\n",
      " -1.94602627e+00  1.02648480e-01  6.10958661e-02  2.44474560e-01\n",
      "  8.53172939e-01 -1.88656056e+00 -1.54757403e-01  3.27214487e-01\n",
      " -1.86256948e+00  4.34588419e-01 -2.05565949e-01 -9.96571410e-01\n",
      " -6.32655795e-01  1.74565959e+00  6.30181296e-01 -1.64361839e-01\n",
      "  9.53852532e-01 -1.45026621e+00 -1.06484417e+00  2.65694226e-01\n",
      " -9.49576117e-01 -1.83417046e+00  4.27090056e-01 -4.18849722e-01\n",
      "  6.22963980e-01  1.08279581e-01 -8.84425895e-02  7.14627202e-01\n",
      "  1.54455614e+00  5.97638698e-01  1.67800863e+00 -9.85261790e-01\n",
      " -7.05855081e-02 -1.75319943e-01  6.13855601e-01  1.27630786e-01\n",
      " -3.96264356e-01  2.23809067e-01  6.15451108e-01 -5.92926617e-01\n",
      "  9.38890550e-01 -3.70368620e-01  1.34741801e+00  9.73644354e-01\n",
      " -1.36472044e+00  8.49717961e-01  1.09025150e+00  1.29356074e+00\n",
      "  4.85661894e-01  1.95744414e-01 -4.41993253e-01  3.23932896e-01\n",
      "  9.51416445e-01  6.60324555e-01  2.24504521e-02 -5.71473302e-02]\n"
     ]
    },
    {
     "data": {
      "text/plain": [
       "array([-2.54210067e-01,  5.42629652e-01, -5.81969778e-01,  4.59890495e-01,\n",
       "        1.99993533e-01, -1.03758464e+00,  2.36681237e-01, -4.11425390e-01,\n",
       "       -3.80602961e-01,  4.89073048e-01,  5.07861036e-01, -5.20122483e-01,\n",
       "        1.37835804e+00,  9.49590006e-01,  5.39468445e-01, -9.18726624e-01,\n",
       "       -1.59540767e-01,  1.74380009e+00,  7.83707277e-01, -1.04954102e+00,\n",
       "       -8.34245116e-01, -1.13423210e+00, -2.82287175e-01, -1.19861343e+00,\n",
       "        2.67186626e-01,  2.45780254e-01, -1.22017037e+00,  5.66641735e-01,\n",
       "        9.50850422e-01, -2.03615644e+00, -5.96837362e-01,  3.25956226e-01,\n",
       "       -2.08223068e-01, -5.95957379e-02, -1.78095998e+00,  2.25890803e+00,\n",
       "        1.45119923e+00, -4.41864111e-01,  8.98598331e-01,  2.02511735e+00,\n",
       "       -8.32015348e-01, -9.50132975e-01,  9.38607866e-01, -7.81604616e-01,\n",
       "        3.93113321e-02,  1.85973935e-02,  2.42923241e-01,  2.24870215e-01,\n",
       "       -9.66476615e-01, -1.52967211e+00, -7.10941492e-01, -6.60564770e-01,\n",
       "        5.82869782e-01,  5.08140089e-02,  1.79171854e+00,  6.28931976e-01,\n",
       "        7.28517866e-01, -9.87147310e-01, -4.23925735e-01,  6.03460261e-01,\n",
       "       -1.27473816e+00,  9.19610788e-01, -5.59709830e-01,  9.09036528e-01,\n",
       "       -3.23540684e-01,  5.92163349e-01,  1.74998831e+00, -6.36604387e-01,\n",
       "       -4.69560546e-01, -1.25812300e+00,  1.69646959e+00,  6.86289290e-01,\n",
       "       -5.89219507e-01,  3.47365720e-01,  1.85241241e+00,  7.30065665e-01,\n",
       "        6.10031968e-01, -8.93339999e-01, -3.21296748e-01, -1.35376061e+00,\n",
       "        5.51503270e-01, -4.40012599e-01,  3.13489751e+00, -2.18549689e+00,\n",
       "        2.99023666e-01,  4.97863008e-01, -6.19804887e-01, -4.34741648e-01,\n",
       "        1.25162543e+00,  3.14122670e-01, -8.40516600e-01,  1.75698243e+00,\n",
       "       -3.00154939e-01,  4.35675053e-01,  7.29581570e-01,  4.65054614e-01,\n",
       "        4.24730976e-01,  3.08749353e-01,  2.96059929e-01,  3.13908862e-01,\n",
       "        5.01610935e-01,  2.60856841e-01, -3.76462855e-01, -1.03402828e+00,\n",
       "       -9.08181504e-01,  3.52740471e-01,  7.08137175e-01, -1.06912243e+00,\n",
       "        8.40381361e-01,  1.29309632e+00, -1.77704926e-01, -3.57124555e-01,\n",
       "       -3.66784448e+00,  6.72410549e-01, -6.22769279e-01, -3.45999359e-03,\n",
       "       -2.87563546e-01,  1.36509733e+00, -4.43718729e-01, -7.58346977e-01,\n",
       "        1.57827744e+00,  3.43602977e-01, -9.45134360e-02, -8.08830642e-01,\n",
       "        7.10761485e-01,  1.81665386e+00,  2.52623809e-01,  6.92930286e-01,\n",
       "        8.29146246e-01,  5.21654863e-01, -1.20682169e+00,  1.31047832e+00,\n",
       "        1.97315552e-01,  2.09881066e+00, -8.36511162e-01,  1.22055163e-01,\n",
       "        3.82633439e-02,  1.85461853e+00,  1.01676948e+00,  7.89694579e-01,\n",
       "        1.89668227e+00,  3.77662931e-01,  8.16291775e-01, -1.35758938e+00,\n",
       "       -2.10873248e-01,  1.45250690e+00, -2.38415781e-01,  2.07265878e-01,\n",
       "       -6.08618381e-01,  4.78478463e-01,  4.24902849e-01,  1.01786768e-02,\n",
       "        9.29526464e-01,  1.78516262e+00,  1.29382644e-01,  1.43260169e+00,\n",
       "        5.02477075e-01,  1.92156971e+00,  3.87671373e-01, -7.02438445e-02,\n",
       "        8.17998056e-01, -5.23702846e-01, -7.15007879e-01,  9.09702732e-02,\n",
       "        8.29514451e-01,  1.01012303e+00, -5.10135188e-01,  3.68327519e-01,\n",
       "        9.97301979e-01, -1.55848036e+00,  1.03795056e-01, -1.46769259e+00,\n",
       "       -2.77745735e-01, -8.96508757e-01,  1.64929626e+00,  8.29659125e-01,\n",
       "       -6.00487736e-01, -5.17431785e-01,  9.96212104e-01,  5.47998158e-02,\n",
       "        9.16482006e-01,  1.87743234e+00,  5.28456281e-01,  1.95696363e+00,\n",
       "        8.03155708e-01,  1.76737359e+00, -1.16501888e+00,  5.41582414e-01,\n",
       "       -8.06558708e-01, -1.99240437e+00,  6.97831111e-01,  1.87357186e+00,\n",
       "        1.75961891e-01,  1.11542126e+00,  3.63575603e-01, -4.07857275e-01,\n",
       "        1.22400568e+00, -1.81713793e-01,  4.15994405e-02,  8.23235268e-01,\n",
       "        7.25579474e-01,  2.12319127e-01, -1.24551605e-01,  4.05243005e-03,\n",
       "       -1.11620163e-01,  7.34333585e-01,  3.79205674e-01, -1.03819062e+00,\n",
       "        1.05056053e+00, -7.40735033e-01, -5.02326040e-01,  9.44821142e-01,\n",
       "       -5.20731158e-02,  3.83007270e-01,  6.20483485e-01,  8.53267565e-01,\n",
       "       -1.06246414e+00,  3.32198486e-01, -2.89455688e-01,  1.36721261e+00,\n",
       "       -6.95654094e-01,  1.03025064e+00,  1.70434065e-01, -1.02393989e+00,\n",
       "       -5.40477735e-02,  1.86009068e+00,  1.30060210e+00, -1.51633685e+00,\n",
       "        2.97058275e+00,  1.27112622e+00, -9.40009877e-01,  5.83025868e-01,\n",
       "       -6.11130694e-01, -8.12612164e-02, -9.63431341e-01,  4.49069043e-01,\n",
       "        4.88997157e-01, -1.43263795e+00,  1.14785823e+00,  3.98022758e-01,\n",
       "       -1.07908743e+00, -4.33857664e-01, -1.52891501e+00, -8.85375986e-01,\n",
       "        5.08292857e-01, -8.26877238e-01,  3.68886496e-02,  7.40757942e-01,\n",
       "        5.13433828e-01,  1.61907077e-01, -4.36219994e-01,  3.27671958e-01,\n",
       "       -2.48244821e-01,  3.29434717e-01, -8.14753089e-01,  1.36425111e+00,\n",
       "       -8.22123174e-01, -2.53765754e+00,  1.48195284e+00,  6.51503162e-01,\n",
       "       -7.56531866e-01,  2.83465642e+00, -3.51675730e-01,  4.66332644e-01,\n",
       "       -4.72235091e-01, -1.71158172e+00, -7.64384695e-01,  4.43522849e-01,\n",
       "       -1.85382035e-01,  2.05665277e-01, -6.43364074e-01, -1.45032283e+00,\n",
       "       -5.34014130e-01, -1.45781189e+00,  1.71698036e-01,  3.60883667e-01,\n",
       "       -2.00029900e+00,  6.59202968e-01,  1.25213463e+00,  1.46060231e+00,\n",
       "        1.06408090e+00,  1.02409033e+00,  3.55866680e+00, -4.69213808e-01,\n",
       "        4.68536676e-01,  5.42486215e-01,  3.24403717e-02,  3.53725219e-01,\n",
       "       -8.82147780e-02,  3.56033452e-02, -7.91856722e-01,  1.42063549e+00,\n",
       "        3.21277907e-01, -8.15059539e-01, -6.74363844e-01,  1.86376135e+00,\n",
       "       -1.24316479e+00, -6.97367674e-01, -3.43325793e-02,  1.40458844e+00,\n",
       "        1.16237178e+00, -1.18166867e+00,  1.67549125e-01,  6.17044536e-01,\n",
       "        3.56038112e-01, -5.94784019e-01,  5.04813296e-01,  1.22867022e+00,\n",
       "       -1.34413404e+00,  1.43088089e+00,  3.14403548e-01,  2.02712072e+00,\n",
       "        7.96365847e-01, -7.22784075e-01,  9.94102897e-02,  1.77722982e+00,\n",
       "       -1.51418186e-01,  3.01635516e-01,  1.61735955e+00,  1.08994242e+00,\n",
       "        3.54021197e-01, -6.69190612e-01, -1.83070865e+00,  2.19412308e-01,\n",
       "        8.27589215e-02,  4.40522094e-01, -7.63115962e-01,  7.39496609e-01,\n",
       "       -2.71933893e-01,  4.15993259e-01,  8.24662145e-01, -2.70313939e-01,\n",
       "       -2.72866795e-01,  1.06942273e+00,  1.07731681e+00, -7.04830489e-02,\n",
       "        1.24933370e+00,  1.25036367e+00, -1.41547850e+00, -3.91730556e-01,\n",
       "       -6.79834782e-01,  1.58302143e+00,  6.89745214e-01,  1.14502037e+00,\n",
       "       -2.69639905e-01,  9.04657344e-01,  1.01280285e+00,  1.52275593e+00,\n",
       "       -8.42322324e-03, -4.47931900e-01,  1.51788858e-01,  7.85915618e-01,\n",
       "        2.96863294e-01,  3.82922432e-01,  1.34308368e+00,  1.87952472e+00,\n",
       "        3.12479752e+00, -9.54352549e-01, -6.95974073e-01, -4.48649780e-03,\n",
       "        5.89371746e-01,  2.90856877e-01, -5.84308973e-01,  7.82551411e-01,\n",
       "        5.23288938e-01, -1.19962308e+00,  1.46063206e+00,  1.17310046e+00,\n",
       "        1.42843671e+00, -6.56874279e-01, -1.52359072e+00,  1.97013209e+00,\n",
       "        9.44909385e-02, -1.74047801e+00,  3.59704860e-01, -1.30983137e+00,\n",
       "        1.59759531e+00,  5.25206331e-02, -5.23188242e-01, -1.17036986e-01,\n",
       "       -4.39768562e-01, -1.43293797e-01, -8.83117369e-01, -8.48502636e-01,\n",
       "       -8.45534283e-01, -1.93237975e-02, -4.42253585e-01, -3.82609804e-01,\n",
       "        6.32540313e-01,  3.95518660e-01, -4.82800194e-02, -8.81711582e-01,\n",
       "        8.00663514e-01, -4.33919581e-01, -3.05684000e-01,  9.15625866e-03,\n",
       "       -2.65479936e-01, -1.64209768e-01,  1.10319766e-01,  1.86314475e+00,\n",
       "       -6.97189562e-01, -1.63116663e-01,  1.75369514e+00,  1.17022993e-01,\n",
       "       -1.02210311e+00,  1.51255752e+00,  1.13881520e+00, -1.48083576e-01,\n",
       "       -9.71625777e-02,  9.60253897e-02,  4.17314883e-02,  1.84873370e+00,\n",
       "        2.69265617e+00, -1.61730029e-01, -6.61566027e-01,  2.17516480e+00,\n",
       "        2.81735615e-01,  9.95214793e-01,  1.15202806e+00,  5.87860158e-01,\n",
       "       -1.08383897e-01, -6.96248174e-01, -1.60465286e+00, -4.94182029e-01,\n",
       "       -8.75569047e-02, -1.25123234e+00,  5.23906344e-01,  6.30348505e-01,\n",
       "       -1.52147162e+00,  5.12682982e-01, -1.40239671e+00,  1.20872875e-01,\n",
       "       -6.51125230e-01, -2.95577954e-01, -1.38953243e+00, -5.78365102e-01,\n",
       "        2.78124990e-03,  2.59214130e-01, -6.14675780e-01, -6.19819015e-01,\n",
       "       -2.46388651e+00, -1.43260088e+00, -1.22855649e-02, -1.29777113e+00,\n",
       "       -1.72188601e+00,  3.36924484e-01,  1.62548466e+00,  4.12344839e-01,\n",
       "       -1.16269564e+00, -3.67045546e-01,  1.11906918e+00, -5.86260948e-01,\n",
       "       -8.89939562e-02,  8.42083228e-01, -2.66088023e-01,  5.61680109e-01,\n",
       "       -1.28076328e+00,  3.71900115e-01, -5.34301138e-01, -8.38540699e-01,\n",
       "        3.23642088e-01, -9.05500924e-01,  2.98707124e-01, -1.07877840e+00,\n",
       "        9.24806459e-01, -9.42929265e-01,  1.41393002e-01, -1.74700938e+00,\n",
       "        5.10238930e-02,  4.13053799e-01, -1.13599439e-02,  1.05220281e+00,\n",
       "        1.68433794e+00, -1.38377384e+00,  1.36245052e+00,  1.79206987e+00,\n",
       "        1.33981292e+00, -2.46145585e-01, -8.76338259e-01, -4.18473922e-01,\n",
       "        1.63133904e-01,  5.30847025e-02,  5.78734858e-01, -2.24754835e+00,\n",
       "       -5.95948751e-01,  1.89324529e-01,  2.23639121e-01, -1.46268103e+00,\n",
       "        1.54100564e+00,  1.57608160e-01,  4.80424372e-01, -2.19198626e+00,\n",
       "        1.68909027e+00,  3.00925181e-01, -3.60622640e-03,  1.78725224e+00,\n",
       "       -7.51959021e-01, -9.55150695e-01, -8.40199505e-01,  4.81027027e-01,\n",
       "       -1.25774016e+00, -3.65562564e-01,  3.59337682e-01,  5.02147063e-01,\n",
       "        1.66820116e+00,  1.10387242e+00,  1.72694443e+00,  1.64303926e+00,\n",
       "       -3.78317306e-01,  1.62457847e+00,  1.40900650e-01,  8.24797883e-01,\n",
       "        6.53571042e-01, -1.04643698e+00, -1.90292510e-01, -5.21017200e-01,\n",
       "       -1.24827704e+00, -4.18625801e-01,  3.87759453e-01,  3.47137509e-02,\n",
       "        6.14004173e-01,  4.15023746e-02,  1.60181826e+00,  6.55719501e-01,\n",
       "        8.05046562e-01, -4.22325197e-01, -5.37372175e-01,  1.17205977e-01,\n",
       "       -5.70828370e-01,  5.53529044e-01, -4.35932979e-02, -1.93631208e-01,\n",
       "        5.60778792e-01, -2.34238194e+00,  1.08475833e+00,  3.35853970e-01,\n",
       "        2.02591825e+00,  1.12245638e+00,  1.03560549e+00,  1.66897638e+00,\n",
       "        8.24840773e-01,  5.03265448e-02, -5.45685273e-01, -1.41620248e+00,\n",
       "       -4.46094240e-01, -9.17197132e-02,  1.86403172e+00, -6.26520836e-01,\n",
       "        2.08810788e+00, -1.01591424e+00, -3.53300731e-01, -1.29542724e+00,\n",
       "       -1.05076530e+00,  6.80893279e-02, -1.04957787e+00,  5.18154928e-01,\n",
       "       -2.27877344e-01, -2.78044914e-01,  4.96631804e-01,  4.71355705e-01,\n",
       "        1.32314512e+00,  1.49599986e+00, -1.54637784e+00, -1.24052242e+00,\n",
       "        5.04880005e-01,  1.73665861e-01,  7.52003753e-01, -7.21985462e-01,\n",
       "       -2.81911509e-01,  1.51330498e+00,  2.60360569e-01, -1.14135699e+00,\n",
       "        4.41115815e-01, -1.71949366e+00, -5.47037503e-01, -5.27616388e-01,\n",
       "       -3.36763246e-01, -1.11718844e-01, -8.33806573e-01,  8.77640465e-01,\n",
       "        3.59612908e-01,  2.24704477e+00, -6.20722863e-03,  2.36227027e-01,\n",
       "        2.99368689e-02, -3.06977076e-02,  6.61807435e-01,  6.34527171e-01,\n",
       "        9.12214523e-01, -4.27362565e-01,  1.22376521e+00,  7.00293639e-01,\n",
       "        1.96750606e-01, -7.20065022e-01,  4.73696070e-01,  2.88226592e-01,\n",
       "        4.51824826e-01,  1.58762820e-01,  1.59860192e+00, -6.88105593e-01,\n",
       "       -9.25869687e-01,  2.86756131e+00,  7.43186041e-01,  1.23006226e-01,\n",
       "        1.45936215e+00,  1.14366759e+00, -1.46027871e+00,  5.78852358e-01,\n",
       "       -1.38964041e+00,  1.26617805e+00, -6.03773855e-02, -2.40969985e+00,\n",
       "       -5.82549983e-01,  9.13314105e-01,  1.33129740e+00, -2.70125720e-01,\n",
       "       -1.99340949e-01, -1.44926368e+00, -6.64384196e-01,  1.47704955e+00,\n",
       "       -1.80798270e+00,  6.26147196e-02, -9.74075643e-01,  6.48305158e-01,\n",
       "        4.96075342e-01,  1.98930097e-01, -4.97716789e-01,  6.60670607e-01,\n",
       "        1.08119821e-01, -2.18721950e+00,  1.56058155e+00,  1.20124244e+00,\n",
       "        2.50024520e+00, -8.60167179e-02,  9.76755703e-01, -5.89052393e-01,\n",
       "        9.04012599e-02, -1.17255744e+00, -1.20203526e+00, -1.86786339e-01,\n",
       "        1.25090690e+00, -6.61193406e-01,  5.40817773e-01,  1.51310846e+00,\n",
       "        1.73999212e-01,  2.09789663e+00,  9.64078149e-02, -4.59004065e-01,\n",
       "       -1.28301428e+00,  1.12874275e+00, -4.30037921e-01, -6.41189898e-01,\n",
       "        5.73279422e-02,  2.86155994e+00, -7.28353741e-01,  1.70044524e+00,\n",
       "       -1.50960335e-01,  1.59528518e+00, -1.15014383e+00,  1.38716206e+00,\n",
       "       -1.63083403e+00, -5.58127595e-01, -1.29216559e+00, -1.36974102e-01,\n",
       "       -7.70603066e-01,  9.49216324e-01,  5.81190602e-01,  9.67887969e-01,\n",
       "       -1.06834745e+00,  1.50265118e+00,  1.37519225e+00,  5.35883348e-01,\n",
       "        2.41112383e-01, -3.45240347e-01,  4.75596317e-01, -6.18519255e-02,\n",
       "       -3.95373099e-02, -8.23176276e-02,  3.81232960e-02,  3.13267773e+00,\n",
       "       -7.39997568e-01,  1.37143901e+00,  8.98528355e-01,  1.17215189e+00,\n",
       "       -7.48981036e-01,  9.03455245e-01,  1.06469413e+00,  2.47725886e+00,\n",
       "        1.40702413e-01,  1.83913621e+00, -7.01064969e-01,  1.78366975e+00,\n",
       "       -6.62363753e-01, -2.16396319e+00,  8.85202048e-01, -1.25893625e+00,\n",
       "        8.58049639e-01,  8.29979806e-01,  1.13354018e+00,  3.69540367e-01,\n",
       "        1.51936708e-01, -2.22852934e+00,  1.35847221e-02,  4.68254850e-01,\n",
       "       -1.15231985e+00, -4.71521199e-01, -8.81328453e-04,  4.48802736e-01,\n",
       "       -7.37822054e-01, -7.08669219e-01,  2.17841113e+00, -7.09188690e-02,\n",
       "       -1.81529413e+00,  9.18117695e-01,  5.67638573e-01, -1.23053289e+00,\n",
       "        3.06315718e-01, -2.53702338e+00,  7.32374831e-01,  3.72361526e+00,\n",
       "        1.14674473e+00,  1.64680561e-01, -4.58105249e-01,  4.43663188e-02,\n",
       "        5.72915209e-01,  1.89580940e+00,  1.50461596e+00, -3.73415712e-02,\n",
       "       -2.41524866e+00,  3.89620072e-01, -1.55923535e+00,  1.89514645e-02,\n",
       "       -3.63539252e-01,  1.56469968e+00, -6.53850788e-02,  7.80582607e-01,\n",
       "       -1.06932308e+00,  3.76730407e-01, -1.45857285e+00, -1.03977741e+00,\n",
       "        1.85029820e+00, -7.13945879e-02, -1.12736982e+00, -1.65209733e+00,\n",
       "        4.66060399e-01, -4.91157995e-01, -4.44037873e-01,  8.22844730e-01,\n",
       "        6.61472983e-02,  5.46376870e-01, -2.46018429e-01,  1.31880102e-01,\n",
       "        7.78300093e-01,  5.87527142e-01, -7.04748940e-02, -3.17117270e-01,\n",
       "        8.50235888e-01, -6.85545984e-01, -5.70436430e-01, -3.52628833e-01,\n",
       "        1.14834456e-02,  8.34209373e-01, -6.15865754e-01,  2.24389725e-01,\n",
       "       -1.07546159e+00,  1.42158808e+00,  5.54360630e-01, -1.70307502e+00,\n",
       "        2.45231049e+00, -8.73911959e-01, -7.52163999e-01,  1.04703287e+00,\n",
       "        6.33388000e-01, -1.50966805e-01, -1.35535834e-01, -1.88763845e-03,\n",
       "       -1.39505768e+00, -1.13822484e+00,  4.39660991e-01,  4.82643965e-01,\n",
       "        6.85773268e-01,  7.25866781e-02,  2.02949484e+00, -9.25228797e-01,\n",
       "        1.90221325e-01, -2.25358707e-01, -4.74092342e-01, -1.20991276e+00,\n",
       "       -2.47991985e-02,  9.42932232e-01, -4.30197912e-01, -9.73639956e-02,\n",
       "        8.64983703e-01,  4.78996227e-01,  1.07749741e-01, -1.58521432e+00,\n",
       "       -7.53326279e-01,  7.51594468e-01, -4.48611571e-01, -4.14012413e-01,\n",
       "       -9.94594162e-01,  5.17755852e-02, -2.50936783e-01, -5.61698042e-01,\n",
       "        1.13252913e-02,  7.74993052e-01, -1.17541667e-01,  5.71577568e-02,\n",
       "       -1.74196841e+00, -9.27053577e-01, -3.53308279e-01, -7.64415407e-01,\n",
       "        7.06648234e-01, -1.99820172e+00, -8.37411686e-01,  1.49876432e+00,\n",
       "        1.12901570e+00,  1.91170286e+00, -1.55458313e-01,  1.06828064e+00,\n",
       "       -5.71631373e-01,  2.78009276e-02, -1.64306974e+00, -9.13455837e-01,\n",
       "       -1.49760688e+00,  1.90060674e-01, -1.00994727e+00,  2.90155784e-01,\n",
       "        6.10395917e-02,  1.04326758e+00,  7.17700144e-01,  6.55840467e-01,\n",
       "        1.67912659e-01,  7.39541661e-01,  3.60935058e-01, -1.58330451e+00,\n",
       "       -3.74384184e-01, -1.16883420e+00, -1.51766216e+00, -3.00261087e-02,\n",
       "       -1.29238774e+00, -2.10564172e+00, -9.87605793e-01,  1.19072200e+00,\n",
       "        2.12774686e+00, -1.63740640e+00,  5.40483648e-01, -2.01389025e-01,\n",
       "        1.42047582e+00,  7.22751088e-02,  7.38337649e-01,  2.95251621e-01,\n",
       "       -5.99778680e-01, -7.13451183e-01,  1.56831807e-01, -1.66086826e+00,\n",
       "       -1.98965554e+00,  1.21472553e-01, -6.73799456e-01,  5.76606198e-01,\n",
       "        1.38808471e-01, -6.50075633e-01,  9.44594226e-01, -2.22749647e-01,\n",
       "       -1.70467212e+00, -9.81853601e-01,  6.51385063e-02,  1.57252320e+00,\n",
       "        1.84717094e-01, -3.47732481e-01,  1.18781830e+00,  1.29478990e-01,\n",
       "        1.48330170e+00, -1.18059468e+00, -1.20945988e+00,  7.50656443e-01,\n",
       "        1.34702759e+00,  2.47123641e-02, -1.66689148e+00,  1.63659450e+00,\n",
       "       -6.31876581e-01, -9.95568403e-01, -1.23932626e+00,  1.47597128e-02,\n",
       "       -1.75420864e+00,  1.00750021e+00,  2.02748803e+00, -8.58022983e-01,\n",
       "       -7.94420749e-02, -1.00882473e+00, -6.88753611e-01,  7.54494068e-02,\n",
       "        5.13611589e-01,  3.32544180e-01, -7.30856146e-02, -8.83034351e-01,\n",
       "       -4.25588655e-01,  1.35880605e+00,  2.35020848e-01,  3.36866906e-01,\n",
       "        2.37359556e+00,  1.69011425e+00,  1.17598435e+00,  1.02413009e+00,\n",
       "        1.35633522e+00,  2.75716058e-01,  6.40275120e-01,  2.10160174e-01,\n",
       "       -1.00417810e+00, -8.24621524e-01,  1.20733855e-01,  1.16445235e+00,\n",
       "        1.31064294e+00,  1.33536548e+00, -5.43452263e-01, -3.92559400e-01,\n",
       "        8.22481327e-01, -5.25458035e-01,  8.44796457e-01, -6.45555007e-02,\n",
       "       -1.32693757e+00,  2.13400766e+00, -2.87225945e-01,  2.80840808e-01,\n",
       "        1.95542496e+00, -1.29316603e+00, -4.23277986e-01,  3.76357228e-01,\n",
       "        1.01393491e+00,  1.55044999e+00, -5.32178096e-01,  5.52822521e-01,\n",
       "       -7.56833690e-01,  1.64391380e+00,  1.89390910e+00,  2.49192150e-01,\n",
       "        1.46013880e+00,  1.03781044e+00,  1.04022679e+00,  1.09364182e+00,\n",
       "        3.66396208e-01,  1.32597591e-01,  2.49998326e-02, -1.33582156e-01,\n",
       "       -1.94602627e+00,  1.02648480e-01,  6.10958661e-02,  2.44474560e-01,\n",
       "        8.53172939e-01, -1.88656056e+00, -1.54757403e-01,  3.27214487e-01,\n",
       "       -1.86256948e+00,  4.34588419e-01, -2.05565949e-01, -9.96571410e-01,\n",
       "       -6.32655795e-01,  1.74565959e+00,  6.30181296e-01, -1.64361839e-01,\n",
       "        9.53852532e-01, -1.45026621e+00, -1.06484417e+00,  2.65694226e-01,\n",
       "       -9.49576117e-01, -1.83417046e+00,  4.27090056e-01, -4.18849722e-01,\n",
       "        6.22963980e-01,  1.08279581e-01, -8.84425895e-02,  7.14627202e-01,\n",
       "        1.54455614e+00,  5.97638698e-01,  1.67800863e+00, -9.85261790e-01,\n",
       "       -7.05855081e-02, -1.75319943e-01,  6.13855601e-01,  1.27630786e-01,\n",
       "       -3.96264356e-01,  2.23809067e-01,  6.15451108e-01, -5.92926617e-01,\n",
       "        9.38890550e-01, -3.70368620e-01,  1.34741801e+00,  9.73644354e-01,\n",
       "       -1.36472044e+00,  8.49717961e-01,  1.09025150e+00,  1.29356074e+00,\n",
       "        4.85661894e-01,  1.95744414e-01, -4.41993253e-01,  3.23932896e-01,\n",
       "        9.51416445e-01,  6.60324555e-01,  2.24504521e-02, -5.71473302e-02])"
      ]
     },
     "execution_count": 15,
     "metadata": {},
     "output_type": "execute_result"
    }
   ],
   "source": [
    "residual(A,B)"
   ]
  }
 ],
 "metadata": {
  "colab": {
   "collapsed_sections": [],
   "name": "CITNonLinear.ipynb",
   "provenance": []
  },
  "kernelspec": {
   "display_name": "Python 3 (ipykernel)",
   "language": "python",
   "name": "python3"
  },
  "language_info": {
   "codemirror_mode": {
    "name": "ipython",
    "version": 3
   },
   "file_extension": ".py",
   "mimetype": "text/x-python",
   "name": "python",
   "nbconvert_exporter": "python",
   "pygments_lexer": "ipython3",
   "version": "3.9.7"
  }
 },
 "nbformat": 4,
 "nbformat_minor": 1
}
