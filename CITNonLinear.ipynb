{
 "cells": [
  {
   "cell_type": "code",
   "execution_count": 1,
   "metadata": {},
   "outputs": [],
   "source": [
    "#loading yeast groundtruth 0 data\n",
    "yeast=open(\"yeast_residual_data_full_1000_gt_2.txt\",\"r\")\n",
    "\n",
    "\n",
    "\n",
    "#yeast data read \n",
    "L=[]\n",
    "A=[]\n",
    "B=[]\n",
    "for i in range(0,1000):\n",
    "  line=yeast.readline()\n",
    "  #line=line[1:-2] #remove double quotes \n",
    "  #param = [j for j in line.split()]\n",
    "  #print(param)\n",
    "  #chrname.append(param[1])\n",
    "  #g1.append(param[2])\n",
    "  #g2.append(param[3])\n",
    "  line=yeast.readline()\n",
    "  l = [j for j in line.split()]\n",
    "  L.append([int(i) for i in l])\n",
    "  line=yeast.readline()\n",
    "  a = [j for j in line.split()]\n",
    "  A.append([float(i) for i in a])\n",
    "  line=yeast.readline()\n",
    "  b = [j for j in line.split()]\n",
    "  B.append([float(i) for i in b])\n",
    "dataset_0 = [i for i in zip(L,A,B)]\n"
   ]
  },
  {
   "cell_type": "code",
   "execution_count": 2,
   "metadata": {},
   "outputs": [],
   "source": [
    "#loading yeast groundtruth 1 data\n",
    "yeast=open(\"yeast_residual_data_full_1000_gt_1.txt\",\"r\")\n",
    "\n",
    "\n",
    "\n",
    "#yeast data read \n",
    "L=[]\n",
    "A=[]\n",
    "B=[]\n",
    "for i in range(0,1000):\n",
    "  line=yeast.readline()\n",
    "  #line=line[1:-2] #remove double quotes \n",
    "  #param = [j for j in line.split()]\n",
    "  #print(param)\n",
    "  #chrname.append(param[1])\n",
    "  #g1.append(param[2])\n",
    "  #g2.append(param[3])\n",
    "  line=yeast.readline()\n",
    "  l = [j for j in line.split()]\n",
    "  L.append([int(i) for i in l])\n",
    "  line=yeast.readline()\n",
    "  a = [j for j in line.split()]\n",
    "  A.append([float(i) for i in a])\n",
    "  line=yeast.readline()\n",
    "  b = [j for j in line.split()]\n",
    "  B.append([float(i) for i in b])\n",
    "dataset_1 = [i for i in zip(L,A,B)]\n",
    "\n",
    "#reshapefunction\n",
    "\n"
   ]
  },
  {
   "cell_type": "code",
   "execution_count": 3,
   "metadata": {
    "colab": {
     "base_uri": "https://localhost:8080/"
    },
    "id": "qd6CiVe-jyEn",
    "outputId": "b4187c26-21ff-4edc-e194-db58fd55f233"
   },
   "outputs": [
    {
     "name": "stderr",
     "output_type": "stream",
     "text": [
      "2022-03-16 11:51:35.919416: W tensorflow/stream_executor/platform/default/dso_loader.cc:64] Could not load dynamic library 'libcudart.so.11.0'; dlerror: libcudart.so.11.0: cannot open shared object file: No such file or directory\n",
      "2022-03-16 11:51:35.919440: I tensorflow/stream_executor/cuda/cudart_stub.cc:29] Ignore above cudart dlerror if you do not have a GPU set up on your machine.\n"
     ]
    }
   ],
   "source": [
    "#loading the libraries\n",
    "from tensorflow_probability import distributions as tfd\n",
    "import tensorflow as tf\n",
    "from tensorflow.keras.layers import Input, Dense, Activation, Concatenate\n",
    "\n",
    "from sklearn.linear_model import LinearRegression\n",
    "from sklearn.model_selection import train_test_split\n",
    "from sklearn.preprocessing import MinMaxScaler\n",
    "from sklearn.datasets import load_boston\n",
    "from sklearn.linear_model import LinearRegression\n",
    "import matplotlib.pyplot as plt\n",
    "import seaborn as sns\n",
    "import random\n",
    "import numpy as np\n",
    "import statsmodels.api as sm\n",
    "import pickle\n",
    "from sklearn.feature_selection import mutual_info_regression\n",
    "from scipy import stats\n",
    "import rpy2"
   ]
  },
  {
   "cell_type": "code",
   "execution_count": 4,
   "metadata": {},
   "outputs": [],
   "source": [
    "#loading the rpy2 pacakge to use the R package nlcor\n",
    "from rpy2.robjects.packages import importr\n",
    "import rpy2.robjects.packages as rpackages\n",
    "nlcor=importr('nlcor')\n",
    "import rpy2.robjects.numpy2ri\n",
    "rpy2.robjects.numpy2ri.activate()"
   ]
  },
  {
   "cell_type": "code",
   "execution_count": 5,
   "metadata": {
    "id": "OxvAXLLFnl7d"
   },
   "outputs": [],
   "source": [
    "#defining the class MDN\n",
    "class MDN_module(tf.keras.Model):\n",
    "\n",
    "    def __init__(self, neurons=15, components = 1):\n",
    "        super(MDN_module, self).__init__(name=\"MDN_module\")\n",
    "        self.neurons = neurons\n",
    "        self.components = components\n",
    "\n",
    "        #chaging activation to relu from linear, changin relu to sigmoid \n",
    "        for i in range(1,3):\n",
    "          s=\"self\"+\".h\"+str(i)+\"= Dense(neurons, activation=\\\"relu\\\", name=\"+\"'h\"+str(i)+\"')\"\n",
    "          exec(s)\n",
    "        self.alphas = Dense(components, activation=\"softmax\", name=\"alphas\")\n",
    "        self.mus = Dense(components, activation=\"linear\",name=\"mus\") \n",
    "        self.sigmas = Dense(components, activation=\"nnelu\",name=\"sigmas\") #activation changed from linear to default\n",
    "        self.pvec = Concatenate(name=\"pvec\")\n",
    "        \n",
    "    def call(self, inputs):\n",
    "        x=self.h1(inputs)\n",
    "        #x=self.inputA(inputs)\n",
    "        x=self.h2(x)\n",
    "        alpha_v = self.alphas(x)\n",
    "        mu_v = self.mus(x)\n",
    "        sigma_v = self.sigmas(x)\n",
    "        \n",
    "        return self.pvec([alpha_v,mu_v, sigma_v])"
   ]
  },
  {
   "cell_type": "code",
   "execution_count": 6,
   "metadata": {
    "id": "7DSPXmR1ogiH"
   },
   "outputs": [],
   "source": [
    "no_parameters=3\n",
    "components=1\n",
    "def nnelu(input):\n",
    "    \"\"\" Computes the Non-Negative Exponential Linear Unit\n",
    "    \"\"\"\n",
    "    return tf.add(tf.constant(1, dtype=tf.float32), tf.nn.elu(input))\n",
    "\n",
    "def slice_parameter_vectors(parameter_vector):\n",
    "    \"\"\" Returns an unpacked list of paramter vectors.\n",
    "    \"\"\"\n",
    "    return [parameter_vector[:,i*components:(i+1\n",
    "    )*components] for i in range(no_parameters)]\n",
    "\n",
    "def gnll_loss(y, parameter_vector):\n",
    "    \"\"\" Computes the mean negative log-likelihood loss of y given the mixture parameters.\n",
    "    \"\"\"\n",
    "    alpha,mu,sigma = slice_parameter_vectors(parameter_vector) # Unpack parameter vectors\n",
    "    #tf.print(sigma)\n",
    "    gm = tfd.MixtureSameFamily(\n",
    "           mixture_distribution=tfd.Categorical(probs=alpha),\n",
    "           components_distribution=tfd.Normal(\n",
    "           loc=mu,       \n",
    "           scale=sigma))\n",
    "    \n",
    "    \n",
    "    \n",
    "    log_likelihood =  gm.log_prob(tf.transpose(y)) # Evaluate log-probability of y \n",
    "    return -tf.reduce_mean(log_likelihood, axis=-1) \n",
    "\n",
    "tf.keras.utils.get_custom_objects().update({'nnelu': Activation(nnelu)})\n",
    "\n",
    "def gnll_eval(y,alpha, mu, sigma):\n",
    "    \"\"\" Computes the mean negative log-likelihood loss of y given the mixture parameters.\n",
    "    \"\"\"\n",
    "    gm = tfd.MixtureSameFamily(\n",
    "        mixture_distribution=tfd.Categorical(probs=alpha),\n",
    "        components_distribution=tfd.Normal(\n",
    "            loc=mu,       \n",
    "            scale=sigma))\n",
    "    log_likelihood = gm.log_prob(tf.transpose(y))\n",
    "    return -tf.reduce_mean(log_likelihood, axis=-1)\n",
    "\n",
    "\n",
    "def eval_mdn_model(x_test, y_test, mdn_model):\n",
    "    \"\"\" Evaluate the model to get the loss for the given x and y \n",
    "    \"\"\"\n",
    "    y_pred = mdn_model.predict(np.reshape(x_test,newshape=(len(x_test),-1)))\n",
    "    alpha,mu,sigma = slice_parameter_vectors(y_pred)\n",
    "    mdn_nll = gnll_eval(y_test.astype(np.float32),alpha, mu, sigma).numpy()\n",
    "    return mdn_nll\n",
    "#reshapefunction\n",
    "def reshapevar(X):\n",
    "  \"\"\"\n",
    "  Function to reshape the vector for the input \n",
    "  \"\"\"\n",
    "  return np.reshape(X,newshape=(len(X),-1))"
   ]
  },
  {
   "cell_type": "code",
   "execution_count": 24,
   "metadata": {
    "id": "T6sJ7ffirsnB"
   },
   "outputs": [],
   "source": [
    "def compute_loss(P,Q):\n",
    "  \"\"\" Compute the loss for the given pair\n",
    "  \"\"\"\n",
    "  opt = tf.optimizers.Adam(1e-2)\n",
    "  mdn_PQ = MDN_module()\n",
    "  mdn_PQ.compile(loss=gnll_loss, optimizer=opt)\n",
    "  mdn_PQ.fit(x=reshapevar(P), y=np.array(Q).T,epochs=100,  batch_size=64,verbose=0)\n",
    "  return eval_mdn_model(P,Q,mdn_PQ)\n"
   ]
  },
  {
   "cell_type": "code",
   "execution_count": 8,
   "metadata": {
    "id": "X6V8X2QFpmC7"
   },
   "outputs": [],
   "source": [
    "def shuffleBtimes(P,Q,B):\n",
    "  \"\"\" Shuffle Q B times and compute the loss \n",
    "  \"\"\"\n",
    "  loss=[]\n",
    "  for i in range(0,B):\n",
    "      loss.append(compute_loss(P,np.random.permutation(Q)))\n",
    "  return loss\n"
   ]
  },
  {
   "cell_type": "code",
   "execution_count": 9,
   "metadata": {
    "id": "iUW3ikOHu6PO"
   },
   "outputs": [],
   "source": [
    "def LinearLABData():\n",
    "  \"\"\" Generate the linear data \n",
    "  \"\"\"\n",
    "  L = np.random.binomial(1,0.5,1000)  \n",
    "  beta0 = np.ones(1000)-0.4\n",
    "  #beta1 = 0.5\n",
    "  beta1=3\n",
    "  beta2= 0.3\n",
    "  beta3=0.8\n",
    "  eps0 = np.random.standard_normal(1000)\n",
    "  eps1 = np.random.standard_normal(1000)\n",
    "  A = beta0 + beta1*L + eps0\n",
    "  B = beta2+ beta3*A# + eps1 \n",
    "  plt.scatter(A,B)\n",
    "  plt.title(\"A vs B\")\n",
    "  plt.xlabel(\"A\")\n",
    "  plt.ylabel(\"B\")\n",
    "  return [L,A,B]"
   ]
  },
  {
   "cell_type": "code",
   "execution_count": 23,
   "metadata": {
    "id": "OOIw2i80ugk6"
   },
   "outputs": [],
   "source": [
    "def residual(P,Q):\n",
    "  \"\"\" Calculate the residual \n",
    "  \"\"\"\n",
    "  opt = tf.optimizers.Adam(1e-2)\n",
    "  mdn_PQ = MDN_module()\n",
    "  mdn_PQ.compile(loss=gnll_loss, optimizer=opt)\n",
    "    #changing epochs didnt make much difference\n",
    "  mdn_PQ.fit(x=reshapevar(P), y=np.array(Q).T,epochs=100,  batch_size=64,verbose=0)\n",
    "  y_pred = mdn_PQ.predict(np.reshape(P,newshape=(len(P),-1)))\n",
    "  #model=sm.OLS(Q,P).fit() \n",
    "  #print(model.resid)\n",
    "  #return model.resid #Linear residual\n",
    "  #non linear residual\n",
    " # print(y_pred)\n",
    "  #print(Q)\n",
    " #print(Q-y_pred[:,1])\n",
    "  return (Q-y_pred[:,1])\n",
    "  "
   ]
  },
  {
   "cell_type": "code",
   "execution_count": 11,
   "metadata": {},
   "outputs": [],
   "source": [
    "yeast_name=\"\"\n",
    "def yeast_data(i,ind):\n",
    "    '''\n",
    "    Function to return the trios with the gndtruth 0/1 based on i and the number based on ind \n",
    "    '''\n",
    "    global yeast_name\n",
    "    yeast_name=\"yeast_\"+str(i)+\"_\"+str(ind)\n",
    "    ds = eval(\"dataset_\"+str(i)+\"[\"+str(ind)+\"]\")\n",
    "    L_dist = np.array(ds[0]) #np.array(ds[0])\n",
    "    A_dist = np.array(ds[1])\n",
    "    B_dist = np.array(ds[2])\n",
    "    plt.scatter(A_dist,B_dist)\n",
    "    plt.title(\"A vs B\")\n",
    "    plt.xlabel(\"A\")\n",
    "    plt.ylabel(\"B\")\n",
    "    return [L_dist,A_dist,B_dist]"
   ]
  },
  {
   "cell_type": "code",
   "execution_count": 12,
   "metadata": {},
   "outputs": [],
   "source": [
    "def calculate_pvalue(original,loss_list,test):\n",
    "    '''\n",
    "    calculate the p value \n",
    "    '''\n",
    "    if(test==1 or test==2):\n",
    "        return sum(i < original for i in loss_list)/len(loss_list)\n",
    "    \n",
    "    return sum(i > original for i in loss_list)/len(loss_list)\n",
    "    "
   ]
  },
  {
   "cell_type": "code",
   "execution_count": 13,
   "metadata": {},
   "outputs": [],
   "source": [
    "def stratify_B_n_times(L,A,B,n):\n",
    "    '''\n",
    "    Stratify B wrt to L\n",
    "    '''\n",
    "    loss=[]\n",
    "    indices_1 = [i for i, x in enumerate(L) if x == 1]\n",
    "    indices_0 = [i for i, x in enumerate(L) if x == 0]\n",
    "    for i in range(0,n):\n",
    "      \n",
    "      B_dist_temp=np.zeros(len(B))\n",
    "      mod_indices_1=random.sample(indices_1,len(indices_1))\n",
    "      for i in range(len(indices_1)):\n",
    "        B_dist_temp[indices_1[i]]=B[mod_indices_1[i]]\n",
    "\n",
    "      mod_indices_0=random.sample(indices_0,len(indices_0))\n",
    "      for i in range(len(indices_0)):\n",
    "        B_dist_temp[indices_0[i]]=B[mod_indices_0[i]]\n",
    "      #print(B_dist_temp)\n",
    "      loss.append(compute_loss(L,residual(A,B_dist_temp)))\n",
    "\n",
    "    return loss \n",
    "\n",
    "\n"
   ]
  },
  {
   "cell_type": "code",
   "execution_count": 21,
   "metadata": {
    "colab": {
     "base_uri": "https://localhost:8080/",
     "height": 295
    },
    "id": "8NWufrxKokcX",
    "outputId": "b8f25bde-64db-4b27-86fb-05f7a5cf39cc"
   },
   "outputs": [
    {
     "data": {
      "image/png": "[encoded data removed]",
      "text/plain": [
       "<Figure size 432x288 with 1 Axes>"
      ]
     },
     "metadata": {
      "needs_background": "light"
     },
     "output_type": "display_data"
    }
   ],
   "source": [
    "random.seed(24)\n",
    "shuffles=100\n",
    "#L,A,B=LinearLABData()\n",
    "L,A,B=yeast_data(1,444)\n"
   ]
  },
  {
   "cell_type": "code",
   "execution_count": 22,
   "metadata": {},
   "outputs": [
    {
     "name": "stdout",
     "output_type": "stream",
     "text": [
      "0.0\n",
      "0.0\n",
      "1.0\n"
     ]
    }
   ],
   "source": [
    "\n",
    "A_shuffle=np.copy(A)\n",
    "B_shuffle=np.copy(B)\n",
    "#print(\"Original\",B_shuffle)\n",
    "loss_list_LA=shuffleBtimes(L,A_shuffle,shuffles)\n",
    "loss_list_LB=shuffleBtimes(L,B_shuffle,shuffles)\n",
    "loss_list_Bresidual=stratify_B_n_times(L,A_shuffle,B_shuffle,shuffles) #conditional independence test\n",
    "true_LA=compute_loss(L,A)\n",
    "true_LB=compute_loss(L,B)\n",
    "#print(\"Next\",B_shuffle)\n",
    "true_LBresidual=compute_loss(L,residual(A,B_shuffle))\n",
    "print(calculate_pvalue(true_LA,loss_list_LA,1))\n",
    "print(calculate_pvalue(true_LB,loss_list_LB,2))\n",
    "print(calculate_pvalue(true_LBresidual,loss_list_Bresidual,3))\n",
    "#true_LindB_A=compute_loss(L,B_resid)\n"
   ]
  },
  {
   "cell_type": "code",
   "execution_count": 65,
   "metadata": {},
   "outputs": [
    {
     "data": {
      "text/plain": [
       "[1.5364832,\n",
       " 1.561197,\n",
       " 1.5492481,\n",
       " 1.5398396,\n",
       " 1.518585,\n",
       " 1.5410371,\n",
       " 1.5459744,\n",
       " 1.539704,\n",
       " 1.5440611,\n",
       " 1.5692179]"
      ]
     },
     "execution_count": 65,
     "metadata": {},
     "output_type": "execute_result"
    }
   ],
   "source": [
    "loss_list_Bresidual"
   ]
  },
  {
   "cell_type": "code",
   "execution_count": 66,
   "metadata": {},
   "outputs": [
    {
     "data": {
      "text/plain": [
       "-1.0538787"
      ]
     },
     "execution_count": 66,
     "metadata": {},
     "output_type": "execute_result"
    }
   ],
   "source": [
    "true_LBresidual"
   ]
  },
  {
   "cell_type": "code",
   "execution_count": 27,
   "metadata": {},
   "outputs": [
    {
     "data": {
      "text/plain": [
       "'yeast_1_444'"
      ]
     },
     "execution_count": 27,
     "metadata": {},
     "output_type": "execute_result"
    }
   ],
   "source": [
    "yeast_name "
   ]
  },
  {
   "cell_type": "code",
   "execution_count": 109,
   "metadata": {
    "colab": {
     "base_uri": "https://localhost:8080/"
    },
    "id": "4zfCEe9r8DcW",
    "outputId": "d98f4675-d52a-4717-adf3-c2aabbb436ba"
   },
   "outputs": [],
   "source": [
    "pickle_items=[loss_list_LA,loss_list_LB,loss_list_LindB_A,true_LA,true_LB,true_LindB_A]\n",
    "file_name=str(shuffles)+\"shuffles\"+yeast_name+\".pkl\"\n",
    "open_file = open(file_name, \"wb\")\n",
    "pickle.dump(pickle_items, open_file)\n",
    "open_file.close()\n"
   ]
  },
  {
   "cell_type": "code",
   "execution_count": 37,
   "metadata": {
    "colab": {
     "base_uri": "https://localhost:8080/"
    },
    "id": "1SaPyLVQ8QT7",
    "outputId": "921fe364-62d6-4c2d-a6be-0c9e8e60a74c"
   },
   "outputs": [],
   "source": [
    "file_name=\"100shufflesyeast_1_444.pkl\"\n",
    "open_file = open(file_name, \"rb\")\n",
    "\n",
    "loaded_list = pickle.load(open_file)\n",
    "\n",
    "open_file.close()"
   ]
  },
  {
   "cell_type": "code",
   "execution_count": 41,
   "metadata": {},
   "outputs": [],
   "source": [
    "loss_list_LA,loss_list_LB,loss_list_LindB_A,true_LA,true_LB,true_LindB_A=loaded_list"
   ]
  },
  {
   "cell_type": "code",
   "execution_count": 18,
   "metadata": {},
   "outputs": [
    {
     "data": {
      "image/png": "[encoded data removed]",
      "text/plain": [
       "<Figure size 1080x504 with 3 Axes>"
      ]
     },
     "metadata": {
      "needs_background": "light"
     },
     "output_type": "display_data"
    }
   ],
   "source": [
    "basket=20\n",
    "fig, axs = plt.subplots(1, 3,figsize =(15, 7),tight_layout = True)\n",
    "axs[0].hist(loss_list_LA,bins=basket,range=[min(min(loss_list_LA),true_LA),max(max(loss_list_LA),true_LA)])\n",
    "axs[0].set_title(\"Loss LA\")\n",
    "axs[0].axvline(true_LA,linestyle='dashed',color='red')\n",
    "axs[1].hist(loss_list_LB,bins=basket,range=[min(min(loss_list_LA),true_LA),max(max(loss_list_LB),true_LB)])\n",
    "axs[1].set_title(\"Loss LB\")\n",
    "axs[1].axvline(true_LB,linestyle='dashed',color='red')\n",
    "axs[2].hist(loss_list_Bresidual,bins=basket)#,range=[min(min(loss_list_LA),true_LA),max(max(loss_list_LindB_A),true_LindB_A)])\n",
    "axs[2].set_title(\"Loss LindB_A\")\n",
    "axs[2].axvline(true_LBresidual,linestyle='dashed',color='red')\n",
    "plt.show()"
   ]
  },
  {
   "cell_type": "code",
   "execution_count": 36,
   "metadata": {},
   "outputs": [
    {
     "data": {
      "text/plain": [
       "-0.068573"
      ]
     },
     "execution_count": 36,
     "metadata": {},
     "output_type": "execute_result"
    }
   ],
   "source": [
    "true_LA\n"
   ]
  },
  {
   "cell_type": "code",
   "execution_count": null,
   "metadata": {},
   "outputs": [],
   "source": [
    "#DEBUGGING"
   ]
  },
  {
   "cell_type": "code",
   "execution_count": 110,
   "metadata": {},
   "outputs": [
    {
     "data": {
      "text/plain": [
       "array([ 0.20497284,  0.01590522, -0.13201083, ...,  0.01965048,\n",
       "        0.29390162,  0.09908035])"
      ]
     },
     "execution_count": 110,
     "metadata": {},
     "output_type": "execute_result"
    }
   ],
   "source": [
    "a=sm.OLS(B,A).fit()\n",
    "a.predict()"
   ]
  },
  {
   "cell_type": "code",
   "execution_count": 111,
   "metadata": {},
   "outputs": [
    {
     "data": {
      "text/plain": [
       "<matplotlib.collections.PathCollection at 0x7efb94ff19a0>"
      ]
     },
     "execution_count": 111,
     "metadata": {},
     "output_type": "execute_result"
    },
    {
     "data": {
      "image/png": "[encoded data removed]",
      "text/plain": [
       "<Figure size 432x288 with 1 Axes>"
      ]
     },
     "metadata": {
      "needs_background": "light"
     },
     "output_type": "display_data"
    }
   ],
   "source": [
    "plt.scatter(A,B)\n",
    "plt.scatter(A,a.predict())\n",
    "plt.scatter(A,a.resid)"
   ]
  },
  {
   "cell_type": "code",
   "execution_count": 119,
   "metadata": {},
   "outputs": [],
   "source": [
    "indices_1 = [i for i, x in enumerate(L) if x == 1]\n",
    "indices_0 = [i for i, x in enumerate(L) if x == 0]\n",
    "B_dist_temp=np.zeros(len(B))\n",
    "mod_indices_1=random.sample(indices_1,len(indices_1))\n",
    "for i in range(len(indices_1)):\n",
    "    B_dist_temp[indices_1[i]]=B[mod_indices_1[i]]\n",
    "\n",
    "mod_indices_0=random.sample(indices_0,len(indices_0))\n",
    "for i in range(len(indices_0)):\n",
    "    B_dist_temp[indices_0[i]]=B[mod_indices_0[i]]"
   ]
  },
  {
   "cell_type": "code",
   "execution_count": 113,
   "metadata": {},
   "outputs": [
    {
     "data": {
      "text/plain": [
       "array([ 0.39167234, -0.11409602, -0.22241807, ..., -0.68969241,\n",
       "        0.25113783,  0.4797882 ])"
      ]
     },
     "execution_count": 113,
     "metadata": {},
     "output_type": "execute_result"
    }
   ],
   "source": [
    "B_dist_temp"
   ]
  },
  {
   "cell_type": "code",
   "execution_count": 127,
   "metadata": {},
   "outputs": [
    {
     "data": {
      "text/plain": [
       "<matplotlib.collections.PathCollection at 0x7efb94a04c70>"
      ]
     },
     "execution_count": 127,
     "metadata": {},
     "output_type": "execute_result"
    },
    {
     "data": {
      "image/png": "[encoded data removed]",
      "text/plain": [
       "<Figure size 432x288 with 1 Axes>"
      ]
     },
     "metadata": {
      "needs_background": "light"
     },
     "output_type": "display_data"
    }
   ],
   "source": [
    "#plt.scatter(A,B_dist_temp)\n",
    "b=sm.OLS(B_dist_temp,A).fit()\n",
    "plt.scatter(A,b.predict())\n",
    "#plt.scatter(A,b.resid)\n"
   ]
  },
  {
   "cell_type": "code",
   "execution_count": 108,
   "metadata": {},
   "outputs": [
    {
     "data": {
      "text/plain": [
       "<matplotlib.collections.PathCollection at 0x7efb950e4880>"
      ]
     },
     "execution_count": 108,
     "metadata": {},
     "output_type": "execute_result"
    },
    {
     "data": {
      "image/png": "[encoded data removed]",
      "text/plain": [
       "<Figure size 1080x504 with 2 Axes>"
      ]
     },
     "metadata": {
      "needs_background": "light"
     },
     "output_type": "display_data"
    }
   ],
   "source": [
    "\n",
    "fig, axs = plt.subplots(1, 2,figsize =(15, 7),tight_layout = True)\n",
    "axs[0].scatter(L,a.resid)\n",
    "axs[1].scatter(L,b.resid)"
   ]
  },
  {
   "cell_type": "code",
   "execution_count": 68,
   "metadata": {},
   "outputs": [
    {
     "data": {
      "text/plain": [
       "<matplotlib.collections.PathCollection at 0x7efb961afa60>"
      ]
     },
     "execution_count": 68,
     "metadata": {},
     "output_type": "execute_result"
    },
    {
     "data": {
      "image/png": "[encoded data removed]",
      "text/plain": [
       "<Figure size 432x288 with 1 Axes>"
      ]
     },
     "metadata": {
      "needs_background": "light"
     },
     "output_type": "display_data"
    }
   ],
   "source": [
    "plt.scatter(A,B)\n",
    "plt.scatter(A,B_dist_temp)"
   ]
  },
  {
   "cell_type": "code",
   "execution_count": 15,
   "metadata": {},
   "outputs": [
    {
     "name": "stdout",
     "output_type": "stream",
     "text": [
      "[-2.54210067e-01  5.42629652e-01 -5.81969778e-01  4.59890495e-01\n",
      "  1.99993533e-01 -1.03758464e+00  2.36681237e-01 -4.11425390e-01\n",
      " -3.80602961e-01  4.89073048e-01  5.07861036e-01 -5.20122483e-01\n",
      "  1.37835804e+00  9.49590006e-01  5.39468445e-01 -9.18726624e-01\n",
      " -1.59540767e-01  1.74380009e+00  7.83707277e-01 -1.04954102e+00\n",
      " -8.34245116e-01 -1.13423210e+00 -2.82287175e-01 -1.19861343e+00\n",
      "  2.67186626e-01  2.45780254e-01 -1.22017037e+00  5.66641735e-01\n",
      "  9.50850422e-01 -2.03615644e+00 -5.96837362e-01  3.25956226e-01\n",
      " -2.08223068e-01 -5.95957379e-02 -1.78095998e+00  2.25890803e+00\n",
      "  1.45119923e+00 -4.41864111e-01  8.98598331e-01  2.02511735e+00\n",
      " -8.32015348e-01 -9.50132975e-01  9.38607866e-01 -7.81604616e-01\n",
      "  3.93113321e-02  1.85973935e-02  2.42923241e-01  2.24870215e-01\n",
      " -9.66476615e-01 -1.52967211e+00 -7.10941492e-01 -6.60564770e-01\n",
      "  5.82869782e-01  5.08140089e-02  1.79171854e+00  6.28931976e-01\n",
      "  7.28517866e-01 -9.87147310e-01 -4.23925735e-01  6.03460261e-01\n",
      " -1.27473816e+00  9.19610788e-01 -5.59709830e-01  9.09036528e-01\n",
      " -3.23540684e-01  5.92163349e-01  1.74998831e+00 -6.36604387e-01\n",
      " -4.69560546e-01 -1.25812300e+00  1.69646959e+00  6.86289290e-01\n",
      " -5.89219507e-01  3.47365720e-01  1.85241241e+00  7.30065665e-01\n",
      "  6.10031968e-01 -8.93339999e-01 -3.21296748e-01 -1.35376061e+00\n",
      "  5.51503270e-01 -4.40012599e-01  3.13489751e+00 -2.18549689e+00\n",
      "  2.99023666e-01  4.97863008e-01 -6.19804887e-01 -4.34741648e-01\n",
      "  1.25162543e+00  3.14122670e-01 -8.40516600e-01  1.75698243e+00\n",
      " -3.00154939e-01  4.35675053e-01  7.29581570e-01  4.65054614e-01\n",
      "  4.24730976e-01  3.08749353e-01  2.96059929e-01  3.13908862e-01\n",
      "  5.01610935e-01  2.60856841e-01 -3.76462855e-01 -1.03402828e+00\n",
      " -9.08181504e-01  3.52740471e-01  7.08137175e-01 -1.06912243e+00\n",
      "  8.40381361e-01  1.29309632e+00 -1.77704926e-01 -3.57124555e-01\n",
      " -3.66784448e+00  6.72410549e-01 -6.22769279e-01 -3.45999359e-03\n",
      " -2.87563546e-01  1.36509733e+00 -4.43718729e-01 -7.58346977e-01\n",
      "  1.57827744e+00  3.43602977e-01 -9.45134360e-02 -8.08830642e-01\n",
      "  7.10761485e-01  1.81665386e+00  2.52623809e-01  6.92930286e-01\n",
      "  8.29146246e-01  5.21654863e-01 -1.20682169e+00  1.31047832e+00\n",
      "  1.97315552e-01  2.09881066e+00 -8.36511162e-01  1.22055163e-01\n",
      "  3.82633439e-02  1.85461853e+00  1.01676948e+00  7.89694579e-01\n",
      "  1.89668227e+00  3.77662931e-01  8.16291775e-01 -1.35758938e+00\n",
      " -2.10873248e-01  1.45250690e+00 -2.38415781e-01  2.07265878e-01\n",
      " -6.08618381e-01  4.78478463e-01  4.24902849e-01  1.01786768e-02\n",
      "  9.29526464e-01  1.78516262e+00  1.29382644e-01  1.43260169e+00\n",
      "  5.02477075e-01  1.92156971e+00  3.87671373e-01 -7.02438445e-02\n",
      "  8.17998056e-01 -5.23702846e-01 -7.15007879e-01  9.09702732e-02\n",
      "  8.29514451e-01  1.01012303e+00 -5.10135188e-01  3.68327519e-01\n",
      "  9.97301979e-01 -1.55848036e+00  1.03795056e-01 -1.46769259e+00\n",
      " -2.77745735e-01 -8.96508757e-01  1.64929626e+00  8.29659125e-01\n",
      " -6.00487736e-01 -5.17431785e-01  9.96212104e-01  5.47998158e-02\n",
      "  9.16482006e-01  1.87743234e+00  5.28456281e-01  1.95696363e+00\n",
      "  8.03155708e-01  1.76737359e+00 -1.16501888e+00  5.41582414e-01\n",
      " -8.06558708e-01 -1.99240437e+00  6.97831111e-01  1.87357186e+00\n",
      "  1.75961891e-01  1.11542126e+00  3.63575603e-01 -4.07857275e-01\n",
      "  1.22400568e+00 -1.81713793e-01  4.15994405e-02  8.23235268e-01\n",
      "  7.25579474e-01  2.12319127e-01 -1.24551605e-01  4.05243005e-03\n",
      " -1.11620163e-01  7.34333585e-01  3.79205674e-01 -1.03819062e+00\n",
      "  1.05056053e+00 -7.40735033e-01 -5.02326040e-01  9.44821142e-01\n",
      " -5.20731158e-02  3.83007270e-01  6.20483485e-01  8.53267565e-01\n",
      " -1.06246414e+00  3.32198486e-01 -2.89455688e-01  1.36721261e+00\n",
      " -6.95654094e-01  1.03025064e+00  1.70434065e-01 -1.02393989e+00\n",
      " -5.40477735e-02  1.86009068e+00  1.30060210e+00 -1.51633685e+00\n",
      "  2.97058275e+00  1.27112622e+00 -9.40009877e-01  5.83025868e-01\n",
      " -6.11130694e-01 -8.12612164e-02 -9.63431341e-01  4.49069043e-01\n",
      "  4.88997157e-01 -1.43263795e+00  1.14785823e+00  3.98022758e-01\n",
      " -1.07908743e+00 -4.33857664e-01 -1.52891501e+00 -8.85375986e-01\n",
      "  5.08292857e-01 -8.26877238e-01  3.68886496e-02  7.40757942e-01\n",
      "  5.13433828e-01  1.61907077e-01 -4.36219994e-01  3.27671958e-01\n",
      " -2.48244821e-01  3.29434717e-01 -8.14753089e-01  1.36425111e+00\n",
      " -8.22123174e-01 -2.53765754e+00  1.48195284e+00  6.51503162e-01\n",
      " -7.56531866e-01  2.83465642e+00 -3.51675730e-01  4.66332644e-01\n",
      " -4.72235091e-01 -1.71158172e+00 -7.64384695e-01  4.43522849e-01\n",
      " -1.85382035e-01  2.05665277e-01 -6.43364074e-01 -1.45032283e+00\n",
      " -5.34014130e-01 -1.45781189e+00  1.71698036e-01  3.60883667e-01\n",
      " -2.00029900e+00  6.59202968e-01  1.25213463e+00  1.46060231e+00\n",
      "  1.06408090e+00  1.02409033e+00  3.55866680e+00 -4.69213808e-01\n",
      "  4.68536676e-01  5.42486215e-01  3.24403717e-02  3.53725219e-01\n",
      " -8.82147780e-02  3.56033452e-02 -7.91856722e-01  1.42063549e+00\n",
      "  3.21277907e-01 -8.15059539e-01 -6.74363844e-01  1.86376135e+00\n",
      " -1.24316479e+00 -6.97367674e-01 -3.43325793e-02  1.40458844e+00\n",
      "  1.16237178e+00 -1.18166867e+00  1.67549125e-01  6.17044536e-01\n",
      "  3.56038112e-01 -5.94784019e-01  5.04813296e-01  1.22867022e+00\n",
      " -1.34413404e+00  1.43088089e+00  3.14403548e-01  2.02712072e+00\n",
      "  7.96365847e-01 -7.22784075e-01  9.94102897e-02  1.77722982e+00\n",
      " -1.51418186e-01  3.01635516e-01  1.61735955e+00  1.08994242e+00\n",
      "  3.54021197e-01 -6.69190612e-01 -1.83070865e+00  2.19412308e-01\n",
      "  8.27589215e-02  4.40522094e-01 -7.63115962e-01  7.39496609e-01\n",
      " -2.71933893e-01  4.15993259e-01  8.24662145e-01 -2.70313939e-01\n",
      " -2.72866795e-01  1.06942273e+00  1.07731681e+00 -7.04830489e-02\n",
      "  1.24933370e+00  1.25036367e+00 -1.41547850e+00 -3.91730556e-01\n",
      " -6.79834782e-01  1.58302143e+00  6.89745214e-01  1.14502037e+00\n",
      " -2.69639905e-01  9.04657344e-01  1.01280285e+00  1.52275593e+00\n",
      " -8.42322324e-03 -4.47931900e-01  1.51788858e-01  7.85915618e-01\n",
      "  2.96863294e-01  3.82922432e-01  1.34308368e+00  1.87952472e+00\n",
      "  3.12479752e+00 -9.54352549e-01 -6.95974073e-01 -4.48649780e-03\n",
      "  5.89371746e-01  2.90856877e-01 -5.84308973e-01  7.82551411e-01\n",
      "  5.23288938e-01 -1.19962308e+00  1.46063206e+00  1.17310046e+00\n",
      "  1.42843671e+00 -6.56874279e-01 -1.52359072e+00  1.97013209e+00\n",
      "  9.44909385e-02 -1.74047801e+00  3.59704860e-01 -1.30983137e+00\n",
      "  1.59759531e+00  5.25206331e-02 -5.23188242e-01 -1.17036986e-01\n",
      " -4.39768562e-01 -1.43293797e-01 -8.83117369e-01 -8.48502636e-01\n",
      " -8.45534283e-01 -1.93237975e-02 -4.42253585e-01 -3.82609804e-01\n",
      "  6.32540313e-01  3.95518660e-01 -4.82800194e-02 -8.81711582e-01\n",
      "  8.00663514e-01 -4.33919581e-01 -3.05684000e-01  9.15625866e-03\n",
      " -2.65479936e-01 -1.64209768e-01  1.10319766e-01  1.86314475e+00\n",
      " -6.97189562e-01 -1.63116663e-01  1.75369514e+00  1.17022993e-01\n",
      " -1.02210311e+00  1.51255752e+00  1.13881520e+00 -1.48083576e-01\n",
      " -9.71625777e-02  9.60253897e-02  4.17314883e-02  1.84873370e+00\n",
      "  2.69265617e+00 -1.61730029e-01 -6.61566027e-01  2.17516480e+00\n",
      "  2.81735615e-01  9.95214793e-01  1.15202806e+00  5.87860158e-01\n",
      " -1.08383897e-01 -6.96248174e-01 -1.60465286e+00 -4.94182029e-01\n",
      " -8.75569047e-02 -1.25123234e+00  5.23906344e-01  6.30348505e-01\n",
      " -1.52147162e+00  5.12682982e-01 -1.40239671e+00  1.20872875e-01\n",
      " -6.51125230e-01 -2.95577954e-01 -1.38953243e+00 -5.78365102e-01\n",
      "  2.78124990e-03  2.59214130e-01 -6.14675780e-01 -6.19819015e-01\n",
      " -2.46388651e+00 -1.43260088e+00 -1.22855649e-02 -1.29777113e+00\n",
      " -1.72188601e+00  3.36924484e-01  1.62548466e+00  4.12344839e-01\n",
      " -1.16269564e+00 -3.67045546e-01  1.11906918e+00 -5.86260948e-01\n",
      " -8.89939562e-02  8.42083228e-01 -2.66088023e-01  5.61680109e-01\n",
      " -1.28076328e+00  3.71900115e-01 -5.34301138e-01 -8.38540699e-01\n",
      "  3.23642088e-01 -9.05500924e-01  2.98707124e-01 -1.07877840e+00\n",
      "  9.24806459e-01 -9.42929265e-01  1.41393002e-01 -1.74700938e+00\n",
      "  5.10238930e-02  4.13053799e-01 -1.13599439e-02  1.05220281e+00\n",
      "  1.68433794e+00 -1.38377384e+00  1.36245052e+00  1.79206987e+00\n",
      "  1.33981292e+00 -2.46145585e-01 -8.76338259e-01 -4.18473922e-01\n",
      "  1.63133904e-01  5.30847025e-02  5.78734858e-01 -2.24754835e+00\n",
      " -5.95948751e-01  1.89324529e-01  2.23639121e-01 -1.46268103e+00\n",
      "  1.54100564e+00  1.57608160e-01  4.80424372e-01 -2.19198626e+00\n",
      "  1.68909027e+00  3.00925181e-01 -3.60622640e-03  1.78725224e+00\n",
      " -7.51959021e-01 -9.55150695e-01 -8.40199505e-01  4.81027027e-01\n",
      " -1.25774016e+00 -3.65562564e-01  3.59337682e-01  5.02147063e-01\n",
      "  1.66820116e+00  1.10387242e+00  1.72694443e+00  1.64303926e+00\n",
      " -3.78317306e-01  1.62457847e+00  1.40900650e-01  8.24797883e-01\n",
      "  6.53571042e-01 -1.04643698e+00 -1.90292510e-01 -5.21017200e-01\n",
      " -1.24827704e+00 -4.18625801e-01  3.87759453e-01  3.47137509e-02\n",
      "  6.14004173e-01  4.15023746e-02  1.60181826e+00  6.55719501e-01\n",
      "  8.05046562e-01 -4.22325197e-01 -5.37372175e-01  1.17205977e-01\n",
      " -5.70828370e-01  5.53529044e-01 -4.35932979e-02 -1.93631208e-01\n",
      "  5.60778792e-01 -2.34238194e+00  1.08475833e+00  3.35853970e-01\n",
      "  2.02591825e+00  1.12245638e+00  1.03560549e+00  1.66897638e+00\n",
      "  8.24840773e-01  5.03265448e-02 -5.45685273e-01 -1.41620248e+00\n",
      " -4.46094240e-01 -9.17197132e-02  1.86403172e+00 -6.26520836e-01\n",
      "  2.08810788e+00 -1.01591424e+00 -3.53300731e-01 -1.29542724e+00\n",
      " -1.05076530e+00  6.80893279e-02 -1.04957787e+00  5.18154928e-01\n",
      " -2.27877344e-01 -2.78044914e-01  4.96631804e-01  4.71355705e-01\n",
      "  1.32314512e+00  1.49599986e+00 -1.54637784e+00 -1.24052242e+00\n",
      "  5.04880005e-01  1.73665861e-01  7.52003753e-01 -7.21985462e-01\n",
      " -2.81911509e-01  1.51330498e+00  2.60360569e-01 -1.14135699e+00\n",
      "  4.41115815e-01 -1.71949366e+00 -5.47037503e-01 -5.27616388e-01\n",
      " -3.36763246e-01 -1.11718844e-01 -8.33806573e-01  8.77640465e-01\n",
      "  3.59612908e-01  2.24704477e+00 -6.20722863e-03  2.36227027e-01\n",
      "  2.99368689e-02 -3.06977076e-02  6.61807435e-01  6.34527171e-01\n",
      "  9.12214523e-01 -4.27362565e-01  1.22376521e+00  7.00293639e-01\n",
      "  1.96750606e-01 -7.20065022e-01  4.73696070e-01  2.88226592e-01\n",
      "  4.51824826e-01  1.58762820e-01  1.59860192e+00 -6.88105593e-01\n",
      " -9.25869687e-01  2.86756131e+00  7.43186041e-01  1.23006226e-01\n",
      "  1.45936215e+00  1.14366759e+00 -1.46027871e+00  5.78852358e-01\n",
      " -1.38964041e+00  1.26617805e+00 -6.03773855e-02 -2.40969985e+00\n",
      " -5.82549983e-01  9.13314105e-01  1.33129740e+00 -2.70125720e-01\n",
      " -1.99340949e-01 -1.44926368e+00 -6.64384196e-01  1.47704955e+00\n",
      " -1.80798270e+00  6.26147196e-02 -9.74075643e-01  6.48305158e-01\n",
      "  4.96075342e-01  1.98930097e-01 -4.97716789e-01  6.60670607e-01\n",
      "  1.08119821e-01 -2.18721950e+00  1.56058155e+00  1.20124244e+00\n",
      "  2.50024520e+00 -8.60167179e-02  9.76755703e-01 -5.89052393e-01\n",
      "  9.04012599e-02 -1.17255744e+00 -1.20203526e+00 -1.86786339e-01\n",
      "  1.25090690e+00 -6.61193406e-01  5.40817773e-01  1.51310846e+00\n",
      "  1.73999212e-01  2.09789663e+00  9.64078149e-02 -4.59004065e-01\n",
      " -1.28301428e+00  1.12874275e+00 -4.30037921e-01 -6.41189898e-01\n",
      "  5.73279422e-02  2.86155994e+00 -7.28353741e-01  1.70044524e+00\n",
      " -1.50960335e-01  1.59528518e+00 -1.15014383e+00  1.38716206e+00\n",
      " -1.63083403e+00 -5.58127595e-01 -1.29216559e+00 -1.36974102e-01\n",
      " -7.70603066e-01  9.49216324e-01  5.81190602e-01  9.67887969e-01\n",
      " -1.06834745e+00  1.50265118e+00  1.37519225e+00  5.35883348e-01\n",
      "  2.41112383e-01 -3.45240347e-01  4.75596317e-01 -6.18519255e-02\n",
      " -3.95373099e-02 -8.23176276e-02  3.81232960e-02  3.13267773e+00\n",
      " -7.39997568e-01  1.37143901e+00  8.98528355e-01  1.17215189e+00\n",
      " -7.48981036e-01  9.03455245e-01  1.06469413e+00  2.47725886e+00\n",
      "  1.40702413e-01  1.83913621e+00 -7.01064969e-01  1.78366975e+00\n",
      " -6.62363753e-01 -2.16396319e+00  8.85202048e-01 -1.25893625e+00\n",
      "  8.58049639e-01  8.29979806e-01  1.13354018e+00  3.69540367e-01\n",
      "  1.51936708e-01 -2.22852934e+00  1.35847221e-02  4.68254850e-01\n",
      " -1.15231985e+00 -4.71521199e-01 -8.81328453e-04  4.48802736e-01\n",
      " -7.37822054e-01 -7.08669219e-01  2.17841113e+00 -7.09188690e-02\n",
      " -1.81529413e+00  9.18117695e-01  5.67638573e-01 -1.23053289e+00\n",
      "  3.06315718e-01 -2.53702338e+00  7.32374831e-01  3.72361526e+00\n",
      "  1.14674473e+00  1.64680561e-01 -4.58105249e-01  4.43663188e-02\n",
      "  5.72915209e-01  1.89580940e+00  1.50461596e+00 -3.73415712e-02\n",
      " -2.41524866e+00  3.89620072e-01 -1.55923535e+00  1.89514645e-02\n",
      " -3.63539252e-01  1.56469968e+00 -6.53850788e-02  7.80582607e-01\n",
      " -1.06932308e+00  3.76730407e-01 -1.45857285e+00 -1.03977741e+00\n",
      "  1.85029820e+00 -7.13945879e-02 -1.12736982e+00 -1.65209733e+00\n",
      "  4.66060399e-01 -4.91157995e-01 -4.44037873e-01  8.22844730e-01\n",
      "  6.61472983e-02  5.46376870e-01 -2.46018429e-01  1.31880102e-01\n",
      "  7.78300093e-01  5.87527142e-01 -7.04748940e-02 -3.17117270e-01\n",
      "  8.50235888e-01 -6.85545984e-01 -5.70436430e-01 -3.52628833e-01\n",
      "  1.14834456e-02  8.34209373e-01 -6.15865754e-01  2.24389725e-01\n",
      " -1.07546159e+00  1.42158808e+00  5.54360630e-01 -1.70307502e+00\n",
      "  2.45231049e+00 -8.73911959e-01 -7.52163999e-01  1.04703287e+00\n",
      "  6.33388000e-01 -1.50966805e-01 -1.35535834e-01 -1.88763845e-03\n",
      " -1.39505768e+00 -1.13822484e+00  4.39660991e-01  4.82643965e-01\n",
      "  6.85773268e-01  7.25866781e-02  2.02949484e+00 -9.25228797e-01\n",
      "  1.90221325e-01 -2.25358707e-01 -4.74092342e-01 -1.20991276e+00\n",
      " -2.47991985e-02  9.42932232e-01 -4.30197912e-01 -9.73639956e-02\n",
      "  8.64983703e-01  4.78996227e-01  1.07749741e-01 -1.58521432e+00\n",
      " -7.53326279e-01  7.51594468e-01 -4.48611571e-01 -4.14012413e-01\n",
      " -9.94594162e-01  5.17755852e-02 -2.50936783e-01 -5.61698042e-01\n",
      "  1.13252913e-02  7.74993052e-01 -1.17541667e-01  5.71577568e-02\n",
      " -1.74196841e+00 -9.27053577e-01 -3.53308279e-01 -7.64415407e-01\n",
      "  7.06648234e-01 -1.99820172e+00 -8.37411686e-01  1.49876432e+00\n",
      "  1.12901570e+00  1.91170286e+00 -1.55458313e-01  1.06828064e+00\n",
      " -5.71631373e-01  2.78009276e-02 -1.64306974e+00 -9.13455837e-01\n",
      " -1.49760688e+00  1.90060674e-01 -1.00994727e+00  2.90155784e-01\n",
      "  6.10395917e-02  1.04326758e+00  7.17700144e-01  6.55840467e-01\n",
      "  1.67912659e-01  7.39541661e-01  3.60935058e-01 -1.58330451e+00\n",
      " -3.74384184e-01 -1.16883420e+00 -1.51766216e+00 -3.00261087e-02\n",
      " -1.29238774e+00 -2.10564172e+00 -9.87605793e-01  1.19072200e+00\n",
      "  2.12774686e+00 -1.63740640e+00  5.40483648e-01 -2.01389025e-01\n",
      "  1.42047582e+00  7.22751088e-02  7.38337649e-01  2.95251621e-01\n",
      " -5.99778680e-01 -7.13451183e-01  1.56831807e-01 -1.66086826e+00\n",
      " -1.98965554e+00  1.21472553e-01 -6.73799456e-01  5.76606198e-01\n",
      "  1.38808471e-01 -6.50075633e-01  9.44594226e-01 -2.22749647e-01\n",
      " -1.70467212e+00 -9.81853601e-01  6.51385063e-02  1.57252320e+00\n",
      "  1.84717094e-01 -3.47732481e-01  1.18781830e+00  1.29478990e-01\n",
      "  1.48330170e+00 -1.18059468e+00 -1.20945988e+00  7.50656443e-01\n",
      "  1.34702759e+00  2.47123641e-02 -1.66689148e+00  1.63659450e+00\n",
      " -6.31876581e-01 -9.95568403e-01 -1.23932626e+00  1.47597128e-02\n",
      " -1.75420864e+00  1.00750021e+00  2.02748803e+00 -8.58022983e-01\n",
      " -7.94420749e-02 -1.00882473e+00 -6.88753611e-01  7.54494068e-02\n",
      "  5.13611589e-01  3.32544180e-01 -7.30856146e-02 -8.83034351e-01\n",
      " -4.25588655e-01  1.35880605e+00  2.35020848e-01  3.36866906e-01\n",
      "  2.37359556e+00  1.69011425e+00  1.17598435e+00  1.02413009e+00\n",
      "  1.35633522e+00  2.75716058e-01  6.40275120e-01  2.10160174e-01\n",
      " -1.00417810e+00 -8.24621524e-01  1.20733855e-01  1.16445235e+00\n",
      "  1.31064294e+00  1.33536548e+00 -5.43452263e-01 -3.92559400e-01\n",
      "  8.22481327e-01 -5.25458035e-01  8.44796457e-01 -6.45555007e-02\n",
      " -1.32693757e+00  2.13400766e+00 -2.87225945e-01  2.80840808e-01\n",
      "  1.95542496e+00 -1.29316603e+00 -4.23277986e-01  3.76357228e-01\n",
      "  1.01393491e+00  1.55044999e+00 -5.32178096e-01  5.52822521e-01\n",
      " -7.56833690e-01  1.64391380e+00  1.89390910e+00  2.49192150e-01\n",
      "  1.46013880e+00  1.03781044e+00  1.04022679e+00  1.09364182e+00\n",
      "  3.66396208e-01  1.32597591e-01  2.49998326e-02 -1.33582156e-01\n",
      " -1.94602627e+00  1.02648480e-01  6.10958661e-02  2.44474560e-01\n",
      "  8.53172939e-01 -1.88656056e+00 -1.54757403e-01  3.27214487e-01\n",
      " -1.86256948e+00  4.34588419e-01 -2.05565949e-01 -9.96571410e-01\n",
      " -6.32655795e-01  1.74565959e+00  6.30181296e-01 -1.64361839e-01\n",
      "  9.53852532e-01 -1.45026621e+00 -1.06484417e+00  2.65694226e-01\n",
      " -9.49576117e-01 -1.83417046e+00  4.27090056e-01 -4.18849722e-01\n",
      "  6.22963980e-01  1.08279581e-01 -8.84425895e-02  7.14627202e-01\n",
      "  1.54455614e+00  5.97638698e-01  1.67800863e+00 -9.85261790e-01\n",
      " -7.05855081e-02 -1.75319943e-01  6.13855601e-01  1.27630786e-01\n",
      " -3.96264356e-01  2.23809067e-01  6.15451108e-01 -5.92926617e-01\n",
      "  9.38890550e-01 -3.70368620e-01  1.34741801e+00  9.73644354e-01\n",
      " -1.36472044e+00  8.49717961e-01  1.09025150e+00  1.29356074e+00\n",
      "  4.85661894e-01  1.95744414e-01 -4.41993253e-01  3.23932896e-01\n",
      "  9.51416445e-01  6.60324555e-01  2.24504521e-02 -5.71473302e-02]\n"
     ]
    },
    {
     "data": {
      "text/plain": [
       "array([-2.54210067e-01,  5.42629652e-01, -5.81969778e-01,  4.59890495e-01,\n",
       "        1.99993533e-01, -1.03758464e+00,  2.36681237e-01, -4.11425390e-01,\n",
       "       -3.80602961e-01,  4.89073048e-01,  5.07861036e-01, -5.20122483e-01,\n",
       "        1.37835804e+00,  9.49590006e-01,  5.39468445e-01, -9.18726624e-01,\n",
       "       -1.59540767e-01,  1.74380009e+00,  7.83707277e-01, -1.04954102e+00,\n",
       "       -8.34245116e-01, -1.13423210e+00, -2.82287175e-01, -1.19861343e+00,\n",
       "        2.67186626e-01,  2.45780254e-01, -1.22017037e+00,  5.66641735e-01,\n",
       "        9.50850422e-01, -2.03615644e+00, -5.96837362e-01,  3.25956226e-01,\n",
       "       -2.08223068e-01, -5.95957379e-02, -1.78095998e+00,  2.25890803e+00,\n",
       "        1.45119923e+00, -4.41864111e-01,  8.98598331e-01,  2.02511735e+00,\n",
       "       -8.32015348e-01, -9.50132975e-01,  9.38607866e-01, -7.81604616e-01,\n",
       "        3.93113321e-02,  1.85973935e-02,  2.42923241e-01,  2.24870215e-01,\n",
       "       -9.66476615e-01, -1.52967211e+00, -7.10941492e-01, -6.60564770e-01,\n",
       "        5.82869782e-01,  5.08140089e-02,  1.79171854e+00,  6.28931976e-01,\n",
       "        7.28517866e-01, -9.87147310e-01, -4.23925735e-01,  6.03460261e-01,\n",
       "       -1.27473816e+00,  9.19610788e-01, -5.59709830e-01,  9.09036528e-01,\n",
       "       -3.23540684e-01,  5.92163349e-01,  1.74998831e+00, -6.36604387e-01,\n",
       "       -4.69560546e-01, -1.25812300e+00,  1.69646959e+00,  6.86289290e-01,\n",
       "       -5.89219507e-01,  3.47365720e-01,  1.85241241e+00,  7.30065665e-01,\n",
       "        6.10031968e-01, -8.93339999e-01, -3.21296748e-01, -1.35376061e+00,\n",
       "        5.51503270e-01, -4.40012599e-01,  3.13489751e+00, -2.18549689e+00,\n",
       "        2.99023666e-01,  4.97863008e-01, -6.19804887e-01, -4.34741648e-01,\n",
       "        1.25162543e+00,  3.14122670e-01, -8.40516600e-01,  1.75698243e+00,\n",
       "       -3.00154939e-01,  4.35675053e-01,  7.29581570e-01,  4.65054614e-01,\n",
       "        4.24730976e-01,  3.08749353e-01,  2.96059929e-01,  3.13908862e-01,\n",
       "        5.01610935e-01,  2.60856841e-01, -3.76462855e-01, -1.03402828e+00,\n",
       "       -9.08181504e-01,  3.52740471e-01,  7.08137175e-01, -1.06912243e+00,\n",
       "        8.40381361e-01,  1.29309632e+00, -1.77704926e-01, -3.57124555e-01,\n",
       "       -3.66784448e+00,  6.72410549e-01, -6.22769279e-01, -3.45999359e-03,\n",
       "       -2.87563546e-01,  1.36509733e+00, -4.43718729e-01, -7.58346977e-01,\n",
       "        1.57827744e+00,  3.43602977e-01, -9.45134360e-02, -8.08830642e-01,\n",
       "        7.10761485e-01,  1.81665386e+00,  2.52623809e-01,  6.92930286e-01,\n",
       "        8.29146246e-01,  5.21654863e-01, -1.20682169e+00,  1.31047832e+00,\n",
       "        1.97315552e-01,  2.09881066e+00, -8.36511162e-01,  1.22055163e-01,\n",
       "        3.82633439e-02,  1.85461853e+00,  1.01676948e+00,  7.89694579e-01,\n",
       "        1.89668227e+00,  3.77662931e-01,  8.16291775e-01, -1.35758938e+00,\n",
       "       -2.10873248e-01,  1.45250690e+00, -2.38415781e-01,  2.07265878e-01,\n",
       "       -6.08618381e-01,  4.78478463e-01,  4.24902849e-01,  1.01786768e-02,\n",
       "        9.29526464e-01,  1.78516262e+00,  1.29382644e-01,  1.43260169e+00,\n",
       "        5.02477075e-01,  1.92156971e+00,  3.87671373e-01, -7.02438445e-02,\n",
       "        8.17998056e-01, -5.23702846e-01, -7.15007879e-01,  9.09702732e-02,\n",
       "        8.29514451e-01,  1.01012303e+00, -5.10135188e-01,  3.68327519e-01,\n",
       "        9.97301979e-01, -1.55848036e+00,  1.03795056e-01, -1.46769259e+00,\n",
       "       -2.77745735e-01, -8.96508757e-01,  1.64929626e+00,  8.29659125e-01,\n",
       "       -6.00487736e-01, -5.17431785e-01,  9.96212104e-01,  5.47998158e-02,\n",
       "        9.16482006e-01,  1.87743234e+00,  5.28456281e-01,  1.95696363e+00,\n",
       "        8.03155708e-01,  1.76737359e+00, -1.16501888e+00,  5.41582414e-01,\n",
       "       -8.06558708e-01, -1.99240437e+00,  6.97831111e-01,  1.87357186e+00,\n",
       "        1.75961891e-01,  1.11542126e+00,  3.63575603e-01, -4.07857275e-01,\n",
       "        1.22400568e+00, -1.81713793e-01,  4.15994405e-02,  8.23235268e-01,\n",
       "        7.25579474e-01,  2.12319127e-01, -1.24551605e-01,  4.05243005e-03,\n",
       "       -1.11620163e-01,  7.34333585e-01,  3.79205674e-01, -1.03819062e+00,\n",
       "        1.05056053e+00, -7.40735033e-01, -5.02326040e-01,  9.44821142e-01,\n",
       "       -5.20731158e-02,  3.83007270e-01,  6.20483485e-01,  8.53267565e-01,\n",
       "       -1.06246414e+00,  3.32198486e-01, -2.89455688e-01,  1.36721261e+00,\n",
       "       -6.95654094e-01,  1.03025064e+00,  1.70434065e-01, -1.02393989e+00,\n",
       "       -5.40477735e-02,  1.86009068e+00,  1.30060210e+00, -1.51633685e+00,\n",
       "        2.97058275e+00,  1.27112622e+00, -9.40009877e-01,  5.83025868e-01,\n",
       "       -6.11130694e-01, -8.12612164e-02, -9.63431341e-01,  4.49069043e-01,\n",
       "        4.88997157e-01, -1.43263795e+00,  1.14785823e+00,  3.98022758e-01,\n",
       "       -1.07908743e+00, -4.33857664e-01, -1.52891501e+00, -8.85375986e-01,\n",
       "        5.08292857e-01, -8.26877238e-01,  3.68886496e-02,  7.40757942e-01,\n",
       "        5.13433828e-01,  1.61907077e-01, -4.36219994e-01,  3.27671958e-01,\n",
       "       -2.48244821e-01,  3.29434717e-01, -8.14753089e-01,  1.36425111e+00,\n",
       "       -8.22123174e-01, -2.53765754e+00,  1.48195284e+00,  6.51503162e-01,\n",
       "       -7.56531866e-01,  2.83465642e+00, -3.51675730e-01,  4.66332644e-01,\n",
       "       -4.72235091e-01, -1.71158172e+00, -7.64384695e-01,  4.43522849e-01,\n",
       "       -1.85382035e-01,  2.05665277e-01, -6.43364074e-01, -1.45032283e+00,\n",
       "       -5.34014130e-01, -1.45781189e+00,  1.71698036e-01,  3.60883667e-01,\n",
       "       -2.00029900e+00,  6.59202968e-01,  1.25213463e+00,  1.46060231e+00,\n",
       "        1.06408090e+00,  1.02409033e+00,  3.55866680e+00, -4.69213808e-01,\n",
       "        4.68536676e-01,  5.42486215e-01,  3.24403717e-02,  3.53725219e-01,\n",
       "       -8.82147780e-02,  3.56033452e-02, -7.91856722e-01,  1.42063549e+00,\n",
       "        3.21277907e-01, -8.15059539e-01, -6.74363844e-01,  1.86376135e+00,\n",
       "       -1.24316479e+00, -6.97367674e-01, -3.43325793e-02,  1.40458844e+00,\n",
       "        1.16237178e+00, -1.18166867e+00,  1.67549125e-01,  6.17044536e-01,\n",
       "        3.56038112e-01, -5.94784019e-01,  5.04813296e-01,  1.22867022e+00,\n",
       "       -1.34413404e+00,  1.43088089e+00,  3.14403548e-01,  2.02712072e+00,\n",
       "        7.96365847e-01, -7.22784075e-01,  9.94102897e-02,  1.77722982e+00,\n",
       "       -1.51418186e-01,  3.01635516e-01,  1.61735955e+00,  1.08994242e+00,\n",
       "        3.54021197e-01, -6.69190612e-01, -1.83070865e+00,  2.19412308e-01,\n",
       "        8.27589215e-02,  4.40522094e-01, -7.63115962e-01,  7.39496609e-01,\n",
       "       -2.71933893e-01,  4.15993259e-01,  8.24662145e-01, -2.70313939e-01,\n",
       "       -2.72866795e-01,  1.06942273e+00,  1.07731681e+00, -7.04830489e-02,\n",
       "        1.24933370e+00,  1.25036367e+00, -1.41547850e+00, -3.91730556e-01,\n",
       "       -6.79834782e-01,  1.58302143e+00,  6.89745214e-01,  1.14502037e+00,\n",
       "       -2.69639905e-01,  9.04657344e-01,  1.01280285e+00,  1.52275593e+00,\n",
       "       -8.42322324e-03, -4.47931900e-01,  1.51788858e-01,  7.85915618e-01,\n",
       "        2.96863294e-01,  3.82922432e-01,  1.34308368e+00,  1.87952472e+00,\n",
       "        3.12479752e+00, -9.54352549e-01, -6.95974073e-01, -4.48649780e-03,\n",
       "        5.89371746e-01,  2.90856877e-01, -5.84308973e-01,  7.82551411e-01,\n",
       "        5.23288938e-01, -1.19962308e+00,  1.46063206e+00,  1.17310046e+00,\n",
       "        1.42843671e+00, -6.56874279e-01, -1.52359072e+00,  1.97013209e+00,\n",
       "        9.44909385e-02, -1.74047801e+00,  3.59704860e-01, -1.30983137e+00,\n",
       "        1.59759531e+00,  5.25206331e-02, -5.23188242e-01, -1.17036986e-01,\n",
       "       -4.39768562e-01, -1.43293797e-01, -8.83117369e-01, -8.48502636e-01,\n",
       "       -8.45534283e-01, -1.93237975e-02, -4.42253585e-01, -3.82609804e-01,\n",
       "        6.32540313e-01,  3.95518660e-01, -4.82800194e-02, -8.81711582e-01,\n",
       "        8.00663514e-01, -4.33919581e-01, -3.05684000e-01,  9.15625866e-03,\n",
       "       -2.65479936e-01, -1.64209768e-01,  1.10319766e-01,  1.86314475e+00,\n",
       "       -6.97189562e-01, -1.63116663e-01,  1.75369514e+00,  1.17022993e-01,\n",
       "       -1.02210311e+00,  1.51255752e+00,  1.13881520e+00, -1.48083576e-01,\n",
       "       -9.71625777e-02,  9.60253897e-02,  4.17314883e-02,  1.84873370e+00,\n",
       "        2.69265617e+00, -1.61730029e-01, -6.61566027e-01,  2.17516480e+00,\n",
       "        2.81735615e-01,  9.95214793e-01,  1.15202806e+00,  5.87860158e-01,\n",
       "       -1.08383897e-01, -6.96248174e-01, -1.60465286e+00, -4.94182029e-01,\n",
       "       -8.75569047e-02, -1.25123234e+00,  5.23906344e-01,  6.30348505e-01,\n",
       "       -1.52147162e+00,  5.12682982e-01, -1.40239671e+00,  1.20872875e-01,\n",
       "       -6.51125230e-01, -2.95577954e-01, -1.38953243e+00, -5.78365102e-01,\n",
       "        2.78124990e-03,  2.59214130e-01, -6.14675780e-01, -6.19819015e-01,\n",
       "       -2.46388651e+00, -1.43260088e+00, -1.22855649e-02, -1.29777113e+00,\n",
       "       -1.72188601e+00,  3.36924484e-01,  1.62548466e+00,  4.12344839e-01,\n",
       "       -1.16269564e+00, -3.67045546e-01,  1.11906918e+00, -5.86260948e-01,\n",
       "       -8.89939562e-02,  8.42083228e-01, -2.66088023e-01,  5.61680109e-01,\n",
       "       -1.28076328e+00,  3.71900115e-01, -5.34301138e-01, -8.38540699e-01,\n",
       "        3.23642088e-01, -9.05500924e-01,  2.98707124e-01, -1.07877840e+00,\n",
       "        9.24806459e-01, -9.42929265e-01,  1.41393002e-01, -1.74700938e+00,\n",
       "        5.10238930e-02,  4.13053799e-01, -1.13599439e-02,  1.05220281e+00,\n",
       "        1.68433794e+00, -1.38377384e+00,  1.36245052e+00,  1.79206987e+00,\n",
       "        1.33981292e+00, -2.46145585e-01, -8.76338259e-01, -4.18473922e-01,\n",
       "        1.63133904e-01,  5.30847025e-02,  5.78734858e-01, -2.24754835e+00,\n",
       "       -5.95948751e-01,  1.89324529e-01,  2.23639121e-01, -1.46268103e+00,\n",
       "        1.54100564e+00,  1.57608160e-01,  4.80424372e-01, -2.19198626e+00,\n",
       "        1.68909027e+00,  3.00925181e-01, -3.60622640e-03,  1.78725224e+00,\n",
       "       -7.51959021e-01, -9.55150695e-01, -8.40199505e-01,  4.81027027e-01,\n",
       "       -1.25774016e+00, -3.65562564e-01,  3.59337682e-01,  5.02147063e-01,\n",
       "        1.66820116e+00,  1.10387242e+00,  1.72694443e+00,  1.64303926e+00,\n",
       "       -3.78317306e-01,  1.62457847e+00,  1.40900650e-01,  8.24797883e-01,\n",
       "        6.53571042e-01, -1.04643698e+00, -1.90292510e-01, -5.21017200e-01,\n",
       "       -1.24827704e+00, -4.18625801e-01,  3.87759453e-01,  3.47137509e-02,\n",
       "        6.14004173e-01,  4.15023746e-02,  1.60181826e+00,  6.55719501e-01,\n",
       "        8.05046562e-01, -4.22325197e-01, -5.37372175e-01,  1.17205977e-01,\n",
       "       -5.70828370e-01,  5.53529044e-01, -4.35932979e-02, -1.93631208e-01,\n",
       "        5.60778792e-01, -2.34238194e+00,  1.08475833e+00,  3.35853970e-01,\n",
       "        2.02591825e+00,  1.12245638e+00,  1.03560549e+00,  1.66897638e+00,\n",
       "        8.24840773e-01,  5.03265448e-02, -5.45685273e-01, -1.41620248e+00,\n",
       "       -4.46094240e-01, -9.17197132e-02,  1.86403172e+00, -6.26520836e-01,\n",
       "        2.08810788e+00, -1.01591424e+00, -3.53300731e-01, -1.29542724e+00,\n",
       "       -1.05076530e+00,  6.80893279e-02, -1.04957787e+00,  5.18154928e-01,\n",
       "       -2.27877344e-01, -2.78044914e-01,  4.96631804e-01,  4.71355705e-01,\n",
       "        1.32314512e+00,  1.49599986e+00, -1.54637784e+00, -1.24052242e+00,\n",
       "        5.04880005e-01,  1.73665861e-01,  7.52003753e-01, -7.21985462e-01,\n",
       "       -2.81911509e-01,  1.51330498e+00,  2.60360569e-01, -1.14135699e+00,\n",
       "        4.41115815e-01, -1.71949366e+00, -5.47037503e-01, -5.27616388e-01,\n",
       "       -3.36763246e-01, -1.11718844e-01, -8.33806573e-01,  8.77640465e-01,\n",
       "        3.59612908e-01,  2.24704477e+00, -6.20722863e-03,  2.36227027e-01,\n",
       "        2.99368689e-02, -3.06977076e-02,  6.61807435e-01,  6.34527171e-01,\n",
       "        9.12214523e-01, -4.27362565e-01,  1.22376521e+00,  7.00293639e-01,\n",
       "        1.96750606e-01, -7.20065022e-01,  4.73696070e-01,  2.88226592e-01,\n",
       "        4.51824826e-01,  1.58762820e-01,  1.59860192e+00, -6.88105593e-01,\n",
       "       -9.25869687e-01,  2.86756131e+00,  7.43186041e-01,  1.23006226e-01,\n",
       "        1.45936215e+00,  1.14366759e+00, -1.46027871e+00,  5.78852358e-01,\n",
       "       -1.38964041e+00,  1.26617805e+00, -6.03773855e-02, -2.40969985e+00,\n",
       "       -5.82549983e-01,  9.13314105e-01,  1.33129740e+00, -2.70125720e-01,\n",
       "       -1.99340949e-01, -1.44926368e+00, -6.64384196e-01,  1.47704955e+00,\n",
       "       -1.80798270e+00,  6.26147196e-02, -9.74075643e-01,  6.48305158e-01,\n",
       "        4.96075342e-01,  1.98930097e-01, -4.97716789e-01,  6.60670607e-01,\n",
       "        1.08119821e-01, -2.18721950e+00,  1.56058155e+00,  1.20124244e+00,\n",
       "        2.50024520e+00, -8.60167179e-02,  9.76755703e-01, -5.89052393e-01,\n",
       "        9.04012599e-02, -1.17255744e+00, -1.20203526e+00, -1.86786339e-01,\n",
       "        1.25090690e+00, -6.61193406e-01,  5.40817773e-01,  1.51310846e+00,\n",
       "        1.73999212e-01,  2.09789663e+00,  9.64078149e-02, -4.59004065e-01,\n",
       "       -1.28301428e+00,  1.12874275e+00, -4.30037921e-01, -6.41189898e-01,\n",
       "        5.73279422e-02,  2.86155994e+00, -7.28353741e-01,  1.70044524e+00,\n",
       "       -1.50960335e-01,  1.59528518e+00, -1.15014383e+00,  1.38716206e+00,\n",
       "       -1.63083403e+00, -5.58127595e-01, -1.29216559e+00, -1.36974102e-01,\n",
       "       -7.70603066e-01,  9.49216324e-01,  5.81190602e-01,  9.67887969e-01,\n",
       "       -1.06834745e+00,  1.50265118e+00,  1.37519225e+00,  5.35883348e-01,\n",
       "        2.41112383e-01, -3.45240347e-01,  4.75596317e-01, -6.18519255e-02,\n",
       "       -3.95373099e-02, -8.23176276e-02,  3.81232960e-02,  3.13267773e+00,\n",
       "       -7.39997568e-01,  1.37143901e+00,  8.98528355e-01,  1.17215189e+00,\n",
       "       -7.48981036e-01,  9.03455245e-01,  1.06469413e+00,  2.47725886e+00,\n",
       "        1.40702413e-01,  1.83913621e+00, -7.01064969e-01,  1.78366975e+00,\n",
       "       -6.62363753e-01, -2.16396319e+00,  8.85202048e-01, -1.25893625e+00,\n",
       "        8.58049639e-01,  8.29979806e-01,  1.13354018e+00,  3.69540367e-01,\n",
       "        1.51936708e-01, -2.22852934e+00,  1.35847221e-02,  4.68254850e-01,\n",
       "       -1.15231985e+00, -4.71521199e-01, -8.81328453e-04,  4.48802736e-01,\n",
       "       -7.37822054e-01, -7.08669219e-01,  2.17841113e+00, -7.09188690e-02,\n",
       "       -1.81529413e+00,  9.18117695e-01,  5.67638573e-01, -1.23053289e+00,\n",
       "        3.06315718e-01, -2.53702338e+00,  7.32374831e-01,  3.72361526e+00,\n",
       "        1.14674473e+00,  1.64680561e-01, -4.58105249e-01,  4.43663188e-02,\n",
       "        5.72915209e-01,  1.89580940e+00,  1.50461596e+00, -3.73415712e-02,\n",
       "       -2.41524866e+00,  3.89620072e-01, -1.55923535e+00,  1.89514645e-02,\n",
       "       -3.63539252e-01,  1.56469968e+00, -6.53850788e-02,  7.80582607e-01,\n",
       "       -1.06932308e+00,  3.76730407e-01, -1.45857285e+00, -1.03977741e+00,\n",
       "        1.85029820e+00, -7.13945879e-02, -1.12736982e+00, -1.65209733e+00,\n",
       "        4.66060399e-01, -4.91157995e-01, -4.44037873e-01,  8.22844730e-01,\n",
       "        6.61472983e-02,  5.46376870e-01, -2.46018429e-01,  1.31880102e-01,\n",
       "        7.78300093e-01,  5.87527142e-01, -7.04748940e-02, -3.17117270e-01,\n",
       "        8.50235888e-01, -6.85545984e-01, -5.70436430e-01, -3.52628833e-01,\n",
       "        1.14834456e-02,  8.34209373e-01, -6.15865754e-01,  2.24389725e-01,\n",
       "       -1.07546159e+00,  1.42158808e+00,  5.54360630e-01, -1.70307502e+00,\n",
       "        2.45231049e+00, -8.73911959e-01, -7.52163999e-01,  1.04703287e+00,\n",
       "        6.33388000e-01, -1.50966805e-01, -1.35535834e-01, -1.88763845e-03,\n",
       "       -1.39505768e+00, -1.13822484e+00,  4.39660991e-01,  4.82643965e-01,\n",
       "        6.85773268e-01,  7.25866781e-02,  2.02949484e+00, -9.25228797e-01,\n",
       "        1.90221325e-01, -2.25358707e-01, -4.74092342e-01, -1.20991276e+00,\n",
       "       -2.47991985e-02,  9.42932232e-01, -4.30197912e-01, -9.73639956e-02,\n",
       "        8.64983703e-01,  4.78996227e-01,  1.07749741e-01, -1.58521432e+00,\n",
       "       -7.53326279e-01,  7.51594468e-01, -4.48611571e-01, -4.14012413e-01,\n",
       "       -9.94594162e-01,  5.17755852e-02, -2.50936783e-01, -5.61698042e-01,\n",
       "        1.13252913e-02,  7.74993052e-01, -1.17541667e-01,  5.71577568e-02,\n",
       "       -1.74196841e+00, -9.27053577e-01, -3.53308279e-01, -7.64415407e-01,\n",
       "        7.06648234e-01, -1.99820172e+00, -8.37411686e-01,  1.49876432e+00,\n",
       "        1.12901570e+00,  1.91170286e+00, -1.55458313e-01,  1.06828064e+00,\n",
       "       -5.71631373e-01,  2.78009276e-02, -1.64306974e+00, -9.13455837e-01,\n",
       "       -1.49760688e+00,  1.90060674e-01, -1.00994727e+00,  2.90155784e-01,\n",
       "        6.10395917e-02,  1.04326758e+00,  7.17700144e-01,  6.55840467e-01,\n",
       "        1.67912659e-01,  7.39541661e-01,  3.60935058e-01, -1.58330451e+00,\n",
       "       -3.74384184e-01, -1.16883420e+00, -1.51766216e+00, -3.00261087e-02,\n",
       "       -1.29238774e+00, -2.10564172e+00, -9.87605793e-01,  1.19072200e+00,\n",
       "        2.12774686e+00, -1.63740640e+00,  5.40483648e-01, -2.01389025e-01,\n",
       "        1.42047582e+00,  7.22751088e-02,  7.38337649e-01,  2.95251621e-01,\n",
       "       -5.99778680e-01, -7.13451183e-01,  1.56831807e-01, -1.66086826e+00,\n",
       "       -1.98965554e+00,  1.21472553e-01, -6.73799456e-01,  5.76606198e-01,\n",
       "        1.38808471e-01, -6.50075633e-01,  9.44594226e-01, -2.22749647e-01,\n",
       "       -1.70467212e+00, -9.81853601e-01,  6.51385063e-02,  1.57252320e+00,\n",
       "        1.84717094e-01, -3.47732481e-01,  1.18781830e+00,  1.29478990e-01,\n",
       "        1.48330170e+00, -1.18059468e+00, -1.20945988e+00,  7.50656443e-01,\n",
       "        1.34702759e+00,  2.47123641e-02, -1.66689148e+00,  1.63659450e+00,\n",
       "       -6.31876581e-01, -9.95568403e-01, -1.23932626e+00,  1.47597128e-02,\n",
       "       -1.75420864e+00,  1.00750021e+00,  2.02748803e+00, -8.58022983e-01,\n",
       "       -7.94420749e-02, -1.00882473e+00, -6.88753611e-01,  7.54494068e-02,\n",
       "        5.13611589e-01,  3.32544180e-01, -7.30856146e-02, -8.83034351e-01,\n",
       "       -4.25588655e-01,  1.35880605e+00,  2.35020848e-01,  3.36866906e-01,\n",
       "        2.37359556e+00,  1.69011425e+00,  1.17598435e+00,  1.02413009e+00,\n",
       "        1.35633522e+00,  2.75716058e-01,  6.40275120e-01,  2.10160174e-01,\n",
       "       -1.00417810e+00, -8.24621524e-01,  1.20733855e-01,  1.16445235e+00,\n",
       "        1.31064294e+00,  1.33536548e+00, -5.43452263e-01, -3.92559400e-01,\n",
       "        8.22481327e-01, -5.25458035e-01,  8.44796457e-01, -6.45555007e-02,\n",
       "       -1.32693757e+00,  2.13400766e+00, -2.87225945e-01,  2.80840808e-01,\n",
       "        1.95542496e+00, -1.29316603e+00, -4.23277986e-01,  3.76357228e-01,\n",
       "        1.01393491e+00,  1.55044999e+00, -5.32178096e-01,  5.52822521e-01,\n",
       "       -7.56833690e-01,  1.64391380e+00,  1.89390910e+00,  2.49192150e-01,\n",
       "        1.46013880e+00,  1.03781044e+00,  1.04022679e+00,  1.09364182e+00,\n",
       "        3.66396208e-01,  1.32597591e-01,  2.49998326e-02, -1.33582156e-01,\n",
       "       -1.94602627e+00,  1.02648480e-01,  6.10958661e-02,  2.44474560e-01,\n",
       "        8.53172939e-01, -1.88656056e+00, -1.54757403e-01,  3.27214487e-01,\n",
       "       -1.86256948e+00,  4.34588419e-01, -2.05565949e-01, -9.96571410e-01,\n",
       "       -6.32655795e-01,  1.74565959e+00,  6.30181296e-01, -1.64361839e-01,\n",
       "        9.53852532e-01, -1.45026621e+00, -1.06484417e+00,  2.65694226e-01,\n",
       "       -9.49576117e-01, -1.83417046e+00,  4.27090056e-01, -4.18849722e-01,\n",
       "        6.22963980e-01,  1.08279581e-01, -8.84425895e-02,  7.14627202e-01,\n",
       "        1.54455614e+00,  5.97638698e-01,  1.67800863e+00, -9.85261790e-01,\n",
       "       -7.05855081e-02, -1.75319943e-01,  6.13855601e-01,  1.27630786e-01,\n",
       "       -3.96264356e-01,  2.23809067e-01,  6.15451108e-01, -5.92926617e-01,\n",
       "        9.38890550e-01, -3.70368620e-01,  1.34741801e+00,  9.73644354e-01,\n",
       "       -1.36472044e+00,  8.49717961e-01,  1.09025150e+00,  1.29356074e+00,\n",
       "        4.85661894e-01,  1.95744414e-01, -4.41993253e-01,  3.23932896e-01,\n",
       "        9.51416445e-01,  6.60324555e-01,  2.24504521e-02, -5.71473302e-02])"
      ]
     },
     "execution_count": 15,
     "metadata": {},
     "output_type": "execute_result"
    }
   ],
   "source": [
    "residual(A,B)"
   ]
  }
 ],
 "metadata": {
  "colab": {
   "collapsed_sections": [],
   "name": "CITNonLinear.ipynb",
   "provenance": []
  },
  "kernelspec": {
   "display_name": "Python 3 (ipykernel)",
   "language": "python",
   "name": "python3"
  },
  "language_info": {
   "codemirror_mode": {
    "name": "ipython",
    "version": 3
   },
   "file_extension": ".py",
   "mimetype": "text/x-python",
   "name": "python",
   "nbconvert_exporter": "python",
   "pygments_lexer": "ipython3",
   "version": "3.9.7"
  }
 },
 "nbformat": 4,
 "nbformat_minor": 1
}
