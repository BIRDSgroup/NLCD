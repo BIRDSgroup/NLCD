{
 "cells": [
  {
   "cell_type": "code",
   "execution_count": 61,
   "metadata": {
    "colab": {
     "base_uri": "https://localhost:8080/"
    },
    "id": "qd6CiVe-jyEn",
    "outputId": "b4187c26-21ff-4edc-e194-db58fd55f233"
   },
   "outputs": [],
   "source": [
    "#loading the libraries\n",
    "from tensorflow_probability import distributions as tfd\n",
    "import tensorflow as tf\n",
    "from tensorflow.keras.layers import Input, Dense, Activation, Concatenate\n",
    "\n",
    "from sklearn.linear_model import LinearRegression\n",
    "from sklearn.model_selection import train_test_split\n",
    "from sklearn.preprocessing import MinMaxScaler\n",
    "from sklearn.datasets import load_boston\n",
    "from sklearn.linear_model import LinearRegression\n",
    "import matplotlib.pyplot as plt\n",
    "import seaborn as sns\n",
    "import random\n",
    "import numpy as np\n",
    "import statsmodels.api as sm\n",
    "import pickle\n",
    "from sklearn.feature_selection import mutual_info_regression\n",
    "from scipy import stats\n",
    "import rpy2\n",
    "from scipy.stats import spearmanr,pearsonr\n"
   ]
  },
  {
   "cell_type": "code",
   "execution_count": 62,
   "metadata": {
    "id": "OxvAXLLFnl7d"
   },
   "outputs": [],
   "source": [
    "#defining the class MDN\n",
    "class MDN_module(tf.keras.Model):\n",
    "#changed from 15 to 20\n",
    "    def __init__(self, neurons=15, components = 1):\n",
    "        super(MDN_module, self).__init__(name=\"MDN_module\")\n",
    "        self.neurons = neurons\n",
    "        self.components = components\n",
    "\n",
    "        #chaging activation to relu from linear, changin relu to sigmoid \n",
    "        for i in range(1,3):\n",
    "          s=\"self\"+\".h\"+str(i)+\"= Dense(neurons, activation=\\\"relu\\\", name=\"+\"'h\"+str(i)+\"')\"\n",
    "          exec(s)\n",
    "        self.alphas = Dense(components, activation=\"softmax\", name=\"alphas\")\n",
    "        self.mus = Dense(components, activation=\"linear\",name=\"mus\") \n",
    "        self.sigmas = Dense(components, activation=\"nnelu\",name=\"sigmas\") #activation changed from linear to default\n",
    "        self.pvec = Concatenate(name=\"pvec\")\n",
    "        \n",
    "    def call(self, inputs):\n",
    "        x=self.h1(inputs)\n",
    "        #x=self.inputA(inputs)\n",
    "        x=self.h2(x)\n",
    "        alpha_v = self.alphas(x)\n",
    "        mu_v = self.mus(x)\n",
    "        sigma_v = self.sigmas(x)\n",
    "        \n",
    "        return self.pvec([alpha_v,mu_v, sigma_v])"
   ]
  },
  {
   "cell_type": "code",
   "execution_count": 63,
   "metadata": {
    "id": "7DSPXmR1ogiH"
   },
   "outputs": [],
   "source": [
    "no_parameters=3\n",
    "components=1\n",
    "def nnelu(input):\n",
    "    \"\"\" Computes the Non-Negative Exponential Linear Unit\n",
    "    \"\"\"\n",
    "    return tf.add(tf.constant(1, dtype=tf.float32), tf.nn.elu(input))\n",
    "\n",
    "def slice_parameter_vectors(parameter_vector):\n",
    "    \"\"\" Returns an unpacked list of paramter vectors.\n",
    "    \"\"\"\n",
    "    return [parameter_vector[:,i*components:(i+1\n",
    "    )*components] for i in range(no_parameters)]\n",
    "\n",
    "def gnll_loss(y, parameter_vector):\n",
    "    \"\"\" Computes the mean negative log-likelihood loss of y given the mixture parameters.\n",
    "    \"\"\"\n",
    "    alpha,mu,sigma = slice_parameter_vectors(parameter_vector) # Unpack parameter vectors\n",
    "    #tf.print(sigma)\n",
    "    gm = tfd.MixtureSameFamily(\n",
    "           mixture_distribution=tfd.Categorical(probs=alpha),\n",
    "           components_distribution=tfd.Normal(\n",
    "           loc=mu,       \n",
    "           scale=sigma))\n",
    "    \n",
    "    \n",
    "    \n",
    "    log_likelihood =  gm.log_prob(tf.transpose(y)) # Evaluate log-probability of y \n",
    "    return -tf.reduce_mean(log_likelihood, axis=-1) \n",
    "\n",
    "tf.keras.utils.get_custom_objects().update({'nnelu': Activation(nnelu)})\n",
    "\n",
    "def gnll_eval(y,alpha, mu, sigma):\n",
    "    \"\"\" Computes the mean negative log-likelihood loss of y given the mixture parameters.\n",
    "    \"\"\"\n",
    "    #print(alpha)\n",
    "    gm = tfd.MixtureSameFamily(\n",
    "        mixture_distribution=tfd.Categorical(probs=alpha),\n",
    "        components_distribution=tfd.Normal(\n",
    "            loc=mu,       \n",
    "            scale=sigma))\n",
    "    log_likelihood = gm.log_prob(tf.transpose(y))\n",
    "    return -tf.reduce_mean(log_likelihood, axis=-1)\n",
    "\n",
    "\n",
    "def eval_mdn_model(x_test, y_test, mdn_model):\n",
    "    \"\"\" Evaluate the model to get the loss for the given x and y \n",
    "    \"\"\"\n",
    "    y_pred = mdn_model.predict(np.reshape(x_test,newshape=(len(x_test),-1)))\n",
    "    alpha,mu,sigma = slice_parameter_vectors(y_pred)\n",
    "    mdn_nll = gnll_eval(y_test.astype(np.float32),alpha, mu, sigma).numpy()\n",
    "    return mdn_nll\n",
    "#reshapefunction\n",
    "def eval_mdn_model_mle(x_test,y_test):\n",
    "        indices_1 = [i for i, x in enumerate(x_test) if x == 1]\n",
    "        indices_0 = [i for i, x in enumerate(x_test) if x == 0]\n",
    "        mu_0=np.mean(y_test[indices_0])\n",
    "        mu_1=np.mean(y_test[indices_1])\n",
    "        sigma_0=np.std(y_test[indices_0])\n",
    "        sigma_1=np.std(y_test[indices_1])\n",
    "        y_mean=np.zeros((len(y_test),1))\n",
    "        y_mean[indices_1]=mu_1\n",
    "        y_mean[indices_0]=mu_0\n",
    "        y_std=np.zeros((len(y_test),1))\n",
    "        y_std[indices_1]=sigma_1\n",
    "        y_std[indices_0]=sigma_0\n",
    "        alpha=np.ones((len(y_mean),1))\n",
    "        return gnll_eval(y_test,alpha,y_mean,y_std).numpy()\n",
    "    \n",
    "def reshapevar(X):\n",
    "  \"\"\"\n",
    "  Function to reshape the vector for the input \n",
    "  \"\"\"\n",
    "  return np.reshape(X,newshape=(len(X),-1))"
   ]
  },
  {
   "cell_type": "code",
   "execution_count": 64,
   "metadata": {
    "id": "T6sJ7ffirsnB"
   },
   "outputs": [],
   "source": [
    "def compute_loss(P,Q,mle=False):\n",
    "    \"\"\" Compute the loss for the given pair\n",
    "    \"\"\"\n",
    "    if(mle==False):\n",
    "        opt = tf.optimizers.Adam(1e-2)\n",
    "        mdn_PQ = MDN_module()\n",
    "        mdn_PQ.compile(loss=gnll_loss, optimizer=opt)\n",
    "        mdn_PQ.fit(x=reshapevar(P), y=np.array(Q).T,epochs=100,  batch_size=64,verbose=0)\n",
    "        #return np.array(nlcor.nlcor(P,Q)[0])[0]\n",
    "        return eval_mdn_model(P,Q,mdn_PQ)\n",
    "    else:\n",
    "        return eval_mdn_model_mle(P,Q)\n",
    "        \n",
    "        \n",
    "        \n"
   ]
  },
  {
   "cell_type": "code",
   "execution_count": 65,
   "metadata": {},
   "outputs": [],
   "source": [
    "def compute_loss_y_pred(P,Q,mle=False):\n",
    "    \"\"\" Compute the loss for the given pair\n",
    "    \"\"\"\n",
    "    if(mle==False):\n",
    "        opt = tf.optimizers.Adam(1e-2)\n",
    "        mdn_PQ = MDN_module()\n",
    "        mdn_PQ.compile(loss=gnll_loss, optimizer=opt)\n",
    "        mdn_PQ.fit(x=reshapevar(P), y=np.array(Q).T,epochs=100,  batch_size=64,verbose=0)\n",
    "        y_pred = mdn_PQ.predict(np.reshape(P,newshape=(len(P),-1)))\n",
    "        return y_pred[:,1]\n",
    "    else:\n",
    "        indices_1 = [i for i, x in enumerate(P) if x == 1]\n",
    "        indices_0 = [i for i, x in enumerate(P) if x == 0]\n",
    "        mu_0=np.mean(Q[indices_0])\n",
    "        mu_1=np.mean(Q[indices_1])\n",
    "        #sigma_0=np.std(Q[indices_0])\n",
    "        #sigma_1=np.std(Q[indices_1])\n",
    "        y_mean=np.zeros((len(Q),1))\n",
    "        y_mean[indices_1]=mu_1\n",
    "        y_mean[indices_0]=mu_0\n",
    "        return y_mean.reshape((len(y_mean),))\n",
    "        "
   ]
  },
  {
   "cell_type": "code",
   "execution_count": 66,
   "metadata": {
    "id": "X6V8X2QFpmC7"
   },
   "outputs": [],
   "source": [
    "def shuffleBtimes(P,Q,B,mle=False):\n",
    "    \"\"\" Shuffle Q B times and compute the loss \n",
    "    \"\"\"\n",
    "    loss=[]\n",
    "    if(mle==False):\n",
    "        for i in range(0,B):\n",
    "          loss.append(compute_loss(P,np.random.permutation(Q)))\n",
    "    else:\n",
    "        for i in range(0,B):\n",
    "          loss.append(compute_loss(P,np.random.permutation(Q),True))\n",
    "    return loss\n"
   ]
  },
  {
   "cell_type": "code",
   "execution_count": 25,
   "metadata": {
    "id": "iUW3ikOHu6PO"
   },
   "outputs": [],
   "source": [
    "def LinearLABData():\n",
    "    \"\"\" Generate the linear data \n",
    "    \"\"\"\n",
    "    L = np.random.binomial(1,0.5,1000)  \n",
    "    beta0 = np.ones(1000)-0.4\n",
    "    #beta1 = 0.5\n",
    "    beta1=3\n",
    "    beta2= 0.3\n",
    "    beta3=0.8\n",
    "    #eps0 = np.random.standard_normal(1000)\n",
    "    #eps1 = np.random.standard_normal(1000)\n",
    "    eps0 = np.random.normal(0,1,1000)\n",
    "    eps1 = np.random.normal(0,1,1000)\n",
    "    A = beta0 + beta1*L + eps0\n",
    "    #B=beta2+beta3*np.sin(A)+eps1\n",
    "    B = beta2+ beta3*A + eps1 \n",
    "    plt.scatter(A,B)\n",
    "    plt.title(\"A vs B\")\n",
    "    plt.xlabel(\"A\")\n",
    "    plt.ylabel(\"B\")\n",
    "    return [L,A,B]"
   ]
  },
  {
   "cell_type": "code",
   "execution_count": 47,
   "metadata": {},
   "outputs": [],
   "source": [
    "yeast=open(\"../yeast_full_data/yeast_residual_data_full_62k_gt1.txt\",\"r\")\n",
    "\n",
    "\n",
    "\n",
    "#yeast data read \n",
    "L=[]\n",
    "A=[]\n",
    "B=[]\n",
    "for i in range(0,62296):\n",
    "    line=yeast.readline()\n",
    "    #line=line[1:-2] #remove double quotes \n",
    "    #param = [j for j in line.split()]\n",
    "    #print(param)\n",
    "    #chrname.append(param[1])\n",
    "    #g1.append(param[2])\n",
    "    #g2.append(param[3])\n",
    "    line=yeast.readline()\n",
    "    l = [j for j in line.split()]\n",
    "    L.append([int(i) for i in l])\n",
    "    line=yeast.readline()\n",
    "    a = [j for j in line.split()]\n",
    "    A.append([float(i) for i in a])\n",
    "    line=yeast.readline()\n",
    "    b = [j for j in line.split()]\n",
    "    B.append([float(i) for i in b])\n",
    "dataset_0 = [i for i in zip(L,A,B)]\n"
   ]
  },
  {
   "cell_type": "code",
   "execution_count": 53,
   "metadata": {},
   "outputs": [
    {
     "data": {
      "text/plain": [
       "<matplotlib.collections.PathCollection at 0x7f183dc8cd00>"
      ]
     },
     "execution_count": 53,
     "metadata": {},
     "output_type": "execute_result"
    },
    {
     "data": {
      "image/png": "[encoded data removed]",
      "text/plain": [
       "<Figure size 432x288 with 1 Axes>"
      ]
     },
     "metadata": {
      "needs_background": "light"
     },
     "output_type": "display_data"
    }
   ],
   "source": [
    "plt.scatter(dataset_0[2732][1],dataset_0[2732][2])"
   ]
  },
  {
   "cell_type": "code",
   "execution_count": 67,
   "metadata": {},
   "outputs": [],
   "source": [
    "L=np.array(dataset_0[2732][0])\n",
    "A=np.array(dataset_0[2732][1])\n",
    "B=np.array(dataset_0[2732][2])"
   ]
  },
  {
   "cell_type": "code",
   "execution_count": 28,
   "metadata": {},
   "outputs": [
    {
     "ename": "FileNotFoundError",
     "evalue": "[Errno 2] No such file or directory: 'dataset_params.txt'",
     "output_type": "error",
     "traceback": [
      "\u001b[0;31m---------------------------------------------------------------------------\u001b[0m",
      "\u001b[0;31mFileNotFoundError\u001b[0m                         Traceback (most recent call last)",
      "Input \u001b[0;32mIn [28]\u001b[0m, in \u001b[0;36m<cell line: 1>\u001b[0;34m()\u001b[0m\n\u001b[0;32m----> 1\u001b[0m \u001b[38;5;28;43mopen\u001b[39;49m\u001b[43m(\u001b[49m\u001b[38;5;124;43m\"\u001b[39;49m\u001b[38;5;124;43mdataset_params.txt\u001b[39;49m\u001b[38;5;124;43m\"\u001b[39;49m\u001b[43m,\u001b[49m\u001b[43m \u001b[49m\u001b[38;5;124;43m\"\u001b[39;49m\u001b[38;5;124;43mr\u001b[39;49m\u001b[38;5;124;43m\"\u001b[39;49m\u001b[43m)\u001b[49m\n",
      "\u001b[0;31mFileNotFoundError\u001b[0m: [Errno 2] No such file or directory: 'dataset_params.txt'"
     ]
    }
   ],
   "source": [
    "open(\"dataset_params.txt\", \"r\")"
   ]
  },
  {
   "cell_type": "code",
   "execution_count": 3,
   "metadata": {},
   "outputs": [
    {
     "ename": "FileNotFoundError",
     "evalue": "[Errno 2] No such file or directory: 'home/aravind/CIT_Non_Linear/LinearDifferentvalues/testing_writingvalues_Linear0to1.txt'",
     "output_type": "error",
     "traceback": [
      "\u001b[0;31m---------------------------------------------------------------------------\u001b[0m",
      "\u001b[0;31mFileNotFoundError\u001b[0m                         Traceback (most recent call last)",
      "Input \u001b[0;32mIn [3]\u001b[0m, in \u001b[0;36m<cell line: 1>\u001b[0;34m()\u001b[0m\n\u001b[0;32m----> 1\u001b[0m fo\u001b[38;5;241m=\u001b[39m\u001b[38;5;28;43mopen\u001b[39;49m\u001b[43m(\u001b[49m\u001b[38;5;124;43m\"\u001b[39;49m\u001b[38;5;124;43mhome/aravind/CIT_Non_Linear/LinearDifferentvalues/testing_writingvalues_Linear0to1.txt\u001b[39;49m\u001b[38;5;124;43m\"\u001b[39;49m\u001b[43m,\u001b[49m\u001b[43m \u001b[49m\u001b[38;5;124;43m\"\u001b[39;49m\u001b[38;5;124;43mr\u001b[39;49m\u001b[38;5;124;43m\"\u001b[39;49m\u001b[43m)\u001b[49m\n\u001b[1;32m      2\u001b[0m L\u001b[38;5;241m=\u001b[39m[]\n\u001b[1;32m      3\u001b[0m A\u001b[38;5;241m=\u001b[39m[]\n",
      "\u001b[0;31mFileNotFoundError\u001b[0m: [Errno 2] No such file or directory: 'home/aravind/CIT_Non_Linear/LinearDifferentvalues/testing_writingvalues_Linear0to1.txt'"
     ]
    }
   ],
   "source": [
    "fo=open(\"home/aravind/CIT_Non_Linear/LinearDifferentvalues/testing_writingvalues_Linear0to1.txt\", \"r\")\n",
    "L=[]\n",
    "A=[]\n",
    "B=[]\n",
    "#fe=open(\"dataset_params.txt\",'w')\n",
    "for i in range(0,121):\n",
    "    line=fo.readline()\n",
    "    #fe.write(line)\n",
    "    #line=line[1:-2] #remove double quotes \n",
    "    #param = [j for j in line.split()]\n",
    "    #print(param)\n",
    "    #chrname.append(param[1])\n",
    "    #g1.append(param[2])\n",
    "    #g2.append(param[3])\n",
    "    line=fo.readline()\n",
    "    l = [j for j in line.split()]\n",
    "    L.append([int(i) for i in l])\n",
    "    line=fo.readline()\n",
    "    a = [j for j in line.split()]\n",
    "    A.append([float(i) for i in a])\n",
    "    line=fo.readline()\n",
    "    b = [j for j in line.split()]\n",
    "    B.append([float(i) for i in b])\n",
    "dataset_linear = [i for i in zip(L,A,B)]\n",
    "fo.close()\n",
    "#fe.close()"
   ]
  },
  {
   "cell_type": "code",
   "execution_count": 29,
   "metadata": {},
   "outputs": [],
   "source": [
    "fo=open(\"./LinearDifferentvalues/testing_writingvalues_Indpendent.txt\", \"r\")\n",
    "L=[]\n",
    "A=[]\n",
    "B=[]\n",
    "#fe=open(\"dataset_params.txt\",'w')\n",
    "for i in range(0,100):\n",
    "    line=fo.readline()\n",
    "    #fe.write(line)\n",
    "    #line=line[1:-2] #remove double quotes \n",
    "    #param = [j for j in line.split()]\n",
    "    #print(param)\n",
    "    #chrname.append(param[1])\n",
    "    #g1.append(param[2])\n",
    "    #g2.append(param[3])\n",
    "    line=fo.readline()\n",
    "    l = [j for j in line.split()]\n",
    "    L.append([int(i) for i in l])\n",
    "    line=fo.readline()\n",
    "    a = [j for j in line.split()]\n",
    "    A.append([float(i) for i in a])\n",
    "    line=fo.readline()\n",
    "    b = [j for j in line.split()]\n",
    "    B.append([float(i) for i in b])\n",
    "dataset_linear = [i for i in zip(L,A,B)]\n",
    "fo.close()\n",
    "#fe.close()"
   ]
  },
  {
   "cell_type": "code",
   "execution_count": 276,
   "metadata": {},
   "outputs": [
    {
     "data": {
      "text/plain": [
       "'/home/aravind/projects/CIT_Non_Linear'"
      ]
     },
     "execution_count": 276,
     "metadata": {},
     "output_type": "execute_result"
    }
   ],
   "source": [
    "import os\n",
    "os.getcwd()"
   ]
  },
  {
   "cell_type": "code",
   "execution_count": 10,
   "metadata": {},
   "outputs": [],
   "source": [
    "fer=open(\"../LinearDifferentvalues/dataset_params_Linear0to1.txt\",\"r\")\n",
    "dataset_names=[]\n",
    "for i in range(0,121):\n",
    "    line=fer.readline()\n",
    "    line=\"_\".join(line.split())\n",
    "    dataset_names.append(line)\n",
    "fer.close()"
   ]
  },
  {
   "cell_type": "code",
   "execution_count": 26,
   "metadata": {},
   "outputs": [],
   "source": [
    "def calculate_pvalue(original,loss_list):\n",
    "    '''\n",
    "    calculate the p value \n",
    "    '''\n",
    "    return sum(i < original for i in loss_list)/len(loss_list)\n",
    "    \n",
    "    "
   ]
  },
  {
   "cell_type": "code",
   "execution_count": 68,
   "metadata": {},
   "outputs": [],
   "source": [
    "def compute_third_testloss(A,B):\n",
    "    opt = tf.optimizers.Adam(1e-2)\n",
    "    mdn_PQ = MDN_module()\n",
    "    mdn_PQ.compile(loss=gnll_loss, optimizer=opt)\n",
    "##changing epochs didnt make much difference\n",
    "\n",
    "#mdn_PQ.fit(x=C, y=np.array(B).T,epochs=300,  batch_size=64)\n",
    "    withoutL=mdn_PQ.fit(x=A, y=B.T,epochs=100,  batch_size=64,verbose=0)\n",
    "    y_pred = mdn_PQ.predict(A)\n",
    "    alpha,mu,sigma = slice_parameter_vectors(y_pred)\n",
    "    gm = tfd.MixtureSameFamily(\n",
    "        mixture_distribution=tfd.Categorical(probs=alpha),\n",
    "        components_distribution=tfd.Normal(\n",
    "            loc=mu,       \n",
    "            scale=sigma))\n",
    "    log_likelihood = gm.log_prob(B).numpy()\n",
    "    return -tf.reduce_mean(log_likelihood, axis=-1).numpy()"
   ]
  },
  {
   "cell_type": "code",
   "execution_count": 69,
   "metadata": {},
   "outputs": [],
   "source": [
    "def calculate_difference(L,A,B):\n",
    "    return compute_third_testloss(reshapevar(A),np.array(B))-compute_third_testloss(np.concatenate([L.reshape(-1,1),A.reshape(-1,1)],axis=1),np.array(B))\n",
    "    "
   ]
  },
  {
   "cell_type": "code",
   "execution_count": 70,
   "metadata": {},
   "outputs": [],
   "source": [
    "def stratify_B_n_times_diff(L,A,B,n):\n",
    "    loss=[]\n",
    "    indices_1 = [i for i, x in enumerate(L) if x == 1]\n",
    "    indices_0 = [i for i, x in enumerate(L) if x == 0]\n",
    "    for i in range(0,n):\n",
    "        B_dist_temp=np.zeros(len(B))\n",
    "        mod_indices_1=random.sample(indices_1,len(indices_1))\n",
    "        for i in range(len(indices_1)):\n",
    "            B_dist_temp[indices_1[i]]=B[mod_indices_1[i]]\n",
    "\n",
    "        mod_indices_0=random.sample(indices_0,len(indices_0))\n",
    "        for i in range(len(indices_0)):\n",
    "            B_dist_temp[indices_0[i]]=B[mod_indices_0[i]]\n",
    "        loss.append(calculate_difference(L,A,B_dist_temp))\n",
    "    return loss"
   ]
  },
  {
   "cell_type": "code",
   "execution_count": 14,
   "metadata": {},
   "outputs": [],
   "source": [
    "import math"
   ]
  },
  {
   "cell_type": "code",
   "execution_count": 17,
   "metadata": {},
   "outputs": [],
   "source": [
    "def sigmoid(x):\n",
    "  return 1 / (1 + np.exp(-x))\n"
   ]
  },
  {
   "cell_type": "code",
   "execution_count": 167,
   "metadata": {},
   "outputs": [
    {
     "data": {
      "text/plain": [
       "8"
      ]
     },
     "execution_count": 167,
     "metadata": {},
     "output_type": "execute_result"
    }
   ],
   "source": [
    "2**3"
   ]
  },
  {
   "cell_type": "code",
   "execution_count": 168,
   "metadata": {},
   "outputs": [],
   "source": [
    "def hill(x,n):\n",
    "    return x**n / (1+x**n)"
   ]
  },
  {
   "cell_type": "code",
   "execution_count": 43,
   "metadata": {},
   "outputs": [],
   "source": [
    "L = np.random.binomial(1,0.5,1000)  \n",
    "eps0 = np.random.normal(0,1,1000)\n",
    "eps1 = np.random.normal(0,1,1000)\n",
    "A = 10*L + eps0**2\n",
    "B = 10*L+eps1\n",
    "#A =5*L+ eps0\n",
    "#B = 5*L+eps1\n",
    "#A = L + eps0\n",
    "#B = hill(A,20)+eps1"
   ]
  },
  {
   "cell_type": "code",
   "execution_count": 31,
   "metadata": {},
   "outputs": [],
   "source": [
    "L=dataset_linear[0][0]\n",
    "A=dataset_linear[0][1]\n",
    "B=dataset_linear[0][2]"
   ]
  },
  {
   "cell_type": "code",
   "execution_count": 245,
   "metadata": {},
   "outputs": [
    {
     "data": {
      "text/plain": [
       "8.414709848078965"
      ]
     },
     "execution_count": 245,
     "metadata": {},
     "output_type": "execute_result"
    }
   ],
   "source": [
    "np.sin(1)*10"
   ]
  },
  {
   "cell_type": "code",
   "execution_count": 44,
   "metadata": {},
   "outputs": [
    {
     "data": {
      "text/plain": [
       "Text(0, 0.5, 'B')"
      ]
     },
     "execution_count": 44,
     "metadata": {},
     "output_type": "execute_result"
    },
    {
     "data": {
      "image/png": "[encoded data removed]",
      "text/plain": [
       "<Figure size 432x288 with 1 Axes>"
      ]
     },
     "metadata": {
      "needs_background": "light"
     },
     "output_type": "display_data"
    }
   ],
   "source": [
    "plt.scatter(A,B)\n",
    "plt.xlabel(\"A\")\n",
    "\n",
    "plt.ylabel(\"B\")"
   ]
  },
  {
   "cell_type": "code",
   "execution_count": 59,
   "metadata": {},
   "outputs": [
    {
     "data": {
      "text/plain": [
       "<matplotlib.collections.PathCollection at 0x7f183ddfea00>"
      ]
     },
     "execution_count": 59,
     "metadata": {},
     "output_type": "execute_result"
    },
    {
     "data": {
      "image/png": "[encoded data removed]",
      "text/plain": [
       "<Figure size 432x288 with 1 Axes>"
      ]
     },
     "metadata": {
      "needs_background": "light"
     },
     "output_type": "display_data"
    }
   ],
   "source": [
    "plt.scatter(L,A)"
   ]
  },
  {
   "cell_type": "code",
   "execution_count": 60,
   "metadata": {},
   "outputs": [
    {
     "data": {
      "text/plain": [
       "<matplotlib.collections.PathCollection at 0x7f183dc9fca0>"
      ]
     },
     "execution_count": 60,
     "metadata": {},
     "output_type": "execute_result"
    },
    {
     "data": {
      "image/png": "[encoded data removed]",
      "text/plain": [
       "<Figure size 432x288 with 1 Axes>"
      ]
     },
     "metadata": {
      "needs_background": "light"
     },
     "output_type": "display_data"
    }
   ],
   "source": [
    "plt.scatter(L,B)"
   ]
  },
  {
   "cell_type": "code",
   "execution_count": 17,
   "metadata": {},
   "outputs": [
    {
     "data": {
      "text/plain": [
       "<matplotlib.collections.PathCollection at 0x7f18652ceb80>"
      ]
     },
     "execution_count": 17,
     "metadata": {},
     "output_type": "execute_result"
    },
    {
     "data": {
      "image/png": "[encoded data removed]",
      "text/plain": [
       "<Figure size 432x288 with 1 Axes>"
      ]
     },
     "metadata": {
      "needs_background": "light"
     },
     "output_type": "display_data"
    }
   ],
   "source": [
    "plt.scatter(A,B)"
   ]
  },
  {
   "cell_type": "code",
   "execution_count": 71,
   "metadata": {},
   "outputs": [],
   "source": [
    "    i=61\n",
    "    #A=np.array(dataset_linear[i][1])\n",
    "    #B=np.array(dataset_linear[i][2])\n",
    "    #L=np.array(dataset_linear[i][0])\n",
    "    shuffles=100\n",
    "    A_shuffle=np.copy(A)\n",
    "    B_shuffle=np.copy(B)\n",
    "    #print(\"Original\",B_shuffle)\n",
    "    #changed the second test from mle to using neural networks\n",
    "    loss_list_LA=shuffleBtimes(L,A_shuffle,shuffles,True)\n",
    "    loss_list_LB=shuffleBtimes(L,B_shuffle,shuffles,True)\n",
    "    loss_list_Bresidual=stratify_B_n_times_diff(L,A_shuffle,B_shuffle,shuffles) #conditional independence test\n",
    "    true_LA=compute_loss(L,A,True)\n",
    "    true_LB=compute_loss(L,B,True)\n",
    "    true_LBresidual=calculate_difference(L,A,B)\n",
    "    LA_p=calculate_pvalue(true_LA,loss_list_LA)\n",
    "    LB_p=calculate_pvalue(true_LB,loss_list_LB)\n",
    "    AB_p=calculate_pvalue(true_LBresidual,loss_list_Bresidual)\n",
    "    #f.write(str(i)+\",\"+str(LA_p)+\",\"+str(LB_p)+\",\"+str(AB_p)+\"\\n\")\n",
    "    #pickle_items=[loss_list_LA,loss_list_LB,loss_list_Bresidual,true_LA,true_LB,true_LBresidual,LA_p,LB_p,AB_p]\n",
    "    #file_name=str(dataset_names[i])+\".pkl\"\n",
    "    #open_file = open(\"./DLresultspickle/\"+file_name, \"wb\")\n",
    "    #pickle.dump(pickle_items, open_file)\n",
    "    #open_file.close()"
   ]
  },
  {
   "cell_type": "code",
   "execution_count": 72,
   "metadata": {},
   "outputs": [
    {
     "data": {
      "text/plain": [
       "Text(0, 0.5, 'B')"
      ]
     },
     "execution_count": 72,
     "metadata": {},
     "output_type": "execute_result"
    },
    {
     "data": {
      "image/png": "[encoded data removed]",
      "text/plain": [
       "<Figure size 432x288 with 1 Axes>"
      ]
     },
     "metadata": {
      "needs_background": "light"
     },
     "output_type": "display_data"
    }
   ],
   "source": [
    "plt.scatter(A,B)\n",
    "plt.xlabel(\"A\")\n",
    "plt.ylabel(\"B\")"
   ]
  },
  {
   "cell_type": "code",
   "execution_count": 55,
   "metadata": {},
   "outputs": [
    {
     "data": {
      "text/plain": [
       "<matplotlib.collections.PathCollection at 0x7f80b810c100>"
      ]
     },
     "execution_count": 55,
     "metadata": {},
     "output_type": "execute_result"
    },
    {
     "data": {
      "image/png": "[encoded data removed]",
      "text/plain": [
       "<Figure size 432x288 with 1 Axes>"
      ]
     },
     "metadata": {
      "needs_background": "light"
     },
     "output_type": "display_data"
    }
   ],
   "source": [
    "plt.scatter(A,B)"
   ]
  },
  {
   "cell_type": "code",
   "execution_count": 73,
   "metadata": {},
   "outputs": [
    {
     "name": "stdout",
     "output_type": "stream",
     "text": [
      "0.04\n",
      "0.17\n",
      "0.31\n"
     ]
    }
   ],
   "source": [
    "#print(dataset_names[120])\n",
    "print(LA_p)\n",
    "print(LB_p)\n",
    "print(AB_p)"
   ]
  },
  {
   "cell_type": "code",
   "execution_count": 129,
   "metadata": {
    "scrolled": true
   },
   "outputs": [
    {
     "data": {
      "text/plain": [
       "[2.7158014150156506,\n",
       " 2.7148922512645357,\n",
       " 2.7158930174904286,\n",
       " 2.7159653521526357,\n",
       " 2.7155892758141937,\n",
       " 2.7140600008229168,\n",
       " 2.715555717323637,\n",
       " 2.7154343523742646,\n",
       " 2.7150609665433323,\n",
       " 2.71596301009076]"
      ]
     },
     "execution_count": 129,
     "metadata": {},
     "output_type": "execute_result"
    }
   ],
   "source": [
    "loss_list_LB"
   ]
  },
  {
   "cell_type": "code",
   "execution_count": 130,
   "metadata": {},
   "outputs": [
    {
     "data": {
      "text/plain": [
       "2.715338831868044"
      ]
     },
     "execution_count": 130,
     "metadata": {},
     "output_type": "execute_result"
    }
   ],
   "source": [
    "true_LB"
   ]
  },
  {
   "cell_type": "code",
   "execution_count": 127,
   "metadata": {},
   "outputs": [
    {
     "data": {
      "text/plain": [
       "<matplotlib.collections.PathCollection at 0x7fb063be6a00>"
      ]
     },
     "execution_count": 127,
     "metadata": {},
     "output_type": "execute_result"
    },
    {
     "data": {
      "image/png": "[encoded data removed]",
      "text/plain": [
       "<Figure size 432x288 with 1 Axes>"
      ]
     },
     "metadata": {
      "needs_background": "light"
     },
     "output_type": "display_data"
    }
   ],
   "source": [
    "plt.scatter(L,B)"
   ]
  },
  {
   "cell_type": "code",
   "execution_count": 34,
   "metadata": {},
   "outputs": [],
   "source": [
    "i=120\n",
    "#A=np.array(dataset_linear[i][1])\n",
    "#B=np.array(dataset_linear[i][2])\n",
    "#L=np.array(dataset_linear[i][0])\n",
    "opt = tf.optimizers.Adam(1e-2)\n",
    "mdn_PQ = MDN_module()\n",
    "mdn_PQ.compile(loss=gnll_loss, optimizer=opt)\n",
    "withoutL=mdn_PQ.fit(x=np.concatenate([L.reshape(-1,1),A.reshape(-1,1)],axis=1), y=B.T,epochs=100,  batch_size=64,verbose=0)\n",
    "y_pred = mdn_PQ.predict(np.concatenate([L.reshape(-1,1),A.reshape(-1,1)],axis=1))\n"
   ]
  },
  {
   "cell_type": "code",
   "execution_count": 35,
   "metadata": {},
   "outputs": [
    {
     "data": {
      "text/plain": [
       "Text(0.5, 1.0, 'Original data with added information of L')"
      ]
     },
     "execution_count": 35,
     "metadata": {},
     "output_type": "execute_result"
    },
    {
     "data": {
      "image/png": "[encoded data removed]",
      "text/plain": [
       "<Figure size 432x288 with 1 Axes>"
      ]
     },
     "metadata": {
      "needs_background": "light"
     },
     "output_type": "display_data"
    }
   ],
   "source": [
    "plt.scatter(A,B)\n",
    "plt.scatter(A,y_pred[:,1])\n",
    "plt.xlabel(\"A\")\n",
    "plt.ylabel(\"B\")\n",
    "plt.title(\"Original data with added information of L\")"
   ]
  },
  {
   "cell_type": "code",
   "execution_count": 138,
   "metadata": {},
   "outputs": [],
   "source": [
    "L = np.random.binomial(1,0.5,1000)  \n",
    "eps0 = np.random.normal(0,0.1,1000)\n",
    "eps1 = np.random.normal(0,0.1,1000)\n",
    "A = 1*L + eps0\n",
    "#B=beta2+beta3*np.sin(A)+eps1\n",
    "B =1*A + eps1 "
   ]
  },
  {
   "cell_type": "code",
   "execution_count": 36,
   "metadata": {},
   "outputs": [],
   "source": [
    "i=39\n",
    "#A=np.array(dataset_linear[i][1])\n",
    "#B=np.array(dataset_linear[i][2])\n",
    "#L=np.array(dataset_linear[i][0])\n",
    "opt = tf.optimizers.Adam(1e-2)\n",
    "mdn_PQ = MDN_module()\n",
    "mdn_PQ.compile(loss=gnll_loss, optimizer=opt)\n",
    "withoutL=mdn_PQ.fit(x=reshapevar(A), y=B.T,epochs=100,  batch_size=64,verbose=0)\n",
    "y_pred = mdn_PQ.predict(reshapevar(A))\n"
   ]
  },
  {
   "cell_type": "code",
   "execution_count": 37,
   "metadata": {},
   "outputs": [
    {
     "data": {
      "text/plain": [
       "Text(0.5, 1.0, 'Original data without the added information')"
      ]
     },
     "execution_count": 37,
     "metadata": {},
     "output_type": "execute_result"
    },
    {
     "data": {
      "image/png": "[encoded data removed]",
      "text/plain": [
       "<Figure size 432x288 with 1 Axes>"
      ]
     },
     "metadata": {
      "needs_background": "light"
     },
     "output_type": "display_data"
    }
   ],
   "source": [
    "plt.scatter(A,B)\n",
    "plt.scatter(A,y_pred[:,1])\n",
    "plt.xlabel(\"A\")\n",
    "plt.ylabel(\"B\")\n",
    "plt.title(\"Original data without the added information\")\n"
   ]
  },
  {
   "cell_type": "code",
   "execution_count": 38,
   "metadata": {},
   "outputs": [],
   "source": [
    "indices_1 = [i for i, x in enumerate(L) if x == 1]\n",
    "indices_0 = [i for i, x in enumerate(L) if x == 0]\n",
    "B_dist_temp=np.zeros(len(B))\n",
    "mod_indices_1=random.sample(indices_1,len(indices_1))\n",
    "for i in range(len(indices_1)):\n",
    "    B_dist_temp[indices_1[i]]=B[mod_indices_1[i]]\n",
    "\n",
    "mod_indices_0=random.sample(indices_0,len(indices_0))\n",
    "for i in range(len(indices_0)):\n",
    "    B_dist_temp[indices_0[i]]=B[mod_indices_0[i]]"
   ]
  },
  {
   "cell_type": "code",
   "execution_count": 94,
   "metadata": {},
   "outputs": [
    {
     "data": {
      "text/plain": [
       "array([ 4.33645021e-01,  3.80741431e-02,  1.71113286e-01, -1.14417874e-01,\n",
       "       -3.39798428e-02, -4.14356898e-02,  4.59410354e-01,  2.14857111e-01,\n",
       "       -6.44670128e-02, -2.30328298e-01, -1.92413823e-01,  5.46449193e-02,\n",
       "        1.32328555e-01,  2.11816043e-01,  3.14531727e-01,  3.25073449e-01,\n",
       "        2.02281739e-01, -2.48027792e-02,  1.65670560e-01,  7.94445801e-03,\n",
       "       -3.03873894e-02,  1.97562404e-01,  3.02260201e-01,  4.26920738e-01,\n",
       "       -3.11931520e-02,  3.24764200e-01,  2.78723191e-02,  9.47058372e-03,\n",
       "        1.75193829e-01,  9.53246351e-02,  4.33092826e-01,  1.86934184e-01,\n",
       "        2.79720842e-01,  2.85423575e-01,  2.78066606e-01,  3.04220413e-01,\n",
       "        2.99848465e-01,  3.10894548e-01,  1.01874347e-01,  1.81351636e-01,\n",
       "        1.07358351e-01,  1.54137890e-02, -1.11824681e-02, -6.45581843e-02,\n",
       "        2.61974100e-01,  2.17668692e-01, -5.51463381e-02, -6.41823920e-02,\n",
       "        3.57498236e-01,  3.56516810e-01,  3.67078792e-01,  2.30391015e-01,\n",
       "       -2.51068121e-01,  3.89118085e-03,  3.05777246e-01,  1.09248179e-02,\n",
       "        4.30918635e-01,  3.49405792e-01,  1.48687436e-01,  1.71318434e-01,\n",
       "        1.01088052e-01,  1.91111370e-01,  3.61116867e-01,  4.13624348e-02,\n",
       "       -5.35470785e-02,  7.39831080e-02,  3.38936960e-01,  4.54783922e-01,\n",
       "        5.40847704e-01,  3.63418736e-01,  2.01412966e-01,  3.34008760e-01,\n",
       "        3.94959950e-01,  3.59713550e-01,  2.73867830e-01,  8.38417635e-02,\n",
       "        3.58982148e-01,  2.71258875e-01, -1.34975287e-01,  6.87400434e-03,\n",
       "        4.82215056e-01,  4.21465818e-01,  1.50955610e-01, -1.58838447e-01,\n",
       "        2.55456485e-01,  1.10005636e-01,  3.29598166e-01,  2.29450671e-01,\n",
       "        4.57211836e-01,  1.62870965e-01,  1.15383271e-02, -1.72054055e-01,\n",
       "        4.29332234e-02,  2.37830800e-01,  4.24377963e-01,  7.30167796e-02,\n",
       "        5.07564136e-01,  1.67427987e-01,  2.17249973e-01,  4.64478176e-02,\n",
       "        4.47007340e-02, -1.42068211e-01,  9.51186438e-02,  4.03852194e-01,\n",
       "        6.95892922e-02,  2.19402980e-01,  8.21160977e-02,  2.22667934e-01,\n",
       "        3.07258352e-01,  3.53535406e-01,  1.92588580e-01, -1.25379477e-01,\n",
       "        3.93565527e-01,  9.82781593e-02,  1.76748854e-02, -5.66443078e-02,\n",
       "       -1.60333831e-01,  2.32148822e-01,  2.75845487e-01,  2.52866342e-02,\n",
       "       -4.98363471e-02,  1.50357192e-01,  1.24158032e-01,  4.00028450e-01,\n",
       "        5.48568305e-02,  5.31103366e-01,  6.80542372e-02, -1.55272816e-01,\n",
       "        4.57443657e-01, -1.76622476e-01,  1.44202379e-01,  1.88049263e-01,\n",
       "       -1.71635243e-03, -3.49432249e-02,  3.56668664e-02,  3.25930430e-01,\n",
       "       -2.02838569e-01,  1.17217540e-01,  1.16338822e-01, -6.12314735e-02,\n",
       "       -1.99577488e-01,  1.92343188e-01,  3.14821239e-01, -7.33919314e-03,\n",
       "        1.07315128e-01,  4.17647354e-01,  2.34901686e-01, -3.76788236e-02,\n",
       "        1.79738464e-01, -5.03986432e-02,  1.26996853e-02, -1.77880107e-01,\n",
       "       -3.98838454e-03,  7.47378851e-02, -1.83704161e-02,  1.78730260e-01,\n",
       "        1.38747240e-01,  2.35746710e-01,  8.69516042e-02,  1.11423110e-01,\n",
       "        2.29886492e-01, -6.00860168e-03,  4.24750781e-01,  1.05825558e-01,\n",
       "        2.97213936e-01,  4.11055745e-01,  7.77432354e-02, -2.34437938e-02,\n",
       "        3.63851351e-01, -1.05561270e-01, -5.39483498e-02,  2.05758744e-01,\n",
       "        1.26141879e-01, -3.70606194e-02,  3.01330733e-01,  8.61823752e-02,\n",
       "        6.79833949e-02,  4.06393571e-01,  3.35669350e-01,  2.64101113e-01,\n",
       "        2.92818383e-03,  2.07669698e-02, -5.18081851e-02,  1.74847976e-01,\n",
       "        2.45154534e-01,  4.99217209e-02,  5.81047161e-03,  4.06217789e-01,\n",
       "       -6.04050040e-03, -7.92222046e-02,  2.24629715e-01,  1.57052688e-02,\n",
       "        6.02398009e-02,  1.77004918e-02, -2.23262200e-02,  8.24017381e-02,\n",
       "        1.65103589e-01,  4.16560240e-01,  9.24705811e-02,  4.27560424e-02,\n",
       "        3.20207889e-01,  2.43535192e-03,  5.24428293e-01,  3.07322578e-01,\n",
       "        4.30750085e-02,  1.71451212e-02,  2.70385496e-01,  2.78612447e-01,\n",
       "       -1.05096191e-01, -4.94006297e-02, -1.50946909e-01,  2.89286992e-03,\n",
       "        8.55741663e-02,  2.89618368e-01,  2.14077715e-01, -9.59166811e-02,\n",
       "       -6.38461354e-02,  2.83089100e-01,  1.27000771e-01,  3.05543200e-02,\n",
       "        1.15194208e-01,  3.04779955e-02,  2.17886591e-01, -1.02406849e-01,\n",
       "        1.52683790e-01, -1.04694597e-01, -9.64764157e-02,  2.21879989e-01,\n",
       "       -3.06782150e-01,  3.18950894e-01,  1.19430296e-01,  2.04564601e-01,\n",
       "        1.01586165e-01, -1.37252446e-01,  1.80445570e-01,  9.96903478e-02,\n",
       "       -1.22545448e-02, -1.34111716e-01,  4.27908401e-02, -8.31029256e-02,\n",
       "        4.37134839e-02,  3.17066038e-01,  6.41119653e-02,  2.32173918e-01,\n",
       "        1.38127523e-01,  3.42170888e-01,  3.78022160e-01,  4.27612387e-02,\n",
       "        2.53362052e-01, -1.81686104e-01, -1.06259218e-01,  3.81204482e-01,\n",
       "       -4.59822534e-02, -1.11647024e-01, -1.11354867e-02, -8.25405918e-02,\n",
       "        1.91858099e-01,  4.42848617e-01,  1.60876626e-01,  3.45320425e-01,\n",
       "        2.50007420e-01,  1.74743033e-01,  6.05207801e-01, -1.55520501e-01,\n",
       "        1.23327545e-01, -8.70318288e-02,  1.37163773e-02,  1.11238456e-01,\n",
       "        1.77839355e-01,  1.03237736e-01,  4.10316104e-01, -2.79798856e-02,\n",
       "        5.92520663e-02,  3.55188334e-01,  2.13654676e-01,  6.78476875e-02,\n",
       "        2.98625344e-01, -1.68840242e-01, -1.22930138e-01, -1.11412270e-02,\n",
       "       -2.42682917e-01,  2.12944733e-01,  2.53815486e-02,  3.63897382e-01,\n",
       "        1.78093888e-01,  2.78817684e-01, -8.28532555e-02,  3.37657117e-02,\n",
       "        7.61767854e-03,  2.26206273e-01,  3.86636550e-02, -1.19437246e-01,\n",
       "        9.14201948e-02, -5.80895605e-03,  2.77525659e-01, -9.04011899e-02,\n",
       "       -1.82833981e-01, -3.68163814e-02,  2.76461821e-01,  6.74807745e-02,\n",
       "       -6.97418458e-02,  1.33546289e-01,  1.29857782e-01,  1.83108684e-02,\n",
       "        1.20357898e-01,  3.09623760e-01,  1.99754307e-02,  2.21135742e-01,\n",
       "        2.82681518e-01,  6.24271871e-03, -2.60390081e-02,  3.48457082e-01,\n",
       "        9.16544072e-02,  2.03099523e-01, -3.03845829e-02,  2.00433281e-01,\n",
       "        2.08827369e-01,  4.15321864e-02,  2.47533476e-01,  2.83769389e-01,\n",
       "       -1.02579285e-01,  2.10050658e-01,  3.98226033e-01, -9.57956687e-02,\n",
       "        2.38388661e-01,  4.31810943e-01,  1.24305109e-01, -1.95025977e-02,\n",
       "        6.25140219e-02,  1.64207426e-01, -7.14861437e-02, -6.57459705e-02,\n",
       "        1.23533009e-01,  6.15621627e-02,  4.09345562e-01,  3.39242682e-02,\n",
       "        8.93360323e-02,  3.36140742e-01,  3.26653132e-02,  1.28838626e-01,\n",
       "        2.20029900e-01,  2.43428831e-01,  3.87050181e-01, -3.12101366e-02,\n",
       "       -1.98651160e-01,  1.94430969e-01,  2.09538476e-01,  1.65624975e-01,\n",
       "        1.41593920e-01,  3.20982255e-01,  5.29584234e-01,  3.26081878e-02,\n",
       "        1.09530507e-01,  2.31534943e-01,  6.11646196e-02,  4.97124151e-01,\n",
       "        3.45726561e-02, -3.28006750e-01,  3.37420188e-02, -1.99704354e-01,\n",
       "        1.53203726e-01, -7.78144369e-02,  4.05502203e-01,  3.11967432e-01,\n",
       "       -2.68182504e-02,  2.64589987e-03,  2.50105390e-01,  3.69435021e-01,\n",
       "        3.36114960e-01,  2.31011571e-01,  3.37715149e-02,  1.47972829e-01,\n",
       "        3.44761147e-01, -9.98711607e-03,  2.73662083e-01, -1.39840151e-01,\n",
       "        3.30015961e-01, -4.43251871e-02,  1.86909801e-01,  3.07359372e-01,\n",
       "        1.14933595e-02,  4.30000397e-01,  3.24399742e-01,  3.92472818e-02,\n",
       "        1.29585121e-01, -5.02279962e-02,  3.20399424e-01, -1.15726890e-01,\n",
       "        4.39384917e-01,  7.96527347e-02,  3.69870669e-01,  4.52831376e-02,\n",
       "        1.77864380e-01,  1.32467209e-01,  1.77534204e-01,  1.29483982e-02,\n",
       "       -2.28454374e-02,  2.47105573e-01,  1.02929271e-01, -2.29411499e-02,\n",
       "       -2.95874988e-01, -4.77581537e-02,  1.77265082e-02,  1.74296748e-02,\n",
       "        3.61393576e-01,  1.15094892e-01, -3.03172867e-01, -6.24950797e-02,\n",
       "        3.89191985e-01, -1.25542953e-02,  1.64779386e-01,  2.76291122e-01,\n",
       "        2.66962456e-01,  3.74708586e-02,  2.76465051e-01, -4.12082892e-02,\n",
       "        3.28758863e-02,  3.16792198e-01, -3.42190443e-02, -1.23147679e-01,\n",
       "        1.73213972e-01, -1.36405689e-01,  8.15065491e-02,  6.55268289e-02,\n",
       "        3.28569706e-01, -1.08836849e-01, -3.33985673e-02,  3.22478050e-01,\n",
       "       -4.83858891e-02,  4.73889666e-01,  4.24571622e-02,  4.63587544e-02,\n",
       "        9.98405776e-02, -1.11373112e-01,  1.59916473e-01,  2.09548592e-01,\n",
       "        3.44244650e-01,  2.83268855e-02, -6.53311200e-02,  8.23721257e-02,\n",
       "        4.18374911e-01, -5.00000169e-02,  1.73946825e-01,  2.33436315e-01,\n",
       "       -2.35328132e-01,  2.62574560e-01,  2.88948017e-01,  6.09210175e-02,\n",
       "        3.31718547e-02,  3.86315841e-01,  3.75005951e-01, -1.93735390e-01,\n",
       "       -6.49977575e-02,  7.92289576e-02,  2.63454856e-01,  8.92542791e-02,\n",
       "        2.96872743e-01,  3.03221358e-01, -8.57869820e-02,  3.69700035e-01,\n",
       "       -3.21039699e-02,  4.56429279e-02,  8.59975390e-02,  3.85273365e-01,\n",
       "        2.56905114e-01,  4.31339529e-02,  4.28882288e-02,  3.18189616e-01,\n",
       "        8.27935781e-02,  1.55306764e-02,  6.15736593e-02,  1.10652896e-01,\n",
       "        4.83015069e-01,  2.31604243e-02,  2.10481064e-01,  9.51103557e-02,\n",
       "        2.91036979e-01, -1.40529036e-01, -2.33390056e-01,  1.08555526e-01,\n",
       "       -7.74166482e-02,  2.68309247e-01,  3.13644818e-01,  1.15044025e-01,\n",
       "        1.79577377e-01, -1.04706775e-01,  8.76548922e-02,  2.75008338e-01,\n",
       "        1.82087068e-01, -6.12132663e-02,  9.84255486e-03,  8.13480144e-02,\n",
       "        1.56759883e-01, -4.71206293e-02,  3.68254584e-01,  4.57163686e-01,\n",
       "        4.92585579e-01,  3.12361841e-01,  2.99997644e-01,  4.60513748e-02,\n",
       "       -1.53353703e-01,  2.67205996e-01,  3.23929561e-01, -1.42412270e-01,\n",
       "       -1.31119367e-01, -1.36582767e-01, -3.69332979e-02, -1.66252188e-01,\n",
       "        4.71572270e-02, -2.14473686e-02, -6.03740115e-02,  3.17941799e-01,\n",
       "       -5.63156467e-02,  2.81260008e-01,  1.08518007e-01, -8.55423006e-02,\n",
       "        4.52439521e-02,  1.74107547e-01,  3.54883029e-01,  5.79492458e-02,\n",
       "       -4.46250322e-02,  1.64887828e-01, -7.30105369e-02,  3.94154852e-01,\n",
       "       -8.61385284e-02, -1.73097126e-01,  1.59383250e-01,  2.43873496e-01,\n",
       "       -1.41672816e-01,  2.71391825e-01,  1.44374263e-01, -3.34074353e-02,\n",
       "        2.14518346e-01, -1.76354602e-02,  3.95965976e-01,  1.81764833e-01,\n",
       "        2.46181980e-01, -2.33307480e-03,  2.99561658e-02, -2.86363960e-01,\n",
       "        4.58083827e-02,  4.23239127e-01, -1.32086214e-02,  3.19431008e-01,\n",
       "        3.77903667e-02, -1.62134479e-02,  1.35144201e-01,  3.51680193e-01,\n",
       "        1.51611091e-01, -1.16735574e-01,  1.15516502e-01,  2.14655708e-01,\n",
       "       -3.24817320e-01,  2.36067978e-01,  2.38671628e-01,  1.42748398e-01,\n",
       "        4.67105622e-01,  2.82108273e-01,  1.92930628e-01, -3.95431112e-02,\n",
       "       -1.28454402e-01,  3.97884377e-01,  3.08989564e-01,  1.66773540e-01,\n",
       "        5.78640426e-01,  1.58056092e-01,  2.24342367e-02, -1.22709759e-01,\n",
       "        4.28237807e-01,  2.50715855e-01,  1.55340736e-01,  1.90222499e-01,\n",
       "        1.02222503e-01,  2.62842033e-01,  6.40850042e-02, -1.54687475e-01,\n",
       "        2.25840717e-01, -3.63110581e-03,  3.15849583e-01,  1.97382456e-01,\n",
       "        2.37192052e-01,  7.17706272e-02,  4.16157489e-01,  1.32532104e-01,\n",
       "        1.29163177e-01,  2.18630736e-01,  3.53939915e-01,  4.94428632e-01,\n",
       "       -6.18079402e-02,  5.34265786e-01,  1.99805956e-01,  1.29532581e-01,\n",
       "        2.70747182e-01,  1.19962840e-01,  9.81973179e-02, -2.30732844e-01,\n",
       "        2.53832987e-01,  2.99479642e-01,  3.77010597e-01,  4.31708190e-01,\n",
       "        4.07560896e-02, -9.58922748e-02,  1.54958854e-01, -5.97890022e-02,\n",
       "       -5.24220185e-02,  6.73712718e-02,  1.38546236e-01,  5.06803792e-01,\n",
       "        2.96486757e-01,  1.80936382e-01,  2.64236161e-01, -1.21330071e-01,\n",
       "        2.55467919e-01,  8.37112480e-02,  3.78622133e-01,  3.13125202e-01,\n",
       "       -5.22360821e-02,  2.97005850e-01,  3.33962741e-01,  4.64034154e-01,\n",
       "        3.53405181e-01, -4.04688283e-02,  1.10094694e-01,  1.08468936e-01,\n",
       "       -1.74178024e-01, -1.96514238e-01,  1.05875952e-01,  2.69590835e-01,\n",
       "        2.61741249e-01,  4.07475936e-01, -1.85370805e-01, -1.09389077e-01,\n",
       "        2.63602239e-01,  4.52131471e-01,  2.66134604e-01,  2.62477844e-01,\n",
       "        3.27273287e-01,  1.19823428e-01,  1.74905230e-01,  2.84601088e-01,\n",
       "        1.37291458e-01,  1.03485781e-01,  3.82968532e-01,  2.46926162e-01,\n",
       "        6.62690889e-02,  1.94631469e-01,  2.37872707e-01,  1.60603510e-03,\n",
       "        4.16315781e-01, -1.14972559e-01, -5.67355302e-02, -1.29447400e-01,\n",
       "        5.05945425e-02, -1.74839211e-01,  5.01979782e-01, -2.42525980e-02,\n",
       "        3.90238896e-01,  4.64339227e-01,  1.33738769e-01,  3.56364355e-01,\n",
       "        1.80823378e-01,  4.07241600e-01, -4.70436268e-04,  2.60863383e-01,\n",
       "       -1.45109586e-01,  2.21319157e-01,  1.26836229e-01,  2.73244816e-01,\n",
       "       -4.85351219e-02, -7.11247381e-02,  5.05473843e-01, -4.53790611e-02,\n",
       "        1.11947038e-01,  1.53329523e-01,  4.78381870e-01,  9.55745433e-02,\n",
       "       -5.18686870e-02,  2.08746583e-01,  3.60896906e-01,  2.79128978e-01,\n",
       "       -1.19681966e-01,  5.67268331e-03,  1.22104110e-01, -6.55627543e-02,\n",
       "       -2.34212139e-01, -3.04685427e-02,  3.41441472e-01,  1.09376427e-01,\n",
       "        1.26316117e-01,  3.57029659e-01, -1.37101878e-01,  1.06201412e-01,\n",
       "        4.19819742e-02, -1.42675333e-01,  2.99103614e-01,  2.68535230e-01,\n",
       "       -1.34633786e-01, -1.74476666e-01, -2.36995960e-02,  1.92154459e-01,\n",
       "        2.02504860e-01,  3.10608565e-01,  4.39815756e-02,  4.02199320e-01,\n",
       "        4.50133599e-01,  2.70482862e-02, -2.64111714e-01,  1.00784451e-01,\n",
       "       -1.48758993e-01, -1.20789218e-01,  4.35149991e-01,  4.64314745e-01,\n",
       "        2.38757599e-01, -5.40251689e-02,  1.22776417e-01, -1.55130154e-01,\n",
       "        1.07231597e-02,  5.98386588e-02,  1.85569959e-01,  6.77328301e-02,\n",
       "        4.57634080e-01,  3.82895819e-01,  6.73535718e-02,  1.23266329e-01,\n",
       "        1.82393415e-01,  4.28907846e-01, -1.55861818e-01,  7.56200764e-02,\n",
       "        5.68309605e-01, -9.41574326e-03,  7.23888886e-02, -1.08355827e-01,\n",
       "        3.83554038e-02,  1.34403868e-01,  7.03779336e-02,  2.13394120e-01,\n",
       "        1.07536567e-01,  1.68688573e-01,  1.06548680e-01,  5.98477509e-01,\n",
       "        3.87474089e-02,  4.03438256e-01, -1.06132560e-02,  2.45889276e-01,\n",
       "        3.25978587e-01, -3.41679860e-02, -2.64124650e-01,  4.76760102e-02,\n",
       "        3.08257164e-01,  3.41374068e-01,  1.89263753e-01, -1.02109540e-01,\n",
       "        2.49673075e-02, -1.11661051e-01,  2.53315514e-01, -9.29781585e-03,\n",
       "        3.46661274e-01, -4.42762438e-02,  9.94587086e-02,  1.57646781e-02,\n",
       "        3.81106259e-01,  7.64714113e-02,  2.47602784e-02,  2.89330675e-01,\n",
       "        7.66882151e-02,  4.13094508e-01,  5.45760611e-01,  5.05590213e-01,\n",
       "       -1.05048640e-01,  9.08713149e-02,  1.82105219e-01,  2.72916950e-01,\n",
       "       -8.18226909e-02,  2.01738791e-01, -1.55268633e-01,  2.96447394e-01,\n",
       "        5.54325728e-02,  1.50901608e-01,  3.23583383e-01,  2.79771991e-01,\n",
       "        4.48525169e-01,  3.40078050e-01,  2.79467386e-01,  2.12778231e-01,\n",
       "       -1.57640301e-01, -4.09303027e-02,  1.59996091e-01,  3.66275698e-01,\n",
       "       -5.17302610e-03,  1.62065058e-01,  1.58562190e-01,  3.12583408e-01,\n",
       "        3.45025943e-01,  3.81269115e-01,  4.30025404e-01,  3.63053705e-01,\n",
       "        1.66259968e-01,  3.45528135e-01,  4.26500279e-01, -2.24857386e-03,\n",
       "       -8.58874986e-02,  1.86031159e-01, -1.96661780e-01,  1.53249019e-01,\n",
       "        3.42224563e-01,  1.42394945e-01,  3.09166745e-01, -8.29693275e-02,\n",
       "       -6.97821696e-02, -3.10196866e-01, -2.10370372e-01,  1.76855064e-02,\n",
       "       -5.04371570e-02,  3.14987441e-01,  1.98023488e-01,  2.34521837e-01,\n",
       "       -1.49505958e-01,  1.58036719e-01, -1.53835258e-03,  2.99003632e-01,\n",
       "        3.99944812e-01, -8.43955425e-02,  3.63535663e-01, -5.98326160e-02,\n",
       "       -1.99653118e-02,  2.56245467e-01,  2.39014116e-01,  4.34356665e-01,\n",
       "        1.70533777e-01,  4.07420475e-01,  4.19800037e-01,  1.29852428e-01,\n",
       "        2.08649919e-01,  1.61797770e-01,  2.08790371e-01,  9.45390760e-02,\n",
       "       -3.10470127e-03, -1.25731208e-01,  3.56304531e-01,  3.17618396e-01,\n",
       "        1.72800068e-01,  2.90138171e-01, -4.09505725e-02,  1.45104531e-01,\n",
       "        2.28832888e-01,  3.49502925e-01,  1.16446515e-01, -3.37553262e-01,\n",
       "        2.78545312e-01,  3.35351049e-01, -1.89090499e-01, -1.46964799e-01,\n",
       "        9.47703923e-02,  3.93325385e-01,  1.90425447e-01,  3.12029783e-01,\n",
       "       -1.76270898e-01,  2.70642102e-01,  9.07012360e-02,  1.85427694e-01,\n",
       "       -3.98724099e-02,  2.99027633e-01,  5.33796075e-02,  1.72614388e-01,\n",
       "        5.33617035e-01,  2.55813454e-01, -5.24267811e-02, -8.09948128e-02,\n",
       "       -5.83292702e-02,  3.47898956e-01,  2.82038175e-01,  3.63545465e-01,\n",
       "        1.10072305e-01,  2.89407573e-01, -1.54733310e-01,  4.37492080e-01,\n",
       "       -3.92624639e-04,  3.55973514e-01,  2.49463491e-01,  2.28685974e-01,\n",
       "        2.07407187e-02, -1.61135061e-01,  1.36443020e-01,  1.52437365e-01,\n",
       "        2.87374785e-01,  8.64661719e-02,  3.10319700e-01,  1.55327946e-02,\n",
       "        2.61996428e-01, -1.69808085e-01,  7.39394452e-02, -3.70762963e-02,\n",
       "       -1.51770817e-01, -5.33952112e-02, -1.18863531e-01,  1.67712073e-01,\n",
       "        4.26913612e-02,  2.90444811e-01, -2.23247478e-01,  1.77070886e-01,\n",
       "        2.42087145e-01,  3.45205550e-01,  2.59872652e-01,  4.70671678e-01,\n",
       "        2.39807359e-01, -1.40181461e-01,  1.70962160e-02,  4.65324963e-01,\n",
       "        9.52782843e-02,  2.60909216e-02,  7.98672044e-03,  6.50933434e-02,\n",
       "        2.89156908e-01, -1.30796971e-01, -8.39606103e-02,  1.45776943e-01,\n",
       "       -2.20591278e-02,  2.18836127e-01,  3.02787087e-01,  1.15289877e-01,\n",
       "        3.68224910e-01,  2.29480812e-01,  4.28581316e-01,  4.64008522e-01,\n",
       "       -1.95492697e-01,  2.84376499e-02, -1.12748479e-01, -1.44268643e-01,\n",
       "        4.89364443e-01,  1.17097030e-02,  6.85300106e-02,  1.05212059e-01,\n",
       "        1.68086576e-01,  2.91961500e-01,  4.46489725e-02,  2.66237770e-01,\n",
       "        1.36679057e-01, -2.52601102e-03,  2.15399056e-01,  2.83324403e-02,\n",
       "        1.14009080e-01,  1.20405941e-02, -1.31757075e-01,  2.33764591e-01,\n",
       "        2.68989997e-01,  8.78848753e-02, -6.15477518e-02, -6.69544618e-02,\n",
       "        3.60135568e-01,  1.18118733e-02,  2.76760065e-02,  2.68680316e-01,\n",
       "        1.80859064e-01,  2.30733801e-01, -2.01585306e-02,  1.55413514e-01,\n",
       "        2.64199717e-01, -1.39693955e-01,  3.63120189e-01, -7.46371272e-02,\n",
       "        2.73249945e-02,  4.79327020e-01,  2.14003541e-01, -7.13579983e-02,\n",
       "        1.00750247e-01,  1.51092002e-01,  6.65217485e-02,  5.96698265e-02,\n",
       "        2.16459435e-01,  3.48637226e-01,  3.04285236e-01,  2.01906092e-01,\n",
       "        1.79561678e-01,  2.11667051e-01, -2.81092456e-02,  1.54255122e-01,\n",
       "        3.78642583e-01, -2.52825933e-01,  2.58469969e-02,  3.85812832e-01,\n",
       "       -1.22229286e-01,  5.45754560e-02,  1.74667750e-01,  1.36368869e-01,\n",
       "        8.04175430e-02,  2.28086728e-01,  3.51268213e-01, -1.47046310e-02,\n",
       "        2.37595197e-01,  1.01018671e-01,  9.33295217e-02, -1.23486130e-01,\n",
       "        3.40595873e-03,  2.32240105e-01,  2.92444834e-01, -1.10490534e-01,\n",
       "        4.58252874e-02, -2.30083486e-01, -8.01339240e-02, -7.89402980e-03])"
      ]
     },
     "execution_count": 94,
     "metadata": {},
     "output_type": "execute_result"
    }
   ],
   "source": [
    "B_dist_temp"
   ]
  },
  {
   "cell_type": "code",
   "execution_count": 39,
   "metadata": {},
   "outputs": [],
   "source": [
    "opt = tf.optimizers.Adam(1e-2)\n",
    "mdn_PQ = MDN_module()\n",
    "mdn_PQ.compile(loss=gnll_loss, optimizer=opt)\n",
    "withoutL=mdn_PQ.fit(x=np.concatenate([L.reshape(-1,1),A.reshape(-1,1)],axis=1), y=B_dist_temp.T,epochs=100,  batch_size=64,verbose=0)\n",
    "y_pred = mdn_PQ.predict(np.concatenate([L.reshape(-1,1),A.reshape(-1,1)],axis=1))\n"
   ]
  },
  {
   "cell_type": "code",
   "execution_count": 40,
   "metadata": {},
   "outputs": [
    {
     "data": {
      "text/plain": [
       "Text(0.5, 1.0, 'Permuted data with the added information L')"
      ]
     },
     "execution_count": 40,
     "metadata": {},
     "output_type": "execute_result"
    },
    {
     "data": {
      "image/png": "[encoded data removed]",
      "text/plain": [
       "<Figure size 432x288 with 1 Axes>"
      ]
     },
     "metadata": {
      "needs_background": "light"
     },
     "output_type": "display_data"
    }
   ],
   "source": [
    "plt.scatter(A,B_dist_temp)\n",
    "plt.scatter(A,y_pred[:,1])\n",
    "plt.xlabel(\"A\")\n",
    "plt.ylabel(\"B\")\n",
    "plt.title(\"Permuted data with the added information L\")"
   ]
  },
  {
   "cell_type": "code",
   "execution_count": 36,
   "metadata": {},
   "outputs": [
    {
     "data": {
      "text/plain": [
       "<matplotlib.collections.PathCollection at 0x7f1a75f91910>"
      ]
     },
     "execution_count": 36,
     "metadata": {},
     "output_type": "execute_result"
    },
    {
     "data": {
      "image/png": "[encoded data removed]",
      "text/plain": [
       "<Figure size 432x288 with 1 Axes>"
      ]
     },
     "metadata": {
      "needs_background": "light"
     },
     "output_type": "display_data"
    }
   ],
   "source": [
    "plt.scatter(L,B_dist_temp)"
   ]
  },
  {
   "cell_type": "code",
   "execution_count": 74,
   "metadata": {},
   "outputs": [
    {
     "data": {
      "text/plain": [
       "array([ 0.16635783,  0.2186405 ,  0.18518928,  0.10589456,  0.17865732,\n",
       "       -0.35579273, -0.04156049,  0.12228131, -0.09812831,  0.09319367,\n",
       "        0.3773023 , -0.16365555, -0.16234308, -0.16900453,  0.12274399,\n",
       "       -0.15720737, -0.28126025, -0.16225696, -0.17248657,  0.32775828,\n",
       "       -0.15370303,  0.16625354, -0.1993328 ,  0.17074063, -0.00772212,\n",
       "        0.49461097,  0.11442166, -0.15977705, -0.22537157,  0.41071504,\n",
       "       -0.16241938,  0.44264197,  0.17576036,  0.05727377, -0.3367372 ,\n",
       "       -0.17105737,  0.29478714,  0.17676872,  0.16581364,  0.09946011,\n",
       "        0.145416  ,  0.17023754, -0.16416475,  0.17091137,  0.10237812,\n",
       "       -0.16080457,  0.21831697,  0.10226455,  0.0290572 ,  0.1795223 ,\n",
       "       -0.22151831,  0.17676303, -0.17321783,  0.19708046,  0.11806276,\n",
       "        0.28889436, -0.12351852, -0.22434738, -0.0246013 ,  0.19793275,\n",
       "       -0.36712444,  0.45668212, -0.1871123 , -0.10708769,  0.06748994,\n",
       "        0.12040724,  0.37059048, -0.3023749 ,  0.18500692,  0.16625628,\n",
       "        0.16630916, -0.16586885,  0.12094043,  0.00806422,  0.3963628 ,\n",
       "        0.16720653,  0.20720819, -0.10066818, -0.17665333,  0.17056426,\n",
       "        0.09013737, -0.16879201, -0.25340688,  0.35688138,  0.21668187,\n",
       "        0.18099979,  0.16710514,  0.04676052,  0.17885557, -0.17377889,\n",
       "       -0.20651445,  0.39945295,  0.23212   ,  0.21707422,  0.08930147,\n",
       "        0.29559553,  0.16647884, -0.29609543, -0.20686388,  0.50512546,\n",
       "        0.24881744, -0.230553  , -0.16782397,  0.16644472,  0.10697801,\n",
       "        0.21288654,  0.4255737 ,  0.11652944, -0.08142629, -0.07109287,\n",
       "        0.1795454 , -0.04543888,  0.11923058,  0.3398766 ,  0.12007868,\n",
       "       -0.21770209, -0.16611165,  0.12134285,  0.1485709 , -0.17327535,\n",
       "       -0.16025352, -0.1735521 , -0.16547233,  0.10076749, -0.19766241,\n",
       "        0.20102996, -0.3732454 , -0.15594989,  0.41642094, -0.21528777,\n",
       "       -0.08894219,  0.17012373, -0.17538664,  0.19663319,  0.08443938,\n",
       "       -0.21024844,  0.19001931, -0.09166082,  0.11383886,  0.2161887 ,\n",
       "       -0.06785164,  0.25418678, -0.1901454 , -0.16579509, -0.16963688,\n",
       "        0.17784232,  0.21132699, -0.15619329,  0.05371962, -0.07339796,\n",
       "       -0.17160079,  0.74830776,  0.1669058 ,  0.18396509,  0.17252761,\n",
       "        0.14233863,  0.48047006,  0.1831851 ,  0.17991313, -0.15010622,\n",
       "       -0.16594002, -0.19158262,  0.35198146,  0.45449612, -0.32715923,\n",
       "       -0.16871303, -0.0205797 , -0.15747717, -0.10656879,  0.1779105 ,\n",
       "       -0.17399424,  0.19960105, -0.04367755,  0.18192229,  0.45890978,\n",
       "        0.17331672,  0.09971423,  0.05080841, -0.00674065,  0.16630009,\n",
       "        0.4822399 ,  0.4763559 ,  0.4169761 , -0.1940524 , -0.17330766,\n",
       "       -0.15057135,  0.49767143,  0.45003676,  0.16895151,  0.45172837,\n",
       "        0.10438093,  0.17487797,  0.1733172 , -0.16672671,  0.18438226,\n",
       "       -0.16192573, -0.16654834,  0.07471115, -0.23388577,  0.07669224,\n",
       "       -0.16634017,  0.36859533, -0.17030528,  0.17323196,  0.09511352,\n",
       "        0.18259019, -0.16453639,  0.3235303 ,  0.18876848, -0.17335492,\n",
       "        0.03936576,  0.17972064,  0.50482905,  0.18608773,  0.18054035,\n",
       "        0.19185722,  0.16644575,  0.18562919, -0.10270036, -0.13336325,\n",
       "       -0.2108027 ,  0.60937315,  0.16860107,  0.1727502 , -0.18684587,\n",
       "        0.67594993, -0.01312033,  0.16650444, -0.2020419 , -0.15693846,\n",
       "       -0.14638406, -0.19977728, -0.22302765,  0.17301357, -0.16645077,\n",
       "       -0.17210773,  0.33947095, -0.16201055,  0.40424716,  0.6920564 ,\n",
       "        0.10667215,  0.16712713, -0.08775591,  0.23282376, -0.20132649,\n",
       "       -0.06908523, -0.13692778, -0.3348576 , -0.08778756, -0.08492457,\n",
       "        0.44268712, -0.19386414, -0.20904422,  0.03811859,  0.10895007,\n",
       "        0.1854944 ,  0.17229083, -0.17392886,  0.16664585, -0.17832622,\n",
       "       -0.19206014,  0.12035611,  0.6401482 ,  0.46161714, -0.30323216,\n",
       "        0.17314449,  0.33454153,  0.22521585, -0.14445874,  0.12130227,\n",
       "       -0.00577634,  0.21116918, -0.16809416,  0.38773653, -0.1689463 ,\n",
       "       -0.16566142,  0.11092608,  0.09300161,  0.17088974,  0.1709925 ,\n",
       "       -0.17490703,  0.28006768, -0.17554629, -0.1278696 ,  0.1808415 ,\n",
       "       -0.1268385 , -0.18470946, -0.21481806,  0.15331638,  0.42243204,\n",
       "       -0.16871575, -0.21409893,  0.35847154, -0.16165891,  0.23672545,\n",
       "       -0.16297534,  0.25920513,  0.17271298,  0.18453819,  0.7209788 ,\n",
       "       -0.16316485,  0.1705896 ,  0.18206376, -0.06339084,  0.17326757,\n",
       "        0.2152968 ,  0.18566144, -0.23309803,  0.1413563 ,  0.25142306,\n",
       "       -0.16121507,  0.15668884,  0.0497101 , -0.09787778,  0.21010849,\n",
       "        0.16664337,  0.16974816, -0.00911766, -0.36547112,  0.399278  ,\n",
       "        0.09052254,  0.16977635,  0.113806  , -0.16954717,  0.24888736,\n",
       "       -0.21097025,  0.07952452,  0.04140444, -0.16438776,  0.11481237,\n",
       "       -0.11051454,  0.16641736,  0.11918577,  0.11939193, -0.09446225,\n",
       "        0.16888121,  0.166328  ,  0.05046875,  0.3796771 ,  0.18078539,\n",
       "        0.09495532,  0.46537474,  0.09356618,  0.30488497,  0.12348538,\n",
       "        0.14934044,  0.10458091, -0.36282206,  0.10601151,  0.10705359,\n",
       "        0.16624507,  0.17641929,  0.17933235,  0.17346346,  0.10677443,\n",
       "       -0.06600096,  0.16666724,  0.16648942,  0.44680816,  0.18395665,\n",
       "        0.11645358,  0.18427002, -0.08663731, -0.20267183,  0.12428918,\n",
       "       -0.09998877, -0.19552493, -0.22049454,  0.05939601, -0.35026407,\n",
       "       -0.17486739, -0.1620917 ,  0.18585676,  0.17108583,  0.4076848 ,\n",
       "        0.17621908,  0.2018981 ,  0.11290315,  0.12141243, -0.17729187,\n",
       "        0.3793097 , -0.16651589,  0.10682102, -0.08266387, -0.34149876,\n",
       "        0.13328362,  0.12362445, -0.13857433,  0.6943866 ,  0.21505225,\n",
       "        0.16628116,  0.18700561,  0.12002773,  0.17623055,  0.00418384,\n",
       "        0.1068217 ,  0.17181584,  0.12555301,  0.27650255, -0.18641129,\n",
       "       -0.36605132,  0.16965994,  0.20451987, -0.16108918,  0.17216352,\n",
       "        0.17856643,  0.10594963,  0.18501589, -0.2796993 ,  0.01167983,\n",
       "        0.30337235,  0.11453838,  0.18064752,  0.36480862, -0.0270642 ,\n",
       "        0.1686984 ,  0.17360672, -0.1591562 ,  0.22308198,  0.322112  ,\n",
       "       -0.23285744, -0.16623774,  0.17817432,  0.12330448,  0.21828538,\n",
       "        0.04615092,  0.1708645 , -0.03513054,  0.08682662,  0.05507891,\n",
       "       -0.16761056,  0.13754109,  0.18205333,  0.4460361 , -0.21620598,\n",
       "       -0.15527892,  0.19791874, -0.14996445, -0.11664736,  0.07381554,\n",
       "        0.18448973,  0.12179529,  0.14440387, -0.25289488, -0.3132056 ,\n",
       "       -0.23124996,  0.39173615,  0.17312267,  0.10654128,  0.18122372,\n",
       "        0.06903693,  0.19771385,  0.16633555,  0.43650344, -0.21450493,\n",
       "       -0.31425434,  0.10346783, -0.17146984,  0.16648419,  0.39769936,\n",
       "       -0.08926549, -0.25168502, -0.11622801,  0.16989934,  0.06014424,\n",
       "       -0.17152265,  0.12213623, -0.12680167, -0.31935722, -0.3591367 ,\n",
       "       -0.1709773 ,  0.1663853 , -0.17634106,  0.10939223,  0.11527041,\n",
       "        0.18399066,  0.17806032, -0.12587014, -0.16301098, -0.16719261,\n",
       "        0.23633668,  0.18555692,  0.2352995 , -0.13346553, -0.2639697 ,\n",
       "        0.11380229,  0.18240735,  0.46258128, -0.16702238,  0.17041275,\n",
       "        0.33809388,  0.12044316,  0.0310886 , -0.17783856,  0.22124651,\n",
       "       -0.06552986,  0.40154415, -0.02535629,  0.16632992, -0.22108015,\n",
       "        0.2026012 ,  0.17539427,  0.12208029, -0.09032396, -0.13812247,\n",
       "        0.18281037,  0.16365075, -0.23781309,  0.09416695,  0.17505291,\n",
       "       -0.09574198, -0.10098352, -0.1750421 ,  0.16859204,  0.16650262,\n",
       "       -0.17588308, -0.33365434,  0.16792402, -0.01688559, -0.22685182,\n",
       "       -0.16805658,  0.27202463, -0.17446497, -0.17039156,  0.18174821,\n",
       "        0.4580835 ,  0.05105098,  0.18270907,  0.38079473,  0.18321145,\n",
       "       -0.16768855, -0.12664428,  0.30541962,  0.14274557,  0.11067233,\n",
       "       -0.13828158, -0.1788522 ,  0.3603283 , -0.15658289, -0.16083378,\n",
       "        0.13051437,  0.05052399,  0.26385325,  0.12129789, -0.33959633,\n",
       "        0.1663893 , -0.2699147 ,  0.14256775,  0.28516605,  0.1670402 ,\n",
       "        0.09191881,  0.20766899, -0.09628213,  0.4502724 ,  0.12336992,\n",
       "       -0.16580483, -0.17641121,  0.16633579,  0.11899003,  0.17607895,\n",
       "        0.04872187,  0.12699994,  0.35294876, -0.34562087,  0.26454902,\n",
       "       -0.17400262,  0.06554573,  0.17774346,  0.16637576,  0.24791363,\n",
       "        0.16645914, -0.37360895,  0.10820561,  0.16640139, -0.20800644,\n",
       "        0.36418724,  0.27742553, -0.16488037,  0.17627168,  0.461317  ,\n",
       "        0.17206982,  0.2058329 ,  0.21982992,  0.22315323,  0.27278498,\n",
       "       -0.16944066, -0.06430902,  0.11270916, -0.17665675, -0.02705862,\n",
       "        0.40640205, -0.17371821,  0.5366312 ,  0.19510972,  0.16634917,\n",
       "        0.14487052,  0.18195087,  0.10501718,  0.6836708 , -0.15724683,\n",
       "        0.11657745,  0.19012576,  0.10282409, -0.1661621 ,  0.4680977 ,\n",
       "        0.12046254,  0.31427786,  0.1954973 ,  0.09872269, -0.17476222,\n",
       "        0.33815786, -0.16931644, -0.2459107 ,  0.22114384,  0.08236232,\n",
       "       -0.16777852, -0.16347766, -0.09798747,  0.15649468,  0.43104547,\n",
       "        0.17292053, -0.17723173,  0.41531798, -0.13622555,  0.18602955,\n",
       "       -0.15676492,  0.16664436,  0.0363968 ,  0.40985382, -0.04985237,\n",
       "       -0.20119333, -0.09863002, -0.02246404,  0.09395313,  0.47142175,\n",
       "       -0.17586672,  0.11819831, -0.03531189, -0.04752014,  0.09754539,\n",
       "       -0.17602557,  0.08552111, -0.1241987 , -0.2761276 , -0.30163822,\n",
       "        0.35591227, -0.13559562,  0.19305724, -0.17469472,  0.1217582 ,\n",
       "        0.17893645,  0.14380527,  0.13608807,  0.389201  ,  0.05182842,\n",
       "        0.18250695, -0.16942358, -0.16947111,  0.07112262, -0.23031643,\n",
       "        0.1201643 ,  0.18123445,  0.02715816,  0.16776726,  0.33212793,\n",
       "        0.43476504,  0.18009678,  0.12049127,  0.5700867 ,  0.43431702,\n",
       "       -0.1605989 ,  0.25262806, -0.16944724, -0.14662284, -0.205432  ,\n",
       "        0.50769013,  0.17024654, -0.08494165,  0.16630787,  0.16747054,\n",
       "        0.25158527, -0.16402715,  0.17279801,  0.21301234, -0.09371588,\n",
       "        0.17008737, -0.17503792,  0.16647726, -0.16934237, -0.17538992,\n",
       "       -0.01580042, -0.04365288,  0.15910295,  0.1663824 ,  0.04905049,\n",
       "        0.18107474,  0.43295664,  0.16637373,  0.07914356,  0.42078832,\n",
       "        0.1199877 ,  0.3594442 ,  0.22008362,  0.03590899,  0.00615576,\n",
       "        0.12019419,  0.11627264, -0.35714078, -0.08115492,  0.33703023,\n",
       "        0.49794695,  0.11696414,  0.11669075,  0.12084021,  0.20808339,\n",
       "        0.42349333, -0.10447481, -0.17822179,  0.10982718,  0.17701346,\n",
       "       -0.29748327, -0.16064826, -0.14319286, -0.01081754,  0.19821438,\n",
       "        0.17339039,  0.13491464,  0.1933105 ,  0.16818875, -0.2514089 ,\n",
       "       -0.03603096,  0.18153328,  0.18030468,  0.10736591,  0.18708098,\n",
       "        0.17366174,  0.16955772, -0.00437963, -0.1638037 , -0.20877734,\n",
       "        0.16642174, -0.15493831, -0.09684964,  0.17287356,  0.12235658,\n",
       "        0.05319267, -0.13158005,  0.41761672, -0.15632075,  0.21445465,\n",
       "       -0.16498098,  0.1663294 , -0.17459074,  0.34312487, -0.22282755,\n",
       "       -0.32341427,  0.23320559,  0.17915854,  0.2114456 , -0.16152549,\n",
       "        0.43403193,  0.57073843, -0.3314707 ,  0.06646697,  0.17081296,\n",
       "        0.16690838,  0.48545146, -0.37066707,  0.10628019,  0.18431327,\n",
       "        0.18490314, -0.08561958,  0.18117425,  0.10712197, -0.15281126,\n",
       "        0.26127708,  0.11871076,  0.1890752 , -0.16339469,  0.11620898,\n",
       "        0.2849537 ,  0.11870467,  0.16819286,  0.18443584,  0.11734559,\n",
       "       -0.0482213 , -0.13328952, -0.16302434,  0.17699832, -0.17664099,\n",
       "        0.4837921 ,  0.33607894, -0.05231608, -0.16391873,  0.12651017,\n",
       "        0.17845139, -0.04164876,  0.0233305 ,  0.50187343, -0.1625413 ,\n",
       "       -0.08068523,  0.11900159, -0.25325438,  0.17321974,  0.40467775,\n",
       "       -0.17295992, -0.16985849, -0.15342584,  0.27716395, -0.14299017,\n",
       "        0.6020941 ,  0.37597537, -0.18410453, -0.17111906,  0.1138378 ,\n",
       "        0.11122529,  0.16808426,  0.10821264, -0.06061766,  0.24559867,\n",
       "        0.2547314 , -0.15189755,  0.5522559 ,  0.34197104, -0.00194985,\n",
       "        0.42560512,  0.15217538,  0.33815858,  0.41069782,  0.1855143 ,\n",
       "        0.30047902, -0.29560077,  0.41058284, -0.33864278, -0.21426654,\n",
       "        0.47321808,  0.2625557 ,  0.4332017 ,  0.15943202,  0.36400205,\n",
       "       -0.16716275, -0.17750204,  0.18368658,  0.00388975, -0.09910201,\n",
       "        0.24715665,  0.1664402 , -0.28686142,  0.182091  ,  0.21537998,\n",
       "        0.10918546,  0.12187777,  0.39998293,  0.0938013 , -0.07336424,\n",
       "        0.17902562, -0.22912008,  0.18083045,  0.11038707,  0.44182622,\n",
       "       -0.16420013,  0.20306227,  0.47419232, -0.09154596,  0.75403225,\n",
       "        0.10122088, -0.07073537,  0.16661738,  0.22273752, -0.24951637,\n",
       "        0.1749812 , -0.03407237, -0.32984278, -0.02156151,  0.05375001,\n",
       "       -0.16987503,  0.50616854,  0.3264435 ,  0.4818157 ,  0.12167554,\n",
       "        0.11137987,  0.06564479, -0.14708626,  0.48360422,  0.16652963,\n",
       "        0.10798604,  0.11547635,  0.2238195 , -0.1059423 , -0.29176235,\n",
       "       -0.15612361, -0.16129664,  0.19439563, -0.06081352, -0.17283341,\n",
       "       -0.21386203,  0.3958302 ,  0.42614993,  0.10201409,  0.46661478,\n",
       "        0.2555688 ,  0.29113215,  0.4405054 ,  0.05848405,  0.50414515,\n",
       "        0.18063688, -0.08928051, -0.23729369, -0.10802957, -0.1763069 ,\n",
       "        0.11484408,  0.10356673, -0.16634363,  0.4525273 ,  0.10622756,\n",
       "       -0.23706764, -0.30497217,  0.76613927, -0.16302547, -0.09619188,\n",
       "        0.27669805,  0.10982475,  0.11987494, -0.17229187,  0.1255225 ,\n",
       "        0.11928777,  0.1781222 ,  0.2763856 ,  0.26545125,  0.16640829,\n",
       "       -0.12884104,  0.13754444,  0.26322955,  0.3321108 ,  0.00823162,\n",
       "       -0.17181382,  0.10831333,  0.24256825,  0.12348548,  0.33780435,\n",
       "        0.16628677,  0.14071627, -0.16959587,  0.17238459,  0.2797653 ,\n",
       "       -0.1628801 ,  0.12654382,  0.06166213, -0.17059433,  0.14122674,\n",
       "        0.10887244,  0.38938665,  0.19289955,  0.46221372,  0.20816052,\n",
       "        0.19711402, -0.253075  ,  0.18074468,  0.18430367,  0.11046374,\n",
       "        0.11813964, -0.17040882, -0.06032399,  0.17425218,  0.11590245,\n",
       "        0.4811594 ,  0.43039167,  0.12159727,  0.39950177,  0.16643748,\n",
       "        0.16627726,  0.16862732, -0.00859318,  0.17599875, -0.13370544,\n",
       "       -0.14820683,  0.17884612, -0.11115523,  0.69629663,  0.16644987,\n",
       "        0.17656901, -0.12871093, -0.06141898,  0.21988475,  0.11944941,\n",
       "        0.11728775,  0.18010163, -0.05583983, -0.16174603,  0.18006507,\n",
       "        0.10151838,  0.44816333,  0.4880289 ,  0.15132792,  0.26963294,\n",
       "        0.0717895 ,  0.17908967, -0.17438969,  0.1054199 ,  0.47489667],\n",
       "      dtype=float32)"
      ]
     },
     "execution_count": 74,
     "metadata": {},
     "output_type": "execute_result"
    }
   ],
   "source": [
    "y_pred[:,1]"
   ]
  },
  {
   "cell_type": "code",
   "execution_count": 41,
   "metadata": {},
   "outputs": [],
   "source": [
    "opt = tf.optimizers.Adam(1e-2)\n",
    "mdn_PQ = MDN_module()\n",
    "mdn_PQ.compile(loss=gnll_loss, optimizer=opt)\n",
    "withoutL=mdn_PQ.fit(x=reshapevar(A), y=B_dist_temp.T,epochs=100,  batch_size=64,verbose=0)\n",
    "y_pred = mdn_PQ.predict(reshapevar(A))"
   ]
  },
  {
   "cell_type": "code",
   "execution_count": 42,
   "metadata": {},
   "outputs": [
    {
     "data": {
      "text/plain": [
       "Text(0.5, 1.0, 'Permuted data without the added information')"
      ]
     },
     "execution_count": 42,
     "metadata": {},
     "output_type": "execute_result"
    },
    {
     "data": {
      "image/png": "[encoded data removed]",
      "text/plain": [
       "<Figure size 432x288 with 1 Axes>"
      ]
     },
     "metadata": {
      "needs_background": "light"
     },
     "output_type": "display_data"
    }
   ],
   "source": [
    "plt.scatter(A,B_dist_temp)\n",
    "plt.scatter(A,y_pred[:,1])\n",
    "plt.xlabel(\"A\")\n",
    "plt.ylabel(\"B\")\n",
    "plt.title(\"Permuted data without the added information\")"
   ]
  },
  {
   "cell_type": "code",
   "execution_count": 50,
   "metadata": {},
   "outputs": [],
   "source": [
    "L = np.random.binomial(1,0.5,1000)  \n",
    "#eps0 = np.random.standard_normal(1000)\n",
    "#eps1 = np.random.standard_normal(1000)\n",
    "eps0 = np.random.normal(-2,0.5,1000)\n",
    "eps1 = np.random.normal(-5,0.5,1000)\n",
    "A=9*L - eps0\n",
    "B=8*np.sin(A)+eps1"
   ]
  },
  {
   "cell_type": "code",
   "execution_count": 51,
   "metadata": {},
   "outputs": [],
   "source": [
    "indices_1 = [i for i, x in enumerate(L) if x == 1]\n",
    "indices_0 = [i for i, x in enumerate(L) if x == 0]"
   ]
  },
  {
   "cell_type": "code",
   "execution_count": 52,
   "metadata": {},
   "outputs": [
    {
     "data": {
      "text/plain": [
       "Text(0, 0.5, 'A')"
      ]
     },
     "execution_count": 52,
     "metadata": {},
     "output_type": "execute_result"
    },
    {
     "data": {
      "image/png": "[encoded data removed]",
      "text/plain": [
       "<Figure size 432x288 with 1 Axes>"
      ]
     },
     "metadata": {
      "needs_background": "light"
     },
     "output_type": "display_data"
    }
   ],
   "source": [
    "plt.scatter(L,A)\n",
    "plt.title(\"L vs A\")\n",
    "plt.xlabel(\"L\")\n",
    "plt.ylabel(\"A\")"
   ]
  },
  {
   "cell_type": "code",
   "execution_count": 53,
   "metadata": {},
   "outputs": [
    {
     "data": {
      "text/plain": [
       "Text(0, 0.5, 'B')"
      ]
     },
     "execution_count": 53,
     "metadata": {},
     "output_type": "execute_result"
    },
    {
     "data": {
      "image/png": "[encoded data removed]",
      "text/plain": [
       "<Figure size 432x288 with 1 Axes>"
      ]
     },
     "metadata": {
      "needs_background": "light"
     },
     "output_type": "display_data"
    }
   ],
   "source": [
    "plt.scatter(L,B)\n",
    "plt.title(\"L vs B\")\n",
    "plt.xlabel(\"L\")\n",
    "plt.ylabel(\"B\")"
   ]
  },
  {
   "cell_type": "code",
   "execution_count": 54,
   "metadata": {},
   "outputs": [
    {
     "data": {
      "text/plain": [
       "<matplotlib.legend.Legend at 0x7fadae6f77f0>"
      ]
     },
     "execution_count": 54,
     "metadata": {},
     "output_type": "execute_result"
    },
    {
     "data": {
      "image/png": "[encoded data removed]",
      "text/plain": [
       "<Figure size 432x288 with 1 Axes>"
      ]
     },
     "metadata": {
      "needs_background": "light"
     },
     "output_type": "display_data"
    }
   ],
   "source": [
    "plt.scatter(A[indices_1],B[indices_1],label=\"L=1\")\n",
    "plt.scatter(A[indices_0],B[indices_0],label=\"L=0\")\n",
    "plt.title(\"A vs B\")\n",
    "plt.xlabel(\"A\")\n",
    "plt.ylabel(\"B\")\n",
    "plt.legend()"
   ]
  },
  {
   "cell_type": "code",
   "execution_count": 55,
   "metadata": {},
   "outputs": [
    {
     "data": {
      "text/plain": [
       "Text(0, 0.5, 'B')"
      ]
     },
     "execution_count": 55,
     "metadata": {},
     "output_type": "execute_result"
    },
    {
     "data": {
      "image/png": "[encoded data removed]",
      "text/plain": [
       "<Figure size 432x288 with 1 Axes>"
      ]
     },
     "metadata": {
      "needs_background": "light"
     },
     "output_type": "display_data"
    }
   ],
   "source": [
    "plt.scatter(A,B)\n",
    "plt.title(\"Simulated data\")\n",
    "plt.xlabel(\"A\")\n",
    "plt.ylabel(\"B\")"
   ]
  },
  {
   "cell_type": "code",
   "execution_count": 151,
   "metadata": {},
   "outputs": [
    {
     "data": {
      "text/plain": [
       "'0.07270086408772637'"
      ]
     },
     "execution_count": 151,
     "metadata": {},
     "output_type": "execute_result"
    }
   ],
   "source": [
    "str(pearsonr(A,B)[0])"
   ]
  },
  {
   "cell_type": "code",
   "execution_count": 57,
   "metadata": {},
   "outputs": [],
   "source": [
    "f = open(\"testing_writingvalues_debugSine.txt\", \"w\")\n",
    "f.write(str(9)+\" \"+ str(8))\n",
    "f.write(\"\\n\")\n",
    "np.savetxt(f,L,newline=' ',fmt='%s')\n",
    "f.write(\"\\n\")\n",
    "np.savetxt(f,A,newline=' ',fmt='%s')\n",
    "f.write(\"\\n\")\n",
    "np.savetxt(f,B,newline=' ',fmt='%s')\n",
    "f.write(\"\\n\")\n",
    "f.close()\n"
   ]
  }
 ],
 "metadata": {
  "colab": {
   "collapsed_sections": [],
   "name": "CITNonLinear.ipynb",
   "provenance": []
  },
  "kernelspec": {
   "display_name": "Python 3 (ipykernel)",
   "language": "python",
   "name": "python3"
  },
  "language_info": {
   "codemirror_mode": {
    "name": "ipython",
    "version": 3
   },
   "file_extension": ".py",
   "mimetype": "text/x-python",
   "name": "python",
   "nbconvert_exporter": "python",
   "pygments_lexer": "ipython3",
   "version": "3.9.7"
  }
 },
 "nbformat": 4,
 "nbformat_minor": 1
}
