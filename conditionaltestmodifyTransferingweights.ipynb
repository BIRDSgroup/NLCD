{
 "cells": [
  {
   "cell_type": "code",
   "execution_count": 1,
   "metadata": {
    "colab": {
     "base_uri": "https://localhost:8080/"
    },
    "id": "qd6CiVe-jyEn",
    "outputId": "b4187c26-21ff-4edc-e194-db58fd55f233"
   },
   "outputs": [
    {
     "name": "stderr",
     "output_type": "stream",
     "text": [
      "2022-09-22 06:41:49.934409: W tensorflow/stream_executor/platform/default/dso_loader.cc:64] Could not load dynamic library 'libcudart.so.11.0'; dlerror: libcudart.so.11.0: cannot open shared object file: No such file or directory\n",
      "2022-09-22 06:41:49.934483: I tensorflow/stream_executor/cuda/cudart_stub.cc:29] Ignore above cudart dlerror if you do not have a GPU set up on your machine.\n"
     ]
    }
   ],
   "source": [
    "#loading the libraries\n",
    "from tensorflow_probability import distributions as tfd\n",
    "import tensorflow as tf\n",
    "from tensorflow.keras.layers import Input, Dense, Activation, Concatenate\n",
    "\n",
    "from sklearn.linear_model import LinearRegression\n",
    "from sklearn.model_selection import train_test_split\n",
    "from sklearn.preprocessing import MinMaxScaler\n",
    "from sklearn.datasets import load_boston\n",
    "from sklearn.linear_model import LinearRegression\n",
    "import matplotlib.pyplot as plt\n",
    "import seaborn as sns\n",
    "import random\n",
    "import numpy as np\n",
    "import statsmodels.api as sm\n",
    "import pickle\n",
    "from sklearn.feature_selection import mutual_info_regression\n",
    "from scipy import stats\n",
    "import rpy2\n",
    "from scipy.stats import spearmanr,pearsonr\n",
    "from CCIT import CCIT\n"
   ]
  },
  {
   "cell_type": "code",
   "execution_count": 2,
   "metadata": {
    "id": "OxvAXLLFnl7d"
   },
   "outputs": [],
   "source": [
    "#defining the class MDN\n",
    "class MDN_module(tf.keras.Model):\n",
    "#changed from 15 to 20\n",
    "    def __init__(self, neurons=15, components = 1):\n",
    "        super(MDN_module, self).__init__(name=\"MDN_module\")\n",
    "        self.neurons = neurons\n",
    "        self.components = components\n",
    "\n",
    "        #chaging activation to relu from linear, changin relu to sigmoid \n",
    "        for i in range(1,3):\n",
    "          s=\"self\"+\".h\"+str(i)+\"= Dense(neurons, activation=\\\"relu\\\", name=\"+\"'h\"+str(i)+\"')\"\n",
    "          exec(s)\n",
    "        #self.h1=Dense(12,activation=\"relu\",name=\"h1\")\n",
    "        #self.h2=Dense(8,activation=\"relu\",name=\"h2\")\n",
    "        #self.h3=Dense(8,activation=\"relu\",name=\"h3\")\n",
    "        self.alphas = Dense(components, activation=\"softmax\", name=\"alphas\")\n",
    "        self.mus = Dense(components, activation=\"linear\",name=\"mus\") \n",
    "        self.sigmas = Dense(components, activation=\"nnelu\",name=\"sigmas\") #activation changed from linear to default\n",
    "        self.pvec = Concatenate(name=\"pvec\")\n",
    "        \n",
    "    def call(self, inputs):\n",
    "        x=self.h1(inputs)\n",
    "        #x=self.inputA(inputs)\n",
    "        x=self.h2(x)\n",
    "        #x=self.h3(x)\n",
    "        alpha_v = self.alphas(x)\n",
    "        mu_v = self.mus(x)\n",
    "        sigma_v = self.sigmas(x)\n",
    "        \n",
    "        return self.pvec([alpha_v,mu_v, sigma_v])"
   ]
  },
  {
   "cell_type": "code",
   "execution_count": 3,
   "metadata": {
    "id": "7DSPXmR1ogiH"
   },
   "outputs": [],
   "source": [
    "no_parameters=3\n",
    "components=1\n",
    "def nnelu(input):\n",
    "    \"\"\" Computes the Non-Negative Exponential Linear Unit\n",
    "    \"\"\"\n",
    "    return tf.add(tf.constant(1, dtype=tf.float32), tf.nn.elu(input))\n",
    "\n",
    "def slice_parameter_vectors(parameter_vector):\n",
    "    \"\"\" Returns an unpacked list of paramter vectors.\n",
    "    \"\"\"\n",
    "    return [parameter_vector[:,i*components:(i+1\n",
    "    )*components] for i in range(no_parameters)]\n",
    "\n",
    "def gnll_loss(y, parameter_vector):\n",
    "    \"\"\" Computes the mean negative log-likelihood loss of y given the mixture parameters.\n",
    "    \"\"\"\n",
    "    alpha,mu,sigma = slice_parameter_vectors(parameter_vector) # Unpack parameter vectors\n",
    "    #tf.print(sigma)\n",
    "    gm = tfd.MixtureSameFamily(\n",
    "           mixture_distribution=tfd.Categorical(probs=alpha),\n",
    "           components_distribution=tfd.Normal(\n",
    "           loc=mu,       \n",
    "           scale=sigma))\n",
    "    \n",
    "    \n",
    "    \n",
    "    log_likelihood =  gm.log_prob(tf.transpose(y)) # Evaluate log-probability of y \n",
    "    return -tf.reduce_mean(log_likelihood, axis=-1) \n",
    "\n",
    "tf.keras.utils.get_custom_objects().update({'nnelu': Activation(nnelu)})\n",
    "\n",
    "def gnll_eval(y,alpha, mu, sigma):\n",
    "    \"\"\" Computes the mean negative log-likelihood loss of y given the mixture parameters.\n",
    "    \"\"\"\n",
    "    #print(alpha)\n",
    "    gm = tfd.MixtureSameFamily(\n",
    "        mixture_distribution=tfd.Categorical(probs=alpha),\n",
    "        components_distribution=tfd.Normal(\n",
    "            loc=mu,       \n",
    "            scale=sigma))\n",
    "    log_likelihood = gm.log_prob(tf.transpose(y))\n",
    "    return -tf.reduce_mean(log_likelihood, axis=-1)\n",
    "\n",
    "\n",
    "def eval_mdn_model(x_test, y_test, mdn_model):\n",
    "    \"\"\" Evaluate the model to get the loss for the given x and y \n",
    "    \"\"\"\n",
    "    y_pred = mdn_model.predict(np.reshape(x_test,newshape=(len(x_test),-1)))\n",
    "    alpha,mu,sigma = slice_parameter_vectors(y_pred)\n",
    "    mdn_nll = gnll_eval(y_test.astype(np.float32),alpha, mu, sigma).numpy()\n",
    "    return mdn_nll\n",
    "#reshapefunction\n",
    "def eval_mdn_model_mle(x_test,y_test):\n",
    "        indices_1 = [i for i, x in enumerate(x_test) if x == 1]\n",
    "        #changing x to -1\n",
    "        indices_0 = [i for i, x in enumerate(x_test) if x == 0]\n",
    "        mu_0=np.mean(y_test[indices_0])\n",
    "        mu_1=np.mean(y_test[indices_1])\n",
    "        sigma_0=np.std(y_test[indices_0])\n",
    "        sigma_1=np.std(y_test[indices_1])\n",
    "        y_mean=np.zeros((len(y_test),1))\n",
    "        y_mean[indices_1]=mu_1\n",
    "        y_mean[indices_0]=mu_0\n",
    "        y_std=np.zeros((len(y_test),1))\n",
    "        y_std[indices_1]=sigma_1\n",
    "        y_std[indices_0]=sigma_0\n",
    "        alpha=np.ones((len(y_mean),1))\n",
    "        return gnll_eval(y_test,alpha,y_mean,y_std).numpy()\n",
    "    \n",
    "def reshapevar(X):\n",
    "  \"\"\"\n",
    "  Function to reshape the vector for the input \n",
    "  \"\"\"\n",
    "  return np.reshape(X,newshape=(len(X),-1))"
   ]
  },
  {
   "cell_type": "code",
   "execution_count": 4,
   "metadata": {
    "id": "T6sJ7ffirsnB"
   },
   "outputs": [],
   "source": [
    "def compute_loss(P,Q,mle=False):\n",
    "    \"\"\" Compute the loss for the given pair\n",
    "    \"\"\"\n",
    "    if(mle==False):\n",
    "        opt = tf.optimizers.Adam(1e-2)\n",
    "        mdn_PQ = MDN_module()\n",
    "        mdn_PQ.compile(loss=gnll_loss, optimizer=opt)\n",
    "        mdn_PQ.fit(x=reshapevar(P), y=np.array(Q).T,epochs=100,  batch_size=64,verbose=0)\n",
    "        #return np.array(nlcor.nlcor(P,Q)[0])[0]\n",
    "        return eval_mdn_model(P,Q,mdn_PQ)\n",
    "    else:\n",
    "        return eval_mdn_model_mle(P,Q)\n",
    "        \n",
    "        \n",
    "        \n"
   ]
  },
  {
   "cell_type": "code",
   "execution_count": 5,
   "metadata": {},
   "outputs": [],
   "source": [
    "def compute_loss_y_pred(P,Q,mle=False):\n",
    "    \"\"\" Compute the loss for the given pair\n",
    "    \"\"\"\n",
    "    if(mle==False):\n",
    "        opt = tf.optimizers.Adam(1e-2)\n",
    "        mdn_PQ = MDN_module()\n",
    "        mdn_PQ.compile(loss=gnll_loss, optimizer=opt)\n",
    "        mdn_PQ.fit(x=reshapevar(P), y=np.array(Q).T,epochs=100,  batch_size=64,verbose=0)\n",
    "        y_pred = mdn_PQ.predict(np.reshape(P,newshape=(len(P),-1)))\n",
    "        return y_pred[:,1]\n",
    "    else:\n",
    "        indices_1 = [i for i, x in enumerate(P) if x == 1]\n",
    "        indices_0 = [i for i, x in enumerate(P) if x == 0]\n",
    "        mu_0=np.mean(Q[indices_0])\n",
    "        mu_1=np.mean(Q[indices_1])\n",
    "        #sigma_0=np.std(Q[indices_0])\n",
    "        #sigma_1=np.std(Q[indices_1])\n",
    "        y_mean=np.zeros((len(Q),1))\n",
    "        y_mean[indices_1]=mu_1\n",
    "        y_mean[indices_0]=mu_0\n",
    "        return y_mean.reshape((len(y_mean),))\n",
    "        "
   ]
  },
  {
   "cell_type": "code",
   "execution_count": 6,
   "metadata": {
    "id": "X6V8X2QFpmC7"
   },
   "outputs": [],
   "source": [
    "def shuffleBtimes(P,Q,B,mle=False):\n",
    "    \"\"\" Shuffle Q B times and compute the loss \n",
    "    \"\"\"\n",
    "    loss=[]\n",
    "    if(mle==False):\n",
    "        for i in range(0,B):\n",
    "          loss.append(compute_loss(P,np.random.permutation(Q)))\n",
    "    else:\n",
    "        for i in range(0,B):\n",
    "          loss.append(compute_loss(P,np.random.permutation(Q),True))\n",
    "    return loss\n"
   ]
  },
  {
   "cell_type": "code",
   "execution_count": 7,
   "metadata": {
    "id": "iUW3ikOHu6PO"
   },
   "outputs": [],
   "source": [
    "def LinearLABData():\n",
    "    \"\"\" Generate the linear data \n",
    "    \"\"\"\n",
    "    L = np.random.binomial(1,0.5,1000)  \n",
    "    beta0 = np.ones(1000)-0.4\n",
    "    #beta1 = 0.5\n",
    "    beta1=3\n",
    "    beta2= 0.3\n",
    "    beta3=0.8\n",
    "    #eps0 = np.random.standard_normal(1000)\n",
    "    #eps1 = np.random.standard_normal(1000)\n",
    "    eps0 = np.random.normal(0,1,1000)\n",
    "    eps1 = np.random.normal(0,1,1000)\n",
    "    A = beta0 + beta1*L + eps0\n",
    "    #B=beta2+beta3*np.sin(A)+eps1\n",
    "    B = beta2+ beta3*A + eps1 \n",
    "    plt.scatter(A,B)\n",
    "    plt.title(\"A vs B\")\n",
    "    plt.xlabel(\"A\")\n",
    "    plt.ylabel(\"B\")\n",
    "    return [L,A,B]"
   ]
  },
  {
   "cell_type": "code",
   "execution_count": 8,
   "metadata": {},
   "outputs": [],
   "source": [
    "fo=open(\"/home/aravind/projects/CIT_Non_Linear/LinearDifferentvalues/testing_writingvalues_Linear0to1.txt\", \"r\")\n",
    "L=[]\n",
    "A=[]\n",
    "B=[]\n",
    "#fe=open(\"dataset_params.txt\",'w')\n",
    "for i in range(0,121):\n",
    "    line=fo.readline()\n",
    "    #fe.write(line)\n",
    "    #line=line[1:-2] #remove double quotes \n",
    "    #param = [j for j in line.split()]\n",
    "    #print(param)\n",
    "    #chrname.append(param[1])\n",
    "    #g1.append(param[2])\n",
    "    #g2.append(param[3])\n",
    "    line=fo.readline()\n",
    "    l = [j for j in line.split()]\n",
    "    L.append([int(i) for i in l])\n",
    "    line=fo.readline()\n",
    "    a = [j for j in line.split()]\n",
    "    A.append([float(i) for i in a])\n",
    "    line=fo.readline()\n",
    "    b = [j for j in line.split()]\n",
    "    B.append([float(i) for i in b])\n",
    "dataset_linear = [i for i in zip(L,A,B)]\n",
    "fo.close()\n",
    "#fe.close()"
   ]
  },
  {
   "cell_type": "code",
   "execution_count": 9,
   "metadata": {},
   "outputs": [],
   "source": [
    "def calculate_pvalue(original,loss_list):\n",
    "    '''\n",
    "    calculate the p value \n",
    "    '''\n",
    "    return sum(i < original for i in loss_list)/len(loss_list)\n",
    "    \n",
    "    "
   ]
  },
  {
   "cell_type": "code",
   "execution_count": 10,
   "metadata": {},
   "outputs": [],
   "source": [
    "def compute_third_testloss(A,B):\n",
    "    opt = tf.optimizers.Adam(1e-2)\n",
    "    mdn_PQ = MDN_module()\n",
    "    mdn_PQ.compile(loss=gnll_loss, optimizer=opt)\n",
    "##changing epochs didnt make much difference\n",
    "\n",
    "#mdn_PQ.fit(x=C, y=np.array(B).T,epochs=300,  batch_size=64)\n",
    "    withoutL=mdn_PQ.fit(x=A, y=B.T,epochs=100,  batch_size=64,verbose=0)\n",
    "    y_pred = mdn_PQ.predict(A)\n",
    "    alpha,mu,sigma = slice_parameter_vectors(y_pred)\n",
    "    gm = tfd.MixtureSameFamily(\n",
    "        mixture_distribution=tfd.Categorical(probs=alpha),\n",
    "        components_distribution=tfd.Normal(\n",
    "            loc=mu,       \n",
    "            scale=sigma))\n",
    "    log_likelihood = gm.log_prob(B).numpy()\n",
    "    return -tf.reduce_mean(log_likelihood, axis=-1).numpy()"
   ]
  },
  {
   "cell_type": "code",
   "execution_count": 11,
   "metadata": {},
   "outputs": [],
   "source": [
    "def calculate_difference(L,A,B):\n",
    "    return compute_third_testloss(reshapevar(A),np.array(B))-compute_third_testloss(np.concatenate([L.reshape(-1,1),A.reshape(-1,1)],axis=1),np.array(B))\n",
    "    "
   ]
  },
  {
   "cell_type": "code",
   "execution_count": 12,
   "metadata": {},
   "outputs": [],
   "source": [
    "def stratify_B_n_times_diff(L,A,B,n):\n",
    "    loss=[]\n",
    "    indices_1 = [i for i, x in enumerate(L) if x == 1]\n",
    "    #changing x== -1 \n",
    "    indices_0 = [i for i, x in enumerate(L) if x == 0]\n",
    "    for i in range(0,n):\n",
    "        B_dist_temp=np.zeros(len(B))\n",
    "        mod_indices_1=random.sample(indices_1,len(indices_1))\n",
    "        for i in range(len(indices_1)):\n",
    "            B_dist_temp[indices_1[i]]=B[mod_indices_1[i]]\n",
    "\n",
    "        mod_indices_0=random.sample(indices_0,len(indices_0))\n",
    "        for i in range(len(indices_0)):\n",
    "            B_dist_temp[indices_0[i]]=B[mod_indices_0[i]]\n",
    "        loss.append(calculate_difference(L,A,B_dist_temp))\n",
    "    return loss"
   ]
  },
  {
   "cell_type": "code",
   "execution_count": 13,
   "metadata": {},
   "outputs": [],
   "source": [
    "i=84\n",
    "A=np.array(dataset_linear[i][1])\n",
    "B=np.array(dataset_linear[i][2])\n",
    "L=np.array(dataset_linear[i][0])"
   ]
  },
  {
   "cell_type": "code",
   "execution_count": 14,
   "metadata": {},
   "outputs": [
    {
     "data": {
      "text/plain": [
       "Text(0, 0.5, 'B')"
      ]
     },
     "execution_count": 14,
     "metadata": {},
     "output_type": "execute_result"
    },
    {
     "data": {
      "image/png": "[encoded data removed]",
      "text/plain": [
       "<Figure size 432x288 with 1 Axes>"
      ]
     },
     "metadata": {
      "needs_background": "light"
     },
     "output_type": "display_data"
    }
   ],
   "source": [
    "a=plt.scatter(A,B,c=L,alpha=0.5)\n",
    "plt.xlabel(\"A\")\n",
    "plt.ylabel(\"B\")"
   ]
  },
  {
   "cell_type": "code",
   "execution_count": 34,
   "metadata": {},
   "outputs": [
    {
     "ename": "AttributeError",
     "evalue": "'PathCollection' object has no attribute 'savefig'",
     "output_type": "error",
     "traceback": [
      "\u001b[0;31m---------------------------------------------------------------------------\u001b[0m",
      "\u001b[0;31mAttributeError\u001b[0m                            Traceback (most recent call last)",
      "Input \u001b[0;32mIn [34]\u001b[0m, in \u001b[0;36m<cell line: 1>\u001b[0;34m()\u001b[0m\n\u001b[0;32m----> 1\u001b[0m \u001b[43ma\u001b[49m\u001b[38;5;241;43m.\u001b[39;49m\u001b[43msavefig\u001b[49m(\u001b[38;5;124m'\u001b[39m\u001b[38;5;124mfoo.png\u001b[39m\u001b[38;5;124m'\u001b[39m)\n",
      "\u001b[0;31mAttributeError\u001b[0m: 'PathCollection' object has no attribute 'savefig'"
     ]
    }
   ],
   "source": [
    "a.savefig('foo.png')"
   ]
  },
  {
   "cell_type": "code",
   "execution_count": 21,
   "metadata": {},
   "outputs": [
    {
     "data": {
      "image/png": "[encoded data removed]",
      "text/plain": [
       "<Figure size 432x288 with 1 Axes>"
      ]
     },
     "metadata": {
      "needs_background": "light"
     },
     "output_type": "display_data"
    }
   ],
   "source": [
    "\n",
    "fig = plt.figure()\n",
    "ax = plt.subplot(111)\n",
    "scatter=ax.scatter(A,B,c=L,alpha=0.5)\n",
    "plt.title('A vs B')\n",
    "legend1 = ax.legend(*scatter.legend_elements(),\n",
    "                    loc=\"lower left\", title=\"Classes\")\n",
    "ax.add_artist(legend1)\n",
    "\n",
    "#plt.show()\n",
    "#plt.legend(handles=scatter.legend_elements()[0],labels=['0','1'])\n",
    "fig.savefig('plot.png')"
   ]
  },
  {
   "cell_type": "code",
   "execution_count": 22,
   "metadata": {},
   "outputs": [],
   "source": [
    "plt.show()"
   ]
  },
  {
   "cell_type": "code",
   "execution_count": null,
   "metadata": {},
   "outputs": [],
   "source": [
    "#for i in range(0,144):\n",
    "A=np.array(dataset_linear[i][1])\n",
    "B=np.array(dataset_linear[i][2])\n",
    "L=np.array(dataset_linear[i][0])\n",
    "shuffles=100\n",
    "A_shuffle=np.copy(A)\n",
    "B_shuffle=np.copy(B)\n",
    "#print(\"Original\",B_shufflep\n",
    "#changed the second test from mle to using neural networks\n",
    "loss_list_LA=shuffleBtimes(L,A_shuffle,shuffles,True)\n",
    "loss_list_LB=shuffleBtimes(L,B_shuffle,shuffles,True)\n",
    "#loss_list_Bresidual=stratify_B_n_times_diff(L,A_shuffle,B_shuffle,shuffles) #conditional independence test\n",
    "\n",
    "true_LA=compute_loss(L,A,True)\n",
    "true_LB=compute_loss(L,B,True)\n",
    "loss_list_Bresidual,true_LBresidual= calculateLshuffle(L,A,B,shuffles)\n",
    "#true_LBresidual=stratify_B_ntimes_permuteL(L,A,B,shuffles)\n",
    "#true_LBresidual=calculate_difference(L,A,B)\n",
    "#true_LBresidual=trueconditional(L,A,B)\n",
    "#loss_list_Bresidual=stratify_B_ntimes_permuteL(L,A_shuffle,B_shuffle,shuffles)\n",
    "#loss_list_Bresidual=stratify_B_ntimes_permuteL(L,A,B,shuffles,True)\n",
    "LA_p=calculate_pvalue(true_LA,loss_list_LA)\n",
    "LB_p=calculate_pvalue(true_LB,loss_list_LB)\n",
    "AB_p=calculate_pvalue(true_LBresidual,loss_list_Bresidual)\n",
    "f.write(str(i)+\",\"+str(LA_p)+\",\"+str(LB_p)+\",\"+str(AB_p)+\"\\n\")\n",
    "#AB_p=calculate_pvalue(true_LBresidual,loss_list_Bresidual)\n",
    "#mean_true=np.mean(true_LBresidual)\n",
    "#mean_shuffle=np.mean(loss_list_Bresidual)\n",
    "#std_true=np.std(true_LBresidual)\n",
    "#std_shuffle=np.std(loss_list_Bresidual)\n",
    "#f.write(str(i)+\",\"+str(LA_p)+\",\"+str(LB_p)+\",\"+str(mean_true)+\",\"+str(mean_shuffle)+\",\"+str(std_true)+\",\"+str(std_shuffle)+\"\\n\")\n",
    "#pickle_items=[loss_list_LA,loss_list_LB,loss_list_Bresidual,true_LA,true_LB,true_LBresidual,LA_p,LB_p,AB_p]\n",
    "#file_name=str(dataset_names[i])+\".pkl\"\n",
    "#open_file = open(\"./DLresultspickle/\"+file_name, \"wb\")\n",
    "#pickle.dump(pickle_items, open_file)\n",
    "#open_file.close()\n",
    "\n",
    "#if(mean_shuffle>mean_true):\n",
    "    #print(i)\n",
    "    #count+=1\n"
   ]
  },
  {
   "cell_type": "code",
   "execution_count": null,
   "metadata": {},
   "outputs": [],
   "source": [
    "LA_p=calculate_pvalue(true_LA,loss_list_LA)\n",
    "LB_p=calculate_pvalue(true_LB,loss_list_LB)\n",
    "AB_p=calculate_pvalue(true_LBresidual,loss_list_Bresidual)"
   ]
  },
  {
   "cell_type": "code",
   "execution_count": null,
   "metadata": {},
   "outputs": [],
   "source": [
    "#function to calculate the original LA->B and then shuffle L and calculate the loss, we are retraining the model \n",
    "#at every shuffle here\n",
    "def calculateLshuffle(L,A,B,shuffle):\n",
    "    loss_list=[]\n",
    "    opt = tf.optimizers.SGD(1e-3)\n",
    "    mdn_PQ = MDN_module()\n",
    "    mdn_PQ.compile(loss=gnll_loss, optimizer=opt)\n",
    "    withoutL=mdn_PQ.fit(x=np.concatenate([L.reshape(-1,1),A.reshape(-1,1)],axis=1), y=B.T,epochs=100,  batch_size=32,verbose=0)\n",
    "    y_pred = mdn_PQ.predict(np.concatenate([L.reshape(-1,1),A.reshape(-1,1)],axis=1))\n",
    "    alpha,mu,sigma = slice_parameter_vectors(y_pred)\n",
    "    gm = tfd.MixtureSameFamily(\n",
    "    mixture_distribution=tfd.Categorical(probs=alpha),\n",
    "    components_distribution=tfd.Normal(\n",
    "    loc=mu,       \n",
    "    scale=sigma))\n",
    "    log_likelihood = gm.log_prob(B).numpy()\n",
    "    orig_loss= -tf.reduce_mean(log_likelihood, axis=-1).numpy()\n",
    "    for i in range(shuffle):\n",
    "        L_shuffle=np.random.permutation(L)\n",
    "        opt = tf.optimizers.SGD(1e-3)\n",
    "        mdn_PQ = MDN_module()\n",
    "        mdn_PQ.compile(loss=gnll_loss, optimizer=opt)\n",
    "        withoutL=mdn_PQ.fit(x=np.concatenate([L_shuffle.reshape(-1,1),A.reshape(-1,1)],axis=1), y=B.T,epochs=100,  batch_size=32,verbose=0)\n",
    "        y_pred = mdn_PQ.predict(np.concatenate([L_shuffle.reshape(-1,1),A.reshape(-1,1)],axis=1))\n",
    "        alpha,mu,sigma = slice_parameter_vectors(y_pred)\n",
    "        gm = tfd.MixtureSameFamily(\n",
    "        mixture_distribution=tfd.Categorical(probs=alpha),\n",
    "        components_distribution=tfd.Normal(\n",
    "        loc=mu,       \n",
    "        scale=sigma))\n",
    "        log_likelihood = gm.log_prob(B).numpy()\n",
    "        loss= -tf.reduce_mean(log_likelihood, axis=-1).numpy()\n",
    "        loss_list.append(loss)\n",
    "    \n",
    "    return loss_list,loss\n",
    "\n",
    "    "
   ]
  },
  {
   "cell_type": "code",
   "execution_count": 155,
   "metadata": {},
   "outputs": [],
   "source": [
    "i=84\n",
    "A=np.array(dataset_linear[i][1])\n",
    "B=np.array(dataset_linear[i][2])\n",
    "L=np.array(dataset_linear[i][0])"
   ]
  },
  {
   "cell_type": "code",
   "execution_count": 15,
   "metadata": {},
   "outputs": [],
   "source": [
    "def transfer(L,A,B,mdn_PQ):\n",
    "    weightofa=mdn_PQ.layers[0].get_weights()[0][0]\n",
    "    #get the bias\n",
    "    biasweight=mdn_PQ.layers[0].get_weights()[1]\n",
    "    #set the weights of L as zero \n",
    "    weightofL=np.zeros(15,dtype=np.float32)\n",
    "    #combine the weights of L and A\n",
    "    combinedweight=np.array([weightofL,weightofa])\n",
    "    #combine the weights and biases\n",
    "    layer0weightrans=[combinedweight,biasweight]\n",
    "    #only for one epoch just to get the weights \n",
    "    opt = tf.optimizers.SGD(1e-3)\n",
    "    mdn_trans = MDN_module()\n",
    "    mdn_trans.compile(loss=gnll_loss, optimizer=opt)\n",
    "    mdn_trans.fit(x=np.concatenate([L.reshape(-1,1),A.reshape(-1,1)],axis=1), y=B.T,epochs=1,  batch_size=32,verbose=0)\n",
    "    y_pred = mdn_trans.predict(np.concatenate([L.reshape(-1,1),A.reshape(-1,1)],axis=1))\n",
    "\n",
    "\n",
    "    mdn_trans.layers[0].set_weights(layer0weightrans)\n",
    "\n",
    "    a=mdn_PQ.layers[1].get_weights()\n",
    "    mdn_trans.layers[1].set_weights(a)  \n",
    "    a=mdn_PQ.layers[2].get_weights()\n",
    "    mdn_trans.layers[2].set_weights(a)  \n",
    "    a=mdn_PQ.layers[3].get_weights()\n",
    "    mdn_trans.layers[3].set_weights(a)  \n",
    "    a=mdn_PQ.layers[4].get_weights()\n",
    "    mdn_trans.layers[4].set_weights(a)  \n",
    "    a=mdn_PQ.layers[5].get_weights()\n",
    "    mdn_trans.layers[5].set_weights(a)  \n",
    "    return mdn_trans"
   ]
  },
  {
   "cell_type": "code",
   "execution_count": 16,
   "metadata": {},
   "outputs": [],
   "source": [
    "#function to train the model given the inputs\n",
    "def modeltrain(x,y,weights=None):\n",
    "    opt = tf.optimizers.SGD(1e-3)\n",
    "    \n",
    "    mdn_PQ = MDN_module()\n",
    "    mdn_PQ.compile(loss=gnll_loss, optimizer=opt)\n",
    "    if(weights!=None):\n",
    "        mdn_PQ.fit(x, y,epochs=1,batch_size = batchsize,verbose=0)\n",
    "        for i in range(0,6):\n",
    "            mdn_PQ.layers[i].set_weights(weights[i])\n",
    "            \n",
    "    #calculate the prediction and the loss \n",
    "    mdn_PQ.fit(x, y,epochs=epochs,batch_size=batchsize ,verbose=0)\n",
    "    y_pred = mdn_PQ.predict(x)\n",
    "    alpha,mu,sigma = slice_parameter_vectors(y_pred)\n",
    "    gm = tfd.MixtureSameFamily(\n",
    "            mixture_distribution=tfd.Categorical(probs=alpha),\n",
    "            components_distribution=tfd.Normal(\n",
    "                loc=mu,       \n",
    "                scale=sigma))\n",
    "    log_likelihood = gm.log_prob(y).numpy()\n",
    "    loss_o = -tf.reduce_mean(log_likelihood, axis=-1).numpy()\n",
    "    return mdn_PQ,loss_o"
   ]
  },
  {
   "cell_type": "code",
   "execution_count": 17,
   "metadata": {},
   "outputs": [],
   "source": [
    "#function to calculate the weights \n",
    "def calculateweights(mdn_PQ):\n",
    "    weights=[]\n",
    "    weightofa=mdn_PQ.layers[0].get_weights()[0][0]\n",
    "    #get the bias\n",
    "    biasweight=mdn_PQ.layers[0].get_weights()[1]\n",
    "    #set the weights of L as zero \n",
    "    weightofL=np.zeros(15,dtype=np.float32)\n",
    "    #combine the weights of L and A\n",
    "    combinedweight=np.array([weightofL,weightofa])\n",
    "    #combine the weights and biases\n",
    "    layer0weightrans=[combinedweight,biasweight]\n",
    "    weights.append(layer0weightrans)\n",
    "    for i in range(1,6):\n",
    "        a=mdn_PQ.layers[i].get_weights()\n",
    "        weights.append(a)\n",
    "    return weights"
   ]
  },
  {
   "cell_type": "code",
   "execution_count": 18,
   "metadata": {},
   "outputs": [],
   "source": [
    "#function to stratify the data\n",
    "def stratifydata(L,B):\n",
    "    indices_1 = [i for i, x in enumerate(L) if x == 1]\n",
    "    #changin x==0 to x=-1\n",
    "    indices_0 = [i for i, x in enumerate(L) if x == 0]\n",
    "    B_dist_temp=np.zeros(len(B))\n",
    "    mod_indices_1=random.sample(indices_1,len(indices_1))\n",
    "    for i in range(len(indices_1)):\n",
    "        B_dist_temp[indices_1[i]]=B[mod_indices_1[i]]\n",
    "\n",
    "    mod_indices_0=random.sample(indices_0,len(indices_0))\n",
    "    for i in range(len(indices_0)):\n",
    "        B_dist_temp[indices_0[i]]=B[mod_indices_0[i]]\n",
    "    return B_dist_temp\n",
    "    "
   ]
  },
  {
   "cell_type": "code",
   "execution_count": 19,
   "metadata": {},
   "outputs": [],
   "source": [
    "#function to split the data\n",
    "def splitdata(L,A,B):\n",
    "    Aalone_L1=[]\n",
    "    Aalone_L0=[]\n",
    "    Balone_L1=[]\n",
    "    Balone_L0=[]\n",
    "    for i in range(len(L)):\n",
    "        if(L[i]==1):\n",
    "            Aalone_L1.append(A[i])\n",
    "            Balone_L1.append(B[i])\n",
    "        else:\n",
    "            Aalone_L0.append(A[i])\n",
    "            Balone_L0.append(B[i])\n",
    "    \n",
    "    return [np.array(Aalone_L1),np.array(Aalone_L0),np.array(Balone_L0),np.array(Balone_L1)]"
   ]
  },
  {
   "cell_type": "code",
   "execution_count": 29,
   "metadata": {},
   "outputs": [],
   "source": [
    "\n",
    "epochs=100\n",
    "batchsize=32\n"
   ]
  },
  {
   "cell_type": "code",
   "execution_count": 25,
   "metadata": {},
   "outputs": [],
   "source": [
    "#checking one cycle \n",
    "def thirdtestonecycle(L,A,B):\n",
    "    loss_Aalone=[]\n",
    "    loss_AL=[]\n",
    "    halfdata= splitdata(L,A,B)\n",
    "    trainthirdtest(L,A,B,halfdata,loss_Aalone,loss_AL)\n",
    "    trainthirdtest(L,A,B,halfdata,loss_Aalone,loss_AL,True,half=0)\n",
    "    trainthirdtest(L,A,B,halfdata,loss_Aalone,loss_AL,True,half=1)\n",
    "    trainthirdtest(L,A,B,halfdata,loss_Aalone,loss_AL,True)\n",
    "    print(\"Loss with A alone: Loss A\",loss_Aalone)\n",
    "    print(\"Loss with A and L: Loss LA\",loss_AL)\n",
    "    a= 1 if min(loss_Aalone)-min(loss_AL) >=0 else 0\n",
    "    return min(loss_Aalone)-min(loss_AL),a"
   ]
  },
  {
   "cell_type": "code",
   "execution_count": 111,
   "metadata": {},
   "outputs": [],
   "source": [
    "las"
   ]
  },
  {
   "cell_type": "code",
   "execution_count": 183,
   "metadata": {},
   "outputs": [],
   "source": [
    "AL=np.concatenate([L.reshape(-1,1),A.reshape(-1,1)],axis=1)\n",
    "mdn1,loss1=modeltrain(reshapevar(A),B.T)\n",
    "\n",
    "weights=calculateweights(mdn)\n",
    "mdn2,loss2=modeltrain(AL,B.T,weights)"
   ]
  },
  {
   "cell_type": "code",
   "execution_count": 184,
   "metadata": {},
   "outputs": [
    {
     "name": "stdout",
     "output_type": "stream",
     "text": [
      "Loss wihtout L  1.464153\n",
      "Loss with L 1.4353685\n"
     ]
    }
   ],
   "source": [
    "print(\"Loss wihtout L \",loss1)\n",
    "print(\"Loss with L\",loss2)"
   ]
  },
  {
   "cell_type": "code",
   "execution_count": 185,
   "metadata": {},
   "outputs": [
    {
     "data": {
      "text/plain": [
       "Text(0.5, 1.0, 'Loss with L 1.464153 Original data')"
      ]
     },
     "execution_count": 185,
     "metadata": {},
     "output_type": "execute_result"
    },
    {
     "data": {
      "image/png": "[encoded data removed]",
      "text/plain": [
       "<Figure size 432x288 with 1 Axes>"
      ]
     },
     "metadata": {
      "needs_background": "light"
     },
     "output_type": "display_data"
    }
   ],
   "source": [
    "plt.scatter(A,B)\n",
    "plt.scatter(A,mdn1.predict(reshapevar(A))[:,1])\n",
    "plt.xlabel(\"A\")\n",
    "plt.ylabel(\"B\")\n",
    "plt.title(\"Loss with L \"+str(loss1)+\" Original data\")"
   ]
  },
  {
   "cell_type": "code",
   "execution_count": 186,
   "metadata": {},
   "outputs": [
    {
     "data": {
      "text/plain": [
       "Text(0.5, 1.0, 'Loss with L 1.4353685 Original data')"
      ]
     },
     "execution_count": 186,
     "metadata": {},
     "output_type": "execute_result"
    },
    {
     "data": {
      "image/png": "[encoded data removed]",
      "text/plain": [
       "<Figure size 432x288 with 1 Axes>"
      ]
     },
     "metadata": {
      "needs_background": "light"
     },
     "output_type": "display_data"
    }
   ],
   "source": [
    "plt.scatter(A,B)\n",
    "plt.scatter(A,mdn2.predict(AL)[:,1])\n",
    "plt.xlabel(\"A\")\n",
    "plt.ylabel(\"B\")\n",
    "plt.title(\"Loss with L \"+str(loss2)+\" Original data\")"
   ]
  },
  {
   "cell_type": "code",
   "execution_count": 163,
   "metadata": {},
   "outputs": [
    {
     "name": "stdout",
     "output_type": "stream",
     "text": [
      "Loss wihtout L  1.7249472\n",
      "Loss with L 1.7059531\n"
     ]
    }
   ],
   "source": []
  },
  {
   "cell_type": "code",
   "execution_count": null,
   "metadata": {},
   "outputs": [],
   "source": []
  },
  {
   "cell_type": "code",
   "execution_count": 193,
   "metadata": {},
   "outputs": [],
   "source": [
    "B_perm=stratifydata(L,B)\n",
    "AL=np.concatenate([L.reshape(-1,1),A.reshape(-1,1)],axis=1)\n",
    "mdn1,loss1=modeltrain(reshapevar(A),B_perm.T)\n",
    "\n",
    "weights=calculateweights(mdn)\n",
    "mdn2,loss2=modeltrain(AL,B_perm.T,weights)"
   ]
  },
  {
   "cell_type": "code",
   "execution_count": 194,
   "metadata": {},
   "outputs": [
    {
     "name": "stdout",
     "output_type": "stream",
     "text": [
      "Loss wihtout L  1.7203071\n",
      "Loss with L 1.7056738\n"
     ]
    }
   ],
   "source": [
    "print(\"Loss wihtout L \",loss1)\n",
    "print(\"Loss with L\",loss2)"
   ]
  },
  {
   "cell_type": "code",
   "execution_count": 195,
   "metadata": {},
   "outputs": [
    {
     "data": {
      "text/plain": [
       "Text(0.5, 1.0, 'Loss without L 1.7203071 Permuted data')"
      ]
     },
     "execution_count": 195,
     "metadata": {},
     "output_type": "execute_result"
    },
    {
     "data": {
      "image/png": "[encoded data removed]",
      "text/plain": [
       "<Figure size 432x288 with 1 Axes>"
      ]
     },
     "metadata": {
      "needs_background": "light"
     },
     "output_type": "display_data"
    }
   ],
   "source": [
    "plt.scatter(A,B_perm)\n",
    "plt.scatter(A,mdn1.predict(reshapevar(A))[:,1])\n",
    "plt.xlabel(\"A\")\n",
    "plt.ylabel(\"B\")\n",
    "plt.title(\"Loss without L \"+str(loss1)+\" Permuted data\")"
   ]
  },
  {
   "cell_type": "code",
   "execution_count": 196,
   "metadata": {},
   "outputs": [
    {
     "data": {
      "text/plain": [
       "Text(0.5, 1.0, 'Loss with L 1.7056738 Permuted data')"
      ]
     },
     "execution_count": 196,
     "metadata": {},
     "output_type": "execute_result"
    },
    {
     "data": {
      "image/png": "[encoded data removed]",
      "text/plain": [
       "<Figure size 432x288 with 1 Axes>"
      ]
     },
     "metadata": {
      "needs_background": "light"
     },
     "output_type": "display_data"
    }
   ],
   "source": [
    "plt.scatter(A,B_perm)\n",
    "plt.scatter(A,mdn2.predict(AL)[:,1])\n",
    "plt.xlabel(\"A\")\n",
    "plt.ylabel(\"B\")\n",
    "plt.title(\"Loss with L \"+str(loss2)+\" Permuted data\")"
   ]
  },
  {
   "cell_type": "code",
   "execution_count": 192,
   "metadata": {},
   "outputs": [
    {
     "data": {
      "text/plain": [
       "Text(0, 0.5, 'B')"
      ]
     },
     "execution_count": 192,
     "metadata": {},
     "output_type": "execute_result"
    },
    {
     "data": {
      "image/png": "[encoded data removed]",
      "text/plain": [
       "<Figure size 432x288 with 1 Axes>"
      ]
     },
     "metadata": {
      "needs_background": "light"
     },
     "output_type": "display_data"
    }
   ],
   "source": [
    "plt.scatter(A,B)\n",
    "plt.xlabel(\"A\")\n",
    "plt.ylabel(\"B\")"
   ]
  },
  {
   "cell_type": "code",
   "execution_count": null,
   "metadata": {},
   "outputs": [],
   "source": []
  },
  {
   "cell_type": "code",
   "execution_count": 30,
   "metadata": {},
   "outputs": [],
   "source": [
    "def thirdtestoriginal(L,A,B):\n",
    "    print(\"Original data\")\n",
    "    print(\"Loss Order: Random,L=0 tranfer, L= 1 tranfer, Full data transfer\")\n",
    "    loss,neg=thirdtestonecycle(L,A,B)\n",
    "    print(\" Difference(minimum from Loss A - minimum from Loss LA) \",loss)\n",
    "    return loss,neg"
   ]
  },
  {
   "cell_type": "code",
   "execution_count": 31,
   "metadata": {},
   "outputs": [],
   "source": [
    "def thirdtestperm(L,A,B,n):\n",
    "    loss_perm=[]\n",
    "    for i in range(0,n):\n",
    "        print(\"Permutation \",i)\n",
    "        print(\"Loss Order: Random,L=0 tranfer, L= 1 tranfer, Full data transfer\")\n",
    "        B_perm=stratifydata(L,B)\n",
    "        loss,neg=thirdtestonecycle(L,A,B_perm)\n",
    "        print(\" Difference(minimum from Loss A - minimum from Loss LA) \",loss)\n",
    "        loss_perm.append(loss)\n",
    "    return loss_perm"
   ]
  },
  {
   "cell_type": "code",
   "execution_count": 41,
   "metadata": {},
   "outputs": [
    {
     "name": "stdout",
     "output_type": "stream",
     "text": [
      "Original data\n",
      "Loss Order: Random,L=0 tranfer, L= 1 tranfer, Full data transfer\n",
      "Loss with A alone: Loss A [1.4533767, 1.5196483, 1.4584725, 1.4277017]\n",
      "Loss with A and L: Loss LA [1.4344414, 1.4262989, 1.4190271, 1.418967]\n",
      " Difference(minimum from Loss A - minimum from Loss LA)  0.008734703\n"
     ]
    }
   ],
   "source": [
    "lorig=thirdtestoriginal(L,A,B)"
   ]
  },
  {
   "cell_type": "code",
   "execution_count": 53,
   "metadata": {},
   "outputs": [
    {
     "name": "stdout",
     "output_type": "stream",
     "text": [
      "Permutation  0\n",
      "Loss Order: Random,L=0 tranfer, L= 1 tranfer, Full data transfer\n",
      "Loss with A alone: Loss A [1.7211455, 1.765429, 1.7274792, 1.7214354]\n",
      "Loss with A and L: Loss LA [1.7156892, 1.7215366, 1.7175022, 1.7130249]\n",
      " Difference(minimum from Loss A - minimum from Loss LA)  0.008120656\n",
      "Permutation  1\n",
      "Loss Order: Random,L=0 tranfer, L= 1 tranfer, Full data transfer\n",
      "Loss with A alone: Loss A [1.7204468, 1.7473615, 1.7246672, 1.716168]\n",
      "Loss with A and L: Loss LA [1.7082659, 1.7099652, 1.7161174, 1.7147708]\n",
      " Difference(minimum from Loss A - minimum from Loss LA)  0.007902145\n",
      "Permutation  2\n",
      "Loss Order: Random,L=0 tranfer, L= 1 tranfer, Full data transfer\n",
      "Loss with A alone: Loss A [1.720013, 1.7339811, 1.7494407, 1.7201525]\n",
      "Loss with A and L: Loss LA [1.7174639, 1.7149975, 1.7181653, 1.7151616]\n",
      " Difference(minimum from Loss A - minimum from Loss LA)  0.0050154924\n",
      "Permutation  3\n",
      "Loss Order: Random,L=0 tranfer, L= 1 tranfer, Full data transfer\n",
      "Loss with A alone: Loss A [1.7229211, 1.7504846, 1.7548852, 1.7254595]\n",
      "Loss with A and L: Loss LA [1.7012746, 1.714153, 1.7217132, 1.7161567]\n",
      " Difference(minimum from Loss A - minimum from Loss LA)  0.0216465\n",
      "Permutation  4\n",
      "Loss Order: Random,L=0 tranfer, L= 1 tranfer, Full data transfer\n",
      "Loss with A alone: Loss A [1.72251, 1.7655144, 1.7324046, 1.7218761]\n",
      "Loss with A and L: Loss LA [1.7137973, 1.7189783, 1.7170331, 1.7177855]\n",
      " Difference(minimum from Loss A - minimum from Loss LA)  0.008078814\n",
      "Permutation  5\n",
      "Loss Order: Random,L=0 tranfer, L= 1 tranfer, Full data transfer\n",
      "Loss with A alone: Loss A [1.7174408, 1.7512512, 1.7258924, 1.7173227]\n",
      "Loss with A and L: Loss LA [1.7087135, 1.7131715, 1.7126856, 1.7141255]\n",
      " Difference(minimum from Loss A - minimum from Loss LA)  0.008609176\n",
      "Permutation  6\n",
      "Loss Order: Random,L=0 tranfer, L= 1 tranfer, Full data transfer\n",
      "Loss with A alone: Loss A [1.7229939, 1.7630794, 1.7384607, 1.7245734]\n",
      "Loss with A and L: Loss LA [1.7089939, 1.720723, 1.7203516, 1.7186172]\n",
      " Difference(minimum from Loss A - minimum from Loss LA)  0.013999939\n",
      "Permutation  7\n",
      "Loss Order: Random,L=0 tranfer, L= 1 tranfer, Full data transfer\n",
      "Loss with A alone: Loss A [1.7155342, 1.7912555, 1.7303537, 1.7201504]\n",
      "Loss with A and L: Loss LA [1.7095516, 1.7187632, 1.7123674, 1.7127192]\n",
      " Difference(minimum from Loss A - minimum from Loss LA)  0.0059826374\n",
      "Permutation  8\n",
      "Loss Order: Random,L=0 tranfer, L= 1 tranfer, Full data transfer\n",
      "Loss with A alone: Loss A [1.7223405, 1.744706, 1.7330515, 1.7207267]\n",
      "Loss with A and L: Loss LA [1.7114068, 1.7190517, 1.7204471, 1.7172991]\n",
      " Difference(minimum from Loss A - minimum from Loss LA)  0.0093199015\n",
      "Permutation  9\n",
      "Loss Order: Random,L=0 tranfer, L= 1 tranfer, Full data transfer\n",
      "Loss with A alone: Loss A [1.7209867, 1.7506795, 1.7333691, 1.7236509]\n",
      "Loss with A and L: Loss LA [1.7151699, 1.7172278, 1.7175858, 1.7139844]\n",
      " Difference(minimum from Loss A - minimum from Loss LA)  0.0070023537\n",
      "Permutation  10\n",
      "Loss Order: Random,L=0 tranfer, L= 1 tranfer, Full data transfer\n",
      "Loss with A alone: Loss A [1.7208892, 1.7608278, 1.7348093, 1.7205484]\n",
      "Loss with A and L: Loss LA [1.7035199, 1.7207102, 1.7179681, 1.7176687]\n",
      " Difference(minimum from Loss A - minimum from Loss LA)  0.017028451\n",
      "Permutation  11\n",
      "Loss Order: Random,L=0 tranfer, L= 1 tranfer, Full data transfer\n",
      "Loss with A alone: Loss A [1.7221994, 1.746865, 1.725052, 1.7231213]\n",
      "Loss with A and L: Loss LA [1.7109659, 1.719248, 1.7182266, 1.7171719]\n",
      " Difference(minimum from Loss A - minimum from Loss LA)  0.011233568\n",
      "Permutation  12\n",
      "Loss Order: Random,L=0 tranfer, L= 1 tranfer, Full data transfer\n",
      "Loss with A alone: Loss A [1.7252048, 1.7426717, 1.7258325, 1.7227528]\n",
      "Loss with A and L: Loss LA [1.7116507, 1.7113149, 1.715624, 1.7186582]\n",
      " Difference(minimum from Loss A - minimum from Loss LA)  0.011437893\n",
      "Permutation  13\n",
      "Loss Order: Random,L=0 tranfer, L= 1 tranfer, Full data transfer\n",
      "Loss with A alone: Loss A [1.7236843, 1.7455682, 1.7245774, 1.7223599]\n",
      "Loss with A and L: Loss LA [1.714356, 1.7172146, 1.7144978, 1.7176493]\n",
      " Difference(minimum from Loss A - minimum from Loss LA)  0.00800395\n",
      "Permutation  14\n",
      "Loss Order: Random,L=0 tranfer, L= 1 tranfer, Full data transfer\n",
      "Loss with A alone: Loss A [1.71874, 1.7452357, 1.7384553, 1.7174358]\n",
      "Loss with A and L: Loss LA [1.7107799, 1.7134684, 1.7155913, 1.7144895]\n",
      " Difference(minimum from Loss A - minimum from Loss LA)  0.0066559315\n",
      "Permutation  15\n",
      "Loss Order: Random,L=0 tranfer, L= 1 tranfer, Full data transfer\n",
      "Loss with A alone: Loss A [1.7226499, 1.7416838, 1.731454, 1.7229534]\n",
      "Loss with A and L: Loss LA [1.7085742, 1.7205448, 1.7205433, 1.7165515]\n",
      " Difference(minimum from Loss A - minimum from Loss LA)  0.014075756\n",
      "Permutation  16\n",
      "Loss Order: Random,L=0 tranfer, L= 1 tranfer, Full data transfer\n",
      "Loss with A alone: Loss A [1.7212175, 1.7518704, 1.7340226, 1.7217779]\n",
      "Loss with A and L: Loss LA [1.7157344, 1.7217156, 1.7214993, 1.7195789]\n",
      " Difference(minimum from Loss A - minimum from Loss LA)  0.0054831505\n",
      "Permutation  17\n",
      "Loss Order: Random,L=0 tranfer, L= 1 tranfer, Full data transfer\n",
      "Loss with A alone: Loss A [1.7226443, 1.7438214, 1.7364542, 1.7226768]\n",
      "Loss with A and L: Loss LA [1.7146199, 1.7178974, 1.723179, 1.7200787]\n",
      " Difference(minimum from Loss A - minimum from Loss LA)  0.008024454\n",
      "Permutation  18\n",
      "Loss Order: Random,L=0 tranfer, L= 1 tranfer, Full data transfer\n",
      "Loss with A alone: Loss A [1.7179962, 1.7453609, 1.7336128, 1.7178844]\n",
      "Loss with A and L: Loss LA [1.7123994, 1.7158877, 1.7117306, 1.7133936]\n",
      " Difference(minimum from Loss A - minimum from Loss LA)  0.006153822\n",
      "Permutation  19\n",
      "Loss Order: Random,L=0 tranfer, L= 1 tranfer, Full data transfer\n",
      "Loss with A alone: Loss A [1.7253038, 1.7614142, 1.7329029, 1.7245278]\n",
      "Loss with A and L: Loss LA [1.7148538, 1.7208245, 1.7217507, 1.7185315]\n",
      " Difference(minimum from Loss A - minimum from Loss LA)  0.009674072\n",
      "Permutation  20\n",
      "Loss Order: Random,L=0 tranfer, L= 1 tranfer, Full data transfer\n",
      "Loss with A alone: Loss A [1.7174888, 1.7739614, 1.7281259, 1.7218605]\n",
      "Loss with A and L: Loss LA [1.714461, 1.7191392, 1.7159216, 1.716681]\n",
      " Difference(minimum from Loss A - minimum from Loss LA)  0.0030277967\n",
      "Permutation  21\n",
      "Loss Order: Random,L=0 tranfer, L= 1 tranfer, Full data transfer\n",
      "Loss with A alone: Loss A [1.7176114, 1.7557689, 1.736949, 1.7175452]\n",
      "Loss with A and L: Loss LA [1.708262, 1.7195998, 1.7180362, 1.7152122]\n",
      " Difference(minimum from Loss A - minimum from Loss LA)  0.009283185\n",
      "Permutation  22\n",
      "Loss Order: Random,L=0 tranfer, L= 1 tranfer, Full data transfer\n",
      "Loss with A alone: Loss A [1.7284552, 1.76196, 1.7244292, 1.7206277]\n",
      "Loss with A and L: Loss LA [1.7187598, 1.7197374, 1.7172998, 1.7128934]\n",
      " Difference(minimum from Loss A - minimum from Loss LA)  0.0077342987\n",
      "Permutation  23\n",
      "Loss Order: Random,L=0 tranfer, L= 1 tranfer, Full data transfer\n",
      "Loss with A alone: Loss A [1.7154273, 1.738933, 1.7240204, 1.7126439]\n",
      "Loss with A and L: Loss LA [1.7064549, 1.7063489, 1.7075442, 1.7076592]\n",
      " Difference(minimum from Loss A - minimum from Loss LA)  0.0062949657\n",
      "Permutation  24\n",
      "Loss Order: Random,L=0 tranfer, L= 1 tranfer, Full data transfer\n",
      "Loss with A alone: Loss A [1.7243896, 1.7912334, 1.733312, 1.7233355]\n",
      "Loss with A and L: Loss LA [1.7126752, 1.7233411, 1.7122668, 1.7201368]\n",
      " Difference(minimum from Loss A - minimum from Loss LA)  0.011068702\n",
      "Permutation  25\n",
      "Loss Order: Random,L=0 tranfer, L= 1 tranfer, Full data transfer\n",
      "Loss with A alone: Loss A [1.7264265, 1.7500815, 1.730912, 1.7214575]\n",
      "Loss with A and L: Loss LA [1.7064806, 1.7184148, 1.719594, 1.7152078]\n",
      " Difference(minimum from Loss A - minimum from Loss LA)  0.014976859\n",
      "Permutation  26\n",
      "Loss Order: Random,L=0 tranfer, L= 1 tranfer, Full data transfer\n",
      "Loss with A alone: Loss A [1.7217265, 1.7658882, 1.728878, 1.7221221]\n",
      "Loss with A and L: Loss LA [1.7036237, 1.7166655, 1.7198313, 1.718753]\n",
      " Difference(minimum from Loss A - minimum from Loss LA)  0.018102884\n",
      "Permutation  27\n",
      "Loss Order: Random,L=0 tranfer, L= 1 tranfer, Full data transfer\n",
      "Loss with A alone: Loss A [1.7212119, 1.7490933, 1.7299155, 1.723609]\n",
      "Loss with A and L: Loss LA [1.7182825, 1.7151802, 1.7180251, 1.7174344]\n",
      " Difference(minimum from Loss A - minimum from Loss LA)  0.0060317516\n",
      "Permutation  28\n",
      "Loss Order: Random,L=0 tranfer, L= 1 tranfer, Full data transfer\n"
     ]
    },
    {
     "name": "stdout",
     "output_type": "stream",
     "text": [
      "Loss with A alone: Loss A [1.7232049, 1.744778, 1.7385792, 1.7231911]\n",
      "Loss with A and L: Loss LA [1.7147938, 1.7181071, 1.7213286, 1.7202976]\n",
      " Difference(minimum from Loss A - minimum from Loss LA)  0.008397341\n",
      "Permutation  29\n",
      "Loss Order: Random,L=0 tranfer, L= 1 tranfer, Full data transfer\n",
      "Loss with A alone: Loss A [1.721228, 1.7824637, 1.7364475, 1.7164394]\n",
      "Loss with A and L: Loss LA [1.701051, 1.7153939, 1.7173824, 1.7151294]\n",
      " Difference(minimum from Loss A - minimum from Loss LA)  0.01538837\n",
      "Permutation  30\n",
      "Loss Order: Random,L=0 tranfer, L= 1 tranfer, Full data transfer\n",
      "Loss with A alone: Loss A [1.7283452, 1.7518632, 1.7306395, 1.7223262]\n",
      "Loss with A and L: Loss LA [1.7130121, 1.7177228, 1.7121433, 1.7194293]\n",
      " Difference(minimum from Loss A - minimum from Loss LA)  0.0101828575\n",
      "Permutation  31\n",
      "Loss Order: Random,L=0 tranfer, L= 1 tranfer, Full data transfer\n",
      "Loss with A alone: Loss A [1.7197627, 1.7484944, 1.7331725, 1.7185462]\n",
      "Loss with A and L: Loss LA [1.7135112, 1.7121582, 1.7170242, 1.7125627]\n",
      " Difference(minimum from Loss A - minimum from Loss LA)  0.006387949\n",
      "Permutation  32\n",
      "Loss Order: Random,L=0 tranfer, L= 1 tranfer, Full data transfer\n",
      "Loss with A alone: Loss A [1.7195088, 1.7617971, 1.7518532, 1.7210519]\n",
      "Loss with A and L: Loss LA [1.7107127, 1.716525, 1.7199354, 1.7168325]\n",
      " Difference(minimum from Loss A - minimum from Loss LA)  0.008796096\n",
      "Permutation  33\n",
      "Loss Order: Random,L=0 tranfer, L= 1 tranfer, Full data transfer\n",
      "Loss with A alone: Loss A [1.7362146, 1.7488754, 1.7316631, 1.7238958]\n",
      "Loss with A and L: Loss LA [1.7244515, 1.7221677, 1.7230376, 1.7188755]\n",
      " Difference(minimum from Loss A - minimum from Loss LA)  0.005020261\n",
      "Permutation  34\n",
      "Loss Order: Random,L=0 tranfer, L= 1 tranfer, Full data transfer\n",
      "Loss with A alone: Loss A [1.7223436, 1.7473909, 1.7286065, 1.7226423]\n",
      "Loss with A and L: Loss LA [1.7193981, 1.7147162, 1.7228377, 1.7206903]\n",
      " Difference(minimum from Loss A - minimum from Loss LA)  0.007627368\n",
      "Permutation  35\n",
      "Loss Order: Random,L=0 tranfer, L= 1 tranfer, Full data transfer\n",
      "Loss with A alone: Loss A [1.7221004, 1.7457149, 1.7421001, 1.7253524]\n",
      "Loss with A and L: Loss LA [1.7203642, 1.717033, 1.7131546, 1.7148966]\n",
      " Difference(minimum from Loss A - minimum from Loss LA)  0.008945823\n",
      "Permutation  36\n",
      "Loss Order: Random,L=0 tranfer, L= 1 tranfer, Full data transfer\n",
      "Loss with A alone: Loss A [1.7201232, 1.7741597, 1.7220131, 1.7176474]\n",
      "Loss with A and L: Loss LA [1.701355, 1.7223969, 1.7124177, 1.7122301]\n",
      " Difference(minimum from Loss A - minimum from Loss LA)  0.016292453\n",
      "Permutation  37\n",
      "Loss Order: Random,L=0 tranfer, L= 1 tranfer, Full data transfer\n",
      "Loss with A alone: Loss A [1.7199275, 1.7648072, 1.7321709, 1.7197114]\n",
      "Loss with A and L: Loss LA [1.7033948, 1.712179, 1.715749, 1.7140102]\n",
      " Difference(minimum from Loss A - minimum from Loss LA)  0.016316652\n",
      "Permutation  38\n",
      "Loss Order: Random,L=0 tranfer, L= 1 tranfer, Full data transfer\n",
      "Loss with A alone: Loss A [1.7216457, 1.763027, 1.7292427, 1.722284]\n",
      "Loss with A and L: Loss LA [1.7142847, 1.7227348, 1.7163457, 1.7149338]\n",
      " Difference(minimum from Loss A - minimum from Loss LA)  0.0073610544\n",
      "Permutation  39\n",
      "Loss Order: Random,L=0 tranfer, L= 1 tranfer, Full data transfer\n",
      "Loss with A alone: Loss A [1.7122635, 1.7615337, 1.7249023, 1.715411]\n",
      "Loss with A and L: Loss LA [1.7012596, 1.7169355, 1.7136585, 1.7111292]\n",
      " Difference(minimum from Loss A - minimum from Loss LA)  0.011003852\n",
      "Permutation  40\n",
      "Loss Order: Random,L=0 tranfer, L= 1 tranfer, Full data transfer\n",
      "Loss with A alone: Loss A [1.7234634, 1.7466594, 1.7272912, 1.7275764]\n",
      "Loss with A and L: Loss LA [1.7117478, 1.7165968, 1.7210039, 1.7191958]\n",
      " Difference(minimum from Loss A - minimum from Loss LA)  0.011715651\n",
      "Permutation  41\n",
      "Loss Order: Random,L=0 tranfer, L= 1 tranfer, Full data transfer\n",
      "Loss with A alone: Loss A [1.719638, 1.763851, 1.7210486, 1.719041]\n",
      "Loss with A and L: Loss LA [1.7115793, 1.7140682, 1.7144502, 1.7151842]\n",
      " Difference(minimum from Loss A - minimum from Loss LA)  0.007461667\n",
      "Permutation  42\n",
      "Loss Order: Random,L=0 tranfer, L= 1 tranfer, Full data transfer\n",
      "Loss with A alone: Loss A [1.7238681, 1.7465389, 1.736588, 1.7202044]\n",
      "Loss with A and L: Loss LA [1.7142769, 1.7185707, 1.7174706, 1.7168261]\n",
      " Difference(minimum from Loss A - minimum from Loss LA)  0.0059274435\n",
      "Permutation  43\n",
      "Loss Order: Random,L=0 tranfer, L= 1 tranfer, Full data transfer\n",
      "Loss with A alone: Loss A [1.7204622, 1.7531904, 1.7299292, 1.7179495]\n",
      "Loss with A and L: Loss LA [1.705439, 1.7122453, 1.7177165, 1.7148756]\n",
      " Difference(minimum from Loss A - minimum from Loss LA)  0.012510538\n",
      "Permutation  44\n",
      "Loss Order: Random,L=0 tranfer, L= 1 tranfer, Full data transfer\n",
      "Loss with A alone: Loss A [1.7201552, 1.7440189, 1.731347, 1.7251976]\n",
      "Loss with A and L: Loss LA [1.7038807, 1.7195088, 1.721005, 1.7159852]\n",
      " Difference(minimum from Loss A - minimum from Loss LA)  0.016274571\n",
      "Permutation  45\n",
      "Loss Order: Random,L=0 tranfer, L= 1 tranfer, Full data transfer\n",
      "Loss with A alone: Loss A [1.7156829, 1.7542744, 1.7267275, 1.7203435]\n",
      "Loss with A and L: Loss LA [1.7071179, 1.717613, 1.7132628, 1.7149309]\n",
      " Difference(minimum from Loss A - minimum from Loss LA)  0.008564949\n",
      "Permutation  46\n",
      "Loss Order: Random,L=0 tranfer, L= 1 tranfer, Full data transfer\n",
      "Loss with A alone: Loss A [1.721061, 1.7501643, 1.7290645, 1.722147]\n",
      "Loss with A and L: Loss LA [1.7167168, 1.7246826, 1.7210423, 1.7193007]\n",
      " Difference(minimum from Loss A - minimum from Loss LA)  0.004344225\n",
      "Permutation  47\n",
      "Loss Order: Random,L=0 tranfer, L= 1 tranfer, Full data transfer\n",
      "Loss with A alone: Loss A [1.7249465, 1.7567092, 1.7305065, 1.7239643]\n",
      "Loss with A and L: Loss LA [1.7035321, 1.7164576, 1.718273, 1.7141225]\n",
      " Difference(minimum from Loss A - minimum from Loss LA)  0.020432234\n",
      "Permutation  48\n",
      "Loss Order: Random,L=0 tranfer, L= 1 tranfer, Full data transfer\n",
      "Loss with A alone: Loss A [1.7223694, 1.7411748, 1.7309577, 1.7215377]\n",
      "Loss with A and L: Loss LA [1.7149087, 1.716826, 1.7175906, 1.7191402]\n",
      " Difference(minimum from Loss A - minimum from Loss LA)  0.00662899\n",
      "Permutation  49\n",
      "Loss Order: Random,L=0 tranfer, L= 1 tranfer, Full data transfer\n",
      "Loss with A alone: Loss A [1.7312105, 1.7592661, 1.7425157, 1.7209855]\n",
      "Loss with A and L: Loss LA [1.7012581, 1.7165564, 1.719311, 1.7147557]\n",
      " Difference(minimum from Loss A - minimum from Loss LA)  0.019727468\n",
      "Permutation  50\n",
      "Loss Order: Random,L=0 tranfer, L= 1 tranfer, Full data transfer\n",
      "Loss with A alone: Loss A [1.7232974, 1.8009079, 1.7395704, 1.7302495]\n",
      "Loss with A and L: Loss LA [1.7136203, 1.7184135, 1.7221851, 1.72274]\n",
      " Difference(minimum from Loss A - minimum from Loss LA)  0.0096770525\n",
      "Permutation  51\n",
      "Loss Order: Random,L=0 tranfer, L= 1 tranfer, Full data transfer\n",
      "Loss with A alone: Loss A [1.7226801, 1.7436858, 1.7291192, 1.7208958]\n",
      "Loss with A and L: Loss LA [1.7174029, 1.7177981, 1.7187178, 1.7180157]\n",
      " Difference(minimum from Loss A - minimum from Loss LA)  0.0034928322\n",
      "Permutation  52\n",
      "Loss Order: Random,L=0 tranfer, L= 1 tranfer, Full data transfer\n",
      "Loss with A alone: Loss A [1.7162367, 1.756944, 1.7253758, 1.7211756]\n",
      "Loss with A and L: Loss LA [1.709696, 1.7131301, 1.7157258, 1.7190359]\n",
      " Difference(minimum from Loss A - minimum from Loss LA)  0.006540656\n",
      "Permutation  53\n",
      "Loss Order: Random,L=0 tranfer, L= 1 tranfer, Full data transfer\n",
      "Loss with A alone: Loss A [1.71754, 1.745886, 1.7441369, 1.7178293]\n",
      "Loss with A and L: Loss LA [1.7224475, 1.7114431, 1.7180274, 1.7145772]\n",
      " Difference(minimum from Loss A - minimum from Loss LA)  0.006096959\n",
      "Permutation  54\n",
      "Loss Order: Random,L=0 tranfer, L= 1 tranfer, Full data transfer\n",
      "Loss with A alone: Loss A [1.7277973, 1.767586, 1.7316741, 1.722518]\n",
      "Loss with A and L: Loss LA [1.7044711, 1.7196718, 1.7209374, 1.7204792]\n",
      " Difference(minimum from Loss A - minimum from Loss LA)  0.018046856\n",
      "Permutation  55\n",
      "Loss Order: Random,L=0 tranfer, L= 1 tranfer, Full data transfer\n",
      "Loss with A alone: Loss A [1.7286514, 1.7620703, 1.7323784, 1.7238797]\n",
      "Loss with A and L: Loss LA [1.7158813, 1.718615, 1.7200706, 1.7186613]\n",
      " Difference(minimum from Loss A - minimum from Loss LA)  0.007998347\n",
      "Permutation  56\n",
      "Loss Order: Random,L=0 tranfer, L= 1 tranfer, Full data transfer\n",
      "Loss with A alone: Loss A [1.723064, 1.7462246, 1.7286757, 1.7191607]\n",
      "Loss with A and L: Loss LA [1.7078217, 1.7187986, 1.7236562, 1.7156228]\n",
      " Difference(minimum from Loss A - minimum from Loss LA)  0.011338949\n",
      "Permutation  57\n",
      "Loss Order: Random,L=0 tranfer, L= 1 tranfer, Full data transfer\n"
     ]
    },
    {
     "name": "stdout",
     "output_type": "stream",
     "text": [
      "Loss with A alone: Loss A [1.723342, 1.7517949, 1.7274376, 1.7252256]\n",
      "Loss with A and L: Loss LA [1.7142693, 1.7177463, 1.7237248, 1.7215791]\n",
      " Difference(minimum from Loss A - minimum from Loss LA)  0.009072661\n",
      "Permutation  58\n",
      "Loss Order: Random,L=0 tranfer, L= 1 tranfer, Full data transfer\n",
      "Loss with A alone: Loss A [1.7203271, 1.7409207, 1.7286489, 1.7206037]\n",
      "Loss with A and L: Loss LA [1.7052948, 1.7174864, 1.7166916, 1.7163482]\n",
      " Difference(minimum from Loss A - minimum from Loss LA)  0.015032291\n",
      "Permutation  59\n",
      "Loss Order: Random,L=0 tranfer, L= 1 tranfer, Full data transfer\n",
      "Loss with A alone: Loss A [1.7244892, 1.7480559, 1.730793, 1.7204106]\n",
      "Loss with A and L: Loss LA [1.7140708, 1.7192963, 1.7163117, 1.7132967]\n",
      " Difference(minimum from Loss A - minimum from Loss LA)  0.0071139336\n",
      "Permutation  60\n",
      "Loss Order: Random,L=0 tranfer, L= 1 tranfer, Full data transfer\n",
      "Loss with A alone: Loss A [1.7218148, 1.7433113, 1.7304804, 1.7181336]\n",
      "Loss with A and L: Loss LA [1.7065498, 1.718275, 1.7169075, 1.7152337]\n",
      " Difference(minimum from Loss A - minimum from Loss LA)  0.011583805\n",
      "Permutation  61\n",
      "Loss Order: Random,L=0 tranfer, L= 1 tranfer, Full data transfer\n",
      "Loss with A alone: Loss A [1.7227983, 1.7500228, 1.7471011, 1.7241281]\n",
      "Loss with A and L: Loss LA [1.703017, 1.7166495, 1.7183589, 1.7210745]\n",
      " Difference(minimum from Loss A - minimum from Loss LA)  0.019781351\n",
      "Permutation  62\n",
      "Loss Order: Random,L=0 tranfer, L= 1 tranfer, Full data transfer\n",
      "Loss with A alone: Loss A [1.7229563, 1.7576573, 1.745362, 1.7228328]\n",
      "Loss with A and L: Loss LA [1.7191839, 1.715653, 1.7240666, 1.7179968]\n",
      " Difference(minimum from Loss A - minimum from Loss LA)  0.0071798563\n",
      "Permutation  63\n",
      "Loss Order: Random,L=0 tranfer, L= 1 tranfer, Full data transfer\n",
      "Loss with A alone: Loss A [1.7196674, 1.7469524, 1.726694, 1.7246665]\n",
      "Loss with A and L: Loss LA [1.722725, 1.7180972, 1.7134883, 1.7134461]\n",
      " Difference(minimum from Loss A - minimum from Loss LA)  0.0062212944\n",
      "Permutation  64\n",
      "Loss Order: Random,L=0 tranfer, L= 1 tranfer, Full data transfer\n",
      "Loss with A alone: Loss A [1.7217515, 1.7683133, 1.7306621, 1.7266382]\n",
      "Loss with A and L: Loss LA [1.7098819, 1.7222633, 1.717213, 1.7202578]\n",
      " Difference(minimum from Loss A - minimum from Loss LA)  0.01186955\n",
      "Permutation  65\n",
      "Loss Order: Random,L=0 tranfer, L= 1 tranfer, Full data transfer\n",
      "Loss with A alone: Loss A [1.7201924, 1.7759099, 1.7270035, 1.721562]\n",
      "Loss with A and L: Loss LA [1.7098305, 1.7219177, 1.7189268, 1.7172099]\n",
      " Difference(minimum from Loss A - minimum from Loss LA)  0.01036191\n",
      "Permutation  66\n",
      "Loss Order: Random,L=0 tranfer, L= 1 tranfer, Full data transfer\n",
      "Loss with A alone: Loss A [1.7258532, 1.7585872, 1.7283169, 1.7244422]\n",
      "Loss with A and L: Loss LA [1.7215835, 1.7154716, 1.7209857, 1.717529]\n",
      " Difference(minimum from Loss A - minimum from Loss LA)  0.008970618\n",
      "Permutation  67\n",
      "Loss Order: Random,L=0 tranfer, L= 1 tranfer, Full data transfer\n",
      "Loss with A alone: Loss A [1.7224019, 1.7599492, 1.7295835, 1.7271656]\n",
      "Loss with A and L: Loss LA [1.7097715, 1.7223898, 1.719992, 1.7194598]\n",
      " Difference(minimum from Loss A - minimum from Loss LA)  0.012630343\n",
      "Permutation  68\n",
      "Loss Order: Random,L=0 tranfer, L= 1 tranfer, Full data transfer\n",
      "Loss with A alone: Loss A [1.7275794, 1.7551479, 1.7344879, 1.7242802]\n",
      "Loss with A and L: Loss LA [1.703948, 1.720319, 1.7228872, 1.7200937]\n",
      " Difference(minimum from Loss A - minimum from Loss LA)  0.020332217\n",
      "Permutation  69\n",
      "Loss Order: Random,L=0 tranfer, L= 1 tranfer, Full data transfer\n",
      "Loss with A alone: Loss A [1.7233618, 1.7503767, 1.7390804, 1.7192513]\n",
      "Loss with A and L: Loss LA [1.7139112, 1.7203667, 1.7192804, 1.7167138]\n",
      " Difference(minimum from Loss A - minimum from Loss LA)  0.0053400993\n",
      "Permutation  70\n",
      "Loss Order: Random,L=0 tranfer, L= 1 tranfer, Full data transfer\n",
      "Loss with A alone: Loss A [1.7248628, 1.7517875, 1.7396203, 1.7239836]\n",
      "Loss with A and L: Loss LA [1.7191026, 1.7226962, 1.7228354, 1.7226048]\n",
      " Difference(minimum from Loss A - minimum from Loss LA)  0.0048810244\n",
      "Permutation  71\n",
      "Loss Order: Random,L=0 tranfer, L= 1 tranfer, Full data transfer\n",
      "Loss with A alone: Loss A [1.7210618, 1.7615066, 1.730207, 1.7254646]\n",
      "Loss with A and L: Loss LA [1.7125409, 1.7156914, 1.7183175, 1.7195495]\n",
      " Difference(minimum from Loss A - minimum from Loss LA)  0.008520961\n",
      "Permutation  72\n",
      "Loss Order: Random,L=0 tranfer, L= 1 tranfer, Full data transfer\n",
      "Loss with A alone: Loss A [1.7196306, 1.749543, 1.7243477, 1.7212698]\n",
      "Loss with A and L: Loss LA [1.7083997, 1.7161891, 1.7130772, 1.7155137]\n",
      " Difference(minimum from Loss A - minimum from Loss LA)  0.011230946\n",
      "Permutation  73\n",
      "Loss Order: Random,L=0 tranfer, L= 1 tranfer, Full data transfer\n",
      "Loss with A alone: Loss A [1.7224184, 1.7728366, 1.756176, 1.7284003]\n",
      "Loss with A and L: Loss LA [1.7063882, 1.7202253, 1.7157831, 1.7199584]\n",
      " Difference(minimum from Loss A - minimum from Loss LA)  0.016030192\n",
      "Permutation  74\n",
      "Loss Order: Random,L=0 tranfer, L= 1 tranfer, Full data transfer\n",
      "Loss with A alone: Loss A [1.7194651, 1.7365472, 1.725834, 1.7164996]\n",
      "Loss with A and L: Loss LA [1.7022537, 1.7069664, 1.7113259, 1.708695]\n",
      " Difference(minimum from Loss A - minimum from Loss LA)  0.014245868\n",
      "Permutation  75\n",
      "Loss Order: Random,L=0 tranfer, L= 1 tranfer, Full data transfer\n",
      "Loss with A alone: Loss A [1.7199917, 1.7596953, 1.7252396, 1.7199644]\n",
      "Loss with A and L: Loss LA [1.7066488, 1.7183452, 1.7139946, 1.7146446]\n",
      " Difference(minimum from Loss A - minimum from Loss LA)  0.013315558\n",
      "Permutation  76\n",
      "Loss Order: Random,L=0 tranfer, L= 1 tranfer, Full data transfer\n",
      "Loss with A alone: Loss A [1.7213906, 1.7665013, 1.7276056, 1.7219309]\n",
      "Loss with A and L: Loss LA [1.7175105, 1.7216353, 1.7184975, 1.7175235]\n",
      " Difference(minimum from Loss A - minimum from Loss LA)  0.0038801432\n",
      "Permutation  77\n",
      "Loss Order: Random,L=0 tranfer, L= 1 tranfer, Full data transfer\n",
      "Loss with A alone: Loss A [1.7214363, 1.8075224, 1.735021, 1.7229582]\n",
      "Loss with A and L: Loss LA [1.7223772, 1.7219484, 1.7195988, 1.7170652]\n",
      " Difference(minimum from Loss A - minimum from Loss LA)  0.004371047\n",
      "Permutation  78\n",
      "Loss Order: Random,L=0 tranfer, L= 1 tranfer, Full data transfer\n",
      "Loss with A alone: Loss A [1.7186399, 1.7576742, 1.7326885, 1.7198398]\n",
      "Loss with A and L: Loss LA [1.7121296, 1.7125046, 1.7161276, 1.7148474]\n",
      " Difference(minimum from Loss A - minimum from Loss LA)  0.0065102577\n",
      "Permutation  79\n",
      "Loss Order: Random,L=0 tranfer, L= 1 tranfer, Full data transfer\n",
      "Loss with A alone: Loss A [1.7213712, 1.7548994, 1.734468, 1.7283281]\n",
      "Loss with A and L: Loss LA [1.714769, 1.7156682, 1.7169302, 1.7196718]\n",
      " Difference(minimum from Loss A - minimum from Loss LA)  0.006602168\n",
      "Permutation  80\n",
      "Loss Order: Random,L=0 tranfer, L= 1 tranfer, Full data transfer\n",
      "Loss with A alone: Loss A [1.7215478, 1.7780904, 1.7458913, 1.7204455]\n",
      "Loss with A and L: Loss LA [1.7027771, 1.7179523, 1.7157786, 1.7176093]\n",
      " Difference(minimum from Loss A - minimum from Loss LA)  0.017668366\n",
      "Permutation  81\n",
      "Loss Order: Random,L=0 tranfer, L= 1 tranfer, Full data transfer\n",
      "Loss with A alone: Loss A [1.727899, 1.7518474, 1.739392, 1.7221606]\n",
      "Loss with A and L: Loss LA [1.7069434, 1.7169428, 1.7212266, 1.7153767]\n",
      " Difference(minimum from Loss A - minimum from Loss LA)  0.015217185\n",
      "Permutation  82\n",
      "Loss Order: Random,L=0 tranfer, L= 1 tranfer, Full data transfer\n",
      "Loss with A alone: Loss A [1.7227576, 1.7355838, 1.7382063, 1.7195565]\n",
      "Loss with A and L: Loss LA [1.7041028, 1.7138182, 1.7213098, 1.7176672]\n",
      " Difference(minimum from Loss A - minimum from Loss LA)  0.015453696\n",
      "Permutation  83\n",
      "Loss Order: Random,L=0 tranfer, L= 1 tranfer, Full data transfer\n",
      "Loss with A alone: Loss A [1.721398, 1.7546748, 1.73302, 1.7235098]\n",
      "Loss with A and L: Loss LA [1.7079998, 1.7102652, 1.7158911, 1.7200364]\n",
      " Difference(minimum from Loss A - minimum from Loss LA)  0.0133981705\n",
      "Permutation  84\n",
      "Loss Order: Random,L=0 tranfer, L= 1 tranfer, Full data transfer\n",
      "Loss with A alone: Loss A [1.7175044, 1.7657976, 1.7270497, 1.7170832]\n",
      "Loss with A and L: Loss LA [1.6966096, 1.7140594, 1.7163668, 1.7106428]\n",
      " Difference(minimum from Loss A - minimum from Loss LA)  0.0204736\n",
      "Permutation  85\n",
      "Loss Order: Random,L=0 tranfer, L= 1 tranfer, Full data transfer\n",
      "Loss with A alone: Loss A [1.7218096, 1.7399708, 1.7333701, 1.7172683]\n",
      "Loss with A and L: Loss LA [1.7092915, 1.7144111, 1.7148751, 1.7161479]\n",
      " Difference(minimum from Loss A - minimum from Loss LA)  0.00797689\n",
      "Permutation  86\n",
      "Loss Order: Random,L=0 tranfer, L= 1 tranfer, Full data transfer\n"
     ]
    },
    {
     "name": "stdout",
     "output_type": "stream",
     "text": [
      "Loss with A alone: Loss A [1.7208354, 1.7415024, 1.7298248, 1.7202548]\n",
      "Loss with A and L: Loss LA [1.7167156, 1.7117391, 1.7151234, 1.7168182]\n",
      " Difference(minimum from Loss A - minimum from Loss LA)  0.008515716\n",
      "Permutation  87\n",
      "Loss Order: Random,L=0 tranfer, L= 1 tranfer, Full data transfer\n",
      "Loss with A alone: Loss A [1.7210358, 1.7482216, 1.7280008, 1.7215002]\n",
      "Loss with A and L: Loss LA [1.7142851, 1.7135136, 1.713751, 1.7168394]\n",
      " Difference(minimum from Loss A - minimum from Loss LA)  0.0075222254\n",
      "Permutation  88\n",
      "Loss Order: Random,L=0 tranfer, L= 1 tranfer, Full data transfer\n",
      "Loss with A alone: Loss A [1.7157615, 1.7637085, 1.7385316, 1.7293959]\n",
      "Loss with A and L: Loss LA [1.7108396, 1.7162703, 1.7115474, 1.7216687]\n",
      " Difference(minimum from Loss A - minimum from Loss LA)  0.004921913\n",
      "Permutation  89\n",
      "Loss Order: Random,L=0 tranfer, L= 1 tranfer, Full data transfer\n",
      "Loss with A alone: Loss A [1.7244627, 1.744829, 1.7340293, 1.7226834]\n",
      "Loss with A and L: Loss LA [1.7150633, 1.7155629, 1.7194629, 1.7199287]\n",
      " Difference(minimum from Loss A - minimum from Loss LA)  0.007620096\n",
      "Permutation  90\n",
      "Loss Order: Random,L=0 tranfer, L= 1 tranfer, Full data transfer\n",
      "Loss with A alone: Loss A [1.7209866, 1.7438097, 1.7274011, 1.7187968]\n",
      "Loss with A and L: Loss LA [1.6968526, 1.7114191, 1.7132992, 1.7138118]\n",
      " Difference(minimum from Loss A - minimum from Loss LA)  0.021944284\n",
      "Permutation  91\n",
      "Loss Order: Random,L=0 tranfer, L= 1 tranfer, Full data transfer\n",
      "Loss with A alone: Loss A [1.7229407, 1.7591885, 1.7270226, 1.7202833]\n",
      "Loss with A and L: Loss LA [1.709734, 1.7161182, 1.7170376, 1.7165787]\n",
      " Difference(minimum from Loss A - minimum from Loss LA)  0.010549307\n",
      "Permutation  92\n",
      "Loss Order: Random,L=0 tranfer, L= 1 tranfer, Full data transfer\n",
      "Loss with A alone: Loss A [1.7270148, 1.7581992, 1.7268738, 1.724129]\n",
      "Loss with A and L: Loss LA [1.711415, 1.7221797, 1.718944, 1.7195535]\n",
      " Difference(minimum from Loss A - minimum from Loss LA)  0.012713909\n",
      "Permutation  93\n",
      "Loss Order: Random,L=0 tranfer, L= 1 tranfer, Full data transfer\n",
      "Loss with A alone: Loss A [1.724663, 1.7646627, 1.7485367, 1.7231249]\n",
      "Loss with A and L: Loss LA [1.7096066, 1.722789, 1.7191617, 1.7212822]\n",
      " Difference(minimum from Loss A - minimum from Loss LA)  0.013518214\n",
      "Permutation  94\n",
      "Loss Order: Random,L=0 tranfer, L= 1 tranfer, Full data transfer\n",
      "Loss with A alone: Loss A [1.727413, 1.7513512, 1.7281989, 1.7191833]\n",
      "Loss with A and L: Loss LA [1.7148334, 1.7162454, 1.7176446, 1.7160814]\n",
      " Difference(minimum from Loss A - minimum from Loss LA)  0.004349947\n",
      "Permutation  95\n",
      "Loss Order: Random,L=0 tranfer, L= 1 tranfer, Full data transfer\n",
      "Loss with A alone: Loss A [1.7228584, 1.7448118, 1.726071, 1.7217388]\n",
      "Loss with A and L: Loss LA [1.7107806, 1.713226, 1.7209712, 1.7174712]\n",
      " Difference(minimum from Loss A - minimum from Loss LA)  0.010958195\n",
      "Permutation  96\n",
      "Loss Order: Random,L=0 tranfer, L= 1 tranfer, Full data transfer\n",
      "Loss with A alone: Loss A [1.7172054, 1.7504878, 1.7266976, 1.7178292]\n",
      "Loss with A and L: Loss LA [1.7079039, 1.7163167, 1.7131855, 1.7148792]\n",
      " Difference(minimum from Loss A - minimum from Loss LA)  0.009301543\n",
      "Permutation  97\n",
      "Loss Order: Random,L=0 tranfer, L= 1 tranfer, Full data transfer\n",
      "Loss with A alone: Loss A [1.7202983, 1.7482831, 1.731733, 1.721108]\n",
      "Loss with A and L: Loss LA [1.7111067, 1.7186058, 1.7195061, 1.715989]\n",
      " Difference(minimum from Loss A - minimum from Loss LA)  0.009191632\n",
      "Permutation  98\n",
      "Loss Order: Random,L=0 tranfer, L= 1 tranfer, Full data transfer\n",
      "Loss with A alone: Loss A [1.7196499, 1.7453336, 1.7230005, 1.7211587]\n",
      "Loss with A and L: Loss LA [1.7151983, 1.7168487, 1.7192276, 1.7187502]\n",
      " Difference(minimum from Loss A - minimum from Loss LA)  0.0044516325\n",
      "Permutation  99\n",
      "Loss Order: Random,L=0 tranfer, L= 1 tranfer, Full data transfer\n",
      "Loss with A alone: Loss A [1.7193345, 1.7405801, 1.7368416, 1.7218287]\n",
      "Loss with A and L: Loss LA [1.7078406, 1.7179022, 1.7198833, 1.7177331]\n",
      " Difference(minimum from Loss A - minimum from Loss LA)  0.011493921\n"
     ]
    }
   ],
   "source": [
    "loper=thirdtestperm(L,A,B,100)"
   ]
  },
  {
   "cell_type": "code",
   "execution_count": 54,
   "metadata": {},
   "outputs": [
    {
     "data": {
      "text/plain": [
       "[0.008120656,\n",
       " 0.007902145,\n",
       " 0.0050154924,\n",
       " 0.0216465,\n",
       " 0.008078814,\n",
       " 0.008609176,\n",
       " 0.013999939,\n",
       " 0.0059826374,\n",
       " 0.0093199015,\n",
       " 0.0070023537,\n",
       " 0.017028451,\n",
       " 0.011233568,\n",
       " 0.011437893,\n",
       " 0.00800395,\n",
       " 0.0066559315,\n",
       " 0.014075756,\n",
       " 0.0054831505,\n",
       " 0.008024454,\n",
       " 0.006153822,\n",
       " 0.009674072,\n",
       " 0.0030277967,\n",
       " 0.009283185,\n",
       " 0.0077342987,\n",
       " 0.0062949657,\n",
       " 0.011068702,\n",
       " 0.014976859,\n",
       " 0.018102884,\n",
       " 0.0060317516,\n",
       " 0.008397341,\n",
       " 0.01538837,\n",
       " 0.0101828575,\n",
       " 0.006387949,\n",
       " 0.008796096,\n",
       " 0.005020261,\n",
       " 0.007627368,\n",
       " 0.008945823,\n",
       " 0.016292453,\n",
       " 0.016316652,\n",
       " 0.0073610544,\n",
       " 0.011003852,\n",
       " 0.011715651,\n",
       " 0.007461667,\n",
       " 0.0059274435,\n",
       " 0.012510538,\n",
       " 0.016274571,\n",
       " 0.008564949,\n",
       " 0.004344225,\n",
       " 0.020432234,\n",
       " 0.00662899,\n",
       " 0.019727468,\n",
       " 0.0096770525,\n",
       " 0.0034928322,\n",
       " 0.006540656,\n",
       " 0.006096959,\n",
       " 0.018046856,\n",
       " 0.007998347,\n",
       " 0.011338949,\n",
       " 0.009072661,\n",
       " 0.015032291,\n",
       " 0.0071139336,\n",
       " 0.011583805,\n",
       " 0.019781351,\n",
       " 0.0071798563,\n",
       " 0.0062212944,\n",
       " 0.01186955,\n",
       " 0.01036191,\n",
       " 0.008970618,\n",
       " 0.012630343,\n",
       " 0.020332217,\n",
       " 0.0053400993,\n",
       " 0.0048810244,\n",
       " 0.008520961,\n",
       " 0.011230946,\n",
       " 0.016030192,\n",
       " 0.014245868,\n",
       " 0.013315558,\n",
       " 0.0038801432,\n",
       " 0.004371047,\n",
       " 0.0065102577,\n",
       " 0.006602168,\n",
       " 0.017668366,\n",
       " 0.015217185,\n",
       " 0.015453696,\n",
       " 0.0133981705,\n",
       " 0.0204736,\n",
       " 0.00797689,\n",
       " 0.008515716,\n",
       " 0.0075222254,\n",
       " 0.004921913,\n",
       " 0.007620096,\n",
       " 0.021944284,\n",
       " 0.010549307,\n",
       " 0.012713909,\n",
       " 0.013518214,\n",
       " 0.004349947,\n",
       " 0.010958195,\n",
       " 0.009301543,\n",
       " 0.009191632,\n",
       " 0.0044516325,\n",
       " 0.011493921]"
      ]
     },
     "execution_count": 54,
     "metadata": {},
     "output_type": "execute_result"
    }
   ],
   "source": [
    "loper"
   ]
  },
  {
   "cell_type": "code",
   "execution_count": 55,
   "metadata": {},
   "outputs": [
    {
     "data": {
      "text/plain": [
       "0.008734703"
      ]
     },
     "execution_count": 55,
     "metadata": {},
     "output_type": "execute_result"
    }
   ],
   "source": [
    "lorig[0]"
   ]
  },
  {
   "cell_type": "code",
   "execution_count": 57,
   "metadata": {},
   "outputs": [],
   "source": [
    "tes=[1 if i<lorig[0]  else 0 for i in loper  ]"
   ]
  },
  {
   "cell_type": "code",
   "execution_count": 58,
   "metadata": {},
   "outputs": [
    {
     "data": {
      "text/plain": [
       "47"
      ]
     },
     "execution_count": 58,
     "metadata": {},
     "output_type": "execute_result"
    }
   ],
   "source": [
    "sum(tes)"
   ]
  },
  {
   "cell_type": "code",
   "execution_count": 33,
   "metadata": {},
   "outputs": [],
   "source": [
    "#function to train the data for each configuration \n",
    "def trainthirdtest(L,A,B,halfdata,loss_Aalone,loss_AL,transfer=False,half=None):\n",
    "    AL=np.concatenate([L.reshape(-1,1),A.reshape(-1,1)],axis=1)\n",
    "    if half==None:\n",
    "        mdn,loss=modeltrain(reshapevar(A),B.T)\n",
    "        loss_Aalone.append(loss)\n",
    "        weights=None\n",
    "        if transfer==True :\n",
    "            weights=calculateweights(mdn)\n",
    "        mdn,loss=modeltrain(AL,B.T,weights)\n",
    "        loss_AL.append(loss)\n",
    "    elif half==1:\n",
    "        Aalone_L1=halfdata[0]\n",
    "        Balone_L1=halfdata[3]\n",
    "        mdn,loss=modeltrain(reshapevar(Aalone_L1),Balone_L1.T)\n",
    "        y_pred = mdn.predict(reshapevar(A))\n",
    "        alpha,mu,sigma = slice_parameter_vectors(y_pred)\n",
    "        gm = tfd.MixtureSameFamily(\n",
    "            mixture_distribution=tfd.Categorical(probs=alpha),\n",
    "            components_distribution=tfd.Normal(\n",
    "                loc=mu,       \n",
    "                scale=sigma))\n",
    "        log_likelihood = gm.log_prob(B.T).numpy()\n",
    "        loss_o = -tf.reduce_mean(log_likelihood, axis=-1).numpy()\n",
    "        loss_Aalone.append(loss_o)\n",
    "        weights=None\n",
    "        if transfer==True :\n",
    "            weights=calculateweights(mdn)\n",
    "        mdn,loss=modeltrain(AL,B.T,weights)\n",
    "        loss_AL.append(loss)\n",
    "    elif half==0:\n",
    "        Aalone_L0=halfdata[1]\n",
    "        Balone_L0=halfdata[2]\n",
    "        mdn,loss=modeltrain(reshapevar(Aalone_L0),Balone_L0.T)\n",
    "        y_pred = mdn.predict(reshapevar(A))\n",
    "        alpha,mu,sigma = slice_parameter_vectors(y_pred)\n",
    "        gm = tfd.MixtureSameFamily(\n",
    "        mixture_distribution=tfd.Categorical(probs=alpha),\n",
    "        components_distribution=tfd.Normal(\n",
    "            loc=mu,       \n",
    "            scale=sigma))\n",
    "        log_likelihood = gm.log_prob(B.T).numpy()\n",
    "        loss_o = -tf.reduce_mean(log_likelihood, axis=-1).numpy()\n",
    "        loss_Aalone.append(loss_o)\n",
    "        weights=None\n",
    "        if transfer==True :\n",
    "            weights=calculateweights(mdn)\n",
    "        mdn,loss=modeltrain(AL,B.T,weights)\n",
    "       \n",
    "        loss_AL.append(loss)\n",
    "    "
   ]
  },
  {
   "cell_type": "code",
   "execution_count": null,
   "metadata": {},
   "outputs": [],
   "source": [
    "def transferweights(L,A,B,n):\n",
    "    #train the A->B model\n",
    "    opt = tf.optimizers.SGD(1e-3)\n",
    "    mdn_PQ = MDN_module()\n",
    "    #calculate the prediction and the loss \n",
    "    mdn_PQ.compile(loss=gnll_loss, optimizer=opt)\n",
    "    withoutL=mdn_PQ.fit(x=reshapevar(A), y=B.T,epochs=100,batch_size=32,verbose=0)\n",
    "    y_pred = mdn_PQ.predict(reshapevar(A))\n",
    "    alpha,mu,sigma = slice_parameter_vectors(y_pred)\n",
    "    gm = tfd.MixtureSameFamily(\n",
    "            mixture_distribution=tfd.Categorical(probs=alpha),\n",
    "            components_distribution=tfd.Normal(\n",
    "                loc=mu,       \n",
    "                scale=sigma))\n",
    "    log_likelihood = gm.log_prob(B).numpy()\n",
    "    loss_o = -tf.reduce_mean(log_likelihood, axis=-1).numpy()\n",
    "    #get the weights of A\n",
    "    weightofa=mdn_PQ.layers[0].get_weights()[0][0]\n",
    "    #get the bias\n",
    "    biasweight=mdn_PQ.layers[0].get_weights()[1]\n",
    "    #set the weights of L as zero \n",
    "    weightofL=np.zeros(15,dtype=np.float32)\n",
    "    #combine the weights of L and A\n",
    "    combinedweight=np.array([weightofL,weightofa])\n",
    "    #combine the weights and biases\n",
    "    layer0weightrans=[combinedweight,biasweight]\n",
    "    #only for one epoch just to get the weights \n",
    "    opt = tf.optimizers.SGD(1e-3)\n",
    "    mdn_trans = MDN_module()\n",
    "    mdn_trans.compile(loss=gnll_loss, optimizer=opt)\n",
    "    mdn_trans.fit(x=np.concatenate([L.reshape(-1,1),A.reshape(-1,1)],axis=1), y=B.T,epochs=1,  batch_size=32,verbose=0)\n",
    "    y_pred = mdn_trans.predict(np.concatenate([L.reshape(-1,1),A.reshape(-1,1)],axis=1))\n",
    "\n",
    "\n",
    "    mdn_trans.layers[0].set_weights(layer0weightrans)\n",
    "\n",
    "    a=mdn_PQ.layers[1].get_weights()\n",
    "    mdn_trans.layers[1].set_weights(a)  \n",
    "    a=mdn_PQ.layers[2].get_weights()\n",
    "    mdn_trans.layers[2].set_weights(a)  \n",
    "    a=mdn_PQ.layers[3].get_weights()\n",
    "    mdn_trans.layers[3].set_weights(a)  \n",
    "    a=mdn_PQ.layers[4].get_weights()\n",
    "    mdn_trans.layers[4].set_weights(a)  \n",
    "    a=mdn_PQ.layers[5].get_weights()\n",
    "    mdn_trans.layers[5].set_weights(a)  \n",
    "    #after setting the weights train it for 100 epochs with L also as input\n",
    "    mdn_trans.fit(x=np.concatenate([L.reshape(-1,1),A.reshape(-1,1)],axis=1), y=B.T,epochs=100,  batch_size=32,verbose=0)\n",
    "    y_pred = mdn_trans.predict(np.concatenate([L.reshape(-1,1),A.reshape(-1,1)],axis=1))\n",
    "    alpha,mu,sigma = slice_parameter_vectors(y_pred)\n",
    "    gm = tfd.MixtureSameFamily(\n",
    "            mixture_distribution=tfd.Categorical(probs=alpha),\n",
    "            components_distribution=tfd.Normal(\n",
    "                loc=mu,       \n",
    "                scale=sigma))\n",
    "    log_likelihood = gm.log_prob(B).numpy()\n",
    "    loss_o_L= -tf.reduce_mean(log_likelihood, axis=-1).numpy()\n",
    "    trueloss= loss_o-loss_o_L\n",
    "\n",
    "    loss=[]\n",
    "    indices_1 = [i for i, x in enumerate(L) if x == 1]\n",
    "    #changin x==0 to x=-1\n",
    "    indices_0 = [i for i, x in enumerate(L) if x == 0]\n",
    "    for i in range(0,n):\n",
    "        B_dist_temp=np.zeros(len(B))\n",
    "        mod_indices_1=random.sample(indices_1,len(indices_1))\n",
    "        for i in range(len(indices_1)):\n",
    "            B_dist_temp[indices_1[i]]=B[mod_indices_1[i]]\n",
    "\n",
    "        mod_indices_0=random.sample(indices_0,len(indices_0))\n",
    "        for i in range(len(indices_0)):\n",
    "            B_dist_temp[indices_0[i]]=B[mod_indices_0[i]]\n",
    "\n",
    "\n",
    "        #train A-> Bstratified \n",
    "        opt = tf.optimizers.SGD(1e-3)\n",
    "        mdn_PQ = MDN_module()\n",
    "\n",
    "        mdn_PQ.compile(loss=gnll_loss, optimizer=opt)\n",
    "        mdn_PQ.fit(x=reshapevar(A), y=B_dist_temp.T,epochs=100,batch_size=32,verbose=0)\n",
    "        y_pred = mdn_PQ.predict(reshapevar(A))\n",
    "\n",
    "        alpha,mu,sigma = slice_parameter_vectors(y_pred)\n",
    "        gm = tfd.MixtureSameFamily(\n",
    "                mixture_distribution=tfd.Categorical(probs=alpha),\n",
    "                components_distribution=tfd.Normal(\n",
    "                    loc=mu,       \n",
    "                    scale=sigma))\n",
    "        log_likelihood = gm.log_prob(B_dist_temp).numpy()\n",
    "        loss_o_strat= -tf.reduce_mean(log_likelihood, axis=-1).numpy()\n",
    "\n",
    "        #get the weights of A\n",
    "        weightofa=mdn_PQ.layers[0].get_weights()[0][0]\n",
    "        #get the bias\n",
    "        biasweight=mdn_PQ.layers[0].get_weights()[1]\n",
    "        #set the weights of L as zero \n",
    "        weightofL=np.zeros(15,dtype=np.float32)\n",
    "        #combine the weights of L and A\n",
    "        combinedweight=np.array([weightofL,weightofa])\n",
    "        #combine the weights and biases\n",
    "        layer0weightrans=[combinedweight,biasweight]\n",
    "\n",
    "        #only for one epoch just to get the weights \n",
    "        opt = tf.optimizers.SGD(1e-3)\n",
    "        mdn_trans = MDN_module()\n",
    "        mdn_trans.compile(loss=gnll_loss, optimizer=opt)\n",
    "        mdn_trans.fit(x=np.concatenate([L.reshape(-1,1),A.reshape(-1,1)],axis=1), y=B_dist_temp.T,epochs=1,  batch_size=32,verbose=0)\n",
    "        y_pred = mdn_trans.predict(np.concatenate([L.reshape(-1,1),A.reshape(-1,1)],axis=1))\n",
    "\n",
    "\n",
    "        mdn_trans.layers[0].set_weights(layer0weightrans)\n",
    "\n",
    "        a=mdn_PQ.layers[1].get_weights()\n",
    "        mdn_trans.layers[1].set_weights(a)  \n",
    "        a=mdn_PQ.layers[2].get_weights()\n",
    "        mdn_trans.layers[2].set_weights(a)  \n",
    "        a=mdn_PQ.layers[3].get_weights()\n",
    "        mdn_trans.layers[3].set_weights(a)  \n",
    "        a=mdn_PQ.layers[4].get_weights()\n",
    "        mdn_trans.layers[4].set_weights(a)  \n",
    "        a=mdn_PQ.layers[5].get_weights()\n",
    "        mdn_trans.layers[5].set_weights(a)  \n",
    "        #train it for 100 epochs after setting the weights \n",
    "\n",
    "        mdn_trans.fit(x=np.concatenate([L.reshape(-1,1),A.reshape(-1,1)],axis=1), y=B_dist_temp.T,epochs=100,  batch_size=32,verbose=0)\n",
    "        y_pred = mdn_trans.predict(np.concatenate([L.reshape(-1,1),A.reshape(-1,1)],axis=1))\n",
    "\n",
    "        alpha,mu,sigma = slice_parameter_vectors(y_pred)\n",
    "        gm = tfd.MixtureSameFamily(\n",
    "                mixture_distribution=tfd.Categorical(probs=alpha),\n",
    "                components_distribution=tfd.Normal(\n",
    "                    loc=mu,       \n",
    "                    scale=sigma))\n",
    "        log_likelihood = gm.log_prob(B_dist_temp).numpy()\n",
    "        loss_o_strat_L= -tf.reduce_mean(log_likelihood, axis=-1).numpy()\n",
    "        loss.append(loss_o_strat-loss_o_strat_L)\n",
    "    return trueloss,loss"
   ]
  },
  {
   "cell_type": "code",
   "execution_count": null,
   "metadata": {},
   "outputs": [],
   "source": [
    "n=100\n",
    "t,l=transferweights(L,A,B,n)"
   ]
  }
 ],
 "metadata": {
  "colab": {
   "collapsed_sections": [],
   "name": "CITNonLinear.ipynb",
   "provenance": []
  },
  "kernelspec": {
   "display_name": "Python 3 (ipykernel)",
   "language": "python",
   "name": "python3"
  },
  "language_info": {
   "codemirror_mode": {
    "name": "ipython",
    "version": 3
   },
   "file_extension": ".py",
   "mimetype": "text/x-python",
   "name": "python",
   "nbconvert_exporter": "python",
   "pygments_lexer": "ipython3",
   "version": "3.9.7"
  }
 },
 "nbformat": 4,
 "nbformat_minor": 1
}
