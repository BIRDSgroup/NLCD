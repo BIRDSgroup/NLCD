{
 "cells": [
  {
   "cell_type": "code",
   "execution_count": 110,
   "metadata": {
    "colab": {
     "base_uri": "https://localhost:8080/"
    },
    "id": "qd6CiVe-jyEn",
    "outputId": "b4187c26-21ff-4edc-e194-db58fd55f233"
   },
   "outputs": [],
   "source": [
    "#loading the libraries\n",
    "from tensorflow_probability import distributions as tfd\n",
    "import tensorflow as tf\n",
    "from tensorflow.keras.layers import Input, Dense, Activation, Concatenate\n",
    "\n",
    "from sklearn.linear_model import LinearRegression\n",
    "from sklearn.model_selection import train_test_split\n",
    "from sklearn.preprocessing import MinMaxScaler\n",
    "from sklearn.datasets import load_boston\n",
    "from sklearn.linear_model import LinearRegression\n",
    "import matplotlib.pyplot as plt\n",
    "import seaborn as sns\n",
    "import random\n",
    "import numpy as np\n",
    "import statsmodels.api as sm\n",
    "import pickle\n",
    "from sklearn.feature_selection import mutual_info_regression\n",
    "from scipy import stats\n",
    "import rpy2"
   ]
  },
  {
   "cell_type": "code",
   "execution_count": 112,
   "metadata": {
    "id": "OxvAXLLFnl7d"
   },
   "outputs": [],
   "source": [
    "#defining the class MDN\n",
    "class MDN_module(tf.keras.Model):\n",
    "\n",
    "    def __init__(self, neurons=15, components = 1):\n",
    "        super(MDN_module, self).__init__(name=\"MDN_module\")\n",
    "        self.neurons = neurons\n",
    "        self.components = components\n",
    "\n",
    "        #chaging activation to relu from linear, changin relu to sigmoid \n",
    "        for i in range(1,3):\n",
    "          s=\"self\"+\".h\"+str(i)+\"= Dense(neurons, activation=\\\"relu\\\", name=\"+\"'h\"+str(i)+\"')\"\n",
    "          exec(s)\n",
    "        self.alphas = Dense(components, activation=\"softmax\", name=\"alphas\")\n",
    "        self.mus = Dense(components, activation=\"linear\",name=\"mus\") \n",
    "        self.sigmas = Dense(components, activation=\"nnelu\",name=\"sigmas\") #activation changed from linear to default\n",
    "        self.pvec = Concatenate(name=\"pvec\")\n",
    "        \n",
    "    def call(self, inputs):\n",
    "        x=self.h1(inputs)\n",
    "        #x=self.inputA(inputs)\n",
    "        x=self.h2(x)\n",
    "        alpha_v = self.alphas(x)\n",
    "        mu_v = self.mus(x)\n",
    "        sigma_v = self.sigmas(x)\n",
    "        \n",
    "        return self.pvec([alpha_v,mu_v, sigma_v])"
   ]
  },
  {
   "cell_type": "code",
   "execution_count": 113,
   "metadata": {
    "id": "7DSPXmR1ogiH"
   },
   "outputs": [],
   "source": [
    "no_parameters=3\n",
    "components=1\n",
    "def nnelu(input):\n",
    "    \"\"\" Computes the Non-Negative Exponential Linear Unit\n",
    "    \"\"\"\n",
    "    return tf.add(tf.constant(1, dtype=tf.float32), tf.nn.elu(input))\n",
    "\n",
    "def slice_parameter_vectors(parameter_vector):\n",
    "    \"\"\" Returns an unpacked list of paramter vectors.\n",
    "    \"\"\"\n",
    "    return [parameter_vector[:,i*components:(i+1\n",
    "    )*components] for i in range(no_parameters)]\n",
    "\n",
    "def gnll_loss(y, parameter_vector):\n",
    "    \"\"\" Computes the mean negative log-likelihood loss of y given the mixture parameters.\n",
    "    \"\"\"\n",
    "    alpha,mu,sigma = slice_parameter_vectors(parameter_vector) # Unpack parameter vectors\n",
    "    #tf.print(sigma)\n",
    "    gm = tfd.MixtureSameFamily(\n",
    "           mixture_distribution=tfd.Categorical(probs=alpha),\n",
    "           components_distribution=tfd.Normal(\n",
    "           loc=mu,       \n",
    "           scale=sigma))\n",
    "    \n",
    "    \n",
    "    \n",
    "    log_likelihood =  gm.log_prob(tf.transpose(y)) # Evaluate log-probability of y \n",
    "    return -tf.reduce_mean(log_likelihood, axis=-1) \n",
    "\n",
    "tf.keras.utils.get_custom_objects().update({'nnelu': Activation(nnelu)})\n",
    "\n",
    "def gnll_eval(y,alpha, mu, sigma):\n",
    "    \"\"\" Computes the mean negative log-likelihood loss of y given the mixture parameters.\n",
    "    \"\"\"\n",
    "    #print(alpha)\n",
    "    gm = tfd.MixtureSameFamily(\n",
    "        mixture_distribution=tfd.Categorical(probs=alpha),\n",
    "        components_distribution=tfd.Normal(\n",
    "            loc=mu,       \n",
    "            scale=sigma))\n",
    "    log_likelihood = gm.log_prob(tf.transpose(y))\n",
    "    return -tf.reduce_mean(log_likelihood, axis=-1)\n",
    "\n",
    "\n",
    "def eval_mdn_model(x_test, y_test, mdn_model):\n",
    "    \"\"\" Evaluate the model to get the loss for the given x and y \n",
    "    \"\"\"\n",
    "    y_pred = mdn_model.predict(np.reshape(x_test,newshape=(len(x_test),-1)))\n",
    "    alpha,mu,sigma = slice_parameter_vectors(y_pred)\n",
    "    mdn_nll = gnll_eval(y_test.astype(np.float32),alpha, mu, sigma).numpy()\n",
    "    return mdn_nll\n",
    "#reshapefunction\n",
    "def eval_mdn_model_mle(x_test,y_test):\n",
    "        indices_1 = [i for i, x in enumerate(x_test) if x == 1]\n",
    "        indices_0 = [i for i, x in enumerate(x_test) if x == 0]\n",
    "        mu_0=np.mean(y_test[indices_0])\n",
    "        mu_1=np.mean(y_test[indices_1])\n",
    "        sigma_0=np.std(y_test[indices_0])\n",
    "        sigma_1=np.std(y_test[indices_1])\n",
    "        y_mean=np.zeros((len(y_test),1))\n",
    "        y_mean[indices_1]=mu_1\n",
    "        y_mean[indices_0]=mu_0\n",
    "        y_std=np.zeros((len(y_test),1))\n",
    "        y_std[indices_1]=sigma_1\n",
    "        y_std[indices_0]=sigma_0\n",
    "        alpha=np.ones((len(y_mean),1))\n",
    "        return gnll_eval(y_test,alpha,y_mean,y_std).numpy()\n",
    "    \n",
    "def reshapevar(X):\n",
    "  \"\"\"\n",
    "  Function to reshape the vector for the input \n",
    "  \"\"\"\n",
    "  return np.reshape(X,newshape=(len(X),-1))"
   ]
  },
  {
   "cell_type": "code",
   "execution_count": 4,
   "metadata": {
    "id": "T6sJ7ffirsnB"
   },
   "outputs": [],
   "source": [
    "def compute_loss(P,Q,mle=False):\n",
    "    \"\"\" Compute the loss for the given pair\n",
    "    \"\"\"\n",
    "    if(mle==False):\n",
    "        opt = tf.optimizers.Adam(1e-2)\n",
    "        mdn_PQ = MDN_module()\n",
    "        mdn_PQ.compile(loss=gnll_loss, optimizer=opt)\n",
    "        mdn_PQ.fit(x=reshapevar(P), y=np.array(Q).T,epochs=100,  batch_size=64,verbose=0)\n",
    "        #return np.array(nlcor.nlcor(P,Q)[0])[0]\n",
    "        return eval_mdn_model(P,Q,mdn_PQ)\n",
    "    else:\n",
    "        return eval_mdn_model_mle(P,Q)\n",
    "        \n",
    "        \n",
    "        \n"
   ]
  },
  {
   "cell_type": "code",
   "execution_count": 5,
   "metadata": {},
   "outputs": [],
   "source": [
    "def compute_loss_y_pred(P,Q,mle=False):\n",
    "    \"\"\" Compute the loss for the given pair\n",
    "    \"\"\"\n",
    "    if(mle==False):\n",
    "        opt = tf.optimizers.Adam(1e-2)\n",
    "        mdn_PQ = MDN_module()\n",
    "        mdn_PQ.compile(loss=gnll_loss, optimizer=opt)\n",
    "        mdn_PQ.fit(x=reshapevar(P), y=np.array(Q).T,epochs=100,  batch_size=64,verbose=0)\n",
    "        y_pred = mdn_PQ.predict(np.reshape(P,newshape=(len(P),-1)))\n",
    "        return y_pred[:,1]\n",
    "    else:\n",
    "        indices_1 = [i for i, x in enumerate(P) if x == 1]\n",
    "        indices_0 = [i for i, x in enumerate(P) if x == 0]\n",
    "        mu_0=np.mean(Q[indices_0])\n",
    "        mu_1=np.mean(Q[indices_1])\n",
    "        #sigma_0=np.std(Q[indices_0])\n",
    "        #sigma_1=np.std(Q[indices_1])\n",
    "        y_mean=np.zeros((len(Q),1))\n",
    "        y_mean[indices_1]=mu_1\n",
    "        y_mean[indices_0]=mu_0\n",
    "        return y_mean.reshape((len(y_mean),))\n",
    "        "
   ]
  },
  {
   "cell_type": "code",
   "execution_count": 6,
   "metadata": {
    "id": "X6V8X2QFpmC7"
   },
   "outputs": [],
   "source": [
    "def shuffleBtimes(P,Q,B,mle=False):\n",
    "    \"\"\" Shuffle Q B times and compute the loss \n",
    "    \"\"\"\n",
    "    loss=[]\n",
    "    if(mle==False):\n",
    "        for i in range(0,B):\n",
    "          loss.append(compute_loss(P,np.random.permutation(Q)))\n",
    "    else:\n",
    "        for i in range(0,B):\n",
    "          loss.append(compute_loss(P,np.random.permutation(Q),True))\n",
    "    return loss\n"
   ]
  },
  {
   "cell_type": "code",
   "execution_count": 7,
   "metadata": {
    "id": "iUW3ikOHu6PO"
   },
   "outputs": [],
   "source": [
    "def LinearLABData():\n",
    "    \"\"\" Generate the linear data \n",
    "    \"\"\"\n",
    "    L = np.random.binomial(1,0.5,1000)  \n",
    "    beta0 = np.ones(1000)-0.4\n",
    "    #beta1 = 0.5\n",
    "    beta1=3\n",
    "    beta2= 0.3\n",
    "    beta3=0.8\n",
    "    #eps0 = np.random.standard_normal(1000)\n",
    "    #eps1 = np.random.standard_normal(1000)\n",
    "    eps0 = np.random.normal(0,1,1000)\n",
    "    eps1 = np.random.normal(0,1,1000)\n",
    "    A = beta0 + beta1*L + eps0\n",
    "    #B=beta2+beta3*np.sin(A)+eps1\n",
    "    B = beta2+ beta3*A + eps1 \n",
    "    plt.scatter(A,B)\n",
    "    plt.title(\"A vs B\")\n",
    "    plt.xlabel(\"A\")\n",
    "    plt.ylabel(\"B\")\n",
    "    return [L,A,B]"
   ]
  },
  {
   "cell_type": "code",
   "execution_count": 150,
   "metadata": {},
   "outputs": [
    {
     "name": "stdout",
     "output_type": "stream",
     "text": [
      "tf.Tensor(1.418004, shape=(), dtype=float32)\n"
     ]
    }
   ],
   "source": [
    "#def conditional_independence():\n",
    "opt = tf.optimizers.Adam(1e-2)\n",
    "mdn_PQ = MDN_module()\n",
    "mdn_PQ.compile(loss=gnll_loss, optimizer=opt)\n",
    "##changing epochs didnt make much difference\n",
    "\n",
    "#mdn_PQ.fit(x=C, y=np.array(B).T,epochs=300,  batch_size=64)\n",
    "withoutL=mdn_PQ.fit(x=reshapevar(A), y=np.array(B).T,epochs=100,  batch_size=64,verbose=0)\n",
    "y_pred = mdn_PQ.predict(reshapevar(A))\n",
    "alpha,mu,sigma = slice_parameter_vectors(y_pred)\n",
    "gm = tfd.MixtureSameFamily(\n",
    "        mixture_distribution=tfd.Categorical(probs=alpha),\n",
    "        components_distribution=tfd.Normal(\n",
    "            loc=mu,       \n",
    "            scale=sigma))\n",
    "log_likelihood = gm.log_prob(np.array(B)).numpy()\n",
    "print(-tf.reduce_mean(log_likelihood, axis=-1))\n",
    "\n",
    "    #y_pred = mdn_PQ.predict(np.reshape(P,newshape=(len(P),-1)))"
   ]
  },
  {
   "cell_type": "code",
   "execution_count": 151,
   "metadata": {},
   "outputs": [
    {
     "data": {
      "text/plain": [
       "1.4375391006469727"
      ]
     },
     "execution_count": 151,
     "metadata": {},
     "output_type": "execute_result"
    }
   ],
   "source": [
    "withoutL.history['loss'][-1]"
   ]
  },
  {
   "cell_type": "code",
   "execution_count": 152,
   "metadata": {},
   "outputs": [
    {
     "name": "stdout",
     "output_type": "stream",
     "text": [
      "Epoch 1/100\n",
      "16/16 [==============================] - 0s 873us/step - loss: 3.0172\n",
      "Epoch 2/100\n",
      "16/16 [==============================] - 0s 897us/step - loss: 1.9222\n",
      "Epoch 3/100\n",
      "16/16 [==============================] - 0s 822us/step - loss: 1.6232\n",
      "Epoch 4/100\n",
      "16/16 [==============================] - 0s 1ms/step - loss: 1.4597\n",
      "Epoch 5/100\n",
      "16/16 [==============================] - 0s 925us/step - loss: 1.4398\n",
      "Epoch 6/100\n",
      "16/16 [==============================] - 0s 915us/step - loss: 1.4353\n",
      "Epoch 7/100\n",
      "16/16 [==============================] - 0s 967us/step - loss: 1.4347\n",
      "Epoch 8/100\n",
      "16/16 [==============================] - 0s 1ms/step - loss: 1.4239\n",
      "Epoch 9/100\n",
      "16/16 [==============================] - 0s 1ms/step - loss: 1.4287\n",
      "Epoch 10/100\n",
      "16/16 [==============================] - 0s 1ms/step - loss: 1.4285\n",
      "Epoch 11/100\n",
      "16/16 [==============================] - 0s 1ms/step - loss: 1.4166\n",
      "Epoch 12/100\n",
      "16/16 [==============================] - 0s 1ms/step - loss: 1.4251\n",
      "Epoch 13/100\n",
      "16/16 [==============================] - 0s 1ms/step - loss: 1.4252\n",
      "Epoch 14/100\n",
      "16/16 [==============================] - 0s 1ms/step - loss: 1.4272\n",
      "Epoch 15/100\n",
      "16/16 [==============================] - 0s 1ms/step - loss: 1.4224\n",
      "Epoch 16/100\n",
      "16/16 [==============================] - 0s 1ms/step - loss: 1.4227\n",
      "Epoch 17/100\n",
      "16/16 [==============================] - 0s 1ms/step - loss: 1.4181\n",
      "Epoch 18/100\n",
      "16/16 [==============================] - 0s 1ms/step - loss: 1.4369\n",
      "Epoch 19/100\n",
      "16/16 [==============================] - 0s 1ms/step - loss: 1.4293\n",
      "Epoch 20/100\n",
      "16/16 [==============================] - 0s 1ms/step - loss: 1.4144\n",
      "Epoch 21/100\n",
      "16/16 [==============================] - 0s 1ms/step - loss: 1.4196\n",
      "Epoch 22/100\n",
      "16/16 [==============================] - 0s 1ms/step - loss: 1.4206\n",
      "Epoch 23/100\n",
      "16/16 [==============================] - 0s 1ms/step - loss: 1.4204\n",
      "Epoch 24/100\n",
      "16/16 [==============================] - 0s 1ms/step - loss: 1.4152\n",
      "Epoch 25/100\n",
      "16/16 [==============================] - 0s 1ms/step - loss: 1.4642\n",
      "Epoch 26/100\n",
      "16/16 [==============================] - 0s 1ms/step - loss: 1.4203\n",
      "Epoch 27/100\n",
      "16/16 [==============================] - 0s 1ms/step - loss: 1.4227\n",
      "Epoch 28/100\n",
      "16/16 [==============================] - 0s 1ms/step - loss: 1.4152\n",
      "Epoch 29/100\n",
      "16/16 [==============================] - 0s 1ms/step - loss: 1.4235\n",
      "Epoch 30/100\n",
      "16/16 [==============================] - 0s 1ms/step - loss: 1.4142\n",
      "Epoch 31/100\n",
      "16/16 [==============================] - 0s 1ms/step - loss: 1.4216\n",
      "Epoch 32/100\n",
      "16/16 [==============================] - 0s 1ms/step - loss: 1.4117\n",
      "Epoch 33/100\n",
      "16/16 [==============================] - 0s 1ms/step - loss: 1.4243\n",
      "Epoch 34/100\n",
      "16/16 [==============================] - 0s 1ms/step - loss: 1.4251\n",
      "Epoch 35/100\n",
      "16/16 [==============================] - 0s 1ms/step - loss: 1.4138\n",
      "Epoch 36/100\n",
      "16/16 [==============================] - 0s 1ms/step - loss: 1.4175\n",
      "Epoch 37/100\n",
      "16/16 [==============================] - 0s 1ms/step - loss: 1.4193\n",
      "Epoch 38/100\n",
      "16/16 [==============================] - 0s 1ms/step - loss: 1.4175\n",
      "Epoch 39/100\n",
      "16/16 [==============================] - 0s 1ms/step - loss: 1.4212\n",
      "Epoch 40/100\n",
      "16/16 [==============================] - 0s 1ms/step - loss: 1.4133\n",
      "Epoch 41/100\n",
      "16/16 [==============================] - 0s 1ms/step - loss: 1.4133\n",
      "Epoch 42/100\n",
      "16/16 [==============================] - 0s 1ms/step - loss: 1.4161\n",
      "Epoch 43/100\n",
      "16/16 [==============================] - 0s 1ms/step - loss: 1.4169\n",
      "Epoch 44/100\n",
      "16/16 [==============================] - 0s 1ms/step - loss: 1.4105\n",
      "Epoch 45/100\n",
      "16/16 [==============================] - 0s 1ms/step - loss: 1.4168\n",
      "Epoch 46/100\n",
      "16/16 [==============================] - 0s 1ms/step - loss: 1.4123\n",
      "Epoch 47/100\n",
      "16/16 [==============================] - 0s 1ms/step - loss: 1.4218\n",
      "Epoch 48/100\n",
      "16/16 [==============================] - 0s 1ms/step - loss: 1.4244\n",
      "Epoch 49/100\n",
      "16/16 [==============================] - 0s 1ms/step - loss: 1.4172\n",
      "Epoch 50/100\n",
      "16/16 [==============================] - 0s 1ms/step - loss: 1.4139\n",
      "Epoch 51/100\n",
      "16/16 [==============================] - 0s 1ms/step - loss: 1.4209\n",
      "Epoch 52/100\n",
      "16/16 [==============================] - 0s 1ms/step - loss: 1.4279\n",
      "Epoch 53/100\n",
      "16/16 [==============================] - 0s 1ms/step - loss: 1.4202\n",
      "Epoch 54/100\n",
      "16/16 [==============================] - 0s 975us/step - loss: 1.4111\n",
      "Epoch 55/100\n",
      "16/16 [==============================] - 0s 1ms/step - loss: 1.4156\n",
      "Epoch 56/100\n",
      "16/16 [==============================] - 0s 982us/step - loss: 1.4172\n",
      "Epoch 57/100\n",
      "16/16 [==============================] - 0s 1ms/step - loss: 1.4121\n",
      "Epoch 58/100\n",
      "16/16 [==============================] - 0s 1ms/step - loss: 1.4155\n",
      "Epoch 59/100\n",
      "16/16 [==============================] - 0s 1ms/step - loss: 1.4157\n",
      "Epoch 60/100\n",
      "16/16 [==============================] - 0s 972us/step - loss: 1.4180\n",
      "Epoch 61/100\n",
      "16/16 [==============================] - 0s 962us/step - loss: 1.4133\n",
      "Epoch 62/100\n",
      "16/16 [==============================] - 0s 973us/step - loss: 1.4134\n",
      "Epoch 63/100\n",
      "16/16 [==============================] - 0s 985us/step - loss: 1.4114\n",
      "Epoch 64/100\n",
      "16/16 [==============================] - 0s 958us/step - loss: 1.4209\n",
      "Epoch 65/100\n",
      "16/16 [==============================] - 0s 944us/step - loss: 1.4195\n",
      "Epoch 66/100\n",
      "16/16 [==============================] - 0s 1ms/step - loss: 1.4238\n",
      "Epoch 67/100\n",
      "16/16 [==============================] - 0s 957us/step - loss: 1.4176\n",
      "Epoch 68/100\n",
      "16/16 [==============================] - 0s 954us/step - loss: 1.4089\n",
      "Epoch 69/100\n",
      "16/16 [==============================] - 0s 1ms/step - loss: 1.4252\n",
      "Epoch 70/100\n",
      "16/16 [==============================] - 0s 957us/step - loss: 1.4176\n",
      "Epoch 71/100\n",
      "16/16 [==============================] - 0s 989us/step - loss: 1.4240\n",
      "Epoch 72/100\n",
      "16/16 [==============================] - 0s 1ms/step - loss: 1.4214\n",
      "Epoch 73/100\n",
      "16/16 [==============================] - 0s 1ms/step - loss: 1.4215\n",
      "Epoch 74/100\n",
      "16/16 [==============================] - 0s 1ms/step - loss: 1.4136\n",
      "Epoch 75/100\n",
      "16/16 [==============================] - 0s 982us/step - loss: 1.4151\n",
      "Epoch 76/100\n",
      "16/16 [==============================] - 0s 965us/step - loss: 1.4201\n",
      "Epoch 77/100\n",
      "16/16 [==============================] - 0s 940us/step - loss: 1.4259\n",
      "Epoch 78/100\n",
      "16/16 [==============================] - 0s 1ms/step - loss: 1.4329\n",
      "Epoch 79/100\n",
      "16/16 [==============================] - 0s 1ms/step - loss: 1.4432\n",
      "Epoch 80/100\n",
      "16/16 [==============================] - 0s 912us/step - loss: 1.4226\n",
      "Epoch 81/100\n",
      "16/16 [==============================] - 0s 924us/step - loss: 1.4217\n",
      "Epoch 82/100\n",
      "16/16 [==============================] - 0s 911us/step - loss: 1.4168\n",
      "Epoch 83/100\n",
      "16/16 [==============================] - 0s 928us/step - loss: 1.4152\n",
      "Epoch 84/100\n",
      "16/16 [==============================] - 0s 977us/step - loss: 1.4190\n",
      "Epoch 85/100\n",
      "16/16 [==============================] - 0s 942us/step - loss: 1.4199\n",
      "Epoch 86/100\n",
      "16/16 [==============================] - 0s 897us/step - loss: 1.4173\n",
      "Epoch 87/100\n",
      "16/16 [==============================] - 0s 930us/step - loss: 1.4104\n",
      "Epoch 88/100\n",
      "16/16 [==============================] - 0s 918us/step - loss: 1.4131\n",
      "Epoch 89/100\n",
      "16/16 [==============================] - 0s 877us/step - loss: 1.4108\n",
      "Epoch 90/100\n",
      "16/16 [==============================] - 0s 865us/step - loss: 1.4165\n",
      "Epoch 91/100\n",
      "16/16 [==============================] - 0s 938us/step - loss: 1.4126\n",
      "Epoch 92/100\n",
      "16/16 [==============================] - 0s 969us/step - loss: 1.4109\n",
      "Epoch 93/100\n",
      "16/16 [==============================] - 0s 961us/step - loss: 1.4137\n",
      "Epoch 94/100\n",
      "16/16 [==============================] - 0s 908us/step - loss: 1.4147\n",
      "Epoch 95/100\n",
      "16/16 [==============================] - 0s 921us/step - loss: 1.4110\n",
      "Epoch 96/100\n",
      "16/16 [==============================] - 0s 995us/step - loss: 1.4140\n",
      "Epoch 97/100\n",
      "16/16 [==============================] - 0s 1ms/step - loss: 1.4130\n",
      "Epoch 98/100\n",
      "16/16 [==============================] - 0s 978us/step - loss: 1.4185\n",
      "Epoch 99/100\n",
      "16/16 [==============================] - 0s 1ms/step - loss: 1.4116\n",
      "Epoch 100/100\n",
      "16/16 [==============================] - 0s 1ms/step - loss: 1.4091\n",
      "tf.Tensor(1.4125937, shape=(), dtype=float32)\n"
     ]
    }
   ],
   "source": [
    "opt = tf.optimizers.Adam(1e-2)\n",
    "mdn_PQ = MDN_module()\n",
    "mdn_PQ.compile(loss=gnll_loss, optimizer=opt)\n",
    "##changing epochs didnt make much difference\n",
    "withL=mdn_PQ.fit(x=C, y=np.array(B).T,epochs=100,  batch_size=64,verbose=0)\n",
    "#history2=mdn_PQ.fit(x=reshapevar(A), y=np.array(B).T,epochs=300,  batch_size=64)\n",
    "y_pred = mdn_PQ.predict(C)\n",
    "alpha,mu,sigma = slice_parameter_vectors(y_pred)\n",
    "gm = tfd.MixtureSameFamily(\n",
    "        mixture_distribution=tfd.Categorical(probs=alpha),\n",
    "        components_distribution=tfd.Normal(\n",
    "            loc=mu,       \n",
    "            scale=sigma))\n",
    "log_likelihood = gm.log_prob(np.array(B)).numpy()\n",
    "print(-tf.reduce_mean(log_likelihood, axis=-1))\n"
   ]
  },
  {
   "cell_type": "code",
   "execution_count": 147,
   "metadata": {},
   "outputs": [
    {
     "data": {
      "text/plain": [
       "1.7326240539550781"
      ]
     },
     "execution_count": 147,
     "metadata": {},
     "output_type": "execute_result"
    }
   ],
   "source": [
    "withoutL.history['loss'][-1]"
   ]
  },
  {
   "cell_type": "code",
   "execution_count": 148,
   "metadata": {},
   "outputs": [
    {
     "data": {
      "text/plain": [
       "1.6749807596206665"
      ]
     },
     "execution_count": 148,
     "metadata": {},
     "output_type": "execute_result"
    }
   ],
   "source": [
    "withL.history['loss'][-1]"
   ]
  },
  {
   "cell_type": "code",
   "execution_count": 59,
   "metadata": {},
   "outputs": [],
   "source": [
    "L_mod=L.reshape(-1,1)\n"
   ]
  },
  {
   "cell_type": "code",
   "execution_count": 51,
   "metadata": {},
   "outputs": [
    {
     "data": {
      "text/plain": [
       "(1000, 1)"
      ]
     },
     "execution_count": 51,
     "metadata": {},
     "output_type": "execute_result"
    }
   ],
   "source": [
    "L.shape\n"
   ]
  },
  {
   "cell_type": "code",
   "execution_count": 63,
   "metadata": {},
   "outputs": [],
   "source": [
    "A_mod=A.reshape(-1,1)"
   ]
  },
  {
   "cell_type": "code",
   "execution_count": 62,
   "metadata": {},
   "outputs": [
    {
     "data": {
      "text/plain": [
       "(1000,)"
      ]
     },
     "execution_count": 62,
     "metadata": {},
     "output_type": "execute_result"
    }
   ],
   "source": [
    "A.shape"
   ]
  },
  {
   "cell_type": "code",
   "execution_count": 64,
   "metadata": {},
   "outputs": [],
   "source": [
    "C=np.concatenate([L_mod,A_mod],axis=1)"
   ]
  },
  {
   "cell_type": "code",
   "execution_count": 9,
   "metadata": {},
   "outputs": [],
   "source": [
    "yeast_name=\"\"\n",
    "def yeast_data(i,ind):\n",
    "    '''\n",
    "    Function to return the trios with the gndtruth 0/1 based on i and the number based on ind \n",
    "    '''\n",
    "    global yeast_name\n",
    "    yeast_name=\"yeast_\"+str(i)+\"_\"+str(ind)\n",
    "    ds = eval(\"dataset_\"+str(i)+\"[\"+str(ind)+\"]\")\n",
    "    L_dist = np.array(ds[0]) #np.array(ds[0])\n",
    "    A_dist = np.array(ds[1])\n",
    "    B_dist = np.array(ds[2])\n",
    "    plt.scatter(A_dist,B_dist)\n",
    "    plt.title(\"A vs B\")\n",
    "    plt.xlabel(\"A\")\n",
    "    plt.ylabel(\"B\")\n",
    "    return [L_dist,A_dist,B_dist]"
   ]
  },
  {
   "cell_type": "code",
   "execution_count": 170,
   "metadata": {},
   "outputs": [],
   "source": [
    "def calculate_pvalue(original,loss_list):\n",
    "    '''\n",
    "    calculate the p value \n",
    "    '''\n",
    "    return sum(i < original for i in loss_list)/len(loss_list)\n",
    "    \n",
    "    "
   ]
  },
  {
   "cell_type": "code",
   "execution_count": 11,
   "metadata": {},
   "outputs": [],
   "source": [
    "def stratify_B_n_times(L,A,B,n,mle=False):\n",
    "    '''\n",
    "    Stratify B wrt to L\n",
    "    '''\n",
    "    loss=[]\n",
    "    indices_1 = [i for i, x in enumerate(L) if x == 1]\n",
    "    indices_0 = [i for i, x in enumerate(L) if x == 0]\n",
    "    for i in range(0,n):\n",
    "\n",
    "        B_dist_temp=np.zeros(len(B))\n",
    "        mod_indices_1=random.sample(indices_1,len(indices_1))\n",
    "        for i in range(len(indices_1)):\n",
    "            B_dist_temp[indices_1[i]]=B[mod_indices_1[i]]\n",
    "\n",
    "        mod_indices_0=random.sample(indices_0,len(indices_0))\n",
    "        for i in range(len(indices_0)):\n",
    "            B_dist_temp[indices_0[i]]=B[mod_indices_0[i]]\n",
    "        #print(B_dist_temp)\n",
    "        if(mle==False):\n",
    "            loss.append(compute_loss(L,residual(A,B_dist_temp)))\n",
    "        else:\n",
    "            loss.append(compute_loss(L,residual(A,B_dist_temp),True))\n",
    "\n",
    "    return loss \n",
    "\n",
    "\n"
   ]
  },
  {
   "cell_type": "code",
   "execution_count": 155,
   "metadata": {},
   "outputs": [],
   "source": [
    "def compute_third_testloss(A,B):\n",
    "    opt = tf.optimizers.Adam(1e-2)\n",
    "    mdn_PQ = MDN_module()\n",
    "    mdn_PQ.compile(loss=gnll_loss, optimizer=opt)\n",
    "##changing epochs didnt make much difference\n",
    "\n",
    "#mdn_PQ.fit(x=C, y=np.array(B).T,epochs=300,  batch_size=64)\n",
    "    withoutL=mdn_PQ.fit(x=A, y=B.T,epochs=100,  batch_size=64,verbose=0)\n",
    "    y_pred = mdn_PQ.predict(A)\n",
    "    alpha,mu,sigma = slice_parameter_vectors(y_pred)\n",
    "    gm = tfd.MixtureSameFamily(\n",
    "        mixture_distribution=tfd.Categorical(probs=alpha),\n",
    "        components_distribution=tfd.Normal(\n",
    "            loc=mu,       \n",
    "            scale=sigma))\n",
    "    log_likelihood = gm.log_prob(B).numpy()\n",
    "    return -tf.reduce_mean(log_likelihood, axis=-1).numpy()"
   ]
  },
  {
   "cell_type": "code",
   "execution_count": 160,
   "metadata": {},
   "outputs": [],
   "source": [
    "def calculate_difference(L,A,B):\n",
    "    return compute_third_testloss(reshapevar(A),np.array(B))-compute_third_testloss(np.concatenate([L.reshape(-1,1),A.reshape(-1,1)],axis=1),np.array(B))\n",
    "    "
   ]
  },
  {
   "cell_type": "code",
   "execution_count": 162,
   "metadata": {},
   "outputs": [],
   "source": [
    "def stratify_B_n_times_diff(L,A,B,n):\n",
    "    loss=[]\n",
    "    indices_1 = [i for i, x in enumerate(L) if x == 1]\n",
    "    indices_0 = [i for i, x in enumerate(L) if x == 0]\n",
    "    for i in range(0,n):\n",
    "        B_dist_temp=np.zeros(len(B))\n",
    "        mod_indices_1=random.sample(indices_1,len(indices_1))\n",
    "        for i in range(len(indices_1)):\n",
    "            B_dist_temp[indices_1[i]]=B[mod_indices_1[i]]\n",
    "\n",
    "        mod_indices_0=random.sample(indices_0,len(indices_0))\n",
    "        for i in range(len(indices_0)):\n",
    "            B_dist_temp[indices_0[i]]=B[mod_indices_0[i]]\n",
    "        loss.append(calculate_difference(L,A,B_dist_temp))\n",
    "    return loss"
   ]
  },
  {
   "cell_type": "code",
   "execution_count": 164,
   "metadata": {},
   "outputs": [
    {
     "data": {
      "text/plain": [
       "0.0030863285"
      ]
     },
     "execution_count": 164,
     "metadata": {},
     "output_type": "execute_result"
    }
   ],
   "source": [
    "#print(compute_third_testloss(reshapevar(A),np.array(B)))\n",
    "#print(compute_third_testloss(np.concatenate([L.reshape(-1,1),A.reshape(-1,1)],axis=1),np.array(B)))\n",
    "calculate_difference(L,A,B)    "
   ]
  },
  {
   "cell_type": "code",
   "execution_count": 58,
   "metadata": {
    "colab": {
     "base_uri": "https://localhost:8080/",
     "height": 295
    },
    "id": "8NWufrxKokcX",
    "outputId": "b8f25bde-64db-4b27-86fb-05f7a5cf39cc"
   },
   "outputs": [
    {
     "data": {
      "image/png": "[encoded data removed]",
      "text/plain": [
       "<Figure size 432x288 with 1 Axes>"
      ]
     },
     "metadata": {
      "needs_background": "light"
     },
     "output_type": "display_data"
    }
   ],
   "source": [
    "shuffles=10\n",
    "L,A,B=LinearLABData()\n",
    "#L,A,B=yeast_data(1,444)\n"
   ]
  },
  {
   "cell_type": "code",
   "execution_count": 172,
   "metadata": {},
   "outputs": [
    {
     "name": "stdout",
     "output_type": "stream",
     "text": [
      "0.0\n",
      "0.0\n",
      "0.0\n"
     ]
    }
   ],
   "source": [
    "A_shuffle=np.copy(A)\n",
    "B_shuffle=np.copy(B)\n",
    "#print(\"Original\",B_shuffle)\n",
    "loss_list_LA=shuffleBtimes(L,A_shuffle,shuffles,True)\n",
    "loss_list_LB=shuffleBtimes(L,B_shuffle,shuffles,True)\n",
    "loss_list_third=stratify_B_n_times_diff(L,A_shuffle,B_shuffle,shuffles) #conditional independence test\n",
    "true_LA=compute_loss(L,A,True)\n",
    "true_LB=compute_loss(L,B,True)\n",
    "#print(\"Next\",B_shuffle)\n",
    "true_loss_third=calculate_difference(L,A,B)\n",
    "print(calculate_pvalue(true_LA,loss_list_LA))\n",
    "print(calculate_pvalue(true_LB,loss_list_LB))\n",
    "print(calculate_pvalue(true_loss_third,loss_list_third))"
   ]
  },
  {
   "cell_type": "code",
   "execution_count": 183,
   "metadata": {},
   "outputs": [
    {
     "data": {
      "text/plain": [
       "[1.6985755829609235,\n",
       " 1.6997718774561918,\n",
       " 1.6731068788334529,\n",
       " 1.7067214226757852,\n",
       " 1.6985168033472264,\n",
       " 1.7012444635871748,\n",
       " 1.6740837903396604,\n",
       " 1.6920716605588682,\n",
       " 1.6777053468812924,\n",
       " 1.6658451078304697]"
      ]
     },
     "execution_count": 183,
     "metadata": {},
     "output_type": "execute_result"
    }
   ],
   "source": [
    "#checking whether the losses given using deep network and mle are the same \n",
    "loss_list_Bresidual\n"
   ]
  },
  {
   "cell_type": "code",
   "execution_count": 109,
   "metadata": {
    "colab": {
     "base_uri": "https://localhost:8080/"
    },
    "id": "4zfCEe9r8DcW",
    "outputId": "d98f4675-d52a-4717-adf3-c2aabbb436ba"
   },
   "outputs": [],
   "source": [
    "pickle_items=[loss_list_LA,loss_list_LB,loss_list_LindB_A,true_LA,true_LB,true_LindB_A]\n",
    "file_name=str(shuffles)+\"shuffles\"+yeast_name+\".pkl\"\n",
    "open_file = open(file_name, \"wb\")\n",
    "pickle.dump(pickle_items, open_file)\n",
    "open_file.close()\n"
   ]
  },
  {
   "cell_type": "code",
   "execution_count": 37,
   "metadata": {
    "colab": {
     "base_uri": "https://localhost:8080/"
    },
    "id": "1SaPyLVQ8QT7",
    "outputId": "921fe364-62d6-4c2d-a6be-0c9e8e60a74c"
   },
   "outputs": [],
   "source": [
    "file_name=\"100shufflesyeast_1_444.pkl\"\n",
    "open_file = open(file_name, \"rb\")\n",
    "\n",
    "loaded_list = pickle.load(open_file)\n",
    "\n",
    "open_file.close()"
   ]
  },
  {
   "cell_type": "code",
   "execution_count": 41,
   "metadata": {},
   "outputs": [],
   "source": [
    "loss_list_LA,loss_list_LB,loss_list_LindB_A,true_LA,true_LB,true_LindB_A=loaded_list"
   ]
  }
 ],
 "metadata": {
  "colab": {
   "collapsed_sections": [],
   "name": "CITNonLinear.ipynb",
   "provenance": []
  },
  "kernelspec": {
   "display_name": "Python 3 (ipykernel)",
   "language": "python",
   "name": "python3"
  },
  "language_info": {
   "codemirror_mode": {
    "name": "ipython",
    "version": 3
   },
   "file_extension": ".py",
   "mimetype": "text/x-python",
   "name": "python",
   "nbconvert_exporter": "python",
   "pygments_lexer": "ipython3",
   "version": "3.9.7"
  }
 },
 "nbformat": 4,
 "nbformat_minor": 1
}
