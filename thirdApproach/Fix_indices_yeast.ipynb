{
 "cells": [
  {
   "cell_type": "code",
   "execution_count": 1,
   "id": "66fec588",
   "metadata": {},
   "outputs": [],
   "source": [
    "\n",
    "import random\n",
    "import pickle\n"
   ]
  },
  {
   "cell_type": "code",
   "execution_count": 22,
   "id": "4c0545d2",
   "metadata": {},
   "outputs": [],
   "source": [
    "indices=random.sample(range(0,62296), 1000)\n",
    "#indices=random.sample(range(0,209157), 1000)"
   ]
  },
  {
   "cell_type": "code",
   "execution_count": 3,
   "id": "853cbc92",
   "metadata": {},
   "outputs": [
    {
     "data": {
      "text/plain": [
       "1000"
      ]
     },
     "execution_count": 3,
     "metadata": {},
     "output_type": "execute_result"
    }
   ],
   "source": [
    "len(indices)"
   ]
  },
  {
   "cell_type": "code",
   "execution_count": 16,
   "id": "63519bce",
   "metadata": {},
   "outputs": [],
   "source": [
    "total=[i for i in range(0,209157)]"
   ]
  },
  {
   "cell_type": "code",
   "execution_count": null,
   "id": "e151fb51",
   "metadata": {},
   "outputs": [],
   "source": [
    "total"
   ]
  },
  {
   "cell_type": "code",
   "execution_count": 18,
   "id": "a65949b8",
   "metadata": {},
   "outputs": [],
   "source": [
    "read_file = open(\"indicesUsedIndependent.pkl\", \"rb\")\n",
    "indices_first10k=pickle.load(read_file)\n",
    "read_file.close()"
   ]
  },
  {
   "cell_type": "code",
   "execution_count": 19,
   "id": "38352692",
   "metadata": {},
   "outputs": [
    {
     "data": {
      "text/plain": [
       "10000"
      ]
     },
     "execution_count": 19,
     "metadata": {},
     "output_type": "execute_result"
    }
   ],
   "source": [
    "len(indices_first10k)"
   ]
  },
  {
   "cell_type": "code",
   "execution_count": 20,
   "id": "0f395972",
   "metadata": {},
   "outputs": [],
   "source": [
    "without10k= [i for i in total if i not in indices_first10k]"
   ]
  },
  {
   "cell_type": "code",
   "execution_count": 21,
   "id": "8a4b8d1e",
   "metadata": {},
   "outputs": [
    {
     "data": {
      "text/plain": [
       "199157"
      ]
     },
     "execution_count": 21,
     "metadata": {},
     "output_type": "execute_result"
    }
   ],
   "source": [
    "len(without10k)"
   ]
  },
  {
   "cell_type": "code",
   "execution_count": 22,
   "id": "696c2d73",
   "metadata": {},
   "outputs": [],
   "source": [
    "next10k=random.sample(without10k, 10000)"
   ]
  },
  {
   "cell_type": "code",
   "execution_count": 23,
   "id": "b462b3bb",
   "metadata": {},
   "outputs": [
    {
     "data": {
      "text/plain": [
       "10000"
      ]
     },
     "execution_count": 23,
     "metadata": {},
     "output_type": "execute_result"
    }
   ],
   "source": [
    "len(next10k)"
   ]
  },
  {
   "cell_type": "code",
   "execution_count": 24,
   "id": "81c38e01",
   "metadata": {},
   "outputs": [],
   "source": [
    "open_file = open(\"indicesUsedIndependentbatch-2.pkl\", \"wb\")\n",
    "pickle.dump(next10k, open_file)\n",
    "open_file.close()"
   ]
  },
  {
   "cell_type": "code",
   "execution_count": 26,
   "id": "566631ef",
   "metadata": {},
   "outputs": [],
   "source": [
    "read_file = open(\"../../yeast_full_data/10kyeast_ind.pkl\", \"rb\")\n",
    "dataset_yeast10k=pickle.load(read_file)\n",
    "read_file.close()"
   ]
  },
  {
   "cell_type": "code",
   "execution_count": null,
   "id": "2bc3ce4f",
   "metadata": {},
   "outputs": [],
   "source": [
    "dataset_yeast10k[0]"
   ]
  },
  {
   "cell_type": "code",
   "execution_count": 31,
   "id": "323b7322",
   "metadata": {},
   "outputs": [],
   "source": [
    "read_file = open(\"indicesUsedbatch-2.pkl\", \"rb\")\n",
    "dataset_yeast10k=pickle.load(read_file)\n",
    "read_file.close()"
   ]
  },
  {
   "cell_type": "code",
   "execution_count": 23,
   "id": "55bdcac6",
   "metadata": {},
   "outputs": [],
   "source": [
    "yeast=open(\"../../yeast_full_data/yeast_residual_data_full_62k_gt1.txt\",\"r\")\n",
    "\n",
    "\n",
    "\n",
    "#yeast data read \n",
    "L=[]\n",
    "A=[]\n",
    "B=[]\n",
    "#209157\n",
    "for i in range(0,209157):\n",
    "    line=yeast.readline()\n",
    "    #line=line[1:-2] #remove double quotes \n",
    "    #param = [j for j in line.split()]\n",
    "    #print(param)\n",
    "    #chrname.append(param[1])\n",
    "    #g1.append(param[2])\n",
    "    #g2.append(param[3])\n",
    "    line=yeast.readline()\n",
    "    l = [j for j in line.split()]\n",
    "    L.append([int(i) for i in l])\n",
    "    line=yeast.readline()\n",
    "    a = [j for j in line.split()]\n",
    "    A.append([float(i) for i in a])\n",
    "    line=yeast.readline()\n",
    "    b = [j for j in line.split()]\n",
    "    B.append([float(i) for i in b])\n",
    "dataset_yeast_1 = [i for i in zip(L,A,B)]\n"
   ]
  },
  {
   "cell_type": "code",
   "execution_count": 27,
   "id": "2a03787c",
   "metadata": {},
   "outputs": [
    {
     "data": {
      "text/plain": [
       "1000"
      ]
     },
     "execution_count": 27,
     "metadata": {},
     "output_type": "execute_result"
    }
   ],
   "source": [
    "len(indices)"
   ]
  },
  {
   "cell_type": "code",
   "execution_count": 28,
   "id": "161ed32a",
   "metadata": {},
   "outputs": [],
   "source": [
    "data_gt1=[dataset_yeast_1[q] for q in indices]"
   ]
  },
  {
   "cell_type": "code",
   "execution_count": 29,
   "id": "11663fe6",
   "metadata": {},
   "outputs": [],
   "source": [
    "open_file=open(\"indices_yeastgt1_1k_secondtime.pkl\",\"wb\")\n",
    "pickle.dump(indices,open_file)\n",
    "open_file.close()"
   ]
  },
  {
   "cell_type": "code",
   "execution_count": 30,
   "id": "764747e0",
   "metadata": {},
   "outputs": [],
   "source": [
    "open_file=open(\"yeastgt1_1k_secondtime.pkl\",\"wb\")\n",
    "pickle.dump(data_gt1,open_file)\n",
    "open_file.close()"
   ]
  },
  {
   "cell_type": "code",
   "execution_count": 18,
   "id": "8966c60c",
   "metadata": {},
   "outputs": [],
   "source": [
    "open_file=open(\"yeastgt2_1k_secondtime.pkl\",\"wb\")\n",
    "pickle.dump(data_gt1,open_file)\n",
    "open_file.close()"
   ]
  },
  {
   "cell_type": "code",
   "execution_count": 32,
   "id": "b603bbb8",
   "metadata": {},
   "outputs": [],
   "source": [
    "dataset_yeast10k_gt1_batch2=[dataset_yeast_1[q] for q in dataset_yeast10k]"
   ]
  },
  {
   "cell_type": "code",
   "execution_count": null,
   "id": "eacc4d55",
   "metadata": {},
   "outputs": [],
   "source": [
    "dataset_yeast10k_gt1_batch2"
   ]
  },
  {
   "cell_type": "code",
   "execution_count": 34,
   "id": "b587d700",
   "metadata": {},
   "outputs": [],
   "source": [
    "open_file = open(\"yeastrawgtbatch-2.pkl\", \"wb\")\n",
    "pickle.dump(dataset_yeast10k_gt1_batch2, open_file)\n",
    "open_file.close()"
   ]
  }
 ],
 "metadata": {
  "kernelspec": {
   "display_name": "Python 3 (ipykernel)",
   "language": "python",
   "name": "python3"
  },
  "language_info": {
   "codemirror_mode": {
    "name": "ipython",
    "version": 3
   },
   "file_extension": ".py",
   "mimetype": "text/x-python",
   "name": "python",
   "nbconvert_exporter": "python",
   "pygments_lexer": "ipython3",
   "version": "3.9.7"
  }
 },
 "nbformat": 4,
 "nbformat_minor": 5
}
