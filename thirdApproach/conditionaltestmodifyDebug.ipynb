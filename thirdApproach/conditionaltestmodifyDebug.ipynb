{
 "cells": [
  {
   "cell_type": "code",
   "execution_count": 1,
   "metadata": {
    "colab": {
     "base_uri": "https://localhost:8080/"
    },
    "id": "qd6CiVe-jyEn",
    "outputId": "b4187c26-21ff-4edc-e194-db58fd55f233"
   },
   "outputs": [
    {
     "name": "stderr",
     "output_type": "stream",
     "text": [
      "2022-07-28 14:58:41.441154: W tensorflow/stream_executor/platform/default/dso_loader.cc:64] Could not load dynamic library 'libcudart.so.11.0'; dlerror: libcudart.so.11.0: cannot open shared object file: No such file or directory\n",
      "2022-07-28 14:58:41.441186: I tensorflow/stream_executor/cuda/cudart_stub.cc:29] Ignore above cudart dlerror if you do not have a GPU set up on your machine.\n"
     ]
    }
   ],
   "source": [
    "#loading the libraries\n",
    "from tensorflow_probability import distributions as tfd\n",
    "import tensorflow as tf\n",
    "from tensorflow.keras.layers import Input, Dense, Activation, Concatenate\n",
    "\n",
    "from sklearn.linear_model import LinearRegression\n",
    "from sklearn.model_selection import train_test_split\n",
    "from sklearn.preprocessing import MinMaxScaler\n",
    "from sklearn.datasets import load_boston\n",
    "from sklearn.linear_model import LinearRegression\n",
    "import matplotlib.pyplot as plt\n",
    "import seaborn as sns\n",
    "import random\n",
    "import numpy as np\n",
    "import statsmodels.api as sm\n",
    "import pickle\n",
    "from sklearn.feature_selection import mutual_info_regression\n",
    "from scipy import stats\n",
    "import rpy2\n",
    "from scipy.stats import spearmanr,pearsonr\n",
    "from tensorflow.keras.models import Sequential\n",
    "from CCIT import CCIT"
   ]
  },
  {
   "cell_type": "code",
   "execution_count": 2,
   "metadata": {
    "id": "OxvAXLLFnl7d"
   },
   "outputs": [],
   "source": [
    "#defining the class MDN\n",
    "class MDN_module(tf.keras.Model):\n",
    "#changed from 15 to 20\n",
    "    def __init__(self, neurons=15, components = 1):\n",
    "        super(MDN_module, self).__init__(name=\"MDN_module\")\n",
    "        self.neurons = neurons\n",
    "        self.components = components\n",
    "\n",
    "        #chaging activation to relu from linear, changin relu to sigmoid \n",
    "        for i in range(1,3):\n",
    "          s=\"self\"+\".h\"+str(i)+\"= Dense(neurons, activation=\\\"relu\\\", name=\"+\"'h\"+str(i)+\"')\"\n",
    "          exec(s)\n",
    "        self.alphas = Dense(components, activation=\"softmax\", name=\"alphas\")\n",
    "        self.mus = Dense(components, activation=\"linear\",name=\"mus\") \n",
    "        self.sigmas = Dense(components, activation=\"nnelu\",name=\"sigmas\") #activation changed from linear to default\n",
    "        self.pvec = Concatenate(name=\"pvec\")\n",
    "        \n",
    "    def call(self, inputs):\n",
    "        x=self.h1(inputs)\n",
    "        #x=self.inputA(inputs)\n",
    "        x=self.h2(x)\n",
    "        alpha_v = self.alphas(x)\n",
    "        mu_v = self.mus(x)\n",
    "        sigma_v = self.sigmas(x)\n",
    "        \n",
    "        return self.pvec([alpha_v,mu_v, sigma_v])"
   ]
  },
  {
   "cell_type": "code",
   "execution_count": 3,
   "metadata": {},
   "outputs": [
    {
     "ename": "NameError",
     "evalue": "name 'A' is not defined",
     "output_type": "error",
     "traceback": [
      "\u001b[0;31m---------------------------------------------------------------------------\u001b[0m",
      "\u001b[0;31mNameError\u001b[0m                                 Traceback (most recent call last)",
      "Input \u001b[0;32mIn [3]\u001b[0m, in \u001b[0;36m<cell line: 1>\u001b[0;34m()\u001b[0m\n\u001b[0;32m----> 1\u001b[0m \u001b[38;5;28mlen\u001b[39m(\u001b[43mA\u001b[49m)\n",
      "\u001b[0;31mNameError\u001b[0m: name 'A' is not defined"
     ]
    }
   ],
   "source": [
    "len(A)"
   ]
  },
  {
   "cell_type": "code",
   "execution_count": 7,
   "metadata": {},
   "outputs": [],
   "source": [
    "#loading yeast groundtruth 1 data\n",
    "yeast=open(\"../../yeast_full_data/yeast_residual_data_full_62k_gt1.txt\",\"r\")\n",
    "\n",
    "\n",
    "\n",
    "#yeast data read \n",
    "L=[]\n",
    "A=[]\n",
    "B=[]\n",
    "#209157\n",
    "for i in range(0,62296):\n",
    "    line=yeast.readline()\n",
    "    #line=line[1:-2] #remove double quotes \n",
    "    #param = [j for j in line.split()]\n",
    "    #print(param)\n",
    "    #chrname.append(param[1])\n",
    "    #g1.append(param[2])\n",
    "    #g2.append(param[3])\n",
    "    line=yeast.readline()\n",
    "    l = [j for j in line.split()]\n",
    "    L.append([int(i) for i in l])\n",
    "    line=yeast.readline()\n",
    "    a = [j for j in line.split()]\n",
    "    A.append([float(i) for i in a])\n",
    "    line=yeast.readline()\n",
    "    b = [j for j in line.split()]\n",
    "    B.append([float(i) for i in b])\n",
    "dataset_yeast_1 = [i for i in zip(L,A,B)]\n"
   ]
  },
  {
   "cell_type": "code",
   "execution_count": 9,
   "metadata": {},
   "outputs": [
    {
     "ename": "IndexError",
     "evalue": "list index out of range",
     "output_type": "error",
     "traceback": [
      "\u001b[0;31m---------------------------------------------------------------------------\u001b[0m",
      "\u001b[0;31mIndexError\u001b[0m                                Traceback (most recent call last)",
      "Input \u001b[0;32mIn [9]\u001b[0m, in \u001b[0;36m<cell line: 1>\u001b[0;34m()\u001b[0m\n\u001b[0;32m----> 1\u001b[0m \u001b[43mdataset_yeast_1\u001b[49m\u001b[43m[\u001b[49m\u001b[38;5;241;43m121\u001b[39;49m\u001b[43m]\u001b[49m\n",
      "\u001b[0;31mIndexError\u001b[0m: list index out of range"
     ]
    }
   ],
   "source": [
    "dataset_yeast_1[121]"
   ]
  },
  {
   "cell_type": "code",
   "execution_count": 51,
   "metadata": {},
   "outputs": [
    {
     "name": "stdout",
     "output_type": "stream",
     "text": [
      "32/32 [==============================] - 0s 640us/step - loss: 2.3220 - accuracy: 0.0000e+00\n"
     ]
    }
   ],
   "source": [
    "model = Sequential()\n",
    "model.add(Dense(12, input_shape=(1,), activation='relu'))\n",
    "model.add(Dense(8, activation='relu'))\n",
    "model.add(Dense(8, activation='relu'))\n",
    "model.add(Dense(1, activation='linear'))\n",
    "# compile the keras model\n",
    "model.compile(loss='mean_squared_error', optimizer='adam', metrics=['accuracy'])\n",
    "# fit the keras model on the dataset\n",
    "model.fit(A, B, epochs=150, batch_size=10,verbose=0)\n",
    "# evaluate the keras model\n",
    "_, accuracy = model.evaluate(A, B)"
   ]
  },
  {
   "cell_type": "code",
   "execution_count": 4,
   "metadata": {},
   "outputs": [
    {
     "ename": "NameError",
     "evalue": "name 'A' is not defined",
     "output_type": "error",
     "traceback": [
      "\u001b[0;31m---------------------------------------------------------------------------\u001b[0m",
      "\u001b[0;31mNameError\u001b[0m                                 Traceback (most recent call last)",
      "Input \u001b[0;32mIn [4]\u001b[0m, in \u001b[0;36m<cell line: 1>\u001b[0;34m()\u001b[0m\n\u001b[0;32m----> 1\u001b[0m plt\u001b[38;5;241m.\u001b[39mscatter(\u001b[43mA\u001b[49m,B)\n\u001b[1;32m      2\u001b[0m plt\u001b[38;5;241m.\u001b[39mscatter(A,model\u001b[38;5;241m.\u001b[39mpredict(A))\n",
      "\u001b[0;31mNameError\u001b[0m: name 'A' is not defined"
     ]
    }
   ],
   "source": [
    "plt.scatter(A,B)\n",
    "plt.scatter(A,model.predict(A))"
   ]
  },
  {
   "cell_type": "code",
   "execution_count": 50,
   "metadata": {},
   "outputs": [
    {
     "data": {
      "text/plain": [
       "1.4015753269195557"
      ]
     },
     "execution_count": 50,
     "metadata": {},
     "output_type": "execute_result"
    }
   ],
   "source": [
    "y_pred"
   ]
  },
  {
   "cell_type": "code",
   "execution_count": 5,
   "metadata": {
    "id": "7DSPXmR1ogiH"
   },
   "outputs": [],
   "source": [
    "no_parameters=3\n",
    "components=1\n",
    "def nnelu(input):\n",
    "    \"\"\" Computes the Non-Negative Exponential Linear Unit\n",
    "    \"\"\"\n",
    "    return tf.add(tf.constant(1, dtype=tf.float32), tf.nn.elu(input))\n",
    "\n",
    "def slice_parameter_vectors(parameter_vector):\n",
    "    \"\"\" Returns an unpacked list of paramter vectors.\n",
    "    \"\"\"\n",
    "    return [parameter_vector[:,i*components:(i+1\n",
    "    )*components] for i in range(no_parameters)]\n",
    "\n",
    "def gnll_loss(y, parameter_vector):\n",
    "    \"\"\" Computes the mean negative log-likelihood loss of y given the mixture parameters.\n",
    "    \"\"\"\n",
    "    alpha,mu,sigma = slice_parameter_vectors(parameter_vector) # Unpack parameter vectors\n",
    "    #tf.print(sigma)\n",
    "    gm = tfd.MixtureSameFamily(\n",
    "           mixture_distribution=tfd.Categorical(probs=alpha),\n",
    "           components_distribution=tfd.Normal(\n",
    "           loc=mu,       \n",
    "           scale=sigma))\n",
    "    \n",
    "                                    \n",
    "    \n",
    "    log_likelihood =  gm.log_prob(tf.transpose(y)) # Evaluate log-probability of y \n",
    "    return -tf.reduce_mean(log_likelihood, axis=-1) \n",
    "\n",
    "tf.keras.utils.get_custom_objects().update({'nnelu': Activation(nnelu)})\n",
    "\n",
    "def gnll_eval(y,alpha, mu, sigma):\n",
    "    \"\"\" Computes the mean negative log-likelihood loss of y given the mixture parameters.\n",
    "    \"\"\"\n",
    "    #print(alpha)\n",
    "    gm = tfd.MixtureSameFamily(\n",
    "        mixture_distribution=tfd.Categorical(probs=alpha),\n",
    "        components_distribution=tfd.Normal(\n",
    "            loc=mu,       \n",
    "            scale=sigma))\n",
    "    log_likelihood = gm.log_prob(tf.transpose(y))\n",
    "    return -tf.reduce_mean(log_likelihood, axis=-1)\n",
    "\n",
    "\n",
    "def eval_mdn_model(x_test, y_test, mdn_model):\n",
    "    \"\"\" Evaluate the model to get the loss for the given x and y \n",
    "    \"\"\"\n",
    "    y_pred = mdn_model.predict(np.reshape(x_test,newshape=(len(x_test),-1)))\n",
    "    alpha,mu,sigma = slice_parameter_vectors(y_pred)\n",
    "    mdn_nll = gnll_eval(y_test.astype(np.float32),alpha, mu, sigma).numpy()\n",
    "    return mdn_nll\n",
    "#reshapefunction\n",
    "def eval_mdn_model_mle(x_test,y_test):\n",
    "        #adding one more indices for human L\n",
    "        \n",
    "        indices_1 = [i for i, x in enumerate(x_test) if x == 1]\n",
    "        indices_0 = [i for i, x in enumerate(x_test) if x == 0]\n",
    "        mu_0=np.mean(y_test[indices_0])\n",
    "        mu_1=np.mean(y_test[indices_1])\n",
    "        sigma_0=np.std(y_test[indices_0])\n",
    "        sigma_1=np.std(y_test[indices_1])\n",
    "        y_mean=np.zeros((len(y_test),1))\n",
    "        y_mean[indices_1]=mu_1\n",
    "        y_mean[indices_0]=mu_0\n",
    "        y_std=np.zeros((len(y_test),1))\n",
    "        y_std[indices_1]=sigma_1\n",
    "        y_std[indices_0]=sigma_0\n",
    "        alpha=np.ones((len(y_mean),1))\n",
    "        return gnll_eval(y_test,alpha,y_mean,y_std).numpy()\n",
    "    \n",
    "       \n",
    "def reshapevar(X):\n",
    "  \"\"\"\n",
    "  Function to reshape the vector for the input \n",
    "  \"\"\"\n",
    "  return np.reshape(X,newshape=(len(X),-1))"
   ]
  },
  {
   "cell_type": "code",
   "execution_count": 6,
   "metadata": {
    "id": "T6sJ7ffirsnB"
   },
   "outputs": [],
   "source": [
    "def compute_loss(P,Q,mle=False):\n",
    "    \"\"\" Compute the loss for the given pair\n",
    "    \"\"\"\n",
    "    if(mle==False):\n",
    "        opt = tf.optimizers.Adam(1e-2)\n",
    "        mdn_PQ = MDN_module()\n",
    "        mdn_PQ.compile(loss=gnll_loss, optimizer=opt)\n",
    "        mdn_PQ.fit(x=reshapevar(P), y=np.array(Q).T,epochs=100,  batch_size=64,verbose=0)\n",
    "        #return np.array(nlcor.nlcor(P,Q)[0])[0]\n",
    "        return eval_mdn_model(P,Q,mdn_PQ)\n",
    "    else:\n",
    "        return eval_mdn_model_mle(P,Q)\n",
    "        \n",
    "        \n",
    "        \n"
   ]
  },
  {
   "cell_type": "code",
   "execution_count": 7,
   "metadata": {},
   "outputs": [],
   "source": [
    "def compute_loss_y_pred(P,Q,mle=False):\n",
    "    \"\"\" Compute the loss for the given pair\n",
    "    \"\"\"\n",
    "    if(mle==False):\n",
    "        opt = tf.optimizers.Adam(1e-2)\n",
    "        mdn_PQ = MDN_module()\n",
    "        mdn_PQ.compile(loss=gnll_loss, optimizer=opt)\n",
    "        mdn_PQ.fit(x=reshapevar(P), y=np.array(Q).T,epochs=100,  batch_size=64,verbose=0)\n",
    "        y_pred = mdn_PQ.predict(np.reshape(P,newshape=(len(P),-1)))\n",
    "        return y_pred[:,1]\n",
    "    else:\n",
    "        indices_1 = [i for i, x in enumerate(P) if x == 1]\n",
    "        #changing x==0 to x==-1\n",
    "        indices_0 = [i for i, x in enumerate(P) if x == 0]\n",
    "        mu_0=np.mean(Q[indices_0])\n",
    "        mu_1=np.mean(Q[indices_1])\n",
    "        #sigma_0=np.std(Q[indices_0])\n",
    "        #sigma_1=np.std(Q[indices_1])\n",
    "        y_mean=np.zeros((len(Q),1))\n",
    "        y_mean[indices_1]=mu_1\n",
    "        y_mean[indices_0]=mu_0\n",
    "        return y_mean.reshape((len(y_mean),))\n",
    "        "
   ]
  },
  {
   "cell_type": "code",
   "execution_count": 8,
   "metadata": {
    "id": "X6V8X2QFpmC7"
   },
   "outputs": [],
   "source": [
    "def shuffleBtimes(P,Q,B,mle=False):\n",
    "    \"\"\" Shuffle Q B times and compute the loss \n",
    "    \"\"\"\n",
    "    loss=[]\n",
    "    if(mle==False):\n",
    "        for i in range(0,B):\n",
    "          loss.append(compute_loss(P,np.random.permutation(Q)))\n",
    "    else:\n",
    "        for i in range(0,B):\n",
    "          loss.append(compute_loss(P,np.random.permutation(Q),True))\n",
    "    return loss\n"
   ]
  },
  {
   "cell_type": "code",
   "execution_count": 9,
   "metadata": {
    "id": "iUW3ikOHu6PO"
   },
   "outputs": [],
   "source": [
    "def LinearLABData():\n",
    "    \"\"\" Generate the linear data \n",
    "    \"\"\"\n",
    "    L = np.random.binomial(1,0.5,1000)  \n",
    "    beta0 = np.ones(1000)-0.4\n",
    "    #beta1 = 0.5\n",
    "    beta1=3\n",
    "    beta2= 0.3\n",
    "    beta3=0.8\n",
    "    #eps0 = np.random.standard_normal(1000)\n",
    "    #eps1 = np.random.standard_normal(1000)\n",
    "    eps0 = np.random.normal(0,1,1000)\n",
    "    eps1 = np.random.normal(0,1,1000)\n",
    "    A = beta0 + beta1*L + eps0\n",
    "    #B=beta2+beta3*np.sin(A)+eps1\n",
    "    B = beta2+ beta3*A + eps1 \n",
    "    plt.scatter(A,B)\n",
    "    plt.title(\"A vs B\")\n",
    "    plt.xlabel(\"A\")\n",
    "    plt.ylabel(\"B\")\n",
    "    return [L,A,B]"
   ]
  },
  {
   "cell_type": "code",
   "execution_count": 10,
   "metadata": {},
   "outputs": [],
   "source": [
    "#L = np.random.binomial(2,0.5,1000)  \n",
    "L = np.random.binomial(1,0.5,1000)  "
   ]
  },
  {
   "cell_type": "code",
   "execution_count": 140,
   "metadata": {},
   "outputs": [],
   "source": [
    "L[L==0]=-1"
   ]
  },
  {
   "cell_type": "code",
   "execution_count": 141,
   "metadata": {},
   "outputs": [
    {
     "data": {
      "text/plain": [
       "array([ True,  True,  True,  True, False,  True, False,  True,  True,\n",
       "        True,  True,  True,  True, False,  True, False,  True,  True,\n",
       "        True, False,  True,  True, False, False, False,  True, False,\n",
       "       False,  True,  True,  True,  True,  True,  True, False,  True,\n",
       "        True,  True, False,  True,  True,  True,  True,  True,  True,\n",
       "       False, False, False,  True, False,  True, False, False,  True,\n",
       "       False, False, False, False, False,  True, False,  True,  True,\n",
       "        True,  True, False,  True,  True, False, False, False,  True,\n",
       "       False,  True, False, False,  True, False, False,  True, False,\n",
       "        True,  True,  True, False, False,  True,  True,  True,  True,\n",
       "       False,  True,  True, False,  True, False, False,  True,  True,\n",
       "       False, False, False, False, False, False, False,  True, False,\n",
       "       False, False, False, False,  True, False,  True, False, False,\n",
       "        True, False,  True,  True,  True, False, False, False,  True,\n",
       "       False,  True, False, False, False,  True, False, False,  True,\n",
       "        True, False, False,  True,  True,  True, False,  True,  True,\n",
       "        True,  True,  True,  True,  True,  True,  True, False,  True,\n",
       "       False, False, False,  True,  True, False, False, False, False,\n",
       "        True, False, False, False,  True,  True, False,  True, False,\n",
       "        True, False, False, False,  True,  True, False, False, False,\n",
       "       False, False, False,  True,  True,  True, False,  True, False,\n",
       "       False,  True, False,  True, False,  True, False,  True, False,\n",
       "        True, False,  True, False,  True, False,  True,  True,  True,\n",
       "        True,  True,  True,  True, False,  True,  True, False,  True,\n",
       "       False, False,  True,  True,  True,  True, False, False, False,\n",
       "        True, False, False, False, False,  True, False,  True,  True,\n",
       "        True, False, False, False, False,  True,  True, False, False,\n",
       "       False,  True, False, False, False, False,  True,  True,  True,\n",
       "       False,  True, False, False, False,  True,  True, False,  True,\n",
       "        True, False,  True,  True,  True,  True, False, False,  True,\n",
       "       False, False,  True,  True, False, False,  True, False, False,\n",
       "        True,  True, False,  True,  True,  True, False,  True, False,\n",
       "        True, False,  True,  True, False, False, False,  True,  True,\n",
       "       False, False, False,  True,  True,  True,  True, False, False,\n",
       "        True,  True, False, False, False,  True, False, False, False,\n",
       "        True,  True,  True,  True, False,  True, False, False,  True,\n",
       "       False,  True,  True, False, False,  True,  True, False, False,\n",
       "        True,  True, False, False, False, False, False, False,  True,\n",
       "        True, False,  True, False, False,  True, False,  True, False,\n",
       "        True,  True, False,  True,  True,  True, False,  True,  True,\n",
       "        True,  True, False,  True, False, False, False,  True,  True,\n",
       "        True, False, False, False, False,  True, False, False, False,\n",
       "       False,  True, False,  True,  True,  True,  True,  True,  True,\n",
       "        True,  True,  True, False, False,  True, False,  True, False,\n",
       "        True, False, False,  True, False,  True, False, False,  True,\n",
       "       False, False,  True,  True, False,  True,  True, False,  True,\n",
       "        True, False, False,  True, False,  True, False,  True,  True,\n",
       "        True, False,  True,  True,  True, False,  True, False, False,\n",
       "        True,  True, False,  True,  True, False, False,  True, False,\n",
       "       False,  True, False,  True,  True,  True,  True, False, False,\n",
       "        True,  True,  True, False, False, False,  True, False,  True,\n",
       "        True, False, False, False, False,  True, False,  True,  True,\n",
       "        True,  True, False,  True, False,  True, False, False,  True,\n",
       "        True, False,  True, False, False, False,  True, False,  True,\n",
       "       False, False,  True, False, False, False, False, False, False,\n",
       "       False, False, False, False,  True, False, False, False, False,\n",
       "        True,  True,  True, False,  True,  True, False,  True, False,\n",
       "       False, False, False,  True,  True, False, False, False, False,\n",
       "       False,  True,  True, False, False,  True,  True,  True,  True,\n",
       "        True,  True, False,  True, False,  True, False, False,  True,\n",
       "       False, False, False,  True, False,  True,  True,  True, False,\n",
       "       False,  True,  True,  True,  True,  True,  True,  True, False,\n",
       "        True,  True,  True, False, False,  True,  True,  True, False,\n",
       "        True, False, False, False,  True,  True, False, False, False,\n",
       "       False,  True, False,  True,  True, False,  True,  True, False,\n",
       "        True,  True,  True, False, False,  True,  True, False, False,\n",
       "       False,  True,  True, False,  True,  True, False,  True, False,\n",
       "       False, False, False, False,  True,  True,  True, False,  True,\n",
       "       False,  True,  True,  True,  True, False, False, False,  True,\n",
       "        True,  True,  True,  True, False, False,  True,  True,  True,\n",
       "        True,  True,  True, False, False,  True,  True, False,  True,\n",
       "        True,  True, False, False,  True,  True,  True, False, False,\n",
       "       False,  True, False, False, False,  True, False,  True, False,\n",
       "       False, False,  True, False,  True, False,  True, False,  True,\n",
       "       False, False,  True, False, False,  True, False, False, False,\n",
       "        True, False,  True, False,  True,  True, False, False, False,\n",
       "        True,  True, False,  True,  True,  True, False, False,  True,\n",
       "       False, False,  True,  True, False, False, False, False, False,\n",
       "       False,  True, False, False,  True,  True, False,  True, False,\n",
       "       False,  True,  True, False, False,  True, False,  True, False,\n",
       "        True,  True, False, False,  True,  True,  True, False, False,\n",
       "       False,  True,  True, False, False,  True,  True, False, False,\n",
       "        True, False,  True, False,  True, False, False,  True,  True,\n",
       "        True, False, False, False, False, False, False, False,  True,\n",
       "       False, False, False, False, False, False, False, False, False,\n",
       "       False,  True, False, False,  True,  True, False, False,  True,\n",
       "        True, False, False,  True,  True, False,  True, False,  True,\n",
       "        True, False,  True, False, False, False,  True,  True, False,\n",
       "       False, False,  True,  True, False,  True, False, False, False,\n",
       "       False,  True, False, False, False,  True,  True,  True,  True,\n",
       "       False,  True, False,  True, False,  True, False,  True,  True,\n",
       "        True,  True,  True,  True,  True, False,  True,  True, False,\n",
       "       False, False, False,  True, False, False, False,  True,  True,\n",
       "        True,  True, False,  True, False,  True, False, False,  True,\n",
       "        True, False,  True, False, False, False,  True,  True,  True,\n",
       "       False,  True,  True,  True, False, False,  True, False,  True,\n",
       "       False, False, False,  True,  True, False, False,  True, False,\n",
       "       False,  True, False, False, False,  True, False, False,  True,\n",
       "       False,  True, False,  True, False, False,  True, False, False,\n",
       "        True, False,  True,  True, False, False, False, False,  True,\n",
       "        True, False,  True, False, False, False,  True, False, False,\n",
       "        True,  True, False,  True, False, False,  True, False,  True,\n",
       "       False,  True,  True, False,  True,  True,  True, False, False,\n",
       "       False, False,  True, False,  True, False,  True, False,  True,\n",
       "        True,  True, False, False,  True, False,  True,  True, False,\n",
       "        True, False, False, False,  True,  True, False, False,  True,\n",
       "        True, False,  True, False,  True,  True, False, False, False,\n",
       "        True, False,  True, False, False,  True, False,  True, False,\n",
       "        True,  True, False,  True, False,  True, False,  True, False,\n",
       "       False, False, False,  True, False, False,  True,  True,  True,\n",
       "       False,  True, False,  True,  True,  True, False,  True, False,\n",
       "       False])"
      ]
     },
     "execution_count": 141,
     "metadata": {},
     "output_type": "execute_result"
    }
   ],
   "source": [
    "L==-1"
   ]
  },
  {
   "cell_type": "code",
   "execution_count": 143,
   "metadata": {},
   "outputs": [
    {
     "data": {
      "text/plain": [
       "array([-12.5607367 ,  -9.72519239, -10.78935437, -10.91616983,\n",
       "       -11.5571557 , -10.47541323, -12.48919644, -11.12580122,\n",
       "        -9.38174223, -12.57703917,  -9.81972023, -11.11612162,\n",
       "        -9.71289502, -11.47494302, -11.57056392, -10.44819373,\n",
       "       -11.43441633, -11.49067398, -12.16426103,  -9.961433  ,\n",
       "        -9.74146648,  -9.40825079,  -9.81010259, -10.96944203,\n",
       "       -11.77782559, -11.60961964, -12.08714446, -10.24265782,\n",
       "       -10.82864338,  -9.75885511, -11.45491217, -11.10047222,\n",
       "       -11.86934486,  -9.81583714, -10.94125991,  -9.97259091,\n",
       "       -10.40555248, -10.44272755,  -9.52586763,  -9.73477343,\n",
       "       -10.51192189, -10.66200683, -11.4228291 , -10.58983581,\n",
       "       -10.67729334, -11.00603175, -11.82249643,  -9.90395514,\n",
       "       -12.07644782, -10.96114006, -10.14072777, -10.98982431,\n",
       "       -10.43378941, -10.49751969, -11.3486992 , -11.68338974,\n",
       "       -11.33841376, -11.63889053, -13.68284157, -10.3408225 ,\n",
       "       -12.12285787, -13.18695259, -12.70548775, -11.16366462,\n",
       "       -11.64908388, -11.65955578, -11.51530908, -12.22595126,\n",
       "       -12.05972494,  -9.67401136, -10.63412999, -13.07055765,\n",
       "       -10.5660101 , -11.75164738,  -9.89739399,  -9.90107875,\n",
       "       -11.39316074, -11.41704091,  -9.80991478,  -9.92045796,\n",
       "       -10.53287876, -11.53240376, -12.12546242, -10.19353584,\n",
       "       -10.91308488,  -9.8246233 , -11.45246563, -12.22989582,\n",
       "        -9.74152323, -10.21120554, -11.34472973, -13.35475539,\n",
       "       -10.13576994, -11.41264934,  -9.50563755, -10.26683222,\n",
       "       -11.53647153, -11.93821597, -10.77711742,  -9.44166535,\n",
       "       -11.4938018 , -10.90200467, -10.6447262 , -11.73615653,\n",
       "       -10.13484511, -11.5987565 , -11.55474822,  -9.64352596,\n",
       "       -12.24115263, -10.65616561, -11.00581278, -11.05675631,\n",
       "       -10.44101611, -12.84143547, -10.65601835, -11.9009838 ,\n",
       "       -11.19244284, -11.26991014, -11.53314243, -10.6889067 ,\n",
       "       -11.37540401, -10.38479203, -11.09093029, -11.77250413,\n",
       "       -12.63739228, -11.78709779, -11.84259211, -10.79626189,\n",
       "        -9.7515491 , -10.77183476, -11.09316974, -10.75275467,\n",
       "       -10.52435053, -10.35868455, -10.95617677,  -8.81238469,\n",
       "       -10.95981923,  -9.96873106, -10.97795246, -10.5321683 ,\n",
       "       -10.89914002, -11.11521803, -12.2661826 , -11.30121883,\n",
       "       -10.46100994, -10.37924451, -11.15818803, -10.03294347,\n",
       "       -12.07240909,  -9.84633661, -12.14999836, -13.14197754,\n",
       "       -11.25902562, -11.09505774, -10.91965935, -11.20321685,\n",
       "       -11.89846034, -11.25773947, -10.20064148, -11.49234083,\n",
       "       -10.67409549, -10.55234057, -10.79080742, -12.71281193,\n",
       "       -10.5131951 , -10.94299533, -11.84996616, -13.47752075,\n",
       "       -10.75850794, -12.24684942,  -8.21835482, -10.07743211,\n",
       "       -12.18225589, -11.69723072, -11.4049415 ,  -9.8686952 ,\n",
       "        -9.67383886, -11.78132549, -11.25905741, -11.64424028,\n",
       "        -9.68944329, -13.0024892 , -10.35702862, -10.31944759,\n",
       "       -10.82815445, -12.18636089, -12.29947941,  -9.04620829,\n",
       "       -11.34705826, -10.53215714,  -9.91169197, -10.10969332,\n",
       "       -10.41380203,  -9.14594683,  -9.14501711, -10.52415153,\n",
       "       -11.06225339, -10.91576336, -11.5914175 ,  -9.77305045,\n",
       "       -11.71967522, -11.22272923, -12.00359658, -10.80153952,\n",
       "       -10.22500318, -12.31394218, -11.03005894, -12.17830328,\n",
       "       -11.90925367,  -9.9464334 , -10.98561069, -10.18296511,\n",
       "       -10.02854445,  -9.34735044, -11.47193148, -10.85701701,\n",
       "       -10.33055191, -11.52180698, -10.85142678,  -9.88236552,\n",
       "       -11.23969172, -11.97306307,  -9.09640809,  -8.45977634,\n",
       "       -11.78662676, -12.29619767, -10.62019262, -11.03220013,\n",
       "       -10.57513222, -12.17432786, -11.16547351, -11.76719256,\n",
       "       -10.75003402, -13.01133727, -10.75691934, -10.89692216,\n",
       "        -9.79851398, -11.02914839, -12.11218697, -12.09554211,\n",
       "       -10.14953045, -10.52748787, -11.06443299,  -9.92311176,\n",
       "       -10.98968538, -10.699606  , -10.49649734,  -9.97632594,\n",
       "       -10.59526566, -10.25328168, -11.98724642,  -9.64577053,\n",
       "       -11.4798677 , -11.46273958, -11.13992511, -11.64786743,\n",
       "       -10.581186  , -12.13423452, -12.52070514, -11.69016245,\n",
       "       -12.75762918, -11.86669228, -10.77609949, -11.43417575,\n",
       "       -10.22769462, -12.22947587, -10.653376  , -10.83860272,\n",
       "        -9.8625412 , -10.27763195,  -8.64021282,  -9.32718096,\n",
       "       -10.93507082, -11.29440265, -10.45723292, -13.00190176,\n",
       "       -10.59508216, -12.27937742,  -9.17051608, -10.9852922 ,\n",
       "        -9.23507855, -10.10914509, -10.97084321, -12.48860215,\n",
       "        -9.16724972, -12.21084141, -13.13890932, -10.90581402,\n",
       "       -12.11683341, -11.32200852, -11.15501848, -10.10978047,\n",
       "       -12.92926094, -11.48496385, -11.35476595,  -8.78529969,\n",
       "       -10.4876206 , -11.33815186, -11.93558445, -11.270253  ,\n",
       "       -11.93337789, -11.21690136, -11.10193025, -11.19205709,\n",
       "        -9.59080229, -11.29024086, -13.00659134, -12.67020973,\n",
       "       -11.02218456, -11.78710585, -10.39377614, -11.00400487,\n",
       "       -11.48354743, -10.09522792, -10.3401378 , -12.87657495,\n",
       "       -12.37438989, -12.06480733, -10.57007563, -13.11852013,\n",
       "       -11.05413109, -11.6975934 , -10.09830393, -10.54434476,\n",
       "       -10.94819865, -10.76623902, -10.64112924, -11.54151626,\n",
       "        -8.93094625, -12.37485813,  -8.56710541,  -8.8086721 ,\n",
       "       -11.98691587, -11.86962037, -11.32045995, -11.62626825,\n",
       "       -11.11661802, -11.33972503,  -8.22934424, -11.45670622,\n",
       "        -9.79857932, -10.85867709, -10.5449038 , -11.31436563,\n",
       "       -10.55670273,  -9.37377208,  -9.33294785, -10.38616654,\n",
       "       -11.79899234,  -9.81218174, -12.15173961, -13.23505861,\n",
       "       -10.82356048,  -9.52392761, -10.64034708, -11.58664663,\n",
       "       -11.08913897, -10.36290123, -10.21754112, -11.44380466,\n",
       "       -12.44510561, -10.78616811, -10.30643491, -10.96917682,\n",
       "        -8.93010794, -10.99603058, -11.43860886, -11.55227766,\n",
       "       -10.80044097, -12.53630537, -12.16659882, -12.24312658,\n",
       "       -13.00369922,  -9.48524608, -11.90218698,  -9.75499674,\n",
       "        -9.52400437, -12.30809448, -10.68221294, -10.17649281,\n",
       "       -10.79056449, -12.26423612, -10.6747303 , -12.50911845,\n",
       "       -10.76724597, -10.4407245 , -10.51574527,  -9.97716715,\n",
       "       -10.05209776, -12.56550295, -11.52111557, -10.92967173,\n",
       "       -10.07305022, -11.54620016,  -8.97923632, -11.44490005,\n",
       "        -9.8627736 , -10.85413375, -12.78466275, -10.5325325 ,\n",
       "       -11.6423214 , -11.78206535, -11.40931072, -10.04006209,\n",
       "        -9.27006944, -11.78002204, -12.68433674, -10.97128983,\n",
       "       -12.09010622, -10.45390677, -12.24053171, -10.66999894,\n",
       "       -10.14702259, -11.21663384,  -9.43810432, -11.59583777,\n",
       "       -10.10510686, -12.35604525, -10.24840645, -10.41441375,\n",
       "       -11.17461569, -11.14718257, -10.72643469, -13.44461014,\n",
       "       -11.41917998, -11.46077294, -10.57864904, -11.59442169,\n",
       "       -11.62882738, -11.04287143, -10.91454405,  -9.29613967,\n",
       "       -11.79963199, -12.58893961, -12.21728068, -12.32949996,\n",
       "       -11.25584312, -10.8029131 , -11.14933369, -11.68177244,\n",
       "       -10.04993788, -11.2365014 , -10.55094748, -10.98422161,\n",
       "       -11.06857522, -11.33879184, -10.69051018, -10.4785867 ,\n",
       "       -12.18398754, -11.68344376, -12.54161447, -11.90347208,\n",
       "       -11.68916867, -11.32658952,  -9.79758654,  -9.8055746 ,\n",
       "        -9.31338275, -10.09914883, -12.20795044,  -8.43663498,\n",
       "       -11.98149122, -10.75350173, -10.56304024, -10.81605129,\n",
       "       -10.88113262, -11.73110396, -12.1138645 , -10.74863552,\n",
       "       -10.07615128, -11.20687285,  -9.62206918, -12.02599512,\n",
       "        -9.61517566, -10.03757044, -10.73206624, -11.90676742,\n",
       "       -12.05650688, -11.80869477, -10.65021516,  -9.2887585 ,\n",
       "        -9.91138799, -13.50148183,  -9.92116336, -12.18391105,\n",
       "       -11.47029974, -11.63361592, -10.47177529, -13.28157447,\n",
       "        -9.69173306, -10.71376086])"
      ]
     },
     "execution_count": 143,
     "metadata": {},
     "output_type": "execute_result"
    }
   ],
   "source": [
    "A[L==-1]"
   ]
  },
  {
   "cell_type": "code",
   "execution_count": 142,
   "metadata": {},
   "outputs": [],
   "source": [
    "A=-5+6*L+np.random.normal(0,1,1000)"
   ]
  },
  {
   "cell_type": "code",
   "execution_count": 120,
   "metadata": {},
   "outputs": [],
   "source": [
    "#A[L==-1]=-5+6*L[L==-1]+np.random.normal(0,2,len(L[L==-1]))"
   ]
  },
  {
   "cell_type": "code",
   "execution_count": 121,
   "metadata": {},
   "outputs": [],
   "source": [
    "#A=L+np.random.normal(0,1,1000)\n",
    "B=A**2+np.random.normal(0,1,1000)"
   ]
  },
  {
   "cell_type": "code",
   "execution_count": 122,
   "metadata": {},
   "outputs": [
    {
     "data": {
      "text/plain": [
       "<matplotlib.collections.PathCollection at 0x7fb4e7e3aaf0>"
      ]
     },
     "execution_count": 122,
     "metadata": {},
     "output_type": "execute_result"
    },
    {
     "data": {
      "image/png": "[encoded data removed]",
      "text/plain": [
       "<Figure size 432x288 with 1 Axes>"
      ]
     },
     "metadata": {
      "needs_background": "light"
     },
     "output_type": "display_data"
    }
   ],
   "source": [
    "plt.scatter(A,B)"
   ]
  },
  {
   "cell_type": "code",
   "execution_count": 10,
   "metadata": {},
   "outputs": [],
   "source": [
    "fo=open(\"../LinearDifferentvalues/testing_writingvalues_Linear0to1.txt\", \"r\")\n",
    "L=[]\n",
    "A=[]\n",
    "B=[]\n",
    "#fe=open(\"dataset_params.txt\",'w')\n",
    "for i in range(0,121):\n",
    "    line=fo.readline()\n",
    "    #fe.write(line)\n",
    "    #line=line[1:-2] #remove double quotes \n",
    "    #param = [j for j in line.split()]\n",
    "    #print(param)\n",
    "    #chrname.append(param[1])\n",
    "    #g1.append(param[2])\n",
    "    #g2.append(param[3])\n",
    "    line=fo.readline()\n",
    "    l = [j for j in line.split()]\n",
    "    L.append([int(i) for i in l])\n",
    "    line=fo.readline()\n",
    "    a = [j for j in line.split()]\n",
    "    A.append([float(i) for i in a])\n",
    "    line=fo.readline()\n",
    "    b = [j for j in line.split()]\n",
    "    B.append([float(i) for i in b])\n",
    "dataset_linear = [i for i in zip(L,A,B)]\n",
    "fo.close()\n",
    "#fe.close()"
   ]
  },
  {
   "cell_type": "code",
   "execution_count": 12,
   "metadata": {},
   "outputs": [
    {
     "data": {
      "text/plain": [
       "121"
      ]
     },
     "execution_count": 12,
     "metadata": {},
     "output_type": "execute_result"
    }
   ],
   "source": [
    "len(dataset_linear)"
   ]
  },
  {
   "cell_type": "code",
   "execution_count": 13,
   "metadata": {},
   "outputs": [],
   "source": [
    "fer=open(\"../LinearDifferentvalues/dataset_params_Linear0to1.txt\",\"r\")\n",
    "dataset_names=[]\n",
    "for i in range(0,121):\n",
    "    line=fer.readline()\n",
    "    line=\"_\".join(line.split())\n",
    "    dataset_names.append(line)\n",
    "fer.close()"
   ]
  },
  {
   "cell_type": "code",
   "execution_count": 15,
   "metadata": {},
   "outputs": [
    {
     "data": {
      "text/plain": [
       "'0.3_0.3'"
      ]
     },
     "execution_count": 15,
     "metadata": {},
     "output_type": "execute_result"
    }
   ],
   "source": [
    "dataset_names[24]"
   ]
  },
  {
   "cell_type": "code",
   "execution_count": 20,
   "metadata": {},
   "outputs": [],
   "source": [
    "def calculate_pvalue(original,loss_list):\n",
    "    '''\n",
    "    calculate the p value \n",
    "    '''\n",
    "    return sum(i < original for i in loss_list)/len(loss_list)\n",
    "    \n",
    "    "
   ]
  },
  {
   "cell_type": "code",
   "execution_count": 19,
   "metadata": {},
   "outputs": [],
   "source": [
    "def compute_third_testloss(A,B):\n",
    "    opt = tf.optimizers.Adam(1e-2)\n",
    "    mdn_PQ = MDN_module()\n",
    "    mdn_PQ.compile(loss=gnll_loss, optimizer=opt)\n",
    "##changing epochs didnt make much difference\n",
    "\n",
    "#mdn_PQ.fit(x=C, y=np.array(B).T,epochs=300,  batch_size=64)\n",
    "    withoutL=mdn_PQ.fit(x=A, y=B.T,epochs=100,  batch_size=64,verbose=0)\n",
    "    y_pred = mdn_PQ.predict(A)\n",
    "    alpha,mu,sigma = slice_parameter_vectors(y_pred)\n",
    "    gm = tfd.MixtureSameFamily(\n",
    "        mixture_distribution=tfd.Categorical(probs=alpha),\n",
    "        components_distribution=tfd.Normal(\n",
    "            loc=mu,       \n",
    "            scale=sigma))\n",
    "    log_likelihood = gm.log_prob(B).numpy()\n",
    "    return -tf.reduce_mean(log_likelihood, axis=-1).numpy()"
   ]
  },
  {
   "cell_type": "code",
   "execution_count": 18,
   "metadata": {},
   "outputs": [],
   "source": [
    "def calculate_difference(L,A,B):\n",
    "    return compute_third_testloss(reshapevar(A),np.array(B))-compute_third_testloss(np.concatenate([L.reshape(-1,1),A.reshape(-1,1)],axis=1),np.array(B))\n",
    "    "
   ]
  },
  {
   "cell_type": "code",
   "execution_count": 17,
   "metadata": {},
   "outputs": [],
   "source": [
    "def stratify_B_n_times_diff(L,A,B,n):\n",
    "    loss=[]\n",
    "    indices_1 = [i for i, x in enumerate(L) if x == 1]\n",
    "    #changin x==0 to x=-1\n",
    "    indices_0 = [i for i, x in enumerate(L) if x == 0]\n",
    "    for i in range(0,n):\n",
    "        B_dist_temp=np.zeros(len(B))\n",
    "        mod_indices_1=random.sample(indices_1,len(indices_1))\n",
    "        for i in range(len(indices_1)):\n",
    "            B_dist_temp[indices_1[i]]=B[mod_indices_1[i]]\n",
    "\n",
    "        mod_indices_0=random.sample(indices_0,len(indices_0))\n",
    "        for i in range(len(indices_0)):\n",
    "            B_dist_temp[indices_0[i]]=B[mod_indices_0[i]]\n",
    "        loss.append(calculate_difference(L,A,B_dist_temp))\n",
    "    return loss"
   ]
  },
  {
   "cell_type": "code",
   "execution_count": 26,
   "metadata": {},
   "outputs": [
    {
     "name": "stderr",
     "output_type": "stream",
     "text": [
      "2022-07-20 16:59:51.098703: W tensorflow/stream_executor/platform/default/dso_loader.cc:64] Could not load dynamic library 'libcuda.so.1'; dlerror: libcuda.so.1: cannot open shared object file: No such file or directory\n",
      "2022-07-20 16:59:51.098737: W tensorflow/stream_executor/cuda/cuda_driver.cc:269] failed call to cuInit: UNKNOWN ERROR (303)\n",
      "2022-07-20 16:59:51.098756: I tensorflow/stream_executor/cuda/cuda_diagnostics.cc:156] kernel driver does not appear to be running on this host (birds05-Precision-Tower-3620): /proc/driver/nvidia/version does not exist\n",
      "2022-07-20 16:59:51.116534: I tensorflow/core/platform/cpu_feature_guard.cc:151] This TensorFlow binary is optimized with oneAPI Deep Neural Network Library (oneDNN) to use the following CPU instructions in performance-critical operations:  AVX2 FMA\n",
      "To enable them in other operations, rebuild TensorFlow with the appropriate compiler flags.\n"
     ]
    }
   ],
   "source": [
    "    i=24\n",
    "    A=np.array(dataset_linear[i][1])\n",
    "    B=np.array(dataset_linear[i][2])\n",
    "    L=np.array(dataset_linear[i][0])\n",
    "    shuffles=10\n",
    "    A_shuffle=np.copy(A)\n",
    "    B_shuffle=np.copy(B)\n",
    "    #print(\"Original\",B_shuffle)\n",
    "    #changed the second test from mle to using neural networks\n",
    "    loss_list_LA=shuffleBtimes(L,A_shuffle,shuffles,True)\n",
    "    loss_list_LB=shuffleBtimes(L,B_shuffle,shuffles,True)\n",
    "    loss_list_Bresidual=stratify_B_n_times_diff(L,A_shuffle,B_shuffle,shuffles) #conditional independence test\n",
    "    true_LA=compute_loss(L,A,True)\n",
    "    true_LB=compute_loss(L,B,True)\n",
    "    true_LBresidual=calculate_difference(L,A,B)\n",
    "    LA_p=calculate_pvalue(true_LA,loss_list_LA)\n",
    "    LB_p=calculate_pvalue(true_LB,loss_list_LB)\n",
    "    AB_p=calculate_pvalue(true_LBresidual,loss_list_Bresidual)\n",
    "    #f.write(str(i)+\",\"+str(LA_p)+\",\"+str(LB_p)+\",\"+str(AB_p)+\"\\n\")\n",
    "    #pickle_items=[loss_list_LA,loss_list_LB,loss_list_Bresidual,true_LA,true_LB,true_LBresidual,LA_p,LB_p,AB_p]\n",
    "    #file_name=str(dataset_names[i])+\".pkl\"\n",
    "    #open_file = open(\"./DLresultspickle/\"+file_name, \"wb\")\n",
    "    #pickle.dump(pickle_items, open_file)\n",
    "    #open_file.close()"
   ]
  },
  {
   "cell_type": "code",
   "execution_count": 27,
   "metadata": {},
   "outputs": [
    {
     "name": "stdout",
     "output_type": "stream",
     "text": [
      "0.0\n",
      "0.0\n",
      "0.4\n"
     ]
    }
   ],
   "source": [
    "#print(dataset_names[120])\n",
    "print(LA_p)\n",
    "print(LB_p)\n",
    "print(AB_p)"
   ]
  },
  {
   "cell_type": "code",
   "execution_count": 32,
   "metadata": {
    "scrolled": true
   },
   "outputs": [
    {
     "data": {
      "text/plain": [
       "[1.460673089567857,\n",
       " 1.4602832304211348,\n",
       " 1.4606215430903624,\n",
       " 1.460701236985601,\n",
       " 1.4603112463100398,\n",
       " 1.460742775266244,\n",
       " 1.460517507338415,\n",
       " 1.4605780198332896,\n",
       " 1.4595929775892673,\n",
       " 1.4597127737722275]"
      ]
     },
     "execution_count": 32,
     "metadata": {},
     "output_type": "execute_result"
    }
   ],
   "source": [
    "loss_list_LB"
   ]
  },
  {
   "cell_type": "code",
   "execution_count": 44,
   "metadata": {},
   "outputs": [
    {
     "data": {
      "text/plain": [
       "0.011517048"
      ]
     },
     "execution_count": 44,
     "metadata": {},
     "output_type": "execute_result"
    }
   ],
   "source": [
    "true_LBresidual"
   ]
  },
  {
   "cell_type": "code",
   "execution_count": 45,
   "metadata": {},
   "outputs": [
    {
     "data": {
      "text/plain": [
       "[0.011733532,\n",
       " 0.010611057,\n",
       " 0.012115121,\n",
       " 0.012776256,\n",
       " 0.01239872,\n",
       " 0.0068571568,\n",
       " 0.01448679,\n",
       " 0.006354451,\n",
       " 0.006739974,\n",
       " 0.013059139]"
      ]
     },
     "execution_count": 45,
     "metadata": {},
     "output_type": "execute_result"
    }
   ],
   "source": [
    "loss_list_Bresidual"
   ]
  },
  {
   "cell_type": "code",
   "execution_count": 56,
   "metadata": {},
   "outputs": [],
   "source": [
    "A=A.reshape((1000,1))"
   ]
  },
  {
   "cell_type": "code",
   "execution_count": 57,
   "metadata": {},
   "outputs": [],
   "source": [
    "B=B.reshape((1000,1))"
   ]
  },
  {
   "cell_type": "code",
   "execution_count": 58,
   "metadata": {},
   "outputs": [],
   "source": [
    "L=L.reshape((1000,1))"
   ]
  },
  {
   "cell_type": "code",
   "execution_count": 66,
   "metadata": {},
   "outputs": [
    {
     "data": {
      "text/plain": [
       "1.276148102341348e-15"
      ]
     },
     "execution_count": 66,
     "metadata": {},
     "output_type": "execute_result"
    }
   ],
   "source": [
    "CCIT.CCIT(L,B,A,num_iter = 30, bootstrap = True, nthread = 20) "
   ]
  },
  {
   "cell_type": "code",
   "execution_count": null,
   "metadata": {},
   "outputs": [],
   "source": []
  },
  {
   "cell_type": "code",
   "execution_count": 47,
   "metadata": {},
   "outputs": [
    {
     "data": {
      "text/plain": [
       "<matplotlib.collections.PathCollection at 0x7fd0d9bfbb50>"
      ]
     },
     "execution_count": 47,
     "metadata": {},
     "output_type": "execute_result"
    },
    {
     "data": {
      "image/png": "[encoded data removed]",
      "text/plain": [
       "<Figure size 432x288 with 1 Axes>"
      ]
     },
     "metadata": {
      "needs_background": "light"
     },
     "output_type": "display_data"
    }
   ],
   "source": [
    "plt.scatter(L,B)"
   ]
  },
  {
   "cell_type": "code",
   "execution_count": 33,
   "metadata": {},
   "outputs": [],
   "source": [
    "i=120\n",
    "#A=np.array(dataset_linear[i][1])\n",
    "#B=np.array(dataset_linear[i][2])\n",
    "#L=np.array(dataset_linear[i][0])\n",
    "opt = tf.optimizers.Adam(1e-2)\n",
    "mdn_PQ = MDN_module()\n",
    "mdn_PQ.compile(loss=gnll_loss, optimizer=opt)\n",
    "withoutL=mdn_PQ.fit(x=np.concatenate([L.reshape(-1,1),A.reshape(-1,1)],axis=1), y=B.T,epochs=100,  batch_size=64,verbose=0)\n",
    "y_pred = mdn_PQ.predict(np.concatenate([L.reshape(-1,1),A.reshape(-1,1)],axis=1))\n"
   ]
  },
  {
   "cell_type": "code",
   "execution_count": 34,
   "metadata": {},
   "outputs": [
    {
     "data": {
      "text/plain": [
       "Text(0.5, 1.0, 'Original data with added information of L')"
      ]
     },
     "execution_count": 34,
     "metadata": {},
     "output_type": "execute_result"
    },
    {
     "data": {
      "image/png": "[encoded data removed]",
      "text/plain": [
       "<Figure size 432x288 with 1 Axes>"
      ]
     },
     "metadata": {
      "needs_background": "light"
     },
     "output_type": "display_data"
    }
   ],
   "source": [
    "plt.scatter(A,B)\n",
    "plt.scatter(A,y_pred[:,1])\n",
    "plt.xlabel(\"A\")\n",
    "plt.ylabel(\"B\")\n",
    "plt.title(\"Original data with added information of L\")"
   ]
  },
  {
   "cell_type": "code",
   "execution_count": 27,
   "metadata": {},
   "outputs": [],
   "source": [
    "L = np.random.binomial(1,0.5,1000)  \n",
    "eps0 = np.random.normal(0,0.1,1000)\n",
    "eps1 = np.random.normal(0,0.1,1000)\n",
    "A = 1*L + eps0\n",
    "#B=beta2+beta3*np.sin(A)+eps1\n",
    "B =1*A + eps1 "
   ]
  },
  {
   "cell_type": "code",
   "execution_count": 35,
   "metadata": {},
   "outputs": [],
   "source": [
    "i=39\n",
    "#A=np.array(dataset_linear[i][1])\n",
    "#B=np.array(dataset_linear[i][2])\n",
    "#L=np.array(dataset_linear[i][0])\n",
    "opt = tf.optimizers.Adam(1e-2)\n",
    "mdn_PQ = MDN_module()\n",
    "mdn_PQ.compile(loss=gnll_loss, optimizer=opt)\n",
    "withoutL=mdn_PQ.fit(x=reshapevar(A), y=B.T,epochs=100,  batch_size=64,verbose=0)\n",
    "y_pred = mdn_PQ.predict(reshapevar(A))\n"
   ]
  },
  {
   "cell_type": "code",
   "execution_count": 128,
   "metadata": {},
   "outputs": [
    {
     "data": {
      "text/plain": [
       "Text(0.5, 1.0, 'Original data without the added information')"
      ]
     },
     "execution_count": 128,
     "metadata": {},
     "output_type": "execute_result"
    },
    {
     "data": {
      "image/png": "[encoded data removed]",
      "text/plain": [
       "<Figure size 432x288 with 1 Axes>"
      ]
     },
     "metadata": {
      "needs_background": "light"
     },
     "output_type": "display_data"
    }
   ],
   "source": [
    "plt.scatter(A,B)\n",
    "plt.scatter(A,y_pred[:,1])\n",
    "plt.xlabel(\"A\")\n",
    "plt.ylabel(\"B\")\n",
    "plt.title(\"Original data without the added information\")\n"
   ]
  },
  {
   "cell_type": "code",
   "execution_count": 36,
   "metadata": {},
   "outputs": [],
   "source": [
    "indices_1 = [i for i, x in enumerate(L) if x == 1]\n",
    "indices_0 = [i for i, x in enumerate(L) if x == 0]\n",
    "#indices_2 = [i for i, x in enumerate(L) if x == -1]\n",
    "B_dist_temp=np.zeros(len(B))\n",
    "mod_indices_1=random.sample(indices_1,len(indices_1))\n",
    "for i in range(len(indices_1)):\n",
    "    B_dist_temp[indices_1[i]]=B[mod_indices_1[i]]\n",
    "\n",
    "mod_indices_0=random.sample(indices_0,len(indices_0))\n",
    "for i in range(len(indices_0)):\n",
    "    B_dist_temp[indices_0[i]]=B[mod_indices_0[i]]\n",
    "#mod_indices_2=random.sample(indices_2,len(indices_2))\n",
    "#for i in range(len(indices_2)):\n",
    "#    B_dist_temp[indices_2[i]]=B[mod_indices_2[i]]"
   ]
  },
  {
   "cell_type": "code",
   "execution_count": 129,
   "metadata": {},
   "outputs": [],
   "source": [
    "indices_1 = [i for i, x in enumerate(L) if x == 1]\n",
    "indices_0 = [i for i, x in enumerate(L) if x == -1]\n",
    "B_dist_temp=np.zeros(len(B))\n",
    "mod_indices_1=random.sample(indices_1,len(indices_1))\n",
    "for i in range(len(indices_1)):\n",
    "    B_dist_temp[indices_1[i]]=B[mod_indices_1[i]]\n",
    "\n",
    "mod_indices_0=random.sample(indices_0,len(indices_0))\n",
    "for i in range(len(indices_0)):\n",
    "    B_dist_temp[indices_0[i]]=B[mod_indices_0[i]]"
   ]
  },
  {
   "cell_type": "code",
   "execution_count": 37,
   "metadata": {},
   "outputs": [
    {
     "data": {
      "text/plain": [
       "array([ 4.64272508e-01, -6.72118413e-01,  1.23743249e-01,  4.42534580e-01,\n",
       "       -2.87350788e-01, -1.45635258e+00,  3.75577108e-01, -1.18107416e+00,\n",
       "       -1.02360806e+00, -6.88692698e-01, -1.57612197e+00,  7.47027117e-01,\n",
       "        1.99266800e+00,  9.69020658e-01,  7.04530452e-01,  3.34241646e-01,\n",
       "       -5.94478511e-01, -3.70997581e-01, -1.24129501e-01, -1.75279115e+00,\n",
       "       -5.69569250e-01,  8.77806356e-01,  9.06322597e-01,  2.14091027e-01,\n",
       "       -1.20428095e+00,  2.52791641e+00, -1.48846449e+00, -1.09476365e+00,\n",
       "       -4.70654344e-01, -1.91735197e-01, -1.55231016e+00,  4.86099067e-01,\n",
       "       -1.97222396e+00, -1.55002421e+00, -7.94361367e-01, -6.99895795e-01,\n",
       "       -1.52163913e+00, -1.01653133e+00, -1.21111804e+00, -6.59684971e-02,\n",
       "        9.49137451e-01, -3.32707159e-01, -1.75510043e+00,  7.13088259e-01,\n",
       "        1.67367491e-01,  1.97734991e-01, -4.62660099e-01,  5.05088965e-01,\n",
       "       -4.21186820e-01, -5.67391306e-01,  1.87510905e+00, -4.89686522e-01,\n",
       "       -1.50450684e+00,  3.60762253e-02,  1.59156138e+00, -1.79031894e-01,\n",
       "       -2.27495250e-02, -3.25978575e-01, -4.66452503e-01, -1.20470281e+00,\n",
       "        4.25815778e-01,  1.69158906e+00,  1.62913153e-02, -7.40692449e-01,\n",
       "       -1.37992626e+00, -3.62581122e-01,  1.07410370e+00,  4.03722533e-01,\n",
       "       -2.69059671e-01, -9.75058733e-01, -5.99693783e-02,  1.00062479e+00,\n",
       "        2.14377752e-01, -1.12587495e-01,  1.83523457e+00, -7.74894610e-01,\n",
       "        8.65088125e-01,  1.44529462e+00,  1.25721008e+00,  4.80093114e-01,\n",
       "       -1.00783566e+00, -9.00083092e-01, -4.48467561e-02,  3.03272207e-01,\n",
       "       -7.69755621e-01,  1.29623719e+00, -1.87371207e+00,  1.08865274e+00,\n",
       "       -1.32994421e+00,  1.51645502e+00,  4.01847146e-01, -2.16355816e-01,\n",
       "       -5.93632173e-01,  4.71346585e-01,  1.14332870e+00, -1.45500182e-01,\n",
       "        3.20900501e-01,  2.93253594e-01,  5.84712147e-02,  1.18837481e+00,\n",
       "        7.03609489e-01,  2.76141202e-01, -1.27616841e+00,  1.58464098e+00,\n",
       "        8.60359101e-01, -8.13269896e-01,  1.76605250e+00,  1.20788897e+00,\n",
       "        2.96640020e-01, -1.90538213e+00,  1.59972446e-01,  5.10149485e-01,\n",
       "       -3.86840876e-01, -6.92642546e-01,  3.65819447e-01, -1.04460567e+00,\n",
       "        1.57713082e+00,  5.77412388e-01, -4.26300424e-01,  3.94697481e-01,\n",
       "       -1.30485226e+00,  7.05353985e-01, -1.63634941e+00,  6.73377826e-01,\n",
       "       -3.00365181e-01,  1.03644017e+00,  5.35160070e-01, -2.69283222e-01,\n",
       "        1.85557234e-01, -1.27252485e+00, -3.59236582e-01,  8.31026301e-01,\n",
       "        6.47712041e-01,  2.32776919e-01,  2.13090319e-01,  2.01864434e+00,\n",
       "        1.12146342e+00, -1.68356754e-01, -5.33115090e-02,  6.00301009e-01,\n",
       "       -9.83892909e-01,  1.21544805e-01, -1.40102604e+00,  1.88454709e+00,\n",
       "        8.09211961e-01, -5.13588544e-01,  9.18876624e-02, -2.96813227e-02,\n",
       "        3.15716034e+00,  1.75281265e+00, -1.82771399e-01, -2.68655346e-01,\n",
       "        7.32947563e-01, -2.71769652e-01, -3.09247185e-01, -3.01403655e-01,\n",
       "        5.72640379e-01,  6.07640658e-01,  1.42776779e+00,  1.50656780e-01,\n",
       "        1.24525433e+00, -5.90403900e-01, -1.86481127e+00, -1.68361306e-01,\n",
       "        2.80717871e+00,  6.37163343e-01,  1.02494619e+00, -4.12641748e-01,\n",
       "        1.85473853e-01, -4.21458687e-01,  1.53023036e+00, -2.96230506e-01,\n",
       "       -3.00178227e-01, -7.81586138e-01, -1.96681528e-01, -3.29369194e-01,\n",
       "       -1.15696028e+00,  2.15334333e-01, -6.22848917e-01, -1.77018189e+00,\n",
       "        1.27384221e+00,  8.29411543e-01,  8.52023762e-01,  2.69885396e-02,\n",
       "        1.37626065e-01, -3.38958805e-01,  1.94422216e-01, -4.19814980e-01,\n",
       "        1.26557364e+00,  1.26234013e+00,  2.28444918e-01, -8.93158985e-02,\n",
       "       -8.69479870e-01, -8.51840974e-01,  6.41558223e-02, -2.95473406e-01,\n",
       "        6.70580253e-01, -1.33397613e+00,  7.29094041e-01,  4.56699014e-01,\n",
       "        1.98800896e-01, -2.84993291e-01,  1.08901462e+00,  1.18311379e-02,\n",
       "        9.94482399e-01, -1.27870271e+00, -5.43659621e-01,  2.05573019e+00,\n",
       "       -2.15205601e-01,  3.34825231e-02, -2.90658996e-01, -1.79679923e+00,\n",
       "       -1.32295274e-01, -4.18735488e-01,  4.08772943e-01,  1.15826239e+00,\n",
       "       -2.04824911e-01,  9.75990798e-01,  3.56342026e-01,  1.36984971e-01,\n",
       "       -6.96837312e-01, -1.14622219e+00, -1.49129979e-01,  1.17984633e+00,\n",
       "        4.79049897e-02,  1.44375606e+00,  1.37126757e-01,  6.27562567e-01,\n",
       "        7.02341385e-01,  2.46939002e-01, -8.02805908e-01,  6.88418106e-01,\n",
       "        9.17902540e-01,  3.61981078e-01,  5.09367511e-01, -1.40665034e-01,\n",
       "       -4.31587621e-01,  1.91690557e+00, -3.03265436e-02,  1.43289040e+00,\n",
       "        2.69388322e-01,  3.11661062e+00,  1.17146034e+00, -1.98880820e-01,\n",
       "        1.71064226e+00, -2.69600414e+00, -1.01870290e+00,  1.25137248e+00,\n",
       "        1.39482061e+00, -1.08442963e+00, -6.72168889e-01, -4.93505082e-01,\n",
       "       -6.94477398e-01, -1.96002348e-01,  4.02096844e-01,  1.44555832e-01,\n",
       "       -1.88059222e+00, -1.09903577e+00,  1.18084424e+00, -2.03239054e-01,\n",
       "       -1.39244093e+00, -7.12106310e-01, -4.25474506e-01,  1.88438555e+00,\n",
       "       -4.90120064e-01, -7.81176999e-01,  2.05723970e-01, -6.59971608e-01,\n",
       "       -3.44096577e-01,  7.02935321e-01, -3.19274993e-01,  1.96168982e-01,\n",
       "       -1.93122101e+00,  5.62149840e-01, -4.66961880e-01,  3.10269344e-01,\n",
       "       -1.84237947e+00, -8.71998259e-01, -1.35394837e+00, -7.69198450e-01,\n",
       "        8.68107553e-01, -9.43202533e-01,  1.93005822e+00,  9.89066436e-02,\n",
       "       -1.98181054e-01,  1.55491201e+00, -8.74775305e-01,  2.70716372e-01,\n",
       "        1.44852157e+00,  1.99999965e+00,  1.89686805e+00, -6.68654224e-01,\n",
       "        4.16256648e-01, -3.05248421e-01,  9.43404802e-01, -8.45470010e-01,\n",
       "        5.52604279e-01, -9.70188736e-02, -9.00792862e-01,  7.77085284e-01,\n",
       "       -1.10711652e+00, -3.96911625e-01,  9.64333374e-01,  1.91924467e+00,\n",
       "       -1.67791740e+00,  4.11815332e-01,  8.61681251e-01, -1.23039805e-01,\n",
       "        1.11030432e+00, -2.60632271e-01,  9.62212679e-01, -1.83554740e+00,\n",
       "        2.99641676e-01,  2.83265377e-01,  1.10656210e+00,  3.80956375e-02,\n",
       "        8.39908020e-01, -8.97866876e-02,  2.61426091e-01, -3.56957176e-01,\n",
       "        5.92417514e-01,  1.93976924e+00,  4.49285785e-01, -1.76374906e+00,\n",
       "        4.57617472e-01,  5.52810701e-01,  1.52263487e+00,  1.31304993e+00,\n",
       "       -1.13021209e+00,  5.67166228e-01, -3.00071352e-03,  9.72072268e-01,\n",
       "       -2.03593604e+00, -3.82069675e-01, -2.18295171e+00,  5.33405430e-02,\n",
       "        5.78821376e-01,  1.84879610e+00, -6.29248665e-01, -5.77832403e-01,\n",
       "        1.03480355e+00, -1.02995116e+00,  8.08559815e-02,  4.61263790e-01,\n",
       "        7.82670081e-01,  7.36995588e-02, -5.74831195e-01, -8.25963172e-01,\n",
       "       -1.38704982e+00,  1.02884428e+00, -4.49386096e-02,  4.32066115e-01,\n",
       "       -2.41487425e-01, -4.89182529e-01, -3.99296593e-01,  1.39382735e+00,\n",
       "        1.38532551e+00, -1.66557904e+00,  5.68828289e-01,  1.30206810e+00,\n",
       "       -1.58700586e+00, -5.83392158e-01,  1.09143007e+00, -1.13265796e+00,\n",
       "        1.42631987e+00, -7.65949016e-01,  1.96895402e+00,  8.77235938e-01,\n",
       "       -3.15308879e-01, -2.80274708e-01,  1.01996222e-01,  4.19480688e-01,\n",
       "       -4.90525692e-01,  1.77759247e+00,  1.26744750e+00, -1.18379557e+00,\n",
       "       -8.61190811e-01,  9.11943281e-01,  1.23281934e+00, -1.05346153e+00,\n",
       "        3.75869763e-01, -1.44735835e+00, -6.39047710e-02,  5.22248818e-01,\n",
       "        7.33322913e-01,  2.37998972e+00,  1.10750184e+00,  1.40668469e+00,\n",
       "       -2.26339326e-01, -7.34498660e-01,  6.60404995e-01, -6.00596136e-01,\n",
       "        9.91012616e-02,  9.32025751e-02, -3.35090403e-01, -1.16208937e+00,\n",
       "       -1.63302551e+00,  8.18356642e-01, -1.96423575e+00, -2.35362886e-01,\n",
       "        7.58970379e-01,  1.03782568e-01,  5.07622160e-01,  1.89511619e-01,\n",
       "       -8.62123093e-01, -4.01939122e-01, -6.63609862e-01,  1.78058806e-01,\n",
       "        8.11558461e-02, -2.36792586e+00,  1.47866170e+00,  1.70252608e+00,\n",
       "       -2.97092280e-01, -8.53230324e-01, -3.72327674e-01, -1.89720066e-02,\n",
       "       -6.43262373e-02, -4.26751024e-01,  6.92939111e-01, -6.53746024e-01,\n",
       "        1.64247643e+00, -1.04903598e+00,  9.73226567e-01,  1.04330470e+00,\n",
       "        3.87721143e-01, -7.15155998e-01, -1.19728420e+00,  1.17043264e+00,\n",
       "        1.12443909e+00,  6.56867035e-01,  3.21613420e-01,  4.71658885e-01,\n",
       "        4.89449040e-01,  1.95267623e+00, -1.70441261e+00,  7.11859306e-02,\n",
       "       -5.91042191e-01,  3.67360450e-01, -5.43181281e-01, -7.12114809e-02,\n",
       "        6.79246746e-01,  1.34898839e-01,  4.96944203e-01, -4.44083428e-01,\n",
       "        2.74634063e-01,  2.35423571e+00, -2.07452593e-01, -1.78709086e+00,\n",
       "       -3.10171114e-01, -2.36903697e-02, -2.61633891e-01,  3.30248887e-01,\n",
       "        1.80153768e+00,  1.64917889e+00,  1.15373010e+00,  1.54832029e+00,\n",
       "        3.04696743e-01,  3.84504704e-01,  2.08791493e+00,  6.89212000e-01,\n",
       "        7.71873993e-01,  2.63304983e-01, -4.02386598e-01,  1.41965546e+00,\n",
       "       -1.04631631e+00,  7.15921499e-01, -8.63964981e-01, -1.24064778e+00,\n",
       "       -1.26600472e-01,  1.28602674e-01,  1.73749113e+00,  2.64034790e-01,\n",
       "        1.41976565e+00, -8.00783644e-01,  1.61817166e+00, -2.64680323e-01,\n",
       "        1.57899797e+00,  2.46122478e-01,  1.14522786e+00,  6.46938276e-01,\n",
       "        7.63930488e-01, -1.40203818e-01, -9.32565261e-01,  3.53307223e-01,\n",
       "        9.26146257e-01,  7.98293611e-01, -1.24325394e+00,  8.37261392e-03,\n",
       "        6.09907523e-01, -1.05363383e+00, -1.46487318e+00, -1.54747842e+00,\n",
       "        3.55427245e-02,  7.10039271e-01, -1.68725160e+00,  3.76579657e-01,\n",
       "        4.41484903e-02,  1.61789961e+00,  1.24127786e+00, -1.09392771e+00,\n",
       "       -8.91626172e-02,  1.96532134e+00,  2.32134735e-01, -1.72489582e+00,\n",
       "        2.15146980e-01,  1.15748222e+00, -3.29907813e-01, -2.06628108e-01,\n",
       "        6.44358688e-01,  3.73221536e-01, -1.87183439e-01,  9.49634968e-01,\n",
       "        8.67891253e-01, -5.24948714e-02,  9.66064753e-01, -5.65552792e-01,\n",
       "        2.07301907e+00,  8.12749332e-01, -3.02124685e-01,  1.16921578e+00,\n",
       "        4.30171036e-01,  1.54790574e-01, -3.04008856e-01,  5.58303399e-01,\n",
       "        3.28078127e-02, -4.46181891e-01,  1.72641802e+00,  2.83033918e-01,\n",
       "       -1.35284633e+00,  1.04270673e+00,  1.02308160e-01, -6.08082691e-01,\n",
       "        7.78136962e-01, -1.89877683e-01, -1.88919700e+00,  9.33436806e-01,\n",
       "       -1.45357939e-01,  9.92834447e-01,  7.68897522e-01, -7.76564750e-02,\n",
       "       -4.76065423e-01, -1.10024833e+00,  8.93502075e-01, -5.13379615e-01,\n",
       "       -1.60365459e-01, -8.32412250e-01,  2.56219516e+00,  6.44738775e-01,\n",
       "       -7.20265434e-01, -7.34982679e-01,  1.08042830e+00,  6.61547393e-02,\n",
       "       -8.58769905e-01, -3.32260918e-01, -2.67198913e-01,  2.12518215e+00,\n",
       "        1.11522142e+00, -8.78087146e-02,  5.97127520e-01, -6.84195167e-01,\n",
       "        7.12266587e-01,  1.67626526e+00, -1.87418141e-01,  7.63502711e-01,\n",
       "        2.05024940e+00,  2.39159000e+00,  1.54566576e+00,  2.82369827e+00,\n",
       "       -2.03189424e-01,  2.77226696e-01,  5.52494162e-01, -9.99125276e-01,\n",
       "        3.20392080e-01, -4.90152028e-01, -5.27279723e-01, -1.75178272e+00,\n",
       "        9.09536509e-01,  8.26564271e-01, -3.79559827e-01, -4.77865909e-01,\n",
       "       -6.36278036e-02, -1.75753505e+00, -1.14838136e+00,  2.52419638e-02,\n",
       "        1.06003817e+00, -3.75785162e-01, -4.42720425e-01, -8.25413149e-01,\n",
       "       -5.17796241e-01,  6.57285854e-01, -6.89403263e-01, -1.05347329e+00,\n",
       "        1.97985439e+00,  5.55553276e-01,  2.01662805e+00, -1.20060575e+00,\n",
       "       -7.11736187e-01,  9.02766160e-01, -3.01058728e-01,  4.46454840e-01,\n",
       "       -1.82284262e+00, -1.57884558e+00,  3.88851180e-01,  8.88670747e-02,\n",
       "        1.76841881e+00,  1.35067027e-01,  1.46439864e+00,  5.70760450e-01,\n",
       "       -4.31016988e-01,  6.69109445e-01, -1.47837257e+00,  3.71504949e-01,\n",
       "       -3.46729011e-01,  1.71913490e+00,  4.36965500e-01,  1.33085019e+00,\n",
       "        3.80038767e-01,  2.62611878e-01,  3.47700433e-01, -1.57218426e+00,\n",
       "        3.47239876e-01, -9.31732455e-01, -3.85957639e-01,  1.25638634e+00,\n",
       "       -2.78114184e-01, -3.09730693e-01,  1.14982692e+00, -1.02783730e+00,\n",
       "        1.06539688e+00,  2.86634328e-01,  5.92446116e-01,  1.89770690e-01,\n",
       "        2.24269161e+00,  1.06902462e+00,  3.18028564e-01,  4.28969125e-01,\n",
       "       -1.27605868e+00,  6.58763269e-01,  7.90573374e-01, -2.69016647e-02,\n",
       "        7.68589671e-01,  5.74355380e-01,  7.89607568e-01,  2.27323348e+00,\n",
       "        9.73066745e-01, -4.89668647e-01, -1.04588559e+00,  5.65018658e-01,\n",
       "       -5.41491172e-01,  2.26119784e+00, -4.70256179e-01, -7.26565636e-02,\n",
       "       -6.57516632e-01, -1.06834707e+00, -2.55150010e-01, -5.46169460e-01,\n",
       "        4.69549566e-01, -1.31651693e+00,  2.10859633e+00, -2.69997727e-01,\n",
       "       -7.99284741e-01,  9.06687362e-01, -1.06456306e+00,  5.03079101e-01,\n",
       "        8.15861168e-01,  2.05354373e-01, -8.27915621e-01, -4.31896828e-01,\n",
       "       -6.29500001e-02, -1.85657176e+00,  1.29467760e+00, -1.29072655e+00,\n",
       "        9.67961555e-01, -7.45455452e-01, -1.57717816e+00, -2.18867834e+00,\n",
       "        2.72325138e+00,  2.07347423e-01, -6.70975234e-01, -9.98110929e-02,\n",
       "       -1.23070239e-01,  1.17315267e+00,  4.16537778e-02,  3.20103386e-01,\n",
       "        1.07633797e+00,  8.53634110e-01,  4.98259990e-01,  8.92228577e-01,\n",
       "        9.24265900e-01, -7.69334052e-01, -7.96115549e-01,  1.18524758e+00,\n",
       "        5.53678892e-01, -1.65944318e+00,  6.09088364e-01, -2.04003414e-01,\n",
       "        1.97602567e-01,  3.69599528e-01,  5.99718400e-01, -5.64636238e-02,\n",
       "       -8.87370290e-02,  6.31066789e-01,  1.38290791e+00,  5.61855589e-02,\n",
       "        5.99991809e-01,  8.47403450e-01,  4.61295594e-01, -8.76263592e-01,\n",
       "       -7.79965881e-01,  1.02427066e+00, -4.30078764e-01,  1.38363956e-01,\n",
       "       -9.03145978e-01, -1.10088899e+00,  9.93668461e-01, -1.87788083e+00,\n",
       "        1.56715520e+00,  1.01288779e+00, -6.13733786e-01,  9.55283244e-01,\n",
       "        7.79167337e-01,  5.80091902e-01,  1.63323111e-01, -1.92422337e+00,\n",
       "        1.18728113e+00, -1.62801894e+00,  1.31789667e+00, -1.64591349e+00,\n",
       "       -1.09374210e+00,  9.86736874e-01,  1.34530896e+00, -1.00079326e+00,\n",
       "        1.64744013e+00, -1.18007162e+00, -1.00179425e+00,  1.03064325e+00,\n",
       "       -9.56558092e-01,  1.01775624e+00,  2.46274079e+00,  2.61032432e-02,\n",
       "        8.16549751e-01, -1.20202045e+00, -6.22134118e-02, -5.23441799e-01,\n",
       "       -7.66999455e-01, -2.49540267e+00,  3.66679274e-01,  3.48495549e-01,\n",
       "       -7.03828524e-01, -1.36005834e+00, -1.13432199e+00, -5.32800628e-01,\n",
       "       -1.84447251e-04,  7.29222476e-01,  1.44969335e+00, -7.68702250e-01,\n",
       "       -1.30650561e-01, -1.44587892e+00, -1.14017242e-01,  1.98788080e+00,\n",
       "        3.68279262e-01,  5.69749253e-01, -8.56158143e-01,  5.30101590e-02,\n",
       "       -8.89152507e-01,  1.30459948e+00, -1.35423290e+00,  1.09167811e+00,\n",
       "        1.48879247e+00, -9.55175339e-01,  1.03581086e+00,  9.00983000e-01,\n",
       "       -1.31698538e+00, -1.78724116e+00, -5.32470618e-01, -2.34224668e-01,\n",
       "        1.62286378e+00,  1.10728264e+00,  1.98785781e+00, -3.91028635e-01,\n",
       "        1.55053430e+00,  7.59141822e-01,  1.93569826e+00, -7.30023147e-01,\n",
       "        1.39427925e+00, -1.57085953e+00, -4.94371127e-01,  2.00264512e+00,\n",
       "        6.50809342e-01, -1.49133210e-01,  2.97926063e-01,  1.61650527e+00,\n",
       "       -2.11461921e-01,  1.33115424e+00, -2.35905455e-01,  3.58974784e-01,\n",
       "        7.68025311e-01, -2.00579481e-03,  1.76956767e-01,  1.69815694e+00,\n",
       "       -1.56748509e+00,  1.56786938e+00,  5.12974916e-01, -2.35032946e+00,\n",
       "       -5.40011755e-01,  2.09381775e+00,  1.23477092e+00,  9.14500607e-02,\n",
       "        2.79433153e-01, -1.76698744e+00,  1.97118481e-01, -1.60657386e+00,\n",
       "        4.31927423e-01,  7.37246538e-02, -2.28416374e+00, -6.50078051e-01,\n",
       "       -1.89706786e+00,  1.17553154e+00, -8.74177260e-01,  1.17478822e+00,\n",
       "       -8.36841339e-01, -4.21320365e-01, -1.01529203e+00, -4.69970747e-01,\n",
       "        1.37206893e-01,  9.71325972e-02, -5.09909992e-01,  3.53511929e-02,\n",
       "       -5.88464916e-01,  1.18271385e+00, -4.86670996e-01,  1.39748439e+00,\n",
       "       -9.64079294e-01, -9.50138416e-01,  8.94273553e-02,  8.89357272e-01,\n",
       "       -3.02385064e-01,  1.06741384e+00,  1.33141648e+00, -8.21609055e-01,\n",
       "       -1.91628784e-01, -4.35406168e-01, -1.56910762e-03, -4.96185540e-01,\n",
       "        5.18534322e-01, -5.28451813e-01,  1.68294358e-02,  7.39808630e-01,\n",
       "        2.90326790e-01, -8.62470026e-01, -1.31360640e-01,  1.81963844e-01,\n",
       "        1.30611535e-01,  1.12975068e+00, -2.73051016e-01,  5.44831892e-01,\n",
       "       -1.48044323e+00, -1.00529780e+00, -1.48072236e+00,  1.76362704e+00,\n",
       "        5.53332425e-01, -8.03885843e-01,  4.42002832e-01, -2.39759405e-01,\n",
       "        7.65650111e-01, -1.01482975e+00, -8.55270464e-01,  6.28965180e-01,\n",
       "       -1.31746461e+00,  6.07402008e-01, -8.79572107e-01, -2.00312809e+00,\n",
       "       -7.67215965e-01,  2.17875040e+00,  1.18365425e+00, -1.14143684e+00,\n",
       "       -3.78485371e-01, -6.33303047e-01, -1.46405962e+00,  8.50085564e-02,\n",
       "        2.01567576e+00,  3.86992784e-01, -1.55035658e+00, -1.61349716e+00,\n",
       "        2.77981026e-01,  1.18269802e+00, -4.51313028e-01, -3.24031932e-01,\n",
       "        9.92915298e-01,  5.62790020e-01, -1.34024194e+00,  9.31506824e-01,\n",
       "       -9.44020671e-01, -1.81763000e+00, -9.75049262e-01, -8.32357828e-01,\n",
       "       -5.41865978e-01, -3.04418337e+00,  1.54132954e+00, -7.68800128e-01,\n",
       "        1.44973005e+00, -2.20801349e-01, -1.42341822e+00, -7.35300250e-01,\n",
       "        7.51550595e-01,  2.30457685e+00,  3.32755005e+00,  1.11190668e+00,\n",
       "       -1.28769829e+00,  1.18914226e+00, -1.09073418e+00,  1.16993715e+00,\n",
       "       -3.34949910e-01,  3.96186221e-01,  7.21845297e-02, -1.59184450e+00,\n",
       "        6.83263103e-01, -7.50588696e-01, -3.37435885e-02, -1.65383666e+00,\n",
       "        2.59624084e-01,  1.55124134e+00, -2.78568116e-02,  3.97804981e-01,\n",
       "        3.18221067e-01,  7.06588999e-01, -3.43815249e-01,  6.33235422e-01,\n",
       "        1.89857953e-02, -9.49210381e-02,  2.01912491e+00, -1.58247837e+00,\n",
       "       -1.13506945e+00, -2.33789710e-01,  6.75248252e-01,  4.67689883e-01,\n",
       "       -1.19279093e+00,  5.92249614e-01, -2.80556551e+00,  1.76927218e+00,\n",
       "       -1.29787580e+00,  2.11360917e-01,  8.31822508e-01, -2.10439360e-01,\n",
       "       -3.16733770e-01,  1.28217725e-01, -2.50921612e+00, -8.91918146e-01,\n",
       "        4.21965175e-01, -1.10738897e+00, -1.31766552e+00,  8.71271765e-02,\n",
       "        2.68480322e-01, -2.31230547e-01,  1.51307178e+00,  1.62334530e+00,\n",
       "        4.62165347e-01, -2.05040034e-01, -1.17901351e+00, -7.48752605e-01,\n",
       "        1.73617401e+00,  8.24919002e-01, -3.70072248e-01,  4.84682555e-01,\n",
       "        6.03768966e-01,  5.92203721e-01, -3.76297632e-01,  1.75664843e+00,\n",
       "       -1.22669011e+00, -1.30199676e+00,  1.77381147e+00,  2.71998008e+00,\n",
       "       -1.08823113e+00,  9.88644695e-01,  2.83243020e-02,  2.44805884e-01,\n",
       "        1.00436363e+00, -7.07026371e-01, -7.44484548e-01, -5.21922295e-01,\n",
       "       -3.53128939e-01,  4.19749892e+00,  1.54311436e+00, -1.16218245e+00,\n",
       "       -2.38504364e+00, -3.56962536e-01, -3.05019011e-02,  1.62600034e+00,\n",
       "        1.52744147e-01,  2.11068764e+00,  3.79415185e-01,  2.19426030e+00,\n",
       "        7.74948005e-01, -1.40630483e+00, -1.13529580e-01, -1.34762052e+00,\n",
       "       -2.70228850e-01,  3.71850197e-02, -4.12400048e-02, -3.55704167e-02])"
      ]
     },
     "execution_count": 37,
     "metadata": {},
     "output_type": "execute_result"
    }
   ],
   "source": [
    "B_dist_temp"
   ]
  },
  {
   "cell_type": "code",
   "execution_count": 38,
   "metadata": {},
   "outputs": [],
   "source": [
    "opt = tf.optimizers.Adam(1e-2)\n",
    "mdn_PQ = MDN_module()\n",
    "mdn_PQ.compile(loss=gnll_loss, optimizer=opt)\n",
    "withoutL=mdn_PQ.fit(x=np.concatenate([L.reshape(-1,1),A.reshape(-1,1)],axis=1), y=B_dist_temp.T,epochs=100,  batch_size=64,verbose=0)\n",
    "y_pred = mdn_PQ.predict(np.concatenate([L.reshape(-1,1),A.reshape(-1,1)],axis=1))\n"
   ]
  },
  {
   "cell_type": "code",
   "execution_count": 39,
   "metadata": {},
   "outputs": [
    {
     "data": {
      "text/plain": [
       "Text(0.5, 1.0, 'Permuted data with the added information L')"
      ]
     },
     "execution_count": 39,
     "metadata": {},
     "output_type": "execute_result"
    },
    {
     "data": {
      "image/png": "[encoded data removed]",
      "text/plain": [
       "<Figure size 432x288 with 1 Axes>"
      ]
     },
     "metadata": {
      "needs_background": "light"
     },
     "output_type": "display_data"
    }
   ],
   "source": [
    "plt.scatter(A,B_dist_temp)\n",
    "plt.scatter(A,y_pred[:,1])\n",
    "plt.xlabel(\"A\")\n",
    "plt.ylabel(\"B\")\n",
    "plt.title(\"Permuted data with the added information L\")"
   ]
  },
  {
   "cell_type": "code",
   "execution_count": 42,
   "metadata": {},
   "outputs": [
    {
     "data": {
      "text/plain": [
       "<matplotlib.collections.PathCollection at 0x7fd0d9d49d90>"
      ]
     },
     "execution_count": 42,
     "metadata": {},
     "output_type": "execute_result"
    },
    {
     "data": {
      "image/png": "[encoded data removed]",
      "text/plain": [
       "<Figure size 432x288 with 1 Axes>"
      ]
     },
     "metadata": {
      "needs_background": "light"
     },
     "output_type": "display_data"
    }
   ],
   "source": [
    "plt.scatter(A,B)"
   ]
  },
  {
   "cell_type": "code",
   "execution_count": 36,
   "metadata": {},
   "outputs": [
    {
     "data": {
      "text/plain": [
       "<matplotlib.collections.PathCollection at 0x7f1a75f91910>"
      ]
     },
     "execution_count": 36,
     "metadata": {},
     "output_type": "execute_result"
    },
    {
     "data": {
      "image/png": "[encoded data removed]",
      "text/plain": [
       "<Figure size 432x288 with 1 Axes>"
      ]
     },
     "metadata": {
      "needs_background": "light"
     },
     "output_type": "display_data"
    }
   ],
   "source": [
    "plt.scatter(L,B_dist_temp)"
   ]
  },
  {
   "cell_type": "code",
   "execution_count": 74,
   "metadata": {},
   "outputs": [
    {
     "data": {
      "text/plain": [
       "array([ 0.16635783,  0.2186405 ,  0.18518928,  0.10589456,  0.17865732,\n",
       "       -0.35579273, -0.04156049,  0.12228131, -0.09812831,  0.09319367,\n",
       "        0.3773023 , -0.16365555, -0.16234308, -0.16900453,  0.12274399,\n",
       "       -0.15720737, -0.28126025, -0.16225696, -0.17248657,  0.32775828,\n",
       "       -0.15370303,  0.16625354, -0.1993328 ,  0.17074063, -0.00772212,\n",
       "        0.49461097,  0.11442166, -0.15977705, -0.22537157,  0.41071504,\n",
       "       -0.16241938,  0.44264197,  0.17576036,  0.05727377, -0.3367372 ,\n",
       "       -0.17105737,  0.29478714,  0.17676872,  0.16581364,  0.09946011,\n",
       "        0.145416  ,  0.17023754, -0.16416475,  0.17091137,  0.10237812,\n",
       "       -0.16080457,  0.21831697,  0.10226455,  0.0290572 ,  0.1795223 ,\n",
       "       -0.22151831,  0.17676303, -0.17321783,  0.19708046,  0.11806276,\n",
       "        0.28889436, -0.12351852, -0.22434738, -0.0246013 ,  0.19793275,\n",
       "       -0.36712444,  0.45668212, -0.1871123 , -0.10708769,  0.06748994,\n",
       "        0.12040724,  0.37059048, -0.3023749 ,  0.18500692,  0.16625628,\n",
       "        0.16630916, -0.16586885,  0.12094043,  0.00806422,  0.3963628 ,\n",
       "        0.16720653,  0.20720819, -0.10066818, -0.17665333,  0.17056426,\n",
       "        0.09013737, -0.16879201, -0.25340688,  0.35688138,  0.21668187,\n",
       "        0.18099979,  0.16710514,  0.04676052,  0.17885557, -0.17377889,\n",
       "       -0.20651445,  0.39945295,  0.23212   ,  0.21707422,  0.08930147,\n",
       "        0.29559553,  0.16647884, -0.29609543, -0.20686388,  0.50512546,\n",
       "        0.24881744, -0.230553  , -0.16782397,  0.16644472,  0.10697801,\n",
       "        0.21288654,  0.4255737 ,  0.11652944, -0.08142629, -0.07109287,\n",
       "        0.1795454 , -0.04543888,  0.11923058,  0.3398766 ,  0.12007868,\n",
       "       -0.21770209, -0.16611165,  0.12134285,  0.1485709 , -0.17327535,\n",
       "       -0.16025352, -0.1735521 , -0.16547233,  0.10076749, -0.19766241,\n",
       "        0.20102996, -0.3732454 , -0.15594989,  0.41642094, -0.21528777,\n",
       "       -0.08894219,  0.17012373, -0.17538664,  0.19663319,  0.08443938,\n",
       "       -0.21024844,  0.19001931, -0.09166082,  0.11383886,  0.2161887 ,\n",
       "       -0.06785164,  0.25418678, -0.1901454 , -0.16579509, -0.16963688,\n",
       "        0.17784232,  0.21132699, -0.15619329,  0.05371962, -0.07339796,\n",
       "       -0.17160079,  0.74830776,  0.1669058 ,  0.18396509,  0.17252761,\n",
       "        0.14233863,  0.48047006,  0.1831851 ,  0.17991313, -0.15010622,\n",
       "       -0.16594002, -0.19158262,  0.35198146,  0.45449612, -0.32715923,\n",
       "       -0.16871303, -0.0205797 , -0.15747717, -0.10656879,  0.1779105 ,\n",
       "       -0.17399424,  0.19960105, -0.04367755,  0.18192229,  0.45890978,\n",
       "        0.17331672,  0.09971423,  0.05080841, -0.00674065,  0.16630009,\n",
       "        0.4822399 ,  0.4763559 ,  0.4169761 , -0.1940524 , -0.17330766,\n",
       "       -0.15057135,  0.49767143,  0.45003676,  0.16895151,  0.45172837,\n",
       "        0.10438093,  0.17487797,  0.1733172 , -0.16672671,  0.18438226,\n",
       "       -0.16192573, -0.16654834,  0.07471115, -0.23388577,  0.07669224,\n",
       "       -0.16634017,  0.36859533, -0.17030528,  0.17323196,  0.09511352,\n",
       "        0.18259019, -0.16453639,  0.3235303 ,  0.18876848, -0.17335492,\n",
       "        0.03936576,  0.17972064,  0.50482905,  0.18608773,  0.18054035,\n",
       "        0.19185722,  0.16644575,  0.18562919, -0.10270036, -0.13336325,\n",
       "       -0.2108027 ,  0.60937315,  0.16860107,  0.1727502 , -0.18684587,\n",
       "        0.67594993, -0.01312033,  0.16650444, -0.2020419 , -0.15693846,\n",
       "       -0.14638406, -0.19977728, -0.22302765,  0.17301357, -0.16645077,\n",
       "       -0.17210773,  0.33947095, -0.16201055,  0.40424716,  0.6920564 ,\n",
       "        0.10667215,  0.16712713, -0.08775591,  0.23282376, -0.20132649,\n",
       "       -0.06908523, -0.13692778, -0.3348576 , -0.08778756, -0.08492457,\n",
       "        0.44268712, -0.19386414, -0.20904422,  0.03811859,  0.10895007,\n",
       "        0.1854944 ,  0.17229083, -0.17392886,  0.16664585, -0.17832622,\n",
       "       -0.19206014,  0.12035611,  0.6401482 ,  0.46161714, -0.30323216,\n",
       "        0.17314449,  0.33454153,  0.22521585, -0.14445874,  0.12130227,\n",
       "       -0.00577634,  0.21116918, -0.16809416,  0.38773653, -0.1689463 ,\n",
       "       -0.16566142,  0.11092608,  0.09300161,  0.17088974,  0.1709925 ,\n",
       "       -0.17490703,  0.28006768, -0.17554629, -0.1278696 ,  0.1808415 ,\n",
       "       -0.1268385 , -0.18470946, -0.21481806,  0.15331638,  0.42243204,\n",
       "       -0.16871575, -0.21409893,  0.35847154, -0.16165891,  0.23672545,\n",
       "       -0.16297534,  0.25920513,  0.17271298,  0.18453819,  0.7209788 ,\n",
       "       -0.16316485,  0.1705896 ,  0.18206376, -0.06339084,  0.17326757,\n",
       "        0.2152968 ,  0.18566144, -0.23309803,  0.1413563 ,  0.25142306,\n",
       "       -0.16121507,  0.15668884,  0.0497101 , -0.09787778,  0.21010849,\n",
       "        0.16664337,  0.16974816, -0.00911766, -0.36547112,  0.399278  ,\n",
       "        0.09052254,  0.16977635,  0.113806  , -0.16954717,  0.24888736,\n",
       "       -0.21097025,  0.07952452,  0.04140444, -0.16438776,  0.11481237,\n",
       "       -0.11051454,  0.16641736,  0.11918577,  0.11939193, -0.09446225,\n",
       "        0.16888121,  0.166328  ,  0.05046875,  0.3796771 ,  0.18078539,\n",
       "        0.09495532,  0.46537474,  0.09356618,  0.30488497,  0.12348538,\n",
       "        0.14934044,  0.10458091, -0.36282206,  0.10601151,  0.10705359,\n",
       "        0.16624507,  0.17641929,  0.17933235,  0.17346346,  0.10677443,\n",
       "       -0.06600096,  0.16666724,  0.16648942,  0.44680816,  0.18395665,\n",
       "        0.11645358,  0.18427002, -0.08663731, -0.20267183,  0.12428918,\n",
       "       -0.09998877, -0.19552493, -0.22049454,  0.05939601, -0.35026407,\n",
       "       -0.17486739, -0.1620917 ,  0.18585676,  0.17108583,  0.4076848 ,\n",
       "        0.17621908,  0.2018981 ,  0.11290315,  0.12141243, -0.17729187,\n",
       "        0.3793097 , -0.16651589,  0.10682102, -0.08266387, -0.34149876,\n",
       "        0.13328362,  0.12362445, -0.13857433,  0.6943866 ,  0.21505225,\n",
       "        0.16628116,  0.18700561,  0.12002773,  0.17623055,  0.00418384,\n",
       "        0.1068217 ,  0.17181584,  0.12555301,  0.27650255, -0.18641129,\n",
       "       -0.36605132,  0.16965994,  0.20451987, -0.16108918,  0.17216352,\n",
       "        0.17856643,  0.10594963,  0.18501589, -0.2796993 ,  0.01167983,\n",
       "        0.30337235,  0.11453838,  0.18064752,  0.36480862, -0.0270642 ,\n",
       "        0.1686984 ,  0.17360672, -0.1591562 ,  0.22308198,  0.322112  ,\n",
       "       -0.23285744, -0.16623774,  0.17817432,  0.12330448,  0.21828538,\n",
       "        0.04615092,  0.1708645 , -0.03513054,  0.08682662,  0.05507891,\n",
       "       -0.16761056,  0.13754109,  0.18205333,  0.4460361 , -0.21620598,\n",
       "       -0.15527892,  0.19791874, -0.14996445, -0.11664736,  0.07381554,\n",
       "        0.18448973,  0.12179529,  0.14440387, -0.25289488, -0.3132056 ,\n",
       "       -0.23124996,  0.39173615,  0.17312267,  0.10654128,  0.18122372,\n",
       "        0.06903693,  0.19771385,  0.16633555,  0.43650344, -0.21450493,\n",
       "       -0.31425434,  0.10346783, -0.17146984,  0.16648419,  0.39769936,\n",
       "       -0.08926549, -0.25168502, -0.11622801,  0.16989934,  0.06014424,\n",
       "       -0.17152265,  0.12213623, -0.12680167, -0.31935722, -0.3591367 ,\n",
       "       -0.1709773 ,  0.1663853 , -0.17634106,  0.10939223,  0.11527041,\n",
       "        0.18399066,  0.17806032, -0.12587014, -0.16301098, -0.16719261,\n",
       "        0.23633668,  0.18555692,  0.2352995 , -0.13346553, -0.2639697 ,\n",
       "        0.11380229,  0.18240735,  0.46258128, -0.16702238,  0.17041275,\n",
       "        0.33809388,  0.12044316,  0.0310886 , -0.17783856,  0.22124651,\n",
       "       -0.06552986,  0.40154415, -0.02535629,  0.16632992, -0.22108015,\n",
       "        0.2026012 ,  0.17539427,  0.12208029, -0.09032396, -0.13812247,\n",
       "        0.18281037,  0.16365075, -0.23781309,  0.09416695,  0.17505291,\n",
       "       -0.09574198, -0.10098352, -0.1750421 ,  0.16859204,  0.16650262,\n",
       "       -0.17588308, -0.33365434,  0.16792402, -0.01688559, -0.22685182,\n",
       "       -0.16805658,  0.27202463, -0.17446497, -0.17039156,  0.18174821,\n",
       "        0.4580835 ,  0.05105098,  0.18270907,  0.38079473,  0.18321145,\n",
       "       -0.16768855, -0.12664428,  0.30541962,  0.14274557,  0.11067233,\n",
       "       -0.13828158, -0.1788522 ,  0.3603283 , -0.15658289, -0.16083378,\n",
       "        0.13051437,  0.05052399,  0.26385325,  0.12129789, -0.33959633,\n",
       "        0.1663893 , -0.2699147 ,  0.14256775,  0.28516605,  0.1670402 ,\n",
       "        0.09191881,  0.20766899, -0.09628213,  0.4502724 ,  0.12336992,\n",
       "       -0.16580483, -0.17641121,  0.16633579,  0.11899003,  0.17607895,\n",
       "        0.04872187,  0.12699994,  0.35294876, -0.34562087,  0.26454902,\n",
       "       -0.17400262,  0.06554573,  0.17774346,  0.16637576,  0.24791363,\n",
       "        0.16645914, -0.37360895,  0.10820561,  0.16640139, -0.20800644,\n",
       "        0.36418724,  0.27742553, -0.16488037,  0.17627168,  0.461317  ,\n",
       "        0.17206982,  0.2058329 ,  0.21982992,  0.22315323,  0.27278498,\n",
       "       -0.16944066, -0.06430902,  0.11270916, -0.17665675, -0.02705862,\n",
       "        0.40640205, -0.17371821,  0.5366312 ,  0.19510972,  0.16634917,\n",
       "        0.14487052,  0.18195087,  0.10501718,  0.6836708 , -0.15724683,\n",
       "        0.11657745,  0.19012576,  0.10282409, -0.1661621 ,  0.4680977 ,\n",
       "        0.12046254,  0.31427786,  0.1954973 ,  0.09872269, -0.17476222,\n",
       "        0.33815786, -0.16931644, -0.2459107 ,  0.22114384,  0.08236232,\n",
       "       -0.16777852, -0.16347766, -0.09798747,  0.15649468,  0.43104547,\n",
       "        0.17292053, -0.17723173,  0.41531798, -0.13622555,  0.18602955,\n",
       "       -0.15676492,  0.16664436,  0.0363968 ,  0.40985382, -0.04985237,\n",
       "       -0.20119333, -0.09863002, -0.02246404,  0.09395313,  0.47142175,\n",
       "       -0.17586672,  0.11819831, -0.03531189, -0.04752014,  0.09754539,\n",
       "       -0.17602557,  0.08552111, -0.1241987 , -0.2761276 , -0.30163822,\n",
       "        0.35591227, -0.13559562,  0.19305724, -0.17469472,  0.1217582 ,\n",
       "        0.17893645,  0.14380527,  0.13608807,  0.389201  ,  0.05182842,\n",
       "        0.18250695, -0.16942358, -0.16947111,  0.07112262, -0.23031643,\n",
       "        0.1201643 ,  0.18123445,  0.02715816,  0.16776726,  0.33212793,\n",
       "        0.43476504,  0.18009678,  0.12049127,  0.5700867 ,  0.43431702,\n",
       "       -0.1605989 ,  0.25262806, -0.16944724, -0.14662284, -0.205432  ,\n",
       "        0.50769013,  0.17024654, -0.08494165,  0.16630787,  0.16747054,\n",
       "        0.25158527, -0.16402715,  0.17279801,  0.21301234, -0.09371588,\n",
       "        0.17008737, -0.17503792,  0.16647726, -0.16934237, -0.17538992,\n",
       "       -0.01580042, -0.04365288,  0.15910295,  0.1663824 ,  0.04905049,\n",
       "        0.18107474,  0.43295664,  0.16637373,  0.07914356,  0.42078832,\n",
       "        0.1199877 ,  0.3594442 ,  0.22008362,  0.03590899,  0.00615576,\n",
       "        0.12019419,  0.11627264, -0.35714078, -0.08115492,  0.33703023,\n",
       "        0.49794695,  0.11696414,  0.11669075,  0.12084021,  0.20808339,\n",
       "        0.42349333, -0.10447481, -0.17822179,  0.10982718,  0.17701346,\n",
       "       -0.29748327, -0.16064826, -0.14319286, -0.01081754,  0.19821438,\n",
       "        0.17339039,  0.13491464,  0.1933105 ,  0.16818875, -0.2514089 ,\n",
       "       -0.03603096,  0.18153328,  0.18030468,  0.10736591,  0.18708098,\n",
       "        0.17366174,  0.16955772, -0.00437963, -0.1638037 , -0.20877734,\n",
       "        0.16642174, -0.15493831, -0.09684964,  0.17287356,  0.12235658,\n",
       "        0.05319267, -0.13158005,  0.41761672, -0.15632075,  0.21445465,\n",
       "       -0.16498098,  0.1663294 , -0.17459074,  0.34312487, -0.22282755,\n",
       "       -0.32341427,  0.23320559,  0.17915854,  0.2114456 , -0.16152549,\n",
       "        0.43403193,  0.57073843, -0.3314707 ,  0.06646697,  0.17081296,\n",
       "        0.16690838,  0.48545146, -0.37066707,  0.10628019,  0.18431327,\n",
       "        0.18490314, -0.08561958,  0.18117425,  0.10712197, -0.15281126,\n",
       "        0.26127708,  0.11871076,  0.1890752 , -0.16339469,  0.11620898,\n",
       "        0.2849537 ,  0.11870467,  0.16819286,  0.18443584,  0.11734559,\n",
       "       -0.0482213 , -0.13328952, -0.16302434,  0.17699832, -0.17664099,\n",
       "        0.4837921 ,  0.33607894, -0.05231608, -0.16391873,  0.12651017,\n",
       "        0.17845139, -0.04164876,  0.0233305 ,  0.50187343, -0.1625413 ,\n",
       "       -0.08068523,  0.11900159, -0.25325438,  0.17321974,  0.40467775,\n",
       "       -0.17295992, -0.16985849, -0.15342584,  0.27716395, -0.14299017,\n",
       "        0.6020941 ,  0.37597537, -0.18410453, -0.17111906,  0.1138378 ,\n",
       "        0.11122529,  0.16808426,  0.10821264, -0.06061766,  0.24559867,\n",
       "        0.2547314 , -0.15189755,  0.5522559 ,  0.34197104, -0.00194985,\n",
       "        0.42560512,  0.15217538,  0.33815858,  0.41069782,  0.1855143 ,\n",
       "        0.30047902, -0.29560077,  0.41058284, -0.33864278, -0.21426654,\n",
       "        0.47321808,  0.2625557 ,  0.4332017 ,  0.15943202,  0.36400205,\n",
       "       -0.16716275, -0.17750204,  0.18368658,  0.00388975, -0.09910201,\n",
       "        0.24715665,  0.1664402 , -0.28686142,  0.182091  ,  0.21537998,\n",
       "        0.10918546,  0.12187777,  0.39998293,  0.0938013 , -0.07336424,\n",
       "        0.17902562, -0.22912008,  0.18083045,  0.11038707,  0.44182622,\n",
       "       -0.16420013,  0.20306227,  0.47419232, -0.09154596,  0.75403225,\n",
       "        0.10122088, -0.07073537,  0.16661738,  0.22273752, -0.24951637,\n",
       "        0.1749812 , -0.03407237, -0.32984278, -0.02156151,  0.05375001,\n",
       "       -0.16987503,  0.50616854,  0.3264435 ,  0.4818157 ,  0.12167554,\n",
       "        0.11137987,  0.06564479, -0.14708626,  0.48360422,  0.16652963,\n",
       "        0.10798604,  0.11547635,  0.2238195 , -0.1059423 , -0.29176235,\n",
       "       -0.15612361, -0.16129664,  0.19439563, -0.06081352, -0.17283341,\n",
       "       -0.21386203,  0.3958302 ,  0.42614993,  0.10201409,  0.46661478,\n",
       "        0.2555688 ,  0.29113215,  0.4405054 ,  0.05848405,  0.50414515,\n",
       "        0.18063688, -0.08928051, -0.23729369, -0.10802957, -0.1763069 ,\n",
       "        0.11484408,  0.10356673, -0.16634363,  0.4525273 ,  0.10622756,\n",
       "       -0.23706764, -0.30497217,  0.76613927, -0.16302547, -0.09619188,\n",
       "        0.27669805,  0.10982475,  0.11987494, -0.17229187,  0.1255225 ,\n",
       "        0.11928777,  0.1781222 ,  0.2763856 ,  0.26545125,  0.16640829,\n",
       "       -0.12884104,  0.13754444,  0.26322955,  0.3321108 ,  0.00823162,\n",
       "       -0.17181382,  0.10831333,  0.24256825,  0.12348548,  0.33780435,\n",
       "        0.16628677,  0.14071627, -0.16959587,  0.17238459,  0.2797653 ,\n",
       "       -0.1628801 ,  0.12654382,  0.06166213, -0.17059433,  0.14122674,\n",
       "        0.10887244,  0.38938665,  0.19289955,  0.46221372,  0.20816052,\n",
       "        0.19711402, -0.253075  ,  0.18074468,  0.18430367,  0.11046374,\n",
       "        0.11813964, -0.17040882, -0.06032399,  0.17425218,  0.11590245,\n",
       "        0.4811594 ,  0.43039167,  0.12159727,  0.39950177,  0.16643748,\n",
       "        0.16627726,  0.16862732, -0.00859318,  0.17599875, -0.13370544,\n",
       "       -0.14820683,  0.17884612, -0.11115523,  0.69629663,  0.16644987,\n",
       "        0.17656901, -0.12871093, -0.06141898,  0.21988475,  0.11944941,\n",
       "        0.11728775,  0.18010163, -0.05583983, -0.16174603,  0.18006507,\n",
       "        0.10151838,  0.44816333,  0.4880289 ,  0.15132792,  0.26963294,\n",
       "        0.0717895 ,  0.17908967, -0.17438969,  0.1054199 ,  0.47489667],\n",
       "      dtype=float32)"
      ]
     },
     "execution_count": 74,
     "metadata": {},
     "output_type": "execute_result"
    }
   ],
   "source": [
    "y_pred[:,1]"
   ]
  },
  {
   "cell_type": "code",
   "execution_count": 40,
   "metadata": {},
   "outputs": [],
   "source": [
    "opt = tf.optimizers.Adam(1e-2)\n",
    "mdn_PQ = MDN_module()\n",
    "mdn_PQ.compile(loss=gnll_loss, optimizer=opt)\n",
    "withoutL=mdn_PQ.fit(x=reshapevar(A), y=B_dist_temp.T,epochs=64,  batch_size=10,verbose=0)\n",
    "y_pred = mdn_PQ.predict(reshapevar(A))"
   ]
  },
  {
   "cell_type": "code",
   "execution_count": 41,
   "metadata": {},
   "outputs": [
    {
     "data": {
      "text/plain": [
       "Text(0.5, 1.0, 'Permuted data without the added information')"
      ]
     },
     "execution_count": 41,
     "metadata": {},
     "output_type": "execute_result"
    },
    {
     "data": {
      "image/png": "[encoded data removed]",
      "text/plain": [
       "<Figure size 432x288 with 1 Axes>"
      ]
     },
     "metadata": {
      "needs_background": "light"
     },
     "output_type": "display_data"
    }
   ],
   "source": [
    "plt.scatter(A,B_dist_temp)\n",
    "plt.scatter(A,y_pred[:,1])\n",
    "plt.xlabel(\"A\")\n",
    "plt.ylabel(\"B\")\n",
    "plt.title(\"Permuted data without the added information\")"
   ]
  },
  {
   "cell_type": "code",
   "execution_count": 50,
   "metadata": {},
   "outputs": [],
   "source": [
    "L = np.random.binomial(1,0.5,1000)  \n",
    "#eps0 = np.random.standard_normal(1000)\n",
    "#eps1 = np.random.standard_normal(1000)\n",
    "eps0 = np.random.normal(-2,0.5,1000)\n",
    "eps1 = np.random.normal(-5,0.5,1000)\n",
    "A=9*L - eps0\n",
    "B=8*np.sin(A)+eps1"
   ]
  },
  {
   "cell_type": "code",
   "execution_count": 51,
   "metadata": {},
   "outputs": [],
   "source": [
    "indices_1 = [i for i, x in enumerate(L) if x == 1]\n",
    "indices_0 = [i for i, x in enumerate(L) if x == 0]"
   ]
  },
  {
   "cell_type": "code",
   "execution_count": 52,
   "metadata": {},
   "outputs": [
    {
     "data": {
      "text/plain": [
       "Text(0, 0.5, 'A')"
      ]
     },
     "execution_count": 52,
     "metadata": {},
     "output_type": "execute_result"
    },
    {
     "data": {
      "image/png": "[encoded data removed]",
      "text/plain": [
       "<Figure size 432x288 with 1 Axes>"
      ]
     },
     "metadata": {
      "needs_background": "light"
     },
     "output_type": "display_data"
    }
   ],
   "source": [
    "plt.scatter(L,A)\n",
    "plt.title(\"L vs A\")\n",
    "plt.xlabel(\"L\")\n",
    "plt.ylabel(\"A\")"
   ]
  },
  {
   "cell_type": "code",
   "execution_count": 53,
   "metadata": {},
   "outputs": [
    {
     "data": {
      "text/plain": [
       "Text(0, 0.5, 'B')"
      ]
     },
     "execution_count": 53,
     "metadata": {},
     "output_type": "execute_result"
    },
    {
     "data": {
      "image/png": "[encoded data removed]",
      "text/plain": [
       "<Figure size 432x288 with 1 Axes>"
      ]
     },
     "metadata": {
      "needs_background": "light"
     },
     "output_type": "display_data"
    }
   ],
   "source": [
    "plt.scatter(L,B)\n",
    "plt.title(\"L vs B\")\n",
    "plt.xlabel(\"L\")\n",
    "plt.ylabel(\"B\")"
   ]
  },
  {
   "cell_type": "code",
   "execution_count": 54,
   "metadata": {},
   "outputs": [
    {
     "data": {
      "text/plain": [
       "<matplotlib.legend.Legend at 0x7fadae6f77f0>"
      ]
     },
     "execution_count": 54,
     "metadata": {},
     "output_type": "execute_result"
    },
    {
     "data": {
      "image/png": "[encoded data removed]",
      "text/plain": [
       "<Figure size 432x288 with 1 Axes>"
      ]
     },
     "metadata": {
      "needs_background": "light"
     },
     "output_type": "display_data"
    }
   ],
   "source": [
    "plt.scatter(A[indices_1],B[indices_1],label=\"L=1\")\n",
    "plt.scatter(A[indices_0],B[indices_0],label=\"L=0\")\n",
    "plt.title(\"A vs B\")\n",
    "plt.xlabel(\"A\")\n",
    "plt.ylabel(\"B\")\n",
    "plt.legend()"
   ]
  },
  {
   "cell_type": "code",
   "execution_count": 55,
   "metadata": {},
   "outputs": [
    {
     "data": {
      "text/plain": [
       "Text(0, 0.5, 'B')"
      ]
     },
     "execution_count": 55,
     "metadata": {},
     "output_type": "execute_result"
    },
    {
     "data": {
      "image/png": "[encoded data removed]",
      "text/plain": [
       "<Figure size 432x288 with 1 Axes>"
      ]
     },
     "metadata": {
      "needs_background": "light"
     },
     "output_type": "display_data"
    }
   ],
   "source": [
    "plt.scatter(A,B)\n",
    "plt.title(\"Simulated data\")\n",
    "plt.xlabel(\"A\")\n",
    "plt.ylabel(\"B\")"
   ]
  },
  {
   "cell_type": "code",
   "execution_count": 151,
   "metadata": {},
   "outputs": [
    {
     "data": {
      "text/plain": [
       "'0.07270086408772637'"
      ]
     },
     "execution_count": 151,
     "metadata": {},
     "output_type": "execute_result"
    }
   ],
   "source": [
    "str(pearsonr(A,B)[0])"
   ]
  },
  {
   "cell_type": "code",
   "execution_count": 57,
   "metadata": {},
   "outputs": [],
   "source": [
    "f = open(\"testing_writingvalues_debugSine.txt\", \"w\")\n",
    "f.write(str(9)+\" \"+ str(8))\n",
    "f.write(\"\\n\")\n",
    "np.savetxt(f,L,newline=' ',fmt='%s')\n",
    "f.write(\"\\n\")\n",
    "np.savetxt(f,A,newline=' ',fmt='%s')\n",
    "f.write(\"\\n\")\n",
    "np.savetxt(f,B,newline=' ',fmt='%s')\n",
    "f.write(\"\\n\")\n",
    "f.close()\n"
   ]
  }
 ],
 "metadata": {
  "colab": {
   "collapsed_sections": [],
   "name": "CITNonLinear.ipynb",
   "provenance": []
  },
  "kernelspec": {
   "display_name": "Python 3 (ipykernel)",
   "language": "python",
   "name": "python3"
  },
  "language_info": {
   "codemirror_mode": {
    "name": "ipython",
    "version": 3
   },
   "file_extension": ".py",
   "mimetype": "text/x-python",
   "name": "python",
   "nbconvert_exporter": "python",
   "pygments_lexer": "ipython3",
   "version": "3.9.7"
  }
 },
 "nbformat": 4,
 "nbformat_minor": 1
}
