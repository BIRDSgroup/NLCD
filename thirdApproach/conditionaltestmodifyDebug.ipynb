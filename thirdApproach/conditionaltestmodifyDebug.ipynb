{
 "cells": [
  {
   "cell_type": "code",
   "execution_count": 1,
   "metadata": {
    "colab": {
     "base_uri": "https://localhost:8080/"
    },
    "id": "qd6CiVe-jyEn",
    "outputId": "b4187c26-21ff-4edc-e194-db58fd55f233"
   },
   "outputs": [
    {
     "name": "stderr",
     "output_type": "stream",
     "text": [
      "2022-08-10 23:09:14.306189: W tensorflow/stream_executor/platform/default/dso_loader.cc:64] Could not load dynamic library 'libcudart.so.11.0'; dlerror: libcudart.so.11.0: cannot open shared object file: No such file or directory\n",
      "2022-08-10 23:09:14.306212: I tensorflow/stream_executor/cuda/cudart_stub.cc:29] Ignore above cudart dlerror if you do not have a GPU set up on your machine.\n"
     ]
    }
   ],
   "source": [
    "#loading the libraries\n",
    "from tensorflow_probability import distributions as tfd\n",
    "import tensorflow as tf\n",
    "from tensorflow.keras.layers import Input, Dense, Activation, Concatenate\n",
    "\n",
    "from sklearn.linear_model import LinearRegression\n",
    "from sklearn.model_selection import train_test_split\n",
    "from sklearn.preprocessing import MinMaxScaler\n",
    "from sklearn.datasets import load_boston\n",
    "from sklearn.linear_model import LinearRegression\n",
    "import matplotlib.pyplot as plt\n",
    "import seaborn as sns\n",
    "import random\n",
    "import numpy as np\n",
    "import statsmodels.api as sm\n",
    "import pickle\n",
    "from sklearn.feature_selection import mutual_info_regression\n",
    "from scipy import stats\n",
    "import rpy2\n",
    "from scipy.stats import spearmanr,pearsonr\n",
    "from tensorflow.keras.models import Sequential\n",
    "from CCIT import CCIT"
   ]
  },
  {
   "cell_type": "code",
   "execution_count": 2,
   "metadata": {
    "id": "OxvAXLLFnl7d"
   },
   "outputs": [],
   "source": [
    "#defining the class MDN\n",
    "class MDN_module(tf.keras.Model):\n",
    "#changed from 15 to 20\n",
    "    def __init__(self, neurons=15, components = 1):\n",
    "        super(MDN_module, self).__init__(name=\"MDN_module\")\n",
    "        self.neurons = neurons\n",
    "        self.components = components\n",
    "\n",
    "        #chaging activation to relu from linear, changin relu to sigmoid \n",
    "        for i in range(1,3):\n",
    "          s=\"self\"+\".h\"+str(i)+\"= Dense(neurons, activation=\\\"relu\\\", name=\"+\"'h\"+str(i)+\"')\"\n",
    "          exec(s)\n",
    "        self.alphas = Dense(components, activation=\"softmax\", name=\"alphas\")\n",
    "        self.mus = Dense(components, activation=\"linear\",name=\"mus\") \n",
    "        self.sigmas = Dense(components, activation=\"nnelu\",name=\"sigmas\") #activation changed from linear to default\n",
    "        self.pvec = Concatenate(name=\"pvec\")\n",
    "        \n",
    "    def call(self, inputs):\n",
    "        x=self.h1(inputs)\n",
    "        #x=self.inputA(inputs)\n",
    "        x=self.h2(x)\n",
    "        alpha_v = self.alphas(x)\n",
    "        mu_v = self.mus(x)\n",
    "        sigma_v = self.sigmas(x)\n",
    "        \n",
    "        return self.pvec([alpha_v,mu_v, sigma_v])"
   ]
  },
  {
   "cell_type": "code",
   "execution_count": 3,
   "metadata": {},
   "outputs": [
    {
     "ename": "NameError",
     "evalue": "name 'A' is not defined",
     "output_type": "error",
     "traceback": [
      "\u001b[0;31m---------------------------------------------------------------------------\u001b[0m",
      "\u001b[0;31mNameError\u001b[0m                                 Traceback (most recent call last)",
      "Input \u001b[0;32mIn [3]\u001b[0m, in \u001b[0;36m<cell line: 1>\u001b[0;34m()\u001b[0m\n\u001b[0;32m----> 1\u001b[0m \u001b[38;5;28mlen\u001b[39m(\u001b[43mA\u001b[49m)\n",
      "\u001b[0;31mNameError\u001b[0m: name 'A' is not defined"
     ]
    }
   ],
   "source": [
    "len(A)"
   ]
  },
  {
   "cell_type": "code",
   "execution_count": null,
   "metadata": {},
   "outputs": [],
   "source": [
    "#loading yeast groundtruth 1 data\n",
    "yeast=open(\"../../yeast_full_data/yeast_residual_data_full_62k_gt1.txt\",\"r\")\n",
    "\n",
    "\n",
    "\n",
    "#yeast data read \n",
    "L=[]\n",
    "A=[]\n",
    "B=[]\n",
    "#209157\n",
    "for i in range(0,62296):\n",
    "    line=yeast.readline()\n",
    "    #line=line[1:-2] #remove double quotes \n",
    "    #param = [j for j in line.split()]\n",
    "    #print(param)\n",
    "    #chrname.append(param[1])\n",
    "    #g1.append(param[2])\n",
    "    #g2.append(param[3])\n",
    "    line=yeast.readline()\n",
    "    l = [j for j in line.split()]\n",
    "    L.append([int(i) for i in l])\n",
    "    line=yeast.readline()\n",
    "    a = [j for j in line.split()]\n",
    "    A.append([float(i) for i in a])\n",
    "    line=yeast.readline()\n",
    "    b = [j for j in line.split()]\n",
    "    B.append([float(i) for i in b])\n",
    "dataset_yeast_1 = [i for i in zip(L,A,B)]\n"
   ]
  },
  {
   "cell_type": "code",
   "execution_count": 9,
   "metadata": {},
   "outputs": [
    {
     "ename": "IndexError",
     "evalue": "list index out of range",
     "output_type": "error",
     "traceback": [
      "\u001b[0;31m---------------------------------------------------------------------------\u001b[0m",
      "\u001b[0;31mIndexError\u001b[0m                                Traceback (most recent call last)",
      "Input \u001b[0;32mIn [9]\u001b[0m, in \u001b[0;36m<cell line: 1>\u001b[0;34m()\u001b[0m\n\u001b[0;32m----> 1\u001b[0m \u001b[43mdataset_yeast_1\u001b[49m\u001b[43m[\u001b[49m\u001b[38;5;241;43m121\u001b[39;49m\u001b[43m]\u001b[49m\n",
      "\u001b[0;31mIndexError\u001b[0m: list index out of range"
     ]
    }
   ],
   "source": [
    "dataset_yeast_1[121]"
   ]
  },
  {
   "cell_type": "code",
   "execution_count": 80,
   "metadata": {},
   "outputs": [
    {
     "name": "stdout",
     "output_type": "stream",
     "text": [
      "32/32 [==============================] - 0s 641us/step - loss: 917.0825 - accuracy: 0.0000e+00\n"
     ]
    }
   ],
   "source": [
    "model = Sequential()\n",
    "model.add(Dense(12, input_shape=(1,), activation='relu'))\n",
    "model.add(Dense(8, activation='relu'))\n",
    "model.add(Dense(8, activation='relu'))\n",
    "model.add(Dense(1, activation='linear'))\n",
    "# compile the keras model\n",
    "model.compile(loss='mean_squared_error', optimizer='adam', metrics=['accuracy'])\n",
    "# fit the keras model on the dataset\n",
    "model.fit(A, B_dist_temp, epochs=100, batch_size=10,verbose=0)\n",
    "#model.fit(np.concatenate([L.reshape(-1,1),A.reshape(-1,1)],axis=1), B_dist_temp, epochs=100, batch_size=10,verbose=0)\n",
    "# evaluate the keras model\n",
    "_, accuracy = model.evaluate(A, B)\n",
    "#_, accuracy = model.evaluate(np.concatenate([L.reshape(-1,1),A.reshape(-1,1)],axis=1), B)"
   ]
  },
  {
   "cell_type": "code",
   "execution_count": 82,
   "metadata": {},
   "outputs": [
    {
     "data": {
      "text/plain": [
       "<matplotlib.collections.PathCollection at 0x7f8981648f10>"
      ]
     },
     "execution_count": 82,
     "metadata": {},
     "output_type": "execute_result"
    },
    {
     "data": {
      "image/png": "[encoded data removed]",
      "text/plain": [
       "<Figure size 432x288 with 1 Axes>"
      ]
     },
     "metadata": {
      "needs_background": "light"
     },
     "output_type": "display_data"
    }
   ],
   "source": [
    "plt.scatter(A,B_dist_temp)\n",
    "#plt.scatter(A,model.predict(np.concatenate([L.reshape(-1,1),A.reshape(-1,1)],axis=1)))\n",
    "plt.scatter(A,model.predict(A))\n"
   ]
  },
  {
   "cell_type": "code",
   "execution_count": 50,
   "metadata": {},
   "outputs": [
    {
     "data": {
      "text/plain": [
       "1.4015753269195557"
      ]
     },
     "execution_count": 50,
     "metadata": {},
     "output_type": "execute_result"
    }
   ],
   "source": [
    "y_pred"
   ]
  },
  {
   "cell_type": "code",
   "execution_count": 5,
   "metadata": {
    "id": "7DSPXmR1ogiH"
   },
   "outputs": [],
   "source": [
    "no_parameters=3\n",
    "components=1\n",
    "def nnelu(input):\n",
    "    \"\"\" Computes the Non-Negative Exponential Linear Unit\n",
    "    \"\"\"\n",
    "    return tf.add(tf.constant(1, dtype=tf.float32), tf.nn.elu(input))\n",
    "\n",
    "def slice_parameter_vectors(parameter_vector):\n",
    "    \"\"\" Returns an unpacked list of paramter vectors.\n",
    "    \"\"\"\n",
    "    return [parameter_vector[:,i*components:(i+1\n",
    "    )*components] for i in range(no_parameters)]\n",
    "\n",
    "def gnll_loss(y, parameter_vector):\n",
    "    \"\"\" Computes the mean negative log-likelihood loss of y given the mixture parameters.\n",
    "    \"\"\"\n",
    "    alpha,mu,sigma = slice_parameter_vectors(parameter_vector) # Unpack parameter vectors\n",
    "    #tf.print(sigma)\n",
    "    gm = tfd.MixtureSameFamily(\n",
    "           mixture_distribution=tfd.Categorical(probs=alpha),\n",
    "           components_distribution=tfd.Normal(\n",
    "           loc=mu,       \n",
    "           scale=sigma))\n",
    "    \n",
    "                                    \n",
    "    \n",
    "    log_likelihood =  gm.log_prob(tf.transpose(y)) # Evaluate log-probability of y \n",
    "    return -tf.reduce_mean(log_likelihood, axis=-1) \n",
    "\n",
    "tf.keras.utils.get_custom_objects().update({'nnelu': Activation(nnelu)})\n",
    "\n",
    "def gnll_eval(y,alpha, mu, sigma):\n",
    "    \"\"\" Computes the mean negative log-likelihood loss of y given the mixture parameters.\n",
    "    \"\"\"\n",
    "    #print(alpha)\n",
    "    gm = tfd.MixtureSameFamily(\n",
    "        mixture_distribution=tfd.Categorical(probs=alpha),\n",
    "        components_distribution=tfd.Normal(\n",
    "            loc=mu,       \n",
    "            scale=sigma))\n",
    "    log_likelihood = gm.log_prob(tf.transpose(y))\n",
    "    return -tf.reduce_mean(log_likelihood, axis=-1)\n",
    "\n",
    "\n",
    "def eval_mdn_model(x_test, y_test, mdn_model):\n",
    "    \"\"\" Evaluate the model to get the loss for the given x and y \n",
    "    \"\"\"\n",
    "    y_pred = mdn_model.predict(np.reshape(x_test,newshape=(len(x_test),-1)))\n",
    "    alpha,mu,sigma = slice_parameter_vectors(y_pred)\n",
    "    mdn_nll = gnll_eval(y_test.astype(np.float32),alpha, mu, sigma).numpy()\n",
    "    return mdn_nll\n",
    "#reshapefunction\n",
    "def eval_mdn_model_mle(x_test,y_test):\n",
    "        #adding one more indices for human L\n",
    "        \n",
    "        indices_1 = [i for i, x in enumerate(x_test) if x == 1]\n",
    "        indices_0 = [i for i, x in enumerate(x_test) if x == -1]\n",
    "        mu_0=np.mean(y_test[indices_0])\n",
    "        mu_1=np.mean(y_test[indices_1])\n",
    "        sigma_0=np.std(y_test[indices_0])\n",
    "        sigma_1=np.std(y_test[indices_1])\n",
    "        y_mean=np.zeros((len(y_test),1))\n",
    "        y_mean[indices_1]=mu_1\n",
    "        y_mean[indices_0]=mu_0\n",
    "        y_std=np.zeros((len(y_test),1))\n",
    "        y_std[indices_1]=sigma_1\n",
    "        y_std[indices_0]=sigma_0\n",
    "        alpha=np.ones((len(y_mean),1))\n",
    "        return gnll_eval(y_test,alpha,y_mean,y_std).numpy()\n",
    "    \n",
    "       \n",
    "def reshapevar(X):\n",
    "  \"\"\"\n",
    "  Function to reshape the vector for the input \n",
    "  \"\"\"\n",
    "  return np.reshape(X,newshape=(len(X),-1))"
   ]
  },
  {
   "cell_type": "code",
   "execution_count": 6,
   "metadata": {
    "id": "T6sJ7ffirsnB"
   },
   "outputs": [],
   "source": [
    "def compute_loss(P,Q,mle=False):\n",
    "    \"\"\" Compute the loss for the given pair\n",
    "    \"\"\"\n",
    "    if(mle==False):\n",
    "        opt = tf.optimizers.Adam(1e-2)\n",
    "        mdn_PQ = MDN_module()\n",
    "        mdn_PQ.compile(loss=gnll_loss, optimizer=opt)\n",
    "        mdn_PQ.fit(x=reshapevar(P), y=np.array(Q).T,epochs=100,  batch_size=64,verbose=0)\n",
    "        #return np.array(nlcor.nlcor(P,Q)[0])[0]\n",
    "        return eval_mdn_model(P,Q,mdn_PQ)\n",
    "    else:\n",
    "        return eval_mdn_model_mle(P,Q)\n",
    "        \n",
    "        \n",
    "        \n"
   ]
  },
  {
   "cell_type": "code",
   "execution_count": 7,
   "metadata": {},
   "outputs": [],
   "source": [
    "def compute_loss_y_pred(P,Q,mle=False):\n",
    "    \"\"\" Compute the loss for the given pair\n",
    "    \"\"\"\n",
    "    if(mle==False):\n",
    "        opt = tf.optimizers.Adam(1e-2)\n",
    "        mdn_PQ = MDN_module()\n",
    "        mdn_PQ.compile(loss=gnll_loss, optimizer=opt)\n",
    "        mdn_PQ.fit(x=reshapevar(P), y=np.array(Q).T,epochs=100,  batch_size=64,verbose=0)\n",
    "        y_pred = mdn_PQ.predict(np.reshape(P,newshape=(len(P),-1)))\n",
    "        return y_pred[:,1]\n",
    "    else:\n",
    "        indices_1 = [i for i, x in enumerate(P) if x == 1]\n",
    "        #changing x==0 to x==-1\n",
    "        indices_0 = [i for i, x in enumerate(P) if x == -1]\n",
    "        mu_0=np.mean(Q[indices_0])\n",
    "        mu_1=np.mean(Q[indices_1])\n",
    "        #sigma_0=np.std(Q[indices_0])\n",
    "        #sigma_1=np.std(Q[indices_1])\n",
    "        y_mean=np.zeros((len(Q),1))\n",
    "        y_mean[indices_1]=mu_1\n",
    "        y_mean[indices_0]=mu_0\n",
    "        return y_mean.reshape((len(y_mean),))\n",
    "        "
   ]
  },
  {
   "cell_type": "code",
   "execution_count": 8,
   "metadata": {
    "id": "X6V8X2QFpmC7"
   },
   "outputs": [],
   "source": [
    "def shuffleBtimes(P,Q,B,mle=False):\n",
    "    \"\"\" Shuffle Q B times and compute the loss \n",
    "    \"\"\"\n",
    "    loss=[]\n",
    "    if(mle==False):\n",
    "        for i in range(0,B):\n",
    "          loss.append(compute_loss(P,np.random.permutation(Q)))\n",
    "    else:\n",
    "        for i in range(0,B):\n",
    "          loss.append(compute_loss(P,np.random.permutation(Q),True))\n",
    "    return loss\n"
   ]
  },
  {
   "cell_type": "code",
   "execution_count": 7,
   "metadata": {
    "id": "iUW3ikOHu6PO"
   },
   "outputs": [],
   "source": [
    "def LinearLABData():\n",
    "    \"\"\" Generate the linear data \n",
    "    \"\"\"\n",
    "    L = np.random.binomial(1,0.5,1000)  \n",
    "    beta0 = np.ones(1000)-0.4\n",
    "    #beta1 = 0.5\n",
    "    beta1=3\n",
    "    beta2= 0.3\n",
    "    beta3=0.8\n",
    "    #eps0 = np.random.standard_normal(1000)\n",
    "    #eps1 = np.random.standard_normal(1000)\n",
    "    eps0 = np.random.normal(0,1,1000)\n",
    "    eps1 = np.random.normal(0,1,1000)\n",
    "    A = beta0 + beta1*L + eps0\n",
    "    #B=beta2+beta3*np.sin(A)+eps1\n",
    "    B = beta2+ beta3*A + eps1 \n",
    "    plt.scatter(A,B)\n",
    "    plt.title(\"A vs B\")\n",
    "    plt.xlabel(\"A\")\n",
    "    plt.ylabel(\"B\")\n",
    "    return [L,A,B]"
   ]
  },
  {
   "cell_type": "code",
   "execution_count": 10,
   "metadata": {},
   "outputs": [],
   "source": [
    "#L = np.random.binomial(2,0.5,1000)  \n",
    "L = np.random.binomial(1,0.5,1000)  "
   ]
  },
  {
   "cell_type": "code",
   "execution_count": 140,
   "metadata": {},
   "outputs": [],
   "source": [
    "L[L==0]=-1"
   ]
  },
  {
   "cell_type": "code",
   "execution_count": 141,
   "metadata": {},
   "outputs": [
    {
     "data": {
      "text/plain": [
       "array([ True,  True,  True,  True, False,  True, False,  True,  True,\n",
       "        True,  True,  True,  True, False,  True, False,  True,  True,\n",
       "        True, False,  True,  True, False, False, False,  True, False,\n",
       "       False,  True,  True,  True,  True,  True,  True, False,  True,\n",
       "        True,  True, False,  True,  True,  True,  True,  True,  True,\n",
       "       False, False, False,  True, False,  True, False, False,  True,\n",
       "       False, False, False, False, False,  True, False,  True,  True,\n",
       "        True,  True, False,  True,  True, False, False, False,  True,\n",
       "       False,  True, False, False,  True, False, False,  True, False,\n",
       "        True,  True,  True, False, False,  True,  True,  True,  True,\n",
       "       False,  True,  True, False,  True, False, False,  True,  True,\n",
       "       False, False, False, False, False, False, False,  True, False,\n",
       "       False, False, False, False,  True, False,  True, False, False,\n",
       "        True, False,  True,  True,  True, False, False, False,  True,\n",
       "       False,  True, False, False, False,  True, False, False,  True,\n",
       "        True, False, False,  True,  True,  True, False,  True,  True,\n",
       "        True,  True,  True,  True,  True,  True,  True, False,  True,\n",
       "       False, False, False,  True,  True, False, False, False, False,\n",
       "        True, False, False, False,  True,  True, False,  True, False,\n",
       "        True, False, False, False,  True,  True, False, False, False,\n",
       "       False, False, False,  True,  True,  True, False,  True, False,\n",
       "       False,  True, False,  True, False,  True, False,  True, False,\n",
       "        True, False,  True, False,  True, False,  True,  True,  True,\n",
       "        True,  True,  True,  True, False,  True,  True, False,  True,\n",
       "       False, False,  True,  True,  True,  True, False, False, False,\n",
       "        True, False, False, False, False,  True, False,  True,  True,\n",
       "        True, False, False, False, False,  True,  True, False, False,\n",
       "       False,  True, False, False, False, False,  True,  True,  True,\n",
       "       False,  True, False, False, False,  True,  True, False,  True,\n",
       "        True, False,  True,  True,  True,  True, False, False,  True,\n",
       "       False, False,  True,  True, False, False,  True, False, False,\n",
       "        True,  True, False,  True,  True,  True, False,  True, False,\n",
       "        True, False,  True,  True, False, False, False,  True,  True,\n",
       "       False, False, False,  True,  True,  True,  True, False, False,\n",
       "        True,  True, False, False, False,  True, False, False, False,\n",
       "        True,  True,  True,  True, False,  True, False, False,  True,\n",
       "       False,  True,  True, False, False,  True,  True, False, False,\n",
       "        True,  True, False, False, False, False, False, False,  True,\n",
       "        True, False,  True, False, False,  True, False,  True, False,\n",
       "        True,  True, False,  True,  True,  True, False,  True,  True,\n",
       "        True,  True, False,  True, False, False, False,  True,  True,\n",
       "        True, False, False, False, False,  True, False, False, False,\n",
       "       False,  True, False,  True,  True,  True,  True,  True,  True,\n",
       "        True,  True,  True, False, False,  True, False,  True, False,\n",
       "        True, False, False,  True, False,  True, False, False,  True,\n",
       "       False, False,  True,  True, False,  True,  True, False,  True,\n",
       "        True, False, False,  True, False,  True, False,  True,  True,\n",
       "        True, False,  True,  True,  True, False,  True, False, False,\n",
       "        True,  True, False,  True,  True, False, False,  True, False,\n",
       "       False,  True, False,  True,  True,  True,  True, False, False,\n",
       "        True,  True,  True, False, False, False,  True, False,  True,\n",
       "        True, False, False, False, False,  True, False,  True,  True,\n",
       "        True,  True, False,  True, False,  True, False, False,  True,\n",
       "        True, False,  True, False, False, False,  True, False,  True,\n",
       "       False, False,  True, False, False, False, False, False, False,\n",
       "       False, False, False, False,  True, False, False, False, False,\n",
       "        True,  True,  True, False,  True,  True, False,  True, False,\n",
       "       False, False, False,  True,  True, False, False, False, False,\n",
       "       False,  True,  True, False, False,  True,  True,  True,  True,\n",
       "        True,  True, False,  True, False,  True, False, False,  True,\n",
       "       False, False, False,  True, False,  True,  True,  True, False,\n",
       "       False,  True,  True,  True,  True,  True,  True,  True, False,\n",
       "        True,  True,  True, False, False,  True,  True,  True, False,\n",
       "        True, False, False, False,  True,  True, False, False, False,\n",
       "       False,  True, False,  True,  True, False,  True,  True, False,\n",
       "        True,  True,  True, False, False,  True,  True, False, False,\n",
       "       False,  True,  True, False,  True,  True, False,  True, False,\n",
       "       False, False, False, False,  True,  True,  True, False,  True,\n",
       "       False,  True,  True,  True,  True, False, False, False,  True,\n",
       "        True,  True,  True,  True, False, False,  True,  True,  True,\n",
       "        True,  True,  True, False, False,  True,  True, False,  True,\n",
       "        True,  True, False, False,  True,  True,  True, False, False,\n",
       "       False,  True, False, False, False,  True, False,  True, False,\n",
       "       False, False,  True, False,  True, False,  True, False,  True,\n",
       "       False, False,  True, False, False,  True, False, False, False,\n",
       "        True, False,  True, False,  True,  True, False, False, False,\n",
       "        True,  True, False,  True,  True,  True, False, False,  True,\n",
       "       False, False,  True,  True, False, False, False, False, False,\n",
       "       False,  True, False, False,  True,  True, False,  True, False,\n",
       "       False,  True,  True, False, False,  True, False,  True, False,\n",
       "        True,  True, False, False,  True,  True,  True, False, False,\n",
       "       False,  True,  True, False, False,  True,  True, False, False,\n",
       "        True, False,  True, False,  True, False, False,  True,  True,\n",
       "        True, False, False, False, False, False, False, False,  True,\n",
       "       False, False, False, False, False, False, False, False, False,\n",
       "       False,  True, False, False,  True,  True, False, False,  True,\n",
       "        True, False, False,  True,  True, False,  True, False,  True,\n",
       "        True, False,  True, False, False, False,  True,  True, False,\n",
       "       False, False,  True,  True, False,  True, False, False, False,\n",
       "       False,  True, False, False, False,  True,  True,  True,  True,\n",
       "       False,  True, False,  True, False,  True, False,  True,  True,\n",
       "        True,  True,  True,  True,  True, False,  True,  True, False,\n",
       "       False, False, False,  True, False, False, False,  True,  True,\n",
       "        True,  True, False,  True, False,  True, False, False,  True,\n",
       "        True, False,  True, False, False, False,  True,  True,  True,\n",
       "       False,  True,  True,  True, False, False,  True, False,  True,\n",
       "       False, False, False,  True,  True, False, False,  True, False,\n",
       "       False,  True, False, False, False,  True, False, False,  True,\n",
       "       False,  True, False,  True, False, False,  True, False, False,\n",
       "        True, False,  True,  True, False, False, False, False,  True,\n",
       "        True, False,  True, False, False, False,  True, False, False,\n",
       "        True,  True, False,  True, False, False,  True, False,  True,\n",
       "       False,  True,  True, False,  True,  True,  True, False, False,\n",
       "       False, False,  True, False,  True, False,  True, False,  True,\n",
       "        True,  True, False, False,  True, False,  True,  True, False,\n",
       "        True, False, False, False,  True,  True, False, False,  True,\n",
       "        True, False,  True, False,  True,  True, False, False, False,\n",
       "        True, False,  True, False, False,  True, False,  True, False,\n",
       "        True,  True, False,  True, False,  True, False,  True, False,\n",
       "       False, False, False,  True, False, False,  True,  True,  True,\n",
       "       False,  True, False,  True,  True,  True, False,  True, False,\n",
       "       False])"
      ]
     },
     "execution_count": 141,
     "metadata": {},
     "output_type": "execute_result"
    }
   ],
   "source": [
    "L==-1"
   ]
  },
  {
   "cell_type": "code",
   "execution_count": 143,
   "metadata": {},
   "outputs": [
    {
     "data": {
      "text/plain": [
       "array([-12.5607367 ,  -9.72519239, -10.78935437, -10.91616983,\n",
       "       -11.5571557 , -10.47541323, -12.48919644, -11.12580122,\n",
       "        -9.38174223, -12.57703917,  -9.81972023, -11.11612162,\n",
       "        -9.71289502, -11.47494302, -11.57056392, -10.44819373,\n",
       "       -11.43441633, -11.49067398, -12.16426103,  -9.961433  ,\n",
       "        -9.74146648,  -9.40825079,  -9.81010259, -10.96944203,\n",
       "       -11.77782559, -11.60961964, -12.08714446, -10.24265782,\n",
       "       -10.82864338,  -9.75885511, -11.45491217, -11.10047222,\n",
       "       -11.86934486,  -9.81583714, -10.94125991,  -9.97259091,\n",
       "       -10.40555248, -10.44272755,  -9.52586763,  -9.73477343,\n",
       "       -10.51192189, -10.66200683, -11.4228291 , -10.58983581,\n",
       "       -10.67729334, -11.00603175, -11.82249643,  -9.90395514,\n",
       "       -12.07644782, -10.96114006, -10.14072777, -10.98982431,\n",
       "       -10.43378941, -10.49751969, -11.3486992 , -11.68338974,\n",
       "       -11.33841376, -11.63889053, -13.68284157, -10.3408225 ,\n",
       "       -12.12285787, -13.18695259, -12.70548775, -11.16366462,\n",
       "       -11.64908388, -11.65955578, -11.51530908, -12.22595126,\n",
       "       -12.05972494,  -9.67401136, -10.63412999, -13.07055765,\n",
       "       -10.5660101 , -11.75164738,  -9.89739399,  -9.90107875,\n",
       "       -11.39316074, -11.41704091,  -9.80991478,  -9.92045796,\n",
       "       -10.53287876, -11.53240376, -12.12546242, -10.19353584,\n",
       "       -10.91308488,  -9.8246233 , -11.45246563, -12.22989582,\n",
       "        -9.74152323, -10.21120554, -11.34472973, -13.35475539,\n",
       "       -10.13576994, -11.41264934,  -9.50563755, -10.26683222,\n",
       "       -11.53647153, -11.93821597, -10.77711742,  -9.44166535,\n",
       "       -11.4938018 , -10.90200467, -10.6447262 , -11.73615653,\n",
       "       -10.13484511, -11.5987565 , -11.55474822,  -9.64352596,\n",
       "       -12.24115263, -10.65616561, -11.00581278, -11.05675631,\n",
       "       -10.44101611, -12.84143547, -10.65601835, -11.9009838 ,\n",
       "       -11.19244284, -11.26991014, -11.53314243, -10.6889067 ,\n",
       "       -11.37540401, -10.38479203, -11.09093029, -11.77250413,\n",
       "       -12.63739228, -11.78709779, -11.84259211, -10.79626189,\n",
       "        -9.7515491 , -10.77183476, -11.09316974, -10.75275467,\n",
       "       -10.52435053, -10.35868455, -10.95617677,  -8.81238469,\n",
       "       -10.95981923,  -9.96873106, -10.97795246, -10.5321683 ,\n",
       "       -10.89914002, -11.11521803, -12.2661826 , -11.30121883,\n",
       "       -10.46100994, -10.37924451, -11.15818803, -10.03294347,\n",
       "       -12.07240909,  -9.84633661, -12.14999836, -13.14197754,\n",
       "       -11.25902562, -11.09505774, -10.91965935, -11.20321685,\n",
       "       -11.89846034, -11.25773947, -10.20064148, -11.49234083,\n",
       "       -10.67409549, -10.55234057, -10.79080742, -12.71281193,\n",
       "       -10.5131951 , -10.94299533, -11.84996616, -13.47752075,\n",
       "       -10.75850794, -12.24684942,  -8.21835482, -10.07743211,\n",
       "       -12.18225589, -11.69723072, -11.4049415 ,  -9.8686952 ,\n",
       "        -9.67383886, -11.78132549, -11.25905741, -11.64424028,\n",
       "        -9.68944329, -13.0024892 , -10.35702862, -10.31944759,\n",
       "       -10.82815445, -12.18636089, -12.29947941,  -9.04620829,\n",
       "       -11.34705826, -10.53215714,  -9.91169197, -10.10969332,\n",
       "       -10.41380203,  -9.14594683,  -9.14501711, -10.52415153,\n",
       "       -11.06225339, -10.91576336, -11.5914175 ,  -9.77305045,\n",
       "       -11.71967522, -11.22272923, -12.00359658, -10.80153952,\n",
       "       -10.22500318, -12.31394218, -11.03005894, -12.17830328,\n",
       "       -11.90925367,  -9.9464334 , -10.98561069, -10.18296511,\n",
       "       -10.02854445,  -9.34735044, -11.47193148, -10.85701701,\n",
       "       -10.33055191, -11.52180698, -10.85142678,  -9.88236552,\n",
       "       -11.23969172, -11.97306307,  -9.09640809,  -8.45977634,\n",
       "       -11.78662676, -12.29619767, -10.62019262, -11.03220013,\n",
       "       -10.57513222, -12.17432786, -11.16547351, -11.76719256,\n",
       "       -10.75003402, -13.01133727, -10.75691934, -10.89692216,\n",
       "        -9.79851398, -11.02914839, -12.11218697, -12.09554211,\n",
       "       -10.14953045, -10.52748787, -11.06443299,  -9.92311176,\n",
       "       -10.98968538, -10.699606  , -10.49649734,  -9.97632594,\n",
       "       -10.59526566, -10.25328168, -11.98724642,  -9.64577053,\n",
       "       -11.4798677 , -11.46273958, -11.13992511, -11.64786743,\n",
       "       -10.581186  , -12.13423452, -12.52070514, -11.69016245,\n",
       "       -12.75762918, -11.86669228, -10.77609949, -11.43417575,\n",
       "       -10.22769462, -12.22947587, -10.653376  , -10.83860272,\n",
       "        -9.8625412 , -10.27763195,  -8.64021282,  -9.32718096,\n",
       "       -10.93507082, -11.29440265, -10.45723292, -13.00190176,\n",
       "       -10.59508216, -12.27937742,  -9.17051608, -10.9852922 ,\n",
       "        -9.23507855, -10.10914509, -10.97084321, -12.48860215,\n",
       "        -9.16724972, -12.21084141, -13.13890932, -10.90581402,\n",
       "       -12.11683341, -11.32200852, -11.15501848, -10.10978047,\n",
       "       -12.92926094, -11.48496385, -11.35476595,  -8.78529969,\n",
       "       -10.4876206 , -11.33815186, -11.93558445, -11.270253  ,\n",
       "       -11.93337789, -11.21690136, -11.10193025, -11.19205709,\n",
       "        -9.59080229, -11.29024086, -13.00659134, -12.67020973,\n",
       "       -11.02218456, -11.78710585, -10.39377614, -11.00400487,\n",
       "       -11.48354743, -10.09522792, -10.3401378 , -12.87657495,\n",
       "       -12.37438989, -12.06480733, -10.57007563, -13.11852013,\n",
       "       -11.05413109, -11.6975934 , -10.09830393, -10.54434476,\n",
       "       -10.94819865, -10.76623902, -10.64112924, -11.54151626,\n",
       "        -8.93094625, -12.37485813,  -8.56710541,  -8.8086721 ,\n",
       "       -11.98691587, -11.86962037, -11.32045995, -11.62626825,\n",
       "       -11.11661802, -11.33972503,  -8.22934424, -11.45670622,\n",
       "        -9.79857932, -10.85867709, -10.5449038 , -11.31436563,\n",
       "       -10.55670273,  -9.37377208,  -9.33294785, -10.38616654,\n",
       "       -11.79899234,  -9.81218174, -12.15173961, -13.23505861,\n",
       "       -10.82356048,  -9.52392761, -10.64034708, -11.58664663,\n",
       "       -11.08913897, -10.36290123, -10.21754112, -11.44380466,\n",
       "       -12.44510561, -10.78616811, -10.30643491, -10.96917682,\n",
       "        -8.93010794, -10.99603058, -11.43860886, -11.55227766,\n",
       "       -10.80044097, -12.53630537, -12.16659882, -12.24312658,\n",
       "       -13.00369922,  -9.48524608, -11.90218698,  -9.75499674,\n",
       "        -9.52400437, -12.30809448, -10.68221294, -10.17649281,\n",
       "       -10.79056449, -12.26423612, -10.6747303 , -12.50911845,\n",
       "       -10.76724597, -10.4407245 , -10.51574527,  -9.97716715,\n",
       "       -10.05209776, -12.56550295, -11.52111557, -10.92967173,\n",
       "       -10.07305022, -11.54620016,  -8.97923632, -11.44490005,\n",
       "        -9.8627736 , -10.85413375, -12.78466275, -10.5325325 ,\n",
       "       -11.6423214 , -11.78206535, -11.40931072, -10.04006209,\n",
       "        -9.27006944, -11.78002204, -12.68433674, -10.97128983,\n",
       "       -12.09010622, -10.45390677, -12.24053171, -10.66999894,\n",
       "       -10.14702259, -11.21663384,  -9.43810432, -11.59583777,\n",
       "       -10.10510686, -12.35604525, -10.24840645, -10.41441375,\n",
       "       -11.17461569, -11.14718257, -10.72643469, -13.44461014,\n",
       "       -11.41917998, -11.46077294, -10.57864904, -11.59442169,\n",
       "       -11.62882738, -11.04287143, -10.91454405,  -9.29613967,\n",
       "       -11.79963199, -12.58893961, -12.21728068, -12.32949996,\n",
       "       -11.25584312, -10.8029131 , -11.14933369, -11.68177244,\n",
       "       -10.04993788, -11.2365014 , -10.55094748, -10.98422161,\n",
       "       -11.06857522, -11.33879184, -10.69051018, -10.4785867 ,\n",
       "       -12.18398754, -11.68344376, -12.54161447, -11.90347208,\n",
       "       -11.68916867, -11.32658952,  -9.79758654,  -9.8055746 ,\n",
       "        -9.31338275, -10.09914883, -12.20795044,  -8.43663498,\n",
       "       -11.98149122, -10.75350173, -10.56304024, -10.81605129,\n",
       "       -10.88113262, -11.73110396, -12.1138645 , -10.74863552,\n",
       "       -10.07615128, -11.20687285,  -9.62206918, -12.02599512,\n",
       "        -9.61517566, -10.03757044, -10.73206624, -11.90676742,\n",
       "       -12.05650688, -11.80869477, -10.65021516,  -9.2887585 ,\n",
       "        -9.91138799, -13.50148183,  -9.92116336, -12.18391105,\n",
       "       -11.47029974, -11.63361592, -10.47177529, -13.28157447,\n",
       "        -9.69173306, -10.71376086])"
      ]
     },
     "execution_count": 143,
     "metadata": {},
     "output_type": "execute_result"
    }
   ],
   "source": [
    "A[L==-1]"
   ]
  },
  {
   "cell_type": "code",
   "execution_count": 142,
   "metadata": {},
   "outputs": [],
   "source": [
    "A=-5+6*L+np.random.normal(0,1,1000)"
   ]
  },
  {
   "cell_type": "code",
   "execution_count": 120,
   "metadata": {},
   "outputs": [],
   "source": [
    "#A[L==-1]=-5+6*L[L==-1]+np.random.normal(0,2,len(L[L==-1]))"
   ]
  },
  {
   "cell_type": "code",
   "execution_count": 121,
   "metadata": {},
   "outputs": [],
   "source": [
    "#A=L+np.random.normal(0,1,1000)\n",
    "B=A**2+np.random.normal(0,1,1000)"
   ]
  },
  {
   "cell_type": "code",
   "execution_count": 122,
   "metadata": {},
   "outputs": [
    {
     "data": {
      "text/plain": [
       "<matplotlib.collections.PathCollection at 0x7fb4e7e3aaf0>"
      ]
     },
     "execution_count": 122,
     "metadata": {},
     "output_type": "execute_result"
    },
    {
     "data": {
      "image/png": "[encoded data removed]",
      "text/plain": [
       "<Figure size 432x288 with 1 Axes>"
      ]
     },
     "metadata": {
      "needs_background": "light"
     },
     "output_type": "display_data"
    }
   ],
   "source": [
    "plt.scatter(A,B)"
   ]
  },
  {
   "cell_type": "code",
   "execution_count": 16,
   "metadata": {},
   "outputs": [],
   "source": [
    "fo=open(\"../LinearDifferentvalues/testing_writingvalues_diff_variance.txt\", \"r\")\n",
    "L=[]\n",
    "A=[]\n",
    "B=[]\n",
    "#fe=open(\"dataset_params.txt\",'w')\n",
    "for i in range(0,121):\n",
    "    line=fo.readline()\n",
    "    #fe.write(line)\n",
    "    #line=line[1:-2] #remove double quotes \n",
    "    #param = [j for j in line.split()]\n",
    "    #print(param)\n",
    "    #chrname.append(param[1])\n",
    "    #g1.append(param[2])\n",
    "    #g2.append(param[3])\n",
    "    line=fo.readline()\n",
    "    l = [j for j in line.split()]\n",
    "    L.append([int(i) for i in l])\n",
    "    line=fo.readline()\n",
    "    a = [j for j in line.split()]\n",
    "    A.append([float(i) for i in a])\n",
    "    line=fo.readline()\n",
    "    b = [j for j in line.split()]\n",
    "    B.append([float(i) for i in b])\n",
    "dataset_linear = [i for i in zip(L,A,B)]\n",
    "fo.close()\n",
    "#fe.close()"
   ]
  },
  {
   "cell_type": "code",
   "execution_count": 12,
   "metadata": {},
   "outputs": [
    {
     "data": {
      "text/plain": [
       "121"
      ]
     },
     "execution_count": 12,
     "metadata": {},
     "output_type": "execute_result"
    }
   ],
   "source": [
    "len(dataset_linear)"
   ]
  },
  {
   "cell_type": "code",
   "execution_count": 9,
   "metadata": {},
   "outputs": [],
   "source": [
    "fer=open(\"../LinearDifferentvalues/dataset_params_Linear0to1.txt\",\"r\")\n",
    "dataset_names=[]\n",
    "for i in range(0,121):\n",
    "    line=fer.readline()\n",
    "    line=\"_\".join(line.split())\n",
    "    dataset_names.append(line)\n",
    "fer.close()"
   ]
  },
  {
   "cell_type": "code",
   "execution_count": 15,
   "metadata": {},
   "outputs": [
    {
     "data": {
      "text/plain": [
       "'0.3_0.3'"
      ]
     },
     "execution_count": 15,
     "metadata": {},
     "output_type": "execute_result"
    }
   ],
   "source": [
    "dataset_names[24]"
   ]
  },
  {
   "cell_type": "code",
   "execution_count": 17,
   "metadata": {},
   "outputs": [],
   "source": [
    "def calculate_pvalue(original,loss_list):\n",
    "    '''\n",
    "    calculate the p value \n",
    "    '''\n",
    "    return sum(i < original for i in loss_list)/len(loss_list)\n",
    "    \n",
    "    "
   ]
  },
  {
   "cell_type": "code",
   "execution_count": 10,
   "metadata": {},
   "outputs": [],
   "source": [
    "def compute_third_testloss(A,B):\n",
    "    opt = tf.optimizers.Adam(1e-2)\n",
    "    mdn_PQ = MDN_module()\n",
    "    mdn_PQ.compile(loss=gnll_loss, optimizer=opt)\n",
    "##changing epochs didnt make much difference\n",
    "\n",
    "#mdn_PQ.fit(x=C, y=np.array(B).T,epochs=300,  batch_size=64)\n",
    "    withoutL=mdn_PQ.fit(x=A, y=B.T,epochs=100,  batch_size=64,verbose=0)\n",
    "    y_pred = mdn_PQ.predict(A)\n",
    "    alpha,mu,sigma = slice_parameter_vectors(y_pred)\n",
    "    gm = tfd.MixtureSameFamily(\n",
    "        mixture_distribution=tfd.Categorical(probs=alpha),\n",
    "        components_distribution=tfd.Normal(\n",
    "            loc=mu,       \n",
    "            scale=sigma))\n",
    "    log_likelihood = gm.log_prob(B).numpy()\n",
    "    return -tf.reduce_mean(log_likelihood, axis=-1).numpy()"
   ]
  },
  {
   "cell_type": "code",
   "execution_count": 11,
   "metadata": {},
   "outputs": [],
   "source": [
    "def calculate_difference(L,A,B):\n",
    "    return compute_third_testloss(reshapevar(A),np.array(B))-compute_third_testloss(np.concatenate([L.reshape(-1,1),A.reshape(-1,1)],axis=1),np.array(B))\n",
    "    "
   ]
  },
  {
   "cell_type": "code",
   "execution_count": 12,
   "metadata": {},
   "outputs": [],
   "source": [
    "def stratify_B_n_times_diff(L,A,B,n):\n",
    "    loss=[]\n",
    "    indices_1 = [i for i, x in enumerate(L) if x == 1]\n",
    "    #changin x==0 to x=-1\n",
    "    indices_0 = [i for i, x in enumerate(L) if x == 0]\n",
    "    for i in range(0,n):\n",
    "        B_dist_temp=np.zeros(len(B))\n",
    "        mod_indices_1=random.sample(indices_1,len(indices_1))\n",
    "        for i in range(len(indices_1)):\n",
    "            B_dist_temp[indices_1[i]]=B[mod_indices_1[i]]\n",
    "\n",
    "        mod_indices_0=random.sample(indices_0,len(indices_0))\n",
    "        for i in range(len(indices_0)):\n",
    "            B_dist_temp[indices_0[i]]=B[mod_indices_0[i]]\n",
    "        loss.append(calculate_difference(L,A,B_dist_temp))\n",
    "    return loss"
   ]
  },
  {
   "cell_type": "code",
   "execution_count": 18,
   "metadata": {},
   "outputs": [
    {
     "name": "stderr",
     "output_type": "stream",
     "text": [
      "2022-08-10 23:12:30.695147: W tensorflow/stream_executor/platform/default/dso_loader.cc:64] Could not load dynamic library 'libcuda.so.1'; dlerror: libcuda.so.1: cannot open shared object file: No such file or directory\n",
      "2022-08-10 23:12:30.695185: W tensorflow/stream_executor/cuda/cuda_driver.cc:269] failed call to cuInit: UNKNOWN ERROR (303)\n",
      "2022-08-10 23:12:30.695198: I tensorflow/stream_executor/cuda/cuda_diagnostics.cc:156] kernel driver does not appear to be running on this host (birds05-Precision-Tower-3620): /proc/driver/nvidia/version does not exist\n",
      "2022-08-10 23:12:30.695367: I tensorflow/core/platform/cpu_feature_guard.cc:151] This TensorFlow binary is optimized with oneAPI Deep Neural Network Library (oneDNN) to use the following CPU instructions in performance-critical operations:  AVX2 FMA\n",
      "To enable them in other operations, rebuild TensorFlow with the appropriate compiler flags.\n"
     ]
    }
   ],
   "source": [
    "    i=3\n",
    "    A=np.array(dataset_linear[i][1])\n",
    "    B=np.array(dataset_linear[i][2])\n",
    "    L=np.array(dataset_linear[i][0])\n",
    "    shuffles=100\n",
    "    A_shuffle=np.copy(A)\n",
    "    B_shuffle=np.copy(B)\n",
    "    #print(\"Original\",B_shuffle)\n",
    "    #changed the second test from mle to using neural networks\n",
    "    loss_list_LA=shuffleBtimes(L,A_shuffle,shuffles,True)\n",
    "    loss_list_LB=shuffleBtimes(L,B_shuffle,shuffles,True)\n",
    "    loss_list_Bresidual=stratify_B_n_times_diff(L,A_shuffle,B_shuffle,shuffles) #conditional independence test\n",
    "    true_LA=compute_loss(L,A,True)\n",
    "    true_LB=compute_loss(L,B,True)\n",
    "    true_LBresidual=calculate_difference(L,A,B)\n",
    "    LA_p=calculate_pvalue(true_LA,loss_list_LA)\n",
    "    LB_p=calculate_pvalue(true_LB,loss_list_LB)\n",
    "    AB_p=calculate_pvalue(true_LBresidual,loss_list_Bresidual)\n",
    "    #f.write(str(i)+\",\"+str(LA_p)+\",\"+str(LB_p)+\",\"+str(AB_p)+\"\\n\")\n",
    "    #pickle_items=[loss_list_LA,loss_list_LB,loss_list_Bresidual,true_LA,true_LB,true_LBresidual,LA_p,LB_p,AB_p]\n",
    "    #file_name=str(dataset_names[i])+\".pkl\"\n",
    "    #open_file = open(\"./DLresultspickle/\"+file_name, \"wb\")\n",
    "    #pickle.dump(pickle_items, open_file)\n",
    "    #open_file.close()"
   ]
  },
  {
   "cell_type": "code",
   "execution_count": 24,
   "metadata": {},
   "outputs": [
    {
     "name": "stdout",
     "output_type": "stream",
     "text": [
      "0.0\n",
      "0.0\n",
      "0.87\n"
     ]
    }
   ],
   "source": [
    "#print(dataset_names[120])\n",
    "print(LA_p)\n",
    "print(LB_p)\n",
    "print(AB_p)"
   ]
  },
  {
   "cell_type": "code",
   "execution_count": 23,
   "metadata": {},
   "outputs": [
    {
     "data": {
      "text/plain": [
       "<matplotlib.collections.PathCollection at 0x7f898feb36d0>"
      ]
     },
     "execution_count": 23,
     "metadata": {},
     "output_type": "execute_result"
    },
    {
     "data": {
      "image/png": "[encoded data removed]",
      "text/plain": [
       "<Figure size 432x288 with 1 Axes>"
      ]
     },
     "metadata": {
      "needs_background": "light"
     },
     "output_type": "display_data"
    }
   ],
   "source": [
    "plt.scatter(A,B)"
   ]
  },
  {
   "cell_type": "code",
   "execution_count": 32,
   "metadata": {
    "scrolled": true
   },
   "outputs": [
    {
     "data": {
      "text/plain": [
       "[1.460673089567857,\n",
       " 1.4602832304211348,\n",
       " 1.4606215430903624,\n",
       " 1.460701236985601,\n",
       " 1.4603112463100398,\n",
       " 1.460742775266244,\n",
       " 1.460517507338415,\n",
       " 1.4605780198332896,\n",
       " 1.4595929775892673,\n",
       " 1.4597127737722275]"
      ]
     },
     "execution_count": 32,
     "metadata": {},
     "output_type": "execute_result"
    }
   ],
   "source": [
    "loss_list_LB"
   ]
  },
  {
   "cell_type": "code",
   "execution_count": 44,
   "metadata": {},
   "outputs": [
    {
     "data": {
      "text/plain": [
       "0.011517048"
      ]
     },
     "execution_count": 44,
     "metadata": {},
     "output_type": "execute_result"
    }
   ],
   "source": [
    "true_LBresidual"
   ]
  },
  {
   "cell_type": "code",
   "execution_count": 45,
   "metadata": {},
   "outputs": [
    {
     "data": {
      "text/plain": [
       "[0.011733532,\n",
       " 0.010611057,\n",
       " 0.012115121,\n",
       " 0.012776256,\n",
       " 0.01239872,\n",
       " 0.0068571568,\n",
       " 0.01448679,\n",
       " 0.006354451,\n",
       " 0.006739974,\n",
       " 0.013059139]"
      ]
     },
     "execution_count": 45,
     "metadata": {},
     "output_type": "execute_result"
    }
   ],
   "source": [
    "loss_list_Bresidual"
   ]
  },
  {
   "cell_type": "code",
   "execution_count": 56,
   "metadata": {},
   "outputs": [],
   "source": [
    "A=A.reshape((1000,1))"
   ]
  },
  {
   "cell_type": "code",
   "execution_count": 57,
   "metadata": {},
   "outputs": [],
   "source": [
    "B=B.reshape((1000,1))"
   ]
  },
  {
   "cell_type": "code",
   "execution_count": 58,
   "metadata": {},
   "outputs": [],
   "source": [
    "L=L.reshape((1000,1))"
   ]
  },
  {
   "cell_type": "code",
   "execution_count": 66,
   "metadata": {},
   "outputs": [
    {
     "data": {
      "text/plain": [
       "1.276148102341348e-15"
      ]
     },
     "execution_count": 66,
     "metadata": {},
     "output_type": "execute_result"
    }
   ],
   "source": [
    "CCIT.CCIT(L,B,A,num_iter = 30, bootstrap = True, nthread = 20) "
   ]
  },
  {
   "cell_type": "code",
   "execution_count": null,
   "metadata": {},
   "outputs": [],
   "source": []
  },
  {
   "cell_type": "code",
   "execution_count": 47,
   "metadata": {},
   "outputs": [
    {
     "data": {
      "text/plain": [
       "<matplotlib.collections.PathCollection at 0x7fd0d9bfbb50>"
      ]
     },
     "execution_count": 47,
     "metadata": {},
     "output_type": "execute_result"
    },
    {
     "data": {
      "image/png": "[encoded data removed]",
      "text/plain": [
       "<Figure size 432x288 with 1 Axes>"
      ]
     },
     "metadata": {
      "needs_background": "light"
     },
     "output_type": "display_data"
    }
   ],
   "source": [
    "plt.scatter(L,B)"
   ]
  },
  {
   "cell_type": "code",
   "execution_count": 85,
   "metadata": {},
   "outputs": [],
   "source": [
    "i=120\n",
    "#A=np.array(dataset_linear[i][1])\n",
    "#B=np.array(dataset_linear[i][2])\n",
    "#L=np.array(dataset_linear[i][0])\n",
    "opt = tf.optimizers.Adam(1e-2)\n",
    "mdn_PQ = MDN_module()\n",
    "mdn_PQ.compile(loss=gnll_loss, optimizer=opt)\n",
    "withoutL=mdn_PQ.fit(x=np.concatenate([L.reshape(-1,1),A.reshape(-1,1)],axis=1), y=B.T,epochs=100,  batch_size=64,verbose=0)\n",
    "y_pred = mdn_PQ.predict(np.concatenate([L.reshape(-1,1),A.reshape(-1,1)],axis=1))\n"
   ]
  },
  {
   "cell_type": "code",
   "execution_count": 86,
   "metadata": {},
   "outputs": [
    {
     "data": {
      "text/plain": [
       "Text(0.5, 1.0, 'Original data with added information of L')"
      ]
     },
     "execution_count": 86,
     "metadata": {},
     "output_type": "execute_result"
    },
    {
     "data": {
      "image/png": "[encoded data removed]",
      "text/plain": [
       "<Figure size 432x288 with 1 Axes>"
      ]
     },
     "metadata": {
      "needs_background": "light"
     },
     "output_type": "display_data"
    }
   ],
   "source": [
    "plt.scatter(A,B)\n",
    "plt.scatter(A,y_pred[:,1])\n",
    "plt.xlabel(\"A\")\n",
    "plt.ylabel(\"B\")\n",
    "plt.title(\"Original data with added information of L\")"
   ]
  },
  {
   "cell_type": "code",
   "execution_count": 27,
   "metadata": {},
   "outputs": [],
   "source": [
    "L = np.random.binomial(1,0.5,1000)  \n",
    "eps0 = np.random.normal(0,0.1,1000)\n",
    "eps1 = np.random.normal(0,0.1,1000)\n",
    "A = 1*L + eps0\n",
    "#B=beta2+beta3*np.sin(A)+eps1\n",
    "B =1*A + eps1 "
   ]
  },
  {
   "cell_type": "code",
   "execution_count": 45,
   "metadata": {},
   "outputs": [],
   "source": [
    "i=39\n",
    "#A=np.array(dataset_linear[i][1])\n",
    "#B=np.array(dataset_linear[i][2])\n",
    "#L=np.array(dataset_linear[i][0])\n",
    "opt = tf.optimizers.Adam(1e-2)\n",
    "mdn_PQ = MDN_module()\n",
    "mdn_PQ.compile(loss=gnll_loss, optimizer=opt)\n",
    "withoutL=mdn_PQ.fit(x=reshapevar(A), y=B.T,epochs=200,  batch_size=64,verbose=0)\n",
    "y_pred = mdn_PQ.predict(reshapevar(A))\n"
   ]
  },
  {
   "cell_type": "code",
   "execution_count": 46,
   "metadata": {},
   "outputs": [
    {
     "data": {
      "text/plain": [
       "Text(0.5, 1.0, 'Original data without the added information')"
      ]
     },
     "execution_count": 46,
     "metadata": {},
     "output_type": "execute_result"
    },
    {
     "data": {
      "image/png": "[encoded data removed]",
      "text/plain": [
       "<Figure size 432x288 with 1 Axes>"
      ]
     },
     "metadata": {
      "needs_background": "light"
     },
     "output_type": "display_data"
    }
   ],
   "source": [
    "plt.scatter(A,B)\n",
    "plt.scatter(A,y_pred[:,1])\n",
    "plt.xlabel(\"A\")\n",
    "plt.ylabel(\"B\")\n",
    "plt.title(\"Original data without the added information\")\n"
   ]
  },
  {
   "cell_type": "code",
   "execution_count": 54,
   "metadata": {},
   "outputs": [],
   "source": [
    "indices_1 = [i for i, x in enumerate(L) if x == 1]\n",
    "indices_0 = [i for i, x in enumerate(L) if x == -1]\n",
    "#indices_2 = [i for i, x in enumerate(L) if x == -1]\n",
    "B_dist_temp=np.zeros(len(B))\n",
    "mod_indices_1=random.sample(indices_1,len(indices_1))\n",
    "for i in range(len(indices_1)):\n",
    "    B_dist_temp[indices_1[i]]=B[mod_indices_1[i]]\n",
    "\n",
    "mod_indices_0=random.sample(indices_0,len(indices_0))\n",
    "for i in range(len(indices_0)):\n",
    "    B_dist_temp[indices_0[i]]=B[mod_indices_0[i]]\n",
    "#mod_indices_2=random.sample(indices_2,len(indices_2))\n",
    "#for i in range(len(indices_2)):\n",
    "#    B_dist_temp[indices_2[i]]=B[mod_indices_2[i]]"
   ]
  },
  {
   "cell_type": "code",
   "execution_count": 55,
   "metadata": {},
   "outputs": [],
   "source": [
    "indices_1 = [i for i, x in enumerate(L) if x == 1]\n",
    "indices_0 = [i for i, x in enumerate(L) if x == -1]\n",
    "B_dist_temp=np.zeros(len(B))\n",
    "mod_indices_1=random.sample(indices_1,len(indices_1))\n",
    "for i in range(len(indices_1)):\n",
    "    B_dist_temp[indices_1[i]]=B[mod_indices_1[i]]\n",
    "\n",
    "mod_indices_0=random.sample(indices_0,len(indices_0))\n",
    "for i in range(len(indices_0)):\n",
    "    B_dist_temp[indices_0[i]]=B[mod_indices_0[i]]"
   ]
  },
  {
   "cell_type": "code",
   "execution_count": 56,
   "metadata": {},
   "outputs": [
    {
     "data": {
      "text/plain": [
       "array([ 8.52023172e+01,  1.67541756e+00, -4.23968532e-02,  2.98221994e+00,\n",
       "        2.34736814e+00,  1.36184305e+02,  2.46838058e+02,  1.25670570e+02,\n",
       "        1.30750943e+00,  2.33039510e-01,  2.37356562e+00,  1.58810674e+02,\n",
       "        6.31539199e-01, -6.69346618e-01,  2.01253372e+02,  8.37646617e-01,\n",
       "        2.21086739e+02,  1.71406843e+02,  1.18570771e+00,  1.29567583e+02,\n",
       "        9.62452792e+01, -6.63902547e-01,  1.01900962e+02,  4.38283682e-01,\n",
       "        2.05880653e+02,  1.64081071e+02,  3.43001950e-02,  7.18029589e+01,\n",
       "        1.02651605e+02,  7.01485635e-01,  1.60882764e+02,  1.18653058e+02,\n",
       "        1.24982049e+02,  7.15259117e+00,  1.19971045e+02,  1.31857308e+01,\n",
       "        2.89381422e+00,  1.89161511e+00, -1.65680435e+00,  3.79919496e+00,\n",
       "       -1.02982484e+00,  2.19152177e+02,  1.00907368e+02,  1.61074434e+00,\n",
       "        1.53715652e+00,  7.72734333e-01,  6.35336181e+01,  9.69956864e+01,\n",
       "        2.23171790e+02, -6.94341700e-01,  1.24553150e+00,  2.20862589e+02,\n",
       "        2.04303831e+02,  8.23881154e+01,  3.18541124e-01,  1.61315286e+02,\n",
       "        1.06375853e+02, -5.42382176e-01,  3.67916548e+00, -6.20807061e-01,\n",
       "        1.64989416e+02,  3.36867597e-01,  1.45014005e+02,  3.52889542e+00,\n",
       "        2.92144654e+00,  1.61325373e+00,  2.20998315e+00,  5.64447367e+01,\n",
       "        1.34783861e+02,  5.43968154e+01,  5.59547476e-01,  1.70969135e+02,\n",
       "        1.54540096e+02,  1.76133103e+00,  1.13206857e+02,  1.21391078e+02,\n",
       "       -2.72184202e+00,  2.04602340e+02,  4.69163986e-01, -9.33861144e-01,\n",
       "        3.42133058e-01,  1.52667115e+00,  1.69652717e+00, -2.08840233e-01,\n",
       "        4.19036967e+00,  9.49920248e-01,  1.15271454e+02,  1.27194598e+02,\n",
       "        4.28258009e+00,  2.69362467e+00,  4.97325047e+00,  1.20540990e+00,\n",
       "        1.52236148e-01,  3.87032671e+00,  9.38080893e+01, -2.36480492e-01,\n",
       "        1.38688245e+02,  4.31583427e+00, -1.46376171e-01, -5.73830353e-01,\n",
       "        9.85469234e+01,  2.04500599e+02,  5.57468461e+00,  8.24263180e+01,\n",
       "        1.76285570e+00,  1.13910810e+02,  1.86679212e-01,  8.15469196e-01,\n",
       "        4.25378117e+00,  1.12377656e+00, -1.71855709e+00,  1.08165175e+02,\n",
       "        1.86963503e+00, -1.02689282e+00,  6.53934578e+00,  1.11112514e+02,\n",
       "        3.89663544e+01,  9.36262314e-01,  7.44638975e-01,  2.28893131e+00,\n",
       "       -7.13140586e-01,  4.08451046e-01,  8.77713880e+01,  9.15877368e-01,\n",
       "       -6.39878763e-01,  1.97944953e+02,  1.07725646e+02,  1.45851676e+02,\n",
       "        1.43754671e+02, -1.39718094e-01,  2.61987980e+02, -8.85795597e-01,\n",
       "        1.23858284e+01,  1.60746278e+00,  1.11875144e+00,  1.19623088e+02,\n",
       "        1.43539442e+02,  1.66657813e+02,  2.63257062e+00,  4.25038708e+00,\n",
       "        4.15843814e+00,  1.94803757e+00,  4.14639714e-01,  8.79531125e+00,\n",
       "       -1.60153010e+00,  6.23432317e+00,  1.35315795e+02,  5.11096473e+01,\n",
       "       -5.14890505e-01,  4.31124573e+00,  9.62096504e+01,  7.52428066e+00,\n",
       "        8.60831386e+01,  5.74881578e-02,  1.92145200e-01,  1.48632143e+02,\n",
       "        1.05073185e+02,  1.62596510e+02,  1.50324833e+00,  2.01173861e+02,\n",
       "        1.14822925e+02,  1.69284669e+00, -2.86507029e+00,  1.44004042e+02,\n",
       "        5.41667627e-01, -5.21097557e-02,  2.47234000e+00,  3.56798525e-01,\n",
       "        1.09206259e+02,  1.20779948e+00,  8.19339339e+01,  4.61523615e+00,\n",
       "        2.32947733e+02,  6.70240513e+01,  3.81397563e-01,  1.35326219e+00,\n",
       "        3.18472288e+00, -1.26807533e+00,  2.07693761e+00,  2.43362063e+02,\n",
       "        2.07916289e+00,  1.06802656e+02,  9.17794951e+01,  4.16477253e+00,\n",
       "        1.31503144e+02,  7.33538319e-01,  1.64411165e+02,  1.24502478e+02,\n",
       "        1.81599769e+02,  1.49299827e+02,  1.21847878e+02,  1.36648883e+02,\n",
       "        2.84576252e+00,  1.31447681e+02,  2.09462665e+02,  2.56458937e+00,\n",
       "        1.51231310e+02,  6.71669912e-01,  9.25092977e+01,  1.45785614e+00,\n",
       "        2.13475714e+02,  1.38388813e+00,  3.41589591e+00,  7.07351082e-01,\n",
       "        7.27023171e+01,  4.03461447e-01,  1.95565999e+00,  1.41484657e+02,\n",
       "        1.91112780e+02,  7.02794000e+01,  1.68599089e+02,  1.78666604e+02,\n",
       "        1.37683938e+00,  2.20314679e+02,  2.18499069e+00,  1.01336817e+02,\n",
       "        2.64261736e+00, -4.73927257e-02,  1.11890540e+02,  6.90578113e-01,\n",
       "        2.25578046e+00,  3.73207741e-01,  1.81975587e+00,  1.84020175e+02,\n",
       "        1.23652524e+02,  1.45084784e+02,  1.51469381e+00,  1.86142162e+00,\n",
       "        3.03322159e+00, -6.10098157e-01,  1.78161604e+00,  3.73439701e+00,\n",
       "        1.07532354e+02,  1.75933333e+00, -5.34146158e-01,  8.78647216e-01,\n",
       "        3.86264971e+01,  1.66256555e+02,  1.85212704e+02,  1.97329177e+00,\n",
       "        4.59701927e+00, -5.36172969e-01,  6.83368108e+00,  2.65728534e+00,\n",
       "        5.63855487e+01,  2.23124685e+02,  1.34866173e+02,  4.98383168e+00,\n",
       "        7.73304853e+01,  6.79188828e+01,  2.92340425e+02,  9.42319864e+01,\n",
       "        2.20718624e+00,  1.18121355e+02,  3.18444337e+02,  6.56219470e+01,\n",
       "        1.66543935e+02, -1.35779405e+00,  4.53512009e+01,  6.34892001e-01,\n",
       "        1.88715337e+00,  1.84928472e+02,  1.12774425e+02,  2.32384102e+02,\n",
       "        5.23712113e+00,  2.18744864e+00,  1.15725360e+02, -3.62413091e-01,\n",
       "        2.80179401e+02,  1.16493249e+01,  1.59237886e+00,  2.10946671e+02,\n",
       "        8.65316499e-01,  2.03705159e+02,  7.06343023e-01,  1.23950608e+02,\n",
       "        1.41561678e+02,  1.16779144e+02,  1.09459219e+01,  2.51472880e+00,\n",
       "        2.47491943e+02,  6.62145251e-01,  1.17885977e+00,  3.62825096e-01,\n",
       "        1.20466617e+02, -2.35584556e+00,  1.43006457e+01,  1.21626479e+02,\n",
       "        1.11072656e+00,  2.37214918e+02,  3.19344344e+01,  1.53248902e+01,\n",
       "        1.01554933e+02,  1.30210448e+02,  4.40371312e+01,  1.03976745e+02,\n",
       "        8.14838837e+01,  3.33196225e+00,  3.41326778e+01,  5.13144352e+00,\n",
       "        2.64340059e+00,  1.50738427e+02,  2.90696939e+00,  4.11286600e+01,\n",
       "        3.12949832e+00,  1.67643955e+00, -8.34141567e-01,  6.18215516e+01,\n",
       "        1.07140198e+00,  5.17180243e+01,  9.21339848e-01,  1.37014611e+02,\n",
       "        6.81628053e+01,  7.78563753e-01,  1.54913476e+00,  1.22932884e+02,\n",
       "        1.47554215e+02,  1.60354810e+02,  1.00915093e+02,  4.11824687e+00,\n",
       "        3.80706415e-01,  1.26730061e+00,  1.76333972e+02,  6.83752923e-01,\n",
       "       -1.67441042e+00,  9.00322111e+01,  9.71525537e+01, -1.79953952e+00,\n",
       "        5.27305040e-01,  1.07124997e+00,  4.55752248e+01,  1.06707546e+02,\n",
       "        1.00306653e+02,  3.50955536e+01,  8.39424578e-01,  1.20215005e+00,\n",
       "        8.56026835e+01,  1.02766181e+02, -8.31754317e-01,  2.15525580e+00,\n",
       "        3.30103114e+01, -4.77299953e-01,  1.21738081e+00,  3.59445584e+01,\n",
       "        1.33570396e+00,  3.21309224e+01,  1.44294510e+02,  3.26716642e+01,\n",
       "        2.01605644e+02,  1.17348492e+02, -3.42804120e-01,  7.10181307e+01,\n",
       "        2.41193518e+00,  2.12759350e+00,  6.76091415e+00,  2.24854619e+00,\n",
       "        1.66816674e+02, -1.43446333e+00,  5.92494926e-01,  1.09141540e+02,\n",
       "        6.21302479e+01,  2.09881674e-02,  3.96985098e+00,  1.23794861e+02,\n",
       "        5.36753784e+00,  1.94131701e+02, -1.92779620e+00, -3.41963370e-01,\n",
       "        2.18275106e+00,  8.22992301e+01,  2.76889437e+00,  7.95462949e+00,\n",
       "        1.15663927e+00,  8.63919185e+01,  9.61387681e+01,  1.81015001e+02,\n",
       "        1.46774729e+02,  6.36159810e+01,  6.00210255e+01, -1.39924562e+00,\n",
       "       -8.67049530e-01,  5.89156380e-01,  4.81104313e-01,  1.76499921e+00,\n",
       "        3.95629218e-01,  1.42821006e+02,  1.51346579e-01,  1.65039343e+00,\n",
       "        1.15099964e+00,  1.57856929e+00,  7.19841193e+00,  1.74782812e+02,\n",
       "        2.98561043e+00, -1.98682759e-01,  2.58600151e+01,  3.42952007e+00,\n",
       "        1.73641077e+00,  1.53841852e+02,  2.40919278e+02,  8.57264911e+01,\n",
       "        2.45673299e-01,  4.04821122e-01,  2.80092505e+02, -8.28815093e-02,\n",
       "        1.16746729e+00, -2.13535090e-01, -8.30765505e-01,  4.18510164e+01,\n",
       "        9.09473916e-01,  1.48825377e+02,  1.76109311e+02, -2.47497143e-01,\n",
       "        1.85806499e+00,  1.78747574e+02,  8.59569715e+01,  6.75900067e-01,\n",
       "       -1.27630119e+00,  9.86049549e+01,  3.15096809e+02,  1.87696837e+00,\n",
       "        1.10938164e+02,  2.88663621e+02, -3.73254753e-01,  4.52722784e+00,\n",
       "        8.50993962e-01,  3.91852706e+01,  1.30662656e+02,  6.79662797e-01,\n",
       "        2.81627816e+02,  1.34321969e+02, -9.35170034e-01,  1.33586979e+02,\n",
       "        7.79147952e+00,  1.59868620e+02,  3.15459579e+00,  7.87295601e+00,\n",
       "        1.30482250e-01, -4.17735388e-02,  1.81214914e+02,  3.36538363e+02,\n",
       "        3.25239530e+00,  2.06543702e+02,  1.75813075e+00,  1.94623216e+02,\n",
       "        1.42977787e+00,  2.13386351e+02,  2.14136419e+00,  4.42471063e+00,\n",
       "        1.13799973e+02,  1.81528475e+02,  3.31106563e-02,  8.17138907e+01,\n",
       "        2.17477673e+02,  9.46631474e+01,  2.13226709e+02, -1.42446997e+00,\n",
       "        2.39033675e+00,  1.16037743e+01,  9.24326206e+01,  4.62814981e+00,\n",
       "        3.51463395e+00, -8.04590579e-02,  1.38157554e+00,  9.59210157e-01,\n",
       "        9.18701612e+01, -1.54105448e+00,  2.46228849e+00,  4.66441319e+01,\n",
       "        1.00231722e+02,  1.78686056e+02,  1.70355001e+02, -1.83423304e+00,\n",
       "        7.98131842e+01,  6.21833285e+01, -6.36256901e-01,  2.86739959e+02,\n",
       "        2.11179272e+00,  6.54240058e-01,  8.90610221e+00,  1.60984294e+00,\n",
       "        3.11120725e+00,  1.77100702e+00,  4.00891639e+00,  1.03345808e+02,\n",
       "        3.44210347e+01,  1.76406253e+02,  1.86575516e+02,  1.56309817e+00,\n",
       "        1.39593834e+02,  1.51484927e+02,  1.18606072e+02,  9.03989690e+01,\n",
       "        8.24310884e+01,  1.78344282e+02,  5.44888889e+01,  6.71657732e+01,\n",
       "        3.46671351e+02,  1.71749232e+02,  2.01923560e+02,  5.77414270e+00,\n",
       "        1.24124366e+02, -6.80538751e-01,  1.02162134e+02,  1.52453989e+02,\n",
       "       -1.80334954e-01,  1.11790218e+02,  8.35727742e+01,  9.48284335e+00,\n",
       "        1.06912000e+02,  1.16363142e+02,  1.66077410e+00, -4.89231343e-01,\n",
       "        1.30712084e+02, -4.64831744e-01, -7.22074506e-01,  1.75298529e+02,\n",
       "        8.80195591e-01,  2.09224902e+02,  1.29448420e+02,  1.34474592e+02,\n",
       "       -1.12383161e+00,  1.89397543e+02,  2.01671789e+02,  8.01347524e+00,\n",
       "       -8.73482403e-02, -1.01742353e+00,  2.14457508e+00,  2.03352156e+02,\n",
       "        5.53079302e+00,  4.12830930e+00,  6.01588147e+01,  1.57870744e+02,\n",
       "       -1.09768389e+00,  2.65911990e+00,  1.66693581e+00,  2.06708726e+00,\n",
       "       -4.41368694e-01,  6.17071427e+01,  2.81646471e+01,  8.47296939e+01,\n",
       "        1.52974464e+00,  3.02437767e+00,  3.15639844e+01, -1.06535905e+00,\n",
       "        1.09038177e+02,  2.23766563e+00,  1.20021433e+02,  1.19512672e+02,\n",
       "        3.63420862e+01,  1.06530462e+00,  1.21742591e+02,  1.64750490e+02,\n",
       "        3.43037926e+02,  7.52453082e+01,  2.81760295e+00,  4.01529700e+00,\n",
       "       -3.85836341e-01,  6.66726753e+01,  2.57732012e+00,  2.11784627e+00,\n",
       "        1.19926406e+00,  1.41381768e+02,  4.93542445e+01,  2.25117659e+01,\n",
       "        1.14479588e+02,  2.06537232e+02,  1.14411907e-01,  1.71528871e+00,\n",
       "       -5.25970478e-02,  3.50853712e+00, -1.24617479e+00,  5.52967525e-01,\n",
       "        4.09334150e+01,  5.48989228e+00,  3.39397393e+00,  1.47750757e+00,\n",
       "        7.89569661e+01,  4.27627094e+00,  1.76235887e+02,  1.69232107e+02,\n",
       "       -9.25582080e-01,  4.64560114e+01,  1.31751956e+02,  1.66105206e+02,\n",
       "        1.43534881e+02,  6.03912095e+00,  1.42489436e+02,  6.23959830e+01,\n",
       "        9.37072287e+01,  2.77507557e+02,  1.38215177e+02,  8.70163946e+01,\n",
       "        1.51005303e+00,  4.92956795e+00,  1.39455243e+02,  1.23302358e+02,\n",
       "       -5.06433658e-02,  1.26429942e+00,  2.54221887e+00,  1.53187478e+00,\n",
       "        1.19358433e+02,  1.29634112e+02,  8.56771116e+01,  1.11838792e+02,\n",
       "        9.22875585e-01,  1.30464443e+02,  1.28568215e+02,  1.09264829e+02,\n",
       "        3.55487561e-01,  2.96355112e+00,  3.61579032e+01,  5.56491239e+00,\n",
       "        5.67344837e+01,  2.13234428e+02,  9.83662667e-01,  1.46819374e+00,\n",
       "        1.47007663e+00,  1.76930545e+02,  8.22467741e-01, -5.71470419e-01,\n",
       "        1.93787316e+00,  2.20619280e+00,  8.52437755e-01,  3.19611394e-01,\n",
       "        6.89637622e-01,  2.59005524e+00,  1.01965411e+02,  1.80203730e+02,\n",
       "        7.29519079e+00,  1.81521249e+02,  3.61172527e-02,  2.49252476e+02,\n",
       "        1.05570904e+02,  7.57970336e+01,  7.99576116e+01,  5.56306026e+00,\n",
       "        1.50398416e+00,  1.38813830e+02,  2.72444890e+00,  7.92703738e+01,\n",
       "        1.57105135e+02,  2.04494961e+01,  1.34571222e+02,  9.52142799e+01,\n",
       "        1.11848732e+02,  2.07673030e+00,  5.04748513e+00,  2.31223220e+02,\n",
       "        6.07371805e+00,  8.33991781e+01, -1.64800677e+00,  2.09690904e+02,\n",
       "       -2.51174464e+00,  1.11620455e+02,  9.75246961e+01,  2.01881475e+00,\n",
       "        4.13699259e+01,  1.73418314e+01, -1.01987926e+00,  4.35233351e+01,\n",
       "        9.66667665e+01, -2.71251403e-01,  1.63506097e+02,  2.71244241e+02,\n",
       "        1.46675947e+00,  3.00938403e+00, -1.21216415e+00,  1.30447154e+02,\n",
       "        7.75054260e+00,  5.94894056e+01,  1.10592519e+02, -1.62809753e+00,\n",
       "       -1.25702550e+00,  4.16270666e+01,  7.53130899e+01,  1.71432558e+02,\n",
       "        2.88901444e+00,  1.01418639e+02,  2.42026743e+02,  1.07314980e+02,\n",
       "        6.17120862e+01,  8.41358272e+00, -1.05717086e-01,  8.49233842e+00,\n",
       "        7.93199766e+00,  8.22244977e+00,  3.83176976e-01,  1.17274880e+02,\n",
       "        6.94294506e-01, -7.93207046e-01,  1.93319504e+02,  1.17931457e+02,\n",
       "        5.03309240e+00,  1.48211477e+02, -2.65607718e-01, -4.54573542e-01,\n",
       "        4.87482959e-02,  1.05709145e+02,  1.55723564e+02, -9.94433888e-01,\n",
       "       -6.36071122e-01, -9.18170851e-01,  3.87247259e-01,  1.12703924e+00,\n",
       "        1.15007936e+02,  1.11684454e+02,  9.64225917e+01,  1.42626723e+02,\n",
       "        9.14462018e-01,  1.37589268e+02,  2.11424638e+00,  8.70478216e+01,\n",
       "        1.02115375e+02,  3.55278956e+00,  1.43579756e+02,  1.37242956e+02,\n",
       "        2.16936099e+00,  7.15371920e+00,  1.98907424e+02,  6.31040406e-01,\n",
       "        1.29893059e+00,  1.73488792e+02,  8.42385626e-01,  1.84004039e+02,\n",
       "        8.10470943e+01,  1.28825725e+02, -8.48301640e-01,  6.67430828e-01,\n",
       "        1.52716266e+02,  7.33073076e+01,  6.48440821e+01,  5.93230798e+01,\n",
       "        1.62014627e+02,  1.99555685e+02,  3.94348642e-02,  1.37374688e+02,\n",
       "        5.42859331e+00,  5.03168315e-01,  9.65036806e-01,  1.43215461e+02,\n",
       "        1.99950906e+02,  3.94783123e+00,  1.96064781e+02,  3.09828459e+02,\n",
       "        2.57510559e+01, -8.02945142e-02,  2.35922867e+00, -8.03262659e-01,\n",
       "        6.84760486e-01,  3.21150442e+00,  8.09471394e+01,  7.09271409e+01,\n",
       "        2.21516943e+00,  1.25023510e+02,  1.18116810e+00,  8.80522409e+01,\n",
       "       -2.13543828e-01,  5.85883249e-02,  2.37367237e-01,  1.11005690e+02,\n",
       "        1.50837322e+02,  2.25811520e+02,  3.77857673e-01,  1.23177598e-02,\n",
       "        1.48389580e+02,  2.57101229e+00,  3.32656605e+00,  6.26652990e+00,\n",
       "        1.35852586e+02,  1.96544209e+02,  2.46011394e+00,  1.45881437e+02,\n",
       "        9.97036401e+01,  2.66260238e+00,  2.54206414e+00,  1.15351185e+01,\n",
       "        8.69409571e+01,  7.05950841e-01,  8.28702486e+01, -6.40662629e-01,\n",
       "        1.27046338e+02,  5.67196836e+01,  3.50538572e-01,  7.72108676e-01,\n",
       "        2.03536105e+02,  7.04566205e+01, -1.26475820e+00, -4.76029450e-01,\n",
       "        1.44068831e+00,  2.08264284e+02,  1.23559278e+02,  1.93764264e+02,\n",
       "        1.18212487e+02,  4.30979649e+00,  1.42067195e+00,  1.38390344e+00,\n",
       "        1.25215564e+00,  3.81888222e+00,  2.93521201e+00,  1.61313740e+00,\n",
       "        3.01665881e+02,  9.48428565e+01,  1.01718483e-01,  7.53018962e+00,\n",
       "        9.25205595e-01,  4.25349396e+02,  2.07118297e+00,  1.06480998e+02,\n",
       "        1.21325151e+02,  6.11744179e+01,  1.09068405e+02,  1.46218510e+00,\n",
       "        1.58298731e+00,  1.95206922e+02, -2.95286453e-01,  3.52800592e+00,\n",
       "       -8.53769275e-01,  2.34068204e+00,  1.39240239e+00,  1.93741500e+02,\n",
       "        2.08386185e+02,  1.58895206e+00,  4.11966282e+01,  1.61357223e+02,\n",
       "        2.41071687e+02,  2.20310484e+02,  1.55392299e+02,  1.10823059e+02,\n",
       "        5.15300175e-01, -3.04439672e-01,  1.07235810e+02,  5.24237233e-01,\n",
       "        1.75854401e+02,  1.76515976e+00, -1.22785757e+00,  8.04134438e-01,\n",
       "        2.22108560e+00,  7.99874053e+01,  1.87380098e-02,  5.87666621e+01,\n",
       "        3.13763228e+00,  1.26626911e+02,  9.50313954e+01,  2.05608198e+00,\n",
       "        7.29531353e+00,  9.01981276e+01,  1.71089216e+02,  7.71501423e-01,\n",
       "        8.81390650e-02,  7.67255670e+00,  8.02671524e-01,  2.06181073e+02,\n",
       "        1.65371793e+00,  7.00548163e+00,  1.42345081e+00,  1.28149008e+00,\n",
       "        1.28424873e+02,  1.51234232e+02,  1.16132632e+01,  5.59465816e-01,\n",
       "        7.24326496e-01,  2.93166407e-01,  1.07224832e+02,  4.66620119e+01,\n",
       "        7.19683326e+01,  4.88392631e+01,  5.84363626e+00,  1.81888842e+02,\n",
       "       -9.06979159e-01,  3.90570196e+00,  1.15612938e+02,  2.32994701e+02,\n",
       "        8.36323402e+01,  2.02136682e+02,  2.99498865e+00,  4.47265335e+00,\n",
       "        7.71557954e-01,  2.57580916e+00,  2.04103570e+02,  1.97211584e+02,\n",
       "        3.46367018e+00,  6.10458034e+01,  1.22183744e+02,  2.90080645e+00,\n",
       "        7.95548775e+00,  1.69128071e+02,  1.36875437e+02, -3.23606314e-01,\n",
       "       -1.93990972e+00,  1.14546606e+02,  4.26315351e+00,  4.22757751e+01,\n",
       "        1.26909683e+02,  1.85952427e+00,  9.82734140e+01,  4.56878672e+01,\n",
       "        1.63810949e+00,  2.21307929e+02,  5.09134339e+01,  2.14707066e+00,\n",
       "        1.33983867e+02,  3.03951325e+02, -8.93106095e-01,  1.72380223e+02,\n",
       "        8.08796719e-01,  9.97008651e-01,  3.02913761e+01,  1.38260551e+02,\n",
       "        2.05055895e+00,  2.15216498e-01,  3.52904623e-01,  4.60678982e+00,\n",
       "        5.50651093e-01,  1.28467787e+02, -1.55828426e+00,  4.48300630e+00,\n",
       "        1.34959472e+02,  1.76908179e+02,  1.51943252e+02,  2.91567582e+00,\n",
       "       -8.04309682e-01,  1.35807241e+02, -2.38449407e+00,  8.88979314e+01,\n",
       "       -5.10686173e-01,  1.28489973e+01,  3.89297239e+01,  1.71711859e+02,\n",
       "        3.80709096e-01,  1.38994714e+00,  3.15843086e-01,  7.24910142e+01,\n",
       "        6.99983994e+01, -3.52066487e-01,  7.60328431e+01,  1.30182495e+02,\n",
       "        2.81374500e+00,  2.00180206e+00,  1.13974775e+02,  1.46726901e+02,\n",
       "        6.05559223e+01,  5.80480397e-01,  1.82408449e+02,  4.68395426e+00,\n",
       "        1.51296134e+02,  3.22307236e+00,  5.65542642e-02,  1.01316550e+02,\n",
       "        2.49904981e+00,  5.23778965e+01,  1.55158070e-01,  2.93291230e+00,\n",
       "        2.92182906e+00,  3.48326686e-01,  1.14981009e+02,  2.52802773e+02,\n",
       "        1.70982858e+02,  2.15651563e+01,  1.27596574e+00,  2.37933855e+00,\n",
       "        1.56721556e+02,  2.12420656e+02,  1.54462664e+02,  9.84288543e-01,\n",
       "        5.39576656e+00,  1.52688110e+02,  5.01675235e+01,  1.89689174e-01,\n",
       "       -3.64908406e-01,  3.47096654e+01,  7.35810349e+01,  1.97590670e+02,\n",
       "        1.10624652e-01,  1.18141449e+02, -3.14077508e-01,  1.63934602e+00,\n",
       "       -1.94019544e-01,  1.71064876e+02,  4.53880145e+01,  5.51843790e+00,\n",
       "       -8.94411528e-01,  2.11164762e+02,  1.80205454e+01,  1.32021237e+02,\n",
       "        1.45106498e+02,  4.16336507e-02,  1.24147158e+02,  1.41238364e+00,\n",
       "       -9.57554416e-01,  1.77771775e+02, -3.33150368e-01,  1.51491420e+00,\n",
       "        1.53035890e+02,  7.36331267e+01,  6.42216204e-01,  1.61827635e+02,\n",
       "        5.00365810e+01, -7.42685908e-01, -6.44881187e-02,  1.03862460e+02])"
      ]
     },
     "execution_count": 56,
     "metadata": {},
     "output_type": "execute_result"
    }
   ],
   "source": [
    "B_dist_temp"
   ]
  },
  {
   "cell_type": "code",
   "execution_count": 57,
   "metadata": {},
   "outputs": [],
   "source": [
    "opt = tf.optimizers.Adam(1e-2)\n",
    "mdn_PQ = MDN_module()\n",
    "mdn_PQ.compile(loss=gnll_loss, optimizer=opt)\n",
    "withoutL=mdn_PQ.fit(x=np.concatenate([L.reshape(-1,1),A.reshape(-1,1)],axis=1), y=B_dist_temp.T,epochs=200,  batch_size=64,verbose=0)\n",
    "y_pred = mdn_PQ.predict(np.concatenate([L.reshape(-1,1),A.reshape(-1,1)],axis=1))\n"
   ]
  },
  {
   "cell_type": "code",
   "execution_count": 58,
   "metadata": {},
   "outputs": [
    {
     "data": {
      "text/plain": [
       "Text(0.5, 1.0, 'Permuted data with the added information L')"
      ]
     },
     "execution_count": 58,
     "metadata": {},
     "output_type": "execute_result"
    },
    {
     "data": {
      "image/png": "[encoded data removed]",
      "text/plain": [
       "<Figure size 432x288 with 1 Axes>"
      ]
     },
     "metadata": {
      "needs_background": "light"
     },
     "output_type": "display_data"
    }
   ],
   "source": [
    "plt.scatter(A,B_dist_temp)\n",
    "plt.scatter(A,y_pred[:,1])\n",
    "plt.xlabel(\"A\")\n",
    "plt.ylabel(\"B\")\n",
    "plt.title(\"Permuted data with the added information L\")"
   ]
  },
  {
   "cell_type": "code",
   "execution_count": 42,
   "metadata": {},
   "outputs": [
    {
     "data": {
      "text/plain": [
       "<matplotlib.collections.PathCollection at 0x7fd0d9d49d90>"
      ]
     },
     "execution_count": 42,
     "metadata": {},
     "output_type": "execute_result"
    },
    {
     "data": {
      "image/png": "[encoded data removed]",
      "text/plain": [
       "<Figure size 432x288 with 1 Axes>"
      ]
     },
     "metadata": {
      "needs_background": "light"
     },
     "output_type": "display_data"
    }
   ],
   "source": [
    "plt.scatter(A,B)"
   ]
  },
  {
   "cell_type": "code",
   "execution_count": 36,
   "metadata": {},
   "outputs": [
    {
     "data": {
      "text/plain": [
       "<matplotlib.collections.PathCollection at 0x7f1a75f91910>"
      ]
     },
     "execution_count": 36,
     "metadata": {},
     "output_type": "execute_result"
    },
    {
     "data": {
      "image/png": "[encoded data removed]",
      "text/plain": [
       "<Figure size 432x288 with 1 Axes>"
      ]
     },
     "metadata": {
      "needs_background": "light"
     },
     "output_type": "display_data"
    }
   ],
   "source": [
    "plt.scatter(L,B_dist_temp)"
   ]
  },
  {
   "cell_type": "code",
   "execution_count": 74,
   "metadata": {},
   "outputs": [
    {
     "data": {
      "text/plain": [
       "array([ 0.16635783,  0.2186405 ,  0.18518928,  0.10589456,  0.17865732,\n",
       "       -0.35579273, -0.04156049,  0.12228131, -0.09812831,  0.09319367,\n",
       "        0.3773023 , -0.16365555, -0.16234308, -0.16900453,  0.12274399,\n",
       "       -0.15720737, -0.28126025, -0.16225696, -0.17248657,  0.32775828,\n",
       "       -0.15370303,  0.16625354, -0.1993328 ,  0.17074063, -0.00772212,\n",
       "        0.49461097,  0.11442166, -0.15977705, -0.22537157,  0.41071504,\n",
       "       -0.16241938,  0.44264197,  0.17576036,  0.05727377, -0.3367372 ,\n",
       "       -0.17105737,  0.29478714,  0.17676872,  0.16581364,  0.09946011,\n",
       "        0.145416  ,  0.17023754, -0.16416475,  0.17091137,  0.10237812,\n",
       "       -0.16080457,  0.21831697,  0.10226455,  0.0290572 ,  0.1795223 ,\n",
       "       -0.22151831,  0.17676303, -0.17321783,  0.19708046,  0.11806276,\n",
       "        0.28889436, -0.12351852, -0.22434738, -0.0246013 ,  0.19793275,\n",
       "       -0.36712444,  0.45668212, -0.1871123 , -0.10708769,  0.06748994,\n",
       "        0.12040724,  0.37059048, -0.3023749 ,  0.18500692,  0.16625628,\n",
       "        0.16630916, -0.16586885,  0.12094043,  0.00806422,  0.3963628 ,\n",
       "        0.16720653,  0.20720819, -0.10066818, -0.17665333,  0.17056426,\n",
       "        0.09013737, -0.16879201, -0.25340688,  0.35688138,  0.21668187,\n",
       "        0.18099979,  0.16710514,  0.04676052,  0.17885557, -0.17377889,\n",
       "       -0.20651445,  0.39945295,  0.23212   ,  0.21707422,  0.08930147,\n",
       "        0.29559553,  0.16647884, -0.29609543, -0.20686388,  0.50512546,\n",
       "        0.24881744, -0.230553  , -0.16782397,  0.16644472,  0.10697801,\n",
       "        0.21288654,  0.4255737 ,  0.11652944, -0.08142629, -0.07109287,\n",
       "        0.1795454 , -0.04543888,  0.11923058,  0.3398766 ,  0.12007868,\n",
       "       -0.21770209, -0.16611165,  0.12134285,  0.1485709 , -0.17327535,\n",
       "       -0.16025352, -0.1735521 , -0.16547233,  0.10076749, -0.19766241,\n",
       "        0.20102996, -0.3732454 , -0.15594989,  0.41642094, -0.21528777,\n",
       "       -0.08894219,  0.17012373, -0.17538664,  0.19663319,  0.08443938,\n",
       "       -0.21024844,  0.19001931, -0.09166082,  0.11383886,  0.2161887 ,\n",
       "       -0.06785164,  0.25418678, -0.1901454 , -0.16579509, -0.16963688,\n",
       "        0.17784232,  0.21132699, -0.15619329,  0.05371962, -0.07339796,\n",
       "       -0.17160079,  0.74830776,  0.1669058 ,  0.18396509,  0.17252761,\n",
       "        0.14233863,  0.48047006,  0.1831851 ,  0.17991313, -0.15010622,\n",
       "       -0.16594002, -0.19158262,  0.35198146,  0.45449612, -0.32715923,\n",
       "       -0.16871303, -0.0205797 , -0.15747717, -0.10656879,  0.1779105 ,\n",
       "       -0.17399424,  0.19960105, -0.04367755,  0.18192229,  0.45890978,\n",
       "        0.17331672,  0.09971423,  0.05080841, -0.00674065,  0.16630009,\n",
       "        0.4822399 ,  0.4763559 ,  0.4169761 , -0.1940524 , -0.17330766,\n",
       "       -0.15057135,  0.49767143,  0.45003676,  0.16895151,  0.45172837,\n",
       "        0.10438093,  0.17487797,  0.1733172 , -0.16672671,  0.18438226,\n",
       "       -0.16192573, -0.16654834,  0.07471115, -0.23388577,  0.07669224,\n",
       "       -0.16634017,  0.36859533, -0.17030528,  0.17323196,  0.09511352,\n",
       "        0.18259019, -0.16453639,  0.3235303 ,  0.18876848, -0.17335492,\n",
       "        0.03936576,  0.17972064,  0.50482905,  0.18608773,  0.18054035,\n",
       "        0.19185722,  0.16644575,  0.18562919, -0.10270036, -0.13336325,\n",
       "       -0.2108027 ,  0.60937315,  0.16860107,  0.1727502 , -0.18684587,\n",
       "        0.67594993, -0.01312033,  0.16650444, -0.2020419 , -0.15693846,\n",
       "       -0.14638406, -0.19977728, -0.22302765,  0.17301357, -0.16645077,\n",
       "       -0.17210773,  0.33947095, -0.16201055,  0.40424716,  0.6920564 ,\n",
       "        0.10667215,  0.16712713, -0.08775591,  0.23282376, -0.20132649,\n",
       "       -0.06908523, -0.13692778, -0.3348576 , -0.08778756, -0.08492457,\n",
       "        0.44268712, -0.19386414, -0.20904422,  0.03811859,  0.10895007,\n",
       "        0.1854944 ,  0.17229083, -0.17392886,  0.16664585, -0.17832622,\n",
       "       -0.19206014,  0.12035611,  0.6401482 ,  0.46161714, -0.30323216,\n",
       "        0.17314449,  0.33454153,  0.22521585, -0.14445874,  0.12130227,\n",
       "       -0.00577634,  0.21116918, -0.16809416,  0.38773653, -0.1689463 ,\n",
       "       -0.16566142,  0.11092608,  0.09300161,  0.17088974,  0.1709925 ,\n",
       "       -0.17490703,  0.28006768, -0.17554629, -0.1278696 ,  0.1808415 ,\n",
       "       -0.1268385 , -0.18470946, -0.21481806,  0.15331638,  0.42243204,\n",
       "       -0.16871575, -0.21409893,  0.35847154, -0.16165891,  0.23672545,\n",
       "       -0.16297534,  0.25920513,  0.17271298,  0.18453819,  0.7209788 ,\n",
       "       -0.16316485,  0.1705896 ,  0.18206376, -0.06339084,  0.17326757,\n",
       "        0.2152968 ,  0.18566144, -0.23309803,  0.1413563 ,  0.25142306,\n",
       "       -0.16121507,  0.15668884,  0.0497101 , -0.09787778,  0.21010849,\n",
       "        0.16664337,  0.16974816, -0.00911766, -0.36547112,  0.399278  ,\n",
       "        0.09052254,  0.16977635,  0.113806  , -0.16954717,  0.24888736,\n",
       "       -0.21097025,  0.07952452,  0.04140444, -0.16438776,  0.11481237,\n",
       "       -0.11051454,  0.16641736,  0.11918577,  0.11939193, -0.09446225,\n",
       "        0.16888121,  0.166328  ,  0.05046875,  0.3796771 ,  0.18078539,\n",
       "        0.09495532,  0.46537474,  0.09356618,  0.30488497,  0.12348538,\n",
       "        0.14934044,  0.10458091, -0.36282206,  0.10601151,  0.10705359,\n",
       "        0.16624507,  0.17641929,  0.17933235,  0.17346346,  0.10677443,\n",
       "       -0.06600096,  0.16666724,  0.16648942,  0.44680816,  0.18395665,\n",
       "        0.11645358,  0.18427002, -0.08663731, -0.20267183,  0.12428918,\n",
       "       -0.09998877, -0.19552493, -0.22049454,  0.05939601, -0.35026407,\n",
       "       -0.17486739, -0.1620917 ,  0.18585676,  0.17108583,  0.4076848 ,\n",
       "        0.17621908,  0.2018981 ,  0.11290315,  0.12141243, -0.17729187,\n",
       "        0.3793097 , -0.16651589,  0.10682102, -0.08266387, -0.34149876,\n",
       "        0.13328362,  0.12362445, -0.13857433,  0.6943866 ,  0.21505225,\n",
       "        0.16628116,  0.18700561,  0.12002773,  0.17623055,  0.00418384,\n",
       "        0.1068217 ,  0.17181584,  0.12555301,  0.27650255, -0.18641129,\n",
       "       -0.36605132,  0.16965994,  0.20451987, -0.16108918,  0.17216352,\n",
       "        0.17856643,  0.10594963,  0.18501589, -0.2796993 ,  0.01167983,\n",
       "        0.30337235,  0.11453838,  0.18064752,  0.36480862, -0.0270642 ,\n",
       "        0.1686984 ,  0.17360672, -0.1591562 ,  0.22308198,  0.322112  ,\n",
       "       -0.23285744, -0.16623774,  0.17817432,  0.12330448,  0.21828538,\n",
       "        0.04615092,  0.1708645 , -0.03513054,  0.08682662,  0.05507891,\n",
       "       -0.16761056,  0.13754109,  0.18205333,  0.4460361 , -0.21620598,\n",
       "       -0.15527892,  0.19791874, -0.14996445, -0.11664736,  0.07381554,\n",
       "        0.18448973,  0.12179529,  0.14440387, -0.25289488, -0.3132056 ,\n",
       "       -0.23124996,  0.39173615,  0.17312267,  0.10654128,  0.18122372,\n",
       "        0.06903693,  0.19771385,  0.16633555,  0.43650344, -0.21450493,\n",
       "       -0.31425434,  0.10346783, -0.17146984,  0.16648419,  0.39769936,\n",
       "       -0.08926549, -0.25168502, -0.11622801,  0.16989934,  0.06014424,\n",
       "       -0.17152265,  0.12213623, -0.12680167, -0.31935722, -0.3591367 ,\n",
       "       -0.1709773 ,  0.1663853 , -0.17634106,  0.10939223,  0.11527041,\n",
       "        0.18399066,  0.17806032, -0.12587014, -0.16301098, -0.16719261,\n",
       "        0.23633668,  0.18555692,  0.2352995 , -0.13346553, -0.2639697 ,\n",
       "        0.11380229,  0.18240735,  0.46258128, -0.16702238,  0.17041275,\n",
       "        0.33809388,  0.12044316,  0.0310886 , -0.17783856,  0.22124651,\n",
       "       -0.06552986,  0.40154415, -0.02535629,  0.16632992, -0.22108015,\n",
       "        0.2026012 ,  0.17539427,  0.12208029, -0.09032396, -0.13812247,\n",
       "        0.18281037,  0.16365075, -0.23781309,  0.09416695,  0.17505291,\n",
       "       -0.09574198, -0.10098352, -0.1750421 ,  0.16859204,  0.16650262,\n",
       "       -0.17588308, -0.33365434,  0.16792402, -0.01688559, -0.22685182,\n",
       "       -0.16805658,  0.27202463, -0.17446497, -0.17039156,  0.18174821,\n",
       "        0.4580835 ,  0.05105098,  0.18270907,  0.38079473,  0.18321145,\n",
       "       -0.16768855, -0.12664428,  0.30541962,  0.14274557,  0.11067233,\n",
       "       -0.13828158, -0.1788522 ,  0.3603283 , -0.15658289, -0.16083378,\n",
       "        0.13051437,  0.05052399,  0.26385325,  0.12129789, -0.33959633,\n",
       "        0.1663893 , -0.2699147 ,  0.14256775,  0.28516605,  0.1670402 ,\n",
       "        0.09191881,  0.20766899, -0.09628213,  0.4502724 ,  0.12336992,\n",
       "       -0.16580483, -0.17641121,  0.16633579,  0.11899003,  0.17607895,\n",
       "        0.04872187,  0.12699994,  0.35294876, -0.34562087,  0.26454902,\n",
       "       -0.17400262,  0.06554573,  0.17774346,  0.16637576,  0.24791363,\n",
       "        0.16645914, -0.37360895,  0.10820561,  0.16640139, -0.20800644,\n",
       "        0.36418724,  0.27742553, -0.16488037,  0.17627168,  0.461317  ,\n",
       "        0.17206982,  0.2058329 ,  0.21982992,  0.22315323,  0.27278498,\n",
       "       -0.16944066, -0.06430902,  0.11270916, -0.17665675, -0.02705862,\n",
       "        0.40640205, -0.17371821,  0.5366312 ,  0.19510972,  0.16634917,\n",
       "        0.14487052,  0.18195087,  0.10501718,  0.6836708 , -0.15724683,\n",
       "        0.11657745,  0.19012576,  0.10282409, -0.1661621 ,  0.4680977 ,\n",
       "        0.12046254,  0.31427786,  0.1954973 ,  0.09872269, -0.17476222,\n",
       "        0.33815786, -0.16931644, -0.2459107 ,  0.22114384,  0.08236232,\n",
       "       -0.16777852, -0.16347766, -0.09798747,  0.15649468,  0.43104547,\n",
       "        0.17292053, -0.17723173,  0.41531798, -0.13622555,  0.18602955,\n",
       "       -0.15676492,  0.16664436,  0.0363968 ,  0.40985382, -0.04985237,\n",
       "       -0.20119333, -0.09863002, -0.02246404,  0.09395313,  0.47142175,\n",
       "       -0.17586672,  0.11819831, -0.03531189, -0.04752014,  0.09754539,\n",
       "       -0.17602557,  0.08552111, -0.1241987 , -0.2761276 , -0.30163822,\n",
       "        0.35591227, -0.13559562,  0.19305724, -0.17469472,  0.1217582 ,\n",
       "        0.17893645,  0.14380527,  0.13608807,  0.389201  ,  0.05182842,\n",
       "        0.18250695, -0.16942358, -0.16947111,  0.07112262, -0.23031643,\n",
       "        0.1201643 ,  0.18123445,  0.02715816,  0.16776726,  0.33212793,\n",
       "        0.43476504,  0.18009678,  0.12049127,  0.5700867 ,  0.43431702,\n",
       "       -0.1605989 ,  0.25262806, -0.16944724, -0.14662284, -0.205432  ,\n",
       "        0.50769013,  0.17024654, -0.08494165,  0.16630787,  0.16747054,\n",
       "        0.25158527, -0.16402715,  0.17279801,  0.21301234, -0.09371588,\n",
       "        0.17008737, -0.17503792,  0.16647726, -0.16934237, -0.17538992,\n",
       "       -0.01580042, -0.04365288,  0.15910295,  0.1663824 ,  0.04905049,\n",
       "        0.18107474,  0.43295664,  0.16637373,  0.07914356,  0.42078832,\n",
       "        0.1199877 ,  0.3594442 ,  0.22008362,  0.03590899,  0.00615576,\n",
       "        0.12019419,  0.11627264, -0.35714078, -0.08115492,  0.33703023,\n",
       "        0.49794695,  0.11696414,  0.11669075,  0.12084021,  0.20808339,\n",
       "        0.42349333, -0.10447481, -0.17822179,  0.10982718,  0.17701346,\n",
       "       -0.29748327, -0.16064826, -0.14319286, -0.01081754,  0.19821438,\n",
       "        0.17339039,  0.13491464,  0.1933105 ,  0.16818875, -0.2514089 ,\n",
       "       -0.03603096,  0.18153328,  0.18030468,  0.10736591,  0.18708098,\n",
       "        0.17366174,  0.16955772, -0.00437963, -0.1638037 , -0.20877734,\n",
       "        0.16642174, -0.15493831, -0.09684964,  0.17287356,  0.12235658,\n",
       "        0.05319267, -0.13158005,  0.41761672, -0.15632075,  0.21445465,\n",
       "       -0.16498098,  0.1663294 , -0.17459074,  0.34312487, -0.22282755,\n",
       "       -0.32341427,  0.23320559,  0.17915854,  0.2114456 , -0.16152549,\n",
       "        0.43403193,  0.57073843, -0.3314707 ,  0.06646697,  0.17081296,\n",
       "        0.16690838,  0.48545146, -0.37066707,  0.10628019,  0.18431327,\n",
       "        0.18490314, -0.08561958,  0.18117425,  0.10712197, -0.15281126,\n",
       "        0.26127708,  0.11871076,  0.1890752 , -0.16339469,  0.11620898,\n",
       "        0.2849537 ,  0.11870467,  0.16819286,  0.18443584,  0.11734559,\n",
       "       -0.0482213 , -0.13328952, -0.16302434,  0.17699832, -0.17664099,\n",
       "        0.4837921 ,  0.33607894, -0.05231608, -0.16391873,  0.12651017,\n",
       "        0.17845139, -0.04164876,  0.0233305 ,  0.50187343, -0.1625413 ,\n",
       "       -0.08068523,  0.11900159, -0.25325438,  0.17321974,  0.40467775,\n",
       "       -0.17295992, -0.16985849, -0.15342584,  0.27716395, -0.14299017,\n",
       "        0.6020941 ,  0.37597537, -0.18410453, -0.17111906,  0.1138378 ,\n",
       "        0.11122529,  0.16808426,  0.10821264, -0.06061766,  0.24559867,\n",
       "        0.2547314 , -0.15189755,  0.5522559 ,  0.34197104, -0.00194985,\n",
       "        0.42560512,  0.15217538,  0.33815858,  0.41069782,  0.1855143 ,\n",
       "        0.30047902, -0.29560077,  0.41058284, -0.33864278, -0.21426654,\n",
       "        0.47321808,  0.2625557 ,  0.4332017 ,  0.15943202,  0.36400205,\n",
       "       -0.16716275, -0.17750204,  0.18368658,  0.00388975, -0.09910201,\n",
       "        0.24715665,  0.1664402 , -0.28686142,  0.182091  ,  0.21537998,\n",
       "        0.10918546,  0.12187777,  0.39998293,  0.0938013 , -0.07336424,\n",
       "        0.17902562, -0.22912008,  0.18083045,  0.11038707,  0.44182622,\n",
       "       -0.16420013,  0.20306227,  0.47419232, -0.09154596,  0.75403225,\n",
       "        0.10122088, -0.07073537,  0.16661738,  0.22273752, -0.24951637,\n",
       "        0.1749812 , -0.03407237, -0.32984278, -0.02156151,  0.05375001,\n",
       "       -0.16987503,  0.50616854,  0.3264435 ,  0.4818157 ,  0.12167554,\n",
       "        0.11137987,  0.06564479, -0.14708626,  0.48360422,  0.16652963,\n",
       "        0.10798604,  0.11547635,  0.2238195 , -0.1059423 , -0.29176235,\n",
       "       -0.15612361, -0.16129664,  0.19439563, -0.06081352, -0.17283341,\n",
       "       -0.21386203,  0.3958302 ,  0.42614993,  0.10201409,  0.46661478,\n",
       "        0.2555688 ,  0.29113215,  0.4405054 ,  0.05848405,  0.50414515,\n",
       "        0.18063688, -0.08928051, -0.23729369, -0.10802957, -0.1763069 ,\n",
       "        0.11484408,  0.10356673, -0.16634363,  0.4525273 ,  0.10622756,\n",
       "       -0.23706764, -0.30497217,  0.76613927, -0.16302547, -0.09619188,\n",
       "        0.27669805,  0.10982475,  0.11987494, -0.17229187,  0.1255225 ,\n",
       "        0.11928777,  0.1781222 ,  0.2763856 ,  0.26545125,  0.16640829,\n",
       "       -0.12884104,  0.13754444,  0.26322955,  0.3321108 ,  0.00823162,\n",
       "       -0.17181382,  0.10831333,  0.24256825,  0.12348548,  0.33780435,\n",
       "        0.16628677,  0.14071627, -0.16959587,  0.17238459,  0.2797653 ,\n",
       "       -0.1628801 ,  0.12654382,  0.06166213, -0.17059433,  0.14122674,\n",
       "        0.10887244,  0.38938665,  0.19289955,  0.46221372,  0.20816052,\n",
       "        0.19711402, -0.253075  ,  0.18074468,  0.18430367,  0.11046374,\n",
       "        0.11813964, -0.17040882, -0.06032399,  0.17425218,  0.11590245,\n",
       "        0.4811594 ,  0.43039167,  0.12159727,  0.39950177,  0.16643748,\n",
       "        0.16627726,  0.16862732, -0.00859318,  0.17599875, -0.13370544,\n",
       "       -0.14820683,  0.17884612, -0.11115523,  0.69629663,  0.16644987,\n",
       "        0.17656901, -0.12871093, -0.06141898,  0.21988475,  0.11944941,\n",
       "        0.11728775,  0.18010163, -0.05583983, -0.16174603,  0.18006507,\n",
       "        0.10151838,  0.44816333,  0.4880289 ,  0.15132792,  0.26963294,\n",
       "        0.0717895 ,  0.17908967, -0.17438969,  0.1054199 ,  0.47489667],\n",
       "      dtype=float32)"
      ]
     },
     "execution_count": 74,
     "metadata": {},
     "output_type": "execute_result"
    }
   ],
   "source": [
    "y_pred[:,1]"
   ]
  },
  {
   "cell_type": "code",
   "execution_count": 59,
   "metadata": {},
   "outputs": [],
   "source": [
    "opt = tf.optimizers.Adam(1e-2)\n",
    "mdn_PQ = MDN_module()\n",
    "mdn_PQ.compile(loss=gnll_loss, optimizer=opt)\n",
    "withoutL=mdn_PQ.fit(x=reshapevar(A), y=B_dist_temp.T,epochs=200,  batch_size=64,verbose=0)\n",
    "y_pred = mdn_PQ.predict(reshapevar(A))"
   ]
  },
  {
   "cell_type": "code",
   "execution_count": 60,
   "metadata": {},
   "outputs": [
    {
     "data": {
      "text/plain": [
       "Text(0.5, 1.0, 'Permuted data without the added information')"
      ]
     },
     "execution_count": 60,
     "metadata": {},
     "output_type": "execute_result"
    },
    {
     "data": {
      "image/png": "[encoded data removed]",
      "text/plain": [
       "<Figure size 432x288 with 1 Axes>"
      ]
     },
     "metadata": {
      "needs_background": "light"
     },
     "output_type": "display_data"
    }
   ],
   "source": [
    "plt.scatter(A,B_dist_temp)\n",
    "plt.scatter(A,y_pred[:,1])\n",
    "plt.xlabel(\"A\")\n",
    "plt.ylabel(\"B\")\n",
    "plt.title(\"Permuted data without the added information\")"
   ]
  },
  {
   "cell_type": "code",
   "execution_count": 50,
   "metadata": {},
   "outputs": [],
   "source": [
    "L = np.random.binomial(1,0.5,1000)  \n",
    "#eps0 = np.random.standard_normal(1000)\n",
    "#eps1 = np.random.standard_normal(1000)\n",
    "eps0 = np.random.normal(-2,0.5,1000)\n",
    "eps1 = np.random.normal(-5,0.5,1000)\n",
    "A=9*L - eps0\n",
    "B=8*np.sin(A)+eps1"
   ]
  },
  {
   "cell_type": "code",
   "execution_count": 51,
   "metadata": {},
   "outputs": [],
   "source": [
    "indices_1 = [i for i, x in enumerate(L) if x == 1]\n",
    "indices_0 = [i for i, x in enumerate(L) if x == 0]"
   ]
  },
  {
   "cell_type": "code",
   "execution_count": 52,
   "metadata": {},
   "outputs": [
    {
     "data": {
      "text/plain": [
       "Text(0, 0.5, 'A')"
      ]
     },
     "execution_count": 52,
     "metadata": {},
     "output_type": "execute_result"
    },
    {
     "data": {
      "image/png": "[encoded data removed]",
      "text/plain": [
       "<Figure size 432x288 with 1 Axes>"
      ]
     },
     "metadata": {
      "needs_background": "light"
     },
     "output_type": "display_data"
    }
   ],
   "source": [
    "plt.scatter(L,A)\n",
    "plt.title(\"L vs A\")\n",
    "plt.xlabel(\"L\")\n",
    "plt.ylabel(\"A\")"
   ]
  },
  {
   "cell_type": "code",
   "execution_count": 53,
   "metadata": {},
   "outputs": [
    {
     "data": {
      "text/plain": [
       "Text(0, 0.5, 'B')"
      ]
     },
     "execution_count": 53,
     "metadata": {},
     "output_type": "execute_result"
    },
    {
     "data": {
      "image/png": "[encoded data removed]",
      "text/plain": [
       "<Figure size 432x288 with 1 Axes>"
      ]
     },
     "metadata": {
      "needs_background": "light"
     },
     "output_type": "display_data"
    }
   ],
   "source": [
    "plt.scatter(L,B)\n",
    "plt.title(\"L vs B\")\n",
    "plt.xlabel(\"L\")\n",
    "plt.ylabel(\"B\")"
   ]
  },
  {
   "cell_type": "code",
   "execution_count": 54,
   "metadata": {},
   "outputs": [
    {
     "data": {
      "text/plain": [
       "<matplotlib.legend.Legend at 0x7fadae6f77f0>"
      ]
     },
     "execution_count": 54,
     "metadata": {},
     "output_type": "execute_result"
    },
    {
     "data": {
      "image/png": "[encoded data removed]",
      "text/plain": [
       "<Figure size 432x288 with 1 Axes>"
      ]
     },
     "metadata": {
      "needs_background": "light"
     },
     "output_type": "display_data"
    }
   ],
   "source": [
    "plt.scatter(A[indices_1],B[indices_1],label=\"L=1\")\n",
    "plt.scatter(A[indices_0],B[indices_0],label=\"L=0\")\n",
    "plt.title(\"A vs B\")\n",
    "plt.xlabel(\"A\")\n",
    "plt.ylabel(\"B\")\n",
    "plt.legend()"
   ]
  },
  {
   "cell_type": "code",
   "execution_count": 55,
   "metadata": {},
   "outputs": [
    {
     "data": {
      "text/plain": [
       "Text(0, 0.5, 'B')"
      ]
     },
     "execution_count": 55,
     "metadata": {},
     "output_type": "execute_result"
    },
    {
     "data": {
      "image/png": "[encoded data removed]",
      "text/plain": [
       "<Figure size 432x288 with 1 Axes>"
      ]
     },
     "metadata": {
      "needs_background": "light"
     },
     "output_type": "display_data"
    }
   ],
   "source": [
    "plt.scatter(A,B)\n",
    "plt.title(\"Simulated data\")\n",
    "plt.xlabel(\"A\")\n",
    "plt.ylabel(\"B\")"
   ]
  },
  {
   "cell_type": "code",
   "execution_count": 151,
   "metadata": {},
   "outputs": [
    {
     "data": {
      "text/plain": [
       "'0.07270086408772637'"
      ]
     },
     "execution_count": 151,
     "metadata": {},
     "output_type": "execute_result"
    }
   ],
   "source": [
    "str(pearsonr(A,B)[0])"
   ]
  },
  {
   "cell_type": "code",
   "execution_count": 57,
   "metadata": {},
   "outputs": [],
   "source": [
    "f = open(\"testing_writingvalues_debugSine.txt\", \"w\")\n",
    "f.write(str(9)+\" \"+ str(8))\n",
    "f.write(\"\\n\")\n",
    "np.savetxt(f,L,newline=' ',fmt='%s')\n",
    "f.write(\"\\n\")\n",
    "np.savetxt(f,A,newline=' ',fmt='%s')\n",
    "f.write(\"\\n\")\n",
    "np.savetxt(f,B,newline=' ',fmt='%s')\n",
    "f.write(\"\\n\")\n",
    "f.close()\n"
   ]
  }
 ],
 "metadata": {
  "colab": {
   "collapsed_sections": [],
   "name": "CITNonLinear.ipynb",
   "provenance": []
  },
  "kernelspec": {
   "display_name": "Python 3 (ipykernel)",
   "language": "python",
   "name": "python3"
  },
  "language_info": {
   "codemirror_mode": {
    "name": "ipython",
    "version": 3
   },
   "file_extension": ".py",
   "mimetype": "text/x-python",
   "name": "python",
   "nbconvert_exporter": "python",
   "pygments_lexer": "ipython3",
   "version": "3.9.7"
  }
 },
 "nbformat": 4,
 "nbformat_minor": 1
}
