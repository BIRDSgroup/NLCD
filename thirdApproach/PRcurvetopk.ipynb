{
 "cells": [
  {
   "cell_type": "code",
   "execution_count": 191,
   "id": "03ba8dd8",
   "metadata": {},
   "outputs": [],
   "source": [
    "import pandas as pd\n",
    "import numpy \n",
    "from sklearn import metrics \n",
    "import matplotlib.pyplot as plt \n",
    "import numpy as np\n",
    "import pickle\n",
    "from matplotlib.pyplot import figure"
   ]
  },
  {
   "cell_type": "code",
   "execution_count": 98,
   "id": "41e85b29",
   "metadata": {},
   "outputs": [],
   "source": [
    "import warnings\n",
    "warnings.filterwarnings(\"ignore\")"
   ]
  },
  {
   "cell_type": "code",
   "execution_count": 160,
   "id": "d162b1ef",
   "metadata": {},
   "outputs": [],
   "source": [
    "cit=pd.read_csv(\"YeastbothresultsCIT10k.csv\")"
   ]
  },
  {
   "cell_type": "code",
   "execution_count": 161,
   "id": "da8d5bfa",
   "metadata": {},
   "outputs": [],
   "source": [
    "nlmr=pd.read_csv(\"YeastbothresultsOurmethod10k.csv\")"
   ]
  },
  {
   "cell_type": "code",
   "execution_count": 162,
   "id": "cc7b4760",
   "metadata": {},
   "outputs": [],
   "source": [
    "cit=cit.sort_values('p_cit')"
   ]
  },
  {
   "cell_type": "code",
   "execution_count": 163,
   "id": "2531f742",
   "metadata": {},
   "outputs": [],
   "source": [
    "nlmr=nlmr.sort_values('p_cit')"
   ]
  },
  {
   "cell_type": "code",
   "execution_count": 164,
   "id": "96a1c620",
   "metadata": {},
   "outputs": [
    {
     "data": {
      "text/html": [
       "<div>\n",
       "<style scoped>\n",
       "    .dataframe tbody tr th:only-of-type {\n",
       "        vertical-align: middle;\n",
       "    }\n",
       "\n",
       "    .dataframe tbody tr th {\n",
       "        vertical-align: top;\n",
       "    }\n",
       "\n",
       "    .dataframe thead th {\n",
       "        text-align: right;\n",
       "    }\n",
       "</style>\n",
       "<table border=\"1\" class=\"dataframe\">\n",
       "  <thead>\n",
       "    <tr style=\"text-align: right;\">\n",
       "      <th></th>\n",
       "      <th>p_cit</th>\n",
       "      <th>p_LA</th>\n",
       "      <th>p_LB</th>\n",
       "      <th>diff_test</th>\n",
       "      <th>GroundTruth</th>\n",
       "    </tr>\n",
       "  </thead>\n",
       "  <tbody>\n",
       "    <tr>\n",
       "      <th>5925</th>\n",
       "      <td>0.0</td>\n",
       "      <td>0.0</td>\n",
       "      <td>0.00</td>\n",
       "      <td>0.0</td>\n",
       "      <td>1</td>\n",
       "    </tr>\n",
       "    <tr>\n",
       "      <th>3508</th>\n",
       "      <td>0.0</td>\n",
       "      <td>0.0</td>\n",
       "      <td>0.00</td>\n",
       "      <td>0.0</td>\n",
       "      <td>1</td>\n",
       "    </tr>\n",
       "    <tr>\n",
       "      <th>14152</th>\n",
       "      <td>0.0</td>\n",
       "      <td>0.0</td>\n",
       "      <td>0.00</td>\n",
       "      <td>0.0</td>\n",
       "      <td>0</td>\n",
       "    </tr>\n",
       "    <tr>\n",
       "      <th>6438</th>\n",
       "      <td>0.0</td>\n",
       "      <td>0.0</td>\n",
       "      <td>0.00</td>\n",
       "      <td>0.0</td>\n",
       "      <td>1</td>\n",
       "    </tr>\n",
       "    <tr>\n",
       "      <th>3284</th>\n",
       "      <td>0.0</td>\n",
       "      <td>0.0</td>\n",
       "      <td>0.00</td>\n",
       "      <td>0.0</td>\n",
       "      <td>1</td>\n",
       "    </tr>\n",
       "    <tr>\n",
       "      <th>...</th>\n",
       "      <td>...</td>\n",
       "      <td>...</td>\n",
       "      <td>...</td>\n",
       "      <td>...</td>\n",
       "      <td>...</td>\n",
       "    </tr>\n",
       "    <tr>\n",
       "      <th>2219</th>\n",
       "      <td>1.0</td>\n",
       "      <td>0.0</td>\n",
       "      <td>0.54</td>\n",
       "      <td>1.0</td>\n",
       "      <td>1</td>\n",
       "    </tr>\n",
       "    <tr>\n",
       "      <th>2218</th>\n",
       "      <td>1.0</td>\n",
       "      <td>0.0</td>\n",
       "      <td>0.74</td>\n",
       "      <td>1.0</td>\n",
       "      <td>1</td>\n",
       "    </tr>\n",
       "    <tr>\n",
       "      <th>2217</th>\n",
       "      <td>1.0</td>\n",
       "      <td>0.0</td>\n",
       "      <td>0.51</td>\n",
       "      <td>1.0</td>\n",
       "      <td>1</td>\n",
       "    </tr>\n",
       "    <tr>\n",
       "      <th>12454</th>\n",
       "      <td>1.0</td>\n",
       "      <td>0.0</td>\n",
       "      <td>0.65</td>\n",
       "      <td>1.0</td>\n",
       "      <td>0</td>\n",
       "    </tr>\n",
       "    <tr>\n",
       "      <th>11023</th>\n",
       "      <td>1.0</td>\n",
       "      <td>0.0</td>\n",
       "      <td>0.15</td>\n",
       "      <td>1.0</td>\n",
       "      <td>0</td>\n",
       "    </tr>\n",
       "  </tbody>\n",
       "</table>\n",
       "<p>20000 rows × 5 columns</p>\n",
       "</div>"
      ],
      "text/plain": [
       "       p_cit  p_LA  p_LB  diff_test  GroundTruth\n",
       "5925     0.0   0.0  0.00        0.0            1\n",
       "3508     0.0   0.0  0.00        0.0            1\n",
       "14152    0.0   0.0  0.00        0.0            0\n",
       "6438     0.0   0.0  0.00        0.0            1\n",
       "3284     0.0   0.0  0.00        0.0            1\n",
       "...      ...   ...   ...        ...          ...\n",
       "2219     1.0   0.0  0.54        1.0            1\n",
       "2218     1.0   0.0  0.74        1.0            1\n",
       "2217     1.0   0.0  0.51        1.0            1\n",
       "12454    1.0   0.0  0.65        1.0            0\n",
       "11023    1.0   0.0  0.15        1.0            0\n",
       "\n",
       "[20000 rows x 5 columns]"
      ]
     },
     "execution_count": 164,
     "metadata": {},
     "output_type": "execute_result"
    }
   ],
   "source": [
    "nlmr"
   ]
  },
  {
   "cell_type": "code",
   "execution_count": 147,
   "id": "271ffc78",
   "metadata": {},
   "outputs": [],
   "source": [
    "top200=nlmr.head(n=200)"
   ]
  },
  {
   "cell_type": "code",
   "execution_count": 38,
   "id": "c25b4bd8",
   "metadata": {},
   "outputs": [],
   "source": [
    "true_labels=top200['GroundTruth']\n",
    "pred_labels=top200['call']"
   ]
  },
  {
   "cell_type": "code",
   "execution_count": 34,
   "id": "38a201c7",
   "metadata": {},
   "outputs": [],
   "source": [
    "confusion_matrix=metrics.confusion_matrix(top200['GroundTruth'],top200['call'])"
   ]
  },
  {
   "cell_type": "code",
   "execution_count": 37,
   "id": "008bc79b",
   "metadata": {},
   "outputs": [
    {
     "data": {
      "image/png": "[encoded data removed]",
      "text/plain": [
       "<Figure size 432x288 with 2 Axes>"
      ]
     },
     "metadata": {
      "needs_background": "light"
     },
     "output_type": "display_data"
    }
   ],
   "source": [
    "cm_display = metrics.ConfusionMatrixDisplay(confusion_matrix = confusion_matrix, display_labels = [False, True])\n",
    "\n",
    "cm_display.plot()\n",
    "plt.show() "
   ]
  },
  {
   "cell_type": "code",
   "execution_count": 105,
   "id": "9e52dc12",
   "metadata": {},
   "outputs": [],
   "source": [
    "#taking the unique values of the final p values \n",
    "#uniquevalues=top200.p_cit.unique()"
   ]
  },
  {
   "cell_type": "code",
   "execution_count": 114,
   "id": "b9b41bdb",
   "metadata": {},
   "outputs": [],
   "source": [
    "def compute_table(df,cutoff_range):\n",
    "    dic={'cutoff':[],'TP':[],'TN':[],'FP':[],'FN':[],'Precision':[],'Recall':[]}\n",
    "\n",
    "    #cutoff_range=[0.01,0.05,0.10,0.2]\n",
    "    for cutoff in cutoff_range:\n",
    "        df['call']=df.apply (lambda row: 1 if row[0] <=cutoff   else 0, axis=1)\n",
    "        true_labels=df['GroundTruth']\n",
    "        pred_labels=df['call']\n",
    "\n",
    "        TP = np.sum(np.logical_and(pred_labels == 1, true_labels == 1))\n",
    "\n",
    "        # True Negative (TN): we predict a label of 0 (negative), and the true label is 0.\n",
    "        TN = np.sum(np.logical_and(pred_labels == 0, true_labels == 0))\n",
    "\n",
    "        # False Positive (FP): we predict a label of 1 (positive), but the true label is 0.\n",
    "        FP = np.sum(np.logical_and(pred_labels == 1, true_labels == 0))\n",
    "\n",
    "        # False Negative (FN): we predict a label of 0 (negative), but the true label is 1.\n",
    "        FN = np.sum(np.logical_and(pred_labels == 0, true_labels == 1))\n",
    "        \n",
    "        #Precision\n",
    "        P= TP/(TP+FP)\n",
    "        #Recall\n",
    "        R= TP/(TP+FN)\n",
    "        dic['cutoff'].append(cutoff)\n",
    "        dic['TP'].append(TP)\n",
    "        dic['TN'].append(TN)\n",
    "        dic['FP'].append(FP)\n",
    "        dic['FN'].append(FN)\n",
    "        dic['Precision'].append(P)\n",
    "        dic['Recall'].append(R)\n",
    "    a=pd.DataFrame(dic)\n",
    "    return a\n",
    "    "
   ]
  },
  {
   "cell_type": "code",
   "execution_count": 122,
   "id": "2ca6e461",
   "metadata": {},
   "outputs": [],
   "source": [
    "def calculate_aupr(precision,recall):\n",
    "    zipped=zip(precision,recall)\n",
    "    z=sorted(zipped, key = lambda t: t[1])\n",
    "    precision,recall=zip(*z)\n",
    "    return metrics.auc(recall,precision)"
   ]
  },
  {
   "cell_type": "code",
   "execution_count": 136,
   "id": "00097c89",
   "metadata": {},
   "outputs": [],
   "source": [
    "def computefortopk(data,k):\n",
    "    \n",
    "    topk=data.head(n= 20000*k)\n",
    "    uniquevalues=topk.p_cit.unique()\n",
    "    table=compute_table(topk,uniquevalues)\n",
    "    aupr=calculate_aupr(table['Precision'],table['Recall'])\n",
    "    return aupr"
   ]
  },
  {
   "cell_type": "code",
   "execution_count": 137,
   "id": "4efc74e9",
   "metadata": {},
   "outputs": [],
   "source": [
    "def computefortopk_range(data,values):\n",
    "    aupr_range=[]\n",
    "    for i in values:\n",
    "        aupr_range.append(computefortopk(data,i))\n",
    "    return aupr_range"
   ]
  },
  {
   "cell_type": "code",
   "execution_count": 198,
   "id": "8f3ac053",
   "metadata": {},
   "outputs": [],
   "source": [
    "top_k=[0.01,0.02,0.05,0.1,0.2,0.3,0.4,0.5,0.6,0.7,0.8,0.9,1]"
   ]
  },
  {
   "cell_type": "code",
   "execution_count": 199,
   "id": "293132f7",
   "metadata": {},
   "outputs": [],
   "source": [
    "aupr_nlmr=computefortopk_range(nlmr,top_k)"
   ]
  },
  {
   "cell_type": "code",
   "execution_count": 188,
   "id": "c189d9c0",
   "metadata": {},
   "outputs": [],
   "source": [
    "aupr_cit=computefortopk_range(cit,top_k)"
   ]
  },
  {
   "cell_type": "code",
   "execution_count": 192,
   "id": "c4401c0a",
   "metadata": {},
   "outputs": [],
   "source": [
    "with open('aupr_nlmr.pkl', 'wb') as file:\n",
    "      \n",
    "    pickle.dump(aupr_nlmr, file)\n",
    "file.close()"
   ]
  },
  {
   "cell_type": "code",
   "execution_count": 193,
   "id": "9a1c73c9",
   "metadata": {},
   "outputs": [],
   "source": [
    "with open('aupr_cit.pkl', 'wb') as file:\n",
    "      \n",
    "    pickle.dump(aupr_cit, file)\n",
    "file.close()"
   ]
  },
  {
   "cell_type": "code",
   "execution_count": 197,
   "id": "23f13ed1",
   "metadata": {},
   "outputs": [
    {
     "data": {
      "image/png": "[encoded data removed]",
      "text/plain": [
       "<Figure size 800x480 with 1 Axes>"
      ]
     },
     "metadata": {
      "needs_background": "light"
     },
     "output_type": "display_data"
    }
   ],
   "source": [
    "figure(figsize=(10, 6), dpi=80)\n",
    "plt.plot([i*100 for i in top_k],aupr_nlmr,marker='o',label=\"NLMR\")\n",
    "\n",
    "plt.plot([i*100 for i in top_k],aupr_cit,marker='x',label=\"CIT\")#plt.plot(aupr_cit,top_k)\n",
    "plt.xlabel(\"top k % predictions\")\n",
    "plt.ylabel(\"AUPR\")\n",
    "#plt.xticks([i*100 for i in top_k],rotation=90)\n",
    "plt.legend()\n",
    "plt.show()"
   ]
  }
 ],
 "metadata": {
  "kernelspec": {
   "display_name": "Python 3 (ipykernel)",
   "language": "python",
   "name": "python3"
  },
  "language_info": {
   "codemirror_mode": {
    "name": "ipython",
    "version": 3
   },
   "file_extension": ".py",
   "mimetype": "text/x-python",
   "name": "python",
   "nbconvert_exporter": "python",
   "pygments_lexer": "ipython3",
   "version": "3.9.7"
  }
 },
 "nbformat": 4,
 "nbformat_minor": 5
}
