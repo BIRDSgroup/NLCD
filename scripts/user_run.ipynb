{
 "cells": [
  {
   "cell_type": "code",
   "execution_count": 1,
   "metadata": {},
   "outputs": [],
   "source": [
    "from nlcd_user import *\n",
    "from matplotlib import pyplot as plt "
   ]
  },
  {
   "cell_type": "code",
   "execution_count": 2,
   "metadata": {},
   "outputs": [],
   "source": [
    "#Example data for nlcd_single function which takes only one trio \n",
    "L=np.random.binomial(1,0.5,300)\n",
    "A=0.9*L+np.random.normal(0,1,300)\n",
    "B=0.1*A+np.random.normal(0,1,300)"
   ]
  },
  {
   "cell_type": "code",
   "execution_count": 3,
   "metadata": {},
   "outputs": [
    {
     "name": "stdout",
     "output_type": "stream",
     "text": [
      "The final p value is  0.7709163346613546\n",
      "Test 1 L assoc B  0.7709163346613546\n",
      "Test 2 L assoc A | B  0.00199203187250996\n",
      "Test 3 A assoc B | L  0.4362549800796813\n",
      "Test 4 L ind B | A  0.1553784860557769\n",
      "Overlap score from Test 4  0.2957647785860183\n",
      "Seed set at  5792471327519816668\n"
     ]
    },
    {
     "data": {
      "text/plain": [
       "[0.7709163346613546,\n",
       " 0.7709163346613546,\n",
       " 0.00199203187250996,\n",
       " 0.4362549800796813,\n",
       " 0.1553784860557769,\n",
       " 0.2957647785860183,\n",
       " 5792471327519816668]"
      ]
     },
     "execution_count": 3,
     "metadata": {},
     "output_type": "execute_result"
    }
   ],
   "source": [
    "\n",
    "nlcd_single(L,A,B,shuffles=500,algo='KRR',verbose=True)"
   ]
  },
  {
   "cell_type": "code",
   "execution_count": 5,
   "metadata": {},
   "outputs": [
    {
     "name": "stdout",
     "output_type": "stream",
     "text": [
      "The final p value is  0.9442231075697212\n",
      "Test 1 L assoc B  0.05776892430278884\n",
      "Test 2 L assoc A | B  0.00199203187250996\n",
      "Test 3 A assoc B | L  0.07768924302788845\n",
      "Test 4 L ind B | A  0.9442231075697212\n",
      "Overlap score from Test 4  0.35620869055341925\n",
      "Seed set at  8783266600977573384\n"
     ]
    },
    {
     "data": {
      "text/plain": [
       "[0.9442231075697212,\n",
       " 0.05776892430278884,\n",
       " 0.00199203187250996,\n",
       " 0.07768924302788845,\n",
       " 0.9442231075697212,\n",
       " 0.35620869055341925,\n",
       " 8783266600977573384]"
      ]
     },
     "execution_count": 5,
     "metadata": {},
     "output_type": "execute_result"
    }
   ],
   "source": [
    "#reproduce the result\n",
    "nlcd_single(L,A,B,shuffles=500,algo='KRR',sample_seed=8783266600977573384)"
   ]
  },
  {
   "cell_type": "code",
   "execution_count": 4,
   "metadata": {},
   "outputs": [],
   "source": [
    "#example data for nlcd_group function where you can feed in multiple trios and get a dataframe as result \n",
    "#here it contains two trios \n",
    "#one independent and the other causal \n",
    "data=[]\n",
    "for i in range(2):\n",
    "    L=np.random.binomial(1,0.5,1000)\n",
    "    A=0.1*L+np.random.normal(0,1,1000)\n",
    "    if(i==0):\n",
    "        B=0.5*L+np.random.normal(0,1,1000)\n",
    "    if(i==1):\n",
    "        B=0.5*A+np.random.normal(0,1,1000)\n",
    "    data.append([L,A,B])\n"
   ]
  },
  {
   "cell_type": "code",
   "execution_count": 7,
   "metadata": {},
   "outputs": [
    {
     "name": "stdout",
     "output_type": "stream",
     "text": [
      "Seed Set at  166204745337239184579129995817731200646\n",
      "Algo  KRR  shuffles  50  datasize =  1000  reverse  False\n",
      "start time:  1698340935.509228  end time:  1698340943.090117 Execution time: 7.580888986587524 seconds\n"
     ]
    }
   ],
   "source": [
    "result=nlcd_batch(data,shuffles=50,algo='KRR',reverse=False,usercall=True)"
   ]
  },
  {
   "cell_type": "code",
   "execution_count": 8,
   "metadata": {},
   "outputs": [
    {
     "data": {
      "text/html": [
       "<div>\n",
       "<style scoped>\n",
       "    .dataframe tbody tr th:only-of-type {\n",
       "        vertical-align: middle;\n",
       "    }\n",
       "\n",
       "    .dataframe tbody tr th {\n",
       "        vertical-align: top;\n",
       "    }\n",
       "\n",
       "    .dataframe thead th {\n",
       "        text-align: right;\n",
       "    }\n",
       "</style>\n",
       "<table border=\"1\" class=\"dataframe\">\n",
       "  <thead>\n",
       "    <tr style=\"text-align: right;\">\n",
       "      <th></th>\n",
       "      <th>p_final</th>\n",
       "      <th>p_LassocB</th>\n",
       "      <th>p_LassocA|B</th>\n",
       "      <th>p_AassocB|L</th>\n",
       "      <th>p_LindB|A</th>\n",
       "      <th>OS Test 4</th>\n",
       "      <th>child_seed</th>\n",
       "      <th>parent_seed</th>\n",
       "    </tr>\n",
       "  </thead>\n",
       "  <tbody>\n",
       "    <tr>\n",
       "      <th>0</th>\n",
       "      <td>0.326923</td>\n",
       "      <td>0.019231</td>\n",
       "      <td>0.019231</td>\n",
       "      <td>0.288462</td>\n",
       "      <td>0.326923</td>\n",
       "      <td>0.451328</td>\n",
       "      <td>5126881323377181946</td>\n",
       "      <td>166204745337239184579129995817731200646</td>\n",
       "    </tr>\n",
       "    <tr>\n",
       "      <th>1</th>\n",
       "      <td>0.730769</td>\n",
       "      <td>0.730769</td>\n",
       "      <td>0.307692</td>\n",
       "      <td>0.019231</td>\n",
       "      <td>0.173077</td>\n",
       "      <td>0.474816</td>\n",
       "      <td>4292054760285856783</td>\n",
       "      <td>same</td>\n",
       "    </tr>\n",
       "  </tbody>\n",
       "</table>\n",
       "</div>"
      ],
      "text/plain": [
       "    p_final p_LassocB p_LassocA|B p_AassocB|L p_LindB|A OS Test 4  \\\n",
       "0  0.326923  0.019231    0.019231    0.288462  0.326923  0.451328   \n",
       "1  0.730769  0.730769    0.307692    0.019231  0.173077  0.474816   \n",
       "\n",
       "            child_seed                              parent_seed  \n",
       "0  5126881323377181946  166204745337239184579129995817731200646  \n",
       "1  4292054760285856783                                     same  "
      ]
     },
     "execution_count": 8,
     "metadata": {},
     "output_type": "execute_result"
    }
   ],
   "source": [
    "result"
   ]
  },
  {
   "cell_type": "code",
   "execution_count": 11,
   "metadata": {},
   "outputs": [
    {
     "name": "stdout",
     "output_type": "stream",
     "text": [
      "Seed Set at  166204745337239184579129995817731200646\n",
      "Algo  KRR  shuffles  50  datasize =  1000  reverse  False\n",
      "start time:  1698340983.6680045  end time:  1698340991.3322752 Execution time: 7.664270639419556 seconds\n"
     ]
    }
   ],
   "source": [
    "result=nlcd_batch(data,shuffles=50,algo='KRR',sample_seed=166204745337239184579129995817731200646,usercall=True)"
   ]
  },
  {
   "cell_type": "code",
   "execution_count": 12,
   "metadata": {},
   "outputs": [
    {
     "data": {
      "text/html": [
       "<div>\n",
       "<style scoped>\n",
       "    .dataframe tbody tr th:only-of-type {\n",
       "        vertical-align: middle;\n",
       "    }\n",
       "\n",
       "    .dataframe tbody tr th {\n",
       "        vertical-align: top;\n",
       "    }\n",
       "\n",
       "    .dataframe thead th {\n",
       "        text-align: right;\n",
       "    }\n",
       "</style>\n",
       "<table border=\"1\" class=\"dataframe\">\n",
       "  <thead>\n",
       "    <tr style=\"text-align: right;\">\n",
       "      <th></th>\n",
       "      <th>p_final</th>\n",
       "      <th>p_LassocB</th>\n",
       "      <th>p_LassocA|B</th>\n",
       "      <th>p_AassocB|L</th>\n",
       "      <th>p_LindB|A</th>\n",
       "      <th>OS Test 4</th>\n",
       "      <th>child_seed</th>\n",
       "      <th>parent_seed</th>\n",
       "    </tr>\n",
       "  </thead>\n",
       "  <tbody>\n",
       "    <tr>\n",
       "      <th>0</th>\n",
       "      <td>0.326923</td>\n",
       "      <td>0.019231</td>\n",
       "      <td>0.019231</td>\n",
       "      <td>0.288462</td>\n",
       "      <td>0.326923</td>\n",
       "      <td>0.451328</td>\n",
       "      <td>5126881323377181946</td>\n",
       "      <td>166204745337239184579129995817731200646</td>\n",
       "    </tr>\n",
       "    <tr>\n",
       "      <th>1</th>\n",
       "      <td>0.730769</td>\n",
       "      <td>0.730769</td>\n",
       "      <td>0.307692</td>\n",
       "      <td>0.019231</td>\n",
       "      <td>0.173077</td>\n",
       "      <td>0.474816</td>\n",
       "      <td>4292054760285856783</td>\n",
       "      <td>same</td>\n",
       "    </tr>\n",
       "  </tbody>\n",
       "</table>\n",
       "</div>"
      ],
      "text/plain": [
       "    p_final p_LassocB p_LassocA|B p_AassocB|L p_LindB|A OS Test 4  \\\n",
       "0  0.326923  0.019231    0.019231    0.288462  0.326923  0.451328   \n",
       "1  0.730769  0.730769    0.307692    0.019231  0.173077  0.474816   \n",
       "\n",
       "            child_seed                              parent_seed  \n",
       "0  5126881323377181946  166204745337239184579129995817731200646  \n",
       "1  4292054760285856783                                     same  "
      ]
     },
     "execution_count": 12,
     "metadata": {},
     "output_type": "execute_result"
    }
   ],
   "source": [
    "result "
   ]
  },
  {
   "cell_type": "code",
   "execution_count": 13,
   "metadata": {},
   "outputs": [
    {
     "name": "stdout",
     "output_type": "stream",
     "text": [
      "The final p value is  0.3269230769230769\n",
      "Test 1 L assoc B  0.019230769230769232\n",
      "Test 2 L assoc A | B  0.019230769230769232\n",
      "Test 3 A assoc B | L  0.28846153846153844\n",
      "Test 4 L ind B | A  0.3269230769230769\n",
      "Overlap score from Test 4  0.4513277117313064\n",
      "Seed set at  5126881323377181946\n"
     ]
    },
    {
     "data": {
      "text/plain": [
       "[0.3269230769230769,\n",
       " 0.019230769230769232,\n",
       " 0.019230769230769232,\n",
       " 0.28846153846153844,\n",
       " 0.3269230769230769,\n",
       " 0.4513277117313064,\n",
       " 5126881323377181946]"
      ]
     },
     "execution_count": 13,
     "metadata": {},
     "output_type": "execute_result"
    }
   ],
   "source": [
    "#can reproduce a specific trio result by looking at the seed from the above\n",
    "#example see the seed against the row number 0 for data[0] \n",
    "nlcd_single(np.array(data[0][0]),np.array(data[0][1]),np.array(data[0][2]),shuffles=50,algo='KRR',sample_seed=5126881323377181946,verbose=True)"
   ]
  }
 ],
 "metadata": {
  "kernelspec": {
   "display_name": "base",
   "language": "python",
   "name": "python3"
  },
  "language_info": {
   "codemirror_mode": {
    "name": "ipython",
    "version": 3
   },
   "file_extension": ".py",
   "mimetype": "text/x-python",
   "name": "python",
   "nbconvert_exporter": "python",
   "pygments_lexer": "ipython3",
   "version": "3.7.3"
  },
  "orig_nbformat": 4
 },
 "nbformat": 4,
 "nbformat_minor": 2
}
