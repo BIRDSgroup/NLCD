{
 "cells": [
  {
   "cell_type": "code",
   "execution_count": null,
   "metadata": {},
   "outputs": [],
   "source": [
    "\n",
    "from nlcd_user import *"
   ]
  },
  {
   "cell_type": "code",
   "execution_count": 11,
   "metadata": {},
   "outputs": [],
   "source": [
    "#Example data for nlcd_single function which takes only one trio \n",
    "L=np.random.binomial(1,0.5,300)\n",
    "A=0.9*L+np.random.normal(0,1,300)\n",
    "B=0.1*A+np.random.normal(0,1,300)"
   ]
  },
  {
   "cell_type": "code",
   "execution_count": 12,
   "metadata": {},
   "outputs": [
    {
     "name": "stdout",
     "output_type": "stream",
     "text": [
      "The final p value is  0.4900398406374502\n",
      "Test 1 L assoc B  0.4342629482071713\n",
      "Test 2 L assoc A | B  0.00199203187250996\n",
      "Test 3 A assoc B | L  0.4900398406374502\n",
      "Test 4 L ind B | A  0.39243027888446214\n",
      "Overlap score from Test 4  0.289316475700653\n",
      "Seed set at  4134368910613559029\n"
     ]
    },
    {
     "data": {
      "text/plain": [
       "[0.4900398406374502,\n",
       " 0.4342629482071713,\n",
       " 0.00199203187250996,\n",
       " 0.4900398406374502,\n",
       " 0.39243027888446214,\n",
       " 0.289316475700653,\n",
       " 4134368910613559029]"
      ]
     },
     "execution_count": 12,
     "metadata": {},
     "output_type": "execute_result"
    }
   ],
   "source": [
    "\n",
    "nlcd_single(L,A,B,shuffles=500,algo='KRR',verbose=True)"
   ]
  },
  {
   "cell_type": "code",
   "execution_count": 13,
   "metadata": {},
   "outputs": [
    {
     "name": "stdout",
     "output_type": "stream",
     "text": [
      "The final p value is  0.4900398406374502\n",
      "Test 1 L assoc B  0.4342629482071713\n",
      "Test 2 L assoc A | B  0.00199203187250996\n",
      "Test 3 A assoc B | L  0.4900398406374502\n",
      "Test 4 L ind B | A  0.39243027888446214\n",
      "Overlap score from Test 4  0.289316475700653\n",
      "Seed set at  4134368910613559029\n"
     ]
    },
    {
     "data": {
      "text/plain": [
       "[0.4900398406374502,\n",
       " 0.4342629482071713,\n",
       " 0.00199203187250996,\n",
       " 0.4900398406374502,\n",
       " 0.39243027888446214,\n",
       " 0.289316475700653,\n",
       " 4134368910613559029]"
      ]
     },
     "execution_count": 13,
     "metadata": {},
     "output_type": "execute_result"
    }
   ],
   "source": [
    "#reproduce the result\n",
    "nlcd_single(L,A,B,shuffles=500,algo='KRR',sample_seed=4134368910613559029)"
   ]
  },
  {
   "cell_type": "code",
   "execution_count": 14,
   "metadata": {},
   "outputs": [],
   "source": [
    "#example data for nlcd_group function where you can feed in multiple trios and get a dataframe as result \n",
    "#here it contains two trios \n",
    "#one independent and the other causal \n",
    "data=[]\n",
    "for i in range(2):\n",
    "    L=np.random.binomial(1,0.5,1000)\n",
    "    A=0.1*L+np.random.normal(0,1,1000)\n",
    "    if(i==0):\n",
    "        B=0.5*L+np.random.normal(0,1,1000)\n",
    "    if(i==1):\n",
    "        B=0.5*A+np.random.normal(0,1,1000)\n",
    "    data.append([L,A,B])\n"
   ]
  },
  {
   "cell_type": "code",
   "execution_count": 15,
   "metadata": {},
   "outputs": [
    {
     "name": "stdout",
     "output_type": "stream",
     "text": [
      "Seed Set at  173139788072421203623186426139092738707\n",
      "Algo  KRR  shuffles  50  datasize =  1000  reverse  False\n",
      "start time:  1743794257.35316  end time:  1743794262.2322276 Execution time: 4.879067659378052 seconds\n"
     ]
    }
   ],
   "source": [
    "result=nlcd_batch(data,shuffles=50,algo='KRR',reverse=False,usercall=True)"
   ]
  },
  {
   "cell_type": "code",
   "execution_count": null,
   "metadata": {},
   "outputs": [
    {
     "data": {
      "text/html": [
       "<div>\n",
       "<style scoped>\n",
       "    .dataframe tbody tr th:only-of-type {\n",
       "        vertical-align: middle;\n",
       "    }\n",
       "\n",
       "    .dataframe tbody tr th {\n",
       "        vertical-align: top;\n",
       "    }\n",
       "\n",
       "    .dataframe thead th {\n",
       "        text-align: right;\n",
       "    }\n",
       "</style>\n",
       "<table border=\"1\" class=\"dataframe\">\n",
       "  <thead>\n",
       "    <tr style=\"text-align: right;\">\n",
       "      <th></th>\n",
       "      <th>p_final</th>\n",
       "      <th>p_LassocB</th>\n",
       "      <th>p_LassocA|B</th>\n",
       "      <th>p_AassocB|L</th>\n",
       "      <th>p_LindB|A</th>\n",
       "      <th>OS Test 4</th>\n",
       "      <th>child_seed</th>\n",
       "      <th>parent_seed</th>\n",
       "    </tr>\n",
       "  </thead>\n",
       "  <tbody>\n",
       "    <tr>\n",
       "      <th>0</th>\n",
       "      <td>0.615385</td>\n",
       "      <td>0.019231</td>\n",
       "      <td>0.115385</td>\n",
       "      <td>0.615385</td>\n",
       "      <td>0.423077</td>\n",
       "      <td>0.471299</td>\n",
       "      <td>1496583405831959912</td>\n",
       "      <td>173139788072421203623186426139092738707</td>\n",
       "    </tr>\n",
       "    <tr>\n",
       "      <th>1</th>\n",
       "      <td>0.538462</td>\n",
       "      <td>0.192308</td>\n",
       "      <td>0.269231</td>\n",
       "      <td>0.019231</td>\n",
       "      <td>0.538462</td>\n",
       "      <td>0.478935</td>\n",
       "      <td>3141462066089290613</td>\n",
       "      <td>same</td>\n",
       "    </tr>\n",
       "  </tbody>\n",
       "</table>\n",
       "</div>"
      ],
      "text/plain": [
       "    p_final p_LassocB p_LassocA|B p_AassocB|L p_LindB|A OS Test 4  \\\n",
       "0  0.615385  0.019231    0.115385    0.615385  0.423077  0.471299   \n",
       "1  0.538462  0.192308    0.269231    0.019231  0.538462  0.478935   \n",
       "\n",
       "            child_seed                              parent_seed  \n",
       "0  1496583405831959912  173139788072421203623186426139092738707  \n",
       "1  3141462066089290613                                     same  "
      ]
     },
     "execution_count": 16,
     "metadata": {},
     "output_type": "execute_result"
    }
   ],
   "source": [
    "result"
   ]
  },
  {
   "cell_type": "code",
   "execution_count": 17,
   "metadata": {},
   "outputs": [
    {
     "name": "stdout",
     "output_type": "stream",
     "text": [
      "Seed Set at  173139788072421203623186426139092738707\n",
      "Algo  KRR  shuffles  50  datasize =  1000  reverse  False\n",
      "start time:  1743794312.3793907  end time:  1743794316.4504414 Execution time: 4.071050643920898 seconds\n"
     ]
    }
   ],
   "source": [
    "result=nlcd_batch(data,shuffles=50,algo='KRR',sample_seed=173139788072421203623186426139092738707,usercall=True)"
   ]
  },
  {
   "cell_type": "code",
   "execution_count": 18,
   "metadata": {},
   "outputs": [
    {
     "data": {
      "text/html": [
       "<div>\n",
       "<style scoped>\n",
       "    .dataframe tbody tr th:only-of-type {\n",
       "        vertical-align: middle;\n",
       "    }\n",
       "\n",
       "    .dataframe tbody tr th {\n",
       "        vertical-align: top;\n",
       "    }\n",
       "\n",
       "    .dataframe thead th {\n",
       "        text-align: right;\n",
       "    }\n",
       "</style>\n",
       "<table border=\"1\" class=\"dataframe\">\n",
       "  <thead>\n",
       "    <tr style=\"text-align: right;\">\n",
       "      <th></th>\n",
       "      <th>p_final</th>\n",
       "      <th>p_LassocB</th>\n",
       "      <th>p_LassocA|B</th>\n",
       "      <th>p_AassocB|L</th>\n",
       "      <th>p_LindB|A</th>\n",
       "      <th>OS Test 4</th>\n",
       "      <th>child_seed</th>\n",
       "      <th>parent_seed</th>\n",
       "    </tr>\n",
       "  </thead>\n",
       "  <tbody>\n",
       "    <tr>\n",
       "      <th>0</th>\n",
       "      <td>0.615385</td>\n",
       "      <td>0.019231</td>\n",
       "      <td>0.115385</td>\n",
       "      <td>0.615385</td>\n",
       "      <td>0.423077</td>\n",
       "      <td>0.471299</td>\n",
       "      <td>1496583405831959912</td>\n",
       "      <td>173139788072421203623186426139092738707</td>\n",
       "    </tr>\n",
       "    <tr>\n",
       "      <th>1</th>\n",
       "      <td>0.538462</td>\n",
       "      <td>0.192308</td>\n",
       "      <td>0.269231</td>\n",
       "      <td>0.019231</td>\n",
       "      <td>0.538462</td>\n",
       "      <td>0.478935</td>\n",
       "      <td>3141462066089290613</td>\n",
       "      <td>same</td>\n",
       "    </tr>\n",
       "  </tbody>\n",
       "</table>\n",
       "</div>"
      ],
      "text/plain": [
       "    p_final p_LassocB p_LassocA|B p_AassocB|L p_LindB|A OS Test 4  \\\n",
       "0  0.615385  0.019231    0.115385    0.615385  0.423077  0.471299   \n",
       "1  0.538462  0.192308    0.269231    0.019231  0.538462  0.478935   \n",
       "\n",
       "            child_seed                              parent_seed  \n",
       "0  1496583405831959912  173139788072421203623186426139092738707  \n",
       "1  3141462066089290613                                     same  "
      ]
     },
     "execution_count": 18,
     "metadata": {},
     "output_type": "execute_result"
    }
   ],
   "source": [
    "result "
   ]
  },
  {
   "cell_type": "code",
   "execution_count": 19,
   "metadata": {},
   "outputs": [
    {
     "name": "stdout",
     "output_type": "stream",
     "text": [
      "The final p value is  0.5384615384615384\n",
      "Test 1 L assoc B  0.19230769230769232\n",
      "Test 2 L assoc A | B  0.2692307692307692\n",
      "Test 3 A assoc B | L  0.019230769230769232\n",
      "Test 4 L ind B | A  0.5384615384615384\n",
      "Overlap score from Test 4  0.4789352921311164\n",
      "Seed set at  3141462066089290613\n"
     ]
    },
    {
     "data": {
      "text/plain": [
       "[0.5384615384615384,\n",
       " 0.19230769230769232,\n",
       " 0.2692307692307692,\n",
       " 0.019230769230769232,\n",
       " 0.5384615384615384,\n",
       " 0.4789352921311164,\n",
       " 3141462066089290613]"
      ]
     },
     "execution_count": 19,
     "metadata": {},
     "output_type": "execute_result"
    }
   ],
   "source": [
    "#can reproduce a specific trio result by looking at the child seed from the above\n",
    "#example see the seed against the row number 1 for data[1] \n",
    "nlcd_single(np.array(data[1][0]),np.array(data[1][1]),np.array(data[1][2]),shuffles=50,algo='KRR',sample_seed=3141462066089290613,verbose=True)"
   ]
  }
 ],
 "metadata": {
  "kernelspec": {
   "display_name": "venv",
   "language": "python",
   "name": "python3"
  },
  "language_info": {
   "codemirror_mode": {
    "name": "ipython",
    "version": 3
   },
   "file_extension": ".py",
   "mimetype": "text/x-python",
   "name": "python",
   "nbconvert_exporter": "python",
   "pygments_lexer": "ipython3",
   "version": "3.7.3"
  },
  "orig_nbformat": 4
 },
 "nbformat": 4,
 "nbformat_minor": 2
}
