{
 "cells": [
  {
   "cell_type": "code",
   "execution_count": 1,
   "metadata": {},
   "outputs": [],
   "source": [
    "from nlcd_user import * "
   ]
  },
  {
   "cell_type": "code",
   "execution_count": 2,
   "metadata": {},
   "outputs": [],
   "source": [
    "#Example data for nlcd_single function which takes only one trio \n",
    "L=np.random.binomial(1,0.5,1000)\n",
    "A=0.5*L+np.random.normal(0,1,1000)\n",
    "B=0.5*A+np.random.normal(0,1,1000)"
   ]
  },
  {
   "cell_type": "code",
   "execution_count": 3,
   "metadata": {},
   "outputs": [
    {
     "name": "stdout",
     "output_type": "stream",
     "text": [
      "Seed set at  3661984680\n",
      "The final p value is  0.00980392156862745\n",
      "Test 1 L assoc B  0.00980392156862745\n",
      "Test 2 L assoc A | B  0.00980392156862745\n",
      "Test 3 A assoc B | L  0.00980392156862745\n",
      "Test 4 L ind B | A  0.00980392156862745\n",
      "Overlap score from Test 2  0.45084500279287065\n",
      "Overlap score from Test 4  0.4073526752481231\n"
     ]
    }
   ],
   "source": [
    "nlcd_single(L,A,B,shuffles=100,algo='SVR')"
   ]
  },
  {
   "cell_type": "code",
   "execution_count": 4,
   "metadata": {},
   "outputs": [],
   "source": [
    "#example data for nlcd_group function where you can feed in multiple trios and get a dataframe as result \n",
    "#here it contains two trios \n",
    "#one independent and the other causal \n",
    "data=[]\n",
    "for i in range(2):\n",
    "    L=np.random.binomial(1,0.5,1000)\n",
    "    A=0.5*L+np.random.normal(0,1,1000)\n",
    "    if(i==0):\n",
    "        B=0.5*L+np.random.normal(0,1,1000)\n",
    "    if(i==1):\n",
    "        B=0.5*A+np.random.normal(0,1,1000)\n",
    "    data.append([L,A,B])\n"
   ]
  },
  {
   "cell_type": "code",
   "execution_count": 5,
   "metadata": {},
   "outputs": [
    {
     "name": "stdout",
     "output_type": "stream",
     "text": [
      "Seed Set at  13298259367534168990462925929628669412\n",
      "start time:  1687285974.1642344  end time:  1687286028.0324647 Execution time: 53.86823034286499 seconds\n"
     ]
    }
   ],
   "source": [
    "result=nlcd_batch(data,shuffles=100,algo='SVR')"
   ]
  },
  {
   "cell_type": "code",
   "execution_count": 6,
   "metadata": {},
   "outputs": [
    {
     "data": {
      "text/html": [
       "<div>\n",
       "<style scoped>\n",
       "    .dataframe tbody tr th:only-of-type {\n",
       "        vertical-align: middle;\n",
       "    }\n",
       "\n",
       "    .dataframe tbody tr th {\n",
       "        vertical-align: top;\n",
       "    }\n",
       "\n",
       "    .dataframe thead th {\n",
       "        text-align: right;\n",
       "    }\n",
       "</style>\n",
       "<table border=\"1\" class=\"dataframe\">\n",
       "  <thead>\n",
       "    <tr style=\"text-align: right;\">\n",
       "      <th></th>\n",
       "      <th>p_final</th>\n",
       "      <th>p_LassocB</th>\n",
       "      <th>p_LassocA|B</th>\n",
       "      <th>p_AassocB|L</th>\n",
       "      <th>p_LindB|A</th>\n",
       "      <th>OS Test 2</th>\n",
       "      <th>OS Test 4</th>\n",
       "      <th>seed</th>\n",
       "    </tr>\n",
       "  </thead>\n",
       "  <tbody>\n",
       "    <tr>\n",
       "      <th>0</th>\n",
       "      <td>0.580000</td>\n",
       "      <td>0.009804</td>\n",
       "      <td>0.009804</td>\n",
       "      <td>0.303922</td>\n",
       "      <td>0.578431</td>\n",
       "      <td>0.408634</td>\n",
       "      <td>0.399752</td>\n",
       "      <td>1543915598</td>\n",
       "    </tr>\n",
       "    <tr>\n",
       "      <th>1</th>\n",
       "      <td>0.009804</td>\n",
       "      <td>0.009804</td>\n",
       "      <td>0.009804</td>\n",
       "      <td>0.009804</td>\n",
       "      <td>0.009804</td>\n",
       "      <td>0.449762</td>\n",
       "      <td>0.400948</td>\n",
       "      <td>935853079</td>\n",
       "    </tr>\n",
       "  </tbody>\n",
       "</table>\n",
       "</div>"
      ],
      "text/plain": [
       "    p_final  p_LassocB  p_LassocA|B  p_AassocB|L  p_LindB|A  OS Test 2  \\\n",
       "0  0.580000   0.009804     0.009804     0.303922   0.578431   0.408634   \n",
       "1  0.009804   0.009804     0.009804     0.009804   0.009804   0.449762   \n",
       "\n",
       "   OS Test 4        seed  \n",
       "0   0.399752  1543915598  \n",
       "1   0.400948   935853079  "
      ]
     },
     "execution_count": 6,
     "metadata": {},
     "output_type": "execute_result"
    }
   ],
   "source": [
    "result"
   ]
  },
  {
   "cell_type": "code",
   "execution_count": 7,
   "metadata": {},
   "outputs": [
    {
     "name": "stdout",
     "output_type": "stream",
     "text": [
      "Seed Set at  13298259367534168990462925929628669412\n",
      "start time:  1687286028.112917  end time:  1687286082.218527 Execution time: 54.10561013221741 seconds\n"
     ]
    },
    {
     "data": {
      "text/html": [
       "<div>\n",
       "<style scoped>\n",
       "    .dataframe tbody tr th:only-of-type {\n",
       "        vertical-align: middle;\n",
       "    }\n",
       "\n",
       "    .dataframe tbody tr th {\n",
       "        vertical-align: top;\n",
       "    }\n",
       "\n",
       "    .dataframe thead th {\n",
       "        text-align: right;\n",
       "    }\n",
       "</style>\n",
       "<table border=\"1\" class=\"dataframe\">\n",
       "  <thead>\n",
       "    <tr style=\"text-align: right;\">\n",
       "      <th></th>\n",
       "      <th>p_final</th>\n",
       "      <th>p_LassocB</th>\n",
       "      <th>p_LassocA|B</th>\n",
       "      <th>p_AassocB|L</th>\n",
       "      <th>p_LindB|A</th>\n",
       "      <th>OS Test 2</th>\n",
       "      <th>OS Test 4</th>\n",
       "      <th>seed</th>\n",
       "    </tr>\n",
       "  </thead>\n",
       "  <tbody>\n",
       "    <tr>\n",
       "      <th>0</th>\n",
       "      <td>0.580000</td>\n",
       "      <td>0.009804</td>\n",
       "      <td>0.009804</td>\n",
       "      <td>0.303922</td>\n",
       "      <td>0.578431</td>\n",
       "      <td>0.408634</td>\n",
       "      <td>0.399752</td>\n",
       "      <td>1543915598</td>\n",
       "    </tr>\n",
       "    <tr>\n",
       "      <th>1</th>\n",
       "      <td>0.009804</td>\n",
       "      <td>0.009804</td>\n",
       "      <td>0.009804</td>\n",
       "      <td>0.009804</td>\n",
       "      <td>0.009804</td>\n",
       "      <td>0.449762</td>\n",
       "      <td>0.400948</td>\n",
       "      <td>935853079</td>\n",
       "    </tr>\n",
       "  </tbody>\n",
       "</table>\n",
       "</div>"
      ],
      "text/plain": [
       "    p_final  p_LassocB  p_LassocA|B  p_AassocB|L  p_LindB|A  OS Test 2  \\\n",
       "0  0.580000   0.009804     0.009804     0.303922   0.578431   0.408634   \n",
       "1  0.009804   0.009804     0.009804     0.009804   0.009804   0.449762   \n",
       "\n",
       "   OS Test 4        seed  \n",
       "0   0.399752  1543915598  \n",
       "1   0.400948   935853079  "
      ]
     },
     "execution_count": 7,
     "metadata": {},
     "output_type": "execute_result"
    }
   ],
   "source": [
    "#calling nlcd_batch with the same seed number will reproduce all the trios results\n",
    " \n",
    "nlcd_batch(data,shuffles=100,algo='SVR',sample_seed=13298259367534168990462925929628669412)"
   ]
  },
  {
   "cell_type": "code",
   "execution_count": 8,
   "metadata": {},
   "outputs": [
    {
     "name": "stdout",
     "output_type": "stream",
     "text": [
      "Seed set at  1543915598\n",
      "The final p value is  0.58\n",
      "Test 1 L assoc B  0.00980392156862745\n",
      "Test 2 L assoc A | B  0.00980392156862745\n",
      "Test 3 A assoc B | L  0.30392156862745096\n",
      "Test 4 L ind B | A  0.5784313725490196\n",
      "Overlap score from Test 2  0.40863385196818336\n",
      "Overlap score from Test 4  0.3997516216100541\n"
     ]
    }
   ],
   "source": [
    "#can reproduce the result by looking at the seed from the above\n",
    "#example see the seed against the row number 0 for data[0] \n",
    "nlcd_single(np.array(data[0][0]),np.array(data[0][1]),np.array(data[0][2]),shuffles=100,algo='SVR',sample_seed=1543915598)"
   ]
  }
 ],
 "metadata": {
  "kernelspec": {
   "display_name": "base",
   "language": "python",
   "name": "python3"
  },
  "language_info": {
   "codemirror_mode": {
    "name": "ipython",
    "version": 3
   },
   "file_extension": ".py",
   "mimetype": "text/x-python",
   "name": "python",
   "nbconvert_exporter": "python",
   "pygments_lexer": "ipython3",
   "version": "3.7.3"
  },
  "orig_nbformat": 4
 },
 "nbformat": 4,
 "nbformat_minor": 2
}
