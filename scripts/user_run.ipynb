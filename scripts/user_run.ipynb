{
 "cells": [
  {
   "cell_type": "code",
   "execution_count": 2,
   "metadata": {},
   "outputs": [],
   "source": [
    "from nlcd_user import *\n",
    "from matplotlib import pyplot as plt "
   ]
  },
  {
   "cell_type": "code",
   "execution_count": 5,
   "metadata": {},
   "outputs": [],
   "source": [
    "#Example data for nlcd_single function which takes only one trio \n",
    "L=np.random.binomial(1,0.5,300)\n",
    "A=0.1*L+np.random.normal(0,1,300)\n",
    "B=0.1*A+np.random.normal(0,1,300)"
   ]
  },
  {
   "cell_type": "code",
   "execution_count": 6,
   "metadata": {},
   "outputs": [
    {
     "name": "stdout",
     "output_type": "stream",
     "text": [
      "The final p value is  0.5784313725490197\n",
      "Test 1 L assoc B  0.08823529411764706\n",
      "Test 2 L assoc A | B  0.5784313725490197\n",
      "Test 3 A assoc B | L  0.06862745098039216\n",
      "Test 4 L ind B | A  0.0196078431372549\n",
      "Overlap score from Test 4  0.47037118037732684\n",
      "Seed set at  63024057683507274\n"
     ]
    },
    {
     "data": {
      "text/plain": [
       "[0.5784313725490197,\n",
       " 0.08823529411764706,\n",
       " 0.5784313725490197,\n",
       " 0.06862745098039216,\n",
       " 0.0196078431372549,\n",
       " 0.47037118037732684,\n",
       " 63024057683507274]"
      ]
     },
     "execution_count": 6,
     "metadata": {},
     "output_type": "execute_result"
    }
   ],
   "source": [
    "\n",
    "nlcd_single(L,A,B,shuffles=100,algo='KRR')"
   ]
  },
  {
   "cell_type": "code",
   "execution_count": 8,
   "metadata": {},
   "outputs": [
    {
     "name": "stdout",
     "output_type": "stream",
     "text": [
      "The final p value is  0.5784313725490197\n",
      "Test 1 L assoc B  0.08823529411764706\n",
      "Test 2 L assoc A | B  0.5784313725490197\n",
      "Test 3 A assoc B | L  0.06862745098039216\n",
      "Test 4 L ind B | A  0.0196078431372549\n",
      "Overlap score from Test 4  0.47037118037732684\n",
      "Seed set at  63024057683507274\n"
     ]
    },
    {
     "data": {
      "text/plain": [
       "[0.5784313725490197,\n",
       " 0.08823529411764706,\n",
       " 0.5784313725490197,\n",
       " 0.06862745098039216,\n",
       " 0.0196078431372549,\n",
       " 0.47037118037732684,\n",
       " 63024057683507274]"
      ]
     },
     "execution_count": 8,
     "metadata": {},
     "output_type": "execute_result"
    }
   ],
   "source": [
    "#reproduce the result\n",
    "nlcd_single(L,A,B,shuffles=100,algo='KRR',sample_seed=63024057683507274)"
   ]
  },
  {
   "cell_type": "code",
   "execution_count": 9,
   "metadata": {},
   "outputs": [],
   "source": [
    "#example data for nlcd_group function where you can feed in multiple trios and get a dataframe as result \n",
    "#here it contains two trios \n",
    "#one independent and the other causal \n",
    "data=[]\n",
    "for i in range(2):\n",
    "    L=np.random.binomial(1,0.5,1000)\n",
    "    A=0.1*L+np.random.normal(0,1,1000)\n",
    "    if(i==0):\n",
    "        B=0.5*L+np.random.normal(0,1,1000)\n",
    "    if(i==1):\n",
    "        B=0.5*A+np.random.normal(0,1,1000)\n",
    "    data.append([L,A,B])\n"
   ]
  },
  {
   "cell_type": "code",
   "execution_count": 12,
   "metadata": {},
   "outputs": [
    {
     "name": "stdout",
     "output_type": "stream",
     "text": [
      "Seed Set at  17818855689089527341813962551330825368\n",
      "Algo  KRR  shuffles  50  datasize =  1000  reverse  False\n",
      "start time:  1689918884.1672974  end time:  1689918894.4534876 Execution time: 10.286190271377563 seconds\n"
     ]
    }
   ],
   "source": [
    "result=nlcd_batch(data,shuffles=50,algo='KRR',reverse=False)"
   ]
  },
  {
   "cell_type": "code",
   "execution_count": 13,
   "metadata": {},
   "outputs": [
    {
     "data": {
      "text/html": [
       "<div>\n",
       "<style scoped>\n",
       "    .dataframe tbody tr th:only-of-type {\n",
       "        vertical-align: middle;\n",
       "    }\n",
       "\n",
       "    .dataframe tbody tr th {\n",
       "        vertical-align: top;\n",
       "    }\n",
       "\n",
       "    .dataframe thead th {\n",
       "        text-align: right;\n",
       "    }\n",
       "</style>\n",
       "<table border=\"1\" class=\"dataframe\">\n",
       "  <thead>\n",
       "    <tr style=\"text-align: right;\">\n",
       "      <th></th>\n",
       "      <th>p_final</th>\n",
       "      <th>p_LassocB</th>\n",
       "      <th>p_LassocA|B</th>\n",
       "      <th>p_AassocB|L</th>\n",
       "      <th>p_LindB|A</th>\n",
       "      <th>OS Test 4</th>\n",
       "      <th>child_seed</th>\n",
       "      <th>parent_seed</th>\n",
       "    </tr>\n",
       "  </thead>\n",
       "  <tbody>\n",
       "    <tr>\n",
       "      <th>0</th>\n",
       "      <td>0.923077</td>\n",
       "      <td>0.019231</td>\n",
       "      <td>0.038462</td>\n",
       "      <td>0.076923</td>\n",
       "      <td>0.923077</td>\n",
       "      <td>0.462302</td>\n",
       "      <td>364826561579255685</td>\n",
       "      <td>17818855689089527341813962551330825368</td>\n",
       "    </tr>\n",
       "    <tr>\n",
       "      <th>1</th>\n",
       "      <td>0.980769</td>\n",
       "      <td>0.980769</td>\n",
       "      <td>0.076923</td>\n",
       "      <td>0.019231</td>\n",
       "      <td>0.365385</td>\n",
       "      <td>0.473602</td>\n",
       "      <td>1452921826540798591</td>\n",
       "      <td>same</td>\n",
       "    </tr>\n",
       "  </tbody>\n",
       "</table>\n",
       "</div>"
      ],
      "text/plain": [
       "    p_final  p_LassocB  p_LassocA|B  p_AassocB|L  p_LindB|A  OS Test 4  \\\n",
       "0  0.923077   0.019231     0.038462     0.076923   0.923077   0.462302   \n",
       "1  0.980769   0.980769     0.076923     0.019231   0.365385   0.473602   \n",
       "\n",
       "            child_seed                             parent_seed  \n",
       "0   364826561579255685  17818855689089527341813962551330825368  \n",
       "1  1452921826540798591                                    same  "
      ]
     },
     "execution_count": 13,
     "metadata": {},
     "output_type": "execute_result"
    }
   ],
   "source": [
    "result"
   ]
  },
  {
   "cell_type": "code",
   "execution_count": 14,
   "metadata": {},
   "outputs": [
    {
     "name": "stdout",
     "output_type": "stream",
     "text": [
      "Seed Set at  17818855689089527341813962551330825368\n",
      "Algo  KRR  shuffles  50  datasize =  1000  reverse  False\n",
      "start time:  1689918907.5231068  end time:  1689918917.3524876 Execution time: 9.829380750656128 seconds\n"
     ]
    }
   ],
   "source": [
    "result=nlcd_batch(data,shuffles=50,algo='KRR',sample_seed=17818855689089527341813962551330825368)"
   ]
  },
  {
   "cell_type": "code",
   "execution_count": 15,
   "metadata": {},
   "outputs": [
    {
     "data": {
      "text/html": [
       "<div>\n",
       "<style scoped>\n",
       "    .dataframe tbody tr th:only-of-type {\n",
       "        vertical-align: middle;\n",
       "    }\n",
       "\n",
       "    .dataframe tbody tr th {\n",
       "        vertical-align: top;\n",
       "    }\n",
       "\n",
       "    .dataframe thead th {\n",
       "        text-align: right;\n",
       "    }\n",
       "</style>\n",
       "<table border=\"1\" class=\"dataframe\">\n",
       "  <thead>\n",
       "    <tr style=\"text-align: right;\">\n",
       "      <th></th>\n",
       "      <th>p_final</th>\n",
       "      <th>p_LassocB</th>\n",
       "      <th>p_LassocA|B</th>\n",
       "      <th>p_AassocB|L</th>\n",
       "      <th>p_LindB|A</th>\n",
       "      <th>OS Test 4</th>\n",
       "      <th>child_seed</th>\n",
       "      <th>parent_seed</th>\n",
       "    </tr>\n",
       "  </thead>\n",
       "  <tbody>\n",
       "    <tr>\n",
       "      <th>0</th>\n",
       "      <td>0.923077</td>\n",
       "      <td>0.019231</td>\n",
       "      <td>0.038462</td>\n",
       "      <td>0.076923</td>\n",
       "      <td>0.923077</td>\n",
       "      <td>0.462302</td>\n",
       "      <td>364826561579255685</td>\n",
       "      <td>17818855689089527341813962551330825368</td>\n",
       "    </tr>\n",
       "    <tr>\n",
       "      <th>1</th>\n",
       "      <td>0.980769</td>\n",
       "      <td>0.980769</td>\n",
       "      <td>0.076923</td>\n",
       "      <td>0.019231</td>\n",
       "      <td>0.365385</td>\n",
       "      <td>0.473602</td>\n",
       "      <td>1452921826540798591</td>\n",
       "      <td>same</td>\n",
       "    </tr>\n",
       "  </tbody>\n",
       "</table>\n",
       "</div>"
      ],
      "text/plain": [
       "    p_final  p_LassocB  p_LassocA|B  p_AassocB|L  p_LindB|A  OS Test 4  \\\n",
       "0  0.923077   0.019231     0.038462     0.076923   0.923077   0.462302   \n",
       "1  0.980769   0.980769     0.076923     0.019231   0.365385   0.473602   \n",
       "\n",
       "            child_seed                             parent_seed  \n",
       "0   364826561579255685  17818855689089527341813962551330825368  \n",
       "1  1452921826540798591                                    same  "
      ]
     },
     "execution_count": 15,
     "metadata": {},
     "output_type": "execute_result"
    }
   ],
   "source": [
    "result "
   ]
  },
  {
   "cell_type": "code",
   "execution_count": 16,
   "metadata": {},
   "outputs": [
    {
     "name": "stdout",
     "output_type": "stream",
     "text": [
      "The final p value is  0.9230769230769231\n",
      "Test 1 L assoc B  0.019230769230769232\n",
      "Test 2 L assoc A | B  0.038461538461538464\n",
      "Test 3 A assoc B | L  0.07692307692307693\n",
      "Test 4 L ind B | A  0.9230769230769231\n",
      "Overlap score from Test 4  0.46230218023587866\n",
      "Seed set at  364826561579255685\n"
     ]
    },
    {
     "data": {
      "text/plain": [
       "[0.9230769230769231,\n",
       " 0.019230769230769232,\n",
       " 0.038461538461538464,\n",
       " 0.07692307692307693,\n",
       " 0.9230769230769231,\n",
       " 0.46230218023587866,\n",
       " 364826561579255685]"
      ]
     },
     "execution_count": 16,
     "metadata": {},
     "output_type": "execute_result"
    }
   ],
   "source": [
    "#can reproduce a specific trio result by looking at the seed from the above\n",
    "#example see the seed against the row number 0 for data[0] \n",
    "nlcd_single(np.array(data[0][0]),np.array(data[0][1]),np.array(data[0][2]),shuffles=50,algo='KRR',sample_seed=364826561579255685)"
   ]
  }
 ],
 "metadata": {
  "kernelspec": {
   "display_name": "base",
   "language": "python",
   "name": "python3"
  },
  "language_info": {
   "codemirror_mode": {
    "name": "ipython",
    "version": 3
   },
   "file_extension": ".py",
   "mimetype": "text/x-python",
   "name": "python",
   "nbconvert_exporter": "python",
   "pygments_lexer": "ipython3",
   "version": "3.7.3"
  },
  "orig_nbformat": 4
 },
 "nbformat": 4,
 "nbformat_minor": 2
}
