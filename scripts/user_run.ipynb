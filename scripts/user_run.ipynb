{
 "cells": [
  {
   "cell_type": "code",
   "execution_count": 2,
   "metadata": {},
   "outputs": [],
   "source": [
    "from nlcd_user import * "
   ]
  },
  {
   "cell_type": "code",
   "execution_count": 7,
   "metadata": {},
   "outputs": [],
   "source": [
    "#Example data for nlcd_single function which takes only one trio \n",
    "L=np.random.binomial(1,0.5,1000)\n",
    "A=0.5*L+np.random.normal(0,1,1000)\n",
    "B=0.5*A+np.random.normal(0,1,1000)"
   ]
  },
  {
   "cell_type": "code",
   "execution_count": 8,
   "metadata": {},
   "outputs": [
    {
     "name": "stdout",
     "output_type": "stream",
     "text": [
      "The final p value is  0.00980392156862745\n",
      "Test 1 L assoc B  0.00980392156862745\n",
      "Test 2 L assoc A | B  0.00980392156862745\n",
      "Test 3 A assoc B | L  0.00980392156862745\n",
      "Test 4 L ind B | A  0.00980392156862745\n",
      "Overlap score from Test 2  0.4343471820258741\n",
      "Overlap score from Test 4  0.39167738981254124\n"
     ]
    }
   ],
   "source": [
    "nlcd_single(L,A,B,shuffles=100,algo='SVR')"
   ]
  },
  {
   "cell_type": "code",
   "execution_count": 5,
   "metadata": {},
   "outputs": [],
   "source": [
    "#example data for nlcd_group function where you can feed in multiple trios and get a dataframe as result \n",
    "#here it contains two trios \n",
    "data=[]\n",
    "for i in range(2):\n",
    "    L=np.random.binomial(1,0.5,1000)\n",
    "    A=0.5*L+np.random.normal(0,1,1000)\n",
    "    B=0.5*A+np.random.normal(0,1,1000)\n",
    "    data.append([L,A,B])\n"
   ]
  },
  {
   "cell_type": "code",
   "execution_count": 6,
   "metadata": {},
   "outputs": [],
   "source": [
    "result=nlcd_batch(data,shuffles=100,algo='SVR')"
   ]
  },
  {
   "cell_type": "code",
   "execution_count": 7,
   "metadata": {},
   "outputs": [
    {
     "data": {
      "text/html": [
       "<div>\n",
       "<style scoped>\n",
       "    .dataframe tbody tr th:only-of-type {\n",
       "        vertical-align: middle;\n",
       "    }\n",
       "\n",
       "    .dataframe tbody tr th {\n",
       "        vertical-align: top;\n",
       "    }\n",
       "\n",
       "    .dataframe thead th {\n",
       "        text-align: right;\n",
       "    }\n",
       "</style>\n",
       "<table border=\"1\" class=\"dataframe\">\n",
       "  <thead>\n",
       "    <tr style=\"text-align: right;\">\n",
       "      <th></th>\n",
       "      <th>p_final</th>\n",
       "      <th>p_LassocB</th>\n",
       "      <th>p_LassocA|B</th>\n",
       "      <th>p_AassocB|L</th>\n",
       "      <th>p_LindB|A</th>\n",
       "      <th>OS Test 2</th>\n",
       "      <th>OS Test 4</th>\n",
       "    </tr>\n",
       "  </thead>\n",
       "  <tbody>\n",
       "    <tr>\n",
       "      <th>0</th>\n",
       "      <td>0.019608</td>\n",
       "      <td>0.019608</td>\n",
       "      <td>0.009804</td>\n",
       "      <td>0.009804</td>\n",
       "      <td>0.009804</td>\n",
       "      <td>0.455713</td>\n",
       "      <td>0.416879</td>\n",
       "    </tr>\n",
       "    <tr>\n",
       "      <th>1</th>\n",
       "      <td>0.019608</td>\n",
       "      <td>0.019608</td>\n",
       "      <td>0.009804</td>\n",
       "      <td>0.009804</td>\n",
       "      <td>0.009804</td>\n",
       "      <td>0.463894</td>\n",
       "      <td>0.424708</td>\n",
       "    </tr>\n",
       "  </tbody>\n",
       "</table>\n",
       "</div>"
      ],
      "text/plain": [
       "    p_final  p_LassocB  p_LassocA|B  p_AassocB|L  p_LindB|A  OS Test 2  \\\n",
       "0  0.019608   0.019608     0.009804     0.009804   0.009804   0.455713   \n",
       "1  0.019608   0.019608     0.009804     0.009804   0.009804   0.463894   \n",
       "\n",
       "   OS Test 4  \n",
       "0   0.416879  \n",
       "1   0.424708  "
      ]
     },
     "execution_count": 7,
     "metadata": {},
     "output_type": "execute_result"
    }
   ],
   "source": [
    "result"
   ]
  }
 ],
 "metadata": {
  "kernelspec": {
   "display_name": "base",
   "language": "python",
   "name": "python3"
  },
  "language_info": {
   "codemirror_mode": {
    "name": "ipython",
    "version": 3
   },
   "file_extension": ".py",
   "mimetype": "text/x-python",
   "name": "python",
   "nbconvert_exporter": "python",
   "pygments_lexer": "ipython3",
   "version": "3.7.3"
  },
  "orig_nbformat": 4
 },
 "nbformat": 4,
 "nbformat_minor": 2
}
