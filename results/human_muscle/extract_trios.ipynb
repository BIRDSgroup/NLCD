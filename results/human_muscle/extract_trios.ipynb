{
 "cells": [
  {
   "cell_type": "code",
   "execution_count": 1,
   "metadata": {},
   "outputs": [],
   "source": [
    "import pandas as pd"
   ]
  },
  {
   "cell_type": "code",
   "execution_count": 2,
   "metadata": {},
   "outputs": [],
   "source": [
    "### read the results ##\n",
    "musclecausal=pd.read_csv(\"./AtoB.csv\")\n",
    "musclecausalrev=pd.read_csv(\"./BtoA_rev.csv\")\n",
    "finaldata=pd.concat([musclecausal['p_final'],musclecausalrev['p_final']], axis=1, keys=['A->B', 'B->A'])\n",
    "result=[]\n",
    "for index, row in finaldata.iterrows(): \n",
    "    if(row['A->B']<0.05 and row['B->A']>0.05):\n",
    "        result.append('causal')\n",
    "    elif(row['B->A']<0.05 and row['A->B']>0.05):\n",
    "        result.append('causal in rev')\n",
    "    elif(row['A->B']>0.05 and row['B->A']>0.05):\n",
    "        result.append('independent')\n",
    "    else:\n",
    "        result.append('no call')\n",
    "causal_indices = [i for i, x in enumerate(result) if x == \"causal\"]\n",
    "causalrev_indices=[i for i, x in enumerate(result) if x == \"causal in rev\"]"
   ]
  },
  {
   "cell_type": "code",
   "execution_count": 7,
   "metadata": {},
   "outputs": [
    {
     "data": {
      "text/plain": [
       "85"
      ]
     },
     "execution_count": 7,
     "metadata": {},
     "output_type": "execute_result"
    }
   ],
   "source": [
    "len(causal_indices)"
   ]
  },
  {
   "cell_type": "code",
   "execution_count": 3,
   "metadata": {},
   "outputs": [],
   "source": [
    "## set the path to the muscle trios \n",
    "fo=open('/data/users/cs20s037/CITNonLinear/yeastandhuman/human_muscle.txt', \"r\")\n",
    "pairnames=[]\n",
    "while(1):\n",
    "    line=fo.readline()\n",
    "    if(line==\"\"):\n",
    "        break\n",
    "    line=line.replace(\"\\n\",\"\")\n",
    "    line=line.replace(\"\\\"\",\"\")\n",
    "    line=line.split(\" \")\n",
    "    pairnames.append(line[0]+\" \"+line[1]+\" \"+line[2])\n",
    "    line=fo.readline()\n",
    "    line=fo.readline()\n",
    "    line=fo.readline()\n",
    "fo.close()"
   ]
  },
  {
   "cell_type": "code",
   "execution_count": null,
   "metadata": {},
   "outputs": [],
   "source": [
    "#save them \n",
    "causalnames=[pairnames[i] for i in causal_indices]\n",
    "causalrevnames=[pairnames[i] for i in causalrev_indices]\n",
    "causalnamessplit= [i.split() for i in causalnames]\n",
    "[causalnamessplit[i].insert(0,causal_indices[i]) for i in range(0,len(causal_indices))]\n",
    "df=pd.DataFrame(causalnamessplit)\n",
    "df.columns=['id( zero indexed )','eqtl','source','target']\n",
    "df.to_csv(\"./causal.csv\",index=False)\n",
    "causalrevnamessplit= [i.split() for i in causalrevnames]\n",
    "[causalrevnamessplit[i].insert(0,causalrev_indices[i]) for i in range(0,len(causalrev_indices))]\n",
    "df=pd.DataFrame(causalrevnamessplit)\n",
    "df.columns=['id( zero indexed )','eqtl','source','target']\n",
    "df.to_csv(\"./causal_rev.csv\",index=False)"
   ]
  }
 ],
 "metadata": {
  "kernelspec": {
   "display_name": "base",
   "language": "python",
   "name": "python3"
  },
  "language_info": {
   "codemirror_mode": {
    "name": "ipython",
    "version": 3
   },
   "file_extension": ".py",
   "mimetype": "text/x-python",
   "name": "python",
   "nbconvert_exporter": "python",
   "pygments_lexer": "ipython3",
   "version": "3.7.3"
  },
  "orig_nbformat": 4
 },
 "nbformat": 4,
 "nbformat_minor": 2
}
