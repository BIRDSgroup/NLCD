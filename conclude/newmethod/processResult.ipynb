{
 "cells": [
  {
   "cell_type": "code",
   "execution_count": 1,
   "metadata": {},
   "outputs": [],
   "source": [
    "import pickle\n",
    "import matplotlib.pyplot as plt\n",
    "import seaborn as sns\n",
    "import pandas as pd"
   ]
  },
  {
   "cell_type": "code",
   "execution_count": 2,
   "metadata": {},
   "outputs": [],
   "source": [
    "fer=open(\"/data/users/cs20s037/CITNonLinear/LinearDifferentvalues/dataset_params_Linear0to1.txt\",\"r\")\n",
    "dataset_names=[]\n",
    "for i in range(0,121):\n",
    "    line=fer.readline()\n",
    "    line=\"_\".join(line.split())\n",
    "    dataset_names.append(line)\n",
    "fer.close()"
   ]
  },
  {
   "cell_type": "code",
   "execution_count": 4,
   "metadata": {},
   "outputs": [],
   "source": [
    "presults= pd.read_csv(\"/data/users/cs20s037/CITNonLinear/conclude/newmethod/NLMRnewmethodupdated.txt\",header=None)"
   ]
  },
  {
   "cell_type": "code",
   "execution_count": 5,
   "metadata": {},
   "outputs": [],
   "source": [
    "presults.sort_values(0,inplace=True)"
   ]
  },
  {
   "cell_type": "code",
   "execution_count": 6,
   "metadata": {},
   "outputs": [],
   "source": [
    "presults=presults.set_index([0])"
   ]
  },
  {
   "cell_type": "code",
   "execution_count": 7,
   "metadata": {},
   "outputs": [],
   "source": [
    "presults['results']=presults.apply (lambda row: 'causal' if (row[1] <0.05 and row[2]<0.05 and row[3]<0.05)  else ' ', axis=1)\n"
   ]
  },
  {
   "cell_type": "code",
   "execution_count": 8,
   "metadata": {},
   "outputs": [],
   "source": [
    "presults['results']=presults.apply (lambda row: 'causal' if max(row[1],row[2],row[3]) <0.05   else ' ', axis=1)\n",
    "#both does the same, omni bus "
   ]
  },
  {
   "cell_type": "code",
   "execution_count": 9,
   "metadata": {},
   "outputs": [],
   "source": [
    "presults.columns = ['p_L->A', 'p_L->B', 'diff(B|A,B|A,L)','final_call']#'spearman','pearson', 'final_call']"
   ]
  },
  {
   "cell_type": "code",
   "execution_count": 10,
   "metadata": {},
   "outputs": [
    {
     "data": {
      "text/plain": [
       "86"
      ]
     },
     "execution_count": 10,
     "metadata": {},
     "output_type": "execute_result"
    }
   ],
   "source": [
    "presults[presults['final_call']=='causal'].shape[0]"
   ]
  },
  {
   "cell_type": "code",
   "execution_count": 12,
   "metadata": {},
   "outputs": [],
   "source": [
    "citresults= pd.read_csv(\"/data/users/cs20s037/CITNonLinear/LinearDifferentvalues/CIT_testing/results_cit_Linear0to1.csv\")"
   ]
  },
  {
   "cell_type": "code",
   "execution_count": 13,
   "metadata": {},
   "outputs": [],
   "source": [
    "citresults.columns=[\"p_cit\",\"p_TassocL\",\"p_TassocGgvnL\",\"p_GassocLgvnT\",\"p_LindTgvnG\",\"CIT_final_call\"]"
   ]
  },
  {
   "cell_type": "code",
   "execution_count": 14,
   "metadata": {},
   "outputs": [],
   "source": [
    "citresults[\"\"]=\" \""
   ]
  },
  {
   "cell_type": "code",
   "execution_count": 15,
   "metadata": {},
   "outputs": [
    {
     "ename": "NameError",
     "evalue": "name 'indices' is not defined",
     "output_type": "error",
     "traceback": [
      "\u001b[0;31m---------------------------------------------------------------------------\u001b[0m",
      "\u001b[0;31mNameError\u001b[0m                                 Traceback (most recent call last)",
      "\u001b[0;32m<ipython-input-15-c8db3da954fe>\u001b[0m in \u001b[0;36m<module>\u001b[0;34m\u001b[0m\n\u001b[0;32m----> 1\u001b[0;31m \u001b[0mcitresults\u001b[0m\u001b[0;34m.\u001b[0m\u001b[0minsert\u001b[0m\u001b[0;34m(\u001b[0m\u001b[0;36m0\u001b[0m\u001b[0;34m,\u001b[0m\u001b[0;34m'data number'\u001b[0m\u001b[0;34m,\u001b[0m\u001b[0mindices\u001b[0m\u001b[0;34m)\u001b[0m\u001b[0;34m\u001b[0m\u001b[0;34m\u001b[0m\u001b[0m\n\u001b[0m",
      "\u001b[0;31mNameError\u001b[0m: name 'indices' is not defined"
     ]
    }
   ],
   "source": [
    "citresults.insert(0,'data number',indices)\n"
   ]
  },
  {
   "cell_type": "code",
   "execution_count": 16,
   "metadata": {},
   "outputs": [
    {
     "ename": "KeyError",
     "evalue": "'data number'",
     "output_type": "error",
     "traceback": [
      "\u001b[0;31m---------------------------------------------------------------------------\u001b[0m",
      "\u001b[0;31mKeyError\u001b[0m                                  Traceback (most recent call last)",
      "\u001b[0;32m<ipython-input-16-26826e226b61>\u001b[0m in \u001b[0;36m<module>\u001b[0;34m\u001b[0m\n\u001b[0;32m----> 1\u001b[0;31m \u001b[0mcitresults\u001b[0m\u001b[0;34m.\u001b[0m\u001b[0msort_values\u001b[0m\u001b[0;34m(\u001b[0m\u001b[0;34m'data number'\u001b[0m\u001b[0;34m,\u001b[0m\u001b[0minplace\u001b[0m\u001b[0;34m=\u001b[0m\u001b[0;32mTrue\u001b[0m\u001b[0;34m)\u001b[0m\u001b[0;34m\u001b[0m\u001b[0;34m\u001b[0m\u001b[0m\n\u001b[0m",
      "\u001b[0;32m/opt/anaconda3/lib/python3.7/site-packages/pandas/util/_decorators.py\u001b[0m in \u001b[0;36mwrapper\u001b[0;34m(*args, **kwargs)\u001b[0m\n\u001b[1;32m    309\u001b[0m                     \u001b[0mstacklevel\u001b[0m\u001b[0;34m=\u001b[0m\u001b[0mstacklevel\u001b[0m\u001b[0;34m,\u001b[0m\u001b[0;34m\u001b[0m\u001b[0;34m\u001b[0m\u001b[0m\n\u001b[1;32m    310\u001b[0m                 )\n\u001b[0;32m--> 311\u001b[0;31m             \u001b[0;32mreturn\u001b[0m \u001b[0mfunc\u001b[0m\u001b[0;34m(\u001b[0m\u001b[0;34m*\u001b[0m\u001b[0margs\u001b[0m\u001b[0;34m,\u001b[0m \u001b[0;34m**\u001b[0m\u001b[0mkwargs\u001b[0m\u001b[0;34m)\u001b[0m\u001b[0;34m\u001b[0m\u001b[0;34m\u001b[0m\u001b[0m\n\u001b[0m\u001b[1;32m    312\u001b[0m \u001b[0;34m\u001b[0m\u001b[0m\n\u001b[1;32m    313\u001b[0m         \u001b[0;32mreturn\u001b[0m \u001b[0mwrapper\u001b[0m\u001b[0;34m\u001b[0m\u001b[0;34m\u001b[0m\u001b[0m\n",
      "\u001b[0;32m/opt/anaconda3/lib/python3.7/site-packages/pandas/core/frame.py\u001b[0m in \u001b[0;36msort_values\u001b[0;34m(self, by, axis, ascending, inplace, kind, na_position, ignore_index, key)\u001b[0m\n\u001b[1;32m   6252\u001b[0m \u001b[0;34m\u001b[0m\u001b[0m\n\u001b[1;32m   6253\u001b[0m             \u001b[0mby\u001b[0m \u001b[0;34m=\u001b[0m \u001b[0mby\u001b[0m\u001b[0;34m[\u001b[0m\u001b[0;36m0\u001b[0m\u001b[0;34m]\u001b[0m\u001b[0;34m\u001b[0m\u001b[0;34m\u001b[0m\u001b[0m\n\u001b[0;32m-> 6254\u001b[0;31m             \u001b[0mk\u001b[0m \u001b[0;34m=\u001b[0m \u001b[0mself\u001b[0m\u001b[0;34m.\u001b[0m\u001b[0m_get_label_or_level_values\u001b[0m\u001b[0;34m(\u001b[0m\u001b[0mby\u001b[0m\u001b[0;34m,\u001b[0m \u001b[0maxis\u001b[0m\u001b[0;34m=\u001b[0m\u001b[0maxis\u001b[0m\u001b[0;34m)\u001b[0m\u001b[0;34m\u001b[0m\u001b[0;34m\u001b[0m\u001b[0m\n\u001b[0m\u001b[1;32m   6255\u001b[0m \u001b[0;34m\u001b[0m\u001b[0m\n\u001b[1;32m   6256\u001b[0m             \u001b[0;31m# need to rewrap column in Series to apply key function\u001b[0m\u001b[0;34m\u001b[0m\u001b[0;34m\u001b[0m\u001b[0;34m\u001b[0m\u001b[0m\n",
      "\u001b[0;32m/opt/anaconda3/lib/python3.7/site-packages/pandas/core/generic.py\u001b[0m in \u001b[0;36m_get_label_or_level_values\u001b[0;34m(self, key, axis)\u001b[0m\n\u001b[1;32m   1774\u001b[0m             \u001b[0mvalues\u001b[0m \u001b[0;34m=\u001b[0m \u001b[0mself\u001b[0m\u001b[0;34m.\u001b[0m\u001b[0maxes\u001b[0m\u001b[0;34m[\u001b[0m\u001b[0maxis\u001b[0m\u001b[0;34m]\u001b[0m\u001b[0;34m.\u001b[0m\u001b[0mget_level_values\u001b[0m\u001b[0;34m(\u001b[0m\u001b[0mkey\u001b[0m\u001b[0;34m)\u001b[0m\u001b[0;34m.\u001b[0m\u001b[0m_values\u001b[0m\u001b[0;34m\u001b[0m\u001b[0;34m\u001b[0m\u001b[0m\n\u001b[1;32m   1775\u001b[0m         \u001b[0;32melse\u001b[0m\u001b[0;34m:\u001b[0m\u001b[0;34m\u001b[0m\u001b[0;34m\u001b[0m\u001b[0m\n\u001b[0;32m-> 1776\u001b[0;31m             \u001b[0;32mraise\u001b[0m \u001b[0mKeyError\u001b[0m\u001b[0;34m(\u001b[0m\u001b[0mkey\u001b[0m\u001b[0;34m)\u001b[0m\u001b[0;34m\u001b[0m\u001b[0;34m\u001b[0m\u001b[0m\n\u001b[0m\u001b[1;32m   1777\u001b[0m \u001b[0;34m\u001b[0m\u001b[0m\n\u001b[1;32m   1778\u001b[0m         \u001b[0;31m# Check for duplicates\u001b[0m\u001b[0;34m\u001b[0m\u001b[0;34m\u001b[0m\u001b[0;34m\u001b[0m\u001b[0m\n",
      "\u001b[0;31mKeyError\u001b[0m: 'data number'"
     ]
    }
   ],
   "source": [
    "citresults.sort_values('data number',inplace=True)"
   ]
  },
  {
   "cell_type": "code",
   "execution_count": null,
   "metadata": {},
   "outputs": [],
   "source": [
    "citresults=citresults.set_index('data number')"
   ]
  },
  {
   "cell_type": "code",
   "execution_count": 17,
   "metadata": {},
   "outputs": [],
   "source": [
    "citDl=pd.concat([citresults,presults],axis=1)"
   ]
  },
  {
   "cell_type": "code",
   "execution_count": 18,
   "metadata": {},
   "outputs": [],
   "source": [
    "citDl.insert(0,'parameters',dataset_names)"
   ]
  },
  {
   "cell_type": "code",
   "execution_count": 19,
   "metadata": {},
   "outputs": [
    {
     "data": {
      "text/html": [
       "<div>\n",
       "<style scoped>\n",
       "    .dataframe tbody tr th:only-of-type {\n",
       "        vertical-align: middle;\n",
       "    }\n",
       "\n",
       "    .dataframe tbody tr th {\n",
       "        vertical-align: top;\n",
       "    }\n",
       "\n",
       "    .dataframe thead th {\n",
       "        text-align: right;\n",
       "    }\n",
       "</style>\n",
       "<table border=\"1\" class=\"dataframe\">\n",
       "  <thead>\n",
       "    <tr style=\"text-align: right;\">\n",
       "      <th></th>\n",
       "      <th>parameters</th>\n",
       "      <th>p_cit</th>\n",
       "      <th>p_TassocL</th>\n",
       "      <th>p_TassocGgvnL</th>\n",
       "      <th>p_GassocLgvnT</th>\n",
       "      <th>p_LindTgvnG</th>\n",
       "      <th>CIT_final_call</th>\n",
       "      <th></th>\n",
       "      <th>p_L-&gt;A</th>\n",
       "      <th>p_L-&gt;B</th>\n",
       "      <th>diff(B|A,B|A,L)</th>\n",
       "      <th>final_call</th>\n",
       "    </tr>\n",
       "  </thead>\n",
       "  <tbody>\n",
       "    <tr>\n",
       "      <th>0</th>\n",
       "      <td>0.1_0.1</td>\n",
       "      <td>7.657584e-01</td>\n",
       "      <td>2.025046e-01</td>\n",
       "      <td>3.244879e-04</td>\n",
       "      <td>7.657584e-01</td>\n",
       "      <td>6.346087e-02</td>\n",
       "      <td></td>\n",
       "      <td></td>\n",
       "      <td>0.74</td>\n",
       "      <td>0.41</td>\n",
       "      <td>0.18</td>\n",
       "      <td></td>\n",
       "    </tr>\n",
       "    <tr>\n",
       "      <th>1</th>\n",
       "      <td>0.1_0.2</td>\n",
       "      <td>8.965733e-01</td>\n",
       "      <td>8.965733e-01</td>\n",
       "      <td>4.287469e-06</td>\n",
       "      <td>4.549897e-01</td>\n",
       "      <td>2.788981e-11</td>\n",
       "      <td></td>\n",
       "      <td></td>\n",
       "      <td>0.72</td>\n",
       "      <td>0.11</td>\n",
       "      <td>0.00</td>\n",
       "      <td></td>\n",
       "    </tr>\n",
       "    <tr>\n",
       "      <th>2</th>\n",
       "      <td>0.1_0.3</td>\n",
       "      <td>7.831650e-01</td>\n",
       "      <td>6.988744e-01</td>\n",
       "      <td>1.024230e-26</td>\n",
       "      <td>1.192592e-02</td>\n",
       "      <td>7.831650e-01</td>\n",
       "      <td></td>\n",
       "      <td></td>\n",
       "      <td>0.06</td>\n",
       "      <td>0.56</td>\n",
       "      <td>0.00</td>\n",
       "      <td></td>\n",
       "    </tr>\n",
       "    <tr>\n",
       "      <th>3</th>\n",
       "      <td>0.1_0.4</td>\n",
       "      <td>1.624794e-01</td>\n",
       "      <td>1.075974e-01</td>\n",
       "      <td>1.336805e-38</td>\n",
       "      <td>1.624794e-01</td>\n",
       "      <td>2.266339e-14</td>\n",
       "      <td></td>\n",
       "      <td></td>\n",
       "      <td>0.05</td>\n",
       "      <td>0.23</td>\n",
       "      <td>0.00</td>\n",
       "      <td></td>\n",
       "    </tr>\n",
       "    <tr>\n",
       "      <th>4</th>\n",
       "      <td>0.1_0.5</td>\n",
       "      <td>9.999990e-01</td>\n",
       "      <td>8.706938e-01</td>\n",
       "      <td>7.946690e-40</td>\n",
       "      <td>1.766704e-01</td>\n",
       "      <td>9.999990e-01</td>\n",
       "      <td></td>\n",
       "      <td></td>\n",
       "      <td>0.18</td>\n",
       "      <td>0.97</td>\n",
       "      <td>0.05</td>\n",
       "      <td></td>\n",
       "    </tr>\n",
       "    <tr>\n",
       "      <th>...</th>\n",
       "      <td>...</td>\n",
       "      <td>...</td>\n",
       "      <td>...</td>\n",
       "      <td>...</td>\n",
       "      <td>...</td>\n",
       "      <td>...</td>\n",
       "      <td>...</td>\n",
       "      <td>...</td>\n",
       "      <td>...</td>\n",
       "      <td>...</td>\n",
       "      <td>...</td>\n",
       "      <td>...</td>\n",
       "    </tr>\n",
       "    <tr>\n",
       "      <th>116</th>\n",
       "      <td>3_0.7</td>\n",
       "      <td>8.818133e-100</td>\n",
       "      <td>9.921021e-135</td>\n",
       "      <td>8.818133e-100</td>\n",
       "      <td>5.368456e-131</td>\n",
       "      <td>0.000000e+00</td>\n",
       "      <td>causal</td>\n",
       "      <td></td>\n",
       "      <td>0.00</td>\n",
       "      <td>0.00</td>\n",
       "      <td>0.00</td>\n",
       "      <td>causal</td>\n",
       "    </tr>\n",
       "    <tr>\n",
       "      <th>117</th>\n",
       "      <td>3_0.8</td>\n",
       "      <td>2.011969e-112</td>\n",
       "      <td>3.527923e-142</td>\n",
       "      <td>2.011969e-112</td>\n",
       "      <td>3.855746e-135</td>\n",
       "      <td>1.717972e-119</td>\n",
       "      <td>causal</td>\n",
       "      <td></td>\n",
       "      <td>0.00</td>\n",
       "      <td>0.00</td>\n",
       "      <td>0.00</td>\n",
       "      <td>causal</td>\n",
       "    </tr>\n",
       "    <tr>\n",
       "      <th>118</th>\n",
       "      <td>3_0.9</td>\n",
       "      <td>7.527877e-91</td>\n",
       "      <td>6.409354e-146</td>\n",
       "      <td>1.181566e-160</td>\n",
       "      <td>9.050089e-107</td>\n",
       "      <td>7.527877e-91</td>\n",
       "      <td>causal</td>\n",
       "      <td></td>\n",
       "      <td>0.00</td>\n",
       "      <td>0.00</td>\n",
       "      <td>0.00</td>\n",
       "      <td>causal</td>\n",
       "    </tr>\n",
       "    <tr>\n",
       "      <th>119</th>\n",
       "      <td>3_1</td>\n",
       "      <td>1.099313e-89</td>\n",
       "      <td>1.756033e-170</td>\n",
       "      <td>2.961327e-151</td>\n",
       "      <td>1.099313e-89</td>\n",
       "      <td>4.576281e-261</td>\n",
       "      <td>causal</td>\n",
       "      <td></td>\n",
       "      <td>0.00</td>\n",
       "      <td>0.00</td>\n",
       "      <td>0.00</td>\n",
       "      <td>causal</td>\n",
       "    </tr>\n",
       "    <tr>\n",
       "      <th>120</th>\n",
       "      <td>3_3</td>\n",
       "      <td>7.907587e-12</td>\n",
       "      <td>1.323725e-241</td>\n",
       "      <td>0.000000e+00</td>\n",
       "      <td>7.907587e-12</td>\n",
       "      <td>0.000000e+00</td>\n",
       "      <td>causal</td>\n",
       "      <td></td>\n",
       "      <td>0.00</td>\n",
       "      <td>0.00</td>\n",
       "      <td>0.00</td>\n",
       "      <td>causal</td>\n",
       "    </tr>\n",
       "  </tbody>\n",
       "</table>\n",
       "<p>121 rows × 12 columns</p>\n",
       "</div>"
      ],
      "text/plain": [
       "    parameters          p_cit      p_TassocL  p_TassocGgvnL  p_GassocLgvnT  \\\n",
       "0      0.1_0.1   7.657584e-01   2.025046e-01   3.244879e-04   7.657584e-01   \n",
       "1      0.1_0.2   8.965733e-01   8.965733e-01   4.287469e-06   4.549897e-01   \n",
       "2      0.1_0.3   7.831650e-01   6.988744e-01   1.024230e-26   1.192592e-02   \n",
       "3      0.1_0.4   1.624794e-01   1.075974e-01   1.336805e-38   1.624794e-01   \n",
       "4      0.1_0.5   9.999990e-01   8.706938e-01   7.946690e-40   1.766704e-01   \n",
       "..         ...            ...            ...            ...            ...   \n",
       "116      3_0.7  8.818133e-100  9.921021e-135  8.818133e-100  5.368456e-131   \n",
       "117      3_0.8  2.011969e-112  3.527923e-142  2.011969e-112  3.855746e-135   \n",
       "118      3_0.9   7.527877e-91  6.409354e-146  1.181566e-160  9.050089e-107   \n",
       "119        3_1   1.099313e-89  1.756033e-170  2.961327e-151   1.099313e-89   \n",
       "120        3_3   7.907587e-12  1.323725e-241   0.000000e+00   7.907587e-12   \n",
       "\n",
       "       p_LindTgvnG CIT_final_call     p_L->A  p_L->B  diff(B|A,B|A,L)  \\\n",
       "0     6.346087e-02                      0.74    0.41             0.18   \n",
       "1     2.788981e-11                      0.72    0.11             0.00   \n",
       "2     7.831650e-01                      0.06    0.56             0.00   \n",
       "3     2.266339e-14                      0.05    0.23             0.00   \n",
       "4     9.999990e-01                      0.18    0.97             0.05   \n",
       "..             ...            ... ..     ...     ...              ...   \n",
       "116   0.000000e+00         causal       0.00    0.00             0.00   \n",
       "117  1.717972e-119         causal       0.00    0.00             0.00   \n",
       "118   7.527877e-91         causal       0.00    0.00             0.00   \n",
       "119  4.576281e-261         causal       0.00    0.00             0.00   \n",
       "120   0.000000e+00         causal       0.00    0.00             0.00   \n",
       "\n",
       "    final_call  \n",
       "0               \n",
       "1               \n",
       "2               \n",
       "3               \n",
       "4               \n",
       "..         ...  \n",
       "116     causal  \n",
       "117     causal  \n",
       "118     causal  \n",
       "119     causal  \n",
       "120     causal  \n",
       "\n",
       "[121 rows x 12 columns]"
      ]
     },
     "execution_count": 19,
     "metadata": {},
     "output_type": "execute_result"
    }
   ],
   "source": [
    "citDl"
   ]
  },
  {
   "cell_type": "code",
   "execution_count": 10,
   "metadata": {},
   "outputs": [],
   "source": [
    "presults.insert(0,'parameters',dataset_names)"
   ]
  },
  {
   "cell_type": "code",
   "execution_count": 21,
   "metadata": {},
   "outputs": [],
   "source": [
    "citDl.to_csv(\"NLMRresultupdatedCausalLinear.csv\")"
   ]
  }
 ],
 "metadata": {
  "kernelspec": {
   "display_name": "Python 3.7.3 ('base')",
   "language": "python",
   "name": "python3"
  },
  "language_info": {
   "codemirror_mode": {
    "name": "ipython",
    "version": 3
   },
   "file_extension": ".py",
   "mimetype": "text/x-python",
   "name": "python",
   "nbconvert_exporter": "python",
   "pygments_lexer": "ipython3",
   "version": "3.7.3"
  },
  "orig_nbformat": 4,
  "vscode": {
   "interpreter": {
    "hash": "40d3a090f54c6569ab1632332b64b2c03c39dcf918b08424e98f38b5ae0af88f"
   }
  }
 },
 "nbformat": 4,
 "nbformat_minor": 2
}
