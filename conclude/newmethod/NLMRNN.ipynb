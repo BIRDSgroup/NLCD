{
 "cells": [
  {
   "cell_type": "code",
   "execution_count": 191,
   "metadata": {},
   "outputs": [],
   "source": [
    "from tensorflow_probability import distributions as tfd\n",
    "import tensorflow as tf\n",
    "from tensorflow.keras.layers import Input, Dense, Activation, Concatenate\n",
    "\n",
    "from sklearn.linear_model import LinearRegression\n",
    "from sklearn.model_selection import train_test_split\n",
    "from sklearn.preprocessing import MinMaxScaler\n",
    "from sklearn.datasets import load_boston\n",
    "from sklearn.linear_model import LinearRegression\n",
    "import matplotlib.pyplot as plt\n",
    "import seaborn as sns\n",
    "import random\n",
    "import numpy as np\n",
    "import statsmodels.api as sm\n",
    "import pickle\n",
    "from sklearn.feature_selection import mutual_info_regression\n",
    "from scipy import stats"
   ]
  },
  {
   "cell_type": "code",
   "execution_count": 192,
   "metadata": {},
   "outputs": [],
   "source": [
    "#defining the class MDN\n",
    "class MDN_module(tf.keras.Model):\n",
    "    def __init__(self, neurons=15, components = 1):\n",
    "        super(MDN_module, self).__init__(name=\"MDN_module\")\n",
    "        self.neurons = neurons\n",
    "        self.components = components\n",
    "\n",
    "        #chaging activation to relu from linear, changin relu to sigmoid \n",
    "        for i in range(1,3):\n",
    "          s=\"self\"+\".h\"+str(i)+\"= Dense(neurons, activation=\\\"relu\\\", name=\"+\"'h\"+str(i)+\"')\"\n",
    "          exec(s)\n",
    "        #self.h1=Dense(12,activation=\"relu\",name=\"h1\")\n",
    "        #self.h2=Dense(8,activation=\"relu\",name=\"h2\")\n",
    "        #self.h3=Dense(8,activation=\"relu\",name=\"h3\")\n",
    "        self.alphas = Dense(components, activation=\"softmax\", name=\"alphas\")\n",
    "        self.mus = Dense(components, activation=\"linear\",name=\"mus\") \n",
    "        self.sigmas = Dense(components, activation=\"nnelu\",name=\"sigmas\") #activation changed from linear to default\n",
    "        self.pvec = Concatenate(name=\"pvec\")\n",
    "        \n",
    "    def call(self, inputs):\n",
    "        x=self.h1(inputs)\n",
    "        #x=self.inputA(inputs)\n",
    "        #x=self.h2(x)\n",
    "        #x=self.h3(x)\n",
    "        alpha_v = self.alphas(x)\n",
    "        mu_v = self.mus(x)\n",
    "        sigma_v = self.sigmas(x)\n",
    "        \n",
    "        return self.pvec([alpha_v,mu_v, sigma_v])"
   ]
  },
  {
   "cell_type": "code",
   "execution_count": 193,
   "metadata": {},
   "outputs": [],
   "source": [
    "#nelu function, function to calculate the losses and evaluate them\n",
    "no_parameters=3\n",
    "components=1\n",
    "#change this variable for x == 0 or x == -1\n",
    "leftside=-1\n",
    "#activation function\n",
    "def nnelu(input):\n",
    "    \"\"\" Computes the Non-Negative Exponential Linear Unit\n",
    "    \"\"\"\n",
    "    return tf.add(tf.constant(1, dtype=tf.float32), tf.nn.elu(input))\n",
    "#function to slice the returned list by the neural network\n",
    "def slice_parameter_vectors(parameter_vector):\n",
    "    \"\"\" Returns an unpacked list of paramter vectors.\n",
    "    \"\"\"\n",
    "    return [parameter_vector[:,i*components:(i+1\n",
    "    )*components] for i in range(no_parameters)]\n",
    "\n",
    "#function that calculates the loss \n",
    "def gnll_loss(y, parameter_vector):\n",
    "    \"\"\" Computes the mean negative log-likelihood loss of y given the mixture parameters.\n",
    "    \"\"\"\n",
    "    alpha,mu,sigma = slice_parameter_vectors(parameter_vector) # Unpack parameter vectors\n",
    "    #tf.print(sigma)\n",
    "    gm = tfd.MixtureSameFamily(\n",
    "           mixture_distribution=tfd.Categorical(probs=alpha),\n",
    "           components_distribution=tfd.Normal(\n",
    "           loc=mu,       \n",
    "           scale=sigma))\n",
    "    \n",
    "    \n",
    "    \n",
    "    log_likelihood =  gm.log_prob(tf.transpose(y)) # Evaluate log-probability of y \n",
    "    return -tf.reduce_mean(log_likelihood, axis=-1) \n",
    "\n",
    "tf.keras.utils.get_custom_objects().update({'nnelu': Activation(nnelu)})\n",
    "\n",
    "def gnll_eval(y,alpha, mu, sigma):\n",
    "    \"\"\" Computes the mean negative log-likelihood loss of y given the mixture parameters.\n",
    "    \"\"\"\n",
    "    #print(alpha)\n",
    "    gm = tfd.MixtureSameFamily(\n",
    "        mixture_distribution=tfd.Categorical(probs=alpha),\n",
    "        components_distribution=tfd.Normal(\n",
    "            loc=mu,       \n",
    "            scale=sigma))\n",
    "    log_likelihood = gm.log_prob(tf.transpose(y))\n",
    "    return -tf.reduce_mean(log_likelihood, axis=-1)\n",
    "\n",
    "\n",
    "def eval_mdn_model(x_test, y_test, mdn_model):\n",
    "    \"\"\" Evaluate the model to get the loss for the given x and y \n",
    "    \"\"\"\n",
    "    y_pred = mdn_model.predict(np.reshape(x_test,newshape=(len(x_test),-1)))\n",
    "    alpha,mu,sigma = slice_parameter_vectors(y_pred)\n",
    "    mdn_nll = gnll_eval(y_test.astype(np.float32),alpha, mu, sigma).numpy()\n",
    "    return mdn_nll\n",
    "#reshapefunction\n",
    "def eval_mdn_model_mle(x_test,y_test):\n",
    "    \"\"\" Evaluate the model to get the loss by calculating the mle instead of fitting the model\n",
    "    \"\"\"\n",
    "    indices_1 = [i for i, x in enumerate(x_test) if x == 1]\n",
    "    #changing x to -1\n",
    "    indices_0 = [i for i, x in enumerate(x_test) if x == leftside]\n",
    "    mu_0=np.mean(y_test[indices_0])\n",
    "    mu_1=np.mean(y_test[indices_1])\n",
    "    sigma_0=np.std(y_test[indices_0])\n",
    "    sigma_1=np.std(y_test[indices_1])\n",
    "    y_mean=np.zeros((len(y_test),1))\n",
    "    y_mean[indices_1]=mu_1\n",
    "    y_mean[indices_0]=mu_0\n",
    "    y_std=np.zeros((len(y_test),1))\n",
    "    y_std[indices_1]=sigma_1\n",
    "    y_std[indices_0]=sigma_0\n",
    "    alpha=np.ones((len(y_mean),1))\n",
    "    return gnll_eval(y_test,alpha,y_mean,y_std).numpy()\n",
    "    \n",
    "def reshapevar(X):\n",
    "  \"\"\"\n",
    "  Function to reshape the vector for the input \n",
    "  \"\"\"\n",
    "  return np.reshape(X,newshape=(len(X),-1))"
   ]
  },
  {
   "cell_type": "code",
   "execution_count": 13,
   "metadata": {},
   "outputs": [],
   "source": [
    "#compute the losses including mle \n",
    "def compute_loss(P,Q,mle=False):\n",
    "    #Compute the loss for the given pair\n",
    "    \n",
    "    if(mle==False):\n",
    "        opt = tf.optimizers.Adam(1e-2)\n",
    "        mdn_PQ = MDN_module()\n",
    "        mdn_PQ.compile(loss=gnll_loss, optimizer=opt)\n",
    "        mdn_PQ.fit(x=reshapevar(P), y=np.array(Q).T,epochs=100,  batch_size=64,verbose=0)\n",
    "        #return np.array(nlcor.nlcor(P,Q)[0])[0]\n",
    "        return eval_mdn_model(P,Q,mdn_PQ)\n",
    "    else:\n",
    "        return eval_mdn_model_mle(P,Q)\n",
    "        \n",
    "        \n",
    "        \n"
   ]
  },
  {
   "cell_type": "code",
   "execution_count": 199,
   "metadata": {},
   "outputs": [],
   "source": [
    "#return the predicted y \n",
    "def compute_loss_y_pred(P,Q,mle=False):\n",
    "    \"\"\" Computes the model prediction for a given pair\n",
    "    \"\"\"\n",
    "    if(mle==False):\n",
    "        opt = tf.optimizers.Adam(1e-2)\n",
    "        mdn_PQ = MDN_module()\n",
    "        mdn_PQ.compile(loss=gnll_loss, optimizer=opt)\n",
    "        mdn_PQ.fit(x=reshapevar(P), y=np.array(Q).T,epochs=100,  batch_size=64,verbose=0)\n",
    "        y_pred = mdn_PQ.predict(np.reshape(P,newshape=(len(P),-1)))\n",
    "        return y_pred[:,1]\n",
    "    else:\n",
    "        indices_1 = [i for i, x in enumerate(P) if x == 1]\n",
    "        indices_0 = [i for i, x in enumerate(P) if x == leftside]\n",
    "        mu_0=np.mean(Q[indices_0])\n",
    "        mu_1=np.mean(Q[indices_1])\n",
    "        #sigma_0=np.std(Q[indices_0])\n",
    "        #sigma_1=np.std(Q[indices_1])\n",
    "        y_mean=np.zeros((len(Q),1))\n",
    "        y_mean[indices_1]=mu_1\n",
    "        y_mean[indices_0]=mu_0\n",
    "        return y_mean.reshape((len(y_mean),))\n",
    "        "
   ]
  },
  {
   "cell_type": "code",
   "execution_count": 200,
   "metadata": {},
   "outputs": [],
   "source": [
    "#used in L->A and L->B testing \n",
    "def shuffleBtimes(P,Q,B,mle=False):\n",
    "    \"\"\" Shuffle Q B times and compute the loss \n",
    "    \"\"\"\n",
    "    loss=[]\n",
    "    if(mle==False):\n",
    "        for i in range(0,B):\n",
    "          loss.append(compute_loss(P,np.random.permutation(Q)))\n",
    "    else: \n",
    "        for i in range(0,B):\n",
    "          loss.append(compute_loss(P,np.random.permutation(Q),True))\n",
    "    return loss\n"
   ]
  },
  {
   "cell_type": "code",
   "execution_count": 45,
   "metadata": {},
   "outputs": [],
   "source": [
    "# L = np.random.binomial(1,0.5,1000)  \n",
    "# A=6*L + np.random.normal(0,1,1000)\n",
    "# B=np.empty([1000,])\n",
    "# B[L==1]=-3*(A[L==1]-6)*(A[L==1]-6)+np.random.normal(0,1,len(A[L==1]))+10\n",
    "# B[L==0]=3*(A[L==0])*(A[L==0])+np.random.normal(0,1,len(A[L==0]))-24"
   ]
  },
  {
   "cell_type": "code",
   "execution_count": 16,
   "metadata": {},
   "outputs": [
    {
     "name": "stdout",
     "output_type": "stream",
     "text": [
      "21.473929004669188\n"
     ]
    }
   ],
   "source": [
    "A_test,y_pred_ones,y_pred_zeros=compute_third_testloss(L,A,B)\n",
    "print(sum(abs(y_pred_zeros[:,1]-y_pred_ones[:,1]))/1000)"
   ]
  },
  {
   "cell_type": "code",
   "execution_count": 202,
   "metadata": {},
   "outputs": [],
   "source": [
    "# plt.scatter(A,B)\n",
    "# plt.scatter(A_test,y_pred_ones[:,1])\n",
    "# plt.scatter(A_test,y_pred_zeros[:,1])"
   ]
  },
  {
   "cell_type": "code",
   "execution_count": 18,
   "metadata": {},
   "outputs": [
    {
     "name": "stdout",
     "output_type": "stream",
     "text": [
      "31.08948091125488\n"
     ]
    }
   ],
   "source": [
    "B_strat=stratifydata(L,B)\n",
    "A_test,y_ones,y_zeros=compute_third_testloss(L,A,B_strat)\n",
    "print(sum(abs(y_zeros[:,1]-y_ones[:,1]))/1000)"
   ]
  },
  {
   "cell_type": "code",
   "execution_count": 201,
   "metadata": {},
   "outputs": [],
   "source": [
    "# plt.scatter(A,B_strat)\n",
    "# plt.scatter(A_test,y_ones[:,1])\n",
    "# plt.scatter(A_test,y_zeros[:,1])"
   ]
  },
  {
   "cell_type": "code",
   "execution_count": 198,
   "metadata": {},
   "outputs": [],
   "source": [
    "#change this to read the files \n",
    "link=\"/data/users/cs20s037/CITNonLinear/LinearDifferentvalues/testing_writingvalues_diff_variance.txt\"\n",
    "number_of_samples=121"
   ]
  },
  {
   "cell_type": "code",
   "execution_count": 197,
   "metadata": {},
   "outputs": [],
   "source": [
    "\n",
    "fo=open(link, \"r\")\n",
    "L=[]\n",
    "A=[]\n",
    "B=[]\n",
    "#fe=open(\"dataset_params.txt\",'w')\n",
    "for i in range(0,number_of_samples):\n",
    "    line=fo.readline()\n",
    "    #fe.write(line)\n",
    "    #line=line[1:-2] #remove double quotes \n",
    "    #param = [j for j in line.split()]\n",
    "    #print(param)\n",
    "    #chrname.append(param[1])\n",
    "    #g1.append(param[2])\n",
    "    #g2.append(param[3])\n",
    "    line=fo.readline()\n",
    "    l = [j for j in line.split()]\n",
    "    L.append([int(i) for i in l])\n",
    "    line=fo.readline()\n",
    "    a = [j for j in line.split()]\n",
    "    A.append([float(i) for i in a])\n",
    "    line=fo.readline()\n",
    "    b = [j for j in line.split()]\n",
    "    B.append([float(i) for i in b])\n",
    "dataset_linear = [i for i in zip(L,A,B)]\n",
    "fo.close()\n",
    "#fe.close()"
   ]
  },
  {
   "cell_type": "code",
   "execution_count": 9,
   "metadata": {},
   "outputs": [],
   "source": [
    "def calculate_pvalue(original,loss_list):\n",
    "    '''\n",
    "    calculate the p value \n",
    "    '''\n",
    "    return sum(i < original for i in loss_list)/len(loss_list)\n",
    "    \n",
    "    "
   ]
  },
  {
   "cell_type": "code",
   "execution_count": 102,
   "metadata": {},
   "outputs": [],
   "source": [
    "#function to stratify the data\n",
    "def stratifydata(L,B):\n",
    "    indices_1 = [i for i, x in enumerate(L) if x == 1]\n",
    "    #changin x==0 to x=-1\n",
    "    indices_0 = [i for i, x in enumerate(L) if x == leftside]\n",
    "    B_dist_temp=np.zeros(len(B))\n",
    "    mod_indices_1=random.sample(indices_1,len(indices_1))\n",
    "    for i in range(len(indices_1)):\n",
    "        B_dist_temp[indices_1[i]]=B[mod_indices_1[i]]\n",
    "\n",
    "    mod_indices_0=random.sample(indices_0,len(indices_0))\n",
    "    for i in range(len(indices_0)):\n",
    "        B_dist_temp[indices_0[i]]=B[mod_indices_0[i]]\n",
    "    return B_dist_temp\n",
    "    "
   ]
  },
  {
   "cell_type": "code",
   "execution_count": 103,
   "metadata": {},
   "outputs": [],
   "source": [
    "def compute_third_testloss(L,A,B):\n",
    "    opt = tf.optimizers.Adam(1e-2)\n",
    "    mdn_PQ = MDN_module()\n",
    "    mdn_PQ.compile(loss=gnll_loss, optimizer=opt)\n",
    "##changing epochs didnt make much difference\n",
    "    mdn_PQ.fit(x=np.concatenate([L.reshape(-1,1),A.reshape(-1,1)],axis=1),y=np.array(B).T,epochs=100,batch_size=64,verbose=0)\n",
    "#mdn_PQ.fit(x=C, y=np.array(B).T,epochs=300,  batch_size=64)\n",
    "    #withoutL=mdn_PQ.fit(x=A, y=B.T,epochs=100,  batch_size=64,verbose=0)\n",
    "    L_ones=np.ones((L.shape))\n",
    "    #print(L_ones)\n",
    "    L_zeros=np.zeros((L.shape))\n",
    "    #print(sum(abs(y_pred_zeros[:,1]-y_pred_ones[:,1]))/1000)\n",
    "    #print(min(A))\n",
    "    #print(max(A))\n",
    "    A_test=A\n",
    "    y_pred_ones= mdn_PQ.predict(np.concatenate([L_ones.reshape(-1,1),A_test.reshape(-1,1)],axis=1))\n",
    "    y_pred_zeros= mdn_PQ.predict(np.concatenate([L_zeros.reshape(-1,1),A_test.reshape(-1,1)],axis=1))\n",
    "    #y_pred = mdn_PQ.predict(A)\n",
    "    return [A_test,y_pred_ones,y_pred_zeros]\n",
    "    #print(sum(y_pred_zeros[:,1]-y_pred_ones[:,1])/1000)\n",
    "    #alpha,mu,sigma = slice_parameter_vectors(y_pred)\n",
    "    "
   ]
  },
  {
   "cell_type": "code",
   "execution_count": 104,
   "metadata": {},
   "outputs": [],
   "source": [
    "def stratify_B_n_times_diff(L,A,B,n):\n",
    "    loss=[]\n",
    "    indices_1 = [i for i, x in enumerate(L) if x == 1]\n",
    "    #changin x==0 to x=-1\n",
    "    indices_0 = [i for i, x in enumerate(L) if x == leftside]\n",
    "    for i in range(0,n):\n",
    "        B_dist_temp=np.zeros(len(B))\n",
    "        mod_indices_1=random.sample(indices_1,len(indices_1))\n",
    "        for i in range(len(indices_1)):\n",
    "            B_dist_temp[indices_1[i]]=B[mod_indices_1[i]]\n",
    "\n",
    "        mod_indices_0=random.sample(indices_0,len(indices_0))\n",
    "        for i in range(len(indices_0)):\n",
    "            B_dist_temp[indices_0[i]]=B[mod_indices_0[i]]\n",
    "        _,y_pred_ones,y_pred_zeros=compute_third_testloss(L,A,B_dist_temp)\n",
    "        \n",
    "        loss.append(abs(sum(y_pred_zeros[:,1]-y_pred_ones[:,1])/1000))\n",
    "    return loss"
   ]
  },
  {
   "cell_type": "code",
   "execution_count": 15,
   "metadata": {},
   "outputs": [
    {
     "ename": "NameError",
     "evalue": "name 'j' is not defined",
     "output_type": "error",
     "traceback": [
      "\u001b[0;31m---------------------------------------------------------------------------\u001b[0m",
      "\u001b[0;31mNameError\u001b[0m                                 Traceback (most recent call last)",
      "\u001b[0;32m<ipython-input-15-e437977bf0d8>\u001b[0m in \u001b[0;36m<module>\u001b[0;34m\u001b[0m\n\u001b[0;32m----> 1\u001b[0;31m \u001b[0;32mfor\u001b[0m \u001b[0mi\u001b[0m \u001b[0;32min\u001b[0m \u001b[0mrange\u001b[0m\u001b[0;34m(\u001b[0m\u001b[0mj\u001b[0m\u001b[0;34m,\u001b[0m\u001b[0mj\u001b[0m\u001b[0;34m+\u001b[0m\u001b[0mn\u001b[0m\u001b[0;34m)\u001b[0m\u001b[0;34m:\u001b[0m\u001b[0;34m\u001b[0m\u001b[0;34m\u001b[0m\u001b[0m\n\u001b[0m\u001b[1;32m      2\u001b[0m     \u001b[0mA\u001b[0m\u001b[0;34m=\u001b[0m\u001b[0mnp\u001b[0m\u001b[0;34m.\u001b[0m\u001b[0marray\u001b[0m\u001b[0;34m(\u001b[0m\u001b[0mdataset_linear\u001b[0m\u001b[0;34m[\u001b[0m\u001b[0mi\u001b[0m\u001b[0;34m]\u001b[0m\u001b[0;34m[\u001b[0m\u001b[0;36m1\u001b[0m\u001b[0;34m]\u001b[0m\u001b[0;34m)\u001b[0m\u001b[0;34m\u001b[0m\u001b[0;34m\u001b[0m\u001b[0m\n\u001b[1;32m      3\u001b[0m     \u001b[0mB\u001b[0m\u001b[0;34m=\u001b[0m\u001b[0mnp\u001b[0m\u001b[0;34m.\u001b[0m\u001b[0marray\u001b[0m\u001b[0;34m(\u001b[0m\u001b[0mdataset_linear\u001b[0m\u001b[0;34m[\u001b[0m\u001b[0mi\u001b[0m\u001b[0;34m]\u001b[0m\u001b[0;34m[\u001b[0m\u001b[0;36m2\u001b[0m\u001b[0;34m]\u001b[0m\u001b[0;34m)\u001b[0m\u001b[0;34m\u001b[0m\u001b[0;34m\u001b[0m\u001b[0m\n\u001b[1;32m      4\u001b[0m     \u001b[0mL\u001b[0m\u001b[0;34m=\u001b[0m\u001b[0mnp\u001b[0m\u001b[0;34m.\u001b[0m\u001b[0marray\u001b[0m\u001b[0;34m(\u001b[0m\u001b[0mdataset_linear\u001b[0m\u001b[0;34m[\u001b[0m\u001b[0mi\u001b[0m\u001b[0;34m]\u001b[0m\u001b[0;34m[\u001b[0m\u001b[0;36m0\u001b[0m\u001b[0;34m]\u001b[0m\u001b[0;34m)\u001b[0m\u001b[0;34m\u001b[0m\u001b[0;34m\u001b[0m\u001b[0m\n\u001b[1;32m      5\u001b[0m     \u001b[0mshuffles\u001b[0m\u001b[0;34m=\u001b[0m\u001b[0;36m100\u001b[0m\u001b[0;34m\u001b[0m\u001b[0;34m\u001b[0m\u001b[0m\n",
      "\u001b[0;31mNameError\u001b[0m: name 'j' is not defined"
     ]
    }
   ],
   "source": [
    "for i in range(j,j+n): \n",
    "    A=np.array(dataset_linear[i][1])\n",
    "    B=np.array(dataset_linear[i][2])\n",
    "    L=np.array(dataset_linear[i][0])\n",
    "    shuffles=100\n",
    "    A_shuffle=np.copy(A)\n",
    "    B_shuffle=np.copy(B)\n",
    "    #print(\"Original\",B_shuffle)\n",
    "    loss_list_LA=shuffleBtimes(L,A_shuffle,shuffles,True)\n",
    "    loss_list_LB=shuffleBtimes(L,B_shuffle,shuffles,True)\n",
    "    loss_list_Bresidual=stratify_B_n_times_diff(L,A_shuffle,B_shuffle,shuffles) #conditional independence test\n",
    "    true_LA=compute_loss(L,A,True)\n",
    "    true_LB=compute_loss(L,B,True)\n",
    "    #true_LBresidual=calculate_difference(L,A,B)\n",
    "    #loss_list_Bresidual,true_LBresidual=calculateLshuffle(L,A,B,shuffles)\n",
    "    _,y_pred_ones,y_pred_zeros=compute_third_testloss(L,A,B)\n",
    "    true_LBresidual=abs(sum(y_pred_zeros[:,1]-y_pred_ones[:,1])/1000)\n",
    "    LA_p=calculate_pvalue(true_LA,loss_list_LA)\n",
    "    LB_p=calculate_pvalue(true_LB,loss_list_LB)\n",
    "    AB_p=calculate_pvalue(true_LBresidual,loss_list_Bresidual)\n",
    "    \n",
    "    f.write(str(i)+\",\"+str(LA_p)+\",\"+str(LB_p)+\",\"+str(AB_p)+\"\\n\")\n",
    "    #f.write(str(indices[i])+\",\"+str(LA_p)+\",\"+str(LB_p)+\",\"+str(AB_p)+\"\\n\")\n",
    "    #pickle_items=[loss_list_LA,loss_list_LB,loss_list_Bresidual,true_LA,true_LB,true_LBresidual,LA_p,LB_p,AB_p]\n",
    "    #file_name=str(dataset_names[i])+\".pkl\"\n",
    "    #open_file = open(\"./DLresultspickle1000shuffle/\"+file_name, \"wb\")\n",
    "    #pickle.dump(pickle_items, open_file)\n",
    "    #open_file.close()"
   ]
  },
  {
   "cell_type": "code",
   "execution_count": 63,
   "metadata": {},
   "outputs": [],
   "source": [
    "import numpy as np\n",
    "import matplotlib.pyplot as plt\n",
    "import pandas as pd\n",
    "from sklearn.svm import SVR"
   ]
  },
  {
   "cell_type": "code",
   "execution_count": 64,
   "metadata": {},
   "outputs": [],
   "source": [
    "regressor = SVR(kernel = 'rbf')"
   ]
  },
  {
   "cell_type": "code",
   "execution_count": 123,
   "metadata": {},
   "outputs": [],
   "source": [
    "i=99"
   ]
  },
  {
   "cell_type": "code",
   "execution_count": 124,
   "metadata": {},
   "outputs": [],
   "source": [
    "A=np.array(dataset_linear[i][1])\n",
    "B=np.array(dataset_linear[i][2])\n",
    "L=np.array(dataset_linear[i][0])"
   ]
  },
  {
   "cell_type": "code",
   "execution_count": 181,
   "metadata": {},
   "outputs": [
    {
     "data": {
      "text/plain": [
       "Text(0.5, 1.0, 'A vs B')"
      ]
     },
     "execution_count": 181,
     "metadata": {},
     "output_type": "execute_result"
    },
    {
     "data": {
      "image/png": "[encoded data removed]",
      "text/plain": [
       "<Figure size 432x288 with 1 Axes>"
      ]
     },
     "metadata": {
      "needs_background": "light"
     },
     "output_type": "display_data"
    }
   ],
   "source": [
    "plt.scatter(A,B,c=L)\n",
    "plt.title(\"A vs B\")"
   ]
  },
  {
   "cell_type": "code",
   "execution_count": 48,
   "metadata": {},
   "outputs": [
    {
     "data": {
      "text/plain": [
       "array([-3.59664187e-01,  3.16186368e-01,  7.57827510e-01, -1.02370691e-01,\n",
       "        2.45284639e-01,  2.49399671e+00, -6.99442929e-01, -2.90473451e-01,\n",
       "        5.57190611e-01, -2.96041077e-01,  4.93367650e-01, -9.56804529e-01,\n",
       "        8.67577109e-01,  5.34851042e-01,  1.44068245e-01,  6.07658887e-01,\n",
       "       -6.78125985e-01, -2.36231909e-01,  3.04266831e-01,  1.26922827e-01,\n",
       "       -2.19167665e+00,  5.96956969e-02,  1.83807274e-01,  4.18501525e-01,\n",
       "        6.05344728e-01, -1.87150747e-01, -1.14344877e-01,  2.87419076e-01,\n",
       "        3.96039989e-01,  1.07970888e+00,  3.67040081e-01,  6.40716474e-01,\n",
       "        1.14805479e-01, -7.98902692e-01,  1.24918163e+00, -1.62147615e+00,\n",
       "        7.81526424e-01,  1.22726184e+00, -1.19559152e+00, -1.94683841e+00,\n",
       "       -2.70911903e-01,  4.46149356e-01,  6.40654090e-02,  2.11707388e-01,\n",
       "       -3.35647629e-01,  1.36404583e+00,  1.02356528e-01,  7.75753667e-01,\n",
       "        1.05922100e+00, -5.68367737e-01,  9.86299527e-01, -1.41367422e+00,\n",
       "        2.78018899e-01,  1.00825376e-01,  6.99780088e-01,  1.41699417e-01,\n",
       "        4.18087284e-01, -4.54656585e-01, -1.49712297e+00,  3.95650304e-01,\n",
       "        7.75671037e-02, -3.71997677e-01,  4.34991972e-01, -2.46837930e-01,\n",
       "        2.82803040e-01,  1.50338661e-01, -9.40416723e-02,  6.57380414e-01,\n",
       "        7.33240887e-01, -7.87156686e-02, -1.23035174e-01,  2.37331591e+00,\n",
       "        2.11455223e+00, -1.01483925e+00,  2.86501835e-01,  1.18921187e+00,\n",
       "        6.45371727e-01,  4.18723130e-01,  8.68952296e-01,  5.52774095e-01,\n",
       "        3.90703707e-01,  1.52957990e+00, -1.63391479e+00, -3.46325408e-01,\n",
       "        1.24708636e+00, -1.26979743e+00, -3.66312635e-01,  3.89995081e-01,\n",
       "        5.61234362e-01,  1.10517780e+00, -1.46943038e+00, -7.53848452e-02,\n",
       "       -5.13287742e-01, -1.45627214e-01,  1.19532432e-01, -8.45162353e-02,\n",
       "       -9.70947747e-02, -1.67372049e+00, -3.26510234e-02,  4.00927441e-01,\n",
       "       -2.49422268e-02,  4.24766578e-01,  1.21164152e+00, -3.47201397e-02,\n",
       "        3.16384791e-01,  1.69351954e+00,  1.17070534e+00,  1.11269124e+00,\n",
       "        6.88560976e-01,  4.41912032e-01,  1.64597551e-01,  2.47697124e-01,\n",
       "       -1.18182088e+00,  4.16272789e-01,  8.78252180e-02,  6.53925583e-01,\n",
       "        6.72484337e-02,  1.97890577e+00, -8.74419292e-01,  1.05975357e+00,\n",
       "       -1.40685962e+00,  5.72142459e-01, -1.06396869e+00,  3.57654598e-01,\n",
       "        1.57644128e-01, -3.71804824e-01,  2.78254185e-01,  6.29324316e-01,\n",
       "        1.09481092e+00, -1.85232000e+00,  4.62420122e-01,  6.44979510e-01,\n",
       "       -1.56410565e+00, -1.39779039e+00, -3.71502575e-01,  1.30724975e+00,\n",
       "        7.69984346e-01,  7.44578505e-01,  8.23097966e-01, -1.34123372e+00,\n",
       "        7.89867571e-01,  4.45659471e-03,  1.15334437e-01,  1.16500176e+00,\n",
       "       -1.05877028e-02,  5.31547489e-01, -3.30672981e-01, -1.21947762e+00,\n",
       "       -4.44654590e-01, -5.47406102e-01, -1.67356027e+00,  1.12813731e+00,\n",
       "       -3.58301816e-01, -2.34496482e+00,  4.14533946e-01,  1.00754811e+00,\n",
       "       -1.58356740e+00, -3.68540222e-02, -2.07788502e+00, -7.88670438e-01,\n",
       "        7.83324458e-01,  8.45909338e-01,  1.19979859e+00, -1.80502879e+00,\n",
       "        5.04349360e-01,  5.16759030e-01, -5.29491995e-01,  1.06926598e+00,\n",
       "        1.52453162e+00,  7.75391509e-01,  1.87492318e-01,  7.43259282e-01,\n",
       "        3.70694176e-01, -5.08826718e-01, -9.22290036e-01,  3.41277204e-01,\n",
       "       -8.47058568e-01, -2.68288633e-02, -2.79383820e-01,  9.40376955e-01,\n",
       "        1.74941590e+00, -7.86379873e-01,  3.07192151e-01, -1.37630443e+00,\n",
       "       -5.11414485e-01, -1.52683472e+00,  2.36060037e-02,  1.46507950e+00,\n",
       "        8.87807238e-01,  4.87360647e-01,  1.53862827e+00,  4.07635238e-01,\n",
       "        3.46898529e-01,  5.10598327e-01,  6.15051739e-01,  1.27633294e+00,\n",
       "       -5.30750889e-01,  1.40725506e+00,  5.30656057e-01, -2.11701970e-01,\n",
       "       -1.72769752e-01, -5.65098536e-01, -6.81482255e-01, -8.89624025e-01,\n",
       "       -5.49704421e-01, -7.52102018e-01,  1.24387001e+00,  2.65089867e+00,\n",
       "        1.46295669e-01,  1.39414545e+00, -1.52173244e+00,  7.02760050e-01,\n",
       "       -5.69211008e-01, -1.05622728e+00,  1.06638073e+00, -8.10249051e-01,\n",
       "       -1.09000231e+00, -1.45277477e-02, -5.30293955e-02, -5.34939938e-01,\n",
       "       -9.26252533e-01,  6.53993421e-01, -1.71753689e+00,  1.28614418e+00,\n",
       "       -2.18732645e-01,  5.65187587e-02, -8.73876450e-01, -5.57127451e-01,\n",
       "        5.75412840e-01,  1.94154663e+00,  8.16518274e-01, -5.68295773e-01,\n",
       "        9.83417773e-01, -4.32295980e-01, -5.29100671e-01, -3.12908298e-01,\n",
       "       -1.51607322e+00,  9.03441426e-01,  1.58194701e+00,  1.43687096e+00,\n",
       "       -1.01292278e+00, -9.50181023e-01,  1.51159568e+00, -9.82039017e-01,\n",
       "       -1.32020683e+00,  1.06129857e-01,  2.84641384e-01,  2.59352428e-01,\n",
       "        1.71057304e+00, -3.47863755e-01, -1.06776292e-01,  8.77343056e-01,\n",
       "        5.84189085e-02, -9.97906838e-02, -2.28381879e+00,  1.09028171e-01,\n",
       "       -8.83657129e-01, -6.57567539e-01,  5.33474430e-01,  7.28161896e-01,\n",
       "       -9.56945070e-01, -2.43764944e+00,  9.06537540e-01,  3.46461723e-01,\n",
       "       -3.77387703e-01, -7.50080691e-01, -7.25957461e-01,  1.60723465e-01,\n",
       "       -7.43514328e-01,  2.14689058e-01,  2.86217649e-01,  2.11299328e-02,\n",
       "        5.68166877e-01, -5.68838280e-01,  5.64544376e-01, -7.54716430e-01,\n",
       "       -2.28625842e-01,  2.16644280e+00,  8.12505771e-01,  8.68496028e-01,\n",
       "       -2.73347020e+00,  2.41145882e+00, -7.31328054e-01, -1.77183140e-01,\n",
       "        9.59427255e-01, -7.90989272e-01, -1.01339073e+00, -2.38079766e+00,\n",
       "       -9.16599623e-01, -1.33370248e+00, -6.41874346e-01, -4.66547310e-01,\n",
       "       -5.13667374e-01, -1.00306719e+00,  1.48846735e+00,  2.55530982e+00,\n",
       "        5.02175424e-01,  1.17232584e+00,  1.16784593e+00,  2.89093187e-01,\n",
       "        1.27870644e+00,  1.03876007e+00,  9.00818922e-01, -3.11471430e-02,\n",
       "        6.97943304e-01,  7.42993137e-02,  1.36877787e+00, -4.01494918e-01,\n",
       "        1.36179677e+00,  5.57036141e-01,  3.82283249e-02,  1.46421450e+00,\n",
       "        6.84408393e-01,  5.68144095e-01,  3.48440612e-01,  6.88441308e-01,\n",
       "       -7.83452447e-02,  5.56509589e-01,  1.96424589e+00, -4.52164123e-01,\n",
       "       -2.28945678e-01, -2.10916789e-01,  7.63002786e-01,  9.67064430e-02,\n",
       "       -1.98943871e+00, -7.50641661e-01,  1.04771452e+00, -3.68728123e-02,\n",
       "       -1.19983308e+00,  1.06245469e+00,  1.83500927e-01, -2.69078546e-01,\n",
       "        6.21473084e-01, -6.67868195e-01, -3.37953522e-01,  8.42529868e-01,\n",
       "        3.36771688e-01, -9.43567846e-02,  1.30203262e+00,  1.05707639e+00,\n",
       "        1.14009359e+00,  7.40246303e-01,  6.72470825e-01,  9.52887862e-01,\n",
       "        1.10769910e+00, -9.08247172e-01,  4.29477355e-02,  1.75581616e+00,\n",
       "        5.24957381e-01, -1.08540519e+00, -1.42301625e-01, -1.63381272e+00,\n",
       "       -3.25852797e-02, -4.81571780e-02, -3.99809538e-01, -4.34093248e-01,\n",
       "       -3.46734799e-01, -4.93185876e-01,  1.09591028e+00,  5.84280888e-01,\n",
       "       -1.20459350e+00,  6.61835030e-01,  1.33026425e+00, -1.42312288e+00,\n",
       "        7.47060905e-02, -5.46556964e-01, -7.71036244e-01,  6.92708160e-01,\n",
       "       -5.71123637e-01,  1.84241617e-01, -1.31946446e+00,  7.02248202e-01,\n",
       "       -2.58761760e-01, -1.16690544e+00,  8.19789543e-01,  1.13129827e+00,\n",
       "       -9.59922657e-01, -7.87075480e-01, -1.40959941e+00,  4.04958326e-02,\n",
       "       -4.64991456e-01,  2.53372967e-01,  1.77458570e+00, -2.19430918e-01,\n",
       "        1.31137877e+00,  3.72617873e-01, -3.14404165e-01,  1.53503068e+00,\n",
       "       -1.61725844e+00,  1.48294503e+00, -1.34426407e+00,  7.60272215e-01,\n",
       "        1.77848184e+00, -2.48495329e-01,  1.61881710e-01,  6.80321997e-01,\n",
       "        1.07667231e+00,  3.60845602e-02,  2.95624147e-01, -4.86980587e-01,\n",
       "       -1.73216497e-01, -9.63455306e-01, -4.74203121e-02, -1.51070425e+00,\n",
       "        9.82164585e-01,  1.19081359e+00,  1.26396862e+00,  8.95145568e-01,\n",
       "        1.85654358e+00,  3.21384018e-01,  1.57593507e+00,  3.53081636e-02,\n",
       "       -1.12840223e+00, -1.52764092e-01,  1.09719819e+00,  1.80810737e-01,\n",
       "       -7.95392229e-01,  1.25007194e+00,  5.71072297e-01, -1.34635212e+00,\n",
       "       -5.91345465e-01, -1.08758384e+00, -1.96160524e-01, -1.06338255e+00,\n",
       "        5.69973240e-01,  1.49270178e-01, -4.40391956e-01,  7.24014697e-01,\n",
       "       -1.87875950e-01, -8.02036518e-01, -3.73744801e-01,  3.24399182e-01,\n",
       "        4.73493745e-01,  1.24682535e+00,  6.75606366e-01, -9.86708380e-03,\n",
       "       -5.72952368e-01,  5.25307395e-01,  1.57451319e+00,  3.54491415e-01,\n",
       "        3.62130353e-01,  5.99288040e-01,  1.26041873e+00,  6.73987130e-01,\n",
       "        1.68182437e-02,  1.09089245e+00, -1.41492699e+00,  1.34536497e+00,\n",
       "       -1.93831318e-01, -2.50589812e+00, -1.83399690e-01,  9.78681395e-01,\n",
       "        2.42587514e-01,  7.23152479e-01,  1.03154308e+00,  4.77249004e-01,\n",
       "       -1.95405326e+00, -4.42662939e-01,  4.44294551e-01, -1.82084044e-02,\n",
       "        1.78149921e+00, -4.31339233e-01,  1.19401926e+00,  3.64630278e-01,\n",
       "       -1.55399073e+00, -4.42444240e-01,  1.23529172e+00,  5.19059106e-01,\n",
       "        1.27762537e+00,  1.67088570e+00, -7.23055255e-01,  1.09738991e-01,\n",
       "        4.45329646e-01, -6.83809446e-01, -2.32712694e-01,  2.03811688e-01,\n",
       "        8.21406414e-01, -8.14775472e-02,  4.65450370e-01,  1.35594526e+00,\n",
       "       -1.10293435e+00,  5.77801213e-01,  1.39019963e+00, -9.52929245e-01,\n",
       "       -6.68316384e-01, -1.18061691e+00,  8.29558885e-01, -3.20413004e-01,\n",
       "       -1.17590630e-01,  5.79310137e-01,  1.10185194e+00,  1.16862759e+00,\n",
       "       -1.50851292e+00,  1.06250728e+00, -1.35009710e+00, -5.65118230e-01,\n",
       "        1.46179700e+00, -6.63647612e-01,  7.26485432e-01,  8.74219217e-01,\n",
       "        9.34051329e-01,  4.29898047e-01, -7.88173384e-01, -3.82419198e-01,\n",
       "       -5.14613599e-01,  4.01222912e-01,  7.56796703e-01,  7.54604971e-01,\n",
       "       -6.89146019e-01, -9.86166311e-03,  7.12823879e-01,  2.20532110e+00,\n",
       "        9.96971666e-01,  4.56250059e-01,  5.49528290e-01, -1.20094078e+00,\n",
       "       -4.73630852e-02,  8.92179298e-01, -1.27385540e-01,  1.73354877e-01,\n",
       "       -1.43308610e+00,  9.47898482e-01,  1.20399168e+00,  1.82010935e-01,\n",
       "        7.66496845e-01, -1.23166866e+00, -1.58805104e-01, -7.91509914e-01,\n",
       "        4.36924973e-01, -5.82216883e-01,  4.43860071e-02,  1.22883288e+00,\n",
       "       -7.47907637e-01,  1.17757962e+00, -1.30555810e+00, -1.72753135e+00,\n",
       "       -1.72851469e-01, -8.90014429e-01,  6.54517805e-01, -5.87419299e-01,\n",
       "       -6.06464672e-02, -8.86924248e-01, -1.59587706e+00,  5.80474647e-01,\n",
       "        4.29619495e-02,  1.56066181e-01,  1.89110886e+00, -1.37019890e+00,\n",
       "        1.04276775e+00,  1.54723347e-01, -7.46498887e-01,  6.49840655e-02,\n",
       "        6.06421574e-01, -2.02037217e+00,  5.32219822e-01, -1.22068606e+00,\n",
       "        1.98275037e+00,  4.81080655e-01,  2.60415470e-01,  1.96208730e-01,\n",
       "        1.00122506e+00,  9.99289344e-01,  6.07867995e-01, -6.14791871e-01,\n",
       "       -1.33568170e+00,  5.83766321e-01, -4.04176848e-01,  1.07683655e+00,\n",
       "        1.06839745e+00, -4.83499180e-01, -1.26111281e+00,  3.26889517e-01,\n",
       "       -3.76047910e-01,  2.27708499e-01,  2.03320197e+00, -1.97984356e-01,\n",
       "        1.59452752e-02, -2.38144520e-01,  2.57744540e+00, -3.79266032e-01,\n",
       "       -3.51472744e-02,  7.70845475e-01, -9.09372417e-01, -1.06388346e+00,\n",
       "        4.49180727e-01, -5.03354590e-01,  8.89726217e-01,  6.14674192e-01,\n",
       "       -2.09703238e-02,  7.62776572e-01, -1.01413476e-01,  7.12245880e-01,\n",
       "       -8.13793086e-01,  1.01429206e+00, -1.34973229e+00, -5.32893122e-01,\n",
       "        1.70416868e+00, -6.65726515e-02,  4.72170749e-01,  7.45356321e-01,\n",
       "        1.10856748e+00,  4.16259342e-01,  5.27242161e-01,  1.54926935e+00,\n",
       "       -6.32300872e-01,  9.78441004e-01,  5.21233370e-01, -3.46833864e-01,\n",
       "        1.05616257e+00,  6.94216698e-01, -2.27893938e-01, -5.21726849e-01,\n",
       "       -1.43864308e+00,  8.89220948e-01,  1.71157704e+00,  1.11790230e+00,\n",
       "        7.81278155e-01,  5.63297027e-01, -6.62218373e-01, -4.64247350e-02,\n",
       "       -5.50200840e-01, -1.28563760e+00, -1.66759315e+00,  8.58536062e-01,\n",
       "       -1.43447061e+00,  7.33973380e-01, -3.55025579e-01, -1.78107693e+00,\n",
       "       -9.61947878e-01, -2.07546662e+00,  1.97003528e+00,  2.15081231e-01,\n",
       "        3.22469279e-01, -7.34151484e-02,  9.74381719e-01,  6.90380996e-01,\n",
       "       -9.11818129e-01, -2.70267802e-01, -6.64159748e-01,  2.28107876e+00,\n",
       "       -5.25772760e-01,  1.52525076e-01, -1.68711882e+00,  3.86289526e-01,\n",
       "        1.00245284e+00, -9.58171958e-01, -9.16586994e-01, -1.66859343e+00,\n",
       "        2.74563767e+00, -2.32938440e-01,  6.41456692e-01, -7.77438494e-01,\n",
       "        3.92197310e-01, -1.13001552e+00,  1.22206844e+00,  1.10927375e+00,\n",
       "       -5.24927889e-01, -8.69084075e-01, -6.23905701e-01, -1.18231713e+00,\n",
       "       -7.52019851e-01, -1.18021748e+00,  6.19164832e-01, -7.35266687e-01,\n",
       "        8.12376142e-01, -3.67342077e-01, -1.21167683e+00,  1.10285057e-01,\n",
       "        3.81918612e-01, -3.00372004e-01,  1.54605926e+00,  1.00575069e+00,\n",
       "       -8.46267805e-01,  3.01854496e-01,  1.40763360e+00, -7.55893504e-02,\n",
       "       -1.06463269e+00, -9.22701933e-01,  1.56114748e-01, -4.96516858e-01,\n",
       "       -1.61620135e+00,  4.34343483e-01, -1.84790003e+00, -7.82712488e-01,\n",
       "        5.29338362e-01,  7.25253431e-01, -8.95506424e-02, -8.94032859e-01,\n",
       "        5.67901138e-01, -4.33813006e-01,  3.97835238e-01, -6.11822662e-01,\n",
       "       -1.36765950e+00,  1.79084441e+00, -4.25920084e-01,  9.14755659e-01,\n",
       "       -1.00034466e+00, -1.50135613e+00, -2.47547330e+00, -1.15014023e+00,\n",
       "        1.00422338e+00, -8.71464968e-01,  6.45717487e-01,  1.99344836e+00,\n",
       "        3.62156444e-01,  3.25743006e-01,  1.56173063e+00, -5.17131894e-01,\n",
       "       -9.94000243e-01, -1.76205428e+00,  8.45070729e-02,  4.08607311e-02,\n",
       "       -1.51729336e+00, -2.80769433e-01,  1.49649419e+00,  2.45534923e-01,\n",
       "       -8.66790017e-01, -1.33083268e-01,  1.66188745e+00,  1.12880311e+00,\n",
       "        8.01784680e-01,  8.48311539e-01,  8.09208431e-01,  5.11658604e-01,\n",
       "       -1.88252605e-01,  6.07370962e-01,  5.42972247e-01,  9.30686647e-01,\n",
       "       -2.46384957e-01,  2.23786759e-01,  3.87662220e-01,  1.09309943e-01,\n",
       "       -8.91964265e-01, -6.93772394e-01, -5.59575368e-01,  1.00661264e+00,\n",
       "        2.42825429e-01,  6.39817888e-01,  2.02277091e-02, -2.00826628e-02,\n",
       "       -1.38216443e-01, -1.66965897e+00, -1.40003210e+00, -7.86682020e-01,\n",
       "        1.19289737e+00,  9.28801361e-01,  4.88128861e-01, -1.62041843e-02,\n",
       "       -1.77055523e+00,  1.27799796e+00, -9.88940598e-01, -1.15035254e+00,\n",
       "        1.17813603e-01, -1.10380465e-01,  6.91954361e-01, -2.26934395e+00,\n",
       "       -1.16320034e+00,  9.94478379e-01,  6.45902664e-01,  5.90751456e-02,\n",
       "       -4.84950558e-01, -3.16808544e+00,  1.32541989e-01,  1.43341360e+00,\n",
       "       -4.75916682e-01,  4.57124379e-01,  5.75120297e-02,  5.94129976e-01,\n",
       "        3.56935147e-01, -1.13179605e+00,  1.24354908e+00,  4.91617029e-01,\n",
       "       -7.16405694e-02,  4.39707560e-01, -5.71376173e-02, -4.00009405e-01,\n",
       "        2.22333888e+00,  9.20995427e-01, -3.16088036e-02, -1.55042237e-01,\n",
       "        3.72161232e-01, -8.58774208e-01,  1.31669064e+00, -2.92336800e-01,\n",
       "        7.80963623e-01,  7.68392185e-01,  9.25841645e-02, -1.48182138e+00,\n",
       "        1.40707600e+00, -1.15667096e+00,  7.56266702e-01, -3.56713893e-01,\n",
       "       -5.64532578e-01, -2.32015300e-01,  1.38084646e+00, -5.95248098e-02,\n",
       "        5.28552845e-01,  1.56086408e+00, -1.79572266e+00, -2.12826541e-02,\n",
       "        4.67422025e-02,  2.06444589e+00,  7.97523584e-02,  7.98713111e-01,\n",
       "        1.16049791e+00,  8.47190084e-01,  1.71216479e-01, -1.20854540e+00,\n",
       "       -1.73679181e-01,  4.37060961e-01,  4.66896125e-01, -6.02382235e-01,\n",
       "       -8.89820365e-02,  4.24963941e-01, -3.81082805e-02, -8.19431582e-01,\n",
       "       -8.03079961e-01, -2.23457801e-01, -3.11330050e-01, -1.34235889e-01,\n",
       "        7.76222619e-01, -7.65545898e-01, -4.67048511e-02, -9.93200793e-01,\n",
       "        2.56889434e-01, -5.89191619e-01,  1.27979385e+00, -1.20798754e+00,\n",
       "        7.08954216e-01, -2.16211222e-01,  1.49635329e-01,  5.92625290e-01,\n",
       "       -2.24454769e-01,  7.50485724e-02, -4.83568975e-01, -7.35889866e-01,\n",
       "       -5.92808299e-01, -9.03768675e-01, -7.85671848e-01, -2.37319805e-01,\n",
       "       -1.04363800e+00, -7.59818920e-01,  1.30585276e+00, -1.72325106e-01,\n",
       "        8.64160589e-01,  1.44438492e+00,  1.13698304e+00,  1.50622724e-02,\n",
       "        5.97249050e-01,  4.80503438e-02,  6.56211749e-01, -3.33001162e-02,\n",
       "       -2.98100246e-01,  5.13968030e-01, -7.36381815e-01,  8.56556862e-01,\n",
       "        2.03742269e-01, -3.50338175e-01, -1.11931364e+00,  1.84578270e+00,\n",
       "       -1.25872749e+00,  1.17667115e-01,  7.83547456e-01,  8.74828066e-01,\n",
       "       -5.11949702e-01,  7.63971186e-01,  8.16940187e-01, -6.43124652e-01,\n",
       "       -3.46700897e-01, -1.67266238e-01,  3.53637191e-01, -4.65187802e-01,\n",
       "       -1.48720457e-01,  4.71355855e-01,  6.73402362e-01,  6.23778014e-01,\n",
       "        7.01884090e-01, -5.13457470e-01,  8.26265002e-02, -3.87911550e-01,\n",
       "       -3.56091539e-01,  5.35818137e-01,  1.65331645e+00,  1.21369915e+00,\n",
       "        5.01613782e-02,  7.94738923e-01, -8.85887109e-01,  1.17111539e-01,\n",
       "        7.28655710e-02,  9.10265519e-01, -4.90173336e-01, -7.46811240e-01,\n",
       "        6.38588010e-01, -2.64464860e-02, -8.00184212e-01, -1.39843987e+00,\n",
       "        7.67001784e-02, -2.68557362e-01, -2.88589031e-01,  2.47654586e-01,\n",
       "        8.20791817e-01,  7.49739875e-01,  1.27186741e+00, -9.67443610e-02,\n",
       "        9.40876953e-01, -6.90498249e-01,  1.44737614e-01,  1.06953050e-01,\n",
       "       -2.05097429e-01, -7.87612758e-01, -7.45714683e-01,  8.84339138e-01,\n",
       "        8.22172372e-01, -7.33668987e-01, -4.22271050e-01, -3.69379705e-01,\n",
       "       -5.51225205e-01, -7.09530070e-01, -1.54670352e+00,  8.60558053e-01,\n",
       "        2.75454273e-01,  1.38117672e+00, -1.25873101e+00,  1.41542831e+00,\n",
       "       -1.34055131e-01, -8.01352909e-02,  4.31668894e-01, -4.51432735e-02,\n",
       "       -4.17998091e-01,  6.35165489e-01, -2.39792115e-01,  1.34110394e+00,\n",
       "       -1.27401040e+00, -1.15761484e+00,  1.45391825e+00, -5.18173340e-01,\n",
       "        1.09428646e+00, -2.21708824e+00, -2.25996472e-01, -6.64630460e-01,\n",
       "       -3.10722106e-01, -3.15443691e-01, -2.53879809e-01, -6.22062153e-01,\n",
       "       -1.02142714e-01,  2.32787102e-01,  9.59832359e-01,  7.61526834e-03,\n",
       "        1.23854582e+00, -1.92308947e+00,  1.13780749e+00,  4.50909807e-01,\n",
       "       -6.37522044e-01,  1.13857983e+00,  2.26117671e-01, -6.26998531e-01,\n",
       "       -4.34927536e-01,  3.88181823e-01,  8.55173219e-01,  9.70478102e-02,\n",
       "       -7.39250691e-02, -1.36152603e+00,  1.92507343e+00,  7.24205188e-02,\n",
       "        2.80733688e+00, -1.50698733e-02,  4.48538790e-01,  1.48429664e-01,\n",
       "       -3.98117174e-01, -4.61815013e-01, -4.71453141e-01,  7.56634914e-01,\n",
       "        1.01808800e+00, -8.73099126e-01, -1.26102225e-01,  3.70591224e-01,\n",
       "        9.08745814e-01, -9.98574501e-04, -1.24820499e+00,  1.66948928e+00,\n",
       "       -7.41033534e-02, -9.81487494e-01,  1.21024894e+00,  8.43362623e-01,\n",
       "       -4.12276117e-01,  8.59550754e-01,  8.89258733e-01, -5.33940580e-01,\n",
       "        1.51096290e+00,  2.23902184e+00,  7.03503852e-02,  3.11951783e-01,\n",
       "       -1.40579892e+00, -7.07575786e-03, -1.37500183e-02, -6.40557505e-01,\n",
       "        3.89622413e-01, -2.74983988e+00, -7.37082818e-01,  3.48090865e-01])"
      ]
     },
     "execution_count": 48,
     "metadata": {},
     "output_type": "execute_result"
    }
   ],
   "source": []
  },
  {
   "cell_type": "code",
   "execution_count": 127,
   "metadata": {},
   "outputs": [],
   "source": [
    "X=np.vstack((L,A)).T"
   ]
  },
  {
   "cell_type": "code",
   "execution_count": 163,
   "metadata": {},
   "outputs": [
    {
     "data": {
      "text/plain": [
       "array([[ 1.        , -3.19530717],\n",
       "       [ 1.        , -3.47048828],\n",
       "       [ 1.        , -4.97671474],\n",
       "       ...,\n",
       "       [ 1.        , -2.89152777],\n",
       "       [-1.        , -8.81467322],\n",
       "       [ 1.        , -1.95874434]])"
      ]
     },
     "execution_count": 163,
     "metadata": {},
     "output_type": "execute_result"
    }
   ],
   "source": [
    "X"
   ]
  },
  {
   "cell_type": "code",
   "execution_count": 156,
   "metadata": {},
   "outputs": [],
   "source": [
    "L_ones=np.ones((L.shape))\n",
    "#print(L_ones)\n",
    "L_minus=np.ones((L.shape))*leftside"
   ]
  },
  {
   "cell_type": "code",
   "execution_count": 159,
   "metadata": {},
   "outputs": [],
   "source": [
    "X_zero=np.vstack((L_minus,A)).T"
   ]
  },
  {
   "cell_type": "code",
   "execution_count": 168,
   "metadata": {},
   "outputs": [
    {
     "data": {
      "text/plain": [
       "array([[-1.        , -3.19530717],\n",
       "       [-1.        , -3.47048828],\n",
       "       [-1.        , -4.97671474],\n",
       "       ...,\n",
       "       [-1.        , -2.89152777],\n",
       "       [-1.        , -8.81467322],\n",
       "       [-1.        , -1.95874434]])"
      ]
     },
     "execution_count": 168,
     "metadata": {},
     "output_type": "execute_result"
    }
   ],
   "source": [
    "X_zero"
   ]
  },
  {
   "cell_type": "code",
   "execution_count": 161,
   "metadata": {},
   "outputs": [],
   "source": [
    "X_one=np.vstack((L_ones,A)).T"
   ]
  },
  {
   "cell_type": "markdown",
   "metadata": {},
   "source": []
  },
  {
   "cell_type": "code",
   "execution_count": 169,
   "metadata": {},
   "outputs": [
    {
     "data": {
      "text/plain": [
       "array([[ 1.        , -3.19530717],\n",
       "       [ 1.        , -3.47048828],\n",
       "       [ 1.        , -4.97671474],\n",
       "       ...,\n",
       "       [ 1.        , -2.89152777],\n",
       "       [ 1.        , -8.81467322],\n",
       "       [ 1.        , -1.95874434]])"
      ]
     },
     "execution_count": 169,
     "metadata": {},
     "output_type": "execute_result"
    }
   ],
   "source": [
    "X_one"
   ]
  },
  {
   "cell_type": "code",
   "execution_count": 184,
   "metadata": {},
   "outputs": [
    {
     "data": {
      "text/plain": [
       "SVR()"
      ]
     },
     "execution_count": 184,
     "metadata": {},
     "output_type": "execute_result"
    }
   ],
   "source": [
    "regressor.fit(X, B_strat)"
   ]
  },
  {
   "cell_type": "code",
   "execution_count": 27,
   "metadata": {},
   "outputs": [],
   "source": [
    "y_pred = regressor.predict([[0,2]])"
   ]
  },
  {
   "cell_type": "code",
   "execution_count": 28,
   "metadata": {},
   "outputs": [
    {
     "data": {
      "text/plain": [
       "array([0.25351959])"
      ]
     },
     "execution_count": 28,
     "metadata": {},
     "output_type": "execute_result"
    }
   ],
   "source": [
    "y_pred"
   ]
  },
  {
   "cell_type": "code",
   "execution_count": 165,
   "metadata": {},
   "outputs": [
    {
     "data": {
      "text/plain": [
       "<matplotlib.collections.PathCollection at 0x7f81276edba8>"
      ]
     },
     "execution_count": 165,
     "metadata": {},
     "output_type": "execute_result"
    },
    {
     "data": {
      "image/png": "[encoded data removed]",
      "text/plain": [
       "<Figure size 432x288 with 1 Axes>"
      ]
     },
     "metadata": {
      "needs_background": "light"
     },
     "output_type": "display_data"
    }
   ],
   "source": [
    "plt.scatter(A,B_strat)"
   ]
  },
  {
   "cell_type": "code",
   "execution_count": 141,
   "metadata": {},
   "outputs": [],
   "source": [
    "B_strat=stratifydata(L,B)"
   ]
  },
  {
   "cell_type": "code",
   "execution_count": 190,
   "metadata": {},
   "outputs": [
    {
     "data": {
      "image/png": "[encoded data removed]",
      "text/plain": [
       "<Figure size 432x288 with 1 Axes>"
      ]
     },
     "metadata": {
      "needs_background": "light"
     },
     "output_type": "display_data"
    }
   ],
   "source": [
    "plt.scatter(A, B_strat,c=L)\n",
    "plt.scatter(A, regressor.predict(X_zero), color = 'blue',label='L=0')\n",
    "plt.scatter(A,regressor.predict(X_one),color='red',label='L=1')\n",
    "plt.title('Stratitifed data (SVR)')\n",
    "plt.xlabel('A with L ')\n",
    "plt.ylabel('B')\n",
    "plt.legend()\n",
    "plt.show()"
   ]
  },
  {
   "cell_type": "code",
   "execution_count": null,
   "metadata": {},
   "outputs": [],
   "source": [
    "# Predicting the target values of the test set\n",
    "y_pred = model.predict(X)\n",
    "\n",
    "# RMSE (Root Mean Square Error)\n",
    "rmse = float(format(np.sqrt(mean_squared_error(y_test, y_pred)), '.3f'))\n",
    "print(\"\\nRMSE: \", rmse)"
   ]
  }
 ],
 "metadata": {
  "kernelspec": {
   "display_name": "Python 3.7.3 ('base')",
   "language": "python",
   "name": "python3"
  },
  "language_info": {
   "codemirror_mode": {
    "name": "ipython",
    "version": 3
   },
   "file_extension": ".py",
   "mimetype": "text/x-python",
   "name": "python",
   "nbconvert_exporter": "python",
   "pygments_lexer": "ipython3",
   "version": "3.7.3"
  },
  "orig_nbformat": 4,
  "vscode": {
   "interpreter": {
    "hash": "40d3a090f54c6569ab1632332b64b2c03c39dcf918b08424e98f38b5ae0af88f"
   }
  }
 },
 "nbformat": 4,
 "nbformat_minor": 2
}
