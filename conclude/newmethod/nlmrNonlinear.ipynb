{
 "cells": [
  {
   "cell_type": "code",
   "execution_count": 2,
   "metadata": {},
   "outputs": [],
   "source": [
    "import pickle\n",
    "import matplotlib.pyplot as plt\n",
    "import seaborn as sns\n",
    "import pandas as pd\n",
    "import numpy as np\n",
    "import math"
   ]
  },
  {
   "cell_type": "code",
   "execution_count": 91,
   "metadata": {},
   "outputs": [],
   "source": [
    "L = np.random.binomial(1,0.5,1000)  \n",
    "A=6*L + np.random.normal(0,1,1000)\n",
    "B=np.empty([1000,])\n",
    "#This wrong as B is dependent on L \n",
    "B[L==1]=-3*(A[L==1]-6)*(A[L==1]-6)+np.random.normal(0,1,len(A[L==1]))+10\n",
    "B[L==0]=3*(A[L==0])*(A[L==0])+np.random.normal(0,1,len(A[L==0]))-24\n",
    "#B=3*np.sin(A)+ np.random.normal(0,1,1000)\n",
    "#B[L==0]=1*(A[L==0])*(A[L==0])+np.random.normal(0,1,len(L[L==0]))-5"
   ]
  },
  {
   "cell_type": "code",
   "execution_count": 92,
   "metadata": {},
   "outputs": [
    {
     "data": {
      "text/plain": [
       "Text(0, 0.5, 'B')"
      ]
     },
     "execution_count": 92,
     "metadata": {},
     "output_type": "execute_result"
    },
    {
     "data": {
      "image/png": "[encoded data removed]",
      "text/plain": [
       "<Figure size 432x288 with 1 Axes>"
      ]
     },
     "metadata": {
      "needs_background": "light"
     },
     "output_type": "display_data"
    }
   ],
   "source": [
    "plt.scatter(A,B)\n",
    "plt.xlabel(\"A\")\n",
    "plt.ylabel(\"B\")"
   ]
  },
  {
   "cell_type": "code",
   "execution_count": 3,
   "metadata": {},
   "outputs": [],
   "source": [
    "#checking the values which are different in cit and in nlmr\n",
    "book=pd.read_csv(\"NLMRresultupdateddiffvar.csv\")"
   ]
  },
  {
   "cell_type": "code",
   "execution_count": 4,
   "metadata": {},
   "outputs": [
    {
     "data": {
      "text/html": [
       "<div>\n",
       "<style scoped>\n",
       "    .dataframe tbody tr th:only-of-type {\n",
       "        vertical-align: middle;\n",
       "    }\n",
       "\n",
       "    .dataframe tbody tr th {\n",
       "        vertical-align: top;\n",
       "    }\n",
       "\n",
       "    .dataframe thead th {\n",
       "        text-align: right;\n",
       "    }\n",
       "</style>\n",
       "<table border=\"1\" class=\"dataframe\">\n",
       "  <thead>\n",
       "    <tr style=\"text-align: right;\">\n",
       "      <th></th>\n",
       "      <th>Unnamed: 0</th>\n",
       "      <th>parameters</th>\n",
       "      <th>p_cit</th>\n",
       "      <th>p_TassocL</th>\n",
       "      <th>p_TassocGgvnL</th>\n",
       "      <th>p_GassocLgvnT</th>\n",
       "      <th>p_LindTgvnG</th>\n",
       "      <th>CIT_final_call</th>\n",
       "      <th>Unnamed: 8</th>\n",
       "      <th>p_L-&gt;A</th>\n",
       "      <th>p_L-&gt;B</th>\n",
       "      <th>diff(B|A,B|A,L)</th>\n",
       "      <th>final_call</th>\n",
       "    </tr>\n",
       "  </thead>\n",
       "  <tbody>\n",
       "    <tr>\n",
       "      <th>0</th>\n",
       "      <td>0</td>\n",
       "      <td>-5_6_0.5_2</td>\n",
       "      <td>1.000000</td>\n",
       "      <td>0.000000e+00</td>\n",
       "      <td>0.000000e+00</td>\n",
       "      <td>0.000000e+00</td>\n",
       "      <td>1.000000</td>\n",
       "      <td></td>\n",
       "      <td></td>\n",
       "      <td>0.0</td>\n",
       "      <td>0.0</td>\n",
       "      <td>0.49</td>\n",
       "      <td></td>\n",
       "    </tr>\n",
       "    <tr>\n",
       "      <th>1</th>\n",
       "      <td>1</td>\n",
       "      <td>-5_6_0.5_3</td>\n",
       "      <td>1.000000</td>\n",
       "      <td>1.212108e-231</td>\n",
       "      <td>0.000000e+00</td>\n",
       "      <td>0.000000e+00</td>\n",
       "      <td>1.000000</td>\n",
       "      <td></td>\n",
       "      <td></td>\n",
       "      <td>0.0</td>\n",
       "      <td>0.0</td>\n",
       "      <td>0.05</td>\n",
       "      <td></td>\n",
       "    </tr>\n",
       "    <tr>\n",
       "      <th>2</th>\n",
       "      <td>2</td>\n",
       "      <td>-5_6_1_2</td>\n",
       "      <td>0.999708</td>\n",
       "      <td>0.000000e+00</td>\n",
       "      <td>4.996284e-287</td>\n",
       "      <td>7.188586e-318</td>\n",
       "      <td>0.999708</td>\n",
       "      <td></td>\n",
       "      <td></td>\n",
       "      <td>0.0</td>\n",
       "      <td>0.0</td>\n",
       "      <td>0.30</td>\n",
       "      <td></td>\n",
       "    </tr>\n",
       "    <tr>\n",
       "      <th>3</th>\n",
       "      <td>3</td>\n",
       "      <td>-5_6_1_3</td>\n",
       "      <td>1.000000</td>\n",
       "      <td>1.703102e-245</td>\n",
       "      <td>0.000000e+00</td>\n",
       "      <td>0.000000e+00</td>\n",
       "      <td>1.000000</td>\n",
       "      <td></td>\n",
       "      <td></td>\n",
       "      <td>0.0</td>\n",
       "      <td>0.0</td>\n",
       "      <td>0.00</td>\n",
       "      <td>causal</td>\n",
       "    </tr>\n",
       "    <tr>\n",
       "      <th>4</th>\n",
       "      <td>4</td>\n",
       "      <td>-5_5_0.5_2</td>\n",
       "      <td>1.000000</td>\n",
       "      <td>0.000000e+00</td>\n",
       "      <td>0.000000e+00</td>\n",
       "      <td>0.000000e+00</td>\n",
       "      <td>1.000000</td>\n",
       "      <td></td>\n",
       "      <td></td>\n",
       "      <td>0.0</td>\n",
       "      <td>0.0</td>\n",
       "      <td>0.02</td>\n",
       "      <td>causal</td>\n",
       "    </tr>\n",
       "  </tbody>\n",
       "</table>\n",
       "</div>"
      ],
      "text/plain": [
       "   Unnamed: 0  parameters     p_cit      p_TassocL  p_TassocGgvnL  \\\n",
       "0           0  -5_6_0.5_2  1.000000   0.000000e+00   0.000000e+00   \n",
       "1           1  -5_6_0.5_3  1.000000  1.212108e-231   0.000000e+00   \n",
       "2           2    -5_6_1_2  0.999708   0.000000e+00  4.996284e-287   \n",
       "3           3    -5_6_1_3  1.000000  1.703102e-245   0.000000e+00   \n",
       "4           4  -5_5_0.5_2  1.000000   0.000000e+00   0.000000e+00   \n",
       "\n",
       "   p_GassocLgvnT  p_LindTgvnG CIT_final_call Unnamed: 8  p_L->A  p_L->B  \\\n",
       "0   0.000000e+00     1.000000                               0.0     0.0   \n",
       "1   0.000000e+00     1.000000                               0.0     0.0   \n",
       "2  7.188586e-318     0.999708                               0.0     0.0   \n",
       "3   0.000000e+00     1.000000                               0.0     0.0   \n",
       "4   0.000000e+00     1.000000                               0.0     0.0   \n",
       "\n",
       "   diff(B|A,B|A,L) final_call  \n",
       "0             0.49             \n",
       "1             0.05             \n",
       "2             0.30             \n",
       "3             0.00     causal  \n",
       "4             0.02     causal  "
      ]
     },
     "execution_count": 4,
     "metadata": {},
     "output_type": "execute_result"
    }
   ],
   "source": [
    "book.head()"
   ]
  },
  {
   "cell_type": "code",
   "execution_count": 18,
   "metadata": {},
   "outputs": [
    {
     "name": "stdout",
     "output_type": "stream",
     "text": [
      "20\n",
      "24\n",
      "8\n",
      "48\n"
     ]
    }
   ],
   "source": [
    "C_cit=[] #causal in cit but not in nlmr\n",
    "C_nlmr=[] #causal in nlmr but not in cit\n",
    "C_both=[] #both called it causal\n",
    "C_none=[] #both called it non causal\n",
    "for i, row in book.iterrows():\n",
    "    if row['CIT_final_call']=='causal' and row[\"final_call\"] == ' ' :\n",
    "        C_cit.append(i)\n",
    "    elif row['CIT_final_call']==' ' and row['final_call']=='causal':\n",
    "        C_nlmr.append(i)\n",
    "    elif row['CIT_final_call']=='causal' and row['final_call']=='causal':\n",
    "        C_both.append(i)\n",
    "    elif row['CIT_final_call']==' ' and row['final_call']==' ':\n",
    "        C_none.append(i)\n",
    "\n",
    "print(len(C_cit))\n",
    "print(len(C_nlmr))\n",
    "print(len(C_both))\n",
    "print(len(C_none))"
   ]
  },
  {
   "cell_type": "code",
   "execution_count": 19,
   "metadata": {},
   "outputs": [],
   "source": [
    "with open('CITCausal_notNLMR.pkl', 'wb') as f:\n",
    "    pickle.dump(C_cit, f)"
   ]
  },
  {
   "cell_type": "code",
   "execution_count": 20,
   "metadata": {},
   "outputs": [],
   "source": [
    "with open('CITnot_CausalNLMR.pkl', 'wb') as f:\n",
    "    pickle.dump(C_nlmr, f)"
   ]
  },
  {
   "cell_type": "code",
   "execution_count": 22,
   "metadata": {},
   "outputs": [],
   "source": [
    "with open('Causalboth.pkl', 'wb') as f:\n",
    "    pickle.dump(C_both, f)"
   ]
  },
  {
   "cell_type": "code",
   "execution_count": 23,
   "metadata": {},
   "outputs": [],
   "source": [
    "with open('CausalNone.pkl', 'wb') as f:\n",
    "    pickle.dump(C_none, f)"
   ]
  }
 ],
 "metadata": {
  "kernelspec": {
   "display_name": "Python 3.7.3 ('base')",
   "language": "python",
   "name": "python3"
  },
  "language_info": {
   "codemirror_mode": {
    "name": "ipython",
    "version": 3
   },
   "file_extension": ".py",
   "mimetype": "text/x-python",
   "name": "python",
   "nbconvert_exporter": "python",
   "pygments_lexer": "ipython3",
   "version": "3.7.3"
  },
  "orig_nbformat": 4,
  "vscode": {
   "interpreter": {
    "hash": "40d3a090f54c6569ab1632332b64b2c03c39dcf918b08424e98f38b5ae0af88f"
   }
  }
 },
 "nbformat": 4,
 "nbformat_minor": 2
}
