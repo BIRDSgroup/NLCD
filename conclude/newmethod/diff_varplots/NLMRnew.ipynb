{
 "cells": [
  {
   "cell_type": "code",
   "execution_count": 6,
   "metadata": {},
   "outputs": [],
   "source": [
    "from tensorflow_probability import distributions as tfd\n",
    "import tensorflow as tf\n",
    "from tensorflow.keras.layers import Input, Dense, Activation, Concatenate\n",
    "\n",
    "from sklearn.linear_model import LinearRegression\n",
    "from sklearn.model_selection import train_test_split\n",
    "from sklearn.preprocessing import MinMaxScaler\n",
    "from sklearn.datasets import load_boston\n",
    "from sklearn.linear_model import LinearRegression\n",
    "import matplotlib.pyplot as plt\n",
    "import seaborn as sns\n",
    "import random\n",
    "import numpy as np\n",
    "import statsmodels.api as sm\n",
    "import pickle\n",
    "from sklearn.feature_selection import mutual_info_regression\n",
    "from scipy import stats"
   ]
  },
  {
   "cell_type": "code",
   "execution_count": 64,
   "metadata": {},
   "outputs": [],
   "source": [
    "#defining the class MDN\n",
    "class MDN_module(tf.keras.Model):\n",
    "    def __init__(self, neurons=15, components = 1):\n",
    "        super(MDN_module, self).__init__(name=\"MDN_module\")\n",
    "        self.neurons = neurons\n",
    "        self.components = components\n",
    "\n",
    "        #chaging activation to relu from linear, changin relu to sigmoid \n",
    "        for i in range(1,3):\n",
    "          s=\"self\"+\".h\"+str(i)+\"= Dense(neurons, activation=\\\"relu\\\", name=\"+\"'h\"+str(i)+\"')\"\n",
    "          exec(s)\n",
    "        #self.h1=Dense(12,activation=\"relu\",name=\"h1\")\n",
    "        #self.h2=Dense(8,activation=\"relu\",name=\"h2\")\n",
    "        #self.h3=Dense(8,activation=\"relu\",name=\"h3\")\n",
    "        self.alphas = Dense(components, activation=\"softmax\", name=\"alphas\")\n",
    "        self.mus = Dense(components, activation=\"linear\",name=\"mus\") \n",
    "        self.sigmas = Dense(components, activation=\"nnelu\",name=\"sigmas\") #activation changed from linear to default\n",
    "        self.pvec = Concatenate(name=\"pvec\")\n",
    "        \n",
    "    def call(self, inputs):\n",
    "        x=self.h1(inputs)\n",
    "        #x=self.inputA(inputs)\n",
    "        x=self.h2(x)\n",
    "        #x=self.h3(x)\n",
    "        alpha_v = self.alphas(x)\n",
    "        mu_v = self.mus(x)\n",
    "        sigma_v = self.sigmas(x)\n",
    "        \n",
    "        return self.pvec([alpha_v,mu_v, sigma_v])"
   ]
  },
  {
   "cell_type": "code",
   "execution_count": 65,
   "metadata": {},
   "outputs": [],
   "source": [
    "#nelu function, function to calculate the losses and evaluate them\n",
    "no_parameters=3\n",
    "components=1\n",
    "def nnelu(input):\n",
    "    \"\"\" Computes the Non-Negative Exponential Linear Unit\n",
    "    \"\"\"\n",
    "    return tf.add(tf.constant(1, dtype=tf.float32), tf.nn.elu(input))\n",
    "\n",
    "def slice_parameter_vectors(parameter_vector):\n",
    "    \"\"\" Returns an unpacked list of paramter vectors.\n",
    "    \"\"\"\n",
    "    return [parameter_vector[:,i*components:(i+1\n",
    "    )*components] for i in range(no_parameters)]\n",
    "\n",
    "def gnll_loss(y, parameter_vector):\n",
    "    \"\"\" Computes the mean negative log-likelihood loss of y given the mixture parameters.\n",
    "    \"\"\"\n",
    "    alpha,mu,sigma = slice_parameter_vectors(parameter_vector) # Unpack parameter vectors\n",
    "    #tf.print(sigma)\n",
    "    gm = tfd.MixtureSameFamily(\n",
    "           mixture_distribution=tfd.Categorical(probs=alpha),\n",
    "           components_distribution=tfd.Normal(\n",
    "           loc=mu,       \n",
    "           scale=sigma))\n",
    "    \n",
    "    \n",
    "    \n",
    "    log_likelihood =  gm.log_prob(tf.transpose(y)) # Evaluate log-probability of y \n",
    "    return -tf.reduce_mean(log_likelihood, axis=-1) \n",
    "\n",
    "tf.keras.utils.get_custom_objects().update({'nnelu': Activation(nnelu)})\n",
    "\n",
    "def gnll_eval(y,alpha, mu, sigma):\n",
    "    \"\"\" Computes the mean negative log-likelihood loss of y given the mixture parameters.\n",
    "    \"\"\"\n",
    "    #print(alpha)\n",
    "    gm = tfd.MixtureSameFamily(\n",
    "        mixture_distribution=tfd.Categorical(probs=alpha),\n",
    "        components_distribution=tfd.Normal(\n",
    "            loc=mu,       \n",
    "            scale=sigma))\n",
    "    log_likelihood = gm.log_prob(tf.transpose(y))\n",
    "    return -tf.reduce_mean(log_likelihood, axis=-1)\n",
    "\n",
    "\n",
    "def eval_mdn_model(x_test, y_test, mdn_model):\n",
    "    \"\"\" Evaluate the model to get the loss for the given x and y \n",
    "    \"\"\"\n",
    "    y_pred = mdn_model.predict(np.reshape(x_test,newshape=(len(x_test),-1)))\n",
    "    alpha,mu,sigma = slice_parameter_vectors(y_pred)\n",
    "    mdn_nll = gnll_eval(y_test.astype(np.float32),alpha, mu, sigma).numpy()\n",
    "    return mdn_nll\n",
    "#reshapefunction\n",
    "def eval_mdn_model_mle(x_test,y_test):\n",
    "        indices_1 = [i for i, x in enumerate(x_test) if x == 1]\n",
    "        #changing x to -1\n",
    "        indices_0 = [i for i, x in enumerate(x_test) if x == -1]\n",
    "        mu_0=np.mean(y_test[indices_0])\n",
    "        mu_1=np.mean(y_test[indices_1])\n",
    "        sigma_0=np.std(y_test[indices_0])\n",
    "        sigma_1=np.std(y_test[indices_1])\n",
    "        y_mean=np.zeros((len(y_test),1))\n",
    "        y_mean[indices_1]=mu_1\n",
    "        y_mean[indices_0]=mu_0\n",
    "        y_std=np.zeros((len(y_test),1))\n",
    "        y_std[indices_1]=sigma_1\n",
    "        y_std[indices_0]=sigma_0\n",
    "        alpha=np.ones((len(y_mean),1))\n",
    "        return gnll_eval(y_test,alpha,y_mean,y_std).numpy()\n",
    "    \n",
    "def reshapevar(X):\n",
    "  \"\"\"\n",
    "  Function to reshape the vector for the input \n",
    "  \"\"\"\n",
    "  return np.reshape(X,newshape=(len(X),-1))"
   ]
  },
  {
   "cell_type": "code",
   "execution_count": 66,
   "metadata": {},
   "outputs": [],
   "source": [
    "#compute the losses including mle \n",
    "def compute_loss(P,Q,mle=False):\n",
    "    \"\"\" Compute the loss for the given pair\n",
    "    \"\"\"\n",
    "    if(mle==False):\n",
    "        opt = tf.optimizers.Adam(1e-2)\n",
    "        mdn_PQ = MDN_module()\n",
    "        mdn_PQ.compile(loss=gnll_loss, optimizer=opt)\n",
    "        mdn_PQ.fit(x=reshapevar(P), y=np.array(Q).T,epochs=100,  batch_size=64,verbose=0)\n",
    "        #return np.array(nlcor.nlcor(P,Q)[0])[0]\n",
    "        return eval_mdn_model(P,Q,mdn_PQ)\n",
    "    else:\n",
    "        return eval_mdn_model_mle(P,Q)\n",
    "        \n",
    "        \n",
    "        \n"
   ]
  },
  {
   "cell_type": "code",
   "execution_count": 67,
   "metadata": {},
   "outputs": [],
   "source": [
    "#return the predicted y \n",
    "def compute_loss_y_pred(P,Q,mle=False):\n",
    "    \"\"\" Compute the loss for the given pair\n",
    "    \"\"\"\n",
    "    if(mle==False):\n",
    "        opt = tf.optimizers.Adam(1e-2)\n",
    "        mdn_PQ = MDN_module()\n",
    "        mdn_PQ.compile(loss=gnll_loss, optimizer=opt)\n",
    "        mdn_PQ.fit(x=reshapevar(P), y=np.array(Q).T,epochs=100,  batch_size=64,verbose=0)\n",
    "        y_pred = mdn_PQ.predict(np.reshape(P,newshape=(len(P),-1)))\n",
    "        return y_pred[:,1]\n",
    "    else:\n",
    "        indices_1 = [i for i, x in enumerate(P) if x == 1]\n",
    "        indices_0 = [i for i, x in enumerate(P) if x == -1]\n",
    "        mu_0=np.mean(Q[indices_0])\n",
    "        mu_1=np.mean(Q[indices_1])\n",
    "        #sigma_0=np.std(Q[indices_0])\n",
    "        #sigma_1=np.std(Q[indices_1])\n",
    "        y_mean=np.zeros((len(Q),1))\n",
    "        y_mean[indices_1]=mu_1\n",
    "        y_mean[indices_0]=mu_0\n",
    "        return y_mean.reshape((len(y_mean),))\n",
    "        "
   ]
  },
  {
   "cell_type": "code",
   "execution_count": 68,
   "metadata": {},
   "outputs": [],
   "source": [
    "#used in L->A and L->B testing \n",
    "def shuffleBtimes(P,Q,B,mle=False):\n",
    "    \"\"\" Shuffle Q B times and compute the loss \n",
    "    \"\"\"\n",
    "    loss=[]\n",
    "    if(mle==False):\n",
    "        for i in range(0,B):\n",
    "          loss.append(compute_loss(P,np.random.permutation(Q)))\n",
    "    else:\n",
    "        for i in range(0,B):\n",
    "          loss.append(compute_loss(P,np.random.permutation(Q),True))\n",
    "    return loss\n"
   ]
  },
  {
   "cell_type": "code",
   "execution_count": 69,
   "metadata": {},
   "outputs": [],
   "source": [
    "fo=open(\"/data/users/cs20s037/CITNonLinear/LinearDifferentvalues/testing_writingvalues_diff_variance.txt\", \"r\")\n",
    "L=[]\n",
    "A=[]\n",
    "B=[]\n",
    "#fe=open(\"dataset_params.txt\",'w')\n",
    "for i in range(0,100):\n",
    "    line=fo.readline()\n",
    "    #fe.write(line)\n",
    "    #line=line[1:-2] #remove double quotes \n",
    "    #param = [j for j in line.split()]\n",
    "    #print(param)\n",
    "    #chrname.append(param[1])\n",
    "    #g1.append(param[2])\n",
    "    #g2.append(param[3])\n",
    "    line=fo.readline()\n",
    "    l = [j for j in line.split()]\n",
    "    L.append([int(i) for i in l])\n",
    "    line=fo.readline()\n",
    "    a = [j for j in line.split()]\n",
    "    A.append([float(i) for i in a])\n",
    "    line=fo.readline()\n",
    "    b = [j for j in line.split()]\n",
    "    B.append([float(i) for i in b])\n",
    "dataset_linear = [i for i in zip(L,A,B)]\n",
    "fo.close()\n",
    "#fe.close()"
   ]
  },
  {
   "cell_type": "code",
   "execution_count": 70,
   "metadata": {},
   "outputs": [],
   "source": [
    "def calculate_pvalue(original,loss_list):\n",
    "    '''\n",
    "    calculate the p value \n",
    "    '''\n",
    "    return sum(i < original for i in loss_list)/len(loss_list)\n",
    "    \n",
    "    "
   ]
  },
  {
   "cell_type": "code",
   "execution_count": 4,
   "metadata": {},
   "outputs": [
    {
     "name": "stdout",
     "output_type": "stream",
     "text": [
      "hello\n"
     ]
    }
   ],
   "source": [
    "print(\"hello\")"
   ]
  },
  {
   "cell_type": "code",
   "execution_count": 71,
   "metadata": {},
   "outputs": [],
   "source": [
    "#function to stratify the data\n",
    "def stratifydata(L,B):\n",
    "    indices_1 = [i for i, x in enumerate(L) if x == 1]\n",
    "    #changin x==0 to x=-1\n",
    "    indices_0 = [i for i, x in enumerate(L) if x == -1]\n",
    "    B_dist_temp=np.zeros(len(B))\n",
    "    mod_indices_1=random.sample(indices_1,len(indices_1))\n",
    "    for i in range(len(indices_1)):\n",
    "        B_dist_temp[indices_1[i]]=B[mod_indices_1[i]]\n",
    "\n",
    "    mod_indices_0=random.sample(indices_0,len(indices_0))\n",
    "    for i in range(len(indices_0)):\n",
    "        B_dist_temp[indices_0[i]]=B[mod_indices_0[i]]\n",
    "    return B_dist_temp\n",
    "    "
   ]
  },
  {
   "cell_type": "code",
   "execution_count": 9,
   "metadata": {},
   "outputs": [],
   "source": [
    "\n",
    "epochs=100\n",
    "batchsize=32\n"
   ]
  },
  {
   "cell_type": "code",
   "execution_count": 73,
   "metadata": {},
   "outputs": [],
   "source": [
    "def calculate_difference(L,A,B):\n",
    "    return compute_third_testloss(reshapevar(A),np.array(B))-compute_third_testloss(np.concatenate([L.reshape(-1,1),A.reshape(-1,1)],axis=1),np.array(B))\n",
    "    "
   ]
  },
  {
   "cell_type": "code",
   "execution_count": 112,
   "metadata": {},
   "outputs": [],
   "source": [
    "def compute_third_testloss(L,A,B):\n",
    "    opt = tf.optimizers.Adam(1e-2)\n",
    "    mdn_PQ = MDN_module()\n",
    "    mdn_PQ.compile(loss=gnll_loss, optimizer=opt)\n",
    "##changing epochs didnt make much difference\n",
    "    mdn_PQ.fit(x=np.concatenate([L.reshape(-1,1),A.reshape(-1,1)],axis=1),y=np.array(B).T,epochs=100,batch_size=64,verbose=0)\n",
    "#mdn_PQ.fit(x=C, y=np.array(B).T,epochs=300,  batch_size=64)\n",
    "    #withoutL=mdn_PQ.fit(x=A, y=B.T,epochs=100,  batch_size=64,verbose=0)\n",
    "    L_ones=np.ones((L.shape))\n",
    "    #print(L_ones)\n",
    "    L_zeros=np.zeros((L.shape))\n",
    "    #print(min(A))\n",
    "    #print(max(A))\n",
    "    A_test=A\n",
    "    y_pred_ones= mdn_PQ.predict(np.concatenate([L_ones.reshape(-1,1),A_test.reshape(-1,1)],axis=1))\n",
    "    y_pred_zeros= mdn_PQ.predict(np.concatenate([L_zeros.reshape(-1,1),A_test.reshape(-1,1)],axis=1))\n",
    "    #y_pred = mdn_PQ.predict(A)\n",
    "    return [A_test,y_pred_ones,y_pred_zeros]\n",
    "    #print(sum(y_pred_zeros[:,1]-y_pred_ones[:,1])/1000)\n",
    "    #alpha,mu,sigma = slice_parameter_vectors(y_pred)\n",
    "    "
   ]
  },
  {
   "cell_type": "code",
   "execution_count": 74,
   "metadata": {},
   "outputs": [],
   "source": [
    "L = np.random.binomial(1,0.5,1000)  \n",
    "A=6*L + np.random.normal(0,1,1000)\n",
    "B=np.empty([1000,])\n",
    "B[L==1]=-3*(A[L==1]-6)*(A[L==1]-6)+np.random.normal(0,1,len(A[L==1]))+10\n",
    "B[L==0]=3*(A[L==0])*(A[L==0])+np.random.normal(0,1,len(A[L==0]))-24"
   ]
  },
  {
   "cell_type": "code",
   "execution_count": 96,
   "metadata": {},
   "outputs": [],
   "source": [
    "A=np.array(dataset_linear[4][1])\n",
    "B=np.array(dataset_linear[4][2])\n",
    "L=np.array(dataset_linear[4][0])"
   ]
  },
  {
   "cell_type": "code",
   "execution_count": 97,
   "metadata": {},
   "outputs": [
    {
     "data": {
      "text/plain": [
       "<matplotlib.collections.PathCollection at 0x7f59c87b4400>"
      ]
     },
     "execution_count": 97,
     "metadata": {},
     "output_type": "execute_result"
    },
    {
     "data": {
      "image/png": "[encoded data removed]",
      "text/plain": [
       "<Figure size 432x288 with 1 Axes>"
      ]
     },
     "metadata": {
      "needs_background": "light"
     },
     "output_type": "display_data"
    }
   ],
   "source": [
    "plt.scatter(A,B)"
   ]
  },
  {
   "cell_type": "code",
   "execution_count": 108,
   "metadata": {},
   "outputs": [
    {
     "name": "stdout",
     "output_type": "stream",
     "text": [
      "13.484018513321876\n"
     ]
    }
   ],
   "source": [
    "A_test,y_pred_ones,y_pred_zeros=compute_third_testloss(L,A,B)\n",
    "print(sum(abs(y_pred_zeros[:,1]-y_pred_ones[:,1]))/1000)"
   ]
  },
  {
   "cell_type": "code",
   "execution_count": 109,
   "metadata": {},
   "outputs": [
    {
     "data": {
      "text/plain": [
       "<matplotlib.collections.PathCollection at 0x7f5a08529828>"
      ]
     },
     "execution_count": 109,
     "metadata": {},
     "output_type": "execute_result"
    },
    {
     "data": {
      "image/png": "[encoded data removed]",
      "text/plain": [
       "<Figure size 432x288 with 1 Axes>"
      ]
     },
     "metadata": {
      "needs_background": "light"
     },
     "output_type": "display_data"
    }
   ],
   "source": [
    "plt.scatter(A,B,c=L)\n",
    "plt.scatter(A_test,y_pred_ones[:,1])\n",
    "plt.scatter(A_test,y_pred_zeros[:,1])"
   ]
  },
  {
   "cell_type": "code",
   "execution_count": 114,
   "metadata": {},
   "outputs": [
    {
     "name": "stdout",
     "output_type": "stream",
     "text": [
      "4.661320819109679\n"
     ]
    }
   ],
   "source": [
    "B_strat=stratifydata(L,B)\n",
    "A_test,y_ones,y_zeros=compute_third_testloss(L,A,B_strat)\n",
    "print(sum(abs(y_zeros[:,1]-y_ones[:,1]))/1000)"
   ]
  },
  {
   "cell_type": "code",
   "execution_count": 60,
   "metadata": {},
   "outputs": [
    {
     "data": {
      "text/plain": [
       "array([ 0.00000000e+00,  9.20247549e-01,  0.00000000e+00,  1.41335640e-01,\n",
       "        0.00000000e+00, -1.89292884e-01, -3.81431820e-01,  0.00000000e+00,\n",
       "        1.35874362e+00, -2.09611260e+00,  0.00000000e+00,  0.00000000e+00,\n",
       "        9.02810029e-01,  1.06901269e-01,  8.15367620e-01,  0.00000000e+00,\n",
       "       -2.27923168e-01, -9.46695271e-01,  7.66561992e-01,  3.06582386e+00,\n",
       "       -1.48257027e-01,  0.00000000e+00,  1.67277022e+00,  0.00000000e+00,\n",
       "        0.00000000e+00, -1.77907245e-02,  3.08883724e-01,  0.00000000e+00,\n",
       "        2.19585101e+00,  0.00000000e+00,  0.00000000e+00,  0.00000000e+00,\n",
       "        0.00000000e+00,  1.14426925e+00,  1.62228387e+00,  0.00000000e+00,\n",
       "        3.94046159e-01,  1.72519331e+00,  0.00000000e+00,  0.00000000e+00,\n",
       "        0.00000000e+00,  0.00000000e+00,  1.05215011e+00,  0.00000000e+00,\n",
       "        0.00000000e+00,  0.00000000e+00,  0.00000000e+00,  0.00000000e+00,\n",
       "        0.00000000e+00,  0.00000000e+00,  2.12549833e+00,  1.30999839e+00,\n",
       "        1.44209676e+00,  0.00000000e+00,  6.18857912e-01,  0.00000000e+00,\n",
       "        0.00000000e+00,  0.00000000e+00,  2.67150665e+00,  0.00000000e+00,\n",
       "       -3.33159346e-01,  9.08809950e-01,  1.01445213e+00,  1.32514497e+00,\n",
       "        0.00000000e+00, -2.46911904e-02, -1.52616241e-01,  5.45254043e-01,\n",
       "        4.72489159e-01,  0.00000000e+00,  2.61100301e-01,  0.00000000e+00,\n",
       "        0.00000000e+00,  1.04173842e+00,  2.03526061e+00,  0.00000000e+00,\n",
       "       -5.62732571e-01,  0.00000000e+00, -1.06454370e+00,  0.00000000e+00,\n",
       "        0.00000000e+00,  0.00000000e+00,  0.00000000e+00,  9.98691507e-01,\n",
       "        0.00000000e+00,  0.00000000e+00, -1.18693142e-01, -3.59028916e-02,\n",
       "        0.00000000e+00,  0.00000000e+00,  0.00000000e+00,  2.64765902e-01,\n",
       "        2.29314464e-01,  2.33466540e-01,  9.44385143e-01,  0.00000000e+00,\n",
       "        0.00000000e+00, -7.97924044e-01,  0.00000000e+00,  3.56979252e-01,\n",
       "        0.00000000e+00,  2.09245062e+00, -5.08751728e-01,  0.00000000e+00,\n",
       "        0.00000000e+00,  0.00000000e+00,  0.00000000e+00,  1.46818058e+00,\n",
       "        1.17030253e+00,  0.00000000e+00,  0.00000000e+00,  0.00000000e+00,\n",
       "       -1.29603410e+00,  0.00000000e+00, -5.79942324e-01, -1.40833698e+00,\n",
       "       -6.37477884e-01,  0.00000000e+00,  0.00000000e+00,  8.43319919e-01,\n",
       "        0.00000000e+00,  9.86323897e-01, -1.06543619e+00,  3.98063220e-01,\n",
       "        0.00000000e+00, -1.44229141e-01, -1.51597193e-01, -6.03014387e-01,\n",
       "        0.00000000e+00,  4.65293190e-01,  0.00000000e+00,  4.82421553e-01,\n",
       "        8.89914067e-01,  0.00000000e+00,  0.00000000e+00, -5.15569905e-01,\n",
       "        0.00000000e+00,  0.00000000e+00,  0.00000000e+00,  0.00000000e+00,\n",
       "        0.00000000e+00, -3.16102949e-01,  1.14073297e+00,  0.00000000e+00,\n",
       "        0.00000000e+00,  0.00000000e+00,  1.95961771e+00,  0.00000000e+00,\n",
       "       -9.05931696e-01,  0.00000000e+00,  1.42702210e+00,  2.05649556e+00,\n",
       "        1.98298645e+00,  1.42369264e+00,  4.57728549e-01,  4.33033383e-02,\n",
       "        0.00000000e+00,  1.02667139e+00,  2.00911150e-01,  0.00000000e+00,\n",
       "        0.00000000e+00, -1.14194060e+00,  0.00000000e+00, -2.45245970e+00,\n",
       "        3.75668693e-01,  0.00000000e+00,  2.33286184e+00,  0.00000000e+00,\n",
       "        0.00000000e+00, -6.62214958e-01,  0.00000000e+00, -1.06540554e+00,\n",
       "       -2.13412882e+00,  2.35541745e+00, -1.35374575e+00,  0.00000000e+00,\n",
       "        7.01880674e-01,  0.00000000e+00,  0.00000000e+00,  0.00000000e+00,\n",
       "        2.11898499e+00,  0.00000000e+00,  1.74073930e+00,  0.00000000e+00,\n",
       "       -3.54899565e-01,  0.00000000e+00,  0.00000000e+00,  2.32680725e+00,\n",
       "        0.00000000e+00,  1.32093620e+00,  0.00000000e+00,  0.00000000e+00,\n",
       "       -2.59126824e-01,  8.11624541e-01, -8.84767163e-01,  0.00000000e+00,\n",
       "        7.75203167e-01,  1.80375167e+00, -3.87431945e-01, -5.89835992e-01,\n",
       "        0.00000000e+00,  0.00000000e+00,  0.00000000e+00,  2.36188924e+00,\n",
       "        2.57880987e+00,  0.00000000e+00,  0.00000000e+00, -5.34014897e-01,\n",
       "        0.00000000e+00, -6.18462609e-01,  0.00000000e+00, -1.05053641e+00,\n",
       "        7.78174259e-01,  0.00000000e+00, -1.01354869e-01,  2.72557765e+00,\n",
       "       -1.25929833e-01,  0.00000000e+00,  0.00000000e+00, -6.00830407e-01,\n",
       "        0.00000000e+00,  7.62688488e-01,  0.00000000e+00,  0.00000000e+00,\n",
       "        1.18339889e+00, -6.84325756e-01,  1.35891771e+00, -1.48810088e-01,\n",
       "        0.00000000e+00,  1.52336391e+00,  0.00000000e+00,  3.56755169e-01,\n",
       "        0.00000000e+00,  1.42422601e+00,  0.00000000e+00, -1.07577686e-01,\n",
       "        0.00000000e+00,  0.00000000e+00,  0.00000000e+00,  2.40775816e-01,\n",
       "        0.00000000e+00,  4.89737930e-01,  0.00000000e+00, -1.25842288e+00,\n",
       "        0.00000000e+00, -6.24091819e-01, -2.05362170e-01, -3.70838239e-02,\n",
       "       -2.25743015e+00,  0.00000000e+00, -4.69498990e-01,  0.00000000e+00,\n",
       "        0.00000000e+00,  0.00000000e+00,  8.54755309e-01, -1.53689648e+00,\n",
       "       -1.28451152e+00,  0.00000000e+00,  0.00000000e+00, -1.65420647e+00,\n",
       "       -1.48426844e-01,  3.35439144e+00, -1.76388026e+00,  8.00754055e-01,\n",
       "        0.00000000e+00,  0.00000000e+00,  0.00000000e+00,  0.00000000e+00,\n",
       "        9.25504990e-02,  3.29701210e-02,  0.00000000e+00,  0.00000000e+00,\n",
       "        9.47793032e-01,  0.00000000e+00, -4.78615292e-01,  0.00000000e+00,\n",
       "        9.30137370e-01,  1.67019599e+00,  0.00000000e+00,  1.65949320e-01,\n",
       "        1.29475379e-01, -3.60257345e-01,  0.00000000e+00, -4.40263567e-01,\n",
       "       -1.09588035e+00,  0.00000000e+00,  0.00000000e+00,  1.00066241e-02,\n",
       "        1.40728103e+00,  0.00000000e+00,  0.00000000e+00,  0.00000000e+00,\n",
       "       -4.10152423e-01,  0.00000000e+00,  0.00000000e+00,  0.00000000e+00,\n",
       "        0.00000000e+00,  6.64730119e-01,  0.00000000e+00,  0.00000000e+00,\n",
       "        7.41021847e-01,  0.00000000e+00, -1.48061544e+00,  0.00000000e+00,\n",
       "        0.00000000e+00,  0.00000000e+00, -1.05424351e+00,  1.53747035e+00,\n",
       "       -9.50736946e-01,  0.00000000e+00, -4.83185194e-01,  0.00000000e+00,\n",
       "        0.00000000e+00,  1.48863877e+00, -1.17060824e+00,  0.00000000e+00,\n",
       "        1.31369059e+00,  1.22942570e+00,  0.00000000e+00,  0.00000000e+00,\n",
       "        6.56328520e-01,  0.00000000e+00,  3.87915958e-01,  7.21847315e-01,\n",
       "        1.91735582e+00,  6.60322247e-01,  2.91144234e-01,  0.00000000e+00,\n",
       "        0.00000000e+00,  0.00000000e+00, -8.50526721e-01,  0.00000000e+00,\n",
       "        1.36231905e+00,  0.00000000e+00,  1.96644697e+00, -1.47423114e-01,\n",
       "        1.50958276e+00,  0.00000000e+00,  0.00000000e+00,  0.00000000e+00,\n",
       "        3.46649933e-01,  1.16621048e+00,  1.99215921e+00, -8.16752032e-01,\n",
       "        4.48085736e-01,  0.00000000e+00,  0.00000000e+00,  8.81557732e-01,\n",
       "       -5.01275644e-03,  0.00000000e+00, -6.91855711e-01,  0.00000000e+00,\n",
       "        0.00000000e+00,  4.14323111e-01,  0.00000000e+00,  2.57036414e+00,\n",
       "        0.00000000e+00, -7.02740292e-02,  1.92548664e+00,  0.00000000e+00,\n",
       "        1.21157729e+00, -1.87829889e+00, -2.30053195e+00,  2.01515170e-01,\n",
       "        0.00000000e+00,  0.00000000e+00,  8.20602078e-01,  1.58293829e+00,\n",
       "        3.06848692e-02, -2.27215857e-01,  7.62279974e-01,  0.00000000e+00,\n",
       "        0.00000000e+00, -4.27151044e-01,  0.00000000e+00,  0.00000000e+00,\n",
       "        6.82850869e-01,  0.00000000e+00,  6.77398363e-02,  0.00000000e+00,\n",
       "       -8.24849399e-02,  0.00000000e+00,  1.36005554e+00,  0.00000000e+00,\n",
       "       -1.07055521e+00,  0.00000000e+00, -3.21024931e-01,  0.00000000e+00,\n",
       "        0.00000000e+00,  0.00000000e+00,  0.00000000e+00, -2.92654221e-01,\n",
       "       -2.19199345e-01,  1.24745252e+00,  0.00000000e+00,  0.00000000e+00,\n",
       "        0.00000000e+00,  2.71977537e+00,  1.37756760e+00,  2.60787480e+00,\n",
       "        2.46739343e-01,  0.00000000e+00,  1.21795048e+00,  0.00000000e+00,\n",
       "        7.02767285e-01,  0.00000000e+00,  1.18374944e+00,  0.00000000e+00,\n",
       "        0.00000000e+00,  0.00000000e+00,  0.00000000e+00,  4.15556270e-01,\n",
       "        1.28023720e+00,  0.00000000e+00, -1.64892680e-01,  0.00000000e+00,\n",
       "        0.00000000e+00,  1.91612163e+00, -8.43780905e-01,  1.57168092e+00,\n",
       "        3.63679076e-01, -5.06259381e-01,  0.00000000e+00, -2.00799108e+00,\n",
       "        0.00000000e+00,  3.42594189e-01,  8.33726798e-01, -5.60286282e-01,\n",
       "        1.13248692e+00,  1.81606495e+00,  0.00000000e+00, -1.24205500e+00,\n",
       "        3.43772729e-01,  0.00000000e+00, -1.55983220e+00, -4.19404347e-01,\n",
       "        1.73094338e+00,  0.00000000e+00,  0.00000000e+00,  3.18755006e-01,\n",
       "       -6.62995198e-01,  0.00000000e+00,  0.00000000e+00,  2.09782947e+00,\n",
       "        0.00000000e+00,  1.25534772e+00,  1.03755373e+00,  1.11529617e+00,\n",
       "        0.00000000e+00, -1.23376735e+00,  0.00000000e+00, -2.29575785e+00,\n",
       "        7.07672532e-01, -1.26807672e-01,  0.00000000e+00, -1.99039158e-01,\n",
       "       -2.59013116e+00,  0.00000000e+00,  0.00000000e+00,  0.00000000e+00,\n",
       "        1.05170776e+00,  3.62610686e-01,  0.00000000e+00,  0.00000000e+00,\n",
       "        1.17867839e+00,  5.40139319e-01, -2.44965251e-01,  0.00000000e+00,\n",
       "        0.00000000e+00,  1.05256729e+00,  0.00000000e+00,  0.00000000e+00,\n",
       "        0.00000000e+00,  0.00000000e+00,  2.05384301e+00,  1.01808376e+00,\n",
       "        0.00000000e+00,  0.00000000e+00,  0.00000000e+00, -8.80734773e-01,\n",
       "        0.00000000e+00,  4.88743114e-01,  0.00000000e+00, -5.64485252e-01,\n",
       "        1.30863183e-01,  2.29162849e+00, -1.69708451e+00, -7.83358902e-01,\n",
       "       -6.03577322e-01,  0.00000000e+00,  0.00000000e+00, -6.04452333e-01,\n",
       "        1.74791114e+00, -2.48231291e+00,  1.26676207e-01,  1.26192231e+00,\n",
       "       -4.78208952e-01,  0.00000000e+00,  0.00000000e+00, -6.46432770e-01,\n",
       "        0.00000000e+00,  0.00000000e+00,  0.00000000e+00, -1.32367833e+00,\n",
       "       -1.13971435e+00, -5.57464225e-01,  0.00000000e+00,  0.00000000e+00,\n",
       "        0.00000000e+00, -2.68224251e-01,  0.00000000e+00, -4.77078897e-01,\n",
       "       -3.58226404e-02,  1.66083343e+00,  0.00000000e+00,  1.58167305e+00,\n",
       "       -5.82020507e-01,  0.00000000e+00,  0.00000000e+00,  0.00000000e+00,\n",
       "       -2.46233135e-02,  0.00000000e+00,  5.04548041e-01,  0.00000000e+00,\n",
       "        0.00000000e+00,  0.00000000e+00,  0.00000000e+00,  0.00000000e+00,\n",
       "       -1.34383197e+00,  0.00000000e+00, -1.96337525e+00,  7.25671629e-01,\n",
       "        0.00000000e+00,  0.00000000e+00,  1.22228901e+00,  1.20999733e+00,\n",
       "       -1.16454133e+00,  0.00000000e+00,  0.00000000e+00,  3.75509076e-01,\n",
       "        5.83156705e-01,  2.39024776e-01,  3.61865644e-01,  0.00000000e+00,\n",
       "       -1.34971071e+00,  8.86516001e-01,  0.00000000e+00, -5.49853478e-01,\n",
       "       -4.36173919e-01,  0.00000000e+00,  2.74804275e-01,  1.39293351e-01,\n",
       "       -7.98294290e-01,  8.23898693e-01,  0.00000000e+00,  0.00000000e+00,\n",
       "        0.00000000e+00,  0.00000000e+00,  0.00000000e+00,  6.15404792e-01,\n",
       "       -3.21532050e-01,  0.00000000e+00,  0.00000000e+00,  0.00000000e+00,\n",
       "       -5.37679757e-01,  6.33127554e-01,  0.00000000e+00,  0.00000000e+00,\n",
       "        0.00000000e+00,  0.00000000e+00,  1.42487263e+00,  1.49844951e+00,\n",
       "        1.50666260e+00,  1.33083594e+00,  0.00000000e+00,  0.00000000e+00,\n",
       "        0.00000000e+00,  1.42684677e+00, -1.56921194e-01,  7.60122868e-01,\n",
       "        0.00000000e+00,  0.00000000e+00, -4.88613196e-01,  5.45934270e-01,\n",
       "       -3.37074136e-01,  2.01437338e-01,  0.00000000e+00,  0.00000000e+00,\n",
       "       -1.35082275e+00,  1.12992680e+00,  0.00000000e+00, -2.80531186e-01,\n",
       "        0.00000000e+00,  0.00000000e+00,  2.50870113e-01, -5.93339793e-01,\n",
       "        0.00000000e+00, -2.07810642e-03,  5.43496269e-01, -5.22814964e-01,\n",
       "       -3.18268931e-01, -1.12052862e+00,  1.02519874e+00,  1.43527059e+00,\n",
       "        0.00000000e+00,  0.00000000e+00, -2.57356311e-01,  0.00000000e+00,\n",
       "        0.00000000e+00,  0.00000000e+00,  1.72890476e+00,  0.00000000e+00,\n",
       "        0.00000000e+00,  0.00000000e+00,  1.51858675e+00,  0.00000000e+00,\n",
       "        4.82990767e-01, -2.06900672e-01, -3.19567739e-01,  8.78322904e-01,\n",
       "        0.00000000e+00,  9.85981193e-01,  0.00000000e+00, -1.02497996e+00,\n",
       "        1.70823049e+00,  0.00000000e+00,  0.00000000e+00,  0.00000000e+00,\n",
       "        0.00000000e+00, -7.91495785e-02,  0.00000000e+00,  0.00000000e+00,\n",
       "        4.33379673e-02,  1.21456673e+00,  0.00000000e+00,  1.07492921e+00,\n",
       "        1.08409969e+00,  0.00000000e+00,  7.52767210e-01,  0.00000000e+00,\n",
       "        0.00000000e+00,  3.23082712e-01, -2.81533803e-01, -1.21001776e-01,\n",
       "        0.00000000e+00, -1.56107950e+00, -4.95583578e-01,  9.07391059e-01,\n",
       "        0.00000000e+00,  2.52133398e+00, -8.41943593e-01,  0.00000000e+00,\n",
       "        0.00000000e+00,  1.53581573e+00,  0.00000000e+00,  0.00000000e+00,\n",
       "        0.00000000e+00,  0.00000000e+00,  5.23122867e-01,  0.00000000e+00,\n",
       "        8.30860615e-01,  9.33024771e-01,  0.00000000e+00,  2.55293180e-01,\n",
       "       -8.85312864e-01, -6.18676477e-01,  0.00000000e+00,  0.00000000e+00,\n",
       "        4.26796944e-01,  0.00000000e+00, -8.97796607e-02, -7.39140473e-01,\n",
       "        0.00000000e+00,  0.00000000e+00,  0.00000000e+00,  0.00000000e+00,\n",
       "       -5.58237973e-01,  2.89322823e-01, -1.93322410e-01, -8.19421658e-02,\n",
       "        0.00000000e+00,  2.45161740e+00,  9.62302893e-01,  1.03556736e+00,\n",
       "        3.01014935e-01,  6.42292185e-01,  0.00000000e+00,  0.00000000e+00,\n",
       "        0.00000000e+00, -2.86316747e-01,  0.00000000e+00,  0.00000000e+00,\n",
       "        0.00000000e+00,  0.00000000e+00, -2.19646670e+00,  0.00000000e+00,\n",
       "        2.14368041e+00,  0.00000000e+00,  0.00000000e+00, -1.88867531e+00,\n",
       "        2.53608381e+00,  9.39528444e-01,  0.00000000e+00, -9.27300891e-01,\n",
       "       -4.89740726e-01,  0.00000000e+00,  0.00000000e+00,  0.00000000e+00,\n",
       "        0.00000000e+00,  5.03288363e-01, -1.63821762e+00,  0.00000000e+00,\n",
       "        0.00000000e+00,  0.00000000e+00,  0.00000000e+00, -1.19430722e+00,\n",
       "        1.49443177e-01,  0.00000000e+00, -1.49901004e+00,  0.00000000e+00,\n",
       "        3.97152478e-01,  0.00000000e+00,  1.09709718e+00,  8.08243919e-01,\n",
       "        0.00000000e+00, -5.13889553e-01,  2.95616860e-01,  7.57854055e-01,\n",
       "        0.00000000e+00,  0.00000000e+00,  9.14205433e-02, -6.42329708e-01,\n",
       "        0.00000000e+00,  0.00000000e+00,  0.00000000e+00,  0.00000000e+00,\n",
       "        2.91019415e-01,  1.74181141e+00,  0.00000000e+00,  2.96064186e-01,\n",
       "        0.00000000e+00,  4.66209758e-01,  0.00000000e+00,  0.00000000e+00,\n",
       "        0.00000000e+00,  2.53687303e-01,  2.09621615e+00, -3.03125066e-01,\n",
       "        7.23145302e-01,  0.00000000e+00, -1.60942111e+00,  0.00000000e+00,\n",
       "       -2.54174879e-01,  8.62384751e-01,  0.00000000e+00,  3.86004769e-01,\n",
       "       -5.68161143e-01,  0.00000000e+00,  2.55106519e+00,  5.06348903e-01,\n",
       "        6.39450455e-01,  2.76273232e-01,  0.00000000e+00,  3.18529151e+00,\n",
       "        5.66074297e-01, -4.59597646e-01,  0.00000000e+00,  0.00000000e+00,\n",
       "        0.00000000e+00, -1.49367104e-01,  0.00000000e+00,  2.76512831e+00,\n",
       "        0.00000000e+00,  6.22162211e-01,  3.71686387e-01,  0.00000000e+00,\n",
       "        0.00000000e+00,  0.00000000e+00,  0.00000000e+00,  2.55827358e+00,\n",
       "       -4.99595101e-01, -6.84684076e-01,  1.07944302e+00,  1.22718028e+00,\n",
       "        8.11614970e-01, -5.21482803e-01,  8.28790619e-01,  0.00000000e+00,\n",
       "        0.00000000e+00,  1.66792866e+00,  0.00000000e+00, -7.96860853e-01,\n",
       "       -4.85177079e-01,  0.00000000e+00,  0.00000000e+00,  0.00000000e+00,\n",
       "        0.00000000e+00, -8.48281928e-01,  0.00000000e+00,  0.00000000e+00,\n",
       "        0.00000000e+00,  1.13294197e+00, -7.29386797e-01,  9.76466303e-01,\n",
       "       -7.48553231e-02,  0.00000000e+00,  2.39913483e-02,  3.97496366e-02,\n",
       "        1.34649424e+00,  0.00000000e+00, -8.17081839e-01,  0.00000000e+00,\n",
       "        0.00000000e+00,  0.00000000e+00, -2.74672792e-01,  0.00000000e+00,\n",
       "        0.00000000e+00,  0.00000000e+00, -6.05927054e-01,  6.61291441e-02,\n",
       "        0.00000000e+00,  0.00000000e+00,  0.00000000e+00, -1.78950829e-01,\n",
       "       -2.28690572e-01, -3.20308528e-01, -9.26772811e-01,  0.00000000e+00,\n",
       "        0.00000000e+00,  0.00000000e+00,  0.00000000e+00, -1.14622926e+00,\n",
       "       -3.63385256e-01,  0.00000000e+00,  0.00000000e+00,  0.00000000e+00,\n",
       "        0.00000000e+00,  0.00000000e+00, -1.44720623e-01,  0.00000000e+00,\n",
       "        7.77320159e-01,  0.00000000e+00,  0.00000000e+00,  0.00000000e+00,\n",
       "        0.00000000e+00, -9.71871831e-01,  2.04962045e+00,  5.05337084e-01,\n",
       "        0.00000000e+00,  1.78127972e-01,  0.00000000e+00, -1.06102855e+00,\n",
       "       -7.67959909e-02, -7.49579938e-01,  0.00000000e+00, -1.93687603e+00,\n",
       "        0.00000000e+00,  0.00000000e+00,  0.00000000e+00,  0.00000000e+00,\n",
       "        0.00000000e+00,  0.00000000e+00,  0.00000000e+00, -1.60952656e+00,\n",
       "        0.00000000e+00,  0.00000000e+00,  0.00000000e+00,  1.24457938e+00,\n",
       "       -1.23104711e+00,  0.00000000e+00,  0.00000000e+00,  1.67031733e+00,\n",
       "        0.00000000e+00, -1.90303875e+00,  0.00000000e+00,  0.00000000e+00,\n",
       "        0.00000000e+00,  0.00000000e+00,  1.65558688e+00,  0.00000000e+00,\n",
       "        0.00000000e+00, -4.84231148e-01, -5.58237583e-01,  7.67703547e-01,\n",
       "        0.00000000e+00,  0.00000000e+00,  0.00000000e+00,  0.00000000e+00,\n",
       "        2.76045326e-01, -1.12103415e+00,  8.93256497e-01, -9.08015926e-02,\n",
       "       -3.74651458e-01,  0.00000000e+00,  0.00000000e+00,  0.00000000e+00,\n",
       "       -1.06385878e-02,  7.46106405e-01,  0.00000000e+00,  0.00000000e+00,\n",
       "        0.00000000e+00,  7.45046057e-01,  0.00000000e+00,  0.00000000e+00,\n",
       "        1.66278884e+00,  0.00000000e+00,  1.82428623e+00,  0.00000000e+00,\n",
       "        1.60095462e+00,  0.00000000e+00,  0.00000000e+00,  0.00000000e+00,\n",
       "        8.19844483e-01,  1.27386597e+00,  0.00000000e+00, -3.35318818e-01,\n",
       "        0.00000000e+00,  0.00000000e+00,  1.08599208e+00,  0.00000000e+00,\n",
       "        0.00000000e+00, -1.18221717e+00,  0.00000000e+00,  5.63899792e-01,\n",
       "        8.83323586e-01, -1.90949788e+00,  1.94483676e-01,  0.00000000e+00,\n",
       "       -1.80106640e-01,  0.00000000e+00,  0.00000000e+00,  0.00000000e+00,\n",
       "        0.00000000e+00,  0.00000000e+00, -5.24525853e-01,  6.72782078e-01,\n",
       "        0.00000000e+00, -1.96197511e-01,  0.00000000e+00,  0.00000000e+00,\n",
       "        4.69427018e-01,  0.00000000e+00, -7.11144940e-01,  0.00000000e+00,\n",
       "        0.00000000e+00,  0.00000000e+00,  1.12133291e+00, -1.05835789e+00,\n",
       "       -3.65306705e-01,  0.00000000e+00,  7.14295287e-01,  0.00000000e+00,\n",
       "        6.66374144e-01, -4.03966467e-01,  0.00000000e+00,  0.00000000e+00,\n",
       "        0.00000000e+00,  0.00000000e+00,  0.00000000e+00, -7.59887640e-02,\n",
       "        0.00000000e+00,  3.17648205e-01,  0.00000000e+00, -7.52375878e-01,\n",
       "        1.22127511e+00,  0.00000000e+00,  0.00000000e+00,  0.00000000e+00,\n",
       "        0.00000000e+00,  2.83036988e-01,  0.00000000e+00,  0.00000000e+00,\n",
       "       -5.06215029e-01,  7.14448208e-01,  1.25933035e+00,  0.00000000e+00,\n",
       "        0.00000000e+00, -4.86059921e-02,  0.00000000e+00,  1.50383991e+00,\n",
       "       -1.28490979e-01, -9.33500743e-01, -9.95506537e-01,  1.29133367e+00,\n",
       "        0.00000000e+00,  0.00000000e+00,  0.00000000e+00,  0.00000000e+00,\n",
       "       -1.46507099e-01,  0.00000000e+00,  0.00000000e+00,  0.00000000e+00,\n",
       "        0.00000000e+00, -4.46821626e-01, -8.98093611e-01,  6.79221494e-01,\n",
       "        0.00000000e+00,  0.00000000e+00,  1.52522628e-01,  0.00000000e+00])"
      ]
     },
     "execution_count": 60,
     "metadata": {},
     "output_type": "execute_result"
    }
   ],
   "source": [
    "B_strat"
   ]
  },
  {
   "cell_type": "code",
   "execution_count": 115,
   "metadata": {},
   "outputs": [
    {
     "data": {
      "text/plain": [
       "<matplotlib.collections.PathCollection at 0x7f5af95e59e8>"
      ]
     },
     "execution_count": 115,
     "metadata": {},
     "output_type": "execute_result"
    },
    {
     "data": {
      "image/png": "[encoded data removed]",
      "text/plain": [
       "<Figure size 432x288 with 1 Axes>"
      ]
     },
     "metadata": {
      "needs_background": "light"
     },
     "output_type": "display_data"
    }
   ],
   "source": [
    "plt.scatter(A,B_strat)\n",
    "plt.scatter(A_test,y_ones[:,1])\n",
    "plt.scatter(A_test,y_zeros[:,1])"
   ]
  },
  {
   "cell_type": "code",
   "execution_count": 44,
   "metadata": {},
   "outputs": [],
   "source": []
  },
  {
   "cell_type": "code",
   "execution_count": 45,
   "metadata": {},
   "outputs": [],
   "source": [
    "with open('CITnot_CausalNLMR.pkl', 'rb') as f:\n",
    "    causalnlmr = pickle.load(f)"
   ]
  },
  {
   "cell_type": "code",
   "execution_count": 116,
   "metadata": {},
   "outputs": [],
   "source": [
    "with open('CITCausal_notNLMR.pkl', 'rb') as f:\n",
    "    causalcit = pickle.load(f)"
   ]
  },
  {
   "cell_type": "code",
   "execution_count": 46,
   "metadata": {},
   "outputs": [
    {
     "data": {
      "text/plain": [
       "[3,\n",
       " 4,\n",
       " 5,\n",
       " 16,\n",
       " 17,\n",
       " 18,\n",
       " 23,\n",
       " 25,\n",
       " 26,\n",
       " 29,\n",
       " 45,\n",
       " 46,\n",
       " 47,\n",
       " 48,\n",
       " 49,\n",
       " 57,\n",
       " 58,\n",
       " 59,\n",
       " 65,\n",
       " 68,\n",
       " 69,\n",
       " 77,\n",
       " 79,\n",
       " 89]"
      ]
     },
     "execution_count": 46,
     "metadata": {},
     "output_type": "execute_result"
    }
   ],
   "source": [
    "causalnlmr"
   ]
  },
  {
   "cell_type": "code",
   "execution_count": 117,
   "metadata": {},
   "outputs": [
    {
     "data": {
      "text/plain": [
       "<Figure size 432x288 with 0 Axes>"
      ]
     },
     "metadata": {},
     "output_type": "display_data"
    }
   ],
   "source": [
    "newpath = '/data/users/cs20s037/CITNonLinear/conclude/newmethod/diff_varplots/'+'CITCausalnotNLMR' \n",
    "if not os.path.exists(newpath):\n",
    "    os.makedirs(newpath)\n",
    "for i in causalcit:\n",
    "    A=np.array(dataset_linear[i][1])\n",
    "    B=np.array(dataset_linear[i][2])\n",
    "    L=np.array(dataset_linear[i][0])\n",
    "    newpath = '/data/users/cs20s037/CITNonLinear/conclude/newmethod/diff_varplots/CITCausalnotNLMR/'+str(i) \n",
    "    if not os.path.exists(newpath):\n",
    "        os.makedirs(newpath)\n",
    "    A_test,y_pred_ones,y_pred_zeros=compute_third_testloss(L,A,B)\n",
    "\n",
    "    plt.scatter(A,B,label=\"original\")\n",
    "    plt.title(\"Original data\"+\"loss=\"+str(round(sum(abs(y_pred_zeros[:,1]-y_pred_ones[:,1]))/1000,4)))\n",
    "    plt.xlabel(\"A\")\n",
    "    plt.ylabel(\"B\")\n",
    "    plt.scatter(A_test,y_pred_ones[:,1],label=\"L=1\")\n",
    "    plt.scatter(A_test,y_pred_zeros[:,1],label=\"L=0\")\n",
    "    plt.legend()\n",
    "    plt.savefig(\"/data/users/cs20s037/CITNonLinear/conclude/newmethod/diff_varplots/CITCausalnotNLMR/\"+str(i)+\"/\"+\"original.jpg\",bbox_inches='tight')\n",
    "    plt.clf()\n",
    "    B_strat=stratifydata(L,B)\n",
    "    A_test,y_ones,y_zeros=compute_third_testloss(L,A,B_strat)\n",
    "    plt.title(\"Stratified data\"+\"loss=\"+str(round(sum(abs(y_zeros[:,1]-y_ones[:,1]))/1000,4)))\n",
    "    plt.scatter(A,B_strat,label=\"stratified\")\n",
    "    plt.scatter(A_test,y_ones[:,1],label=\"L=1\")\n",
    "    plt.scatter(A_test,y_zeros[:,1],label=\"L=0\")\n",
    "    plt.xlabel(\"A\")\n",
    "    plt.ylabel(\"B\")\n",
    "    plt.legend()\n",
    "    plt.savefig(\"/data/users/cs20s037/CITNonLinear/conclude/newmethod/diff_varplots/CITCausalnotNLMR/\"+str(i)+\"/\"+\"stratified.jpg\",bbox_inches='tight')\n",
    "    plt.clf()\n",
    "\n"
   ]
  },
  {
   "cell_type": "code",
   "execution_count": 44,
   "metadata": {},
   "outputs": [
    {
     "data": {
      "text/plain": [
       "<keras.callbacks.History at 0x7f023415b940>"
      ]
     },
     "execution_count": 44,
     "metadata": {},
     "output_type": "execute_result"
    }
   ],
   "source": [
    "opt = tf.optimizers.Adam(1e-2)\n",
    "mdn_PQ = MDN_module()\n",
    "mdn_PQ.compile(loss=gnll_loss, optimizer=opt)\n",
    "##changing epochs didnt make much difference\n",
    "mdn_PQ.fit(x=np.concatenate([L.reshape(-1,1),A.reshape(-1,1)],axis=1),y=np.array(B_strat).T,epochs=300,batch_size=64,verbose=0)"
   ]
  },
  {
   "cell_type": "code",
   "execution_count": 97,
   "metadata": {},
   "outputs": [
    {
     "data": {
      "text/plain": [
       "<matplotlib.collections.PathCollection at 0x7fdc7c0e4198>"
      ]
     },
     "execution_count": 97,
     "metadata": {},
     "output_type": "execute_result"
    },
    {
     "data": {
      "image/png": "[encoded data removed]",
      "text/plain": [
       "<Figure size 432x288 with 1 Axes>"
      ]
     },
     "metadata": {
      "needs_background": "light"
     },
     "output_type": "display_data"
    }
   ],
   "source": [
    "plt.scatter(A,B_strat)\n",
    "y_pred=mdn_PQ.predict(np.concatenate([L_ones.reshape(-1,1),A.reshape(-1,1)],axis=1))\n",
    "L_ones=np.ones((L.shape))\n",
    "L_zeros=np.zeros((L.shape))\n",
    "A_test=np.linspace(min(A),max(A),1000)\n",
    "y_pred_ones= mdn_PQ.predict(np.concatenate([L_ones.reshape(-1,1),A_test.reshape(-1,1)],axis=1))\n",
    "y_pred_zeros= mdn_PQ.predict(np.concatenate([L_zeros.reshape(-1,1),A_test.reshape(-1,1)],axis=1))\n",
    "plt.scatter(A_test,y_pred_ones[:,1])\n",
    "plt.scatter(A_test,y_pred_zeros[:,1])"
   ]
  },
  {
   "cell_type": "code",
   "execution_count": 76,
   "metadata": {},
   "outputs": [
    {
     "data": {
      "text/plain": [
       "<matplotlib.collections.PathCollection at 0x7fdc7c699748>"
      ]
     },
     "execution_count": 76,
     "metadata": {},
     "output_type": "execute_result"
    },
    {
     "data": {
      "image/png": "[encoded data removed]",
      "text/plain": [
       "<Figure size 432x288 with 1 Axes>"
      ]
     },
     "metadata": {
      "needs_background": "light"
     },
     "output_type": "display_data"
    }
   ],
   "source": [
    "plt.scatter(A,B_strat)\n",
    "plt.scatter(A_test,y_pred_ones[:,1])\n",
    "plt.scatter(A_test,y_pred_zeros[:,1])"
   ]
  },
  {
   "cell_type": "code",
   "execution_count": 71,
   "metadata": {},
   "outputs": [
    {
     "data": {
      "text/plain": [
       "<matplotlib.collections.PathCollection at 0x7f8628404be0>"
      ]
     },
     "execution_count": 71,
     "metadata": {},
     "output_type": "execute_result"
    },
    {
     "data": {
      "image/png": "[encoded data removed]",
      "text/plain": [
       "<Figure size 432x288 with 1 Axes>"
      ]
     },
     "metadata": {
      "needs_background": "light"
     },
     "output_type": "display_data"
    }
   ],
   "source": [
    "plt.scatter(A,stratifydata(L,B))"
   ]
  },
  {
   "cell_type": "code",
   "execution_count": 63,
   "metadata": {},
   "outputs": [],
   "source": [
    "def stratify_B_n_times_diff(L,A,B,n):\n",
    "    loss=[]\n",
    "    indices_1 = [i for i, x in enumerate(L) if x == 1]\n",
    "    #changin x==0 to x=-1\n",
    "    indices_0 = [i for i, x in enumerate(L) if x == -1]\n",
    "    for i in range(0,n):\n",
    "        B_dist_temp=np.zeros(len(B))\n",
    "        mod_indices_1=random.sample(indices_1,len(indices_1))\n",
    "        for i in range(len(indices_1)):\n",
    "            B_dist_temp[indices_1[i]]=B[mod_indices_1[i]]\n",
    "\n",
    "        mod_indices_0=random.sample(indices_0,len(indices_0))\n",
    "        for i in range(len(indices_0)):\n",
    "            B_dist_temp[indices_0[i]]=B[mod_indices_0[i]]\n",
    "        _,y_pred_ones,y_pred_zeros=compute_third_testloss(L,A,B_dist_temp)\n",
    "        \n",
    "        loss.append(abs(sum(y_pred_zeros[:,1]-y_pred_ones[:,1])/1000))\n",
    "    return loss"
   ]
  },
  {
   "cell_type": "code",
   "execution_count": 100,
   "metadata": {},
   "outputs": [],
   "source": [
    "L = np.array(np.random.binomial(1,0.5,1000))  \n",
    "A=np.array(6*L+np.random.normal(0,1,1000))\n",
    "B=np.array(2*A+np.random.normal(0,1,1000))"
   ]
  },
  {
   "cell_type": "code",
   "execution_count": 14,
   "metadata": {},
   "outputs": [
    {
     "data": {
      "text/plain": [
       "<matplotlib.collections.PathCollection at 0x7f0266087e10>"
      ]
     },
     "execution_count": 14,
     "metadata": {},
     "output_type": "execute_result"
    },
    {
     "data": {
      "image/png": "[encoded data removed]",
      "text/plain": [
       "<Figure size 432x288 with 1 Axes>"
      ]
     },
     "metadata": {
      "needs_background": "light"
     },
     "output_type": "display_data"
    }
   ],
   "source": [
    "plt.scatter(A,B)"
   ]
  },
  {
   "cell_type": "code",
   "execution_count": 13,
   "metadata": {},
   "outputs": [],
   "source": [
    "i=110\n",
    "A=np.array(dataset_linear[i][1])\n",
    "B=np.array(dataset_linear[i][2])\n",
    "L=np.array(dataset_linear[i][0])"
   ]
  },
  {
   "cell_type": "code",
   "execution_count": 134,
   "metadata": {},
   "outputs": [
    {
     "data": {
      "text/plain": [
       "<matplotlib.collections.PathCollection at 0x7fdc5c094278>"
      ]
     },
     "execution_count": 134,
     "metadata": {},
     "output_type": "execute_result"
    },
    {
     "data": {
      "image/png": "[encoded data removed]",
      "text/plain": [
       "<Figure size 432x288 with 1 Axes>"
      ]
     },
     "metadata": {
      "needs_background": "light"
     },
     "output_type": "display_data"
    }
   ],
   "source": [
    "plt.scatter(A,B)"
   ]
  },
  {
   "cell_type": "code",
   "execution_count": 32,
   "metadata": {},
   "outputs": [],
   "source": [
    "i=5\n",
    "#A=np.array(dataset_linear[i][1])\n",
    "#B=np.array(dataset_linear[i][2])\n",
    "#L=np.array(dataset_linear[i][0])\n",
    "shuffles=10\n",
    "A_shuffle=np.copy(A)\n",
    "B_shuffle=np.copy(B)\n",
    "#print(\"Original\",B_shuffle)\n",
    "#changed the second test from mle to using neural networks\n",
    "loss_list_LA=shuffleBtimes(L,A_shuffle,shuffles,True)\n",
    "loss_list_LB=shuffleBtimes(L,B_shuffle,shuffles,True)\n",
    "loss_list_Bresidual=stratify_B_n_times_diff(L,A_shuffle,B_shuffle,shuffles) #conditional independence test\n",
    "true_LA=compute_loss(L,A,True)\n",
    "true_LB=compute_loss(L,B,True)\n",
    "_,y_pred_ones,y_pred_zeros=compute_third_testloss(L,A,B)\n",
    "true_LBresidual=abs(sum(y_pred_zeros[:,1]-y_pred_ones[:,1])/1000)\n",
    "LA_p=calculate_pvalue(true_LA,loss_list_LA)\n",
    "LB_p=calculate_pvalue(true_LB,loss_list_LB)\n",
    "AB_p=calculate_pvalue(true_LBresidual,loss_list_Bresidual)"
   ]
  },
  {
   "cell_type": "code",
   "execution_count": 34,
   "metadata": {},
   "outputs": [
    {
     "data": {
      "text/plain": [
       "9.177021522045136"
      ]
     },
     "execution_count": 34,
     "metadata": {},
     "output_type": "execute_result"
    }
   ],
   "source": [
    "true_LBresidual"
   ]
  },
  {
   "cell_type": "code",
   "execution_count": 35,
   "metadata": {},
   "outputs": [
    {
     "data": {
      "text/plain": [
       "[27.315160545349123,\n",
       " 25.23043583202362,\n",
       " 26.51193893432617,\n",
       " 31.084834995269777,\n",
       " 24.735669242858886,\n",
       " 24.828632135391235,\n",
       " 26.917653924942016,\n",
       " 26.74363402366638,\n",
       " 32.6453184261322,\n",
       " 26.618538155555726]"
      ]
     },
     "execution_count": 35,
     "metadata": {},
     "output_type": "execute_result"
    }
   ],
   "source": [
    "loss_list_Bresidual"
   ]
  },
  {
   "cell_type": "code",
   "execution_count": 33,
   "metadata": {},
   "outputs": [
    {
     "data": {
      "text/plain": [
       "0.0"
      ]
     },
     "execution_count": 33,
     "metadata": {},
     "output_type": "execute_result"
    }
   ],
   "source": [
    "AB_p"
   ]
  }
 ],
 "metadata": {
  "kernelspec": {
   "display_name": "Python 3.7.3 ('base')",
   "language": "python",
   "name": "python3"
  },
  "language_info": {
   "codemirror_mode": {
    "name": "ipython",
    "version": 3
   },
   "file_extension": ".py",
   "mimetype": "text/x-python",
   "name": "python",
   "nbconvert_exporter": "python",
   "pygments_lexer": "ipython3",
   "version": "3.7.3"
  },
  "orig_nbformat": 4,
  "vscode": {
   "interpreter": {
    "hash": "40d3a090f54c6569ab1632332b64b2c03c39dcf918b08424e98f38b5ae0af88f"
   }
  }
 },
 "nbformat": 4,
 "nbformat_minor": 2
}
